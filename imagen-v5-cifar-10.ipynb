{
 "cells": [
  {
   "cell_type": "markdown",
   "id": "63779471",
   "metadata": {
    "id": "8HWT6O_nyDXf",
    "papermill": {
     "duration": 0.006244,
     "end_time": "2023-05-27T06:43:02.141564",
     "exception": false,
     "start_time": "2023-05-27T06:43:02.135320",
     "status": "completed"
    },
    "tags": []
   },
   "source": [
    "## Imports"
   ]
  },
  {
   "cell_type": "code",
   "execution_count": 1,
   "id": "365df7b2",
   "metadata": {
    "execution": {
     "iopub.execute_input": "2023-05-27T06:43:02.154668Z",
     "iopub.status.busy": "2023-05-27T06:43:02.153759Z",
     "iopub.status.idle": "2023-05-27T06:43:02.158928Z",
     "shell.execute_reply": "2023-05-27T06:43:02.158076Z"
    },
    "id": "M-etnuVJ0ALk",
    "papermill": {
     "duration": 0.015327,
     "end_time": "2023-05-27T06:43:02.162510",
     "exception": false,
     "start_time": "2023-05-27T06:43:02.147183",
     "status": "completed"
    },
    "tags": []
   },
   "outputs": [],
   "source": [
    "# !pip install kaggle"
   ]
  },
  {
   "cell_type": "code",
   "execution_count": 2,
   "id": "9f87b564",
   "metadata": {
    "execution": {
     "iopub.execute_input": "2023-05-27T06:43:02.175270Z",
     "iopub.status.busy": "2023-05-27T06:43:02.174515Z",
     "iopub.status.idle": "2023-05-27T06:43:02.178456Z",
     "shell.execute_reply": "2023-05-27T06:43:02.177664Z"
    },
    "id": "aHRjj8e7dq-4",
    "papermill": {
     "duration": 0.012269,
     "end_time": "2023-05-27T06:43:02.180385",
     "exception": false,
     "start_time": "2023-05-27T06:43:02.168116",
     "status": "completed"
    },
    "tags": []
   },
   "outputs": [],
   "source": [
    "# from google.colab import files\n",
    "# files.upload()"
   ]
  },
  {
   "cell_type": "code",
   "execution_count": 3,
   "id": "c1916881",
   "metadata": {
    "execution": {
     "iopub.execute_input": "2023-05-27T06:43:02.192568Z",
     "iopub.status.busy": "2023-05-27T06:43:02.191817Z",
     "iopub.status.idle": "2023-05-27T06:43:02.195755Z",
     "shell.execute_reply": "2023-05-27T06:43:02.194960Z"
    },
    "id": "K8EsqExv0DnY",
    "papermill": {
     "duration": 0.011922,
     "end_time": "2023-05-27T06:43:02.197577",
     "exception": false,
     "start_time": "2023-05-27T06:43:02.185655",
     "status": "completed"
    },
    "tags": []
   },
   "outputs": [],
   "source": [
    "# !mkdir ~/.kaggle\n",
    "# !cp kaggle.json ~/.kaggle/\n",
    "# !chmod 600 ~/.kaggle/kaggle.json"
   ]
  },
  {
   "cell_type": "code",
   "execution_count": 4,
   "id": "3002c69b",
   "metadata": {
    "execution": {
     "iopub.execute_input": "2023-05-27T06:43:02.209920Z",
     "iopub.status.busy": "2023-05-27T06:43:02.209188Z",
     "iopub.status.idle": "2023-05-27T06:43:02.213339Z",
     "shell.execute_reply": "2023-05-27T06:43:02.212521Z"
    },
    "id": "yDC2td0a0FVt",
    "papermill": {
     "duration": 0.012214,
     "end_time": "2023-05-27T06:43:02.215290",
     "exception": false,
     "start_time": "2023-05-27T06:43:02.203076",
     "status": "completed"
    },
    "tags": []
   },
   "outputs": [],
   "source": [
    "  # !kaggle datasets download -d mihailchirobocea/ffhq-64-train-50k"
   ]
  },
  {
   "cell_type": "code",
   "execution_count": 5,
   "id": "45769feb",
   "metadata": {
    "execution": {
     "iopub.execute_input": "2023-05-27T06:43:02.228503Z",
     "iopub.status.busy": "2023-05-27T06:43:02.227013Z",
     "iopub.status.idle": "2023-05-27T06:43:02.231370Z",
     "shell.execute_reply": "2023-05-27T06:43:02.230578Z"
    },
    "id": "B9vBIqes0GxC",
    "papermill": {
     "duration": 0.012735,
     "end_time": "2023-05-27T06:43:02.233260",
     "exception": false,
     "start_time": "2023-05-27T06:43:02.220525",
     "status": "completed"
    },
    "tags": []
   },
   "outputs": [],
   "source": [
    "# !unzip /content/ffhq-64-train-50k.zip"
   ]
  },
  {
   "cell_type": "code",
   "execution_count": 6,
   "id": "69c79fda",
   "metadata": {
    "execution": {
     "iopub.execute_input": "2023-05-27T06:43:02.245456Z",
     "iopub.status.busy": "2023-05-27T06:43:02.244774Z",
     "iopub.status.idle": "2023-05-27T06:43:06.004279Z",
     "shell.execute_reply": "2023-05-27T06:43:06.002961Z"
    },
    "id": "Vu19zKKUyDXh",
    "papermill": {
     "duration": 3.768057,
     "end_time": "2023-05-27T06:43:06.006782",
     "exception": false,
     "start_time": "2023-05-27T06:43:02.238725",
     "status": "completed"
    },
    "tags": []
   },
   "outputs": [],
   "source": [
    "import torch\n",
    "import torch.nn as nn\n",
    "import torch.nn.functional as F\n",
    "import torchvision\n",
    "from torchvision import transforms \n",
    "from torch.utils.data import DataLoader\n",
    "from torch import optim\n",
    "from torch.cuda.amp import autocast, GradScaler\n",
    "import copy\n",
    "import numpy as np\n",
    "import math\n",
    "from PIL import Image\n",
    "from matplotlib import pyplot as plt\n",
    "from tqdm.notebook import tqdm\n",
    "import os\n",
    "\n",
    "try:\n",
    "    import cPickle as pickle\n",
    "except ModuleNotFoundError:\n",
    "    import pickle"
   ]
  },
  {
   "cell_type": "markdown",
   "id": "fe0b7297",
   "metadata": {
    "id": "pSawGh1wyDXi",
    "papermill": {
     "duration": 0.005527,
     "end_time": "2023-05-27T06:43:06.018024",
     "exception": false,
     "start_time": "2023-05-27T06:43:06.012497",
     "status": "completed"
    },
    "tags": []
   },
   "source": [
    "## Utils"
   ]
  },
  {
   "cell_type": "code",
   "execution_count": 7,
   "id": "4410be07",
   "metadata": {
    "execution": {
     "iopub.execute_input": "2023-05-27T06:43:06.031925Z",
     "iopub.status.busy": "2023-05-27T06:43:06.030720Z",
     "iopub.status.idle": "2023-05-27T06:43:06.040374Z",
     "shell.execute_reply": "2023-05-27T06:43:06.039475Z"
    },
    "id": "jpa4t4wCyDXi",
    "papermill": {
     "duration": 0.018583,
     "end_time": "2023-05-27T06:43:06.042460",
     "exception": false,
     "start_time": "2023-05-27T06:43:06.023877",
     "status": "completed"
    },
    "tags": []
   },
   "outputs": [],
   "source": [
    "def plot_images(images):\n",
    "    plt.figure(figsize=(4, 4))\n",
    "    plt.imshow(torch.cat([torch.cat([i for i in images.cpu()], dim=-1),], dim=-2).permute(1, 2, 0).cpu())\n",
    "    plt.show()\n",
    "\n",
    "\n",
    "def save_images(images, path, **kwargs):\n",
    "    grid = torchvision.utils.make_grid(images, **kwargs)\n",
    "    ndarr = grid.permute(1, 2, 0).to('cpu').numpy()\n",
    "    im = Image.fromarray(ndarr)\n",
    "    im.save(path)\n",
    "\n",
    "\n",
    "def get_data(args):\n",
    "    \n",
    "    transform = transforms.Compose([\n",
    "        # transforms.Lambda(lambda img: transforms.Resize(args.image_size)(img) if min(img.size) < args.image_size \n",
    "        #                   else (transforms.Resize(2*args.image_size)(img) if max(img.size) >= 2*args.image_size else img)),\n",
    "        # transforms.RandomCrop(args.image_size),\n",
    "        transforms.RandomHorizontalFlip(0.5),\n",
    "        # transforms.RandomVerticalFlip(0.5),\n",
    "        transforms.ToTensor(),\n",
    "        transforms.Normalize(mean = (0.5, 0.5, 0.5), std = (0.5, 0.5, 0.5))\n",
    "    ])\n",
    "    dataset = torchvision.datasets.ImageFolder(args.dataset_path, transform=transform)\n",
    "    dataloader = DataLoader(dataset, batch_size=args.batch_size, shuffle=True)\n",
    "    return dataloader"
   ]
  },
  {
   "cell_type": "markdown",
   "id": "90a02c17",
   "metadata": {
    "id": "fXDOUoJtz4EH",
    "papermill": {
     "duration": 0.005129,
     "end_time": "2023-05-27T06:43:06.052890",
     "exception": false,
     "start_time": "2023-05-27T06:43:06.047761",
     "status": "completed"
    },
    "tags": []
   },
   "source": [
    "## Learning Rate Schduler"
   ]
  },
  {
   "cell_type": "code",
   "execution_count": 8,
   "id": "a0563a42",
   "metadata": {
    "execution": {
     "iopub.execute_input": "2023-05-27T06:43:06.065924Z",
     "iopub.status.busy": "2023-05-27T06:43:06.065560Z",
     "iopub.status.idle": "2023-05-27T06:43:06.083450Z",
     "shell.execute_reply": "2023-05-27T06:43:06.082572Z"
    },
    "id": "hhWNjbaVz4EI",
    "papermill": {
     "duration": 0.026776,
     "end_time": "2023-05-27T06:43:06.085477",
     "exception": false,
     "start_time": "2023-05-27T06:43:06.058701",
     "status": "completed"
    },
    "tags": []
   },
   "outputs": [],
   "source": [
    "from math import cos, pi, floor, sin\n",
    "\n",
    "from torch.optim import lr_scheduler\n",
    "\n",
    "def anneal_linear(start, end, proportion):\n",
    "    return start + proportion * (end - start)\n",
    "\n",
    "\n",
    "def anneal_cos(start, end, proportion):\n",
    "    cos_val = cos(pi * proportion) + 1\n",
    "\n",
    "    return end + (start - end) / 2 * cos_val\n",
    "\n",
    "\n",
    "class Phase:\n",
    "    def __init__(self, start, end, n_iter, anneal_fn):\n",
    "        self.start, self.end = start, end\n",
    "        self.n_iter = n_iter\n",
    "        self.anneal_fn = anneal_fn\n",
    "        self.n = 0\n",
    "\n",
    "    def step(self):\n",
    "        self.n += 1\n",
    "\n",
    "        return self.anneal_fn(self.start, self.end, self.n / self.n_iter)\n",
    "\n",
    "    def reset(self):\n",
    "        self.n = 0\n",
    "\n",
    "    @property\n",
    "    def is_done(self):\n",
    "        return self.n >= self.n_iter\n",
    "\n",
    "\n",
    "class CycleScheduler:\n",
    "    def __init__(\n",
    "        self,\n",
    "        optimizer,\n",
    "        lr_max,\n",
    "        n_iter,\n",
    "        momentum=(0.95, 0.85),\n",
    "        divider=25,\n",
    "        warmup_proportion=0.1,\n",
    "        phase=('linear', 'cos'),\n",
    "    ):\n",
    "        self.optimizer = optimizer\n",
    "\n",
    "        phase1 = int(n_iter * warmup_proportion)\n",
    "        phase2 = n_iter - phase1\n",
    "        lr_min = lr_max / divider\n",
    "\n",
    "        phase_map = {'linear': anneal_linear, 'cos': anneal_cos}\n",
    "\n",
    "        self.lr_phase = [\n",
    "            Phase(lr_min, lr_max, phase1, phase_map[phase[0]]),\n",
    "            Phase(lr_max, lr_min / 1e4, phase2, phase_map[phase[1]]),\n",
    "        ]\n",
    "\n",
    "        self.momentum = momentum\n",
    "\n",
    "        if momentum is not None:\n",
    "            mom1, mom2 = momentum\n",
    "            self.momentum_phase = [\n",
    "                Phase(mom1, mom2, phase1, phase_map[phase[0]]),\n",
    "                Phase(mom2, mom1, phase2, phase_map[phase[1]]),\n",
    "            ]\n",
    "\n",
    "        else:\n",
    "            self.momentum_phase = []\n",
    "\n",
    "        self.phase = 0\n",
    "\n",
    "    def step(self):\n",
    "        lr = self.lr_phase[self.phase].step()\n",
    "\n",
    "        if self.momentum is not None:\n",
    "            momentum = self.momentum_phase[self.phase].step()\n",
    "\n",
    "        else:\n",
    "            momentum = None\n",
    "\n",
    "        for group in self.optimizer.param_groups:\n",
    "            group['lr'] = lr\n",
    "\n",
    "            if self.momentum is not None:\n",
    "                if 'betas' in group:\n",
    "                    group['betas'] = (momentum, group['betas'][1])\n",
    "\n",
    "                else:\n",
    "                    group['momentum'] = momentum\n",
    "\n",
    "        if self.lr_phase[self.phase].is_done:\n",
    "            self.phase += 1\n",
    "\n",
    "        if self.phase >= len(self.lr_phase):\n",
    "            for phase in self.lr_phase:\n",
    "                phase.reset()\n",
    "\n",
    "            for phase in self.momentum_phase:\n",
    "                phase.reset()\n",
    "\n",
    "            self.phase = 0\n",
    "\n",
    "        return lr, momentum"
   ]
  },
  {
   "cell_type": "markdown",
   "id": "86d01692",
   "metadata": {
    "id": "A8cklcEmyDXj",
    "papermill": {
     "duration": 0.005386,
     "end_time": "2023-05-27T06:43:06.096501",
     "exception": false,
     "start_time": "2023-05-27T06:43:06.091115",
     "status": "completed"
    },
    "tags": []
   },
   "source": [
    "## Modules"
   ]
  },
  {
   "cell_type": "code",
   "execution_count": 9,
   "id": "32d9c290",
   "metadata": {
    "execution": {
     "iopub.execute_input": "2023-05-27T06:43:06.109504Z",
     "iopub.status.busy": "2023-05-27T06:43:06.108889Z",
     "iopub.status.idle": "2023-05-27T06:43:06.158402Z",
     "shell.execute_reply": "2023-05-27T06:43:06.157629Z"
    },
    "id": "tj5KIsCfyDXj",
    "papermill": {
     "duration": 0.058238,
     "end_time": "2023-05-27T06:43:06.160406",
     "exception": false,
     "start_time": "2023-05-27T06:43:06.102168",
     "status": "completed"
    },
    "tags": []
   },
   "outputs": [],
   "source": [
    "class EMA():\n",
    "    def __init__(self, beta, step = 0):\n",
    "        super().__init__()\n",
    "        self.beta = beta\n",
    "        self.step = step\n",
    "\n",
    "    def update_model_average(self, ema_model, current_model):\n",
    "        for current_params, ema_params in zip(current_model.parameters(), ema_model.parameters()):\n",
    "            old_weight, up_weight = ema_params.data, current_params.data\n",
    "            ema_params.data = self.update_average(old_weight, up_weight)\n",
    "\n",
    "    def update_average(self, old, new):\n",
    "        if old is None:\n",
    "            return new\n",
    "        return old * self.beta + (1 - self.beta) * new\n",
    "\n",
    "    def step_ema(self, ema_model, model, step_start_ema=2000):\n",
    "        if self.step < step_start_ema:\n",
    "            self.reset_parameters(ema_model, model)\n",
    "            self.step += 1\n",
    "            return\n",
    "        self.update_model_average(ema_model, model)\n",
    "        self.step += 1\n",
    "\n",
    "    def reset_parameters(self, ema_model, model):\n",
    "        ema_model.load_state_dict(model.state_dict())\n",
    "        \n",
    "        \n",
    "\n",
    "class HeadAttention(nn.Module):\n",
    "    def __init__(self, channels):\n",
    "        super(HeadAttention, self).__init__()\n",
    "        self.channels = channels\n",
    "\n",
    "        self.mha = nn.MultiheadAttention(channels, 4, batch_first=True)\n",
    "        self.ln = nn.LayerNorm([channels])\n",
    "        self.ff_self = nn.Sequential(\n",
    "            nn.LayerNorm([channels]),\n",
    "            nn.Linear(channels, channels),\n",
    "            nn.GELU(),\n",
    "            nn.Linear(channels, channels),\n",
    "        )\n",
    "\n",
    "    def forward(self, x):\n",
    "        h, w = x.shape[-2:]\n",
    "        x = x.view(-1, self.channels, h * w).swapaxes(1, 2)\n",
    "        x_ln = self.ln(x)\n",
    "        attention_value, _ = self.mha(x_ln, x_ln, x_ln)\n",
    "        attention_value = attention_value + x\n",
    "        attention_value = self.ff_self(attention_value) + attention_value\n",
    "        return attention_value.swapaxes(2, 1).view(-1, self.channels, h, w)\n",
    "    \n",
    "\n",
    "\n",
    "class SkipAttention(nn.Module):\n",
    "    def __init__(self, f_in_g, f_in_x, f_out):\n",
    "        super().__init__()\n",
    "        \n",
    "        self.w_g = nn.Sequential(\n",
    "            nn.Conv2d(f_in_g, f_out, kernel_size = 1, stride = 1, padding = 0),\n",
    "            nn.BatchNorm2d(f_out)\n",
    "        )\n",
    "        \n",
    "        self.w_x = nn.Sequential(\n",
    "            nn.Conv2d(f_in_x, f_out, kernel_size = 1, stride = 1, padding = 0),\n",
    "            nn.BatchNorm2d(f_out)\n",
    "        )\n",
    "\n",
    "        # self.g_up = nn.ConvTranspose2d(f_out, f_out, 4, stride=2, padding=1)\n",
    "\n",
    "        self.relu = nn.ReLU(inplace=True)\n",
    "        \n",
    "        self.psi = nn.Sequential(\n",
    "            nn.Conv2d(f_out, 1, kernel_size = 1, stride = 1, padding = 0),\n",
    "            nn.BatchNorm2d(1),\n",
    "            nn.Sigmoid()\n",
    "        )\n",
    "         \n",
    "    def forward(self, g, x):\n",
    "        g1 = self.w_g(g)\n",
    "        x1 = self.w_x(x)\n",
    "        # g1 = self.g_up(g1)\n",
    "        psi = self.relu(g1+x1)\n",
    "        psi = self.psi(psi)\n",
    "        return psi*x\n",
    "    \n",
    "    \n",
    "    \n",
    "class DoubleConv(nn.Module):\n",
    "    def __init__(self, in_channels, out_channels, mid_channels=None, residual=False, emb_dim=512):\n",
    "        super().__init__()\n",
    "        self.residual = residual\n",
    "        if not mid_channels:\n",
    "            mid_channels = out_channels\n",
    "        self.double_conv = nn.Sequential(\n",
    "            nn.Conv2d(in_channels, mid_channels, kernel_size=3, padding=1, bias=False),\n",
    "            nn.GroupNorm(1, mid_channels),\n",
    "            nn.GELU(),\n",
    "            nn.Conv2d(mid_channels, out_channels, kernel_size=3, padding=1, bias=False),\n",
    "            nn.GroupNorm(1, out_channels),\n",
    "        )\n",
    "        \n",
    "        self.emb_layer = nn.Linear(emb_dim, out_channels)\n",
    "\n",
    "    def forward(self, x, t = None):\n",
    "        if self.residual:\n",
    "            x = F.gelu(x + self.double_conv(x))\n",
    "        else:\n",
    "            x = self.double_conv(x)\n",
    "        if t is not None:\n",
    "            emb = self.emb_layer(t)[:, :, None, None].repeat(1, 1, x.shape[-2], x.shape[-1])\n",
    "            x = x + emb\n",
    "        return x\n",
    "    \n",
    "        \n",
    "class Down(nn.Module):\n",
    "    def __init__(self, in_channels, out_channels, emb_dim=512):\n",
    "        super().__init__()\n",
    "\n",
    "        self.down = nn.Conv2d(in_channels, in_channels, 4, stride=2, padding=1)\n",
    "        \n",
    "        self.conv1 = DoubleConv(in_channels, in_channels, residual=True)\n",
    "        self.conv2 = DoubleConv(in_channels, out_channels)\n",
    "\n",
    "        self.emb_layer = nn.Linear(emb_dim, out_channels)\n",
    "\n",
    "        self.head_attention = HeadAttention(out_channels)\n",
    "\n",
    "    def forward(self, x, t):\n",
    "        x = self.down(x)\n",
    "        x = self.conv1(x)\n",
    "        x = self.conv2(x)\n",
    "        emb = self.emb_layer(t)[:, :, None, None].repeat(1, 1, x.shape[-2], x.shape[-1])\n",
    "        x = x + emb\n",
    "        x = self.head_attention(x)\n",
    "        return x\n",
    "\n",
    "\n",
    "class Up(nn.Module):\n",
    "    def __init__(self, in_channels, out_channels, gated_attention, emb_dim=512):\n",
    "        super().__init__()\n",
    "\n",
    "        self.gated_attention = gated_attention\n",
    "\n",
    "        self.attention = SkipAttention(in_channels // 2, in_channels // 2, in_channels // 2)\n",
    "\n",
    "        self.conv1 = DoubleConv(in_channels, in_channels, residual=True)\n",
    "        self.conv2 = DoubleConv(in_channels, out_channels)\n",
    "\n",
    "        self.up = nn.ConvTranspose2d(out_channels, out_channels, 4, stride=2, padding=1)\n",
    "\n",
    "        self.emb_layer = nn.Linear(emb_dim, out_channels)\n",
    "        \n",
    "        self.head_attention = HeadAttention(out_channels)\n",
    "        \n",
    "\n",
    "    def forward(self, x, skip_x, t):\n",
    "        \n",
    "        if self.gated_attention:\n",
    "            skip_x = self.attention(g=x, x=skip_x)\n",
    "        \n",
    "        x = torch.cat([skip_x, x], dim=1)\n",
    "        x = self.conv1(x)\n",
    "        x = self.conv2(x)\n",
    "        emb = self.emb_layer(t)[:, :, None, None].repeat(1, 1, x.shape[-2], x.shape[-1])\n",
    "        x = x + emb\n",
    "        x = self.head_attention(x)\n",
    "        x = self.up(x)\n",
    "        return x\n",
    "    \n",
    "    \n",
    "class In(nn.Module):\n",
    "    def __init__(self, out_channels, in_channels = 3, emb_dim=512):\n",
    "        super().__init__()\n",
    "        \n",
    "        self.conv1 = nn.Sequential(\n",
    "            nn.Conv2d(in_channels, out_channels, kernel_size=1, stride=1, padding=0, bias=False),\n",
    "            nn.GroupNorm(1, out_channels),\n",
    "            nn.GELU(),\n",
    "        )\n",
    "        self.conv2 = DoubleConv(out_channels, out_channels, residual = True)\n",
    "\n",
    "        self.emb_layer = nn.Linear(emb_dim, out_channels)\n",
    "\n",
    "    def forward(self, x, t):\n",
    "        x = self.conv1(x)\n",
    "        x = self.conv2(x)\n",
    "        emb = self.emb_layer(t)[:, :, None, None].repeat(1, 1, x.shape[-2], x.shape[-1])\n",
    "        x = x + emb\n",
    "        return x\n",
    "    \n",
    "    \n",
    "class Out(nn.Module):\n",
    "    def __init__(self, in_channels, gated_attention, out_channels = 3, emb_dim=512):\n",
    "        super().__init__()\n",
    "        \n",
    "        self.gated_attention = gated_attention\n",
    "\n",
    "        self.attention = SkipAttention(in_channels // 2, in_channels // 2, in_channels // 2)\n",
    "        \n",
    "        self.conv1 = nn.Sequential(\n",
    "            DoubleConv(in_channels, in_channels, residual = True),\n",
    "            nn.Conv2d(in_channels, out_channels, kernel_size=1, stride=1, padding=0, bias=True),\n",
    "        )\n",
    "\n",
    "    def forward(self, x, skip_x):\n",
    "        \n",
    "        if self.gated_attention:\n",
    "            skip_x = self.attention(g=x, x=skip_x)\n",
    "        \n",
    "        x = torch.cat([skip_x, x], dim=1)\n",
    "        x = self.conv1(x)\n",
    "        return x\n",
    "    \n",
    "    \n",
    "class UNet(nn.Module):\n",
    "    def __init__(self, device, gated_attention = False, c_in=3, c_out=3, time_dim=512):\n",
    "        super().__init__()\n",
    "\n",
    "        self.channels = [128 * k for k in range(1,5)]\n",
    "        self.device = device\n",
    "        self.time_dim = time_dim\n",
    "        # self.time_embed = nn.Sequential(\n",
    "        #     nn.Linear(time_dim, time_dim),\n",
    "        #     nn.GELU(),\n",
    "        #     nn.Linear(time_dim, time_dim),\n",
    "        #     nn.GELU(),\n",
    "        # )\n",
    "\n",
    "        self.inc = In(self.channels[0])\n",
    "        \n",
    "        self.down1 = Down(self.channels[0], self.channels[1])\n",
    "        self.down2 = Down(self.channels[1], self.channels[2])\n",
    "        self.down3 = Down(self.channels[2], self.channels[3])\n",
    "\n",
    "        self.bot1 = DoubleConv(self.channels[3], self.channels[3], residual = True)\n",
    "        self.bot2 = DoubleConv(self.channels[3], self.channels[3], residual = True)\n",
    "        self.bot3 = DoubleConv(self.channels[3], self.channels[3], residual = True)\n",
    "        self.bot4 = DoubleConv(self.channels[3], self.channels[3], residual = True)\n",
    "        self.bot5 = DoubleConv(self.channels[3], self.channels[3], residual = True)\n",
    "\n",
    "        self.up1 = Up(2*self.channels[3], self.channels[2], gated_attention)\n",
    "        self.up2 = Up(2*self.channels[2], self.channels[1], gated_attention)\n",
    "        self.up3 = Up(2*self.channels[1], self.channels[0], gated_attention)\n",
    "\n",
    "        self.outc = Out(2*self.channels[0], gated_attention)\n",
    "\n",
    "    def pos_encoding(self, t, channels):\n",
    "        inv_freq = 1.0 / (10000 ** (torch.arange(0, channels, 2, device=self.device).float() / channels))\n",
    "        pos_enc_a = torch.sin(t.repeat(1, channels // 2) * inv_freq)\n",
    "        pos_enc_b = torch.cos(t.repeat(1, channels // 2) * inv_freq)\n",
    "        pos_enc = torch.cat([pos_enc_a, pos_enc_b], dim=-1)\n",
    "        return pos_enc\n",
    "\n",
    "    def forward(self, x, t):\n",
    "        t = t.unsqueeze(-1).type(torch.float)\n",
    "        t = self.pos_encoding(t, self.time_dim)\n",
    "        # t = self.time_embed(t)\n",
    "\n",
    "        x1 = self.inc(x, t)\n",
    "        x2 = self.down1(x1, t)\n",
    "        x3 = self.down2(x2, t)\n",
    "        x4 = self.down3(x3, t)\n",
    "\n",
    "        x5 = self.bot1(x4, t = t)\n",
    "        x5 = self.bot2(x5, t = t)\n",
    "        x5 = self.bot3(x5, t = t)\n",
    "        x5 = self.bot4(x5, t = t)\n",
    "        x5 = self.bot5(x5, t = t)\n",
    "\n",
    "        x = self.up1(x5, x4, t)\n",
    "        x = self.up2(x, x3, t)\n",
    "        x = self.up3(x, x2, t)\n",
    "        x = self.outc(x, x1)\n",
    "        \n",
    "        return x"
   ]
  },
  {
   "cell_type": "markdown",
   "id": "9f7389f9",
   "metadata": {
    "id": "Fg1gUMotyDXm",
    "papermill": {
     "duration": 0.005071,
     "end_time": "2023-05-27T06:43:06.171078",
     "exception": false,
     "start_time": "2023-05-27T06:43:06.166007",
     "status": "completed"
    },
    "tags": []
   },
   "source": [
    "## Diffusion"
   ]
  },
  {
   "cell_type": "code",
   "execution_count": 10,
   "id": "cb72719a",
   "metadata": {
    "execution": {
     "iopub.execute_input": "2023-05-27T06:43:06.183331Z",
     "iopub.status.busy": "2023-05-27T06:43:06.183061Z",
     "iopub.status.idle": "2023-05-27T06:43:06.284168Z",
     "shell.execute_reply": "2023-05-27T06:43:06.282949Z"
    },
    "id": "HsiYpM8byDXm",
    "papermill": {
     "duration": 0.110117,
     "end_time": "2023-05-27T06:43:06.286557",
     "exception": false,
     "start_time": "2023-05-27T06:43:06.176440",
     "status": "completed"
    },
    "tags": []
   },
   "outputs": [],
   "source": [
    "class Diffusion:\n",
    "    def __init__(self, config):\n",
    "        self.img_size = config.generate_img_size\n",
    "        self.noise_steps = config.noise_steps\n",
    "        self.device = config.device\n",
    "        self.img_size = config.generate_img_size\n",
    "\n",
    "        self.beta = self.prepare_noise_schedule(schedule=config.schedule, noise_steps=self.noise_steps).to(self.device)\n",
    "        self.alpha = 1. - self.beta\n",
    "        self.alpha_hat = torch.cumprod(self.alpha, dim=0)\n",
    "\n",
    "    @staticmethod\n",
    "    def prepare_noise_schedule(schedule, noise_steps, linear_start=1e-4, linear_end=2e-2, cosine_s=8e-3):\n",
    "\n",
    "        if schedule == \"linear\":\n",
    "            betas = torch.linspace(linear_start, linear_end, noise_steps)\n",
    "\n",
    "        # https://github.com/lucidrains/denoising-diffusion-pytorch/blob/main/denoising_diffusion_pytorch/denoising_diffusion_pytorch.py\n",
    "        elif schedule == \"cosine\":\n",
    "            timesteps = (torch.arange(noise_steps + 1) / noise_steps + cosine_s)\n",
    "            alphas = timesteps / (1 + cosine_s) * math.pi / 2\n",
    "            alphas = torch.cos(alphas).pow(2)\n",
    "            alphas = alphas / alphas[0]\n",
    "            betas = 1 - alphas[1:] / alphas[:-1]\n",
    "            betas = betas.clamp(max=0.999)\n",
    "\n",
    "        return betas\n",
    "\n",
    "    def noise_images(self, x, t):\n",
    "        sqrt_alpha_hat = torch.sqrt(self.alpha_hat[t])[:, None, None, None]\n",
    "        sqrt_one_minus_alpha_hat = torch.sqrt(1 - self.alpha_hat[t])[:, None, None, None]\n",
    "        Ɛ = torch.randn_like(x)\n",
    "        return sqrt_alpha_hat * x + sqrt_one_minus_alpha_hat * Ɛ, Ɛ\n",
    "\n",
    "    def sample_timesteps(self, n):\n",
    "        return torch.randint(low=1, high=self.noise_steps, size=(n,))\n",
    "\n",
    "    @torch.no_grad()\n",
    "    def sample(self, title, model, n, epoch):\n",
    "\n",
    "        model.eval()\n",
    "\n",
    "        x = torch.randn((n, 3, self.img_size, self.img_size)).to(self.device)\n",
    "        for i in reversed(range(1, self.noise_steps)):\n",
    "            t = (torch.ones(n) * i).long().to(self.device)\n",
    "            predicted_noise = model(x, t)\n",
    "            alpha = self.alpha[t][:, None, None, None]\n",
    "            alpha_hat = self.alpha_hat[t][:, None, None, None]\n",
    "            beta = self.beta[t][:, None, None, None]\n",
    "            if i > 1:\n",
    "                noise = torch.randn_like(x)\n",
    "            else:\n",
    "                noise = torch.zeros_like(x)\n",
    "            x = 1 / torch.sqrt(alpha) * (x - ((1 - alpha) / (torch.sqrt(1 - alpha_hat))) * predicted_noise) + torch.sqrt(beta) * noise\n",
    "        \n",
    "        x = (x.clamp(-1, 1) + 1) / 2\n",
    "        x = (x * 255).type(torch.uint8)\n",
    "\n",
    "        save_images(x, f\"sample{epoch}_{title}.jpg\")\n",
    "        plot_images(x)\n",
    "        \n",
    "        model.train()\n",
    "        \n",
    "        return x\n",
    "\n",
    "\n",
    "def train(config, path = None, scheduler_path = None):\n",
    "    \n",
    "    dataloader = get_data(config)\n",
    "    print(\"loaded\")\n",
    "    \n",
    "    model = UNet(config.device, config.gated_attention).to(config.device)\n",
    "    \n",
    "    if torch.cuda.device_count() > 1:\n",
    "        model = nn.DataParallel(model)\n",
    "    \n",
    "    optimizer = optim.AdamW(model.parameters(), lr=config.lr)\n",
    "    mse = nn.MSELoss()\n",
    "\n",
    "    if config.sched == \"cycle\" and scheduler_path == None:\n",
    "        print(\"sch\")\n",
    "        scheduler = CycleScheduler(\n",
    "            optimizer,\n",
    "            config.lr,\n",
    "            n_iter= len(dataloader) * config.epochs,\n",
    "        )\n",
    "    \n",
    "    losses = []\n",
    "    start_epoch = 0\n",
    "    \n",
    "    if path is not None:\n",
    "        checkpoint = torch.load(path)\n",
    "        model.load_state_dict(checkpoint['model_state_dict'])\n",
    "        config_dict = checkpoint[\"config\"]\n",
    "        config.__dict__.update(config_dict)\n",
    "        start_epoch = checkpoint['epoch']\n",
    "        optimizer.load_state_dict(checkpoint['optimizer_state_dict'])\n",
    "        losses = checkpoint['loss']\n",
    "        if config.sched == \"cycle\" and scheduler_path is not None:\n",
    "            with open(scheduler_path, \"rb\") as file:\n",
    "                scheduler = pickle.load(file)\n",
    "            scheduler.optimizer = optimizer\n",
    "        \n",
    "        steps_ema = len(dataloader)*start_epoch\n",
    "        ema = EMA(0.995, steps_ema)\n",
    "        ema_model = copy.deepcopy(model).eval().requires_grad_(False)\n",
    "        ema_model.load_state_dict(checkpoint['ema_model_state_dict'])\n",
    "        \n",
    "        del checkpoint\n",
    "        del config_dict\n",
    "        \n",
    "    else:\n",
    "        ema = EMA(0.995)\n",
    "        ema_model = copy.deepcopy(model).eval().requires_grad_(False)\n",
    "        \n",
    "    \n",
    "    diffusion = Diffusion(config)\n",
    "\n",
    " \n",
    "    if config.mix_precision:\n",
    "        scaler = GradScaler()\n",
    "\n",
    "    for epoch in range(start_epoch+1, 51):\n",
    "        \n",
    "        epoch_loss = []\n",
    "        \n",
    "        model.train()\n",
    "\n",
    "        for k, (images, _) in enumerate(tqdm(dataloader)):\n",
    "            \n",
    "            optimizer.zero_grad()\n",
    "\n",
    "            images = images.to(config.device)\n",
    "            \n",
    "            if config.mix_precision:\n",
    "                with autocast():\n",
    "                    t = diffusion.sample_timesteps(images.shape[0]).to(config.device)\n",
    "                    x_t, noise = diffusion.noise_images(images, t)\n",
    "                    predicted_noise = model(x_t, t)\n",
    "                    loss = mse(noise, predicted_noise)           \n",
    "                scaler.scale(loss).backward()\n",
    "                if config.sched == \"cycle\":\n",
    "                    scheduler.step()\n",
    "                scaler.step(optimizer)\n",
    "                scaler.update()\n",
    "                ema.step_ema(ema_model, model)\n",
    "            else:\n",
    "                t = diffusion.sample_timesteps(images.shape[0]).to(config.device)\n",
    "                x_t, noise = diffusion.noise_images(images, t)\n",
    "                predicted_noise = model(x_t, t)\n",
    "                loss = mse(noise, predicted_noise)           \n",
    "                loss.backward()\n",
    "                if config.sched == \"cycle\":\n",
    "                    scheduler.step()\n",
    "                optimizer.step()\n",
    "                ema.step_ema(ema_model, model)\n",
    "            \n",
    "\n",
    "            if k%100 == 0:\n",
    "                print(f\"e{epoch}  |  b{k}  |  MSE {loss.item()}  |  Lr {optimizer.param_groups[0]['lr']}  |  t {t}\")\n",
    "                \n",
    "            epoch_loss.append(loss.item())\n",
    "            \n",
    "        epoch_loss = np.array(epoch_loss).mean()\n",
    "        print(f\"Epoch {epoch} loss: {epoch_loss}\")\n",
    "        losses.append(epoch_loss)\n",
    "\n",
    "        if epoch%5 == 0:\n",
    "\n",
    "            path = f'my_diff_cifar_v5_e{str(epoch)}.pth'\n",
    "\n",
    "            if torch.cuda.device_count() > 1:\n",
    "                torch.save({\n",
    "                        'epoch': epoch,\n",
    "                        'model_state_dict': model.module.state_dict(),\n",
    "                        'ema_model_state_dict': ema_model.module.state_dict(),\n",
    "                        'optimizer_state_dict': optimizer.state_dict(),\n",
    "                        'loss': losses,\n",
    "                        'config': config.__dict__\n",
    "                        }, path)\n",
    "            else:\n",
    "                torch.save({\n",
    "                        'epoch': epoch,\n",
    "                        'model_state_dict': model.state_dict(),\n",
    "                        'ema_model_state_dict': ema_model.state_dict(),\n",
    "                        'optimizer_state_dict': optimizer.state_dict(),\n",
    "                        'loss': losses,\n",
    "                        'config': config.__dict__\n",
    "                        }, path)\n",
    "                \n",
    "            if config.sched == \"cycle\":\n",
    "                with open(f\"diff_v5_cifar_sch_e{str(epoch)}.pkl\", \"wb\") as file:\n",
    "                    pickle.dump(scheduler, file, -1)\n",
    "\n",
    "\n",
    "    \n",
    "class ModelConfig:\n",
    "    def __init__(self, batch_size=10, image_size=64, epochs=100, lr=1e-4, \n",
    "                 device = torch.device(\"cuda\" if torch.cuda.is_available() else \"cpu\"),\n",
    "                 mix_precision = False,\n",
    "                 gated_attention = True,\n",
    "                 schedule = 'linear',\n",
    "                 noise_steps = 1000,\n",
    "                 generate_img_size = 64,\n",
    "                 sched = None,\n",
    "                 dataset_path = \"/kaggle/input/cifar10-64x64-resized-via-cai-super-resolution/cifar10-64/train\"):\n",
    "        \n",
    "        self.batch_size = batch_size\n",
    "        self.image_size = image_size\n",
    "        self.epochs = epochs\n",
    "        self.lr = lr\n",
    "        self.device = device\n",
    "        self.mix_precision = mix_precision\n",
    "        self.gated_attention = gated_attention\n",
    "        self.schedule = schedule\n",
    "        self.noise_steps = noise_steps\n",
    "        self.generate_img_size = generate_img_size\n",
    "        self.sched = sched\n",
    "        self.dataset_path = dataset_path\n",
    "\n",
    "def launch(path = None, sched_path = None):\n",
    "    config = ModelConfig()\n",
    "    train(config, path, sched_path)"
   ]
  },
  {
   "cell_type": "code",
   "execution_count": 11,
   "id": "0f906da7",
   "metadata": {
    "execution": {
     "iopub.execute_input": "2023-05-27T06:43:06.300217Z",
     "iopub.status.busy": "2023-05-27T06:43:06.299317Z",
     "iopub.status.idle": "2023-05-27T06:43:07.112322Z",
     "shell.execute_reply": "2023-05-27T06:43:07.110039Z"
    },
    "id": "-ua8YBUZz4EQ",
    "outputId": "bfddbb5b-1eb2-4828-d33b-c1c95e1c7f78",
    "papermill": {
     "duration": 0.821874,
     "end_time": "2023-05-27T06:43:07.114456",
     "exception": false,
     "start_time": "2023-05-27T06:43:06.292582",
     "status": "completed"
    },
    "tags": []
   },
   "outputs": [
    {
     "name": "stdout",
     "output_type": "stream",
     "text": [
      "96328847\n"
     ]
    }
   ],
   "source": [
    "net = UNet(device=\"cpu\", gated_attention = True)\n",
    "print(sum([p.numel() for p in net.parameters()]))"
   ]
  },
  {
   "cell_type": "code",
   "execution_count": 12,
   "id": "d4fdc19b",
   "metadata": {
    "execution": {
     "iopub.execute_input": "2023-05-27T06:43:07.126991Z",
     "iopub.status.busy": "2023-05-27T06:43:07.126709Z",
     "iopub.status.idle": "2023-05-27T06:43:08.128347Z",
     "shell.execute_reply": "2023-05-27T06:43:08.127240Z"
    },
    "id": "QH1PnAeYz4ES",
    "outputId": "4cf935cf-ce42-4bd8-e201-26eb8777be08",
    "papermill": {
     "duration": 1.010338,
     "end_time": "2023-05-27T06:43:08.130521",
     "exception": false,
     "start_time": "2023-05-27T06:43:07.120183",
     "status": "completed"
    },
    "tags": []
   },
   "outputs": [
    {
     "name": "stdout",
     "output_type": "stream",
     "text": [
      "Sat May 27 06:43:07 2023       \r\n",
      "+-----------------------------------------------------------------------------+\r\n",
      "| NVIDIA-SMI 470.161.03   Driver Version: 470.161.03   CUDA Version: 11.4     |\r\n",
      "|-------------------------------+----------------------+----------------------+\r\n",
      "| GPU  Name        Persistence-M| Bus-Id        Disp.A | Volatile Uncorr. ECC |\r\n",
      "| Fan  Temp  Perf  Pwr:Usage/Cap|         Memory-Usage | GPU-Util  Compute M. |\r\n",
      "|                               |                      |               MIG M. |\r\n",
      "|===============================+======================+======================|\r\n",
      "|   0  Tesla P100-PCIE...  Off  | 00000000:00:04.0 Off |                    0 |\r\n",
      "| N/A   42C    P0    29W / 250W |      2MiB / 16280MiB |      0%      Default |\r\n",
      "|                               |                      |                  N/A |\r\n",
      "+-------------------------------+----------------------+----------------------+\r\n",
      "                                                                               \r\n",
      "+-----------------------------------------------------------------------------+\r\n",
      "| Processes:                                                                  |\r\n",
      "|  GPU   GI   CI        PID   Type   Process name                  GPU Memory |\r\n",
      "|        ID   ID                                                   Usage      |\r\n",
      "|=============================================================================|\r\n",
      "|  No running processes found                                                 |\r\n",
      "+-----------------------------------------------------------------------------+\r\n"
     ]
    }
   ],
   "source": [
    "!nvidia-smi"
   ]
  },
  {
   "cell_type": "code",
   "execution_count": 13,
   "id": "aaf5152d",
   "metadata": {
    "execution": {
     "iopub.execute_input": "2023-05-27T06:43:08.144043Z",
     "iopub.status.busy": "2023-05-27T06:43:08.143735Z"
    },
    "id": "dEDAYZQFyDXm",
    "outputId": "ca1cdb7c-e80f-467a-bc5d-3f837564323a",
    "papermill": {
     "duration": null,
     "end_time": null,
     "exception": false,
     "start_time": "2023-05-27T06:43:08.136676",
     "status": "running"
    },
    "tags": []
   },
   "outputs": [
    {
     "name": "stdout",
     "output_type": "stream",
     "text": [
      "loaded\n"
     ]
    },
    {
     "data": {
      "application/vnd.jupyter.widget-view+json": {
       "model_id": "b30c407c15784a6a9c83643044805678",
       "version_major": 2,
       "version_minor": 0
      },
      "text/plain": [
       "  0%|          | 0/5000 [00:00<?, ?it/s]"
      ]
     },
     "metadata": {},
     "output_type": "display_data"
    },
    {
     "name": "stdout",
     "output_type": "stream",
     "text": [
      "e1  |  b0  |  MSE 1.1501137018203735  |  Lr 0.0001  |  t tensor([ 25, 379, 753,  22, 453, 345, 824, 952, 534, 362], device='cuda:0')\n"
     ]
    },
    {
     "name": "stdout",
     "output_type": "stream",
     "text": [
      "e1  |  b100  |  MSE 0.1839761734008789  |  Lr 0.0001  |  t tensor([931,  59,  77,  31, 359,   4, 863, 169, 948, 491], device='cuda:0')\n"
     ]
    },
    {
     "name": "stdout",
     "output_type": "stream",
     "text": [
      "e1  |  b200  |  MSE 0.025839684531092644  |  Lr 0.0001  |  t tensor([258, 635, 246, 563, 851, 880, 687, 381, 888, 966], device='cuda:0')\n"
     ]
    },
    {
     "name": "stdout",
     "output_type": "stream",
     "text": [
      "e1  |  b300  |  MSE 0.030367160215973854  |  Lr 0.0001  |  t tensor([905, 110, 538, 307, 598, 722, 883, 386, 758, 268], device='cuda:0')\n"
     ]
    },
    {
     "name": "stdout",
     "output_type": "stream",
     "text": [
      "e1  |  b400  |  MSE 0.07465466111898422  |  Lr 0.0001  |  t tensor([569,  91,   8, 717, 255,  66, 748, 824, 454, 413], device='cuda:0')\n"
     ]
    },
    {
     "name": "stdout",
     "output_type": "stream",
     "text": [
      "e1  |  b500  |  MSE 0.06516144424676895  |  Lr 0.0001  |  t tensor([135,  46, 196, 487, 457, 272, 384, 130,  83,  30], device='cuda:0')\n"
     ]
    },
    {
     "name": "stdout",
     "output_type": "stream",
     "text": [
      "e1  |  b600  |  MSE 0.03246968984603882  |  Lr 0.0001  |  t tensor([780, 616, 839,  14, 388, 615, 421, 565, 820, 263], device='cuda:0')\n"
     ]
    },
    {
     "name": "stdout",
     "output_type": "stream",
     "text": [
      "e1  |  b700  |  MSE 0.06616293638944626  |  Lr 0.0001  |  t tensor([192, 381, 291, 727, 360, 292,  21, 528,  23, 867], device='cuda:0')\n"
     ]
    },
    {
     "name": "stdout",
     "output_type": "stream",
     "text": [
      "e1  |  b800  |  MSE 0.024040155112743378  |  Lr 0.0001  |  t tensor([859, 463, 851, 148, 665, 555, 348, 856,  85, 467], device='cuda:0')\n"
     ]
    },
    {
     "name": "stdout",
     "output_type": "stream",
     "text": [
      "e1  |  b900  |  MSE 0.021359726786613464  |  Lr 0.0001  |  t tensor([944, 130, 732, 839, 826, 374, 364, 196, 738, 697], device='cuda:0')\n"
     ]
    },
    {
     "name": "stdout",
     "output_type": "stream",
     "text": [
      "e1  |  b1000  |  MSE 0.05027969926595688  |  Lr 0.0001  |  t tensor([455, 972,  44,   7, 394, 954, 629, 882, 678, 376], device='cuda:0')\n"
     ]
    },
    {
     "name": "stdout",
     "output_type": "stream",
     "text": [
      "e1  |  b1100  |  MSE 0.027216646820306778  |  Lr 0.0001  |  t tensor([819, 946, 960, 404,  60, 516, 970, 826, 306, 196], device='cuda:0')\n"
     ]
    },
    {
     "name": "stdout",
     "output_type": "stream",
     "text": [
      "e1  |  b1200  |  MSE 0.02702937461435795  |  Lr 0.0001  |  t tensor([143, 676, 142, 680, 860, 725, 313, 994, 823,  63], device='cuda:0')\n"
     ]
    },
    {
     "name": "stdout",
     "output_type": "stream",
     "text": [
      "e1  |  b1300  |  MSE 0.010780511423945427  |  Lr 0.0001  |  t tensor([585, 558, 887, 992, 669, 241, 785, 573, 852, 547], device='cuda:0')\n"
     ]
    },
    {
     "name": "stdout",
     "output_type": "stream",
     "text": [
      "e1  |  b1400  |  MSE 0.02596333436667919  |  Lr 0.0001  |  t tensor([270, 619, 213, 748, 246, 561, 286, 772, 786, 114], device='cuda:0')\n"
     ]
    },
    {
     "name": "stdout",
     "output_type": "stream",
     "text": [
      "e1  |  b1500  |  MSE 0.014341406524181366  |  Lr 0.0001  |  t tensor([253, 613, 367, 983, 732, 696, 359, 930, 207, 665], device='cuda:0')\n"
     ]
    },
    {
     "name": "stdout",
     "output_type": "stream",
     "text": [
      "e1  |  b1600  |  MSE 0.03489141911268234  |  Lr 0.0001  |  t tensor([250, 837, 301, 951, 326, 866, 288,  32, 371, 886], device='cuda:0')\n"
     ]
    },
    {
     "name": "stdout",
     "output_type": "stream",
     "text": [
      "e1  |  b1700  |  MSE 0.04131864011287689  |  Lr 0.0001  |  t tensor([747, 743, 369,  23,  87, 849, 687, 884,  75, 354], device='cuda:0')\n"
     ]
    },
    {
     "name": "stdout",
     "output_type": "stream",
     "text": [
      "e1  |  b1800  |  MSE 0.024073965847492218  |  Lr 0.0001  |  t tensor([329, 870, 564, 587,  82,  67, 690, 366, 416, 673], device='cuda:0')\n"
     ]
    },
    {
     "name": "stdout",
     "output_type": "stream",
     "text": [
      "e1  |  b1900  |  MSE 0.02550022304058075  |  Lr 0.0001  |  t tensor([125, 884, 107, 297, 487, 619, 659, 104, 388, 761], device='cuda:0')\n"
     ]
    },
    {
     "name": "stdout",
     "output_type": "stream",
     "text": [
      "e1  |  b2000  |  MSE 0.02159370668232441  |  Lr 0.0001  |  t tensor([692, 439, 731, 433, 199, 229, 118, 744, 302, 381], device='cuda:0')\n"
     ]
    },
    {
     "name": "stdout",
     "output_type": "stream",
     "text": [
      "e1  |  b2100  |  MSE 0.03774765133857727  |  Lr 0.0001  |  t tensor([396,  23, 285, 569, 926, 461, 450,  46, 229, 114], device='cuda:0')\n"
     ]
    },
    {
     "name": "stdout",
     "output_type": "stream",
     "text": [
      "e1  |  b2200  |  MSE 0.029521089047193527  |  Lr 0.0001  |  t tensor([912, 237, 584, 879, 820, 961, 238,  17, 775, 564], device='cuda:0')\n"
     ]
    },
    {
     "name": "stdout",
     "output_type": "stream",
     "text": [
      "e1  |  b2300  |  MSE 0.020385708659887314  |  Lr 0.0001  |  t tensor([355, 655, 610, 360, 398, 339, 184, 121, 601, 868], device='cuda:0')\n"
     ]
    },
    {
     "name": "stdout",
     "output_type": "stream",
     "text": [
      "e1  |  b2400  |  MSE 0.010141544044017792  |  Lr 0.0001  |  t tensor([209, 477, 830, 972, 847, 349, 679, 371, 666, 600], device='cuda:0')\n"
     ]
    },
    {
     "name": "stdout",
     "output_type": "stream",
     "text": [
      "e1  |  b2500  |  MSE 0.06559053063392639  |  Lr 0.0001  |  t tensor([ 79,   3, 779, 410, 744, 302, 903, 747, 115, 733], device='cuda:0')\n"
     ]
    },
    {
     "name": "stdout",
     "output_type": "stream",
     "text": [
      "e1  |  b2600  |  MSE 0.01927802711725235  |  Lr 0.0001  |  t tensor([509, 409, 162, 800, 749, 846, 282, 206, 807, 303], device='cuda:0')\n"
     ]
    },
    {
     "name": "stdout",
     "output_type": "stream",
     "text": [
      "e1  |  b2700  |  MSE 0.0190169345587492  |  Lr 0.0001  |  t tensor([772, 760, 655, 346, 486, 256,  81, 112, 516, 913], device='cuda:0')\n"
     ]
    },
    {
     "name": "stdout",
     "output_type": "stream",
     "text": [
      "e1  |  b2800  |  MSE 0.02715800702571869  |  Lr 0.0001  |  t tensor([608, 267, 859,  18, 961, 675, 382, 662, 701, 922], device='cuda:0')\n"
     ]
    },
    {
     "name": "stdout",
     "output_type": "stream",
     "text": [
      "e1  |  b2900  |  MSE 0.030485866591334343  |  Lr 0.0001  |  t tensor([755, 133, 144, 123, 393, 723, 907,  65, 115, 903], device='cuda:0')\n"
     ]
    },
    {
     "name": "stdout",
     "output_type": "stream",
     "text": [
      "e1  |  b3000  |  MSE 0.023811403661966324  |  Lr 0.0001  |  t tensor([342, 165, 250, 799, 464,  56, 815, 323, 470, 285], device='cuda:0')\n"
     ]
    },
    {
     "name": "stdout",
     "output_type": "stream",
     "text": [
      "e1  |  b3100  |  MSE 0.014756642282009125  |  Lr 0.0001  |  t tensor([890,  94, 190, 766, 936, 492, 220, 820, 695, 552], device='cuda:0')\n"
     ]
    },
    {
     "name": "stdout",
     "output_type": "stream",
     "text": [
      "e1  |  b3200  |  MSE 0.01874667964875698  |  Lr 0.0001  |  t tensor([869, 917, 567, 811, 141, 980, 125, 612, 297, 508], device='cuda:0')\n"
     ]
    },
    {
     "name": "stdout",
     "output_type": "stream",
     "text": [
      "e1  |  b3300  |  MSE 0.007473239675164223  |  Lr 0.0001  |  t tensor([810, 854, 357, 997, 172, 406, 537, 948, 705, 826], device='cuda:0')\n"
     ]
    },
    {
     "name": "stdout",
     "output_type": "stream",
     "text": [
      "e1  |  b3400  |  MSE 0.014491317793726921  |  Lr 0.0001  |  t tensor([516, 894, 564, 507, 427, 285, 858,  64, 987, 265], device='cuda:0')\n"
     ]
    },
    {
     "name": "stdout",
     "output_type": "stream",
     "text": [
      "e1  |  b3500  |  MSE 0.01201118715107441  |  Lr 0.0001  |  t tensor([892, 972, 842, 428, 442, 332, 652, 506, 162, 651], device='cuda:0')\n"
     ]
    },
    {
     "name": "stdout",
     "output_type": "stream",
     "text": [
      "e1  |  b3600  |  MSE 0.04606188088655472  |  Lr 0.0001  |  t tensor([ 12, 167, 591,  49, 110, 797, 251, 761, 422, 111], device='cuda:0')\n"
     ]
    },
    {
     "name": "stdout",
     "output_type": "stream",
     "text": [
      "e1  |  b3700  |  MSE 0.03417471423745155  |  Lr 0.0001  |  t tensor([108,  98, 154, 657, 230, 655, 101, 122, 358, 215], device='cuda:0')\n"
     ]
    },
    {
     "name": "stdout",
     "output_type": "stream",
     "text": [
      "e1  |  b3800  |  MSE 0.006914500147104263  |  Lr 0.0001  |  t tensor([607, 616, 930, 355, 722, 530, 317, 893, 387, 733], device='cuda:0')\n"
     ]
    },
    {
     "name": "stdout",
     "output_type": "stream",
     "text": [
      "e1  |  b3900  |  MSE 0.013127155601978302  |  Lr 0.0001  |  t tensor([941, 461, 479, 903, 427, 983, 207, 227, 417, 462], device='cuda:0')\n"
     ]
    },
    {
     "name": "stdout",
     "output_type": "stream",
     "text": [
      "e1  |  b4000  |  MSE 0.04449507221579552  |  Lr 0.0001  |  t tensor([825, 574, 732, 853, 920, 792, 426, 843,   1, 442], device='cuda:0')\n"
     ]
    },
    {
     "name": "stdout",
     "output_type": "stream",
     "text": [
      "e1  |  b4100  |  MSE 0.014336026273667812  |  Lr 0.0001  |  t tensor([164, 276, 394, 277, 523, 498, 816, 284, 717, 607], device='cuda:0')\n"
     ]
    },
    {
     "name": "stdout",
     "output_type": "stream",
     "text": [
      "e1  |  b4200  |  MSE 0.01404102984815836  |  Lr 0.0001  |  t tensor([ 87, 511, 776, 551, 419, 384, 794, 529, 396, 699], device='cuda:0')\n"
     ]
    },
    {
     "name": "stdout",
     "output_type": "stream",
     "text": [
      "e1  |  b4300  |  MSE 0.007854340597987175  |  Lr 0.0001  |  t tensor([410, 626, 286, 369, 632, 802, 453, 321, 504, 436], device='cuda:0')\n"
     ]
    },
    {
     "name": "stdout",
     "output_type": "stream",
     "text": [
      "e1  |  b4400  |  MSE 0.019211603328585625  |  Lr 0.0001  |  t tensor([ 91, 141, 320, 950, 153, 745, 101, 530, 490, 887], device='cuda:0')\n"
     ]
    },
    {
     "name": "stdout",
     "output_type": "stream",
     "text": [
      "e1  |  b4500  |  MSE 0.014253083616495132  |  Lr 0.0001  |  t tensor([824, 795, 741, 485, 383, 537, 172, 486, 506, 129], device='cuda:0')\n"
     ]
    },
    {
     "name": "stdout",
     "output_type": "stream",
     "text": [
      "e1  |  b4600  |  MSE 0.026409737765789032  |  Lr 0.0001  |  t tensor([335,  32, 860, 111, 554, 539, 393, 784, 947,  64], device='cuda:0')\n"
     ]
    },
    {
     "name": "stdout",
     "output_type": "stream",
     "text": [
      "e1  |  b4700  |  MSE 0.013899914920330048  |  Lr 0.0001  |  t tensor([780, 521, 274,  63, 899, 134, 834, 457, 985, 819], device='cuda:0')\n"
     ]
    },
    {
     "name": "stdout",
     "output_type": "stream",
     "text": [
      "e1  |  b4800  |  MSE 0.03654053434729576  |  Lr 0.0001  |  t tensor([817, 793, 307, 369, 759, 404, 536, 769, 805,  10], device='cuda:0')\n"
     ]
    },
    {
     "name": "stdout",
     "output_type": "stream",
     "text": [
      "e1  |  b4900  |  MSE 0.040291350334882736  |  Lr 0.0001  |  t tensor([734, 387, 194, 296, 292, 946, 920, 624, 449,   6], device='cuda:0')\n"
     ]
    },
    {
     "name": "stdout",
     "output_type": "stream",
     "text": [
      "Epoch 1 loss: 0.0315261826290749\n"
     ]
    },
    {
     "data": {
      "application/vnd.jupyter.widget-view+json": {
       "model_id": "80339a32d44b495e9a60e2cfd30420db",
       "version_major": 2,
       "version_minor": 0
      },
      "text/plain": [
       "  0%|          | 0/5000 [00:00<?, ?it/s]"
      ]
     },
     "metadata": {},
     "output_type": "display_data"
    },
    {
     "name": "stdout",
     "output_type": "stream",
     "text": [
      "e2  |  b0  |  MSE 0.038482096046209335  |  Lr 0.0001  |  t tensor([987, 824, 144, 395, 928, 290, 599,   7, 464,  69], device='cuda:0')\n"
     ]
    },
    {
     "name": "stdout",
     "output_type": "stream",
     "text": [
      "e2  |  b100  |  MSE 0.027874037623405457  |  Lr 0.0001  |  t tensor([608, 187, 855, 113, 831, 474,  27, 279, 349, 121], device='cuda:0')\n"
     ]
    },
    {
     "name": "stdout",
     "output_type": "stream",
     "text": [
      "e2  |  b200  |  MSE 0.029317840933799744  |  Lr 0.0001  |  t tensor([714, 695, 332, 562, 246, 540,  73,  20, 750, 237], device='cuda:0')\n"
     ]
    },
    {
     "name": "stdout",
     "output_type": "stream",
     "text": [
      "e2  |  b300  |  MSE 0.012031495571136475  |  Lr 0.0001  |  t tensor([451, 199, 494, 349, 771, 178, 358, 569, 695, 811], device='cuda:0')\n"
     ]
    },
    {
     "name": "stdout",
     "output_type": "stream",
     "text": [
      "e2  |  b400  |  MSE 0.05506671965122223  |  Lr 0.0001  |  t tensor([423, 385, 342, 881, 746, 436, 656, 901, 557,   1], device='cuda:0')\n"
     ]
    },
    {
     "name": "stdout",
     "output_type": "stream",
     "text": [
      "e2  |  b500  |  MSE 0.007445073686540127  |  Lr 0.0001  |  t tensor([892, 455, 194, 666, 873, 380, 939, 821, 584, 384], device='cuda:0')\n"
     ]
    },
    {
     "name": "stdout",
     "output_type": "stream",
     "text": [
      "e2  |  b600  |  MSE 0.02069331705570221  |  Lr 0.0001  |  t tensor([364, 462, 589, 159, 244, 216, 471, 751, 330, 109], device='cuda:0')\n"
     ]
    },
    {
     "name": "stdout",
     "output_type": "stream",
     "text": [
      "e2  |  b700  |  MSE 0.010957551188766956  |  Lr 0.0001  |  t tensor([314, 447, 245, 855, 797, 361, 615, 548, 363, 410], device='cuda:0')\n"
     ]
    },
    {
     "name": "stdout",
     "output_type": "stream",
     "text": [
      "e2  |  b800  |  MSE 0.06800834834575653  |  Lr 0.0001  |  t tensor([ 24, 367, 853, 139,  65, 820, 550,  14, 330, 489], device='cuda:0')\n"
     ]
    },
    {
     "name": "stdout",
     "output_type": "stream",
     "text": [
      "e2  |  b900  |  MSE 0.01490823645144701  |  Lr 0.0001  |  t tensor([540, 479, 104, 235,  70, 746, 657, 242, 426, 497], device='cuda:0')\n"
     ]
    },
    {
     "name": "stdout",
     "output_type": "stream",
     "text": [
      "e2  |  b1000  |  MSE 0.01577320136129856  |  Lr 0.0001  |  t tensor([ 66, 354, 589, 910, 850,  33, 502, 791, 479, 810], device='cuda:0')\n"
     ]
    },
    {
     "name": "stdout",
     "output_type": "stream",
     "text": [
      "e2  |  b1100  |  MSE 0.013242964632809162  |  Lr 0.0001  |  t tensor([ 35, 513, 234, 595, 586, 872, 849, 521, 995, 715], device='cuda:0')\n"
     ]
    },
    {
     "name": "stdout",
     "output_type": "stream",
     "text": [
      "e2  |  b1200  |  MSE 0.01089450716972351  |  Lr 0.0001  |  t tensor([998, 327, 874, 160, 490, 533, 666, 423, 575, 484], device='cuda:0')\n"
     ]
    },
    {
     "name": "stdout",
     "output_type": "stream",
     "text": [
      "e2  |  b1300  |  MSE 0.013004342094063759  |  Lr 0.0001  |  t tensor([921, 563, 720, 172, 718, 263, 132, 348, 721, 347], device='cuda:0')\n"
     ]
    },
    {
     "name": "stdout",
     "output_type": "stream",
     "text": [
      "e2  |  b1400  |  MSE 0.01087942998856306  |  Lr 0.0001  |  t tensor([567, 253, 379, 915, 226, 259, 581, 532, 340, 847], device='cuda:0')\n"
     ]
    },
    {
     "name": "stdout",
     "output_type": "stream",
     "text": [
      "e2  |  b1500  |  MSE 0.013998560607433319  |  Lr 0.0001  |  t tensor([139, 664, 285, 859, 685, 608, 313, 367, 669, 151], device='cuda:0')\n"
     ]
    },
    {
     "name": "stdout",
     "output_type": "stream",
     "text": [
      "e2  |  b1600  |  MSE 0.02526840940117836  |  Lr 0.0001  |  t tensor([598, 762, 705,  67,  61, 855, 190,  46, 633, 958], device='cuda:0')\n"
     ]
    },
    {
     "name": "stdout",
     "output_type": "stream",
     "text": [
      "e2  |  b1700  |  MSE 0.026024069637060165  |  Lr 0.0001  |  t tensor([946, 359, 493,  18, 361, 729, 567, 234,  81, 638], device='cuda:0')\n"
     ]
    },
    {
     "name": "stdout",
     "output_type": "stream",
     "text": [
      "e2  |  b1800  |  MSE 0.01835285685956478  |  Lr 0.0001  |  t tensor([157, 871, 536, 619, 628,  72, 107, 936, 594, 898], device='cuda:0')\n"
     ]
    },
    {
     "name": "stdout",
     "output_type": "stream",
     "text": [
      "e2  |  b1900  |  MSE 0.009166504256427288  |  Lr 0.0001  |  t tensor([212, 448, 240, 337, 869, 265, 684, 612, 891, 804], device='cuda:0')\n"
     ]
    },
    {
     "name": "stdout",
     "output_type": "stream",
     "text": [
      "e2  |  b2000  |  MSE 0.012566845864057541  |  Lr 0.0001  |  t tensor([532, 581, 884, 916, 491, 220, 669, 104, 947, 376], device='cuda:0')\n"
     ]
    },
    {
     "name": "stdout",
     "output_type": "stream",
     "text": [
      "e2  |  b2100  |  MSE 0.009097999893128872  |  Lr 0.0001  |  t tensor([138, 681, 887, 157, 906, 387, 679, 943, 594, 314], device='cuda:0')\n"
     ]
    },
    {
     "name": "stdout",
     "output_type": "stream",
     "text": [
      "e2  |  b2200  |  MSE 0.01845558173954487  |  Lr 0.0001  |  t tensor([ 51, 544, 269, 385, 983, 472, 447, 878, 610, 153], device='cuda:0')\n"
     ]
    },
    {
     "name": "stdout",
     "output_type": "stream",
     "text": [
      "e2  |  b2300  |  MSE 0.01306536328047514  |  Lr 0.0001  |  t tensor([524, 403, 846, 300, 510, 438, 185, 273, 688, 272], device='cuda:0')\n"
     ]
    },
    {
     "name": "stdout",
     "output_type": "stream",
     "text": [
      "e2  |  b2400  |  MSE 0.02199607528746128  |  Lr 0.0001  |  t tensor([ 83, 449, 781,  23, 245, 708, 883, 699, 951, 780], device='cuda:0')\n"
     ]
    },
    {
     "name": "stdout",
     "output_type": "stream",
     "text": [
      "e2  |  b2500  |  MSE 0.021240783855319023  |  Lr 0.0001  |  t tensor([682, 994, 585, 579, 953,  33, 296, 316,  73,  40], device='cuda:0')\n"
     ]
    },
    {
     "name": "stdout",
     "output_type": "stream",
     "text": [
      "e2  |  b2600  |  MSE 0.029384372755885124  |  Lr 0.0001  |  t tensor([ 99, 108,  58, 122, 148, 798, 291, 528, 443, 499], device='cuda:0')\n"
     ]
    },
    {
     "name": "stdout",
     "output_type": "stream",
     "text": [
      "e2  |  b2700  |  MSE 0.018984733149409294  |  Lr 0.0001  |  t tensor([203, 805, 607, 644,  50, 496,  84, 168, 941, 291], device='cuda:0')\n"
     ]
    },
    {
     "name": "stdout",
     "output_type": "stream",
     "text": [
      "e2  |  b2800  |  MSE 0.02585357241332531  |  Lr 0.0001  |  t tensor([625, 431, 892,  32, 296, 849, 792, 296, 911,  66], device='cuda:0')\n"
     ]
    },
    {
     "name": "stdout",
     "output_type": "stream",
     "text": [
      "e2  |  b2900  |  MSE 0.04281126335263252  |  Lr 0.0001  |  t tensor([249,  18, 892, 604, 467,  17,  49, 759, 333, 393], device='cuda:0')\n"
     ]
    },
    {
     "name": "stdout",
     "output_type": "stream",
     "text": [
      "e2  |  b3000  |  MSE 0.04941243678331375  |  Lr 0.0001  |  t tensor([654, 991,   1, 682, 191, 445, 978, 963, 258, 138], device='cuda:0')\n"
     ]
    },
    {
     "name": "stdout",
     "output_type": "stream",
     "text": [
      "e2  |  b3100  |  MSE 0.02638084441423416  |  Lr 0.0001  |  t tensor([ 17, 223,  55, 413, 351, 983, 752, 150, 298, 653], device='cuda:0')\n"
     ]
    },
    {
     "name": "stdout",
     "output_type": "stream",
     "text": [
      "e2  |  b3200  |  MSE 0.014515021815896034  |  Lr 0.0001  |  t tensor([109, 632, 688, 415, 157, 845, 868, 132, 644, 431], device='cuda:0')\n"
     ]
    },
    {
     "name": "stdout",
     "output_type": "stream",
     "text": [
      "e2  |  b3300  |  MSE 0.026688547804951668  |  Lr 0.0001  |  t tensor([405, 711,  49,  88, 269, 159, 425, 330, 731, 300], device='cuda:0')\n"
     ]
    },
    {
     "name": "stdout",
     "output_type": "stream",
     "text": [
      "e2  |  b3400  |  MSE 0.044832389801740646  |  Lr 0.0001  |  t tensor([ 15, 752, 522,  35, 480, 238, 117,  44, 589, 247], device='cuda:0')\n"
     ]
    },
    {
     "name": "stdout",
     "output_type": "stream",
     "text": [
      "e2  |  b3500  |  MSE 0.004411919042468071  |  Lr 0.0001  |  t tensor([674, 315, 636, 391, 837, 559, 940, 564, 962, 633], device='cuda:0')\n"
     ]
    },
    {
     "name": "stdout",
     "output_type": "stream",
     "text": [
      "e2  |  b3600  |  MSE 0.024844780564308167  |  Lr 0.0001  |  t tensor([819, 503, 157, 125, 107, 455,  60,  69, 933, 169], device='cuda:0')\n"
     ]
    },
    {
     "name": "stdout",
     "output_type": "stream",
     "text": [
      "e2  |  b3700  |  MSE 0.004950955044478178  |  Lr 0.0001  |  t tensor([329, 643, 817, 909, 439, 984, 384, 493, 378, 873], device='cuda:0')\n"
     ]
    },
    {
     "name": "stdout",
     "output_type": "stream",
     "text": [
      "e2  |  b3800  |  MSE 0.01926955208182335  |  Lr 0.0001  |  t tensor([841, 618,  70, 282, 769, 760, 582, 763,  17, 389], device='cuda:0')\n"
     ]
    },
    {
     "name": "stdout",
     "output_type": "stream",
     "text": [
      "e2  |  b3900  |  MSE 0.015968987718224525  |  Lr 0.0001  |  t tensor([505, 564, 722, 811, 470, 981, 343,  97,  76, 430], device='cuda:0')\n"
     ]
    },
    {
     "name": "stdout",
     "output_type": "stream",
     "text": [
      "e2  |  b4000  |  MSE 0.027245454490184784  |  Lr 0.0001  |  t tensor([862, 129, 957, 615, 762, 192, 287, 156, 882,   9], device='cuda:0')\n"
     ]
    },
    {
     "name": "stdout",
     "output_type": "stream",
     "text": [
      "e2  |  b4100  |  MSE 0.015062042511999607  |  Lr 0.0001  |  t tensor([869, 542, 505, 946, 861, 646, 874,  99,  64, 403], device='cuda:0')\n"
     ]
    },
    {
     "name": "stdout",
     "output_type": "stream",
     "text": [
      "e2  |  b4200  |  MSE 0.014538890682160854  |  Lr 0.0001  |  t tensor([866, 757, 402, 149, 275, 214, 112, 562, 762, 426], device='cuda:0')\n"
     ]
    },
    {
     "name": "stdout",
     "output_type": "stream",
     "text": [
      "e2  |  b4300  |  MSE 0.02315959520637989  |  Lr 0.0001  |  t tensor([379, 655, 161, 424, 439, 797,  28,  59, 685, 769], device='cuda:0')\n"
     ]
    },
    {
     "name": "stdout",
     "output_type": "stream",
     "text": [
      "e2  |  b4400  |  MSE 0.013777759857475758  |  Lr 0.0001  |  t tensor([243,  58, 870, 535, 314, 780, 580, 668, 543, 189], device='cuda:0')\n"
     ]
    },
    {
     "name": "stdout",
     "output_type": "stream",
     "text": [
      "e2  |  b4500  |  MSE 0.014399765990674496  |  Lr 0.0001  |  t tensor([348, 309,  86,  78, 709, 374, 555, 984, 417, 394], device='cuda:0')\n"
     ]
    },
    {
     "name": "stdout",
     "output_type": "stream",
     "text": [
      "e2  |  b4600  |  MSE 0.016557306051254272  |  Lr 0.0001  |  t tensor([ 82, 461, 584, 247, 826, 551, 465, 625, 233, 296], device='cuda:0')\n"
     ]
    },
    {
     "name": "stdout",
     "output_type": "stream",
     "text": [
      "e2  |  b4700  |  MSE 0.0063190096989274025  |  Lr 0.0001  |  t tensor([179, 697, 520, 738, 880, 817, 416, 745, 880, 674], device='cuda:0')\n"
     ]
    },
    {
     "name": "stdout",
     "output_type": "stream",
     "text": [
      "e2  |  b4800  |  MSE 0.01530256774276495  |  Lr 0.0001  |  t tensor([877, 849, 196,  54, 383, 749, 504, 192, 991, 671], device='cuda:0')\n"
     ]
    },
    {
     "name": "stdout",
     "output_type": "stream",
     "text": [
      "e2  |  b4900  |  MSE 0.019083067774772644  |  Lr 0.0001  |  t tensor([760, 385, 128, 223,  57, 414, 881,  85, 461, 508], device='cuda:0')\n"
     ]
    },
    {
     "name": "stdout",
     "output_type": "stream",
     "text": [
      "Epoch 2 loss: 0.019049527181615122\n"
     ]
    },
    {
     "data": {
      "application/vnd.jupyter.widget-view+json": {
       "model_id": "8b79c8db6e634d3ea0f4b75a5180cdae",
       "version_major": 2,
       "version_minor": 0
      },
      "text/plain": [
       "  0%|          | 0/5000 [00:00<?, ?it/s]"
      ]
     },
     "metadata": {},
     "output_type": "display_data"
    },
    {
     "name": "stdout",
     "output_type": "stream",
     "text": [
      "e3  |  b0  |  MSE 0.012147138826549053  |  Lr 0.0001  |  t tensor([760, 204, 312, 568, 119, 590, 416, 155, 709, 854], device='cuda:0')\n"
     ]
    },
    {
     "name": "stdout",
     "output_type": "stream",
     "text": [
      "e3  |  b100  |  MSE 0.028518924489617348  |  Lr 0.0001  |  t tensor([537,  16, 660, 402, 751, 223,  20, 914, 995, 408], device='cuda:0')\n"
     ]
    },
    {
     "name": "stdout",
     "output_type": "stream",
     "text": [
      "e3  |  b200  |  MSE 0.012949634343385696  |  Lr 0.0001  |  t tensor([681,  67, 728, 987, 461, 277, 897, 533, 434, 137], device='cuda:0')\n"
     ]
    },
    {
     "name": "stdout",
     "output_type": "stream",
     "text": [
      "e3  |  b300  |  MSE 0.023231105878949165  |  Lr 0.0001  |  t tensor([487, 165, 905, 316, 908, 362,  43,  42, 315, 285], device='cuda:0')\n"
     ]
    },
    {
     "name": "stdout",
     "output_type": "stream",
     "text": [
      "e3  |  b400  |  MSE 0.01636921428143978  |  Lr 0.0001  |  t tensor([535, 352, 147, 294, 386, 527, 511, 357,  80, 826], device='cuda:0')\n"
     ]
    },
    {
     "name": "stdout",
     "output_type": "stream",
     "text": [
      "e3  |  b500  |  MSE 0.007486780174076557  |  Lr 0.0001  |  t tensor([541, 342, 675, 619, 937, 643, 737, 728,  72, 500], device='cuda:0')\n"
     ]
    },
    {
     "name": "stdout",
     "output_type": "stream",
     "text": [
      "e3  |  b600  |  MSE 0.005126608535647392  |  Lr 0.0001  |  t tensor([391, 661, 955, 625, 734, 723, 549, 654, 426, 208], device='cuda:0')\n"
     ]
    },
    {
     "name": "stdout",
     "output_type": "stream",
     "text": [
      "e3  |  b700  |  MSE 0.02633269503712654  |  Lr 0.0001  |  t tensor([572, 910, 879,   6, 443, 985, 560, 543, 570, 439], device='cuda:0')\n"
     ]
    },
    {
     "name": "stdout",
     "output_type": "stream",
     "text": [
      "e3  |  b800  |  MSE 0.0022978216875344515  |  Lr 0.0001  |  t tensor([734, 830, 448, 687, 871, 633, 873, 972, 746, 579], device='cuda:0')\n"
     ]
    },
    {
     "name": "stdout",
     "output_type": "stream",
     "text": [
      "e3  |  b900  |  MSE 0.024211613461375237  |  Lr 0.0001  |  t tensor([698,  67, 406,  57, 420,   4, 866, 952, 480, 575], device='cuda:0')\n"
     ]
    },
    {
     "name": "stdout",
     "output_type": "stream",
     "text": [
      "e3  |  b1000  |  MSE 0.009041396901011467  |  Lr 0.0001  |  t tensor([946, 847, 659, 799, 249, 525, 380, 823, 667,  70], device='cuda:0')\n"
     ]
    },
    {
     "name": "stdout",
     "output_type": "stream",
     "text": [
      "e3  |  b1100  |  MSE 0.00821408350020647  |  Lr 0.0001  |  t tensor([649, 961, 128, 406, 613, 801, 254, 524, 893, 246], device='cuda:0')\n"
     ]
    },
    {
     "name": "stdout",
     "output_type": "stream",
     "text": [
      "e3  |  b1200  |  MSE 0.011652474291622639  |  Lr 0.0001  |  t tensor([838, 275, 631,  31, 948, 705, 482, 432, 239, 759], device='cuda:0')\n"
     ]
    },
    {
     "name": "stdout",
     "output_type": "stream",
     "text": [
      "e3  |  b1300  |  MSE 0.006859081331640482  |  Lr 0.0001  |  t tensor([307, 232, 802, 448, 896, 963, 657, 873, 408, 291], device='cuda:0')\n"
     ]
    },
    {
     "name": "stdout",
     "output_type": "stream",
     "text": [
      "e3  |  b1400  |  MSE 0.03152777999639511  |  Lr 0.0001  |  t tensor([431, 972, 162,  51, 143, 445, 836,  11, 912, 424], device='cuda:0')\n"
     ]
    },
    {
     "name": "stdout",
     "output_type": "stream",
     "text": [
      "e3  |  b1500  |  MSE 0.016731005162000656  |  Lr 0.0001  |  t tensor([146, 211, 195, 854, 813, 176, 809, 560, 487, 742], device='cuda:0')\n"
     ]
    },
    {
     "name": "stdout",
     "output_type": "stream",
     "text": [
      "e3  |  b1600  |  MSE 0.013035460375249386  |  Lr 0.0001  |  t tensor([849, 623, 939, 127, 363, 131, 925,  88, 309, 199], device='cuda:0')\n"
     ]
    },
    {
     "name": "stdout",
     "output_type": "stream",
     "text": [
      "e3  |  b1700  |  MSE 0.004446538630872965  |  Lr 0.0001  |  t tensor([599, 954, 658, 741, 810, 132, 905, 912, 928, 800], device='cuda:0')\n"
     ]
    },
    {
     "name": "stdout",
     "output_type": "stream",
     "text": [
      "e3  |  b1800  |  MSE 0.00609595188871026  |  Lr 0.0001  |  t tensor([979, 735, 131, 586, 570, 953, 814, 552, 258, 821], device='cuda:0')\n"
     ]
    },
    {
     "name": "stdout",
     "output_type": "stream",
     "text": [
      "e3  |  b1900  |  MSE 0.013038496486842632  |  Lr 0.0001  |  t tensor([406, 379, 282, 211, 550, 658, 315,  88, 396, 484], device='cuda:0')\n"
     ]
    },
    {
     "name": "stdout",
     "output_type": "stream",
     "text": [
      "e3  |  b2000  |  MSE 0.012393780052661896  |  Lr 0.0001  |  t tensor([349, 810, 853,  94, 831, 156, 425, 497, 371, 964], device='cuda:0')\n"
     ]
    },
    {
     "name": "stdout",
     "output_type": "stream",
     "text": [
      "e3  |  b2100  |  MSE 0.013411834836006165  |  Lr 0.0001  |  t tensor([864, 215, 897, 680, 397, 852, 861, 326, 622,  37], device='cuda:0')\n"
     ]
    },
    {
     "name": "stdout",
     "output_type": "stream",
     "text": [
      "e3  |  b2200  |  MSE 0.021650362759828568  |  Lr 0.0001  |  t tensor([105, 117, 522, 511, 221, 592, 721, 814,  85,  52], device='cuda:0')\n"
     ]
    },
    {
     "name": "stdout",
     "output_type": "stream",
     "text": [
      "e3  |  b2300  |  MSE 0.013182926923036575  |  Lr 0.0001  |  t tensor([672, 996, 156, 209, 961, 158, 499, 701, 244, 679], device='cuda:0')\n"
     ]
    },
    {
     "name": "stdout",
     "output_type": "stream",
     "text": [
      "e3  |  b2400  |  MSE 0.01565566100180149  |  Lr 0.0001  |  t tensor([761,  65, 729, 150, 752, 794, 469, 390, 323, 211], device='cuda:0')\n"
     ]
    },
    {
     "name": "stdout",
     "output_type": "stream",
     "text": [
      "e3  |  b2500  |  MSE 0.016255805268883705  |  Lr 0.0001  |  t tensor([595, 982, 182, 172, 941, 180, 773, 492, 104, 984], device='cuda:0')\n"
     ]
    },
    {
     "name": "stdout",
     "output_type": "stream",
     "text": [
      "e3  |  b2600  |  MSE 0.007547715678811073  |  Lr 0.0001  |  t tensor([898, 349, 711, 966, 725, 389, 116, 437, 607, 638], device='cuda:0')\n"
     ]
    },
    {
     "name": "stdout",
     "output_type": "stream",
     "text": [
      "e3  |  b2700  |  MSE 0.0041130282916128635  |  Lr 0.0001  |  t tensor([585, 588, 736, 834, 216, 417, 956, 857, 729, 652], device='cuda:0')\n"
     ]
    },
    {
     "name": "stdout",
     "output_type": "stream",
     "text": [
      "e3  |  b2800  |  MSE 0.03170040249824524  |  Lr 0.0001  |  t tensor([603, 112,  70, 302, 821, 144, 379, 748,   9, 210], device='cuda:0')\n"
     ]
    },
    {
     "name": "stdout",
     "output_type": "stream",
     "text": [
      "e3  |  b2900  |  MSE 0.010771756060421467  |  Lr 0.0001  |  t tensor([720, 432, 939, 930, 321, 125, 156, 939, 786, 443], device='cuda:0')\n"
     ]
    },
    {
     "name": "stdout",
     "output_type": "stream",
     "text": [
      "e3  |  b3000  |  MSE 0.011464091949164867  |  Lr 0.0001  |  t tensor([805, 556, 843, 945, 383, 831,  37, 848, 973, 473], device='cuda:0')\n"
     ]
    },
    {
     "name": "stdout",
     "output_type": "stream",
     "text": [
      "e3  |  b3100  |  MSE 0.012177112512290478  |  Lr 0.0001  |  t tensor([954, 963, 852, 913, 843, 236, 163, 556, 103, 350], device='cuda:0')\n"
     ]
    },
    {
     "name": "stdout",
     "output_type": "stream",
     "text": [
      "e3  |  b3200  |  MSE 0.07485978305339813  |  Lr 0.0001  |  t tensor([180, 354, 931,   1, 629, 527,  86,  16,  88, 538], device='cuda:0')\n"
     ]
    },
    {
     "name": "stdout",
     "output_type": "stream",
     "text": [
      "e3  |  b3300  |  MSE 0.012043111957609653  |  Lr 0.0001  |  t tensor([293, 154, 791, 699, 186, 836, 859, 774, 255, 539], device='cuda:0')\n"
     ]
    },
    {
     "name": "stdout",
     "output_type": "stream",
     "text": [
      "e3  |  b3400  |  MSE 0.013947516679763794  |  Lr 0.0001  |  t tensor([855, 283, 654, 580, 873, 726, 558,  66, 663, 146], device='cuda:0')\n"
     ]
    },
    {
     "name": "stdout",
     "output_type": "stream",
     "text": [
      "e3  |  b3500  |  MSE 0.008559822104871273  |  Lr 0.0001  |  t tensor([856, 641, 435, 510, 268, 277, 683, 165, 678, 752], device='cuda:0')\n"
     ]
    },
    {
     "name": "stdout",
     "output_type": "stream",
     "text": [
      "e3  |  b3600  |  MSE 0.02398703247308731  |  Lr 0.0001  |  t tensor([934,  17, 961, 816, 627, 198, 353, 208, 874, 132], device='cuda:0')\n"
     ]
    },
    {
     "name": "stdout",
     "output_type": "stream",
     "text": [
      "e3  |  b3700  |  MSE 0.020905334502458572  |  Lr 0.0001  |  t tensor([669, 304, 527, 102,  18, 610, 417, 867, 856, 217], device='cuda:0')\n"
     ]
    },
    {
     "name": "stdout",
     "output_type": "stream",
     "text": [
      "e3  |  b3800  |  MSE 0.004900876432657242  |  Lr 0.0001  |  t tensor([305, 683, 544, 679, 729, 266, 990, 546, 927, 602], device='cuda:0')\n"
     ]
    },
    {
     "name": "stdout",
     "output_type": "stream",
     "text": [
      "e3  |  b3900  |  MSE 0.046166229993104935  |  Lr 0.0001  |  t tensor([646,  71, 122, 243,  10, 540, 485, 814, 136,  11], device='cuda:0')\n"
     ]
    },
    {
     "name": "stdout",
     "output_type": "stream",
     "text": [
      "e3  |  b4000  |  MSE 0.004089029040187597  |  Lr 0.0001  |  t tensor([557, 787, 531, 274, 721, 570, 660, 472, 591, 805], device='cuda:0')\n"
     ]
    },
    {
     "name": "stdout",
     "output_type": "stream",
     "text": [
      "e3  |  b4100  |  MSE 0.01674564741551876  |  Lr 0.0001  |  t tensor([171, 129, 265, 715, 641, 628, 115, 286, 193, 533], device='cuda:0')\n"
     ]
    },
    {
     "name": "stdout",
     "output_type": "stream",
     "text": [
      "e3  |  b4200  |  MSE 0.0193217433989048  |  Lr 0.0001  |  t tensor([ 42, 373, 700, 887,  53, 400, 782, 503, 971, 580], device='cuda:0')\n"
     ]
    },
    {
     "name": "stdout",
     "output_type": "stream",
     "text": [
      "e3  |  b4300  |  MSE 0.01607663929462433  |  Lr 0.0001  |  t tensor([103, 693, 287, 405, 595,  75, 370, 115, 834, 673], device='cuda:0')\n"
     ]
    },
    {
     "name": "stdout",
     "output_type": "stream",
     "text": [
      "e3  |  b4400  |  MSE 0.016678912565112114  |  Lr 0.0001  |  t tensor([ 26, 918, 904, 863, 452, 813, 261, 790, 944,  99], device='cuda:0')\n"
     ]
    },
    {
     "name": "stdout",
     "output_type": "stream",
     "text": [
      "e3  |  b4500  |  MSE 0.028753582388162613  |  Lr 0.0001  |  t tensor([439, 429, 925, 401, 446, 127, 106, 553,  20, 674], device='cuda:0')\n"
     ]
    },
    {
     "name": "stdout",
     "output_type": "stream",
     "text": [
      "e3  |  b4600  |  MSE 0.025396062061190605  |  Lr 0.0001  |  t tensor([139, 826,  35, 201, 621, 982, 860, 382, 562,  34], device='cuda:0')\n"
     ]
    },
    {
     "name": "stdout",
     "output_type": "stream",
     "text": [
      "e3  |  b4700  |  MSE 0.012507799081504345  |  Lr 0.0001  |  t tensor([678, 521, 187, 454, 748, 164, 926, 235, 250, 610], device='cuda:0')\n"
     ]
    },
    {
     "name": "stdout",
     "output_type": "stream",
     "text": [
      "e3  |  b4800  |  MSE 0.011746796779334545  |  Lr 0.0001  |  t tensor([606, 291, 973, 371, 538, 583,  21, 575, 726, 902], device='cuda:0')\n"
     ]
    },
    {
     "name": "stdout",
     "output_type": "stream",
     "text": [
      "e3  |  b4900  |  MSE 0.013069628737866879  |  Lr 0.0001  |  t tensor([ 78, 628, 193, 125, 599, 501, 650, 786, 904, 944], device='cuda:0')\n"
     ]
    },
    {
     "name": "stdout",
     "output_type": "stream",
     "text": [
      "Epoch 3 loss: 0.017135606517014092\n"
     ]
    },
    {
     "data": {
      "application/vnd.jupyter.widget-view+json": {
       "model_id": "744105d78496459bbdbb3df08f8574d2",
       "version_major": 2,
       "version_minor": 0
      },
      "text/plain": [
       "  0%|          | 0/5000 [00:00<?, ?it/s]"
      ]
     },
     "metadata": {},
     "output_type": "display_data"
    },
    {
     "name": "stdout",
     "output_type": "stream",
     "text": [
      "e4  |  b0  |  MSE 0.015243465080857277  |  Lr 0.0001  |  t tensor([443, 247, 908, 337, 406, 964, 877, 223, 186,  85], device='cuda:0')\n"
     ]
    },
    {
     "name": "stdout",
     "output_type": "stream",
     "text": [
      "e4  |  b100  |  MSE 0.013221491128206253  |  Lr 0.0001  |  t tensor([985, 344, 132, 300, 951, 206, 542, 496, 176, 210], device='cuda:0')\n"
     ]
    },
    {
     "name": "stdout",
     "output_type": "stream",
     "text": [
      "e4  |  b200  |  MSE 0.007672439329326153  |  Lr 0.0001  |  t tensor([926, 835, 119, 696, 622, 365, 752, 691, 804, 490], device='cuda:0')\n"
     ]
    },
    {
     "name": "stdout",
     "output_type": "stream",
     "text": [
      "e4  |  b300  |  MSE 0.012401476502418518  |  Lr 0.0001  |  t tensor([849, 292, 795, 142, 763, 136, 269, 730, 993, 781], device='cuda:0')\n"
     ]
    },
    {
     "name": "stdout",
     "output_type": "stream",
     "text": [
      "e4  |  b400  |  MSE 0.014310881495475769  |  Lr 0.0001  |  t tensor([442, 708, 869,  98, 800, 940, 564, 867, 967,  39], device='cuda:0')\n"
     ]
    },
    {
     "name": "stdout",
     "output_type": "stream",
     "text": [
      "e4  |  b500  |  MSE 0.022003019228577614  |  Lr 0.0001  |  t tensor([ 42, 368, 365, 155,  80, 484, 167, 271, 950, 320], device='cuda:0')\n"
     ]
    },
    {
     "name": "stdout",
     "output_type": "stream",
     "text": [
      "e4  |  b600  |  MSE 0.00959909986704588  |  Lr 0.0001  |  t tensor([458, 629, 523, 721, 534, 783,  88, 820, 471, 153], device='cuda:0')\n"
     ]
    },
    {
     "name": "stdout",
     "output_type": "stream",
     "text": [
      "e4  |  b700  |  MSE 0.008284823969006538  |  Lr 0.0001  |  t tensor([ 83, 836, 937,  92, 836, 586, 776, 176, 600, 644], device='cuda:0')\n"
     ]
    },
    {
     "name": "stdout",
     "output_type": "stream",
     "text": [
      "e4  |  b800  |  MSE 0.010389250703155994  |  Lr 0.0001  |  t tensor([848, 268, 313, 640, 156, 939,  77, 487, 538, 773], device='cuda:0')\n"
     ]
    },
    {
     "name": "stdout",
     "output_type": "stream",
     "text": [
      "e4  |  b900  |  MSE 0.008060809224843979  |  Lr 0.0001  |  t tensor([706, 541, 624, 843, 386,  89, 988, 500, 349, 746], device='cuda:0')\n"
     ]
    },
    {
     "name": "stdout",
     "output_type": "stream",
     "text": [
      "e4  |  b1000  |  MSE 0.02174198254942894  |  Lr 0.0001  |  t tensor([168, 973, 284, 820, 512,  11, 141, 342, 911, 974], device='cuda:0')\n"
     ]
    },
    {
     "name": "stdout",
     "output_type": "stream",
     "text": [
      "e4  |  b1100  |  MSE 0.022932879626750946  |  Lr 0.0001  |  t tensor([ 62, 631, 994, 154, 828,  37,  84, 345, 256, 358], device='cuda:0')\n"
     ]
    },
    {
     "name": "stdout",
     "output_type": "stream",
     "text": [
      "e4  |  b1200  |  MSE 0.017525730654597282  |  Lr 0.0001  |  t tensor([561, 700, 265, 658, 213, 132, 112, 648,  53, 839], device='cuda:0')\n"
     ]
    },
    {
     "name": "stdout",
     "output_type": "stream",
     "text": [
      "e4  |  b1300  |  MSE 0.00820582639425993  |  Lr 0.0001  |  t tensor([714, 464, 281, 354, 171, 530, 505, 814, 695, 253], device='cuda:0')\n"
     ]
    },
    {
     "name": "stdout",
     "output_type": "stream",
     "text": [
      "e4  |  b1400  |  MSE 0.011717932298779488  |  Lr 0.0001  |  t tensor([ 71, 209, 619, 612, 761, 283, 472, 585, 577, 175], device='cuda:0')\n"
     ]
    },
    {
     "name": "stdout",
     "output_type": "stream",
     "text": [
      "e4  |  b1500  |  MSE 0.01235591247677803  |  Lr 0.0001  |  t tensor([564, 349, 451, 838,  51, 710, 407, 707, 338, 789], device='cuda:0')\n"
     ]
    },
    {
     "name": "stdout",
     "output_type": "stream",
     "text": [
      "e4  |  b1600  |  MSE 0.00809494499117136  |  Lr 0.0001  |  t tensor([555, 228, 772, 188, 453, 864, 547, 349, 836, 861], device='cuda:0')\n"
     ]
    },
    {
     "name": "stdout",
     "output_type": "stream",
     "text": [
      "e4  |  b1700  |  MSE 0.016066962853074074  |  Lr 0.0001  |  t tensor([906, 309, 154,  39, 697,  90, 151, 547, 520, 454], device='cuda:0')\n"
     ]
    },
    {
     "name": "stdout",
     "output_type": "stream",
     "text": [
      "e4  |  b1800  |  MSE 0.004064751788973808  |  Lr 0.0001  |  t tensor([376, 440, 845, 894, 836, 522, 703, 537, 527, 993], device='cuda:0')\n"
     ]
    },
    {
     "name": "stdout",
     "output_type": "stream",
     "text": [
      "e4  |  b1900  |  MSE 0.010895147919654846  |  Lr 0.0001  |  t tensor([803, 676, 554,  77, 529, 825, 313, 443, 943, 531], device='cuda:0')\n"
     ]
    },
    {
     "name": "stdout",
     "output_type": "stream",
     "text": [
      "e4  |  b2000  |  MSE 0.006746309343725443  |  Lr 0.0001  |  t tensor([291, 313, 899, 221, 655, 802, 887, 754, 642, 471], device='cuda:0')\n"
     ]
    },
    {
     "name": "stdout",
     "output_type": "stream",
     "text": [
      "e4  |  b2100  |  MSE 0.008557574823498726  |  Lr 0.0001  |  t tensor([925, 153, 998, 606, 246, 984, 978, 217, 908, 332], device='cuda:0')\n"
     ]
    },
    {
     "name": "stdout",
     "output_type": "stream",
     "text": [
      "e4  |  b2200  |  MSE 0.007102328818291426  |  Lr 0.0001  |  t tensor([980, 529, 708, 314, 265, 320, 515, 654, 250, 962], device='cuda:0')\n"
     ]
    },
    {
     "name": "stdout",
     "output_type": "stream",
     "text": [
      "e4  |  b2300  |  MSE 0.008614911697804928  |  Lr 0.0001  |  t tensor([870, 432, 642, 118, 712, 215, 725, 612, 218, 998], device='cuda:0')\n"
     ]
    },
    {
     "name": "stdout",
     "output_type": "stream",
     "text": [
      "e4  |  b2400  |  MSE 0.025709953159093857  |  Lr 0.0001  |  t tensor([909, 546, 262,  91, 861, 915, 891, 910, 237,   7], device='cuda:0')\n"
     ]
    },
    {
     "name": "stdout",
     "output_type": "stream",
     "text": [
      "e4  |  b2500  |  MSE 0.020740985870361328  |  Lr 0.0001  |  t tensor([921, 137, 411, 189, 624, 591, 393, 542,  22, 351], device='cuda:0')\n"
     ]
    },
    {
     "name": "stdout",
     "output_type": "stream",
     "text": [
      "e4  |  b2600  |  MSE 0.012361496686935425  |  Lr 0.0001  |  t tensor([515, 502, 309, 763, 412, 157, 550, 809, 104, 290], device='cuda:0')\n"
     ]
    },
    {
     "name": "stdout",
     "output_type": "stream",
     "text": [
      "e4  |  b2700  |  MSE 0.003956956788897514  |  Lr 0.0001  |  t tensor([997, 448, 452, 876, 405, 624, 581, 959, 258, 822], device='cuda:0')\n"
     ]
    },
    {
     "name": "stdout",
     "output_type": "stream",
     "text": [
      "e4  |  b2800  |  MSE 0.004735088441520929  |  Lr 0.0001  |  t tensor([914, 819, 728, 479, 594, 696, 849, 481, 538, 162], device='cuda:0')\n"
     ]
    },
    {
     "name": "stdout",
     "output_type": "stream",
     "text": [
      "e4  |  b2900  |  MSE 0.016747312620282173  |  Lr 0.0001  |  t tensor([ 68, 953, 186, 355, 473, 133, 936, 332, 714, 946], device='cuda:0')\n"
     ]
    },
    {
     "name": "stdout",
     "output_type": "stream",
     "text": [
      "e4  |  b3000  |  MSE 0.004598807077854872  |  Lr 0.0001  |  t tensor([845, 980, 199, 998, 948, 592, 334, 940, 225, 680], device='cuda:0')\n"
     ]
    },
    {
     "name": "stdout",
     "output_type": "stream",
     "text": [
      "e4  |  b3100  |  MSE 0.00884781964123249  |  Lr 0.0001  |  t tensor([999, 929, 324, 897, 448,  89, 389, 124, 819, 566], device='cuda:0')\n"
     ]
    },
    {
     "name": "stdout",
     "output_type": "stream",
     "text": [
      "e4  |  b3200  |  MSE 0.010559174232184887  |  Lr 0.0001  |  t tensor([920, 294, 114, 497, 624,  94, 374, 518, 563, 860], device='cuda:0')\n"
     ]
    },
    {
     "name": "stdout",
     "output_type": "stream",
     "text": [
      "e4  |  b3300  |  MSE 0.014541112817823887  |  Lr 0.0001  |  t tensor([196, 940,  49, 273, 605, 826, 521, 454, 362,  40], device='cuda:0')\n"
     ]
    },
    {
     "name": "stdout",
     "output_type": "stream",
     "text": [
      "e4  |  b3400  |  MSE 0.04830324277281761  |  Lr 0.0001  |  t tensor([330, 358, 208,  17,   6, 467, 400, 795, 188, 645], device='cuda:0')\n"
     ]
    },
    {
     "name": "stdout",
     "output_type": "stream",
     "text": [
      "e4  |  b3500  |  MSE 0.015431534498929977  |  Lr 0.0001  |  t tensor([ 87, 254,  94, 338,  55, 919, 868, 358, 438, 502], device='cuda:0')\n"
     ]
    },
    {
     "name": "stdout",
     "output_type": "stream",
     "text": [
      "e4  |  b3600  |  MSE 0.017405297607183456  |  Lr 0.0001  |  t tensor([697, 478,  63, 841, 683, 405, 142, 722,  81, 376], device='cuda:0')\n"
     ]
    },
    {
     "name": "stdout",
     "output_type": "stream",
     "text": [
      "e4  |  b3700  |  MSE 0.005310839507728815  |  Lr 0.0001  |  t tensor([271, 774, 578, 513, 376, 808, 880, 715, 789, 321], device='cuda:0')\n"
     ]
    },
    {
     "name": "stdout",
     "output_type": "stream",
     "text": [
      "e4  |  b3800  |  MSE 0.011741142719984055  |  Lr 0.0001  |  t tensor([698, 821, 154, 732, 596, 349, 900,  67, 175, 244], device='cuda:0')\n"
     ]
    },
    {
     "name": "stdout",
     "output_type": "stream",
     "text": [
      "e4  |  b3900  |  MSE 0.00912580918520689  |  Lr 0.0001  |  t tensor([280, 434, 564, 849, 588,  58, 880, 368, 541, 890], device='cuda:0')\n"
     ]
    },
    {
     "name": "stdout",
     "output_type": "stream",
     "text": [
      "e4  |  b4000  |  MSE 0.010307017713785172  |  Lr 0.0001  |  t tensor([517,  56, 586, 452, 998, 517, 203, 922, 604, 539], device='cuda:0')\n"
     ]
    },
    {
     "name": "stdout",
     "output_type": "stream",
     "text": [
      "e4  |  b4100  |  MSE 0.012230069376528263  |  Lr 0.0001  |  t tensor([371, 948, 187, 134,  64, 696, 756, 621, 794,  83], device='cuda:0')\n"
     ]
    },
    {
     "name": "stdout",
     "output_type": "stream",
     "text": [
      "e4  |  b4200  |  MSE 0.01477817166596651  |  Lr 0.0001  |  t tensor([ 71, 791, 530, 405, 302, 140, 216, 833, 984, 476], device='cuda:0')\n"
     ]
    },
    {
     "name": "stdout",
     "output_type": "stream",
     "text": [
      "e4  |  b4300  |  MSE 0.024263279512524605  |  Lr 0.0001  |  t tensor([538, 474,  71, 217, 333, 935, 654,  88,  27, 589], device='cuda:0')\n"
     ]
    },
    {
     "name": "stdout",
     "output_type": "stream",
     "text": [
      "e4  |  b4400  |  MSE 0.012467779219150543  |  Lr 0.0001  |  t tensor([470, 990,  52, 422,  82, 674, 851, 593, 789, 578], device='cuda:0')\n"
     ]
    },
    {
     "name": "stdout",
     "output_type": "stream",
     "text": [
      "e4  |  b4500  |  MSE 0.009882365353405476  |  Lr 0.0001  |  t tensor([ 56, 634, 246, 770, 239, 350, 661, 803, 554, 451], device='cuda:0')\n"
     ]
    },
    {
     "name": "stdout",
     "output_type": "stream",
     "text": [
      "e4  |  b4600  |  MSE 0.019622864201664925  |  Lr 0.0001  |  t tensor([899, 217, 673, 397, 496,   9, 570, 379, 124, 969], device='cuda:0')\n"
     ]
    },
    {
     "name": "stdout",
     "output_type": "stream",
     "text": [
      "e4  |  b4700  |  MSE 0.009425642900168896  |  Lr 0.0001  |  t tensor([492, 247, 202, 976, 595, 822, 263, 150, 405, 662], device='cuda:0')\n"
     ]
    },
    {
     "name": "stdout",
     "output_type": "stream",
     "text": [
      "e4  |  b4800  |  MSE 0.008106343448162079  |  Lr 0.0001  |  t tensor([544, 179, 374, 881, 363, 825, 243, 339, 287, 846], device='cuda:0')\n"
     ]
    },
    {
     "name": "stdout",
     "output_type": "stream",
     "text": [
      "e4  |  b4900  |  MSE 0.00824030116200447  |  Lr 0.0001  |  t tensor([791, 796, 147, 447, 753, 208, 917, 497, 118, 699], device='cuda:0')\n"
     ]
    },
    {
     "name": "stdout",
     "output_type": "stream",
     "text": [
      "Epoch 4 loss: 0.015627562171197495\n"
     ]
    },
    {
     "data": {
      "application/vnd.jupyter.widget-view+json": {
       "model_id": "a67e7930850849a8977899d7caa8157b",
       "version_major": 2,
       "version_minor": 0
      },
      "text/plain": [
       "  0%|          | 0/5000 [00:00<?, ?it/s]"
      ]
     },
     "metadata": {},
     "output_type": "display_data"
    },
    {
     "name": "stdout",
     "output_type": "stream",
     "text": [
      "e5  |  b0  |  MSE 0.026969270780682564  |  Lr 0.0001  |  t tensor([ 70, 511, 726, 849, 625, 968,   7, 720, 312, 504], device='cuda:0')\n"
     ]
    },
    {
     "name": "stdout",
     "output_type": "stream",
     "text": [
      "e5  |  b100  |  MSE 0.0052048806101083755  |  Lr 0.0001  |  t tensor([834, 320, 424, 699, 929, 695, 787, 170, 487, 679], device='cuda:0')\n"
     ]
    },
    {
     "name": "stdout",
     "output_type": "stream",
     "text": [
      "e5  |  b200  |  MSE 0.004088523332029581  |  Lr 0.0001  |  t tensor([995, 355, 925, 855, 742, 341, 898, 531, 287, 383], device='cuda:0')\n"
     ]
    },
    {
     "name": "stdout",
     "output_type": "stream",
     "text": [
      "e5  |  b300  |  MSE 0.008858079090714455  |  Lr 0.0001  |  t tensor([275, 149, 777, 896, 645, 879, 928, 597, 399,  61], device='cuda:0')\n"
     ]
    },
    {
     "name": "stdout",
     "output_type": "stream",
     "text": [
      "e5  |  b400  |  MSE 0.008830297738313675  |  Lr 0.0001  |  t tensor([685, 403, 558, 546, 905, 390,  41, 487, 229, 509], device='cuda:0')\n"
     ]
    },
    {
     "name": "stdout",
     "output_type": "stream",
     "text": [
      "e5  |  b500  |  MSE 0.017329413443803787  |  Lr 0.0001  |  t tensor([437, 451, 348, 597, 128, 809,  44, 453, 351, 606], device='cuda:0')\n"
     ]
    },
    {
     "name": "stdout",
     "output_type": "stream",
     "text": [
      "e5  |  b600  |  MSE 0.02041030488908291  |  Lr 0.0001  |  t tensor([ 53, 230,  65, 755, 663,  53, 663, 780, 811, 483], device='cuda:0')\n"
     ]
    },
    {
     "name": "stdout",
     "output_type": "stream",
     "text": [
      "e5  |  b700  |  MSE 0.025758735835552216  |  Lr 0.0001  |  t tensor([ 84,  84, 577,  38, 948,  52, 494, 920, 739, 102], device='cuda:0')\n"
     ]
    },
    {
     "name": "stdout",
     "output_type": "stream",
     "text": [
      "e5  |  b800  |  MSE 0.012560119852423668  |  Lr 0.0001  |  t tensor([185, 289, 119, 728, 479, 350, 510, 667, 257, 254], device='cuda:0')\n"
     ]
    },
    {
     "name": "stdout",
     "output_type": "stream",
     "text": [
      "e5  |  b900  |  MSE 0.0051424759440124035  |  Lr 0.0001  |  t tensor([394, 431, 432, 651, 455, 556, 870, 561, 789, 454], device='cuda:0')\n"
     ]
    },
    {
     "name": "stdout",
     "output_type": "stream",
     "text": [
      "e5  |  b1000  |  MSE 0.014521962963044643  |  Lr 0.0001  |  t tensor([505, 616, 581, 247, 216,  94, 733, 105, 256, 278], device='cuda:0')\n"
     ]
    },
    {
     "name": "stdout",
     "output_type": "stream",
     "text": [
      "e5  |  b1100  |  MSE 0.04535355418920517  |  Lr 0.0001  |  t tensor([875,  63, 727,   7, 959, 404, 112,  50,  43, 890], device='cuda:0')\n"
     ]
    },
    {
     "name": "stdout",
     "output_type": "stream",
     "text": [
      "e5  |  b1200  |  MSE 0.014398233965039253  |  Lr 0.0001  |  t tensor([544,  50, 444, 353, 124, 360, 677, 211, 407, 701], device='cuda:0')\n"
     ]
    },
    {
     "name": "stdout",
     "output_type": "stream",
     "text": [
      "e5  |  b1300  |  MSE 0.021932892501354218  |  Lr 0.0001  |  t tensor([556,  46, 522, 828, 188,  85, 164, 297, 364, 136], device='cuda:0')\n"
     ]
    },
    {
     "name": "stdout",
     "output_type": "stream",
     "text": [
      "e5  |  b1400  |  MSE 0.012923218309879303  |  Lr 0.0001  |  t tensor([621, 652, 864,  18, 800, 843, 366, 318, 687, 634], device='cuda:0')\n"
     ]
    },
    {
     "name": "stdout",
     "output_type": "stream",
     "text": [
      "e5  |  b1500  |  MSE 0.00839263666421175  |  Lr 0.0001  |  t tensor([738, 731,  54, 881, 772, 988, 113, 787, 587, 707], device='cuda:0')\n"
     ]
    },
    {
     "name": "stdout",
     "output_type": "stream",
     "text": [
      "e5  |  b1600  |  MSE 0.022216880694031715  |  Lr 0.0001  |  t tensor([298, 305,  56,  21, 416, 248, 758, 186, 517, 344], device='cuda:0')\n"
     ]
    },
    {
     "name": "stdout",
     "output_type": "stream",
     "text": [
      "e5  |  b1700  |  MSE 0.038597382605075836  |  Lr 0.0001  |  t tensor([  8, 391,   8, 414, 735, 116, 451, 987, 981,  90], device='cuda:0')\n"
     ]
    },
    {
     "name": "stdout",
     "output_type": "stream",
     "text": [
      "e5  |  b1800  |  MSE 0.014764195308089256  |  Lr 0.0001  |  t tensor([175, 392,  45,  66, 391, 741, 789, 941, 479, 917], device='cuda:0')\n"
     ]
    },
    {
     "name": "stdout",
     "output_type": "stream",
     "text": [
      "e5  |  b1900  |  MSE 0.021481117233633995  |  Lr 0.0001  |  t tensor([127, 638,  14, 349, 741, 697, 280, 554, 430, 294], device='cuda:0')\n"
     ]
    },
    {
     "name": "stdout",
     "output_type": "stream",
     "text": [
      "e5  |  b2000  |  MSE 0.014710159040987492  |  Lr 0.0001  |  t tensor([384, 624, 205,  48, 194, 900, 163, 178, 844, 480], device='cuda:0')\n"
     ]
    },
    {
     "name": "stdout",
     "output_type": "stream",
     "text": [
      "e5  |  b2100  |  MSE 0.015989793464541435  |  Lr 0.0001  |  t tensor([212, 527, 742,  97, 991, 494, 117, 398,  57, 833], device='cuda:0')\n"
     ]
    },
    {
     "name": "stdout",
     "output_type": "stream",
     "text": [
      "e5  |  b2200  |  MSE 0.013572661206126213  |  Lr 0.0001  |  t tensor([565, 529, 676, 430, 145, 332, 580, 135, 327, 369], device='cuda:0')\n"
     ]
    },
    {
     "name": "stdout",
     "output_type": "stream",
     "text": [
      "e5  |  b2300  |  MSE 0.010597491636872292  |  Lr 0.0001  |  t tensor([575, 512, 858, 223, 276,  48, 537, 639, 544, 648], device='cuda:0')\n"
     ]
    },
    {
     "name": "stdout",
     "output_type": "stream",
     "text": [
      "e5  |  b2400  |  MSE 0.033039774745702744  |  Lr 0.0001  |  t tensor([183, 328, 522, 295, 106, 630,   7, 994,  39, 102], device='cuda:0')\n"
     ]
    },
    {
     "name": "stdout",
     "output_type": "stream",
     "text": [
      "e5  |  b2500  |  MSE 0.005685828626155853  |  Lr 0.0001  |  t tensor([865, 399, 364, 604, 882, 289, 421, 697, 741, 581], device='cuda:0')\n"
     ]
    },
    {
     "name": "stdout",
     "output_type": "stream",
     "text": [
      "e5  |  b2600  |  MSE 0.035504888743162155  |  Lr 0.0001  |  t tensor([675, 663, 392,  45, 519, 569, 926, 837,   6, 727], device='cuda:0')\n"
     ]
    },
    {
     "name": "stdout",
     "output_type": "stream",
     "text": [
      "e5  |  b2700  |  MSE 0.014962902292609215  |  Lr 0.0001  |  t tensor([993, 297, 165, 228, 828, 816,  26, 950, 450, 859], device='cuda:0')\n"
     ]
    },
    {
     "name": "stdout",
     "output_type": "stream",
     "text": [
      "e5  |  b2800  |  MSE 0.0147201307117939  |  Lr 0.0001  |  t tensor([229, 480, 131, 187, 858, 584, 660, 169, 178, 982], device='cuda:0')\n"
     ]
    },
    {
     "name": "stdout",
     "output_type": "stream",
     "text": [
      "e5  |  b2900  |  MSE 0.019771747291088104  |  Lr 0.0001  |  t tensor([181, 224, 740, 409, 833, 553, 941,  16, 574, 684], device='cuda:0')\n"
     ]
    },
    {
     "name": "stdout",
     "output_type": "stream",
     "text": [
      "e5  |  b3000  |  MSE 0.018487876281142235  |  Lr 0.0001  |  t tensor([167,  51, 911, 866, 751,  14, 928, 206, 849, 873], device='cuda:0')\n"
     ]
    },
    {
     "name": "stdout",
     "output_type": "stream",
     "text": [
      "e5  |  b3100  |  MSE 0.022830739617347717  |  Lr 0.0001  |  t tensor([484, 393,  66, 815,  75, 309, 255, 814, 600,  36], device='cuda:0')\n"
     ]
    },
    {
     "name": "stdout",
     "output_type": "stream",
     "text": [
      "e5  |  b3200  |  MSE 0.007539206184446812  |  Lr 0.0001  |  t tensor([167, 353, 475, 444, 286, 530, 439, 371, 650, 426], device='cuda:0')\n"
     ]
    },
    {
     "name": "stdout",
     "output_type": "stream",
     "text": [
      "e5  |  b3300  |  MSE 0.00814057607203722  |  Lr 0.0001  |  t tensor([469, 546, 742, 924,  95, 589, 977, 154, 988, 506], device='cuda:0')\n"
     ]
    },
    {
     "name": "stdout",
     "output_type": "stream",
     "text": [
      "e5  |  b3400  |  MSE 0.03205975517630577  |  Lr 0.0001  |  t tensor([801,  12,  61, 479,  82, 718,  44, 315, 510, 879], device='cuda:0')\n"
     ]
    },
    {
     "name": "stdout",
     "output_type": "stream",
     "text": [
      "e5  |  b3500  |  MSE 0.02224649302661419  |  Lr 0.0001  |  t tensor([203,  28,  33, 521, 580, 699, 126, 895, 270, 238], device='cuda:0')\n"
     ]
    },
    {
     "name": "stdout",
     "output_type": "stream",
     "text": [
      "e5  |  b3600  |  MSE 0.011136597953736782  |  Lr 0.0001  |  t tensor([737, 196, 736, 543, 546, 401, 572, 965,  55, 700], device='cuda:0')\n"
     ]
    },
    {
     "name": "stdout",
     "output_type": "stream",
     "text": [
      "e5  |  b3700  |  MSE 0.014092497527599335  |  Lr 0.0001  |  t tensor([ 97, 225, 146, 943, 346, 269, 325, 200, 743, 981], device='cuda:0')\n"
     ]
    },
    {
     "name": "stdout",
     "output_type": "stream",
     "text": [
      "e5  |  b3800  |  MSE 0.010461282916367054  |  Lr 0.0001  |  t tensor([339, 985, 473,  43, 503, 605, 853, 429, 354, 824], device='cuda:0')\n"
     ]
    },
    {
     "name": "stdout",
     "output_type": "stream",
     "text": [
      "e5  |  b3900  |  MSE 0.016756746917963028  |  Lr 0.0001  |  t tensor([161, 883, 192, 985, 523, 119, 347, 105, 296, 848], device='cuda:0')\n"
     ]
    },
    {
     "name": "stdout",
     "output_type": "stream",
     "text": [
      "e5  |  b4000  |  MSE 0.009320023469626904  |  Lr 0.0001  |  t tensor([912, 833, 688, 119, 614, 215, 219, 611, 262, 593], device='cuda:0')\n"
     ]
    },
    {
     "name": "stdout",
     "output_type": "stream",
     "text": [
      "e5  |  b4100  |  MSE 0.012707740068435669  |  Lr 0.0001  |  t tensor([984, 332, 794,  13, 981, 808, 860, 925, 328, 881], device='cuda:0')\n"
     ]
    },
    {
     "name": "stdout",
     "output_type": "stream",
     "text": [
      "e5  |  b4200  |  MSE 0.0034177065826952457  |  Lr 0.0001  |  t tensor([857, 681, 958, 537, 804, 871, 435, 142, 713, 887], device='cuda:0')\n"
     ]
    },
    {
     "name": "stdout",
     "output_type": "stream",
     "text": [
      "e5  |  b4300  |  MSE 0.019190244376659393  |  Lr 0.0001  |  t tensor([ 76, 590, 351, 556,  50, 695, 368, 569, 168, 907], device='cuda:0')\n"
     ]
    },
    {
     "name": "stdout",
     "output_type": "stream",
     "text": [
      "e5  |  b4400  |  MSE 0.02172224409878254  |  Lr 0.0001  |  t tensor([361,  37, 819, 123, 358, 303, 192, 856, 232, 238], device='cuda:0')\n"
     ]
    },
    {
     "name": "stdout",
     "output_type": "stream",
     "text": [
      "e5  |  b4500  |  MSE 0.01579209603369236  |  Lr 0.0001  |  t tensor([465, 352, 225, 214, 662, 887, 115,  40, 384, 670], device='cuda:0')\n"
     ]
    },
    {
     "name": "stdout",
     "output_type": "stream",
     "text": [
      "e5  |  b4600  |  MSE 0.009693806059658527  |  Lr 0.0001  |  t tensor([ 24, 525, 401, 452, 853, 514, 601, 773, 512, 485], device='cuda:0')\n"
     ]
    },
    {
     "name": "stdout",
     "output_type": "stream",
     "text": [
      "e5  |  b4700  |  MSE 0.008376793935894966  |  Lr 0.0001  |  t tensor([662, 212, 523, 518, 244, 536, 483, 498, 475, 447], device='cuda:0')\n"
     ]
    },
    {
     "name": "stdout",
     "output_type": "stream",
     "text": [
      "e5  |  b4800  |  MSE 0.013370673172175884  |  Lr 0.0001  |  t tensor([525, 486, 590, 511, 324, 117, 441, 300,  74, 771], device='cuda:0')\n"
     ]
    },
    {
     "name": "stdout",
     "output_type": "stream",
     "text": [
      "e5  |  b4900  |  MSE 0.008157322183251381  |  Lr 0.0001  |  t tensor([676, 853, 849, 283, 155, 397, 811, 416, 204, 796], device='cuda:0')\n"
     ]
    },
    {
     "name": "stdout",
     "output_type": "stream",
     "text": [
      "Epoch 5 loss: 0.015026484750327654\n"
     ]
    },
    {
     "data": {
      "application/vnd.jupyter.widget-view+json": {
       "model_id": "127beb357ec642febd773a938c00ab34",
       "version_major": 2,
       "version_minor": 0
      },
      "text/plain": [
       "  0%|          | 0/5000 [00:00<?, ?it/s]"
      ]
     },
     "metadata": {},
     "output_type": "display_data"
    },
    {
     "name": "stdout",
     "output_type": "stream",
     "text": [
      "e6  |  b0  |  MSE 0.01435028575360775  |  Lr 0.0001  |  t tensor([532, 680, 149,  16, 495, 543, 835, 528, 962, 635], device='cuda:0')\n"
     ]
    },
    {
     "name": "stdout",
     "output_type": "stream",
     "text": [
      "e6  |  b100  |  MSE 0.0034576256293803453  |  Lr 0.0001  |  t tensor([953, 758, 797, 709, 798, 835, 275, 960, 553, 618], device='cuda:0')\n"
     ]
    },
    {
     "name": "stdout",
     "output_type": "stream",
     "text": [
      "e6  |  b200  |  MSE 0.017092013731598854  |  Lr 0.0001  |  t tensor([192, 432, 575,  32, 137, 136, 339, 228, 658, 525], device='cuda:0')\n"
     ]
    },
    {
     "name": "stdout",
     "output_type": "stream",
     "text": [
      "e6  |  b300  |  MSE 0.005778037011623383  |  Lr 0.0001  |  t tensor([504, 598, 263, 196, 411, 942, 508, 812, 363, 518], device='cuda:0')\n"
     ]
    },
    {
     "name": "stdout",
     "output_type": "stream",
     "text": [
      "e6  |  b400  |  MSE 0.009427766315639019  |  Lr 0.0001  |  t tensor([215, 715, 306, 321, 963, 975, 359, 291, 357, 266], device='cuda:0')\n"
     ]
    },
    {
     "name": "stdout",
     "output_type": "stream",
     "text": [
      "e6  |  b500  |  MSE 0.015721512958407402  |  Lr 0.0001  |  t tensor([284, 331, 988, 785, 501, 351, 941,  22, 930, 854], device='cuda:0')\n"
     ]
    },
    {
     "name": "stdout",
     "output_type": "stream",
     "text": [
      "e6  |  b600  |  MSE 0.015162295661866665  |  Lr 0.0001  |  t tensor([487,  46, 731, 603, 545, 269, 669, 232, 356, 265], device='cuda:0')\n"
     ]
    },
    {
     "name": "stdout",
     "output_type": "stream",
     "text": [
      "e6  |  b700  |  MSE 0.007634441368281841  |  Lr 0.0001  |  t tensor([806,  43, 858, 522, 733, 865, 281, 585, 960, 697], device='cuda:0')\n"
     ]
    },
    {
     "name": "stdout",
     "output_type": "stream",
     "text": [
      "e6  |  b800  |  MSE 0.012404151260852814  |  Lr 0.0001  |  t tensor([311, 696, 763, 308, 840, 212, 259, 797, 180,  38], device='cuda:0')\n"
     ]
    },
    {
     "name": "stdout",
     "output_type": "stream",
     "text": [
      "e6  |  b900  |  MSE 0.01207773294299841  |  Lr 0.0001  |  t tensor([797, 344, 949, 807, 321, 590, 647,  71,  69, 754], device='cuda:0')\n"
     ]
    },
    {
     "name": "stdout",
     "output_type": "stream",
     "text": [
      "e6  |  b1000  |  MSE 0.015653099864721298  |  Lr 0.0001  |  t tensor([209, 786, 103, 986, 429, 117, 331,  93, 534, 950], device='cuda:0')\n"
     ]
    },
    {
     "name": "stdout",
     "output_type": "stream",
     "text": [
      "e6  |  b1100  |  MSE 0.033440690487623215  |  Lr 0.0001  |  t tensor([238,  11, 399, 169, 500, 813, 893,  31, 279, 161], device='cuda:0')\n"
     ]
    },
    {
     "name": "stdout",
     "output_type": "stream",
     "text": [
      "e6  |  b1200  |  MSE 0.01619214378297329  |  Lr 0.0001  |  t tensor([287, 902, 224, 375, 196,  84, 283, 686, 836, 138], device='cuda:0')\n"
     ]
    },
    {
     "name": "stdout",
     "output_type": "stream",
     "text": [
      "e6  |  b1300  |  MSE 0.012517791241407394  |  Lr 0.0001  |  t tensor([327, 891,  75, 179, 534, 426, 454, 915, 405, 853], device='cuda:0')\n"
     ]
    },
    {
     "name": "stdout",
     "output_type": "stream",
     "text": [
      "e6  |  b1400  |  MSE 0.019726675003767014  |  Lr 0.0001  |  t tensor([ 24,  84, 821, 736, 765, 795, 208, 565, 757, 177], device='cuda:0')\n"
     ]
    },
    {
     "name": "stdout",
     "output_type": "stream",
     "text": [
      "e6  |  b1500  |  MSE 0.008011868223547935  |  Lr 0.0001  |  t tensor([469, 937, 284, 224, 179, 701, 615, 680, 715, 870], device='cuda:0')\n"
     ]
    },
    {
     "name": "stdout",
     "output_type": "stream",
     "text": [
      "e6  |  b1600  |  MSE 0.006663610227406025  |  Lr 0.0001  |  t tensor([318, 472, 903, 848, 392, 374, 259, 294, 799, 543], device='cuda:0')\n"
     ]
    },
    {
     "name": "stdout",
     "output_type": "stream",
     "text": [
      "e6  |  b1700  |  MSE 0.013116052374243736  |  Lr 0.0001  |  t tensor([326, 769, 887, 473, 672, 520, 167,  48, 380, 177], device='cuda:0')\n"
     ]
    },
    {
     "name": "stdout",
     "output_type": "stream",
     "text": [
      "e6  |  b1800  |  MSE 0.007836254313588142  |  Lr 0.0001  |  t tensor([393, 111, 453, 546, 447, 223, 726, 771, 420, 528], device='cuda:0')\n"
     ]
    },
    {
     "name": "stdout",
     "output_type": "stream",
     "text": [
      "e6  |  b1900  |  MSE 0.007333516608923674  |  Lr 0.0001  |  t tensor([385, 323, 806, 973, 561, 640, 516, 964, 426,  61], device='cuda:0')\n"
     ]
    },
    {
     "name": "stdout",
     "output_type": "stream",
     "text": [
      "e6  |  b2000  |  MSE 0.017030030488967896  |  Lr 0.0001  |  t tensor([701,  96, 533, 185,  45, 140, 775, 601, 478, 835], device='cuda:0')\n"
     ]
    },
    {
     "name": "stdout",
     "output_type": "stream",
     "text": [
      "e6  |  b2100  |  MSE 0.026107212528586388  |  Lr 0.0001  |  t tensor([743, 640, 107, 619, 331, 368, 118,   7, 331, 890], device='cuda:0')\n"
     ]
    },
    {
     "name": "stdout",
     "output_type": "stream",
     "text": [
      "e6  |  b2200  |  MSE 0.009933726862072945  |  Lr 0.0001  |  t tensor([646, 706, 945, 108, 175, 942, 808, 166, 138, 414], device='cuda:0')\n"
     ]
    },
    {
     "name": "stdout",
     "output_type": "stream",
     "text": [
      "e6  |  b2300  |  MSE 0.006270409096032381  |  Lr 0.0001  |  t tensor([470, 655, 963, 366, 627, 754, 985, 343, 929, 103], device='cuda:0')\n"
     ]
    },
    {
     "name": "stdout",
     "output_type": "stream",
     "text": [
      "e6  |  b2400  |  MSE 0.028480321168899536  |  Lr 0.0001  |  t tensor([826,   7, 809, 645, 965, 134, 506, 742, 149, 393], device='cuda:0')\n"
     ]
    },
    {
     "name": "stdout",
     "output_type": "stream",
     "text": [
      "e6  |  b2500  |  MSE 0.018897797912359238  |  Lr 0.0001  |  t tensor([795, 781, 782, 386, 762, 129, 880, 690,  14, 502], device='cuda:0')\n"
     ]
    },
    {
     "name": "stdout",
     "output_type": "stream",
     "text": [
      "e6  |  b2600  |  MSE 0.006986761000007391  |  Lr 0.0001  |  t tensor([841, 800, 500, 920, 199,  94, 721, 542, 833, 942], device='cuda:0')\n"
     ]
    },
    {
     "name": "stdout",
     "output_type": "stream",
     "text": [
      "e6  |  b2700  |  MSE 0.009227081201970577  |  Lr 0.0001  |  t tensor([831, 326, 539, 809, 374, 466, 294, 290, 221, 331], device='cuda:0')\n"
     ]
    },
    {
     "name": "stdout",
     "output_type": "stream",
     "text": [
      "e6  |  b2800  |  MSE 0.013221656903624535  |  Lr 0.0001  |  t tensor([921, 798, 500, 906, 706, 152, 975,  34, 871, 114], device='cuda:0')\n"
     ]
    },
    {
     "name": "stdout",
     "output_type": "stream",
     "text": [
      "e6  |  b2900  |  MSE 0.028428157791495323  |  Lr 0.0001  |  t tensor([838,  61, 934,  25, 902, 326, 415, 169, 793,  22], device='cuda:0')\n"
     ]
    },
    {
     "name": "stdout",
     "output_type": "stream",
     "text": [
      "e6  |  b3000  |  MSE 0.026269182562828064  |  Lr 0.0001  |  t tensor([656, 169,   5, 799, 787, 587, 628, 839, 716, 911], device='cuda:0')\n"
     ]
    },
    {
     "name": "stdout",
     "output_type": "stream",
     "text": [
      "e6  |  b3100  |  MSE 0.019079888239502907  |  Lr 0.0001  |  t tensor([351, 442, 485, 961, 112, 125, 250, 997,  67,  77], device='cuda:0')\n"
     ]
    },
    {
     "name": "stdout",
     "output_type": "stream",
     "text": [
      "e6  |  b3200  |  MSE 0.008524393662810326  |  Lr 0.0001  |  t tensor([473, 819, 320, 244, 123, 911, 824,  81, 749, 951], device='cuda:0')\n"
     ]
    },
    {
     "name": "stdout",
     "output_type": "stream",
     "text": [
      "e6  |  b3300  |  MSE 0.012668505311012268  |  Lr 0.0001  |  t tensor([225, 175, 882, 481, 710, 643, 783,  53, 322, 135], device='cuda:0')\n"
     ]
    },
    {
     "name": "stdout",
     "output_type": "stream",
     "text": [
      "e6  |  b3400  |  MSE 0.006342980545014143  |  Lr 0.0001  |  t tensor([295, 894, 360, 391, 885, 810, 608, 294, 366, 319], device='cuda:0')\n"
     ]
    },
    {
     "name": "stdout",
     "output_type": "stream",
     "text": [
      "e6  |  b3500  |  MSE 0.011746793985366821  |  Lr 0.0001  |  t tensor([253, 350, 773, 342, 533, 148, 852, 134, 936, 213], device='cuda:0')\n"
     ]
    },
    {
     "name": "stdout",
     "output_type": "stream",
     "text": [
      "e6  |  b3600  |  MSE 0.008372124284505844  |  Lr 0.0001  |  t tensor([257, 899, 355, 998, 575,  40, 383, 873, 971, 983], device='cuda:0')\n"
     ]
    },
    {
     "name": "stdout",
     "output_type": "stream",
     "text": [
      "e6  |  b3700  |  MSE 0.020446790382266045  |  Lr 0.0001  |  t tensor([ 30,  38, 831, 458, 267, 538, 968, 453, 317, 727], device='cuda:0')\n"
     ]
    },
    {
     "name": "stdout",
     "output_type": "stream",
     "text": [
      "e6  |  b3800  |  MSE 0.023135190829634666  |  Lr 0.0001  |  t tensor([318, 739, 267, 136, 989, 105, 460, 302,  49,  79], device='cuda:0')\n"
     ]
    },
    {
     "name": "stdout",
     "output_type": "stream",
     "text": [
      "e6  |  b3900  |  MSE 0.004042942076921463  |  Lr 0.0001  |  t tensor([ 85, 407, 990, 532, 601, 778, 890, 846, 947, 801], device='cuda:0')\n"
     ]
    },
    {
     "name": "stdout",
     "output_type": "stream",
     "text": [
      "e6  |  b4000  |  MSE 0.018544206395745277  |  Lr 0.0001  |  t tensor([ 41, 366, 409, 982, 656,  27, 250, 911, 705, 247], device='cuda:0')\n"
     ]
    },
    {
     "name": "stdout",
     "output_type": "stream",
     "text": [
      "e6  |  b4100  |  MSE 0.01177278533577919  |  Lr 0.0001  |  t tensor([134, 987, 243, 664, 377, 729, 994,  37, 816, 579], device='cuda:0')\n"
     ]
    },
    {
     "name": "stdout",
     "output_type": "stream",
     "text": [
      "e6  |  b4200  |  MSE 0.015168813988566399  |  Lr 0.0001  |  t tensor([ 41, 849, 354, 510, 589, 578, 752, 208, 853, 554], device='cuda:0')\n"
     ]
    },
    {
     "name": "stdout",
     "output_type": "stream",
     "text": [
      "e6  |  b4300  |  MSE 0.006308143492788076  |  Lr 0.0001  |  t tensor([861, 898, 751, 107, 636, 413, 741, 303, 980, 795], device='cuda:0')\n"
     ]
    },
    {
     "name": "stdout",
     "output_type": "stream",
     "text": [
      "e6  |  b4400  |  MSE 0.01674797385931015  |  Lr 0.0001  |  t tensor([129, 291, 595, 540,  45, 354, 809, 153, 405, 556], device='cuda:0')\n"
     ]
    },
    {
     "name": "stdout",
     "output_type": "stream",
     "text": [
      "e6  |  b4500  |  MSE 0.01440866757184267  |  Lr 0.0001  |  t tensor([687, 275, 754, 336,  31, 248, 389, 786, 858, 372], device='cuda:0')\n"
     ]
    },
    {
     "name": "stdout",
     "output_type": "stream",
     "text": [
      "e6  |  b4600  |  MSE 0.01334305014461279  |  Lr 0.0001  |  t tensor([347, 569, 934, 709, 929, 284, 471, 282, 538,  52], device='cuda:0')\n"
     ]
    },
    {
     "name": "stdout",
     "output_type": "stream",
     "text": [
      "e6  |  b4700  |  MSE 0.021885355934500694  |  Lr 0.0001  |  t tensor([265, 927, 617, 746, 817, 361, 802, 130, 244,   7], device='cuda:0')\n"
     ]
    },
    {
     "name": "stdout",
     "output_type": "stream",
     "text": [
      "e6  |  b4800  |  MSE 0.010508188046514988  |  Lr 0.0001  |  t tensor([916, 439, 812, 779, 138, 118, 910, 182, 606, 969], device='cuda:0')\n"
     ]
    },
    {
     "name": "stdout",
     "output_type": "stream",
     "text": [
      "e6  |  b4900  |  MSE 0.005240364465862513  |  Lr 0.0001  |  t tensor([685, 776, 125, 913, 804, 825, 312, 522, 507, 803], device='cuda:0')\n"
     ]
    },
    {
     "name": "stdout",
     "output_type": "stream",
     "text": [
      "Epoch 6 loss: 0.014751650883757975\n"
     ]
    },
    {
     "data": {
      "application/vnd.jupyter.widget-view+json": {
       "model_id": "8f06684f871a4c13a35aaa651bb12b32",
       "version_major": 2,
       "version_minor": 0
      },
      "text/plain": [
       "  0%|          | 0/5000 [00:00<?, ?it/s]"
      ]
     },
     "metadata": {},
     "output_type": "display_data"
    },
    {
     "name": "stdout",
     "output_type": "stream",
     "text": [
      "e7  |  b0  |  MSE 0.006995114963501692  |  Lr 0.0001  |  t tensor([865, 570, 884, 399, 878, 293, 373,  40, 445, 430], device='cuda:0')\n"
     ]
    },
    {
     "name": "stdout",
     "output_type": "stream",
     "text": [
      "e7  |  b100  |  MSE 0.009065269492566586  |  Lr 0.0001  |  t tensor([714, 148, 966, 205, 174, 767, 248, 398, 323, 964], device='cuda:0')\n"
     ]
    },
    {
     "name": "stdout",
     "output_type": "stream",
     "text": [
      "e7  |  b200  |  MSE 0.015148065984249115  |  Lr 0.0001  |  t tensor([ 36, 600, 683, 506, 410, 903, 175, 817, 177, 962], device='cuda:0')\n"
     ]
    },
    {
     "name": "stdout",
     "output_type": "stream",
     "text": [
      "e7  |  b300  |  MSE 0.0053534116595983505  |  Lr 0.0001  |  t tensor([752,  89, 924, 585, 940, 878, 980, 908, 413, 721], device='cuda:0')\n"
     ]
    },
    {
     "name": "stdout",
     "output_type": "stream",
     "text": [
      "e7  |  b400  |  MSE 0.030619831755757332  |  Lr 0.0001  |  t tensor([773, 137, 228,  19, 914, 791, 780, 344,   5, 126], device='cuda:0')\n"
     ]
    },
    {
     "name": "stdout",
     "output_type": "stream",
     "text": [
      "e7  |  b500  |  MSE 0.01742853969335556  |  Lr 0.0001  |  t tensor([575, 612, 254, 555, 305, 756,  28, 798, 989, 168], device='cuda:0')\n"
     ]
    },
    {
     "name": "stdout",
     "output_type": "stream",
     "text": [
      "e7  |  b600  |  MSE 0.011716414242982864  |  Lr 0.0001  |  t tensor([774, 809, 264, 492, 696, 674, 626, 458, 286,  56], device='cuda:0')\n"
     ]
    },
    {
     "name": "stdout",
     "output_type": "stream",
     "text": [
      "e7  |  b700  |  MSE 0.024519935250282288  |  Lr 0.0001  |  t tensor([ 27, 282, 208, 731,  41, 350, 961, 147, 326, 172], device='cuda:0')\n"
     ]
    },
    {
     "name": "stdout",
     "output_type": "stream",
     "text": [
      "e7  |  b800  |  MSE 0.02354617975652218  |  Lr 0.0001  |  t tensor([193, 350, 741,  64, 468, 572, 446, 832,  11, 773], device='cuda:0')\n"
     ]
    },
    {
     "name": "stdout",
     "output_type": "stream",
     "text": [
      "e7  |  b900  |  MSE 0.0025711439084261656  |  Lr 0.0001  |  t tensor([646, 667, 740, 968, 638, 779, 441, 664, 313, 943], device='cuda:0')\n"
     ]
    },
    {
     "name": "stdout",
     "output_type": "stream",
     "text": [
      "e7  |  b1000  |  MSE 0.008724373765289783  |  Lr 0.0001  |  t tensor([723, 759, 416, 989, 946, 881, 381,  30, 638, 423], device='cuda:0')\n"
     ]
    },
    {
     "name": "stdout",
     "output_type": "stream",
     "text": [
      "e7  |  b1100  |  MSE 0.028382791206240654  |  Lr 0.0001  |  t tensor([  8, 461,  73, 745, 928, 493,  76, 980, 617, 254], device='cuda:0')\n"
     ]
    },
    {
     "name": "stdout",
     "output_type": "stream",
     "text": [
      "e7  |  b1200  |  MSE 0.005462986882776022  |  Lr 0.0001  |  t tensor([819, 380, 628, 442, 861, 350, 835, 639, 209, 766], device='cuda:0')\n"
     ]
    },
    {
     "name": "stdout",
     "output_type": "stream",
     "text": [
      "e7  |  b1300  |  MSE 0.013041608966886997  |  Lr 0.0001  |  t tensor([ 74, 958, 960, 303, 169, 956, 828, 193, 644, 325], device='cuda:0')\n"
     ]
    },
    {
     "name": "stdout",
     "output_type": "stream",
     "text": [
      "e7  |  b1400  |  MSE 0.00844412762671709  |  Lr 0.0001  |  t tensor([455, 471, 288,  77, 783, 541, 491, 281, 633, 808], device='cuda:0')\n"
     ]
    },
    {
     "name": "stdout",
     "output_type": "stream",
     "text": [
      "e7  |  b1500  |  MSE 0.01050583180040121  |  Lr 0.0001  |  t tensor([284, 473, 217, 927, 268, 367, 648, 222, 775, 281], device='cuda:0')\n"
     ]
    },
    {
     "name": "stdout",
     "output_type": "stream",
     "text": [
      "e7  |  b1600  |  MSE 0.006496528163552284  |  Lr 0.0001  |  t tensor([177, 551, 931, 310, 317, 490, 530, 896, 798, 464], device='cuda:0')\n"
     ]
    },
    {
     "name": "stdout",
     "output_type": "stream",
     "text": [
      "e7  |  b1700  |  MSE 0.022793294861912727  |  Lr 0.0001  |  t tensor([166,  61, 187, 622, 621, 229, 248,  57, 408,  69], device='cuda:0')\n"
     ]
    },
    {
     "name": "stdout",
     "output_type": "stream",
     "text": [
      "e7  |  b1800  |  MSE 0.04744774103164673  |  Lr 0.0001  |  t tensor([772,  59, 663,   1, 140, 826, 882, 231,  24, 690], device='cuda:0')\n"
     ]
    },
    {
     "name": "stdout",
     "output_type": "stream",
     "text": [
      "e7  |  b1900  |  MSE 0.016867483034729958  |  Lr 0.0001  |  t tensor([ 55, 256, 150, 421, 500, 907, 404, 182, 829,  91], device='cuda:0')\n"
     ]
    },
    {
     "name": "stdout",
     "output_type": "stream",
     "text": [
      "e7  |  b2000  |  MSE 0.006950681563466787  |  Lr 0.0001  |  t tensor([509, 302, 481, 841, 262, 961, 322, 356, 859, 839], device='cuda:0')\n"
     ]
    },
    {
     "name": "stdout",
     "output_type": "stream",
     "text": [
      "e7  |  b2100  |  MSE 0.01075656060129404  |  Lr 0.0001  |  t tensor([184, 572, 170, 224, 801, 576, 589, 594, 521, 497], device='cuda:0')\n"
     ]
    },
    {
     "name": "stdout",
     "output_type": "stream",
     "text": [
      "e7  |  b2200  |  MSE 0.011175263673067093  |  Lr 0.0001  |  t tensor([874, 374, 669, 379, 304, 225, 113, 884, 286, 430], device='cuda:0')\n"
     ]
    },
    {
     "name": "stdout",
     "output_type": "stream",
     "text": [
      "e7  |  b2300  |  MSE 0.006482836790382862  |  Lr 0.0001  |  t tensor([852, 730, 766, 968, 286, 409, 685, 847, 446, 131], device='cuda:0')\n"
     ]
    },
    {
     "name": "stdout",
     "output_type": "stream",
     "text": [
      "e7  |  b2400  |  MSE 0.00786589365452528  |  Lr 0.0001  |  t tensor([199, 846, 537, 162, 499, 975, 598, 544, 315, 499], device='cuda:0')\n"
     ]
    },
    {
     "name": "stdout",
     "output_type": "stream",
     "text": [
      "e7  |  b2500  |  MSE 0.04818226024508476  |  Lr 0.0001  |  t tensor([  7,  64, 251,  77, 449, 655, 379,  23, 130, 172], device='cuda:0')\n"
     ]
    },
    {
     "name": "stdout",
     "output_type": "stream",
     "text": [
      "e7  |  b2600  |  MSE 0.011464248411357403  |  Lr 0.0001  |  t tensor([720, 336, 937, 637, 277, 731, 997,  59, 913, 157], device='cuda:0')\n"
     ]
    },
    {
     "name": "stdout",
     "output_type": "stream",
     "text": [
      "e7  |  b2700  |  MSE 0.020857883617281914  |  Lr 0.0001  |  t tensor([298, 931, 240, 372, 638,  92,  13, 675, 650, 679], device='cuda:0')\n"
     ]
    },
    {
     "name": "stdout",
     "output_type": "stream",
     "text": [
      "e7  |  b2800  |  MSE 0.013912801630795002  |  Lr 0.0001  |  t tensor([604, 746,  62, 513, 771, 880, 137, 848, 127, 632], device='cuda:0')\n"
     ]
    },
    {
     "name": "stdout",
     "output_type": "stream",
     "text": [
      "e7  |  b2900  |  MSE 0.017732689157128334  |  Lr 0.0001  |  t tensor([ 91, 695,  20, 555, 399, 473, 845, 680, 555, 168], device='cuda:0')\n"
     ]
    },
    {
     "name": "stdout",
     "output_type": "stream",
     "text": [
      "e7  |  b3000  |  MSE 0.016913630068302155  |  Lr 0.0001  |  t tensor([517, 163, 159, 384, 426,  72, 298, 527, 465, 426], device='cuda:0')\n"
     ]
    },
    {
     "name": "stdout",
     "output_type": "stream",
     "text": [
      "e7  |  b3100  |  MSE 0.019853729754686356  |  Lr 0.0001  |  t tensor([417, 375,  27, 420,  64,  38, 548, 986, 161, 701], device='cuda:0')\n"
     ]
    },
    {
     "name": "stdout",
     "output_type": "stream",
     "text": [
      "e7  |  b3200  |  MSE 0.009890119545161724  |  Lr 0.0001  |  t tensor([327, 920,  45, 163, 517, 398, 641, 471, 251, 832], device='cuda:0')\n"
     ]
    },
    {
     "name": "stdout",
     "output_type": "stream",
     "text": [
      "e7  |  b3300  |  MSE 0.010885725729167461  |  Lr 0.0001  |  t tensor([635, 729, 274, 644, 300, 213, 495, 685, 401,  63], device='cuda:0')\n"
     ]
    },
    {
     "name": "stdout",
     "output_type": "stream",
     "text": [
      "e7  |  b3400  |  MSE 0.015554750338196754  |  Lr 0.0001  |  t tensor([853, 190, 152, 299, 382, 149, 489, 630, 836, 126], device='cuda:0')\n"
     ]
    },
    {
     "name": "stdout",
     "output_type": "stream",
     "text": [
      "e7  |  b3500  |  MSE 0.005234722513705492  |  Lr 0.0001  |  t tensor([345, 751, 280, 995,  88, 709, 622, 450, 815, 921], device='cuda:0')\n"
     ]
    },
    {
     "name": "stdout",
     "output_type": "stream",
     "text": [
      "e7  |  b3600  |  MSE 0.02055410109460354  |  Lr 0.0001  |  t tensor([467, 945, 122, 427, 458, 644, 350, 145,  19, 296], device='cuda:0')\n"
     ]
    },
    {
     "name": "stdout",
     "output_type": "stream",
     "text": [
      "e7  |  b3700  |  MSE 0.011343640275299549  |  Lr 0.0001  |  t tensor([171, 145, 896, 729, 759, 601, 149, 787, 967, 325], device='cuda:0')\n"
     ]
    },
    {
     "name": "stdout",
     "output_type": "stream",
     "text": [
      "e7  |  b3800  |  MSE 0.010805748403072357  |  Lr 0.0001  |  t tensor([711, 412, 436, 337, 990, 543, 839, 492, 876,  35], device='cuda:0')\n"
     ]
    },
    {
     "name": "stdout",
     "output_type": "stream",
     "text": [
      "e7  |  b3900  |  MSE 0.015452900901436806  |  Lr 0.0001  |  t tensor([291, 905,  36, 136, 128, 760, 803, 921, 717, 263], device='cuda:0')\n"
     ]
    },
    {
     "name": "stdout",
     "output_type": "stream",
     "text": [
      "e7  |  b4000  |  MSE 0.02022242359817028  |  Lr 0.0001  |  t tensor([739, 866,   8, 470, 323, 198, 963, 510, 156, 934], device='cuda:0')\n"
     ]
    },
    {
     "name": "stdout",
     "output_type": "stream",
     "text": [
      "e7  |  b4100  |  MSE 0.011423300951719284  |  Lr 0.0001  |  t tensor([229, 235, 684, 546, 205, 584, 226, 263, 299, 537], device='cuda:0')\n"
     ]
    },
    {
     "name": "stdout",
     "output_type": "stream",
     "text": [
      "e7  |  b4200  |  MSE 0.018753837794065475  |  Lr 0.0001  |  t tensor([537, 520, 573, 619,  18,  96, 901, 288, 838, 176], device='cuda:0')\n"
     ]
    },
    {
     "name": "stdout",
     "output_type": "stream",
     "text": [
      "e7  |  b4300  |  MSE 0.006549049634486437  |  Lr 0.0001  |  t tensor([839, 253, 617, 840, 133, 136, 696, 610, 969, 534], device='cuda:0')\n"
     ]
    },
    {
     "name": "stdout",
     "output_type": "stream",
     "text": [
      "e7  |  b4400  |  MSE 0.012854952365159988  |  Lr 0.0001  |  t tensor([401,  72, 319, 341, 323, 249, 324, 956, 907, 629], device='cuda:0')\n"
     ]
    },
    {
     "name": "stdout",
     "output_type": "stream",
     "text": [
      "e7  |  b4500  |  MSE 0.048187024891376495  |  Lr 0.0001  |  t tensor([723, 298, 212, 607, 827,   2, 142, 940, 345, 608], device='cuda:0')\n"
     ]
    },
    {
     "name": "stdout",
     "output_type": "stream",
     "text": [
      "e7  |  b4600  |  MSE 0.009733276441693306  |  Lr 0.0001  |  t tensor([805, 831, 712, 210, 466, 672, 446, 109, 731, 145], device='cuda:0')\n"
     ]
    },
    {
     "name": "stdout",
     "output_type": "stream",
     "text": [
      "e7  |  b4700  |  MSE 0.03186386078596115  |  Lr 0.0001  |  t tensor([152, 977,   7,  15, 956, 350, 258, 305, 910, 599], device='cuda:0')\n"
     ]
    },
    {
     "name": "stdout",
     "output_type": "stream",
     "text": [
      "e7  |  b4800  |  MSE 0.011286163702607155  |  Lr 0.0001  |  t tensor([513, 389, 918, 782, 971, 157,  43, 355, 987, 665], device='cuda:0')\n"
     ]
    },
    {
     "name": "stdout",
     "output_type": "stream",
     "text": [
      "e7  |  b4900  |  MSE 0.03168058022856712  |  Lr 0.0001  |  t tensor([653, 705, 266, 111, 464,   7, 664,  79, 404, 267], device='cuda:0')\n"
     ]
    },
    {
     "name": "stdout",
     "output_type": "stream",
     "text": [
      "Epoch 7 loss: 0.014537113049440087\n"
     ]
    },
    {
     "data": {
      "application/vnd.jupyter.widget-view+json": {
       "model_id": "467500c383494285950b7c7831477607",
       "version_major": 2,
       "version_minor": 0
      },
      "text/plain": [
       "  0%|          | 0/5000 [00:00<?, ?it/s]"
      ]
     },
     "metadata": {},
     "output_type": "display_data"
    },
    {
     "name": "stdout",
     "output_type": "stream",
     "text": [
      "e8  |  b0  |  MSE 0.011039450764656067  |  Lr 0.0001  |  t tensor([299, 561, 279, 169, 951, 743, 570, 120, 434, 248], device='cuda:0')\n"
     ]
    },
    {
     "name": "stdout",
     "output_type": "stream",
     "text": [
      "e8  |  b100  |  MSE 0.03161483258008957  |  Lr 0.0001  |  t tensor([106,  95, 996,  50,  15, 139, 269, 216, 712, 202], device='cuda:0')\n"
     ]
    },
    {
     "name": "stdout",
     "output_type": "stream",
     "text": [
      "e8  |  b200  |  MSE 0.028508711606264114  |  Lr 0.0001  |  t tensor([360, 271,  49, 104, 134, 294, 929, 173,  41, 117], device='cuda:0')\n"
     ]
    },
    {
     "name": "stdout",
     "output_type": "stream",
     "text": [
      "e8  |  b300  |  MSE 0.015113628469407558  |  Lr 0.0001  |  t tensor([116, 657, 265, 202, 818, 331, 542, 101, 691, 245], device='cuda:0')\n"
     ]
    },
    {
     "name": "stdout",
     "output_type": "stream",
     "text": [
      "e8  |  b400  |  MSE 0.03187078237533569  |  Lr 0.0001  |  t tensor([592, 991, 607,  11, 963, 373, 970, 487, 432,  31], device='cuda:0')\n"
     ]
    },
    {
     "name": "stdout",
     "output_type": "stream",
     "text": [
      "e8  |  b500  |  MSE 0.004715391900390387  |  Lr 0.0001  |  t tensor([281, 426, 915, 983, 188, 490, 540, 446, 612, 796], device='cuda:0')\n"
     ]
    },
    {
     "name": "stdout",
     "output_type": "stream",
     "text": [
      "e8  |  b600  |  MSE 0.007177173625677824  |  Lr 0.0001  |  t tensor([494, 658, 570, 760, 273, 407, 859, 143, 859, 370], device='cuda:0')\n"
     ]
    },
    {
     "name": "stdout",
     "output_type": "stream",
     "text": [
      "e8  |  b700  |  MSE 0.02834705263376236  |  Lr 0.0001  |  t tensor([767,  64, 958, 914, 232, 759, 601,  51, 773,  14], device='cuda:0')\n"
     ]
    },
    {
     "name": "stdout",
     "output_type": "stream",
     "text": [
      "e8  |  b800  |  MSE 0.01163446344435215  |  Lr 0.0001  |  t tensor([525, 547, 478, 223, 506, 900, 401,  46, 465, 591], device='cuda:0')\n"
     ]
    },
    {
     "name": "stdout",
     "output_type": "stream",
     "text": [
      "e8  |  b900  |  MSE 0.011518735438585281  |  Lr 0.0001  |  t tensor([636, 393, 440, 609, 855, 214, 278, 546,  47, 370], device='cuda:0')\n"
     ]
    },
    {
     "name": "stdout",
     "output_type": "stream",
     "text": [
      "e8  |  b1000  |  MSE 0.014359071850776672  |  Lr 0.0001  |  t tensor([852, 820, 188, 105, 575,  72, 301, 450, 679, 813], device='cuda:0')\n"
     ]
    },
    {
     "name": "stdout",
     "output_type": "stream",
     "text": [
      "e8  |  b1100  |  MSE 0.009958494454622269  |  Lr 0.0001  |  t tensor([334, 299, 394, 388, 194, 166, 705, 398, 449, 223], device='cuda:0')\n"
     ]
    },
    {
     "name": "stdout",
     "output_type": "stream",
     "text": [
      "e8  |  b1200  |  MSE 0.007218197453767061  |  Lr 0.0001  |  t tensor([148, 322, 343, 386, 582, 818, 974, 778, 440, 503], device='cuda:0')\n"
     ]
    },
    {
     "name": "stdout",
     "output_type": "stream",
     "text": [
      "e8  |  b1300  |  MSE 0.003959041088819504  |  Lr 0.0001  |  t tensor([246, 776, 506, 281, 879, 495, 505, 882, 788, 938], device='cuda:0')\n"
     ]
    },
    {
     "name": "stdout",
     "output_type": "stream",
     "text": [
      "e8  |  b1400  |  MSE 0.012941756285727024  |  Lr 0.0001  |  t tensor([643, 311, 197, 635, 101, 639, 151, 140, 465, 944], device='cuda:0')\n"
     ]
    },
    {
     "name": "stdout",
     "output_type": "stream",
     "text": [
      "e8  |  b1500  |  MSE 0.010420654900372028  |  Lr 0.0001  |  t tensor([124, 338, 921, 814, 612,  59, 779, 665, 575, 499], device='cuda:0')\n"
     ]
    },
    {
     "name": "stdout",
     "output_type": "stream",
     "text": [
      "e8  |  b1600  |  MSE 0.011957102455198765  |  Lr 0.0001  |  t tensor([842, 315, 191, 272, 448, 841, 860, 296, 145,  83], device='cuda:0')\n"
     ]
    },
    {
     "name": "stdout",
     "output_type": "stream",
     "text": [
      "e8  |  b1700  |  MSE 0.009783885441720486  |  Lr 0.0001  |  t tensor([777, 294, 883,  94, 564, 280, 424, 703, 980, 154], device='cuda:0')\n"
     ]
    },
    {
     "name": "stdout",
     "output_type": "stream",
     "text": [
      "e8  |  b1800  |  MSE 0.005527804605662823  |  Lr 0.0001  |  t tensor([322, 609, 779, 181, 385, 989, 543, 329, 771, 792], device='cuda:0')\n"
     ]
    },
    {
     "name": "stdout",
     "output_type": "stream",
     "text": [
      "e8  |  b1900  |  MSE 0.0063172439113259315  |  Lr 0.0001  |  t tensor([273, 206, 820, 577, 483, 817, 250, 970, 613, 644], device='cuda:0')\n"
     ]
    },
    {
     "name": "stdout",
     "output_type": "stream",
     "text": [
      "e8  |  b2000  |  MSE 0.01085476204752922  |  Lr 0.0001  |  t tensor([631, 633, 312, 775, 110, 593, 291, 468, 615, 415], device='cuda:0')\n"
     ]
    },
    {
     "name": "stdout",
     "output_type": "stream",
     "text": [
      "e8  |  b2100  |  MSE 0.011239185929298401  |  Lr 0.0001  |  t tensor([843, 117, 132, 490, 416, 731, 833, 415, 497, 307], device='cuda:0')\n"
     ]
    },
    {
     "name": "stdout",
     "output_type": "stream",
     "text": [
      "e8  |  b2200  |  MSE 0.021460911259055138  |  Lr 0.0001  |  t tensor([644, 492, 607, 946, 604, 992, 768,   8,  76,  93], device='cuda:0')\n"
     ]
    },
    {
     "name": "stdout",
     "output_type": "stream",
     "text": [
      "e8  |  b2300  |  MSE 0.019653161987662315  |  Lr 0.0001  |  t tensor([ 71, 365, 348,  60, 222, 111, 930, 109, 487, 537], device='cuda:0')\n"
     ]
    },
    {
     "name": "stdout",
     "output_type": "stream",
     "text": [
      "e8  |  b2400  |  MSE 0.005700199399143457  |  Lr 0.0001  |  t tensor([545, 580, 955, 577, 180, 467, 287, 749, 292, 786], device='cuda:0')\n"
     ]
    },
    {
     "name": "stdout",
     "output_type": "stream",
     "text": [
      "e8  |  b2500  |  MSE 0.007894881069660187  |  Lr 0.0001  |  t tensor([661, 993, 356, 838, 225, 185, 796, 462, 273, 437], device='cuda:0')\n"
     ]
    },
    {
     "name": "stdout",
     "output_type": "stream",
     "text": [
      "e8  |  b2600  |  MSE 0.004895934835076332  |  Lr 0.0001  |  t tensor([834, 917, 739, 415, 904, 395, 897, 659, 446, 276], device='cuda:0')\n"
     ]
    },
    {
     "name": "stdout",
     "output_type": "stream",
     "text": [
      "e8  |  b2700  |  MSE 0.02535644918680191  |  Lr 0.0001  |  t tensor([836, 328, 342, 333, 844, 881,   5, 627, 110, 982], device='cuda:0')\n"
     ]
    },
    {
     "name": "stdout",
     "output_type": "stream",
     "text": [
      "e8  |  b2800  |  MSE 0.005446218885481358  |  Lr 0.0001  |  t tensor([697, 412, 952, 257, 149, 486, 784, 938, 989, 737], device='cuda:0')\n"
     ]
    },
    {
     "name": "stdout",
     "output_type": "stream",
     "text": [
      "e8  |  b2900  |  MSE 0.018953002989292145  |  Lr 0.0001  |  t tensor([564, 377, 998, 236, 899, 137,   7, 903, 591, 386], device='cuda:0')\n"
     ]
    },
    {
     "name": "stdout",
     "output_type": "stream",
     "text": [
      "e8  |  b3000  |  MSE 0.02120748721063137  |  Lr 0.0001  |  t tensor([529, 949, 372, 228, 677,  13, 724, 414, 623, 685], device='cuda:0')\n"
     ]
    },
    {
     "name": "stdout",
     "output_type": "stream",
     "text": [
      "e8  |  b3100  |  MSE 0.00879068486392498  |  Lr 0.0001  |  t tensor([513, 327, 368, 574, 900, 419, 929, 120, 620, 928], device='cuda:0')\n"
     ]
    },
    {
     "name": "stdout",
     "output_type": "stream",
     "text": [
      "e8  |  b3200  |  MSE 0.01179015263915062  |  Lr 0.0001  |  t tensor([973, 438,  91,  73, 610, 213, 850, 875, 780, 956], device='cuda:0')\n"
     ]
    },
    {
     "name": "stdout",
     "output_type": "stream",
     "text": [
      "e8  |  b3300  |  MSE 0.005532350391149521  |  Lr 0.0001  |  t tensor([377, 637, 114, 467, 550, 896, 417, 870, 179, 673], device='cuda:0')\n"
     ]
    },
    {
     "name": "stdout",
     "output_type": "stream",
     "text": [
      "e8  |  b3400  |  MSE 0.018212415277957916  |  Lr 0.0001  |  t tensor([931, 910, 523, 843,  15,  98, 429, 109, 312, 792], device='cuda:0')\n"
     ]
    },
    {
     "name": "stdout",
     "output_type": "stream",
     "text": [
      "e8  |  b3500  |  MSE 0.007711557671427727  |  Lr 0.0001  |  t tensor([720, 180, 194, 600, 403, 203, 849, 564, 961, 722], device='cuda:0')\n"
     ]
    },
    {
     "name": "stdout",
     "output_type": "stream",
     "text": [
      "e8  |  b3600  |  MSE 0.005283785983920097  |  Lr 0.0001  |  t tensor([128, 250, 760, 570, 380, 567, 412, 638, 966, 968], device='cuda:0')\n"
     ]
    },
    {
     "name": "stdout",
     "output_type": "stream",
     "text": [
      "e8  |  b3700  |  MSE 0.01891610585153103  |  Lr 0.0001  |  t tensor([572, 182, 949,  35, 713,  30, 748, 328, 245, 999], device='cuda:0')\n"
     ]
    },
    {
     "name": "stdout",
     "output_type": "stream",
     "text": [
      "e8  |  b3800  |  MSE 0.016901159659028053  |  Lr 0.0001  |  t tensor([990, 592, 108, 891, 286, 407, 579, 707,  20, 766], device='cuda:0')\n"
     ]
    },
    {
     "name": "stdout",
     "output_type": "stream",
     "text": [
      "e8  |  b3900  |  MSE 0.013319560326635838  |  Lr 0.0001  |  t tensor([317, 975, 445, 952, 276, 262, 981,  92, 107, 536], device='cuda:0')\n"
     ]
    },
    {
     "name": "stdout",
     "output_type": "stream",
     "text": [
      "e8  |  b4000  |  MSE 0.01871654763817787  |  Lr 0.0001  |  t tensor([722, 700, 704,  86,  12, 709, 529, 759, 443, 716], device='cuda:0')\n"
     ]
    },
    {
     "name": "stdout",
     "output_type": "stream",
     "text": [
      "e8  |  b4100  |  MSE 0.003209424437955022  |  Lr 0.0001  |  t tensor([813, 597, 248, 718, 575, 980, 553, 305, 604, 547], device='cuda:0')\n"
     ]
    },
    {
     "name": "stdout",
     "output_type": "stream",
     "text": [
      "e8  |  b4200  |  MSE 0.012024808675050735  |  Lr 0.0001  |  t tensor([822, 518, 752, 294, 728, 700, 692, 965,  39,  53], device='cuda:0')\n"
     ]
    },
    {
     "name": "stdout",
     "output_type": "stream",
     "text": [
      "e8  |  b4300  |  MSE 0.004867232870310545  |  Lr 0.0001  |  t tensor([207, 417, 611, 745, 496, 844, 928, 648, 813, 374], device='cuda:0')\n"
     ]
    },
    {
     "name": "stdout",
     "output_type": "stream",
     "text": [
      "e8  |  b4400  |  MSE 0.011671341024339199  |  Lr 0.0001  |  t tensor([423, 790, 349, 540, 693,  54, 344, 297, 411, 425], device='cuda:0')\n"
     ]
    },
    {
     "name": "stdout",
     "output_type": "stream",
     "text": [
      "e8  |  b4500  |  MSE 0.006656292360275984  |  Lr 0.0001  |  t tensor([727, 916, 411, 139, 736, 356, 675, 922, 184, 782], device='cuda:0')\n"
     ]
    },
    {
     "name": "stdout",
     "output_type": "stream",
     "text": [
      "e8  |  b4600  |  MSE 0.012192637659609318  |  Lr 0.0001  |  t tensor([ 45, 433, 838, 400, 302, 362, 223, 708, 511, 586], device='cuda:0')\n"
     ]
    },
    {
     "name": "stdout",
     "output_type": "stream",
     "text": [
      "e8  |  b4700  |  MSE 0.017659086734056473  |  Lr 0.0001  |  t tensor([ 97, 216, 916, 890,  68, 455, 148, 500, 454, 650], device='cuda:0')\n"
     ]
    },
    {
     "name": "stdout",
     "output_type": "stream",
     "text": [
      "e8  |  b4800  |  MSE 0.027232695370912552  |  Lr 0.0001  |  t tensor([ 96,   9, 428, 947, 838, 238, 779, 194, 560,  89], device='cuda:0')\n"
     ]
    },
    {
     "name": "stdout",
     "output_type": "stream",
     "text": [
      "e8  |  b4900  |  MSE 0.009416598826646805  |  Lr 0.0001  |  t tensor([897, 638, 278, 103, 855, 825, 266, 633, 143, 966], device='cuda:0')\n"
     ]
    },
    {
     "name": "stdout",
     "output_type": "stream",
     "text": [
      "Epoch 8 loss: 0.01418923412008444\n"
     ]
    },
    {
     "data": {
      "application/vnd.jupyter.widget-view+json": {
       "model_id": "cf6fca8a54b84733a473f714d42901c2",
       "version_major": 2,
       "version_minor": 0
      },
      "text/plain": [
       "  0%|          | 0/5000 [00:00<?, ?it/s]"
      ]
     },
     "metadata": {},
     "output_type": "display_data"
    },
    {
     "name": "stdout",
     "output_type": "stream",
     "text": [
      "e9  |  b0  |  MSE 0.007773916237056255  |  Lr 0.0001  |  t tensor([933, 309, 698, 761, 212, 484, 851, 627, 889, 119], device='cuda:0')\n"
     ]
    },
    {
     "name": "stdout",
     "output_type": "stream",
     "text": [
      "e9  |  b100  |  MSE 0.015050294809043407  |  Lr 0.0001  |  t tensor([182, 229, 326, 243, 609, 216,  57, 629, 435, 559], device='cuda:0')\n"
     ]
    },
    {
     "name": "stdout",
     "output_type": "stream",
     "text": [
      "e9  |  b200  |  MSE 0.01204009260982275  |  Lr 0.0001  |  t tensor([252, 521, 724, 161, 468, 992, 153, 652, 375, 368], device='cuda:0')\n"
     ]
    },
    {
     "name": "stdout",
     "output_type": "stream",
     "text": [
      "e9  |  b300  |  MSE 0.004729301203042269  |  Lr 0.0001  |  t tensor([705, 959, 412, 258, 652, 513, 474, 831, 541, 571], device='cuda:0')\n"
     ]
    },
    {
     "name": "stdout",
     "output_type": "stream",
     "text": [
      "e9  |  b400  |  MSE 0.0069198403507471085  |  Lr 0.0001  |  t tensor([915, 781, 956, 885,  56, 736, 475, 482, 383, 811], device='cuda:0')\n"
     ]
    },
    {
     "name": "stdout",
     "output_type": "stream",
     "text": [
      "e9  |  b500  |  MSE 0.016253748908638954  |  Lr 0.0001  |  t tensor([513, 587,  55, 916, 658, 553,  92, 747, 136,  89], device='cuda:0')\n"
     ]
    },
    {
     "name": "stdout",
     "output_type": "stream",
     "text": [
      "e9  |  b600  |  MSE 0.029493587091565132  |  Lr 0.0001  |  t tensor([376, 943, 183, 290, 925, 627, 848,   6, 350, 250], device='cuda:0')\n"
     ]
    },
    {
     "name": "stdout",
     "output_type": "stream",
     "text": [
      "e9  |  b700  |  MSE 0.01216828916221857  |  Lr 0.0001  |  t tensor([733, 227, 253, 420, 285, 463, 547, 558,  17, 633], device='cuda:0')\n"
     ]
    },
    {
     "name": "stdout",
     "output_type": "stream",
     "text": [
      "e9  |  b800  |  MSE 0.013756471686065197  |  Lr 0.0001  |  t tensor([294, 997, 462, 131, 959, 991, 222, 172, 784, 103], device='cuda:0')\n"
     ]
    },
    {
     "name": "stdout",
     "output_type": "stream",
     "text": [
      "e9  |  b900  |  MSE 0.012219706550240517  |  Lr 0.0001  |  t tensor([258, 274, 993, 821, 358, 424, 860, 183, 283, 153], device='cuda:0')\n"
     ]
    },
    {
     "name": "stdout",
     "output_type": "stream",
     "text": [
      "e9  |  b1000  |  MSE 0.017172763124108315  |  Lr 0.0001  |  t tensor([482, 320, 712, 185, 610, 193, 122, 598, 809,  85], device='cuda:0')\n"
     ]
    },
    {
     "name": "stdout",
     "output_type": "stream",
     "text": [
      "e9  |  b1100  |  MSE 0.009790711104869843  |  Lr 0.0001  |  t tensor([771, 714, 158, 259, 995, 100, 389, 933, 657, 171], device='cuda:0')\n"
     ]
    },
    {
     "name": "stdout",
     "output_type": "stream",
     "text": [
      "e9  |  b1200  |  MSE 0.0015258381608873606  |  Lr 0.0001  |  t tensor([951, 893, 553, 658, 953, 615, 774, 585, 584, 885], device='cuda:0')\n"
     ]
    },
    {
     "name": "stdout",
     "output_type": "stream",
     "text": [
      "e9  |  b1300  |  MSE 0.014522067271173  |  Lr 0.0001  |  t tensor([405, 120, 469, 250, 862, 267,  86, 910, 589, 388], device='cuda:0')\n"
     ]
    },
    {
     "name": "stdout",
     "output_type": "stream",
     "text": [
      "e9  |  b1400  |  MSE 0.031456369906663895  |  Lr 0.0001  |  t tensor([  6, 944,  45, 890, 717, 847, 963, 576, 791, 431], device='cuda:0')\n"
     ]
    },
    {
     "name": "stdout",
     "output_type": "stream",
     "text": [
      "e9  |  b1500  |  MSE 0.006223112810403109  |  Lr 0.0001  |  t tensor([675, 768, 136, 556, 674, 887, 489, 604, 620, 286], device='cuda:0')\n"
     ]
    },
    {
     "name": "stdout",
     "output_type": "stream",
     "text": [
      "e9  |  b1600  |  MSE 0.014641307294368744  |  Lr 0.0001  |  t tensor([ 43,  51, 858, 324, 172, 768, 689, 816, 740, 769], device='cuda:0')\n"
     ]
    },
    {
     "name": "stdout",
     "output_type": "stream",
     "text": [
      "e9  |  b1700  |  MSE 0.009424068965017796  |  Lr 0.0001  |  t tensor([526,  92, 274, 433, 340, 846, 980, 718, 479, 234], device='cuda:0')\n"
     ]
    },
    {
     "name": "stdout",
     "output_type": "stream",
     "text": [
      "e9  |  b1800  |  MSE 0.012148604728281498  |  Lr 0.0001  |  t tensor([856,  66, 265, 418, 926, 614, 976, 106, 957, 986], device='cuda:0')\n"
     ]
    },
    {
     "name": "stdout",
     "output_type": "stream",
     "text": [
      "e9  |  b1900  |  MSE 0.008635814301669598  |  Lr 0.0001  |  t tensor([ 95, 566, 622, 610, 703, 826, 935, 432, 213, 380], device='cuda:0')\n"
     ]
    },
    {
     "name": "stdout",
     "output_type": "stream",
     "text": [
      "e9  |  b2000  |  MSE 0.009778295643627644  |  Lr 0.0001  |  t tensor([390, 315, 381, 380, 109, 182, 807, 329, 941, 606], device='cuda:0')\n"
     ]
    },
    {
     "name": "stdout",
     "output_type": "stream",
     "text": [
      "e9  |  b2100  |  MSE 0.008940701372921467  |  Lr 0.0001  |  t tensor([ 66, 677, 582, 992, 925, 774, 430, 274, 486, 945], device='cuda:0')\n"
     ]
    },
    {
     "name": "stdout",
     "output_type": "stream",
     "text": [
      "e9  |  b2200  |  MSE 0.011763929389417171  |  Lr 0.0001  |  t tensor([155, 385, 441, 902,  39, 279, 587, 905, 578, 774], device='cuda:0')\n"
     ]
    },
    {
     "name": "stdout",
     "output_type": "stream",
     "text": [
      "e9  |  b2300  |  MSE 0.01252851914614439  |  Lr 0.0001  |  t tensor([769, 665,  38, 484, 719, 272, 299, 915, 918, 240], device='cuda:0')\n"
     ]
    },
    {
     "name": "stdout",
     "output_type": "stream",
     "text": [
      "e9  |  b2400  |  MSE 0.011014305055141449  |  Lr 0.0001  |  t tensor([929, 301, 176, 804, 451,  74, 933, 544, 937, 585], device='cuda:0')\n"
     ]
    },
    {
     "name": "stdout",
     "output_type": "stream",
     "text": [
      "e9  |  b2500  |  MSE 0.02421485260128975  |  Lr 0.0001  |  t tensor([631, 148, 944, 597, 661,  17,  30,  48, 305, 657], device='cuda:0')\n"
     ]
    },
    {
     "name": "stdout",
     "output_type": "stream",
     "text": [
      "e9  |  b2600  |  MSE 0.01602260023355484  |  Lr 0.0001  |  t tensor([193, 816, 879,  19, 630, 385, 215, 435, 482, 644], device='cuda:0')\n"
     ]
    },
    {
     "name": "stdout",
     "output_type": "stream",
     "text": [
      "e9  |  b2700  |  MSE 0.012505689635872841  |  Lr 0.0001  |  t tensor([446, 624, 921,  93,  75, 740, 899, 312, 142, 259], device='cuda:0')\n"
     ]
    },
    {
     "name": "stdout",
     "output_type": "stream",
     "text": [
      "e9  |  b2800  |  MSE 0.011198215186595917  |  Lr 0.0001  |  t tensor([482, 153, 815, 402, 391, 743, 203, 652, 475, 363], device='cuda:0')\n"
     ]
    },
    {
     "name": "stdout",
     "output_type": "stream",
     "text": [
      "e9  |  b2900  |  MSE 0.04259846359491348  |  Lr 0.0001  |  t tensor([512,  31, 942, 286, 218, 326, 952, 413,   3, 754], device='cuda:0')\n"
     ]
    },
    {
     "name": "stdout",
     "output_type": "stream",
     "text": [
      "e9  |  b3000  |  MSE 0.009401462972164154  |  Lr 0.0001  |  t tensor([791, 694, 654, 569, 210, 945, 497, 217, 222, 139], device='cuda:0')\n"
     ]
    },
    {
     "name": "stdout",
     "output_type": "stream",
     "text": [
      "e9  |  b3100  |  MSE 0.004838590510189533  |  Lr 0.0001  |  t tensor([142, 790, 955, 654, 968, 723, 529, 389, 914, 882], device='cuda:0')\n"
     ]
    },
    {
     "name": "stdout",
     "output_type": "stream",
     "text": [
      "e9  |  b3200  |  MSE 0.008743098936975002  |  Lr 0.0001  |  t tensor([642, 156, 435, 730, 523, 434, 686, 100, 994, 812], device='cuda:0')\n"
     ]
    },
    {
     "name": "stdout",
     "output_type": "stream",
     "text": [
      "e9  |  b3300  |  MSE 0.012715861201286316  |  Lr 0.0001  |  t tensor([316, 623, 489, 419, 124, 630, 286, 270, 254, 233], device='cuda:0')\n"
     ]
    },
    {
     "name": "stdout",
     "output_type": "stream",
     "text": [
      "e9  |  b3400  |  MSE 0.015480887144804  |  Lr 0.0001  |  t tensor([546, 501, 931, 974, 500, 764, 412,  62, 534,  33], device='cuda:0')\n"
     ]
    },
    {
     "name": "stdout",
     "output_type": "stream",
     "text": [
      "e9  |  b3500  |  MSE 0.010710286907851696  |  Lr 0.0001  |  t tensor([308, 208, 295, 354, 110, 589, 442, 435, 655, 959], device='cuda:0')\n"
     ]
    },
    {
     "name": "stdout",
     "output_type": "stream",
     "text": [
      "e9  |  b3600  |  MSE 0.006462514866143465  |  Lr 0.0001  |  t tensor([833, 135, 591, 949, 673, 291, 591, 131, 791, 803], device='cuda:0')\n"
     ]
    },
    {
     "name": "stdout",
     "output_type": "stream",
     "text": [
      "e9  |  b3700  |  MSE 0.013408399187028408  |  Lr 0.0001  |  t tensor([434, 195, 704,  75, 869,  63, 510, 304, 455, 865], device='cuda:0')\n"
     ]
    },
    {
     "name": "stdout",
     "output_type": "stream",
     "text": [
      "e9  |  b3800  |  MSE 0.027467943727970123  |  Lr 0.0001  |  t tensor([ 75, 725, 511, 805, 844, 138, 593, 645, 856,   3], device='cuda:0')\n"
     ]
    },
    {
     "name": "stdout",
     "output_type": "stream",
     "text": [
      "e9  |  b3900  |  MSE 0.008705532178282738  |  Lr 0.0001  |  t tensor([258, 956, 303, 119, 968, 369, 804, 254, 709, 997], device='cuda:0')\n"
     ]
    },
    {
     "name": "stdout",
     "output_type": "stream",
     "text": [
      "e9  |  b4000  |  MSE 0.010514289140701294  |  Lr 0.0001  |  t tensor([208, 485, 613, 175, 680, 291, 254, 772, 177, 810], device='cuda:0')\n"
     ]
    },
    {
     "name": "stdout",
     "output_type": "stream",
     "text": [
      "e9  |  b4100  |  MSE 0.006129407789558172  |  Lr 0.0001  |  t tensor([680, 275, 794, 443, 342, 652, 486, 668, 234, 905], device='cuda:0')\n"
     ]
    },
    {
     "name": "stdout",
     "output_type": "stream",
     "text": [
      "e9  |  b4200  |  MSE 0.01562962494790554  |  Lr 0.0001  |  t tensor([573, 664, 144, 280, 566, 720,  39, 519, 938, 121], device='cuda:0')\n"
     ]
    },
    {
     "name": "stdout",
     "output_type": "stream",
     "text": [
      "e9  |  b4300  |  MSE 0.02619282715022564  |  Lr 0.0001  |  t tensor([638, 927, 797, 669, 316, 214,  44, 827,  13, 333], device='cuda:0')\n"
     ]
    },
    {
     "name": "stdout",
     "output_type": "stream",
     "text": [
      "e9  |  b4400  |  MSE 0.02402818389236927  |  Lr 0.0001  |  t tensor([757, 269,  84, 869, 891, 785,  47,  54, 226,  72], device='cuda:0')\n"
     ]
    },
    {
     "name": "stdout",
     "output_type": "stream",
     "text": [
      "e9  |  b4500  |  MSE 0.014383194036781788  |  Lr 0.0001  |  t tensor([730, 989,  35, 395, 280, 556, 135, 381, 137, 620], device='cuda:0')\n"
     ]
    },
    {
     "name": "stdout",
     "output_type": "stream",
     "text": [
      "e9  |  b4600  |  MSE 0.005676412023603916  |  Lr 0.0001  |  t tensor([837, 304, 981, 186, 532, 409, 716, 321, 898, 627], device='cuda:0')\n"
     ]
    },
    {
     "name": "stdout",
     "output_type": "stream",
     "text": [
      "e9  |  b4700  |  MSE 0.011752705089747906  |  Lr 0.0001  |  t tensor([405, 205, 183, 491, 908,  50, 889, 202, 913, 573], device='cuda:0')\n"
     ]
    },
    {
     "name": "stdout",
     "output_type": "stream",
     "text": [
      "e9  |  b4800  |  MSE 0.036139801144599915  |  Lr 0.0001  |  t tensor([ 75, 831, 238, 421, 208, 591,   5, 629, 181, 498], device='cuda:0')\n"
     ]
    },
    {
     "name": "stdout",
     "output_type": "stream",
     "text": [
      "e9  |  b4900  |  MSE 0.01317510288208723  |  Lr 0.0001  |  t tensor([485, 122, 999, 387, 218, 207, 241, 979,  55, 878], device='cuda:0')\n"
     ]
    },
    {
     "name": "stdout",
     "output_type": "stream",
     "text": [
      "Epoch 9 loss: 0.013939692126179579\n"
     ]
    },
    {
     "data": {
      "application/vnd.jupyter.widget-view+json": {
       "model_id": "286edfee2fcb424dac1e0ba8dac12418",
       "version_major": 2,
       "version_minor": 0
      },
      "text/plain": [
       "  0%|          | 0/5000 [00:00<?, ?it/s]"
      ]
     },
     "metadata": {},
     "output_type": "display_data"
    },
    {
     "name": "stdout",
     "output_type": "stream",
     "text": [
      "e10  |  b0  |  MSE 0.012530572712421417  |  Lr 0.0001  |  t tensor([992, 613, 526, 235,  89, 309, 969, 534, 112, 683], device='cuda:0')\n"
     ]
    },
    {
     "name": "stdout",
     "output_type": "stream",
     "text": [
      "e10  |  b100  |  MSE 0.0032281442545354366  |  Lr 0.0001  |  t tensor([984, 894, 589, 369, 955, 933, 740, 358, 798, 386], device='cuda:0')\n"
     ]
    },
    {
     "name": "stdout",
     "output_type": "stream",
     "text": [
      "e10  |  b200  |  MSE 0.013993182219564915  |  Lr 0.0001  |  t tensor([624, 682, 359, 317, 227, 121, 909, 218, 805, 830], device='cuda:0')\n"
     ]
    },
    {
     "name": "stdout",
     "output_type": "stream",
     "text": [
      "e10  |  b300  |  MSE 0.010878127999603748  |  Lr 0.0001  |  t tensor([252, 669, 625, 983, 314, 726, 217, 258, 102, 662], device='cuda:0')\n"
     ]
    },
    {
     "name": "stdout",
     "output_type": "stream",
     "text": [
      "e10  |  b400  |  MSE 0.014759107492864132  |  Lr 0.0001  |  t tensor([418, 626,  30, 522,  82, 165, 224, 859, 301, 670], device='cuda:0')\n"
     ]
    },
    {
     "name": "stdout",
     "output_type": "stream",
     "text": [
      "e10  |  b500  |  MSE 0.0065534706227481365  |  Lr 0.0001  |  t tensor([483, 877, 753, 969, 503, 375, 976, 420, 212, 123], device='cuda:0')\n"
     ]
    },
    {
     "name": "stdout",
     "output_type": "stream",
     "text": [
      "e10  |  b600  |  MSE 0.02286524511873722  |  Lr 0.0001  |  t tensor([ 39,  90, 707, 393, 146, 628, 218, 695, 639,  56], device='cuda:0')\n"
     ]
    },
    {
     "name": "stdout",
     "output_type": "stream",
     "text": [
      "e10  |  b700  |  MSE 0.006806869991123676  |  Lr 0.0001  |  t tensor([828, 427, 962, 196, 576, 524, 336, 161, 328, 854], device='cuda:0')\n"
     ]
    },
    {
     "name": "stdout",
     "output_type": "stream",
     "text": [
      "e10  |  b800  |  MSE 0.009182441979646683  |  Lr 0.0001  |  t tensor([557, 274, 352, 685,  59, 963, 573, 316, 850, 720], device='cuda:0')\n"
     ]
    },
    {
     "name": "stdout",
     "output_type": "stream",
     "text": [
      "e10  |  b900  |  MSE 0.01336194109171629  |  Lr 0.0001  |  t tensor([755, 379, 754, 815,  69, 174, 336, 688, 127, 768], device='cuda:0')\n"
     ]
    },
    {
     "name": "stdout",
     "output_type": "stream",
     "text": [
      "e10  |  b1000  |  MSE 0.010815339162945747  |  Lr 0.0001  |  t tensor([717,  68, 497, 426, 271, 385, 689, 777, 173, 424], device='cuda:0')\n"
     ]
    },
    {
     "name": "stdout",
     "output_type": "stream",
     "text": [
      "e10  |  b1100  |  MSE 0.016323141753673553  |  Lr 0.0001  |  t tensor([759, 252, 796, 145, 351, 367, 382, 108,  50, 721], device='cuda:0')\n"
     ]
    },
    {
     "name": "stdout",
     "output_type": "stream",
     "text": [
      "e10  |  b1200  |  MSE 0.01588025689125061  |  Lr 0.0001  |  t tensor([912, 990, 709, 191, 101, 370, 131, 196, 137, 445], device='cuda:0')\n"
     ]
    },
    {
     "name": "stdout",
     "output_type": "stream",
     "text": [
      "e10  |  b1300  |  MSE 0.005809337366372347  |  Lr 0.0001  |  t tensor([996, 112, 941, 754, 554, 486, 945, 941, 263, 379], device='cuda:0')\n"
     ]
    },
    {
     "name": "stdout",
     "output_type": "stream",
     "text": [
      "e10  |  b1400  |  MSE 0.006790806073695421  |  Lr 0.0001  |  t tensor([421, 545, 207, 784, 260, 126, 358, 686, 616, 994], device='cuda:0')\n"
     ]
    },
    {
     "name": "stdout",
     "output_type": "stream",
     "text": [
      "e10  |  b1500  |  MSE 0.020789997652173042  |  Lr 0.0001  |  t tensor([462, 125, 363, 284, 171, 903,  14, 857, 475, 523], device='cuda:0')\n"
     ]
    },
    {
     "name": "stdout",
     "output_type": "stream",
     "text": [
      "e10  |  b1600  |  MSE 0.007965033873915672  |  Lr 0.0001  |  t tensor([745, 192, 833, 154, 586, 793, 424, 906, 693, 452], device='cuda:0')\n"
     ]
    },
    {
     "name": "stdout",
     "output_type": "stream",
     "text": [
      "e10  |  b1700  |  MSE 0.01177420374006033  |  Lr 0.0001  |  t tensor([733,  66,  89, 519, 473, 472, 617, 166, 413, 571], device='cuda:0')\n"
     ]
    },
    {
     "name": "stdout",
     "output_type": "stream",
     "text": [
      "e10  |  b1800  |  MSE 0.014367586001753807  |  Lr 0.0001  |  t tensor([393, 971, 824, 674, 163, 770,  74, 779, 589, 150], device='cuda:0')\n"
     ]
    },
    {
     "name": "stdout",
     "output_type": "stream",
     "text": [
      "e10  |  b1900  |  MSE 0.01578635722398758  |  Lr 0.0001  |  t tensor([234, 807, 585,  51, 636, 343, 638, 380,  47, 343], device='cuda:0')\n"
     ]
    },
    {
     "name": "stdout",
     "output_type": "stream",
     "text": [
      "e10  |  b2000  |  MSE 0.0055718934163451195  |  Lr 0.0001  |  t tensor([994, 983, 701, 963, 784, 922, 556, 132, 462, 267], device='cuda:0')\n"
     ]
    },
    {
     "name": "stdout",
     "output_type": "stream",
     "text": [
      "e10  |  b2100  |  MSE 0.00954448338598013  |  Lr 0.0001  |  t tensor([578, 241, 818, 395, 843, 516,  84, 223, 892, 208], device='cuda:0')\n"
     ]
    },
    {
     "name": "stdout",
     "output_type": "stream",
     "text": [
      "e10  |  b2200  |  MSE 0.013659284450113773  |  Lr 0.0001  |  t tensor([185, 331, 327, 201, 348, 300, 204, 180, 720, 583], device='cuda:0')\n"
     ]
    },
    {
     "name": "stdout",
     "output_type": "stream",
     "text": [
      "e10  |  b2300  |  MSE 0.014574261382222176  |  Lr 0.0001  |  t tensor([443,  17, 680, 355, 476, 351, 346, 471, 253, 999], device='cuda:0')\n"
     ]
    },
    {
     "name": "stdout",
     "output_type": "stream",
     "text": [
      "e10  |  b2400  |  MSE 0.02359803020954132  |  Lr 0.0001  |  t tensor([286, 230, 471, 476, 239, 344, 587, 376, 591,   7], device='cuda:0')\n"
     ]
    },
    {
     "name": "stdout",
     "output_type": "stream",
     "text": [
      "e10  |  b2500  |  MSE 0.019321974366903305  |  Lr 0.0001  |  t tensor([274, 376,  68, 271, 918, 677,  59, 250, 515, 300], device='cuda:0')\n"
     ]
    },
    {
     "name": "stdout",
     "output_type": "stream",
     "text": [
      "e10  |  b2600  |  MSE 0.01138908602297306  |  Lr 0.0001  |  t tensor([311, 553, 250, 663, 185, 906, 137, 771, 732, 978], device='cuda:0')\n"
     ]
    },
    {
     "name": "stdout",
     "output_type": "stream",
     "text": [
      "e10  |  b2700  |  MSE 0.007225490175187588  |  Lr 0.0001  |  t tensor([387, 738, 836, 659, 193, 721, 370, 324, 259, 891], device='cuda:0')\n"
     ]
    },
    {
     "name": "stdout",
     "output_type": "stream",
     "text": [
      "e10  |  b2800  |  MSE 0.012468390166759491  |  Lr 0.0001  |  t tensor([ 70, 387, 352, 827, 813, 355, 832, 333, 217, 765], device='cuda:0')\n"
     ]
    },
    {
     "name": "stdout",
     "output_type": "stream",
     "text": [
      "e10  |  b2900  |  MSE 0.009172678925096989  |  Lr 0.0001  |  t tensor([704, 740, 316, 981,  79, 585, 191, 467, 609, 603], device='cuda:0')\n"
     ]
    },
    {
     "name": "stdout",
     "output_type": "stream",
     "text": [
      "e10  |  b3000  |  MSE 0.036372844129800797  |  Lr 0.0001  |  t tensor([172, 614,  48, 219,   4, 781, 175, 143, 496, 916], device='cuda:0')\n"
     ]
    },
    {
     "name": "stdout",
     "output_type": "stream",
     "text": [
      "e10  |  b3100  |  MSE 0.006907710339874029  |  Lr 0.0001  |  t tensor([654, 472, 464, 550, 723, 739, 725, 305, 505, 217], device='cuda:0')\n"
     ]
    },
    {
     "name": "stdout",
     "output_type": "stream",
     "text": [
      "e10  |  b3200  |  MSE 0.007874560542404652  |  Lr 0.0001  |  t tensor([168, 714, 870, 163, 528, 464, 274, 937, 552, 525], device='cuda:0')\n"
     ]
    },
    {
     "name": "stdout",
     "output_type": "stream",
     "text": [
      "e10  |  b3300  |  MSE 0.026551317423582077  |  Lr 0.0001  |  t tensor([ 29, 586, 702,  12, 412, 446, 704, 759,  48, 244], device='cuda:0')\n"
     ]
    },
    {
     "name": "stdout",
     "output_type": "stream",
     "text": [
      "e10  |  b3400  |  MSE 0.00611988315358758  |  Lr 0.0001  |  t tensor([372, 750, 505, 125, 617, 405, 435, 918, 921, 946], device='cuda:0')\n"
     ]
    },
    {
     "name": "stdout",
     "output_type": "stream",
     "text": [
      "e10  |  b3500  |  MSE 0.008671335875988007  |  Lr 0.0001  |  t tensor([507, 446, 464, 635, 335, 719, 306, 432, 191, 215], device='cuda:0')\n"
     ]
    },
    {
     "name": "stdout",
     "output_type": "stream",
     "text": [
      "e10  |  b3600  |  MSE 0.01066883746534586  |  Lr 0.0001  |  t tensor([164, 797, 122, 537, 204,  91, 678, 593, 688, 912], device='cuda:0')\n"
     ]
    },
    {
     "name": "stdout",
     "output_type": "stream",
     "text": [
      "e10  |  b3700  |  MSE 0.013391120359301567  |  Lr 0.0001  |  t tensor([408, 133, 920, 737, 148, 564, 497, 406, 392,  79], device='cuda:0')\n"
     ]
    },
    {
     "name": "stdout",
     "output_type": "stream",
     "text": [
      "e10  |  b3800  |  MSE 0.007062776945531368  |  Lr 0.0001  |  t tensor([538, 392, 353, 781, 730, 212, 805, 610, 692, 502], device='cuda:0')\n"
     ]
    },
    {
     "name": "stdout",
     "output_type": "stream",
     "text": [
      "e10  |  b3900  |  MSE 0.00561761949211359  |  Lr 0.0001  |  t tensor([988, 332, 272, 978, 641, 430, 456, 773, 482, 695], device='cuda:0')\n"
     ]
    },
    {
     "name": "stdout",
     "output_type": "stream",
     "text": [
      "e10  |  b4000  |  MSE 0.008906041271984577  |  Lr 0.0001  |  t tensor([554, 305, 400,  56, 809, 665, 360, 988, 322, 638], device='cuda:0')\n"
     ]
    },
    {
     "name": "stdout",
     "output_type": "stream",
     "text": [
      "e10  |  b4100  |  MSE 0.003540556877851486  |  Lr 0.0001  |  t tensor([426, 334, 861, 927, 625, 709, 923, 909, 540, 359], device='cuda:0')\n"
     ]
    },
    {
     "name": "stdout",
     "output_type": "stream",
     "text": [
      "e10  |  b4200  |  MSE 0.0034740043338388205  |  Lr 0.0001  |  t tensor([898, 822, 782, 978, 879, 979, 760, 753, 629, 138], device='cuda:0')\n"
     ]
    },
    {
     "name": "stdout",
     "output_type": "stream",
     "text": [
      "e10  |  b4300  |  MSE 0.020821429789066315  |  Lr 0.0001  |  t tensor([872,  26, 761, 119, 553, 523,  41, 113, 132, 549], device='cuda:0')\n"
     ]
    },
    {
     "name": "stdout",
     "output_type": "stream",
     "text": [
      "e10  |  b4400  |  MSE 0.005052798427641392  |  Lr 0.0001  |  t tensor([953, 974, 262, 944, 452, 686, 785, 701, 128, 721], device='cuda:0')\n"
     ]
    },
    {
     "name": "stdout",
     "output_type": "stream",
     "text": [
      "e10  |  b4500  |  MSE 0.012214009650051594  |  Lr 0.0001  |  t tensor([548, 565, 252, 375, 461, 184,  90, 936, 404, 442], device='cuda:0')\n"
     ]
    },
    {
     "name": "stdout",
     "output_type": "stream",
     "text": [
      "e10  |  b4600  |  MSE 0.007593085989356041  |  Lr 0.0001  |  t tensor([712, 712, 441,  79, 558, 520, 402, 856, 872, 432], device='cuda:0')\n"
     ]
    },
    {
     "name": "stdout",
     "output_type": "stream",
     "text": [
      "e10  |  b4700  |  MSE 0.005486678797751665  |  Lr 0.0001  |  t tensor([376, 489, 217, 702, 995, 497, 551, 543, 901, 950], device='cuda:0')\n"
     ]
    },
    {
     "name": "stdout",
     "output_type": "stream",
     "text": [
      "e10  |  b4800  |  MSE 0.004356169607490301  |  Lr 0.0001  |  t tensor([888, 472, 538, 814, 138, 850, 998, 401, 935, 510], device='cuda:0')\n"
     ]
    },
    {
     "name": "stdout",
     "output_type": "stream",
     "text": [
      "e10  |  b4900  |  MSE 0.002560883993282914  |  Lr 0.0001  |  t tensor([821, 894, 391, 904, 833, 555, 821, 799, 440, 345], device='cuda:0')\n"
     ]
    },
    {
     "name": "stdout",
     "output_type": "stream",
     "text": [
      "Epoch 10 loss: 0.013882135615684093\n"
     ]
    },
    {
     "data": {
      "application/vnd.jupyter.widget-view+json": {
       "model_id": "406701206366422f977b94eb4cf71418",
       "version_major": 2,
       "version_minor": 0
      },
      "text/plain": [
       "  0%|          | 0/5000 [00:00<?, ?it/s]"
      ]
     },
     "metadata": {},
     "output_type": "display_data"
    },
    {
     "name": "stdout",
     "output_type": "stream",
     "text": [
      "e11  |  b0  |  MSE 0.012221730314195156  |  Lr 0.0001  |  t tensor([531, 112, 799, 629, 283, 267, 130, 400, 947, 471], device='cuda:0')\n"
     ]
    },
    {
     "name": "stdout",
     "output_type": "stream",
     "text": [
      "e11  |  b100  |  MSE 0.004274528939276934  |  Lr 0.0001  |  t tensor([641,  74, 951, 856, 550, 927, 551, 407, 741, 957], device='cuda:0')\n"
     ]
    },
    {
     "name": "stdout",
     "output_type": "stream",
     "text": [
      "e11  |  b200  |  MSE 0.007480270229279995  |  Lr 0.0001  |  t tensor([145, 280, 820, 452, 440, 259, 989, 399, 813, 389], device='cuda:0')\n"
     ]
    },
    {
     "name": "stdout",
     "output_type": "stream",
     "text": [
      "e11  |  b300  |  MSE 0.019318507984280586  |  Lr 0.0001  |  t tensor([232,   9, 611, 825, 731, 721, 712, 166, 700, 403], device='cuda:0')\n"
     ]
    },
    {
     "name": "stdout",
     "output_type": "stream",
     "text": [
      "e11  |  b400  |  MSE 0.015129318460822105  |  Lr 0.0001  |  t tensor([285, 763, 236, 148, 931,  61, 259, 295, 422, 314], device='cuda:0')\n"
     ]
    },
    {
     "name": "stdout",
     "output_type": "stream",
     "text": [
      "e11  |  b500  |  MSE 0.011713046580553055  |  Lr 0.0001  |  t tensor([730, 632, 793, 142, 806,  70, 646,  92, 852, 555], device='cuda:0')\n"
     ]
    },
    {
     "name": "stdout",
     "output_type": "stream",
     "text": [
      "e11  |  b600  |  MSE 0.013465046882629395  |  Lr 0.0001  |  t tensor([931, 297, 458, 689, 226,  19, 853, 241, 901, 394], device='cuda:0')\n"
     ]
    },
    {
     "name": "stdout",
     "output_type": "stream",
     "text": [
      "e11  |  b700  |  MSE 0.016959115862846375  |  Lr 0.0001  |  t tensor([887, 664,  48, 240, 711, 855, 331, 130, 155, 309], device='cuda:0')\n"
     ]
    },
    {
     "name": "stdout",
     "output_type": "stream",
     "text": [
      "e11  |  b800  |  MSE 0.0194766316562891  |  Lr 0.0001  |  t tensor([127, 354, 167, 498, 363, 824,  29, 116,  42, 500], device='cuda:0')\n"
     ]
    },
    {
     "name": "stdout",
     "output_type": "stream",
     "text": [
      "e11  |  b900  |  MSE 0.02827453427016735  |  Lr 0.0001  |  t tensor([ 67, 274, 435, 255,   7, 713, 471, 892, 757, 302], device='cuda:0')\n"
     ]
    },
    {
     "name": "stdout",
     "output_type": "stream",
     "text": [
      "e11  |  b1000  |  MSE 0.009558198042213917  |  Lr 0.0001  |  t tensor([894, 543, 270, 964, 149, 967, 575, 291, 114, 640], device='cuda:0')\n"
     ]
    },
    {
     "name": "stdout",
     "output_type": "stream",
     "text": [
      "e11  |  b1100  |  MSE 0.01237624790519476  |  Lr 0.0001  |  t tensor([800, 681, 863, 987,  40, 410, 894, 145, 718, 483], device='cuda:0')\n"
     ]
    },
    {
     "name": "stdout",
     "output_type": "stream",
     "text": [
      "e11  |  b1200  |  MSE 0.0030817114748060703  |  Lr 0.0001  |  t tensor([272, 785, 666, 430, 521, 591, 767, 473, 628, 935], device='cuda:0')\n"
     ]
    },
    {
     "name": "stdout",
     "output_type": "stream",
     "text": [
      "e11  |  b1300  |  MSE 0.021254781633615494  |  Lr 0.0001  |  t tensor([398, 541, 166,  27, 857, 578, 247, 155, 642, 318], device='cuda:0')\n"
     ]
    },
    {
     "name": "stdout",
     "output_type": "stream",
     "text": [
      "e11  |  b1400  |  MSE 0.0019505430245772004  |  Lr 0.0001  |  t tensor([598, 488, 911, 848, 608, 958, 712, 416, 920, 678], device='cuda:0')\n"
     ]
    },
    {
     "name": "stdout",
     "output_type": "stream",
     "text": [
      "e11  |  b1500  |  MSE 0.006551263853907585  |  Lr 0.0001  |  t tensor([369, 675, 405, 387, 372, 384, 240, 786, 938, 776], device='cuda:0')\n"
     ]
    },
    {
     "name": "stdout",
     "output_type": "stream",
     "text": [
      "e11  |  b1600  |  MSE 0.009623486548662186  |  Lr 0.0001  |  t tensor([513, 798, 692, 115, 621, 295, 342, 562, 394, 688], device='cuda:0')\n"
     ]
    },
    {
     "name": "stdout",
     "output_type": "stream",
     "text": [
      "e11  |  b1700  |  MSE 0.008741150610148907  |  Lr 0.0001  |  t tensor([948, 113, 531, 899, 836, 394, 137, 372, 390, 345], device='cuda:0')\n"
     ]
    },
    {
     "name": "stdout",
     "output_type": "stream",
     "text": [
      "e11  |  b1800  |  MSE 0.009230129420757294  |  Lr 0.0001  |  t tensor([320, 842, 964, 240, 684, 628, 215, 728, 262, 431], device='cuda:0')\n"
     ]
    },
    {
     "name": "stdout",
     "output_type": "stream",
     "text": [
      "e11  |  b1900  |  MSE 0.012221411801874638  |  Lr 0.0001  |  t tensor([290,  98,  98, 450, 983, 442, 608, 719, 792, 364], device='cuda:0')\n"
     ]
    },
    {
     "name": "stdout",
     "output_type": "stream",
     "text": [
      "e11  |  b2000  |  MSE 0.015815896913409233  |  Lr 0.0001  |  t tensor([ 77, 840, 212, 381, 353, 636, 235, 281,  90, 434], device='cuda:0')\n"
     ]
    },
    {
     "name": "stdout",
     "output_type": "stream",
     "text": [
      "e11  |  b2100  |  MSE 0.022282171994447708  |  Lr 0.0001  |  t tensor([214, 369, 579, 202, 365,  24,  58, 792, 946, 719], device='cuda:0')\n"
     ]
    },
    {
     "name": "stdout",
     "output_type": "stream",
     "text": [
      "e11  |  b2200  |  MSE 0.015354976058006287  |  Lr 0.0001  |  t tensor([992, 188, 529,  63, 778, 108, 156, 592, 465, 798], device='cuda:0')\n"
     ]
    },
    {
     "name": "stdout",
     "output_type": "stream",
     "text": [
      "e11  |  b2300  |  MSE 0.004628738388419151  |  Lr 0.0001  |  t tensor([354, 320, 977, 478, 730, 666, 311, 379, 634, 938], device='cuda:0')\n"
     ]
    },
    {
     "name": "stdout",
     "output_type": "stream",
     "text": [
      "e11  |  b2400  |  MSE 0.00967510137706995  |  Lr 0.0001  |  t tensor([904, 328, 905, 385, 936, 439, 268, 124, 801, 533], device='cuda:0')\n"
     ]
    },
    {
     "name": "stdout",
     "output_type": "stream",
     "text": [
      "e11  |  b2500  |  MSE 0.004524073097854853  |  Lr 0.0001  |  t tensor([909, 576, 906, 614, 549, 611, 648, 954, 162, 315], device='cuda:0')\n"
     ]
    },
    {
     "name": "stdout",
     "output_type": "stream",
     "text": [
      "e11  |  b2600  |  MSE 0.023231808096170425  |  Lr 0.0001  |  t tensor([206,  11, 821, 289, 127, 317, 892, 350, 889, 596], device='cuda:0')\n"
     ]
    },
    {
     "name": "stdout",
     "output_type": "stream",
     "text": [
      "e11  |  b2700  |  MSE 0.008092539384961128  |  Lr 0.0001  |  t tensor([711, 976, 457, 430, 508, 671, 416, 249, 547, 127], device='cuda:0')\n"
     ]
    },
    {
     "name": "stdout",
     "output_type": "stream",
     "text": [
      "e11  |  b2800  |  MSE 0.010993876494467258  |  Lr 0.0001  |  t tensor([863, 930, 847, 191, 722, 926,  68, 472, 368, 743], device='cuda:0')\n"
     ]
    },
    {
     "name": "stdout",
     "output_type": "stream",
     "text": [
      "e11  |  b2900  |  MSE 0.01264842227101326  |  Lr 0.0001  |  t tensor([112, 881, 150, 622, 512, 291, 382, 373, 359, 458], device='cuda:0')\n"
     ]
    },
    {
     "name": "stdout",
     "output_type": "stream",
     "text": [
      "e11  |  b3000  |  MSE 0.01819007098674774  |  Lr 0.0001  |  t tensor([476, 268, 829,   4, 610, 800, 794, 242, 224, 462], device='cuda:0')\n"
     ]
    },
    {
     "name": "stdout",
     "output_type": "stream",
     "text": [
      "e11  |  b3100  |  MSE 0.017669206485152245  |  Lr 0.0001  |  t tensor([ 66, 957, 564, 971,  36, 671, 557, 122, 229, 733], device='cuda:0')\n"
     ]
    },
    {
     "name": "stdout",
     "output_type": "stream",
     "text": [
      "e11  |  b3200  |  MSE 0.03267727047204971  |  Lr 0.0001  |  t tensor([599,   3, 844, 550, 281,  16, 567, 356, 677, 680], device='cuda:0')\n"
     ]
    },
    {
     "name": "stdout",
     "output_type": "stream",
     "text": [
      "e11  |  b3300  |  MSE 0.024924462661147118  |  Lr 0.0001  |  t tensor([507, 152, 109, 105, 471,   5, 958, 662, 967, 522], device='cuda:0')\n"
     ]
    },
    {
     "name": "stdout",
     "output_type": "stream",
     "text": [
      "e11  |  b3400  |  MSE 0.030460335314273834  |  Lr 0.0001  |  t tensor([432,  33, 166, 529, 993, 837,  38, 136, 733,  27], device='cuda:0')\n"
     ]
    },
    {
     "name": "stdout",
     "output_type": "stream",
     "text": [
      "e11  |  b3500  |  MSE 0.01627810113132  |  Lr 0.0001  |  t tensor([213, 457, 152, 397, 209, 524, 803,  45, 266, 693], device='cuda:0')\n"
     ]
    },
    {
     "name": "stdout",
     "output_type": "stream",
     "text": [
      "e11  |  b3600  |  MSE 0.01143896859139204  |  Lr 0.0001  |  t tensor([497, 679,  90,  42, 712, 890, 360, 738, 977, 656], device='cuda:0')\n"
     ]
    },
    {
     "name": "stdout",
     "output_type": "stream",
     "text": [
      "e11  |  b3700  |  MSE 0.02730770967900753  |  Lr 0.0001  |  t tensor([268,  10, 661, 401, 342, 625,  68, 525, 270, 827], device='cuda:0')\n"
     ]
    },
    {
     "name": "stdout",
     "output_type": "stream",
     "text": [
      "e11  |  b3800  |  MSE 0.010507844388484955  |  Lr 0.0001  |  t tensor([627, 361, 272, 821,  43, 636, 910, 196, 670, 155], device='cuda:0')\n"
     ]
    },
    {
     "name": "stdout",
     "output_type": "stream",
     "text": [
      "e11  |  b3900  |  MSE 0.023800207301974297  |  Lr 0.0001  |  t tensor([783,  50, 751,  30, 549,  42, 211, 596, 970, 332], device='cuda:0')\n"
     ]
    },
    {
     "name": "stdout",
     "output_type": "stream",
     "text": [
      "e11  |  b4000  |  MSE 0.02829907462000847  |  Lr 0.0001  |  t tensor([457, 178, 724,  79,  35, 779, 493, 265,  82,  24], device='cuda:0')\n"
     ]
    },
    {
     "name": "stdout",
     "output_type": "stream",
     "text": [
      "e11  |  b4100  |  MSE 0.010668324306607246  |  Lr 0.0001  |  t tensor([968, 579, 143,  94, 986, 270, 649, 532, 557, 348], device='cuda:0')\n"
     ]
    },
    {
     "name": "stdout",
     "output_type": "stream",
     "text": [
      "e11  |  b4200  |  MSE 0.005620055366307497  |  Lr 0.0001  |  t tensor([224, 676, 836, 647, 816, 824,  85, 733, 599, 874], device='cuda:0')\n"
     ]
    },
    {
     "name": "stdout",
     "output_type": "stream",
     "text": [
      "e11  |  b4300  |  MSE 0.032536134123802185  |  Lr 0.0001  |  t tensor([709, 233, 394, 155, 819, 749, 229, 532,   6,  18], device='cuda:0')\n"
     ]
    },
    {
     "name": "stdout",
     "output_type": "stream",
     "text": [
      "e11  |  b4400  |  MSE 0.0149358119815588  |  Lr 0.0001  |  t tensor([204, 652,  91, 438, 453, 860, 532, 405,  63, 612], device='cuda:0')\n"
     ]
    },
    {
     "name": "stdout",
     "output_type": "stream",
     "text": [
      "e11  |  b4500  |  MSE 0.011550944298505783  |  Lr 0.0001  |  t tensor([520, 401, 953, 350, 332, 384, 690, 689,  82, 472], device='cuda:0')\n"
     ]
    },
    {
     "name": "stdout",
     "output_type": "stream",
     "text": [
      "e11  |  b4600  |  MSE 0.0183363426476717  |  Lr 0.0001  |  t tensor([317,  15,  74, 965, 536, 572, 458, 555, 632, 222], device='cuda:0')\n"
     ]
    },
    {
     "name": "stdout",
     "output_type": "stream",
     "text": [
      "e11  |  b4700  |  MSE 0.005121964495629072  |  Lr 0.0001  |  t tensor([692, 366, 364, 620, 847, 340, 521, 655, 574, 420], device='cuda:0')\n"
     ]
    },
    {
     "name": "stdout",
     "output_type": "stream",
     "text": [
      "e11  |  b4800  |  MSE 0.014645477756857872  |  Lr 0.0001  |  t tensor([202, 964, 339, 521, 146, 699, 349, 124, 338, 797], device='cuda:0')\n"
     ]
    },
    {
     "name": "stdout",
     "output_type": "stream",
     "text": [
      "e11  |  b4900  |  MSE 0.014999767765402794  |  Lr 0.0001  |  t tensor([626, 299, 436, 474, 710, 416,  14, 926, 931, 977], device='cuda:0')\n"
     ]
    },
    {
     "name": "stdout",
     "output_type": "stream",
     "text": [
      "Epoch 11 loss: 0.013772427308303303\n"
     ]
    },
    {
     "data": {
      "application/vnd.jupyter.widget-view+json": {
       "model_id": "1db50bec1db74716b54cf0e18a02374d",
       "version_major": 2,
       "version_minor": 0
      },
      "text/plain": [
       "  0%|          | 0/5000 [00:00<?, ?it/s]"
      ]
     },
     "metadata": {},
     "output_type": "display_data"
    },
    {
     "name": "stdout",
     "output_type": "stream",
     "text": [
      "e12  |  b0  |  MSE 0.0088484026491642  |  Lr 0.0001  |  t tensor([693, 769, 683, 185, 654, 163, 266, 547, 977, 167], device='cuda:0')\n"
     ]
    },
    {
     "name": "stdout",
     "output_type": "stream",
     "text": [
      "e12  |  b100  |  MSE 0.019148927181959152  |  Lr 0.0001  |  t tensor([ 17, 768, 324, 844, 520, 892, 903, 260, 502,  85], device='cuda:0')\n"
     ]
    },
    {
     "name": "stdout",
     "output_type": "stream",
     "text": [
      "e12  |  b200  |  MSE 0.00737058836966753  |  Lr 0.0001  |  t tensor([400, 151, 470, 650, 604, 787, 299, 278, 893, 806], device='cuda:0')\n"
     ]
    },
    {
     "name": "stdout",
     "output_type": "stream",
     "text": [
      "e12  |  b300  |  MSE 0.011213168501853943  |  Lr 0.0001  |  t tensor([ 52, 578, 669, 251, 584, 465, 776, 608, 976, 546], device='cuda:0')\n"
     ]
    },
    {
     "name": "stdout",
     "output_type": "stream",
     "text": [
      "e12  |  b400  |  MSE 0.013255988247692585  |  Lr 0.0001  |  t tensor([ 93, 645, 175, 646,  77, 712, 342, 698, 151, 704], device='cuda:0')\n"
     ]
    },
    {
     "name": "stdout",
     "output_type": "stream",
     "text": [
      "e12  |  b500  |  MSE 0.03789306804537773  |  Lr 0.0001  |  t tensor([  2, 368, 915, 589, 474, 466, 177, 909, 612,  52], device='cuda:0')\n"
     ]
    },
    {
     "name": "stdout",
     "output_type": "stream",
     "text": [
      "e12  |  b600  |  MSE 0.021352309733629227  |  Lr 0.0001  |  t tensor([404, 346, 548, 702,  15, 215, 223, 186, 682, 485], device='cuda:0')\n"
     ]
    },
    {
     "name": "stdout",
     "output_type": "stream",
     "text": [
      "e12  |  b700  |  MSE 0.012510472908616066  |  Lr 0.0001  |  t tensor([203, 102,  83, 456, 562, 734, 865, 847, 124, 663], device='cuda:0')\n"
     ]
    },
    {
     "name": "stdout",
     "output_type": "stream",
     "text": [
      "e12  |  b800  |  MSE 0.004496611189097166  |  Lr 0.0001  |  t tensor([365, 514, 330, 664, 984, 896, 399, 782, 640, 758], device='cuda:0')\n"
     ]
    },
    {
     "name": "stdout",
     "output_type": "stream",
     "text": [
      "e12  |  b900  |  MSE 0.005282814614474773  |  Lr 0.0001  |  t tensor([526, 655, 426, 683, 791, 247, 902, 254, 700, 537], device='cuda:0')\n"
     ]
    },
    {
     "name": "stdout",
     "output_type": "stream",
     "text": [
      "e12  |  b1000  |  MSE 0.012536625377833843  |  Lr 0.0001  |  t tensor([236, 375, 103, 252, 909, 533, 627, 266, 219, 264], device='cuda:0')\n"
     ]
    },
    {
     "name": "stdout",
     "output_type": "stream",
     "text": [
      "e12  |  b1100  |  MSE 0.01078827679157257  |  Lr 0.0001  |  t tensor([126, 582, 356, 189, 748, 718, 106, 742, 416, 936], device='cuda:0')\n"
     ]
    },
    {
     "name": "stdout",
     "output_type": "stream",
     "text": [
      "e12  |  b1200  |  MSE 0.01282662432640791  |  Lr 0.0001  |  t tensor([980, 346, 510, 296, 258, 425,  27, 939, 218, 874], device='cuda:0')\n"
     ]
    },
    {
     "name": "stdout",
     "output_type": "stream",
     "text": [
      "e12  |  b1300  |  MSE 0.018147168681025505  |  Lr 0.0001  |  t tensor([680, 810,   8, 312, 965, 651, 259, 854, 841, 545], device='cuda:0')\n"
     ]
    },
    {
     "name": "stdout",
     "output_type": "stream",
     "text": [
      "e12  |  b1400  |  MSE 0.006594712845981121  |  Lr 0.0001  |  t tensor([571, 658, 317, 608, 925, 404, 315, 524, 593, 261], device='cuda:0')\n"
     ]
    },
    {
     "name": "stdout",
     "output_type": "stream",
     "text": [
      "e12  |  b1500  |  MSE 0.011208031326532364  |  Lr 0.0001  |  t tensor([730, 209, 252, 194, 153, 587, 208, 993, 463, 394], device='cuda:0')\n"
     ]
    },
    {
     "name": "stdout",
     "output_type": "stream",
     "text": [
      "e12  |  b1600  |  MSE 0.005332581698894501  |  Lr 0.0001  |  t tensor([374, 515, 557, 971, 855, 772, 362, 217, 616, 544], device='cuda:0')\n"
     ]
    },
    {
     "name": "stdout",
     "output_type": "stream",
     "text": [
      "e12  |  b1700  |  MSE 0.017628714442253113  |  Lr 0.0001  |  t tensor([ 20, 432, 336, 435, 192, 146, 984, 485, 546, 589], device='cuda:0')\n"
     ]
    },
    {
     "name": "stdout",
     "output_type": "stream",
     "text": [
      "e12  |  b1800  |  MSE 0.004632442258298397  |  Lr 0.0001  |  t tensor([801, 961, 944, 754, 311, 641, 739, 539, 218, 340], device='cuda:0')\n"
     ]
    },
    {
     "name": "stdout",
     "output_type": "stream",
     "text": [
      "e12  |  b1900  |  MSE 0.006449603475630283  |  Lr 0.0001  |  t tensor([934, 964, 748, 789, 846, 583, 128, 818, 541, 287], device='cuda:0')\n"
     ]
    },
    {
     "name": "stdout",
     "output_type": "stream",
     "text": [
      "e12  |  b2000  |  MSE 0.0061692968010902405  |  Lr 0.0001  |  t tensor([457, 749, 192, 988, 923, 564, 602, 509, 266, 793], device='cuda:0')\n"
     ]
    },
    {
     "name": "stdout",
     "output_type": "stream",
     "text": [
      "e12  |  b2100  |  MSE 0.006274889223277569  |  Lr 0.0001  |  t tensor([406, 519, 527, 895, 821, 466, 870, 839, 567,  69], device='cuda:0')\n"
     ]
    },
    {
     "name": "stdout",
     "output_type": "stream",
     "text": [
      "e12  |  b2200  |  MSE 0.011057117022573948  |  Lr 0.0001  |  t tensor([205, 232, 339, 679, 682, 332, 983, 229, 253, 906], device='cuda:0')\n"
     ]
    },
    {
     "name": "stdout",
     "output_type": "stream",
     "text": [
      "e12  |  b2300  |  MSE 0.009265356697142124  |  Lr 0.0001  |  t tensor([160, 278, 816, 908, 281, 434, 283, 465, 913, 889], device='cuda:0')\n"
     ]
    },
    {
     "name": "stdout",
     "output_type": "stream",
     "text": [
      "e12  |  b2400  |  MSE 0.008738251402974129  |  Lr 0.0001  |  t tensor([866, 380,  72, 642, 295, 397, 829, 539, 544, 891], device='cuda:0')\n"
     ]
    },
    {
     "name": "stdout",
     "output_type": "stream",
     "text": [
      "e12  |  b2500  |  MSE 0.007322522345930338  |  Lr 0.0001  |  t tensor([390, 785, 937, 936, 939, 989,  41, 388, 581, 534], device='cuda:0')\n"
     ]
    },
    {
     "name": "stdout",
     "output_type": "stream",
     "text": [
      "e12  |  b2600  |  MSE 0.01192596647888422  |  Lr 0.0001  |  t tensor([807, 415, 318, 224, 272, 403, 874, 244, 255, 153], device='cuda:0')\n"
     ]
    },
    {
     "name": "stdout",
     "output_type": "stream",
     "text": [
      "e12  |  b2700  |  MSE 0.007775872014462948  |  Lr 0.0001  |  t tensor([911, 583, 606, 620, 737, 293, 713, 276, 831, 142], device='cuda:0')\n"
     ]
    },
    {
     "name": "stdout",
     "output_type": "stream",
     "text": [
      "e12  |  b2800  |  MSE 0.02122247777879238  |  Lr 0.0001  |  t tensor([702, 317,  45,  14, 410, 590, 821, 857, 158, 660], device='cuda:0')\n"
     ]
    },
    {
     "name": "stdout",
     "output_type": "stream",
     "text": [
      "e12  |  b2900  |  MSE 0.009427259676158428  |  Lr 0.0001  |  t tensor([224, 453, 264, 398, 972, 554, 594,  80, 919, 396], device='cuda:0')\n"
     ]
    },
    {
     "name": "stdout",
     "output_type": "stream",
     "text": [
      "e12  |  b3000  |  MSE 0.021296709775924683  |  Lr 0.0001  |  t tensor([128, 781,  86, 985, 459, 929, 468, 497,  14, 877], device='cuda:0')\n"
     ]
    },
    {
     "name": "stdout",
     "output_type": "stream",
     "text": [
      "e12  |  b3100  |  MSE 0.01141063030809164  |  Lr 0.0001  |  t tensor([457, 612, 626, 282, 734,  11, 674, 698, 979, 802], device='cuda:0')\n"
     ]
    },
    {
     "name": "stdout",
     "output_type": "stream",
     "text": [
      "e12  |  b3200  |  MSE 0.010835747234523296  |  Lr 0.0001  |  t tensor([131, 787, 856, 625, 152, 313, 680, 725, 756, 253], device='cuda:0')\n"
     ]
    },
    {
     "name": "stdout",
     "output_type": "stream",
     "text": [
      "e12  |  b3300  |  MSE 0.00966570619493723  |  Lr 0.0001  |  t tensor([615,  22, 287, 661, 950, 504, 594, 275, 842, 924], device='cuda:0')\n"
     ]
    },
    {
     "name": "stdout",
     "output_type": "stream",
     "text": [
      "e12  |  b3400  |  MSE 0.006333052646368742  |  Lr 0.0001  |  t tensor([939, 958, 230, 236, 619, 970, 213, 369, 598, 840], device='cuda:0')\n"
     ]
    },
    {
     "name": "stdout",
     "output_type": "stream",
     "text": [
      "e12  |  b3500  |  MSE 0.008144241757690907  |  Lr 0.0001  |  t tensor([986, 529, 484, 455, 563,  46, 464, 350, 807, 817], device='cuda:0')\n"
     ]
    },
    {
     "name": "stdout",
     "output_type": "stream",
     "text": [
      "e12  |  b3600  |  MSE 0.025575576350092888  |  Lr 0.0001  |  t tensor([305,  57, 205, 109, 280, 146,  14, 439, 846, 580], device='cuda:0')\n"
     ]
    },
    {
     "name": "stdout",
     "output_type": "stream",
     "text": [
      "e12  |  b3700  |  MSE 0.010244262404739857  |  Lr 0.0001  |  t tensor([347, 758,  47, 554, 890, 919, 303, 726, 290, 382], device='cuda:0')\n"
     ]
    },
    {
     "name": "stdout",
     "output_type": "stream",
     "text": [
      "e12  |  b3800  |  MSE 0.02413148432970047  |  Lr 0.0001  |  t tensor([494,  65, 655, 108, 193, 654, 532, 554, 337,   8], device='cuda:0')\n"
     ]
    },
    {
     "name": "stdout",
     "output_type": "stream",
     "text": [
      "e12  |  b3900  |  MSE 0.005428215954452753  |  Lr 0.0001  |  t tensor([891, 825, 995, 364, 898, 282,  99, 779, 767, 764], device='cuda:0')\n"
     ]
    },
    {
     "name": "stdout",
     "output_type": "stream",
     "text": [
      "e12  |  b4000  |  MSE 0.003585217986255884  |  Lr 0.0001  |  t tensor([773, 333, 596, 720, 227, 610, 711, 740, 666, 920], device='cuda:0')\n"
     ]
    },
    {
     "name": "stdout",
     "output_type": "stream",
     "text": [
      "e12  |  b4100  |  MSE 0.005790861789137125  |  Lr 0.0001  |  t tensor([398, 528, 683, 578, 254, 353, 562, 933, 588, 908], device='cuda:0')\n"
     ]
    },
    {
     "name": "stdout",
     "output_type": "stream",
     "text": [
      "e12  |  b4200  |  MSE 0.014005383476614952  |  Lr 0.0001  |  t tensor([898, 406,  72, 742, 423, 357, 298, 493, 493,  71], device='cuda:0')\n"
     ]
    },
    {
     "name": "stdout",
     "output_type": "stream",
     "text": [
      "e12  |  b4300  |  MSE 0.009838505648076534  |  Lr 0.0001  |  t tensor([ 57, 510, 911, 947, 454, 605, 840, 753, 163, 832], device='cuda:0')\n"
     ]
    },
    {
     "name": "stdout",
     "output_type": "stream",
     "text": [
      "e12  |  b4400  |  MSE 0.014011136256158352  |  Lr 0.0001  |  t tensor([898,  20,  72, 903, 891, 623, 577, 401, 353, 898], device='cuda:0')\n"
     ]
    },
    {
     "name": "stdout",
     "output_type": "stream",
     "text": [
      "e12  |  b4500  |  MSE 0.014993383549153805  |  Lr 0.0001  |  t tensor([672, 822, 353, 268, 753,  29, 652, 700, 344, 918], device='cuda:0')\n"
     ]
    },
    {
     "name": "stdout",
     "output_type": "stream",
     "text": [
      "e12  |  b4600  |  MSE 0.021854672580957413  |  Lr 0.0001  |  t tensor([186,  79, 210,  48, 951, 507,  75, 887, 406, 119], device='cuda:0')\n"
     ]
    },
    {
     "name": "stdout",
     "output_type": "stream",
     "text": [
      "e12  |  b4700  |  MSE 0.01781151257455349  |  Lr 0.0001  |  t tensor([588, 696, 134, 982, 229, 855, 229, 261,  28, 273], device='cuda:0')\n"
     ]
    },
    {
     "name": "stdout",
     "output_type": "stream",
     "text": [
      "e12  |  b4800  |  MSE 0.01376501377671957  |  Lr 0.0001  |  t tensor([866, 484, 151, 394, 192, 909, 785, 147, 134, 680], device='cuda:0')\n"
     ]
    },
    {
     "name": "stdout",
     "output_type": "stream",
     "text": [
      "e12  |  b4900  |  MSE 0.00914772879332304  |  Lr 0.0001  |  t tensor([450, 379, 986, 115, 234, 273, 445, 244, 970, 616], device='cuda:0')\n"
     ]
    },
    {
     "name": "stdout",
     "output_type": "stream",
     "text": [
      "Epoch 12 loss: 0.013637585749756544\n"
     ]
    },
    {
     "data": {
      "application/vnd.jupyter.widget-view+json": {
       "model_id": "b1a2be2beee442299730199d4e600347",
       "version_major": 2,
       "version_minor": 0
      },
      "text/plain": [
       "  0%|          | 0/5000 [00:00<?, ?it/s]"
      ]
     },
     "metadata": {},
     "output_type": "display_data"
    },
    {
     "name": "stdout",
     "output_type": "stream",
     "text": [
      "e13  |  b0  |  MSE 0.0470961295068264  |  Lr 0.0001  |  t tensor([865, 139, 225, 803, 182, 374,   5, 730, 349, 108], device='cuda:0')\n"
     ]
    },
    {
     "name": "stdout",
     "output_type": "stream",
     "text": [
      "e13  |  b100  |  MSE 0.024842219427227974  |  Lr 0.0001  |  t tensor([171, 557, 398, 669,  94,   5, 704, 869, 800, 195], device='cuda:0')\n"
     ]
    },
    {
     "name": "stdout",
     "output_type": "stream",
     "text": [
      "e13  |  b200  |  MSE 0.008105429820716381  |  Lr 0.0001  |  t tensor([607, 885, 275, 491, 685, 282, 286,  60, 673, 932], device='cuda:0')\n"
     ]
    },
    {
     "name": "stdout",
     "output_type": "stream",
     "text": [
      "e13  |  b300  |  MSE 0.019164852797985077  |  Lr 0.0001  |  t tensor([ 41, 772, 737, 278, 868, 346, 177,  88, 146, 410], device='cuda:0')\n"
     ]
    },
    {
     "name": "stdout",
     "output_type": "stream",
     "text": [
      "e13  |  b400  |  MSE 0.026979899033904076  |  Lr 0.0001  |  t tensor([879, 597,   8, 370, 796, 600, 103, 128, 708, 994], device='cuda:0')\n"
     ]
    },
    {
     "name": "stdout",
     "output_type": "stream",
     "text": [
      "e13  |  b500  |  MSE 0.009747152216732502  |  Lr 0.0001  |  t tensor([543,  98, 447, 657, 533, 895, 163, 162, 713, 852], device='cuda:0')\n"
     ]
    },
    {
     "name": "stdout",
     "output_type": "stream",
     "text": [
      "e13  |  b600  |  MSE 0.016539743170142174  |  Lr 0.0001  |  t tensor([878, 230, 468, 725, 306, 182,  25, 641, 626, 490], device='cuda:0')\n"
     ]
    },
    {
     "name": "stdout",
     "output_type": "stream",
     "text": [
      "e13  |  b700  |  MSE 0.022329840809106827  |  Lr 0.0001  |  t tensor([  6, 700, 855, 155, 676, 669, 603, 571, 203, 749], device='cuda:0')\n"
     ]
    },
    {
     "name": "stdout",
     "output_type": "stream",
     "text": [
      "e13  |  b800  |  MSE 0.019157037138938904  |  Lr 0.0001  |  t tensor([730,  69, 519, 565, 296, 666, 778, 198, 609,  18], device='cuda:0')\n"
     ]
    },
    {
     "name": "stdout",
     "output_type": "stream",
     "text": [
      "e13  |  b900  |  MSE 0.00931829959154129  |  Lr 0.0001  |  t tensor([866, 626, 661, 775, 324, 361, 813, 487,  75, 526], device='cuda:0')\n"
     ]
    },
    {
     "name": "stdout",
     "output_type": "stream",
     "text": [
      "e13  |  b1000  |  MSE 0.04367073252797127  |  Lr 0.0001  |  t tensor([151, 230, 155, 988, 177,   1, 281, 417, 739, 395], device='cuda:0')\n"
     ]
    },
    {
     "name": "stdout",
     "output_type": "stream",
     "text": [
      "e13  |  b1100  |  MSE 0.010769274085760117  |  Lr 0.0001  |  t tensor([241, 954, 173, 468, 398, 823, 906, 144, 654, 184], device='cuda:0')\n"
     ]
    },
    {
     "name": "stdout",
     "output_type": "stream",
     "text": [
      "e13  |  b1200  |  MSE 0.010366273112595081  |  Lr 0.0001  |  t tensor([211, 181, 649, 980, 122, 949, 519, 620, 629, 159], device='cuda:0')\n"
     ]
    },
    {
     "name": "stdout",
     "output_type": "stream",
     "text": [
      "e13  |  b1300  |  MSE 0.012418447993695736  |  Lr 0.0001  |  t tensor([300, 681, 590, 791, 488, 857, 111,  64, 759, 867], device='cuda:0')\n"
     ]
    },
    {
     "name": "stdout",
     "output_type": "stream",
     "text": [
      "e13  |  b1400  |  MSE 0.006231395062059164  |  Lr 0.0001  |  t tensor([516, 461, 420, 835, 887,  84, 989, 900, 629, 859], device='cuda:0')\n"
     ]
    },
    {
     "name": "stdout",
     "output_type": "stream",
     "text": [
      "e13  |  b1500  |  MSE 0.018488673493266106  |  Lr 0.0001  |  t tensor([956, 739, 933, 274, 825, 877, 111,  29, 356, 824], device='cuda:0')\n"
     ]
    },
    {
     "name": "stdout",
     "output_type": "stream",
     "text": [
      "e13  |  b1600  |  MSE 0.017442964017391205  |  Lr 0.0001  |  t tensor([307, 915,  29, 158, 646, 615,  74, 223, 446, 941], device='cuda:0')\n"
     ]
    },
    {
     "name": "stdout",
     "output_type": "stream",
     "text": [
      "e13  |  b1700  |  MSE 0.017920883372426033  |  Lr 0.0001  |  t tensor([827, 606, 237, 239, 122, 278,  34, 666, 384, 544], device='cuda:0')\n"
     ]
    },
    {
     "name": "stdout",
     "output_type": "stream",
     "text": [
      "e13  |  b1800  |  MSE 0.0077935634180903435  |  Lr 0.0001  |  t tensor([776, 742, 450, 703, 335, 467, 471, 724, 111, 519], device='cuda:0')\n"
     ]
    },
    {
     "name": "stdout",
     "output_type": "stream",
     "text": [
      "e13  |  b1900  |  MSE 0.007130867335945368  |  Lr 0.0001  |  t tensor([754, 335, 712, 187, 304, 449, 916, 621, 564, 597], device='cuda:0')\n"
     ]
    },
    {
     "name": "stdout",
     "output_type": "stream",
     "text": [
      "e13  |  b2000  |  MSE 0.010380725376307964  |  Lr 0.0001  |  t tensor([856, 977, 806, 129,  87, 498, 180, 912, 412, 463], device='cuda:0')\n"
     ]
    },
    {
     "name": "stdout",
     "output_type": "stream",
     "text": [
      "e13  |  b2100  |  MSE 0.010354629717767239  |  Lr 0.0001  |  t tensor([163,  97, 417, 742, 544, 395, 648, 676, 377, 619], device='cuda:0')\n"
     ]
    },
    {
     "name": "stdout",
     "output_type": "stream",
     "text": [
      "e13  |  b2200  |  MSE 0.0068975696340203285  |  Lr 0.0001  |  t tensor([174, 600, 166, 429, 896, 584, 457, 455, 959, 708], device='cuda:0')\n"
     ]
    },
    {
     "name": "stdout",
     "output_type": "stream",
     "text": [
      "e13  |  b2300  |  MSE 0.018637793138623238  |  Lr 0.0001  |  t tensor([832, 781, 121,   6, 418, 220, 861, 550, 708, 452], device='cuda:0')\n"
     ]
    },
    {
     "name": "stdout",
     "output_type": "stream",
     "text": [
      "e13  |  b2400  |  MSE 0.020534630864858627  |  Lr 0.0001  |  t tensor([872, 406,  18,  20, 390, 944, 894, 819, 921, 689], device='cuda:0')\n"
     ]
    },
    {
     "name": "stdout",
     "output_type": "stream",
     "text": [
      "e13  |  b2500  |  MSE 0.018895523622632027  |  Lr 0.0001  |  t tensor([300, 271, 469,  11, 912, 136, 508, 581, 440, 473], device='cuda:0')\n"
     ]
    },
    {
     "name": "stdout",
     "output_type": "stream",
     "text": [
      "e13  |  b2600  |  MSE 0.01307454239577055  |  Lr 0.0001  |  t tensor([151, 544,  91, 744, 481, 453, 715, 351, 354, 213], device='cuda:0')\n"
     ]
    },
    {
     "name": "stdout",
     "output_type": "stream",
     "text": [
      "e13  |  b2700  |  MSE 0.024148540571331978  |  Lr 0.0001  |  t tensor([186,  32, 985,  53, 897, 473,  44, 948, 890, 844], device='cuda:0')\n"
     ]
    },
    {
     "name": "stdout",
     "output_type": "stream",
     "text": [
      "e13  |  b2800  |  MSE 0.018019864335656166  |  Lr 0.0001  |  t tensor([ 80, 406, 844, 815, 996, 803, 679,  25, 154, 149], device='cuda:0')\n"
     ]
    },
    {
     "name": "stdout",
     "output_type": "stream",
     "text": [
      "e13  |  b2900  |  MSE 0.015800174325704575  |  Lr 0.0001  |  t tensor([879, 310,  90, 633, 828, 903, 144, 159, 260,  82], device='cuda:0')\n"
     ]
    },
    {
     "name": "stdout",
     "output_type": "stream",
     "text": [
      "e13  |  b3000  |  MSE 0.011393078602850437  |  Lr 0.0001  |  t tensor([195, 651,  53, 991, 600, 307, 785, 508, 330, 482], device='cuda:0')\n"
     ]
    },
    {
     "name": "stdout",
     "output_type": "stream",
     "text": [
      "e13  |  b3100  |  MSE 0.008288590237498283  |  Lr 0.0001  |  t tensor([324, 524, 411, 624, 829, 585, 164, 893, 454, 129], device='cuda:0')\n"
     ]
    },
    {
     "name": "stdout",
     "output_type": "stream",
     "text": [
      "e13  |  b3200  |  MSE 0.026712438091635704  |  Lr 0.0001  |  t tensor([838, 110, 850,  77,  33, 889, 119,  83, 435, 607], device='cuda:0')\n"
     ]
    },
    {
     "name": "stdout",
     "output_type": "stream",
     "text": [
      "e13  |  b3300  |  MSE 0.014374296180903912  |  Lr 0.0001  |  t tensor([537, 706, 768, 922, 398, 256, 579, 454,  49,  59], device='cuda:0')\n"
     ]
    },
    {
     "name": "stdout",
     "output_type": "stream",
     "text": [
      "e13  |  b3400  |  MSE 0.01515238732099533  |  Lr 0.0001  |  t tensor([550, 839, 662,   6, 628, 675, 307, 722, 216, 788], device='cuda:0')\n"
     ]
    },
    {
     "name": "stdout",
     "output_type": "stream",
     "text": [
      "e13  |  b3500  |  MSE 0.02147684618830681  |  Lr 0.0001  |  t tensor([155, 637, 525, 885,  95, 504, 642, 313, 938,  21], device='cuda:0')\n"
     ]
    },
    {
     "name": "stdout",
     "output_type": "stream",
     "text": [
      "e13  |  b3600  |  MSE 0.009303987957537174  |  Lr 0.0001  |  t tensor([409, 235, 795, 494, 948, 868, 404, 525, 370, 144], device='cuda:0')\n"
     ]
    },
    {
     "name": "stdout",
     "output_type": "stream",
     "text": [
      "e13  |  b3700  |  MSE 0.007221746724098921  |  Lr 0.0001  |  t tensor([592, 201, 344, 360, 315, 803, 377, 541, 285, 384], device='cuda:0')\n"
     ]
    },
    {
     "name": "stdout",
     "output_type": "stream",
     "text": [
      "e13  |  b3800  |  MSE 0.0158669613301754  |  Lr 0.0001  |  t tensor([505, 936, 289, 705, 281, 439,  56, 247, 259, 331], device='cuda:0')\n"
     ]
    },
    {
     "name": "stdout",
     "output_type": "stream",
     "text": [
      "e13  |  b3900  |  MSE 0.009913303889334202  |  Lr 0.0001  |  t tensor([686, 916, 312, 752, 929, 338, 657, 127,  77, 187], device='cuda:0')\n"
     ]
    },
    {
     "name": "stdout",
     "output_type": "stream",
     "text": [
      "e13  |  b4000  |  MSE 0.010761738754808903  |  Lr 0.0001  |  t tensor([881,  25, 803, 539, 905, 702, 622, 279, 935, 662], device='cuda:0')\n"
     ]
    },
    {
     "name": "stdout",
     "output_type": "stream",
     "text": [
      "e13  |  b4100  |  MSE 0.005745591130107641  |  Lr 0.0001  |  t tensor([930, 426, 372, 286, 993, 436, 641, 928, 550, 356], device='cuda:0')\n"
     ]
    },
    {
     "name": "stdout",
     "output_type": "stream",
     "text": [
      "e13  |  b4200  |  MSE 0.007846588268876076  |  Lr 0.0001  |  t tensor([663, 920,  69, 896, 377, 426, 330, 240, 852, 464], device='cuda:0')\n"
     ]
    },
    {
     "name": "stdout",
     "output_type": "stream",
     "text": [
      "e13  |  b4300  |  MSE 0.010542957112193108  |  Lr 0.0001  |  t tensor([203, 919,  85, 257, 583, 749, 393, 681, 326, 497], device='cuda:0')\n"
     ]
    },
    {
     "name": "stdout",
     "output_type": "stream",
     "text": [
      "e13  |  b4400  |  MSE 0.008863816037774086  |  Lr 0.0001  |  t tensor([390, 484, 352, 203, 213, 940, 879, 586, 147, 702], device='cuda:0')\n"
     ]
    },
    {
     "name": "stdout",
     "output_type": "stream",
     "text": [
      "e13  |  b4500  |  MSE 0.026277130469679832  |  Lr 0.0001  |  t tensor([224, 754, 342, 269, 243,  12,  29, 251,  78, 466], device='cuda:0')\n"
     ]
    },
    {
     "name": "stdout",
     "output_type": "stream",
     "text": [
      "e13  |  b4600  |  MSE 0.010633166879415512  |  Lr 0.0001  |  t tensor([907, 122, 897, 735, 389, 239, 973, 723,  52, 988], device='cuda:0')\n"
     ]
    },
    {
     "name": "stdout",
     "output_type": "stream",
     "text": [
      "e13  |  b4700  |  MSE 0.01801251247525215  |  Lr 0.0001  |  t tensor([577,  23, 606, 411, 709, 513, 420, 758, 601, 167], device='cuda:0')\n"
     ]
    },
    {
     "name": "stdout",
     "output_type": "stream",
     "text": [
      "e13  |  b4800  |  MSE 0.006568183656781912  |  Lr 0.0001  |  t tensor([223, 472, 356, 789, 840, 572, 225, 801, 664, 427], device='cuda:0')\n"
     ]
    },
    {
     "name": "stdout",
     "output_type": "stream",
     "text": [
      "e13  |  b4900  |  MSE 0.009584037587046623  |  Lr 0.0001  |  t tensor([554, 630, 401, 311, 761,  33, 336, 881, 677, 810], device='cuda:0')\n"
     ]
    },
    {
     "name": "stdout",
     "output_type": "stream",
     "text": [
      "Epoch 13 loss: 0.013795704190153628\n"
     ]
    },
    {
     "data": {
      "application/vnd.jupyter.widget-view+json": {
       "model_id": "50e2ffe3129148fb9bcd8a49bda2929e",
       "version_major": 2,
       "version_minor": 0
      },
      "text/plain": [
       "  0%|          | 0/5000 [00:00<?, ?it/s]"
      ]
     },
     "metadata": {},
     "output_type": "display_data"
    },
    {
     "name": "stdout",
     "output_type": "stream",
     "text": [
      "e14  |  b0  |  MSE 0.0036304346285760403  |  Lr 0.0001  |  t tensor([900, 230, 573, 813, 777, 606, 968, 445, 555, 495], device='cuda:0')\n"
     ]
    },
    {
     "name": "stdout",
     "output_type": "stream",
     "text": [
      "e14  |  b100  |  MSE 0.01062389649450779  |  Lr 0.0001  |  t tensor([759, 102, 106, 257, 160, 710, 792, 150, 781, 781], device='cuda:0')\n"
     ]
    },
    {
     "name": "stdout",
     "output_type": "stream",
     "text": [
      "e14  |  b200  |  MSE 0.013213206082582474  |  Lr 0.0001  |  t tensor([193, 768, 157, 207, 689, 671, 428, 721,  81, 693], device='cuda:0')\n"
     ]
    },
    {
     "name": "stdout",
     "output_type": "stream",
     "text": [
      "e14  |  b300  |  MSE 0.00475539593026042  |  Lr 0.0001  |  t tensor([152, 668, 843, 399, 807, 632, 552, 811, 858, 717], device='cuda:0')\n"
     ]
    },
    {
     "name": "stdout",
     "output_type": "stream",
     "text": [
      "e14  |  b400  |  MSE 0.0077385916374623775  |  Lr 0.0001  |  t tensor([767, 866, 497, 180, 759, 586, 942, 623, 686, 121], device='cuda:0')\n"
     ]
    },
    {
     "name": "stdout",
     "output_type": "stream",
     "text": [
      "e14  |  b500  |  MSE 0.009980465285480022  |  Lr 0.0001  |  t tensor([ 91, 915, 369, 340, 383, 611, 233, 387, 756, 487], device='cuda:0')\n"
     ]
    },
    {
     "name": "stdout",
     "output_type": "stream",
     "text": [
      "e14  |  b600  |  MSE 0.0063590421341359615  |  Lr 0.0001  |  t tensor([560, 314, 857, 770, 553, 879, 859, 878, 201,  90], device='cuda:0')\n"
     ]
    },
    {
     "name": "stdout",
     "output_type": "stream",
     "text": [
      "e14  |  b700  |  MSE 0.007758342660963535  |  Lr 0.0001  |  t tensor([140, 701, 561, 950, 326, 419, 164, 936, 895, 532], device='cuda:0')\n"
     ]
    },
    {
     "name": "stdout",
     "output_type": "stream",
     "text": [
      "e14  |  b800  |  MSE 0.010318492539227009  |  Lr 0.0001  |  t tensor([295, 834, 229, 797, 988, 475, 697,  90, 841, 297], device='cuda:0')\n"
     ]
    },
    {
     "name": "stdout",
     "output_type": "stream",
     "text": [
      "e14  |  b900  |  MSE 0.015281589701771736  |  Lr 0.0001  |  t tensor([399, 729,  38, 243, 547, 398, 616,  43, 615, 297], device='cuda:0')\n"
     ]
    },
    {
     "name": "stdout",
     "output_type": "stream",
     "text": [
      "e14  |  b1000  |  MSE 0.008555589243769646  |  Lr 0.0001  |  t tensor([242, 989, 619, 499, 917, 301, 165, 464, 748, 507], device='cuda:0')\n"
     ]
    },
    {
     "name": "stdout",
     "output_type": "stream",
     "text": [
      "e14  |  b1100  |  MSE 0.007440211717039347  |  Lr 0.0001  |  t tensor([507, 260, 396, 181, 463, 952, 175, 791, 617, 314], device='cuda:0')\n"
     ]
    },
    {
     "name": "stdout",
     "output_type": "stream",
     "text": [
      "e14  |  b1200  |  MSE 0.012119978666305542  |  Lr 0.0001  |  t tensor([496, 443, 468, 102, 710, 903, 313, 220, 359, 933], device='cuda:0')\n"
     ]
    },
    {
     "name": "stdout",
     "output_type": "stream",
     "text": [
      "e14  |  b1300  |  MSE 0.011250336654484272  |  Lr 0.0001  |  t tensor([111, 435, 209, 205, 509, 682, 790, 946, 438, 464], device='cuda:0')\n"
     ]
    },
    {
     "name": "stdout",
     "output_type": "stream",
     "text": [
      "e14  |  b1400  |  MSE 0.008549939841032028  |  Lr 0.0001  |  t tensor([157, 449, 817, 953, 215, 960,  26, 454, 830, 719], device='cuda:0')\n"
     ]
    },
    {
     "name": "stdout",
     "output_type": "stream",
     "text": [
      "e14  |  b1500  |  MSE 0.008065660484135151  |  Lr 0.0001  |  t tensor([330, 428, 569, 549, 309, 497, 210, 537, 473, 454], device='cuda:0')\n"
     ]
    },
    {
     "name": "stdout",
     "output_type": "stream",
     "text": [
      "e14  |  b1600  |  MSE 0.014483899809420109  |  Lr 0.0001  |  t tensor([406, 260, 692, 274, 771, 678, 860, 921,  34, 247], device='cuda:0')\n"
     ]
    },
    {
     "name": "stdout",
     "output_type": "stream",
     "text": [
      "e14  |  b1700  |  MSE 0.01733175665140152  |  Lr 0.0001  |  t tensor([151,  74, 615,  37, 230, 953, 725, 859, 291, 338], device='cuda:0')\n"
     ]
    },
    {
     "name": "stdout",
     "output_type": "stream",
     "text": [
      "e14  |  b1800  |  MSE 0.006025906652212143  |  Lr 0.0001  |  t tensor([907, 581, 697, 788, 160, 804, 318, 570, 827, 697], device='cuda:0')\n"
     ]
    },
    {
     "name": "stdout",
     "output_type": "stream",
     "text": [
      "e14  |  b1900  |  MSE 0.005698328837752342  |  Lr 0.0001  |  t tensor([678, 632, 649, 497, 251, 669, 410, 987, 260, 541], device='cuda:0')\n"
     ]
    },
    {
     "name": "stdout",
     "output_type": "stream",
     "text": [
      "e14  |  b2000  |  MSE 0.005763937719166279  |  Lr 0.0001  |  t tensor([557, 273, 956, 156, 656, 437, 851, 449, 717, 817], device='cuda:0')\n"
     ]
    },
    {
     "name": "stdout",
     "output_type": "stream",
     "text": [
      "e14  |  b2100  |  MSE 0.00611524423584342  |  Lr 0.0001  |  t tensor([803, 289, 312, 828, 727, 677, 736, 535,  58, 851], device='cuda:0')\n"
     ]
    },
    {
     "name": "stdout",
     "output_type": "stream",
     "text": [
      "e14  |  b2200  |  MSE 0.01297368947416544  |  Lr 0.0001  |  t tensor([689, 845, 598, 287, 937, 271, 628,  28, 588, 671], device='cuda:0')\n"
     ]
    },
    {
     "name": "stdout",
     "output_type": "stream",
     "text": [
      "e14  |  b2300  |  MSE 0.017484737560153008  |  Lr 0.0001  |  t tensor([ 73, 124, 619, 185, 178, 242, 719, 294, 154, 178], device='cuda:0')\n"
     ]
    },
    {
     "name": "stdout",
     "output_type": "stream",
     "text": [
      "e14  |  b2400  |  MSE 0.002469422295689583  |  Lr 0.0001  |  t tensor([577, 786, 574, 210, 548, 739, 793, 921, 807, 819], device='cuda:0')\n"
     ]
    },
    {
     "name": "stdout",
     "output_type": "stream",
     "text": [
      "e14  |  b2500  |  MSE 0.037705209106206894  |  Lr 0.0001  |  t tensor([118,  13, 416, 284, 335, 176,  17, 403,  12, 459], device='cuda:0')\n"
     ]
    },
    {
     "name": "stdout",
     "output_type": "stream",
     "text": [
      "e14  |  b2600  |  MSE 0.013402140699326992  |  Lr 0.0001  |  t tensor([958, 364, 321, 936, 253, 143, 589, 118, 375,  97], device='cuda:0')\n"
     ]
    },
    {
     "name": "stdout",
     "output_type": "stream",
     "text": [
      "e14  |  b2700  |  MSE 0.012978232465684414  |  Lr 0.0001  |  t tensor([410, 947, 804, 476, 116, 264, 214, 108, 563, 192], device='cuda:0')\n"
     ]
    },
    {
     "name": "stdout",
     "output_type": "stream",
     "text": [
      "e14  |  b2800  |  MSE 0.019813915714621544  |  Lr 0.0001  |  t tensor([998, 827, 415, 195, 217, 314, 385, 322,  14, 656], device='cuda:0')\n"
     ]
    },
    {
     "name": "stdout",
     "output_type": "stream",
     "text": [
      "e14  |  b2900  |  MSE 0.02118404023349285  |  Lr 0.0001  |  t tensor([137, 110, 747, 805, 118, 941,  11, 320, 308, 384], device='cuda:0')\n"
     ]
    },
    {
     "name": "stdout",
     "output_type": "stream",
     "text": [
      "e14  |  b3000  |  MSE 0.013001411221921444  |  Lr 0.0001  |  t tensor([424, 118,  94, 903, 717, 354, 190, 572, 188, 169], device='cuda:0')\n"
     ]
    },
    {
     "name": "stdout",
     "output_type": "stream",
     "text": [
      "e14  |  b3100  |  MSE 0.002512690145522356  |  Lr 0.0001  |  t tensor([882, 935, 835, 202, 808, 525, 751, 546, 650, 828], device='cuda:0')\n"
     ]
    },
    {
     "name": "stdout",
     "output_type": "stream",
     "text": [
      "e14  |  b3200  |  MSE 0.020332705229520798  |  Lr 0.0001  |  t tensor([239,  20, 726, 876, 639, 268, 588,  76, 334, 931], device='cuda:0')\n"
     ]
    },
    {
     "name": "stdout",
     "output_type": "stream",
     "text": [
      "e14  |  b3300  |  MSE 0.03206561133265495  |  Lr 0.0001  |  t tensor([476, 929, 734, 756,  33, 486, 946,  53,   3, 379], device='cuda:0')\n"
     ]
    },
    {
     "name": "stdout",
     "output_type": "stream",
     "text": [
      "e14  |  b3400  |  MSE 0.01338254101574421  |  Lr 0.0001  |  t tensor([839, 801, 383, 375, 289, 150, 301, 218, 238, 127], device='cuda:0')\n"
     ]
    },
    {
     "name": "stdout",
     "output_type": "stream",
     "text": [
      "e14  |  b3500  |  MSE 0.010350845754146576  |  Lr 0.0001  |  t tensor([745,  39, 259, 915, 858, 814, 263, 816, 653, 320], device='cuda:0')\n"
     ]
    },
    {
     "name": "stdout",
     "output_type": "stream",
     "text": [
      "e14  |  b3600  |  MSE 0.012319948524236679  |  Lr 0.0001  |  t tensor([892, 132, 954, 459, 956, 606, 939, 587,  26, 782], device='cuda:0')\n"
     ]
    },
    {
     "name": "stdout",
     "output_type": "stream",
     "text": [
      "e14  |  b3700  |  MSE 0.019200174137949944  |  Lr 0.0001  |  t tensor([430, 214, 856,  39, 946, 439, 936, 802,  17, 268], device='cuda:0')\n"
     ]
    },
    {
     "name": "stdout",
     "output_type": "stream",
     "text": [
      "e14  |  b3800  |  MSE 0.003664134070277214  |  Lr 0.0001  |  t tensor([879, 631, 339, 494, 753, 778, 777, 972, 338, 372], device='cuda:0')\n"
     ]
    },
    {
     "name": "stdout",
     "output_type": "stream",
     "text": [
      "e14  |  b3900  |  MSE 0.009970659390091896  |  Lr 0.0001  |  t tensor([239, 425, 145, 699, 542, 561, 709, 795, 132, 102], device='cuda:0')\n"
     ]
    },
    {
     "name": "stdout",
     "output_type": "stream",
     "text": [
      "e14  |  b4000  |  MSE 0.006516002118587494  |  Lr 0.0001  |  t tensor([756, 678, 701, 950, 158, 142, 330, 768, 699, 702], device='cuda:0')\n"
     ]
    },
    {
     "name": "stdout",
     "output_type": "stream",
     "text": [
      "e14  |  b4100  |  MSE 0.01844780333340168  |  Lr 0.0001  |  t tensor([834, 685, 948, 854,  13, 562, 575, 637, 185, 160], device='cuda:0')\n"
     ]
    },
    {
     "name": "stdout",
     "output_type": "stream",
     "text": [
      "e14  |  b4200  |  MSE 0.017450738698244095  |  Lr 0.0001  |  t tensor([572, 555, 235, 983, 525, 742,  14, 778, 849, 129], device='cuda:0')\n"
     ]
    },
    {
     "name": "stdout",
     "output_type": "stream",
     "text": [
      "e14  |  b4300  |  MSE 0.01604299619793892  |  Lr 0.0001  |  t tensor([580, 714, 206, 495, 613,  27, 127, 109, 341, 896], device='cuda:0')\n"
     ]
    },
    {
     "name": "stdout",
     "output_type": "stream",
     "text": [
      "e14  |  b4400  |  MSE 0.025707660242915154  |  Lr 0.0001  |  t tensor([905,  54,  28,  59, 927,  44, 178, 745, 903, 303], device='cuda:0')\n"
     ]
    },
    {
     "name": "stdout",
     "output_type": "stream",
     "text": [
      "e14  |  b4500  |  MSE 0.017344683408737183  |  Lr 0.0001  |  t tensor([205, 370, 550, 102, 934,  48, 233, 419, 836, 764], device='cuda:0')\n"
     ]
    },
    {
     "name": "stdout",
     "output_type": "stream",
     "text": [
      "e14  |  b4600  |  MSE 0.010021014139056206  |  Lr 0.0001  |  t tensor([179, 250, 920, 559, 616, 475, 305, 690, 176, 899], device='cuda:0')\n"
     ]
    },
    {
     "name": "stdout",
     "output_type": "stream",
     "text": [
      "e14  |  b4700  |  MSE 0.006258754059672356  |  Lr 0.0001  |  t tensor([657, 395, 379, 538, 254, 973, 598, 270, 642, 472], device='cuda:0')\n"
     ]
    },
    {
     "name": "stdout",
     "output_type": "stream",
     "text": [
      "e14  |  b4800  |  MSE 0.020467747002840042  |  Lr 0.0001  |  t tensor([208, 586, 152, 207, 548, 361, 931,  35, 139, 641], device='cuda:0')\n"
     ]
    },
    {
     "name": "stdout",
     "output_type": "stream",
     "text": [
      "e14  |  b4900  |  MSE 0.018461765721440315  |  Lr 0.0001  |  t tensor([451, 163, 328, 708,  63, 217, 576, 359, 247, 107], device='cuda:0')\n"
     ]
    },
    {
     "name": "stdout",
     "output_type": "stream",
     "text": [
      "Epoch 14 loss: 0.013674486438115127\n"
     ]
    },
    {
     "data": {
      "application/vnd.jupyter.widget-view+json": {
       "model_id": "7e78103a45824a66b59897bb8a5c6307",
       "version_major": 2,
       "version_minor": 0
      },
      "text/plain": [
       "  0%|          | 0/5000 [00:00<?, ?it/s]"
      ]
     },
     "metadata": {},
     "output_type": "display_data"
    },
    {
     "name": "stdout",
     "output_type": "stream",
     "text": [
      "e15  |  b0  |  MSE 0.022549929097294807  |  Lr 0.0001  |  t tensor([994, 437,   9, 879, 389,  56, 699, 191, 557, 882], device='cuda:0')\n"
     ]
    },
    {
     "name": "stdout",
     "output_type": "stream",
     "text": [
      "e15  |  b100  |  MSE 0.01536523550748825  |  Lr 0.0001  |  t tensor([402, 387, 117, 575,  68, 169, 131, 957, 368, 404], device='cuda:0')\n"
     ]
    },
    {
     "name": "stdout",
     "output_type": "stream",
     "text": [
      "e15  |  b200  |  MSE 0.008776290342211723  |  Lr 0.0001  |  t tensor([552, 635, 803, 363, 249, 928, 727, 386, 361,  96], device='cuda:0')\n"
     ]
    },
    {
     "name": "stdout",
     "output_type": "stream",
     "text": [
      "e15  |  b300  |  MSE 0.012452621944248676  |  Lr 0.0001  |  t tensor([689, 414, 330, 588, 646, 200, 906,  72, 669,  90], device='cuda:0')\n"
     ]
    },
    {
     "name": "stdout",
     "output_type": "stream",
     "text": [
      "e15  |  b400  |  MSE 0.011775555089116096  |  Lr 0.0001  |  t tensor([330, 609, 490, 242, 154, 459, 236,  92, 486, 695], device='cuda:0')\n"
     ]
    },
    {
     "name": "stdout",
     "output_type": "stream",
     "text": [
      "e15  |  b500  |  MSE 0.03305603563785553  |  Lr 0.0001  |  t tensor([635, 983,   1, 410, 644, 190, 184, 536, 105, 837], device='cuda:0')\n"
     ]
    },
    {
     "name": "stdout",
     "output_type": "stream",
     "text": [
      "e15  |  b600  |  MSE 0.006633334793150425  |  Lr 0.0001  |  t tensor([698, 354, 300, 314, 210, 433, 373, 996, 506, 548], device='cuda:0')\n"
     ]
    },
    {
     "name": "stdout",
     "output_type": "stream",
     "text": [
      "e15  |  b700  |  MSE 0.005326657555997372  |  Lr 0.0001  |  t tensor([776, 331, 797, 122, 705, 759, 228, 595, 934, 966], device='cuda:0')\n"
     ]
    },
    {
     "name": "stdout",
     "output_type": "stream",
     "text": [
      "e15  |  b800  |  MSE 0.006351692136377096  |  Lr 0.0001  |  t tensor([475, 989, 477, 711, 397, 238, 250, 764, 561, 795], device='cuda:0')\n"
     ]
    },
    {
     "name": "stdout",
     "output_type": "stream",
     "text": [
      "e15  |  b900  |  MSE 0.016202617436647415  |  Lr 0.0001  |  t tensor([188, 905, 691,  33,  46, 137, 697, 430, 862, 315], device='cuda:0')\n"
     ]
    },
    {
     "name": "stdout",
     "output_type": "stream",
     "text": [
      "e15  |  b1000  |  MSE 0.03351014479994774  |  Lr 0.0001  |  t tensor([549, 865, 944, 623,   4, 795, 372, 521, 104, 256], device='cuda:0')\n"
     ]
    },
    {
     "name": "stdout",
     "output_type": "stream",
     "text": [
      "e15  |  b1100  |  MSE 0.005973056424409151  |  Lr 0.0001  |  t tensor([340, 702, 937, 111, 281, 724, 650, 584, 342, 443], device='cuda:0')\n"
     ]
    },
    {
     "name": "stdout",
     "output_type": "stream",
     "text": [
      "e15  |  b1200  |  MSE 0.015141618438065052  |  Lr 0.0001  |  t tensor([569, 879, 706,  43, 649, 994, 155,  56, 677, 417], device='cuda:0')\n"
     ]
    },
    {
     "name": "stdout",
     "output_type": "stream",
     "text": [
      "e15  |  b1300  |  MSE 0.017944063991308212  |  Lr 0.0001  |  t tensor([866,  79,  93, 771, 103, 526, 560, 192, 562, 102], device='cuda:0')\n"
     ]
    },
    {
     "name": "stdout",
     "output_type": "stream",
     "text": [
      "e15  |  b1400  |  MSE 0.01495011243969202  |  Lr 0.0001  |  t tensor([383, 872,  52, 403, 571, 103, 633, 506, 183, 623], device='cuda:0')\n"
     ]
    },
    {
     "name": "stdout",
     "output_type": "stream",
     "text": [
      "e15  |  b1500  |  MSE 0.008939024992287159  |  Lr 0.0001  |  t tensor([648, 275, 152, 524, 901, 732, 335, 511, 447,  80], device='cuda:0')\n"
     ]
    },
    {
     "name": "stdout",
     "output_type": "stream",
     "text": [
      "e15  |  b1600  |  MSE 0.008586469106376171  |  Lr 0.0001  |  t tensor([970, 433, 954, 232, 848, 869, 489, 174, 180, 666], device='cuda:0')\n"
     ]
    },
    {
     "name": "stdout",
     "output_type": "stream",
     "text": [
      "e15  |  b1700  |  MSE 0.002907753922045231  |  Lr 0.0001  |  t tensor([280, 674, 535, 718, 774, 673, 408, 684, 897, 558], device='cuda:0')\n"
     ]
    },
    {
     "name": "stdout",
     "output_type": "stream",
     "text": [
      "e15  |  b1800  |  MSE 0.011833936907351017  |  Lr 0.0001  |  t tensor([513, 685, 767, 837, 383, 491, 454,  44, 756, 260], device='cuda:0')\n"
     ]
    },
    {
     "name": "stdout",
     "output_type": "stream",
     "text": [
      "e15  |  b1900  |  MSE 0.017040574923157692  |  Lr 0.0001  |  t tensor([157, 254, 467, 881, 829,  22, 942, 753, 689, 943], device='cuda:0')\n"
     ]
    },
    {
     "name": "stdout",
     "output_type": "stream",
     "text": [
      "e15  |  b2000  |  MSE 0.006883016787469387  |  Lr 0.0001  |  t tensor([806,  63, 706, 958, 678, 628, 460, 298, 219, 985], device='cuda:0')\n"
     ]
    },
    {
     "name": "stdout",
     "output_type": "stream",
     "text": [
      "e15  |  b2100  |  MSE 0.010262289084494114  |  Lr 0.0001  |  t tensor([342, 694, 424,  39, 158, 747, 913, 992, 455, 771], device='cuda:0')\n"
     ]
    },
    {
     "name": "stdout",
     "output_type": "stream",
     "text": [
      "e15  |  b2200  |  MSE 0.015922216698527336  |  Lr 0.0001  |  t tensor([ 94, 571, 144, 459, 808, 969, 105, 796, 455, 184], device='cuda:0')\n"
     ]
    },
    {
     "name": "stdout",
     "output_type": "stream",
     "text": [
      "e15  |  b2300  |  MSE 0.01611691154539585  |  Lr 0.0001  |  t tensor([ 36, 283, 174, 947, 491, 880, 419, 210, 663, 943], device='cuda:0')\n"
     ]
    },
    {
     "name": "stdout",
     "output_type": "stream",
     "text": [
      "e15  |  b2400  |  MSE 0.004150623455643654  |  Lr 0.0001  |  t tensor([955, 428, 466, 962, 466, 724, 979, 549, 620, 484], device='cuda:0')\n"
     ]
    },
    {
     "name": "stdout",
     "output_type": "stream",
     "text": [
      "e15  |  b2500  |  MSE 0.024532994255423546  |  Lr 0.0001  |  t tensor([ 28, 256, 193, 435, 970, 120, 724, 678,  69, 448], device='cuda:0')\n"
     ]
    },
    {
     "name": "stdout",
     "output_type": "stream",
     "text": [
      "e15  |  b2600  |  MSE 0.018221784383058548  |  Lr 0.0001  |  t tensor([110, 217, 215,  29, 604, 374, 303, 803, 156, 374], device='cuda:0')\n"
     ]
    },
    {
     "name": "stdout",
     "output_type": "stream",
     "text": [
      "e15  |  b2700  |  MSE 0.03054705262184143  |  Lr 0.0001  |  t tensor([851,  55, 379, 541, 602,  75,  16,  31, 855, 469], device='cuda:0')\n"
     ]
    },
    {
     "name": "stdout",
     "output_type": "stream",
     "text": [
      "e15  |  b2800  |  MSE 0.017079101875424385  |  Lr 0.0001  |  t tensor([759, 703, 703,  99,  55, 120, 374, 928, 349, 496], device='cuda:0')\n"
     ]
    },
    {
     "name": "stdout",
     "output_type": "stream",
     "text": [
      "e15  |  b2900  |  MSE 0.009303818456828594  |  Lr 0.0001  |  t tensor([490, 151, 269, 984, 388, 294, 613, 506, 216, 180], device='cuda:0')\n"
     ]
    },
    {
     "name": "stdout",
     "output_type": "stream",
     "text": [
      "e15  |  b3000  |  MSE 0.008135191164910793  |  Lr 0.0001  |  t tensor([165, 903, 372,  71, 550, 451, 788, 865, 951, 583], device='cuda:0')\n"
     ]
    },
    {
     "name": "stdout",
     "output_type": "stream",
     "text": [
      "e15  |  b3100  |  MSE 0.017091048881411552  |  Lr 0.0001  |  t tensor([715, 422,  13, 491, 118, 463, 875, 935, 676, 641], device='cuda:0')\n"
     ]
    },
    {
     "name": "stdout",
     "output_type": "stream",
     "text": [
      "e15  |  b3200  |  MSE 0.02576666884124279  |  Lr 0.0001  |  t tensor([158,  39, 939, 501, 509, 627, 166,  31, 648, 479], device='cuda:0')\n"
     ]
    },
    {
     "name": "stdout",
     "output_type": "stream",
     "text": [
      "e15  |  b3300  |  MSE 0.014301451854407787  |  Lr 0.0001  |  t tensor([588, 662, 410, 198, 560, 600, 368,  45, 629, 101], device='cuda:0')\n"
     ]
    },
    {
     "name": "stdout",
     "output_type": "stream",
     "text": [
      "e15  |  b3400  |  MSE 0.007455215323716402  |  Lr 0.0001  |  t tensor([647, 436, 521, 554, 228, 256, 514, 217, 752, 477], device='cuda:0')\n"
     ]
    },
    {
     "name": "stdout",
     "output_type": "stream",
     "text": [
      "e15  |  b3500  |  MSE 0.01287551037967205  |  Lr 0.0001  |  t tensor([220, 783, 826, 499, 218, 850,  95, 817, 190, 389], device='cuda:0')\n"
     ]
    },
    {
     "name": "stdout",
     "output_type": "stream",
     "text": [
      "e15  |  b3600  |  MSE 0.019630294293165207  |  Lr 0.0001  |  t tensor([129,  74, 374, 253, 466, 917, 642, 268,  45, 989], device='cuda:0')\n"
     ]
    },
    {
     "name": "stdout",
     "output_type": "stream",
     "text": [
      "e15  |  b3700  |  MSE 0.011751731857657433  |  Lr 0.0001  |  t tensor([103,  38, 326, 288, 744, 641, 662, 412, 652, 798], device='cuda:0')\n"
     ]
    },
    {
     "name": "stdout",
     "output_type": "stream",
     "text": [
      "e15  |  b3800  |  MSE 0.014914014376699924  |  Lr 0.0001  |  t tensor([393, 550, 443, 379, 986, 664, 950,  20, 335, 802], device='cuda:0')\n"
     ]
    },
    {
     "name": "stdout",
     "output_type": "stream",
     "text": [
      "e15  |  b3900  |  MSE 0.005939294584095478  |  Lr 0.0001  |  t tensor([186, 659, 747, 395, 423, 515, 896, 396, 681, 152], device='cuda:0')\n"
     ]
    },
    {
     "name": "stdout",
     "output_type": "stream",
     "text": [
      "e15  |  b4000  |  MSE 0.009979309514164925  |  Lr 0.0001  |  t tensor([555, 162, 706, 392, 400, 990, 124, 114, 705, 954], device='cuda:0')\n"
     ]
    },
    {
     "name": "stdout",
     "output_type": "stream",
     "text": [
      "e15  |  b4100  |  MSE 0.004583252593874931  |  Lr 0.0001  |  t tensor([358, 472, 451, 781, 589, 399, 355, 675, 975, 977], device='cuda:0')\n"
     ]
    },
    {
     "name": "stdout",
     "output_type": "stream",
     "text": [
      "e15  |  b4200  |  MSE 0.007171341683715582  |  Lr 0.0001  |  t tensor([762, 945, 438, 943,  69, 910, 912, 333, 691, 460], device='cuda:0')\n"
     ]
    },
    {
     "name": "stdout",
     "output_type": "stream",
     "text": [
      "e15  |  b4300  |  MSE 0.01179767306894064  |  Lr 0.0001  |  t tensor([987, 532, 128, 471, 381, 806, 482,  42, 656, 883], device='cuda:0')\n"
     ]
    },
    {
     "name": "stdout",
     "output_type": "stream",
     "text": [
      "e15  |  b4400  |  MSE 0.016483740881085396  |  Lr 0.0001  |  t tensor([502,  16, 499, 997, 782, 888, 107, 791, 531, 880], device='cuda:0')\n"
     ]
    },
    {
     "name": "stdout",
     "output_type": "stream",
     "text": [
      "e15  |  b4500  |  MSE 0.005291762761771679  |  Lr 0.0001  |  t tensor([855, 529, 396, 736, 390, 703, 875, 795, 917,  44], device='cuda:0')\n"
     ]
    },
    {
     "name": "stdout",
     "output_type": "stream",
     "text": [
      "e15  |  b4600  |  MSE 0.00845041312277317  |  Lr 0.0001  |  t tensor([ 65, 686, 935, 684, 569, 808, 946, 901, 338,  95], device='cuda:0')\n"
     ]
    },
    {
     "name": "stdout",
     "output_type": "stream",
     "text": [
      "e15  |  b4700  |  MSE 0.0070865401066839695  |  Lr 0.0001  |  t tensor([914, 257, 428, 707, 286, 426, 600, 852, 404, 178], device='cuda:0')\n"
     ]
    },
    {
     "name": "stdout",
     "output_type": "stream",
     "text": [
      "e15  |  b4800  |  MSE 0.004866648931056261  |  Lr 0.0001  |  t tensor([488, 975, 336, 274, 768, 666, 296, 495, 811, 986], device='cuda:0')\n"
     ]
    },
    {
     "name": "stdout",
     "output_type": "stream",
     "text": [
      "e15  |  b4900  |  MSE 0.012769976630806923  |  Lr 0.0001  |  t tensor([483, 937, 127,  98, 555, 524, 484, 126, 733, 368], device='cuda:0')\n"
     ]
    },
    {
     "name": "stdout",
     "output_type": "stream",
     "text": [
      "Epoch 15 loss: 0.013564425416942685\n"
     ]
    },
    {
     "data": {
      "application/vnd.jupyter.widget-view+json": {
       "model_id": "681eacf675aa49a392b60ad3c33f3ee8",
       "version_major": 2,
       "version_minor": 0
      },
      "text/plain": [
       "  0%|          | 0/5000 [00:00<?, ?it/s]"
      ]
     },
     "metadata": {},
     "output_type": "display_data"
    },
    {
     "name": "stdout",
     "output_type": "stream",
     "text": [
      "e16  |  b0  |  MSE 0.0066442303359508514  |  Lr 0.0001  |  t tensor([797, 812, 790, 622, 290, 328, 209, 391, 458, 468], device='cuda:0')\n"
     ]
    },
    {
     "name": "stdout",
     "output_type": "stream",
     "text": [
      "e16  |  b100  |  MSE 0.031607355922460556  |  Lr 0.0001  |  t tensor([991,  38, 724, 603,   9, 395,  59, 553, 174, 341], device='cuda:0')\n"
     ]
    },
    {
     "name": "stdout",
     "output_type": "stream",
     "text": [
      "e16  |  b200  |  MSE 0.008798583410680294  |  Lr 0.0001  |  t tensor([ 57, 914, 754,  93, 936, 733, 673, 583, 449, 215], device='cuda:0')\n"
     ]
    },
    {
     "name": "stdout",
     "output_type": "stream",
     "text": [
      "e16  |  b300  |  MSE 0.011026132851839066  |  Lr 0.0001  |  t tensor([353, 514,  32, 973, 306, 592, 216, 565, 795, 469], device='cuda:0')\n"
     ]
    },
    {
     "name": "stdout",
     "output_type": "stream",
     "text": [
      "e16  |  b400  |  MSE 0.022599179297685623  |  Lr 0.0001  |  t tensor([251, 982,  85,   9, 432, 862, 796, 361, 574, 731], device='cuda:0')\n"
     ]
    },
    {
     "name": "stdout",
     "output_type": "stream",
     "text": [
      "e16  |  b500  |  MSE 0.030691269785165787  |  Lr 0.0001  |  t tensor([333, 146,  35,  15, 735,  46, 969, 328, 706, 607], device='cuda:0')\n"
     ]
    },
    {
     "name": "stdout",
     "output_type": "stream",
     "text": [
      "e16  |  b600  |  MSE 0.011312421411275864  |  Lr 0.0001  |  t tensor([181, 949, 399, 361, 167, 415, 912, 212, 365, 384], device='cuda:0')\n"
     ]
    },
    {
     "name": "stdout",
     "output_type": "stream",
     "text": [
      "e16  |  b700  |  MSE 0.0049145156517624855  |  Lr 0.0001  |  t tensor([722, 317, 219, 899, 770, 891, 503, 345, 995, 627], device='cuda:0')\n"
     ]
    },
    {
     "name": "stdout",
     "output_type": "stream",
     "text": [
      "e16  |  b800  |  MSE 0.0033969166688621044  |  Lr 0.0001  |  t tensor([695, 341, 711, 887, 848, 240, 818, 553, 465, 987], device='cuda:0')\n"
     ]
    },
    {
     "name": "stdout",
     "output_type": "stream",
     "text": [
      "e16  |  b900  |  MSE 0.027984336018562317  |  Lr 0.0001  |  t tensor([219, 112, 328, 977, 220,  43, 351,  98, 467,  16], device='cuda:0')\n"
     ]
    },
    {
     "name": "stdout",
     "output_type": "stream",
     "text": [
      "e16  |  b1000  |  MSE 0.028451181948184967  |  Lr 0.0001  |  t tensor([503, 826, 847,  16, 492,  87,  68, 439, 714, 253], device='cuda:0')\n"
     ]
    },
    {
     "name": "stdout",
     "output_type": "stream",
     "text": [
      "e16  |  b1100  |  MSE 0.006248060613870621  |  Lr 0.0001  |  t tensor([613, 982, 594, 284, 861, 608, 798, 398, 163, 850], device='cuda:0')\n"
     ]
    },
    {
     "name": "stdout",
     "output_type": "stream",
     "text": [
      "e16  |  b1200  |  MSE 0.01828707568347454  |  Lr 0.0001  |  t tensor([426, 435, 165, 602,  25,  82, 373, 413, 914, 311], device='cuda:0')\n"
     ]
    },
    {
     "name": "stdout",
     "output_type": "stream",
     "text": [
      "e16  |  b1300  |  MSE 0.00799998827278614  |  Lr 0.0001  |  t tensor([344, 686, 666,  86, 569, 797,  68, 685, 797, 501], device='cuda:0')\n"
     ]
    },
    {
     "name": "stdout",
     "output_type": "stream",
     "text": [
      "e16  |  b1400  |  MSE 0.005193954799324274  |  Lr 0.0001  |  t tensor([807, 281, 315, 343, 951, 632, 691, 842, 425, 939], device='cuda:0')\n"
     ]
    },
    {
     "name": "stdout",
     "output_type": "stream",
     "text": [
      "e16  |  b1500  |  MSE 0.015299319289624691  |  Lr 0.0001  |  t tensor([552, 368, 928, 516, 918, 478,  20, 918, 441, 405], device='cuda:0')\n"
     ]
    },
    {
     "name": "stdout",
     "output_type": "stream",
     "text": [
      "e16  |  b1600  |  MSE 0.01255447044968605  |  Lr 0.0001  |  t tensor([205, 221, 120, 850, 392, 837, 876, 299, 864, 111], device='cuda:0')\n"
     ]
    },
    {
     "name": "stdout",
     "output_type": "stream",
     "text": [
      "e16  |  b1700  |  MSE 0.010112276300787926  |  Lr 0.0001  |  t tensor([431, 717, 566, 172,  65, 996, 462, 400, 742, 669], device='cuda:0')\n"
     ]
    },
    {
     "name": "stdout",
     "output_type": "stream",
     "text": [
      "e16  |  b1800  |  MSE 0.017868708819150925  |  Lr 0.0001  |  t tensor([901, 268,  40, 857, 367, 316, 569,  52, 259, 280], device='cuda:0')\n"
     ]
    },
    {
     "name": "stdout",
     "output_type": "stream",
     "text": [
      "e16  |  b1900  |  MSE 0.005271108355373144  |  Lr 0.0001  |  t tensor([439, 629, 852, 318, 944, 550, 730, 730, 796, 181], device='cuda:0')\n"
     ]
    },
    {
     "name": "stdout",
     "output_type": "stream",
     "text": [
      "e16  |  b2000  |  MSE 0.002724727150052786  |  Lr 0.0001  |  t tensor([398, 613, 715, 402, 422, 902, 817, 866, 785, 685], device='cuda:0')\n"
     ]
    },
    {
     "name": "stdout",
     "output_type": "stream",
     "text": [
      "e16  |  b2100  |  MSE 0.029464103281497955  |  Lr 0.0001  |  t tensor([ 88,  41, 696, 294, 643,  12, 170, 696, 555, 402], device='cuda:0')\n"
     ]
    },
    {
     "name": "stdout",
     "output_type": "stream",
     "text": [
      "e16  |  b2200  |  MSE 0.015170817263424397  |  Lr 0.0001  |  t tensor([274, 660, 957,  39, 710, 192,  43, 526, 499, 457], device='cuda:0')\n"
     ]
    },
    {
     "name": "stdout",
     "output_type": "stream",
     "text": [
      "e16  |  b2300  |  MSE 0.004683534149080515  |  Lr 0.0001  |  t tensor([692, 256, 996, 977, 614, 499, 990, 633, 174, 564], device='cuda:0')\n"
     ]
    },
    {
     "name": "stdout",
     "output_type": "stream",
     "text": [
      "e16  |  b2400  |  MSE 0.02012775093317032  |  Lr 0.0001  |  t tensor([739, 645, 311, 417, 200, 629,   8, 140, 518, 820], device='cuda:0')\n"
     ]
    },
    {
     "name": "stdout",
     "output_type": "stream",
     "text": [
      "e16  |  b2500  |  MSE 0.003599155694246292  |  Lr 0.0001  |  t tensor([319, 840, 454, 894, 675, 794, 906, 560, 420, 725], device='cuda:0')\n"
     ]
    },
    {
     "name": "stdout",
     "output_type": "stream",
     "text": [
      "e16  |  b2600  |  MSE 0.014993173070251942  |  Lr 0.0001  |  t tensor([254, 548, 496, 727,  69,  38, 586, 492, 701, 552], device='cuda:0')\n"
     ]
    },
    {
     "name": "stdout",
     "output_type": "stream",
     "text": [
      "e16  |  b2700  |  MSE 0.006495894398540258  |  Lr 0.0001  |  t tensor([682, 292, 228, 823, 196, 739, 887, 339, 366, 866], device='cuda:0')\n"
     ]
    },
    {
     "name": "stdout",
     "output_type": "stream",
     "text": [
      "e16  |  b2800  |  MSE 0.0049909367226064205  |  Lr 0.0001  |  t tensor([775, 908, 256, 795, 537, 381, 221, 663, 328, 892], device='cuda:0')\n"
     ]
    },
    {
     "name": "stdout",
     "output_type": "stream",
     "text": [
      "e16  |  b2900  |  MSE 0.01611137203872204  |  Lr 0.0001  |  t tensor([668,  11, 260, 563, 680, 978, 351, 259, 235, 516], device='cuda:0')\n"
     ]
    },
    {
     "name": "stdout",
     "output_type": "stream",
     "text": [
      "e16  |  b3000  |  MSE 0.007186152506619692  |  Lr 0.0001  |  t tensor([612, 701, 101, 963, 558,  92, 813, 908, 503, 817], device='cuda:0')\n"
     ]
    },
    {
     "name": "stdout",
     "output_type": "stream",
     "text": [
      "e16  |  b3100  |  MSE 0.009664066135883331  |  Lr 0.0001  |  t tensor([493, 219, 656, 529, 219, 570, 318, 388, 115, 595], device='cuda:0')\n"
     ]
    },
    {
     "name": "stdout",
     "output_type": "stream",
     "text": [
      "e16  |  b3200  |  MSE 0.007998310029506683  |  Lr 0.0001  |  t tensor([693, 271, 962, 897, 355, 665, 898, 110, 566, 195], device='cuda:0')\n"
     ]
    },
    {
     "name": "stdout",
     "output_type": "stream",
     "text": [
      "e16  |  b3300  |  MSE 0.03257047384977341  |  Lr 0.0001  |  t tensor([128, 563,  11, 750,  11, 313, 545, 135, 123, 610], device='cuda:0')\n"
     ]
    },
    {
     "name": "stdout",
     "output_type": "stream",
     "text": [
      "e16  |  b3400  |  MSE 0.006596180610358715  |  Lr 0.0001  |  t tensor([447, 593, 440,  75, 789, 855, 684, 974, 557, 659], device='cuda:0')\n"
     ]
    },
    {
     "name": "stdout",
     "output_type": "stream",
     "text": [
      "e16  |  b3500  |  MSE 0.021477095782756805  |  Lr 0.0001  |  t tensor([411, 198, 155, 606,  23,  65, 646,  50, 660, 567], device='cuda:0')\n"
     ]
    },
    {
     "name": "stdout",
     "output_type": "stream",
     "text": [
      "e16  |  b3600  |  MSE 0.010294871404767036  |  Lr 0.0001  |  t tensor([247, 247, 601, 385, 309, 755,  70, 728, 946, 363], device='cuda:0')\n"
     ]
    },
    {
     "name": "stdout",
     "output_type": "stream",
     "text": [
      "e16  |  b3700  |  MSE 0.01067651528865099  |  Lr 0.0001  |  t tensor([603, 879, 611,  31, 308, 608, 863, 969, 225, 564], device='cuda:0')\n"
     ]
    },
    {
     "name": "stdout",
     "output_type": "stream",
     "text": [
      "e16  |  b3800  |  MSE 0.009145238436758518  |  Lr 0.0001  |  t tensor([946, 368, 170, 673, 982, 925, 865, 130, 186, 787], device='cuda:0')\n"
     ]
    },
    {
     "name": "stdout",
     "output_type": "stream",
     "text": [
      "e16  |  b3900  |  MSE 0.017862549051642418  |  Lr 0.0001  |  t tensor([362, 455, 945, 222, 216, 140, 122,  69, 377, 736], device='cuda:0')\n"
     ]
    },
    {
     "name": "stdout",
     "output_type": "stream",
     "text": [
      "e16  |  b4000  |  MSE 0.003520865924656391  |  Lr 0.0001  |  t tensor([576, 856, 182, 860, 846, 144, 959, 842, 893, 873], device='cuda:0')\n"
     ]
    },
    {
     "name": "stdout",
     "output_type": "stream",
     "text": [
      "e16  |  b4100  |  MSE 0.018978742882609367  |  Lr 0.0001  |  t tensor([ 42, 995,  95, 193, 617, 736, 320, 826, 139, 119], device='cuda:0')\n"
     ]
    },
    {
     "name": "stdout",
     "output_type": "stream",
     "text": [
      "e16  |  b4200  |  MSE 0.01995871402323246  |  Lr 0.0001  |  t tensor([405,  11,  57, 491, 323, 596, 646, 320, 614, 465], device='cuda:0')\n"
     ]
    },
    {
     "name": "stdout",
     "output_type": "stream",
     "text": [
      "e16  |  b4300  |  MSE 0.023009007796645164  |  Lr 0.0001  |  t tensor([104, 751, 995,  42, 341, 656,  11, 273, 549, 451], device='cuda:0')\n"
     ]
    },
    {
     "name": "stdout",
     "output_type": "stream",
     "text": [
      "e16  |  b4400  |  MSE 0.013895071111619473  |  Lr 0.0001  |  t tensor([700, 866, 231,  33, 206, 855, 594, 712, 515, 311], device='cuda:0')\n"
     ]
    },
    {
     "name": "stdout",
     "output_type": "stream",
     "text": [
      "e16  |  b4500  |  MSE 0.028135713189840317  |  Lr 0.0001  |  t tensor([  7, 151, 147, 641, 999,  76, 150, 780, 944, 480], device='cuda:0')\n"
     ]
    },
    {
     "name": "stdout",
     "output_type": "stream",
     "text": [
      "e16  |  b4600  |  MSE 0.005318108946084976  |  Lr 0.0001  |  t tensor([389, 921, 688, 293, 999, 288, 491, 689, 251, 635], device='cuda:0')\n"
     ]
    },
    {
     "name": "stdout",
     "output_type": "stream",
     "text": [
      "e16  |  b4700  |  MSE 0.009029872715473175  |  Lr 0.0001  |  t tensor([516, 289, 984, 869, 312, 821, 950,  58, 245, 629], device='cuda:0')\n"
     ]
    },
    {
     "name": "stdout",
     "output_type": "stream",
     "text": [
      "e16  |  b4800  |  MSE 0.006562769878655672  |  Lr 0.0001  |  t tensor([891, 693, 194, 454, 961, 763, 175, 229, 318, 778], device='cuda:0')\n"
     ]
    },
    {
     "name": "stdout",
     "output_type": "stream",
     "text": [
      "e16  |  b4900  |  MSE 0.02173084206879139  |  Lr 0.0001  |  t tensor([ 20, 470, 620, 393,  98, 996, 195, 719,  40, 839], device='cuda:0')\n"
     ]
    },
    {
     "name": "stdout",
     "output_type": "stream",
     "text": [
      "Epoch 16 loss: 0.013546115790458862\n"
     ]
    },
    {
     "data": {
      "application/vnd.jupyter.widget-view+json": {
       "model_id": "7f5491e121bd4d12aa89dfdda7169672",
       "version_major": 2,
       "version_minor": 0
      },
      "text/plain": [
       "  0%|          | 0/5000 [00:00<?, ?it/s]"
      ]
     },
     "metadata": {},
     "output_type": "display_data"
    },
    {
     "name": "stdout",
     "output_type": "stream",
     "text": [
      "e17  |  b0  |  MSE 0.02053634263575077  |  Lr 0.0001  |  t tensor([931, 275,  16, 571, 473,  17, 819, 180, 666, 285], device='cuda:0')\n"
     ]
    },
    {
     "name": "stdout",
     "output_type": "stream",
     "text": [
      "e17  |  b100  |  MSE 0.012435236014425755  |  Lr 0.0001  |  t tensor([802,  31, 668, 176, 401, 673, 484, 576, 187, 576], device='cuda:0')\n"
     ]
    },
    {
     "name": "stdout",
     "output_type": "stream",
     "text": [
      "e17  |  b200  |  MSE 0.007097200956195593  |  Lr 0.0001  |  t tensor([605, 214, 193, 838, 848, 382, 621, 910, 511, 122], device='cuda:0')\n"
     ]
    },
    {
     "name": "stdout",
     "output_type": "stream",
     "text": [
      "e17  |  b300  |  MSE 0.008630840107798576  |  Lr 0.0001  |  t tensor([256, 818, 163, 325, 630, 509, 378, 585,  50, 946], device='cuda:0')\n"
     ]
    },
    {
     "name": "stdout",
     "output_type": "stream",
     "text": [
      "e17  |  b400  |  MSE 0.010489482432603836  |  Lr 0.0001  |  t tensor([274, 983, 497, 626, 667, 666, 143, 289, 412, 212], device='cuda:0')\n"
     ]
    },
    {
     "name": "stdout",
     "output_type": "stream",
     "text": [
      "e17  |  b500  |  MSE 0.014683219604194164  |  Lr 0.0001  |  t tensor([858, 437, 703, 452, 853, 116, 772, 646, 961,  15], device='cuda:0')\n"
     ]
    },
    {
     "name": "stdout",
     "output_type": "stream",
     "text": [
      "e17  |  b600  |  MSE 0.005901967640966177  |  Lr 0.0001  |  t tensor([703, 754, 152, 588, 871, 264, 523, 657, 772, 245], device='cuda:0')\n"
     ]
    },
    {
     "name": "stdout",
     "output_type": "stream",
     "text": [
      "e17  |  b700  |  MSE 0.015284388326108456  |  Lr 0.0001  |  t tensor([560, 820, 284,  74,  79, 157, 212, 924, 901, 469], device='cuda:0')\n"
     ]
    },
    {
     "name": "stdout",
     "output_type": "stream",
     "text": [
      "e17  |  b800  |  MSE 0.002763833152130246  |  Lr 0.0001  |  t tensor([926, 904, 415, 613, 718, 718, 973, 851, 676, 106], device='cuda:0')\n"
     ]
    },
    {
     "name": "stdout",
     "output_type": "stream",
     "text": [
      "e17  |  b900  |  MSE 0.015533574856817722  |  Lr 0.0001  |  t tensor([172, 941, 725, 940, 670, 638,  14, 831, 895, 914], device='cuda:0')\n"
     ]
    },
    {
     "name": "stdout",
     "output_type": "stream",
     "text": [
      "e17  |  b1000  |  MSE 0.01068356167525053  |  Lr 0.0001  |  t tensor([179, 133, 927, 506, 615, 274, 714, 395, 458, 625], device='cuda:0')\n"
     ]
    },
    {
     "name": "stdout",
     "output_type": "stream",
     "text": [
      "e17  |  b1100  |  MSE 0.01599057763814926  |  Lr 0.0001  |  t tensor([858, 650, 237, 224, 439, 283, 945, 172, 224,  20], device='cuda:0')\n"
     ]
    },
    {
     "name": "stdout",
     "output_type": "stream",
     "text": [
      "e17  |  b1200  |  MSE 0.007311895955353975  |  Lr 0.0001  |  t tensor([212, 978, 169, 770,  62, 802, 610, 856, 796, 589], device='cuda:0')\n"
     ]
    },
    {
     "name": "stdout",
     "output_type": "stream",
     "text": [
      "e17  |  b1300  |  MSE 0.009707131423056126  |  Lr 0.0001  |  t tensor([927, 795, 248, 717, 371, 278, 457, 525, 798, 122], device='cuda:0')\n"
     ]
    },
    {
     "name": "stdout",
     "output_type": "stream",
     "text": [
      "e17  |  b1400  |  MSE 0.02472822740674019  |  Lr 0.0001  |  t tensor([ 24, 904, 978,  29, 228, 364, 471, 155, 700, 176], device='cuda:0')\n"
     ]
    },
    {
     "name": "stdout",
     "output_type": "stream",
     "text": [
      "e17  |  b1500  |  MSE 0.013291561976075172  |  Lr 0.0001  |  t tensor([929,  82, 907, 557, 648, 223, 199, 876, 402, 321], device='cuda:0')\n"
     ]
    },
    {
     "name": "stdout",
     "output_type": "stream",
     "text": [
      "e17  |  b1600  |  MSE 0.005835090298205614  |  Lr 0.0001  |  t tensor([169, 734, 905, 574, 642, 960, 373, 301, 646, 836], device='cuda:0')\n"
     ]
    },
    {
     "name": "stdout",
     "output_type": "stream",
     "text": [
      "e17  |  b1700  |  MSE 0.01959843374788761  |  Lr 0.0001  |  t tensor([651, 471,  35, 757, 559, 344, 765,  28, 220, 906], device='cuda:0')\n"
     ]
    },
    {
     "name": "stdout",
     "output_type": "stream",
     "text": [
      "e17  |  b1800  |  MSE 0.011791893281042576  |  Lr 0.0001  |  t tensor([534, 491, 350, 140, 324, 414,  53, 669, 462, 646], device='cuda:0')\n"
     ]
    },
    {
     "name": "stdout",
     "output_type": "stream",
     "text": [
      "e17  |  b1900  |  MSE 0.034925173968076706  |  Lr 0.0001  |  t tensor([797,  47, 422,  18,   4, 247, 510, 282, 902,  91], device='cuda:0')\n"
     ]
    },
    {
     "name": "stdout",
     "output_type": "stream",
     "text": [
      "e17  |  b2000  |  MSE 0.009854736737906933  |  Lr 0.0001  |  t tensor([512, 474, 869, 969, 875, 375,  25, 881, 771, 654], device='cuda:0')\n"
     ]
    },
    {
     "name": "stdout",
     "output_type": "stream",
     "text": [
      "e17  |  b2100  |  MSE 0.011071478016674519  |  Lr 0.0001  |  t tensor([980, 101, 664, 587, 363, 142, 322, 543, 280, 318], device='cuda:0')\n"
     ]
    },
    {
     "name": "stdout",
     "output_type": "stream",
     "text": [
      "e17  |  b2200  |  MSE 0.006664348766207695  |  Lr 0.0001  |  t tensor([546, 386, 693, 752, 569, 722, 611, 777, 946,  94], device='cuda:0')\n"
     ]
    },
    {
     "name": "stdout",
     "output_type": "stream",
     "text": [
      "e17  |  b2300  |  MSE 0.015211430378258228  |  Lr 0.0001  |  t tensor([ 28, 167, 353, 646, 841, 641, 342, 223, 818, 818], device='cuda:0')\n"
     ]
    },
    {
     "name": "stdout",
     "output_type": "stream",
     "text": [
      "e17  |  b2400  |  MSE 0.00879642367362976  |  Lr 0.0001  |  t tensor([177, 459, 979, 912, 387, 683, 972,  90,  80, 906], device='cuda:0')\n"
     ]
    },
    {
     "name": "stdout",
     "output_type": "stream",
     "text": [
      "e17  |  b2500  |  MSE 0.006821705028414726  |  Lr 0.0001  |  t tensor([973, 801, 312, 213, 281, 748, 878, 678, 821, 503], device='cuda:0')\n"
     ]
    },
    {
     "name": "stdout",
     "output_type": "stream",
     "text": [
      "e17  |  b2600  |  MSE 0.013121743686497211  |  Lr 0.0001  |  t tensor([482, 265, 291,  60, 847, 102, 851, 259, 982, 263], device='cuda:0')\n"
     ]
    },
    {
     "name": "stdout",
     "output_type": "stream",
     "text": [
      "e17  |  b2700  |  MSE 0.0037983364891260862  |  Lr 0.0001  |  t tensor([384, 790, 180, 654, 798, 773, 973, 849, 889, 683], device='cuda:0')\n"
     ]
    },
    {
     "name": "stdout",
     "output_type": "stream",
     "text": [
      "e17  |  b2800  |  MSE 0.015195900574326515  |  Lr 0.0001  |  t tensor([122, 728, 340, 353, 907, 930, 994, 324, 817,  39], device='cuda:0')\n"
     ]
    },
    {
     "name": "stdout",
     "output_type": "stream",
     "text": [
      "e17  |  b2900  |  MSE 0.014475224539637566  |  Lr 0.0001  |  t tensor([701, 556, 297,  53, 888, 415, 398,  52, 680, 733], device='cuda:0')\n"
     ]
    },
    {
     "name": "stdout",
     "output_type": "stream",
     "text": [
      "e17  |  b3000  |  MSE 0.013672154396772385  |  Lr 0.0001  |  t tensor([202, 551, 492, 768, 590, 448, 520, 524,  75, 135], device='cuda:0')\n"
     ]
    },
    {
     "name": "stdout",
     "output_type": "stream",
     "text": [
      "e17  |  b3100  |  MSE 0.038278572261333466  |  Lr 0.0001  |  t tensor([429, 201, 419, 437, 188,  77,   9, 422,  38,  52], device='cuda:0')\n"
     ]
    },
    {
     "name": "stdout",
     "output_type": "stream",
     "text": [
      "e17  |  b3200  |  MSE 0.015766078606247902  |  Lr 0.0001  |  t tensor([ 26, 434, 946, 974, 242, 445, 605, 557,  54, 906], device='cuda:0')\n"
     ]
    },
    {
     "name": "stdout",
     "output_type": "stream",
     "text": [
      "e17  |  b3300  |  MSE 0.01760394684970379  |  Lr 0.0001  |  t tensor([162, 554, 146,  59, 238, 362, 232, 928, 173, 283], device='cuda:0')\n"
     ]
    },
    {
     "name": "stdout",
     "output_type": "stream",
     "text": [
      "e17  |  b3400  |  MSE 0.00777509855106473  |  Lr 0.0001  |  t tensor([204, 407, 541, 200, 949, 511, 603, 898, 765, 162], device='cuda:0')\n"
     ]
    },
    {
     "name": "stdout",
     "output_type": "stream",
     "text": [
      "e17  |  b3500  |  MSE 0.006724718492478132  |  Lr 0.0001  |  t tensor([459, 970, 247, 771, 269, 525, 181, 948, 885, 749], device='cuda:0')\n"
     ]
    },
    {
     "name": "stdout",
     "output_type": "stream",
     "text": [
      "e17  |  b3600  |  MSE 0.01662847399711609  |  Lr 0.0001  |  t tensor([117, 961, 513, 493, 727,  11, 837, 877, 174, 852], device='cuda:0')\n"
     ]
    },
    {
     "name": "stdout",
     "output_type": "stream",
     "text": [
      "e17  |  b3700  |  MSE 0.005318600218743086  |  Lr 0.0001  |  t tensor([683, 122, 863, 467, 914, 999, 818, 982, 552, 616], device='cuda:0')\n"
     ]
    },
    {
     "name": "stdout",
     "output_type": "stream",
     "text": [
      "e17  |  b3800  |  MSE 0.013891161419451237  |  Lr 0.0001  |  t tensor([ 89, 948, 369, 712, 849, 872,  32, 553, 617, 459], device='cuda:0')\n"
     ]
    },
    {
     "name": "stdout",
     "output_type": "stream",
     "text": [
      "e17  |  b3900  |  MSE 0.0030019995756447315  |  Lr 0.0001  |  t tensor([793, 987, 903, 433, 788, 189, 834, 719, 352, 391], device='cuda:0')\n"
     ]
    },
    {
     "name": "stdout",
     "output_type": "stream",
     "text": [
      "e17  |  b4000  |  MSE 0.029996119439601898  |  Lr 0.0001  |  t tensor([361, 869, 721, 648, 831,   8, 267,  73, 605,  54], device='cuda:0')\n"
     ]
    },
    {
     "name": "stdout",
     "output_type": "stream",
     "text": [
      "e17  |  b4100  |  MSE 0.015859566628932953  |  Lr 0.0001  |  t tensor([ 95, 522, 743, 296, 413,  92, 338, 640, 893,  76], device='cuda:0')\n"
     ]
    },
    {
     "name": "stdout",
     "output_type": "stream",
     "text": [
      "e17  |  b4200  |  MSE 0.017962956801056862  |  Lr 0.0001  |  t tensor([936, 282, 522, 214, 965, 274, 385,  67,  39, 710], device='cuda:0')\n"
     ]
    },
    {
     "name": "stdout",
     "output_type": "stream",
     "text": [
      "e17  |  b4300  |  MSE 0.02786530740559101  |  Lr 0.0001  |  t tensor([986, 404, 678, 196, 531, 105,   8,  56, 809, 683], device='cuda:0')\n"
     ]
    },
    {
     "name": "stdout",
     "output_type": "stream",
     "text": [
      "e17  |  b4400  |  MSE 0.019725855439901352  |  Lr 0.0001  |  t tensor([285, 240,  25, 533, 968, 826, 131, 941, 977, 841], device='cuda:0')\n"
     ]
    },
    {
     "name": "stdout",
     "output_type": "stream",
     "text": [
      "e17  |  b4500  |  MSE 0.009488149546086788  |  Lr 0.0001  |  t tensor([238, 421, 352, 361, 522, 454, 291, 799, 376, 774], device='cuda:0')\n"
     ]
    },
    {
     "name": "stdout",
     "output_type": "stream",
     "text": [
      "e17  |  b4600  |  MSE 0.01355733722448349  |  Lr 0.0001  |  t tensor([ 16, 513, 335, 694, 243, 243, 831, 365, 973, 142], device='cuda:0')\n"
     ]
    },
    {
     "name": "stdout",
     "output_type": "stream",
     "text": [
      "e17  |  b4700  |  MSE 0.012725278735160828  |  Lr 0.0001  |  t tensor([486, 406, 758, 878,  59, 114, 411, 683, 565, 590], device='cuda:0')\n"
     ]
    },
    {
     "name": "stdout",
     "output_type": "stream",
     "text": [
      "e17  |  b4800  |  MSE 0.010781612247228622  |  Lr 0.0001  |  t tensor([809, 394, 731, 140, 770, 876, 826, 785, 633,  50], device='cuda:0')\n"
     ]
    },
    {
     "name": "stdout",
     "output_type": "stream",
     "text": [
      "e17  |  b4900  |  MSE 0.030576342716813087  |  Lr 0.0001  |  t tensor([ 20, 251, 607,  61,  51, 707, 164, 713, 158, 878], device='cuda:0')\n"
     ]
    },
    {
     "name": "stdout",
     "output_type": "stream",
     "text": [
      "Epoch 17 loss: 0.01360707262379583\n"
     ]
    },
    {
     "data": {
      "application/vnd.jupyter.widget-view+json": {
       "model_id": "fcabcedfadaa45948496ce156cacd70e",
       "version_major": 2,
       "version_minor": 0
      },
      "text/plain": [
       "  0%|          | 0/5000 [00:00<?, ?it/s]"
      ]
     },
     "metadata": {},
     "output_type": "display_data"
    },
    {
     "name": "stdout",
     "output_type": "stream",
     "text": [
      "e18  |  b0  |  MSE 0.009039145894348621  |  Lr 0.0001  |  t tensor([675,  59, 797, 353, 579, 790, 204, 641,  66, 531], device='cuda:0')\n"
     ]
    },
    {
     "name": "stdout",
     "output_type": "stream",
     "text": [
      "e18  |  b100  |  MSE 0.014602537266910076  |  Lr 0.0001  |  t tensor([ 59, 349, 870, 311, 415,  17, 745, 231, 823, 842], device='cuda:0')\n"
     ]
    },
    {
     "name": "stdout",
     "output_type": "stream",
     "text": [
      "e18  |  b200  |  MSE 0.025217900052666664  |  Lr 0.0001  |  t tensor([345, 697, 245, 786, 766, 970,   1, 251, 783, 490], device='cuda:0')\n"
     ]
    },
    {
     "name": "stdout",
     "output_type": "stream",
     "text": [
      "e18  |  b300  |  MSE 0.006476891227066517  |  Lr 0.0001  |  t tensor([697, 901, 157,  99, 488, 722, 656, 708, 887, 872], device='cuda:0')\n"
     ]
    },
    {
     "name": "stdout",
     "output_type": "stream",
     "text": [
      "e18  |  b400  |  MSE 0.013877755030989647  |  Lr 0.0001  |  t tensor([742, 243, 597, 482, 685, 172, 147, 333, 553, 105], device='cuda:0')\n"
     ]
    },
    {
     "name": "stdout",
     "output_type": "stream",
     "text": [
      "e18  |  b500  |  MSE 0.00579003244638443  |  Lr 0.0001  |  t tensor([835, 988, 669, 201, 936, 743, 334, 894, 330, 254], device='cuda:0')\n"
     ]
    },
    {
     "name": "stdout",
     "output_type": "stream",
     "text": [
      "e18  |  b600  |  MSE 0.02617819420993328  |  Lr 0.0001  |  t tensor([593, 893, 285,   6, 465, 458, 256, 198, 479,  87], device='cuda:0')\n"
     ]
    },
    {
     "name": "stdout",
     "output_type": "stream",
     "text": [
      "e18  |  b700  |  MSE 0.01042856927961111  |  Lr 0.0001  |  t tensor([666, 714, 261, 389, 415, 352, 583, 391, 940,  42], device='cuda:0')\n"
     ]
    },
    {
     "name": "stdout",
     "output_type": "stream",
     "text": [
      "e18  |  b800  |  MSE 0.024528831243515015  |  Lr 0.0001  |  t tensor([622,  34, 486,  43, 743, 593, 533, 132,  68, 418], device='cuda:0')\n"
     ]
    },
    {
     "name": "stdout",
     "output_type": "stream",
     "text": [
      "e18  |  b900  |  MSE 0.014119906350970268  |  Lr 0.0001  |  t tensor([156, 882, 452, 912,  41, 259, 996,  93, 153, 782], device='cuda:0')\n"
     ]
    },
    {
     "name": "stdout",
     "output_type": "stream",
     "text": [
      "e18  |  b1000  |  MSE 0.0063241999596357346  |  Lr 0.0001  |  t tensor([192, 886, 537, 304, 562, 296, 934, 843, 829, 495], device='cuda:0')\n"
     ]
    },
    {
     "name": "stdout",
     "output_type": "stream",
     "text": [
      "e18  |  b1100  |  MSE 0.007852625101804733  |  Lr 0.0001  |  t tensor([571, 138, 505, 568, 601, 772, 693, 608, 297, 276], device='cuda:0')\n"
     ]
    },
    {
     "name": "stdout",
     "output_type": "stream",
     "text": [
      "e18  |  b1200  |  MSE 0.025549456477165222  |  Lr 0.0001  |  t tensor([765, 897, 197, 342,  64, 135,  15, 537, 378, 450], device='cuda:0')\n"
     ]
    },
    {
     "name": "stdout",
     "output_type": "stream",
     "text": [
      "e18  |  b1300  |  MSE 0.012576155364513397  |  Lr 0.0001  |  t tensor([331, 437, 490, 478, 806, 610,  38, 874, 938, 448], device='cuda:0')\n"
     ]
    },
    {
     "name": "stdout",
     "output_type": "stream",
     "text": [
      "e18  |  b1400  |  MSE 0.02853083424270153  |  Lr 0.0001  |  t tensor([962,   6, 268, 798, 897, 790, 155, 233, 633, 106], device='cuda:0')\n"
     ]
    },
    {
     "name": "stdout",
     "output_type": "stream",
     "text": [
      "e18  |  b1500  |  MSE 0.00935894064605236  |  Lr 0.0001  |  t tensor([664, 716, 962, 480,  99, 529, 274, 497, 156, 335], device='cuda:0')\n"
     ]
    },
    {
     "name": "stdout",
     "output_type": "stream",
     "text": [
      "e18  |  b1600  |  MSE 0.01072771567851305  |  Lr 0.0001  |  t tensor([308, 958, 208, 393, 933, 855,  88, 112, 867, 990], device='cuda:0')\n"
     ]
    },
    {
     "name": "stdout",
     "output_type": "stream",
     "text": [
      "e18  |  b1700  |  MSE 0.01577787473797798  |  Lr 0.0001  |  t tensor([302, 886,  52, 854, 235, 534, 786, 660, 103, 510], device='cuda:0')\n"
     ]
    },
    {
     "name": "stdout",
     "output_type": "stream",
     "text": [
      "e18  |  b1800  |  MSE 0.014797165989875793  |  Lr 0.0001  |  t tensor([ 76, 136, 847, 430, 857, 122, 967, 350, 340, 894], device='cuda:0')\n"
     ]
    },
    {
     "name": "stdout",
     "output_type": "stream",
     "text": [
      "e18  |  b1900  |  MSE 0.006564293056726456  |  Lr 0.0001  |  t tensor([676, 664, 373, 821, 389, 795, 808, 161, 734, 330], device='cuda:0')\n"
     ]
    },
    {
     "name": "stdout",
     "output_type": "stream",
     "text": [
      "e18  |  b2000  |  MSE 0.011626156978309155  |  Lr 0.0001  |  t tensor([247,  73, 929, 128, 757, 933, 534, 157, 556, 805], device='cuda:0')\n"
     ]
    },
    {
     "name": "stdout",
     "output_type": "stream",
     "text": [
      "e18  |  b2100  |  MSE 0.023633845150470734  |  Lr 0.0001  |  t tensor([ 50,  15, 285,  71, 910, 165, 527, 625, 500, 709], device='cuda:0')\n"
     ]
    },
    {
     "name": "stdout",
     "output_type": "stream",
     "text": [
      "e18  |  b2200  |  MSE 0.02470214292407036  |  Lr 0.0001  |  t tensor([861, 145,   4,  95, 507, 558, 325, 365, 283, 119], device='cuda:0')\n"
     ]
    },
    {
     "name": "stdout",
     "output_type": "stream",
     "text": [
      "e18  |  b2300  |  MSE 0.0066708894446492195  |  Lr 0.0001  |  t tensor([736,  82, 731, 278, 558, 848, 274, 361, 857, 967], device='cuda:0')\n"
     ]
    },
    {
     "name": "stdout",
     "output_type": "stream",
     "text": [
      "e18  |  b2400  |  MSE 0.027817288413643837  |  Lr 0.0001  |  t tensor([560,  67, 520, 474, 858,  68, 996, 917,   5, 909], device='cuda:0')\n"
     ]
    },
    {
     "name": "stdout",
     "output_type": "stream",
     "text": [
      "e18  |  b2500  |  MSE 0.026247352361679077  |  Lr 0.0001  |  t tensor([232, 540, 896, 402, 649, 154, 439,  31,   6, 887], device='cuda:0')\n"
     ]
    },
    {
     "name": "stdout",
     "output_type": "stream",
     "text": [
      "e18  |  b2600  |  MSE 0.010112272575497627  |  Lr 0.0001  |  t tensor([429, 870, 528, 681, 503, 723, 179, 295, 394, 154], device='cuda:0')\n"
     ]
    },
    {
     "name": "stdout",
     "output_type": "stream",
     "text": [
      "e18  |  b2700  |  MSE 0.007163832429796457  |  Lr 0.0001  |  t tensor([167, 781, 276, 733, 605, 605, 956, 703, 236, 859], device='cuda:0')\n"
     ]
    },
    {
     "name": "stdout",
     "output_type": "stream",
     "text": [
      "e18  |  b2800  |  MSE 0.008093127980828285  |  Lr 0.0001  |  t tensor([593, 572, 879, 649, 324, 663, 177, 591, 223, 362], device='cuda:0')\n"
     ]
    },
    {
     "name": "stdout",
     "output_type": "stream",
     "text": [
      "e18  |  b2900  |  MSE 0.004755021538585424  |  Lr 0.0001  |  t tensor([252, 865, 550, 589, 864, 193, 942, 736, 857, 490], device='cuda:0')\n"
     ]
    },
    {
     "name": "stdout",
     "output_type": "stream",
     "text": [
      "e18  |  b3000  |  MSE 0.009332915768027306  |  Lr 0.0001  |  t tensor([912, 802, 339, 163, 996, 302, 234, 769,  51, 908], device='cuda:0')\n"
     ]
    },
    {
     "name": "stdout",
     "output_type": "stream",
     "text": [
      "e18  |  b3100  |  MSE 0.007900509051978588  |  Lr 0.0001  |  t tensor([206, 949, 346, 723, 289, 840, 460, 329, 167, 375], device='cuda:0')\n"
     ]
    },
    {
     "name": "stdout",
     "output_type": "stream",
     "text": [
      "e18  |  b3200  |  MSE 0.006040140986442566  |  Lr 0.0001  |  t tensor([918, 533, 736, 860, 409, 277, 615,  65, 902, 711], device='cuda:0')\n"
     ]
    },
    {
     "name": "stdout",
     "output_type": "stream",
     "text": [
      "e18  |  b3300  |  MSE 0.008481625467538834  |  Lr 0.0001  |  t tensor([643, 457, 334, 373, 958, 229, 609, 432, 351, 155], device='cuda:0')\n"
     ]
    },
    {
     "name": "stdout",
     "output_type": "stream",
     "text": [
      "e18  |  b3400  |  MSE 0.004534754436463118  |  Lr 0.0001  |  t tensor([896, 771, 914, 902,  91, 873, 810, 819, 948, 567], device='cuda:0')\n"
     ]
    },
    {
     "name": "stdout",
     "output_type": "stream",
     "text": [
      "e18  |  b3500  |  MSE 0.0389859713613987  |  Lr 0.0001  |  t tensor([  2, 314, 167, 873, 415, 889, 300, 227, 108, 307], device='cuda:0')\n"
     ]
    },
    {
     "name": "stdout",
     "output_type": "stream",
     "text": [
      "e18  |  b3600  |  MSE 0.00947041716426611  |  Lr 0.0001  |  t tensor([920, 759, 587,  41, 668, 941, 400, 743, 303, 263], device='cuda:0')\n"
     ]
    },
    {
     "name": "stdout",
     "output_type": "stream",
     "text": [
      "e18  |  b3700  |  MSE 0.020853973925113678  |  Lr 0.0001  |  t tensor([342, 408,  91, 147, 159, 182, 258,  61, 703, 209], device='cuda:0')\n"
     ]
    },
    {
     "name": "stdout",
     "output_type": "stream",
     "text": [
      "e18  |  b3800  |  MSE 0.006690658628940582  |  Lr 0.0001  |  t tensor([660, 985, 474, 517, 408,  97, 926, 742, 350, 808], device='cuda:0')\n"
     ]
    },
    {
     "name": "stdout",
     "output_type": "stream",
     "text": [
      "e18  |  b3900  |  MSE 0.010273396968841553  |  Lr 0.0001  |  t tensor([234, 984, 296, 220, 141, 837, 384, 733, 151, 460], device='cuda:0')\n"
     ]
    },
    {
     "name": "stdout",
     "output_type": "stream",
     "text": [
      "e18  |  b4000  |  MSE 0.011150636710226536  |  Lr 0.0001  |  t tensor([507, 549, 159, 225, 569, 266,  95, 211, 405, 811], device='cuda:0')\n"
     ]
    },
    {
     "name": "stdout",
     "output_type": "stream",
     "text": [
      "e18  |  b4100  |  MSE 0.01743031106889248  |  Lr 0.0001  |  t tensor([164, 120, 835, 536, 824,  19, 840, 197,  99, 505], device='cuda:0')\n"
     ]
    },
    {
     "name": "stdout",
     "output_type": "stream",
     "text": [
      "e18  |  b4200  |  MSE 0.021103745326399803  |  Lr 0.0001  |  t tensor([917, 151, 722, 335,  31,  47, 336,  64, 870, 423], device='cuda:0')\n"
     ]
    },
    {
     "name": "stdout",
     "output_type": "stream",
     "text": [
      "e18  |  b4300  |  MSE 0.009291243739426136  |  Lr 0.0001  |  t tensor([583, 371, 618, 414, 208, 536, 140, 271, 799, 259], device='cuda:0')\n"
     ]
    },
    {
     "name": "stdout",
     "output_type": "stream",
     "text": [
      "e18  |  b4400  |  MSE 0.011161806993186474  |  Lr 0.0001  |  t tensor([775,  33, 378, 712, 464, 692, 626, 567, 780, 522], device='cuda:0')\n"
     ]
    },
    {
     "name": "stdout",
     "output_type": "stream",
     "text": [
      "e18  |  b4500  |  MSE 0.006011848337948322  |  Lr 0.0001  |  t tensor([384, 982, 532, 851, 336, 256, 588, 922, 610, 328], device='cuda:0')\n"
     ]
    },
    {
     "name": "stdout",
     "output_type": "stream",
     "text": [
      "e18  |  b4600  |  MSE 0.002390665467828512  |  Lr 0.0001  |  t tensor([898, 237, 586, 982, 966, 766, 742, 893, 469, 606], device='cuda:0')\n"
     ]
    },
    {
     "name": "stdout",
     "output_type": "stream",
     "text": [
      "e18  |  b4700  |  MSE 0.0049850656650960445  |  Lr 0.0001  |  t tensor([572, 363, 569, 824, 663, 486, 640, 450, 237, 982], device='cuda:0')\n"
     ]
    },
    {
     "name": "stdout",
     "output_type": "stream",
     "text": [
      "e18  |  b4800  |  MSE 0.004307887051254511  |  Lr 0.0001  |  t tensor([583, 544, 780, 798, 996, 753, 410, 586, 167, 857], device='cuda:0')\n"
     ]
    },
    {
     "name": "stdout",
     "output_type": "stream",
     "text": [
      "e18  |  b4900  |  MSE 0.0044717444106936455  |  Lr 0.0001  |  t tensor([825, 248, 455, 605, 923, 705, 866, 376, 904, 437], device='cuda:0')\n"
     ]
    },
    {
     "name": "stdout",
     "output_type": "stream",
     "text": [
      "Epoch 18 loss: 0.013505726909311488\n"
     ]
    },
    {
     "data": {
      "application/vnd.jupyter.widget-view+json": {
       "model_id": "0d2e9ff0e91645b692c73334ba050b65",
       "version_major": 2,
       "version_minor": 0
      },
      "text/plain": [
       "  0%|          | 0/5000 [00:00<?, ?it/s]"
      ]
     },
     "metadata": {},
     "output_type": "display_data"
    },
    {
     "name": "stdout",
     "output_type": "stream",
     "text": [
      "e19  |  b0  |  MSE 0.006564703304320574  |  Lr 0.0001  |  t tensor([ 88, 813, 820, 712, 445, 189, 378, 965, 835, 323], device='cuda:0')\n"
     ]
    },
    {
     "name": "stdout",
     "output_type": "stream",
     "text": [
      "e19  |  b100  |  MSE 0.008744081482291222  |  Lr 0.0001  |  t tensor([427, 396, 321, 285, 827, 331, 264, 289, 524, 349], device='cuda:0')\n"
     ]
    },
    {
     "name": "stdout",
     "output_type": "stream",
     "text": [
      "e19  |  b200  |  MSE 0.005879846401512623  |  Lr 0.0001  |  t tensor([954, 620, 923, 292, 508, 284, 616, 746, 393, 290], device='cuda:0')\n"
     ]
    },
    {
     "name": "stdout",
     "output_type": "stream",
     "text": [
      "e19  |  b300  |  MSE 0.016175363212823868  |  Lr 0.0001  |  t tensor([725, 542, 130, 593, 309,  20, 215, 326, 302, 417], device='cuda:0')\n"
     ]
    },
    {
     "name": "stdout",
     "output_type": "stream",
     "text": [
      "e19  |  b400  |  MSE 0.014482117258012295  |  Lr 0.0001  |  t tensor([529, 723, 421, 155, 773, 351, 995, 223,  85, 341], device='cuda:0')\n"
     ]
    },
    {
     "name": "stdout",
     "output_type": "stream",
     "text": [
      "e19  |  b500  |  MSE 0.005061823409050703  |  Lr 0.0001  |  t tensor([680, 962, 846, 926, 709, 178, 415, 733, 471, 363], device='cuda:0')\n"
     ]
    },
    {
     "name": "stdout",
     "output_type": "stream",
     "text": [
      "e19  |  b600  |  MSE 0.030202388763427734  |  Lr 0.0001  |  t tensor([898, 731, 108,   8, 447, 951, 638,  17, 535, 121], device='cuda:0')\n"
     ]
    },
    {
     "name": "stdout",
     "output_type": "stream",
     "text": [
      "e19  |  b700  |  MSE 0.012093431316316128  |  Lr 0.0001  |  t tensor([340, 625, 130, 565, 257, 845, 322,  35, 840, 440], device='cuda:0')\n"
     ]
    },
    {
     "name": "stdout",
     "output_type": "stream",
     "text": [
      "e19  |  b800  |  MSE 0.009679506532847881  |  Lr 0.0001  |  t tensor([849, 473, 811,  90, 756, 149, 139, 429, 974, 621], device='cuda:0')\n"
     ]
    },
    {
     "name": "stdout",
     "output_type": "stream",
     "text": [
      "e19  |  b900  |  MSE 0.015307801775634289  |  Lr 0.0001  |  t tensor([746, 169, 434, 255,  38, 862, 614, 959, 483, 210], device='cuda:0')\n"
     ]
    },
    {
     "name": "stdout",
     "output_type": "stream",
     "text": [
      "e19  |  b1000  |  MSE 0.010093627497553825  |  Lr 0.0001  |  t tensor([ 31, 413, 404, 713, 860, 301, 525, 658, 648, 302], device='cuda:0')\n"
     ]
    },
    {
     "name": "stdout",
     "output_type": "stream",
     "text": [
      "e19  |  b1100  |  MSE 0.007939282804727554  |  Lr 0.0001  |  t tensor([270, 763, 456, 559, 225, 390, 774, 336, 416, 390], device='cuda:0')\n"
     ]
    },
    {
     "name": "stdout",
     "output_type": "stream",
     "text": [
      "e19  |  b1200  |  MSE 0.0047420780174434185  |  Lr 0.0001  |  t tensor([820, 432, 718, 480, 289, 508, 436, 935, 351, 812], device='cuda:0')\n"
     ]
    },
    {
     "name": "stdout",
     "output_type": "stream",
     "text": [
      "e19  |  b1300  |  MSE 0.020147021859884262  |  Lr 0.0001  |  t tensor([436, 144, 299, 967, 115, 829,  85, 886,  25, 542], device='cuda:0')\n"
     ]
    },
    {
     "name": "stdout",
     "output_type": "stream",
     "text": [
      "e19  |  b1400  |  MSE 0.04241178184747696  |  Lr 0.0001  |  t tensor([741,   1, 793, 350, 494, 368, 987, 879, 584, 230], device='cuda:0')\n"
     ]
    },
    {
     "name": "stdout",
     "output_type": "stream",
     "text": [
      "e19  |  b1500  |  MSE 0.005117515102028847  |  Lr 0.0001  |  t tensor([912, 675, 389, 497, 820, 158, 977, 840, 245, 734], device='cuda:0')\n"
     ]
    },
    {
     "name": "stdout",
     "output_type": "stream",
     "text": [
      "e19  |  b1600  |  MSE 0.01103848498314619  |  Lr 0.0001  |  t tensor([538,  93, 465, 351, 335, 450, 825, 735, 517, 964], device='cuda:0')\n"
     ]
    },
    {
     "name": "stdout",
     "output_type": "stream",
     "text": [
      "e19  |  b1700  |  MSE 0.04178151488304138  |  Lr 0.0001  |  t tensor([444,   3, 876, 689, 695,  21, 387,  88, 972, 899], device='cuda:0')\n"
     ]
    },
    {
     "name": "stdout",
     "output_type": "stream",
     "text": [
      "e19  |  b1800  |  MSE 0.02142075076699257  |  Lr 0.0001  |  t tensor([325,  52, 278, 493,  42, 104, 261, 712, 170, 815], device='cuda:0')\n"
     ]
    },
    {
     "name": "stdout",
     "output_type": "stream",
     "text": [
      "e19  |  b1900  |  MSE 0.01283402368426323  |  Lr 0.0001  |  t tensor([837, 940, 535, 846, 100, 914, 616,  76,  63, 348], device='cuda:0')\n"
     ]
    },
    {
     "name": "stdout",
     "output_type": "stream",
     "text": [
      "e19  |  b2000  |  MSE 0.009870926849544048  |  Lr 0.0001  |  t tensor([206, 864, 400, 259, 537, 830, 235, 114, 200, 704], device='cuda:0')\n"
     ]
    },
    {
     "name": "stdout",
     "output_type": "stream",
     "text": [
      "e19  |  b2100  |  MSE 0.016572533175349236  |  Lr 0.0001  |  t tensor([767, 685, 259, 336, 901,  27, 682, 273, 109, 609], device='cuda:0')\n"
     ]
    },
    {
     "name": "stdout",
     "output_type": "stream",
     "text": [
      "e19  |  b2200  |  MSE 0.016417916864156723  |  Lr 0.0001  |  t tensor([199, 598, 401, 197, 476,  92, 523, 826,  30, 775], device='cuda:0')\n"
     ]
    },
    {
     "name": "stdout",
     "output_type": "stream",
     "text": [
      "e19  |  b2300  |  MSE 0.00945741031318903  |  Lr 0.0001  |  t tensor([407, 672, 104, 411, 730, 877, 604, 240, 603, 165], device='cuda:0')\n"
     ]
    },
    {
     "name": "stdout",
     "output_type": "stream",
     "text": [
      "e19  |  b2400  |  MSE 0.009311004541814327  |  Lr 0.0001  |  t tensor([363, 199, 206,  47, 698, 656, 367, 880, 441, 705], device='cuda:0')\n"
     ]
    },
    {
     "name": "stdout",
     "output_type": "stream",
     "text": [
      "e19  |  b2500  |  MSE 0.005436529405415058  |  Lr 0.0001  |  t tensor([834, 831, 672, 204, 757, 919, 351, 705, 255, 437], device='cuda:0')\n"
     ]
    },
    {
     "name": "stdout",
     "output_type": "stream",
     "text": [
      "e19  |  b2600  |  MSE 0.008238940499722958  |  Lr 0.0001  |  t tensor([436, 390, 285, 849, 709, 371, 215, 423, 767, 185], device='cuda:0')\n"
     ]
    },
    {
     "name": "stdout",
     "output_type": "stream",
     "text": [
      "e19  |  b2700  |  MSE 0.036208730190992355  |  Lr 0.0001  |  t tensor([334,  23, 194, 456, 179, 535,   4, 580, 973, 110], device='cuda:0')\n"
     ]
    },
    {
     "name": "stdout",
     "output_type": "stream",
     "text": [
      "e19  |  b2800  |  MSE 0.005234306678175926  |  Lr 0.0001  |  t tensor([663, 773, 984, 372, 938, 229, 601, 698, 876, 228], device='cuda:0')\n"
     ]
    },
    {
     "name": "stdout",
     "output_type": "stream",
     "text": [
      "e19  |  b2900  |  MSE 0.01694868505001068  |  Lr 0.0001  |  t tensor([769, 167, 209, 635, 538,  62,  70, 268, 764,  31], device='cuda:0')\n"
     ]
    },
    {
     "name": "stdout",
     "output_type": "stream",
     "text": [
      "e19  |  b3000  |  MSE 0.008832278661429882  |  Lr 0.0001  |  t tensor([699, 610, 627, 270, 392, 905, 548,  39, 952, 969], device='cuda:0')\n"
     ]
    },
    {
     "name": "stdout",
     "output_type": "stream",
     "text": [
      "e19  |  b3100  |  MSE 0.009236911311745644  |  Lr 0.0001  |  t tensor([244,  86, 330, 952, 837, 921, 183, 682, 549, 384], device='cuda:0')\n"
     ]
    },
    {
     "name": "stdout",
     "output_type": "stream",
     "text": [
      "e19  |  b3200  |  MSE 0.006952967494726181  |  Lr 0.0001  |  t tensor([710, 495, 419, 697, 617, 977, 952,  64, 505, 991], device='cuda:0')\n"
     ]
    },
    {
     "name": "stdout",
     "output_type": "stream",
     "text": [
      "e19  |  b3300  |  MSE 0.010249786078929901  |  Lr 0.0001  |  t tensor([179, 891,  46, 864, 445, 917, 132, 541, 713, 608], device='cuda:0')\n"
     ]
    },
    {
     "name": "stdout",
     "output_type": "stream",
     "text": [
      "e19  |  b3400  |  MSE 0.014223283156752586  |  Lr 0.0001  |  t tensor([877, 115, 664,  75, 836,  95, 695, 409, 157, 317], device='cuda:0')\n"
     ]
    },
    {
     "name": "stdout",
     "output_type": "stream",
     "text": [
      "e19  |  b3500  |  MSE 0.016584614291787148  |  Lr 0.0001  |  t tensor([186, 911,  26, 322, 412, 946, 185, 596, 838, 457], device='cuda:0')\n"
     ]
    },
    {
     "name": "stdout",
     "output_type": "stream",
     "text": [
      "e19  |  b3600  |  MSE 0.006325685419142246  |  Lr 0.0001  |  t tensor([878, 349, 641, 657, 280, 780, 771, 130, 637, 595], device='cuda:0')\n"
     ]
    },
    {
     "name": "stdout",
     "output_type": "stream",
     "text": [
      "e19  |  b3700  |  MSE 0.008055363781750202  |  Lr 0.0001  |  t tensor([298, 159, 238, 310, 649, 916, 522, 717, 987, 232], device='cuda:0')\n"
     ]
    },
    {
     "name": "stdout",
     "output_type": "stream",
     "text": [
      "e19  |  b3800  |  MSE 0.020291751250624657  |  Lr 0.0001  |  t tensor([465, 423, 992, 851,   6, 931, 493, 682, 281, 559], device='cuda:0')\n"
     ]
    },
    {
     "name": "stdout",
     "output_type": "stream",
     "text": [
      "e19  |  b3900  |  MSE 0.022239627316594124  |  Lr 0.0001  |  t tensor([ 14, 517, 121, 632, 933, 613, 289, 461,  76, 593], device='cuda:0')\n"
     ]
    },
    {
     "name": "stdout",
     "output_type": "stream",
     "text": [
      "e19  |  b4000  |  MSE 0.011135006323456764  |  Lr 0.0001  |  t tensor([610, 354, 625,  66, 396, 573, 288, 859, 332, 595], device='cuda:0')\n"
     ]
    },
    {
     "name": "stdout",
     "output_type": "stream",
     "text": [
      "e19  |  b4100  |  MSE 0.018931342288851738  |  Lr 0.0001  |  t tensor([748, 507, 254,  62,  42, 731, 415,  82,  94, 474], device='cuda:0')\n"
     ]
    },
    {
     "name": "stdout",
     "output_type": "stream",
     "text": [
      "e19  |  b4200  |  MSE 0.017424708232283592  |  Lr 0.0001  |  t tensor([ 90, 797,  78, 804, 683,  30, 976, 805, 362, 433], device='cuda:0')\n"
     ]
    },
    {
     "name": "stdout",
     "output_type": "stream",
     "text": [
      "e19  |  b4300  |  MSE 0.016651837155222893  |  Lr 0.0001  |  t tensor([193, 234, 637, 516, 865, 210, 701, 545,  45, 115], device='cuda:0')\n"
     ]
    },
    {
     "name": "stdout",
     "output_type": "stream",
     "text": [
      "e19  |  b4400  |  MSE 0.005982326343655586  |  Lr 0.0001  |  t tensor([667, 524, 745, 699, 925, 116, 751, 434, 232, 545], device='cuda:0')\n"
     ]
    },
    {
     "name": "stdout",
     "output_type": "stream",
     "text": [
      "e19  |  b4500  |  MSE 0.009129089303314686  |  Lr 0.0001  |  t tensor([377, 138, 992,  67, 871, 862, 731, 838, 305, 655], device='cuda:0')\n"
     ]
    },
    {
     "name": "stdout",
     "output_type": "stream",
     "text": [
      "e19  |  b4600  |  MSE 0.011658133007586002  |  Lr 0.0001  |  t tensor([305,  12, 839, 479, 431, 590, 481, 521, 316, 725], device='cuda:0')\n"
     ]
    },
    {
     "name": "stdout",
     "output_type": "stream",
     "text": [
      "e19  |  b4700  |  MSE 0.013518008403480053  |  Lr 0.0001  |  t tensor([ 97, 561, 231, 137, 334, 945, 229, 691, 444, 843], device='cuda:0')\n"
     ]
    },
    {
     "name": "stdout",
     "output_type": "stream",
     "text": [
      "e19  |  b4800  |  MSE 0.015927528962492943  |  Lr 0.0001  |  t tensor([ 34, 844, 481, 207, 366, 914, 331, 167, 855, 681], device='cuda:0')\n"
     ]
    },
    {
     "name": "stdout",
     "output_type": "stream",
     "text": [
      "e19  |  b4900  |  MSE 0.009852636605501175  |  Lr 0.0001  |  t tensor([596, 776, 240, 224, 288, 995, 692, 472, 147, 137], device='cuda:0')\n"
     ]
    },
    {
     "name": "stdout",
     "output_type": "stream",
     "text": [
      "Epoch 19 loss: 0.013537328208435792\n"
     ]
    },
    {
     "data": {
      "application/vnd.jupyter.widget-view+json": {
       "model_id": "351d37696ebd419e8d8fc11dd32af652",
       "version_major": 2,
       "version_minor": 0
      },
      "text/plain": [
       "  0%|          | 0/5000 [00:00<?, ?it/s]"
      ]
     },
     "metadata": {},
     "output_type": "display_data"
    },
    {
     "name": "stdout",
     "output_type": "stream",
     "text": [
      "e20  |  b0  |  MSE 0.007099031936377287  |  Lr 0.0001  |  t tensor([467,  56, 576, 925, 880, 701, 974, 632, 648, 685], device='cuda:0')\n"
     ]
    },
    {
     "name": "stdout",
     "output_type": "stream",
     "text": [
      "e20  |  b100  |  MSE 0.004395475145429373  |  Lr 0.0001  |  t tensor([679, 803, 483, 734, 869, 666, 540, 652, 118, 721], device='cuda:0')\n"
     ]
    },
    {
     "name": "stdout",
     "output_type": "stream",
     "text": [
      "e20  |  b200  |  MSE 0.011028298176825047  |  Lr 0.0001  |  t tensor([754, 513,  69, 919, 822, 622, 163, 966, 512, 145], device='cuda:0')\n"
     ]
    },
    {
     "name": "stdout",
     "output_type": "stream",
     "text": [
      "e20  |  b300  |  MSE 0.006629761308431625  |  Lr 0.0001  |  t tensor([934, 329, 376, 789, 931,  94, 979, 265, 625, 496], device='cuda:0')\n"
     ]
    },
    {
     "name": "stdout",
     "output_type": "stream",
     "text": [
      "e20  |  b400  |  MSE 0.010042169131338596  |  Lr 0.0001  |  t tensor([977,  92, 782, 570, 548, 856, 186, 734, 722, 295], device='cuda:0')\n"
     ]
    },
    {
     "name": "stdout",
     "output_type": "stream",
     "text": [
      "e20  |  b500  |  MSE 0.008205515332520008  |  Lr 0.0001  |  t tensor([607, 248, 926, 794, 302, 498, 500, 992, 534, 115], device='cuda:0')\n"
     ]
    },
    {
     "name": "stdout",
     "output_type": "stream",
     "text": [
      "e20  |  b600  |  MSE 0.005908026825636625  |  Lr 0.0001  |  t tensor([621, 617, 414, 616, 336, 370, 285, 776, 303, 714], device='cuda:0')\n"
     ]
    },
    {
     "name": "stdout",
     "output_type": "stream",
     "text": [
      "e20  |  b700  |  MSE 0.037343136966228485  |  Lr 0.0001  |  t tensor([459,  50, 213, 618, 426,  91,   9, 692,  15, 391], device='cuda:0')\n"
     ]
    },
    {
     "name": "stdout",
     "output_type": "stream",
     "text": [
      "e20  |  b800  |  MSE 0.021446814760565758  |  Lr 0.0001  |  t tensor([848, 902,  62, 681, 399, 709, 421,   7, 779, 994], device='cuda:0')\n"
     ]
    },
    {
     "name": "stdout",
     "output_type": "stream",
     "text": [
      "e20  |  b900  |  MSE 0.006515316665172577  |  Lr 0.0001  |  t tensor([497, 807, 213, 923, 213, 784, 685, 156, 833, 816], device='cuda:0')\n"
     ]
    },
    {
     "name": "stdout",
     "output_type": "stream",
     "text": [
      "e20  |  b1000  |  MSE 0.017718272283673286  |  Lr 0.0001  |  t tensor([217, 806,  93,  34, 321, 782, 169, 749, 864, 541], device='cuda:0')\n"
     ]
    },
    {
     "name": "stdout",
     "output_type": "stream",
     "text": [
      "e20  |  b1100  |  MSE 0.024580491706728935  |  Lr 0.0001  |  t tensor([253,   9, 614, 645,  64, 541, 926, 143, 238, 309], device='cuda:0')\n"
     ]
    },
    {
     "name": "stdout",
     "output_type": "stream",
     "text": [
      "e20  |  b1200  |  MSE 0.004972175229340792  |  Lr 0.0001  |  t tensor([743, 723, 109, 567, 166, 596, 444, 760, 832, 198], device='cuda:0')\n"
     ]
    },
    {
     "name": "stdout",
     "output_type": "stream",
     "text": [
      "e20  |  b1300  |  MSE 0.011031877249479294  |  Lr 0.0001  |  t tensor([413, 901, 373, 373, 718, 191, 448,  53, 554, 777], device='cuda:0')\n"
     ]
    },
    {
     "name": "stdout",
     "output_type": "stream",
     "text": [
      "e20  |  b1400  |  MSE 0.006398215889930725  |  Lr 0.0001  |  t tensor([233, 955, 373, 494, 277, 984, 241, 557, 648, 642], device='cuda:0')\n"
     ]
    },
    {
     "name": "stdout",
     "output_type": "stream",
     "text": [
      "e20  |  b1500  |  MSE 0.011286096647381783  |  Lr 0.0001  |  t tensor([712, 306, 265, 589,  72, 568, 279, 848, 314, 441], device='cuda:0')\n"
     ]
    },
    {
     "name": "stdout",
     "output_type": "stream",
     "text": [
      "e20  |  b1600  |  MSE 0.0031954473815858364  |  Lr 0.0001  |  t tensor([800, 926, 321, 852, 848, 803, 491, 485, 813, 895], device='cuda:0')\n"
     ]
    },
    {
     "name": "stdout",
     "output_type": "stream",
     "text": [
      "e20  |  b1700  |  MSE 0.01502917893230915  |  Lr 0.0001  |  t tensor([375, 469, 356, 839, 837, 323,  77, 891,  23, 820], device='cuda:0')\n"
     ]
    },
    {
     "name": "stdout",
     "output_type": "stream",
     "text": [
      "e20  |  b1800  |  MSE 0.010923227295279503  |  Lr 0.0001  |  t tensor([499, 898, 642, 219,  86, 235, 262, 586, 578, 765], device='cuda:0')\n"
     ]
    },
    {
     "name": "stdout",
     "output_type": "stream",
     "text": [
      "e20  |  b1900  |  MSE 0.023039981722831726  |  Lr 0.0001  |  t tensor([  9, 237,  96, 525, 459, 750, 644, 479, 920, 661], device='cuda:0')\n"
     ]
    },
    {
     "name": "stdout",
     "output_type": "stream",
     "text": [
      "e20  |  b2000  |  MSE 0.037790343165397644  |  Lr 0.0001  |  t tensor([888,   2, 170,  92, 255, 757, 514, 552, 948, 819], device='cuda:0')\n"
     ]
    },
    {
     "name": "stdout",
     "output_type": "stream",
     "text": [
      "e20  |  b2100  |  MSE 0.012969008646905422  |  Lr 0.0001  |  t tensor([606,  45, 276, 427, 979, 892, 516, 535, 491, 165], device='cuda:0')\n"
     ]
    },
    {
     "name": "stdout",
     "output_type": "stream",
     "text": [
      "e20  |  b2200  |  MSE 0.02682410553097725  |  Lr 0.0001  |  t tensor([894,  74, 612, 343, 594, 861, 312,   8, 962, 894], device='cuda:0')\n"
     ]
    },
    {
     "name": "stdout",
     "output_type": "stream",
     "text": [
      "e20  |  b2300  |  MSE 0.014038443565368652  |  Lr 0.0001  |  t tensor([853,  34, 174, 519, 261, 460, 492, 785,  60, 493], device='cuda:0')\n"
     ]
    },
    {
     "name": "stdout",
     "output_type": "stream",
     "text": [
      "e20  |  b2400  |  MSE 0.004634660668671131  |  Lr 0.0001  |  t tensor([882, 609, 930, 780, 150, 899, 620, 298, 681, 807], device='cuda:0')\n"
     ]
    },
    {
     "name": "stdout",
     "output_type": "stream",
     "text": [
      "e20  |  b2500  |  MSE 0.008935464546084404  |  Lr 0.0001  |  t tensor([837, 400, 309, 292, 666, 907, 949,  83, 895, 787], device='cuda:0')\n"
     ]
    },
    {
     "name": "stdout",
     "output_type": "stream",
     "text": [
      "e20  |  b2600  |  MSE 0.02069374918937683  |  Lr 0.0001  |  t tensor([314, 495, 840, 230, 132, 507, 196, 326,   8, 571], device='cuda:0')\n"
     ]
    },
    {
     "name": "stdout",
     "output_type": "stream",
     "text": [
      "e20  |  b2700  |  MSE 0.0049938601441681385  |  Lr 0.0001  |  t tensor([496, 891, 489, 590, 506, 649, 429, 434, 285, 562], device='cuda:0')\n"
     ]
    },
    {
     "name": "stdout",
     "output_type": "stream",
     "text": [
      "e20  |  b2800  |  MSE 0.009511591866612434  |  Lr 0.0001  |  t tensor([680, 464, 238, 117, 394, 427, 706, 522, 979, 268], device='cuda:0')\n"
     ]
    },
    {
     "name": "stdout",
     "output_type": "stream",
     "text": [
      "e20  |  b2900  |  MSE 0.03238820284605026  |  Lr 0.0001  |  t tensor([705, 530, 534, 927, 664, 462, 351, 955,   1, 295], device='cuda:0')\n"
     ]
    },
    {
     "name": "stdout",
     "output_type": "stream",
     "text": [
      "e20  |  b3000  |  MSE 0.02044479176402092  |  Lr 0.0001  |  t tensor([785, 280,  13, 487, 316, 724,  29, 335, 577, 907], device='cuda:0')\n"
     ]
    },
    {
     "name": "stdout",
     "output_type": "stream",
     "text": [
      "e20  |  b3100  |  MSE 0.013408838771283627  |  Lr 0.0001  |  t tensor([897, 750, 102, 323, 124, 416, 395, 853, 365,  95], device='cuda:0')\n"
     ]
    },
    {
     "name": "stdout",
     "output_type": "stream",
     "text": [
      "e20  |  b3200  |  MSE 0.010553978383541107  |  Lr 0.0001  |  t tensor([289, 960, 581, 647, 308,  99, 307, 534, 205, 893], device='cuda:0')\n"
     ]
    },
    {
     "name": "stdout",
     "output_type": "stream",
     "text": [
      "e20  |  b3300  |  MSE 0.0059277075342834  |  Lr 0.0001  |  t tensor([692, 254, 620, 311, 302, 497, 380, 506, 819, 960], device='cuda:0')\n"
     ]
    },
    {
     "name": "stdout",
     "output_type": "stream",
     "text": [
      "e20  |  b3400  |  MSE 0.009556599892675877  |  Lr 0.0001  |  t tensor([264, 679, 381, 418,  96, 815, 243, 470, 896, 650], device='cuda:0')\n"
     ]
    },
    {
     "name": "stdout",
     "output_type": "stream",
     "text": [
      "e20  |  b3500  |  MSE 0.013022429309785366  |  Lr 0.0001  |  t tensor([148,  87, 922, 582, 211, 442, 529, 198, 365, 363], device='cuda:0')\n"
     ]
    },
    {
     "name": "stdout",
     "output_type": "stream",
     "text": [
      "e20  |  b3600  |  MSE 0.0032022446393966675  |  Lr 0.0001  |  t tensor([944, 939, 768, 543, 575, 305, 470, 385, 635, 674], device='cuda:0')\n"
     ]
    },
    {
     "name": "stdout",
     "output_type": "stream",
     "text": [
      "e20  |  b3700  |  MSE 0.009359756484627724  |  Lr 0.0001  |  t tensor([539,  59, 608, 333, 809, 377, 207, 745, 682, 682], device='cuda:0')\n"
     ]
    },
    {
     "name": "stdout",
     "output_type": "stream",
     "text": [
      "e20  |  b3800  |  MSE 0.01724310964345932  |  Lr 0.0001  |  t tensor([223, 581, 349, 242,  10, 280, 846, 499, 693, 931], device='cuda:0')\n"
     ]
    },
    {
     "name": "stdout",
     "output_type": "stream",
     "text": [
      "e20  |  b3900  |  MSE 0.03388865292072296  |  Lr 0.0001  |  t tensor([707, 120, 118, 699, 961, 863, 919,  17, 311,  15], device='cuda:0')\n"
     ]
    },
    {
     "name": "stdout",
     "output_type": "stream",
     "text": [
      "e20  |  b4000  |  MSE 0.010124774649739265  |  Lr 0.0001  |  t tensor([826, 382, 773, 943, 339,  41, 361, 899, 581, 149], device='cuda:0')\n"
     ]
    },
    {
     "name": "stdout",
     "output_type": "stream",
     "text": [
      "e20  |  b4100  |  MSE 0.008870893158018589  |  Lr 0.0001  |  t tensor([585, 709, 208, 307, 513, 208, 623, 933, 106, 318], device='cuda:0')\n"
     ]
    },
    {
     "name": "stdout",
     "output_type": "stream",
     "text": [
      "e20  |  b4200  |  MSE 0.012719164602458477  |  Lr 0.0001  |  t tensor([ 45, 785, 341, 910, 559, 382, 624, 425,  91, 541], device='cuda:0')\n"
     ]
    },
    {
     "name": "stdout",
     "output_type": "stream",
     "text": [
      "e20  |  b4300  |  MSE 0.00917856115847826  |  Lr 0.0001  |  t tensor([468, 924, 668, 582, 220, 817, 987, 418, 447,  45], device='cuda:0')\n"
     ]
    },
    {
     "name": "stdout",
     "output_type": "stream",
     "text": [
      "e20  |  b4400  |  MSE 0.007207322400063276  |  Lr 0.0001  |  t tensor([484, 394, 419, 259, 774, 771, 561, 273, 185, 189], device='cuda:0')\n"
     ]
    },
    {
     "name": "stdout",
     "output_type": "stream",
     "text": [
      "e20  |  b4500  |  MSE 0.011622787453234196  |  Lr 0.0001  |  t tensor([922, 274, 532, 156, 384, 352, 878, 105, 407, 114], device='cuda:0')\n"
     ]
    },
    {
     "name": "stdout",
     "output_type": "stream",
     "text": [
      "e20  |  b4600  |  MSE 0.004319328814744949  |  Lr 0.0001  |  t tensor([815, 312, 790, 518, 263, 370, 579, 391, 922, 877], device='cuda:0')\n"
     ]
    },
    {
     "name": "stdout",
     "output_type": "stream",
     "text": [
      "e20  |  b4700  |  MSE 0.03189970180392265  |  Lr 0.0001  |  t tensor([752,  19, 571, 767, 307,  59,  14, 151, 607, 358], device='cuda:0')\n"
     ]
    },
    {
     "name": "stdout",
     "output_type": "stream",
     "text": [
      "e20  |  b4800  |  MSE 0.010840224102139473  |  Lr 0.0001  |  t tensor([377,  98,  73, 485, 895, 574, 498, 262, 596, 389], device='cuda:0')\n"
     ]
    },
    {
     "name": "stdout",
     "output_type": "stream",
     "text": [
      "e20  |  b4900  |  MSE 0.008309151977300644  |  Lr 0.0001  |  t tensor([338, 391, 954, 379, 188, 169, 409, 721, 528, 954], device='cuda:0')\n"
     ]
    },
    {
     "name": "stdout",
     "output_type": "stream",
     "text": [
      "Epoch 20 loss: 0.013516820889036172\n"
     ]
    },
    {
     "data": {
      "application/vnd.jupyter.widget-view+json": {
       "model_id": "044a18e3ea824c8eba54710759bdbaeb",
       "version_major": 2,
       "version_minor": 0
      },
      "text/plain": [
       "  0%|          | 0/5000 [00:00<?, ?it/s]"
      ]
     },
     "metadata": {},
     "output_type": "display_data"
    },
    {
     "name": "stdout",
     "output_type": "stream",
     "text": [
      "e21  |  b0  |  MSE 0.004046541638672352  |  Lr 0.0001  |  t tensor([913, 833, 287, 386, 434, 748, 729, 539, 775, 388], device='cuda:0')\n"
     ]
    },
    {
     "name": "stdout",
     "output_type": "stream",
     "text": [
      "e21  |  b100  |  MSE 0.007479118648916483  |  Lr 0.0001  |  t tensor([765, 460, 950, 359, 729, 308, 219, 247, 141, 952], device='cuda:0')\n"
     ]
    },
    {
     "name": "stdout",
     "output_type": "stream",
     "text": [
      "e21  |  b200  |  MSE 0.006427052430808544  |  Lr 0.0001  |  t tensor([844, 894, 441, 657, 189, 498, 119, 903, 978, 402], device='cuda:0')\n"
     ]
    },
    {
     "name": "stdout",
     "output_type": "stream",
     "text": [
      "e21  |  b300  |  MSE 0.005689267534762621  |  Lr 0.0001  |  t tensor([965, 435, 658, 786, 306, 672, 255, 598, 505, 227], device='cuda:0')\n"
     ]
    },
    {
     "name": "stdout",
     "output_type": "stream",
     "text": [
      "e21  |  b400  |  MSE 0.008024717681109905  |  Lr 0.0001  |  t tensor([271, 973, 808, 198, 664, 374, 866, 696, 144, 390], device='cuda:0')\n"
     ]
    },
    {
     "name": "stdout",
     "output_type": "stream",
     "text": [
      "e21  |  b500  |  MSE 0.013024303130805492  |  Lr 0.0001  |  t tensor([ 24, 699, 459, 169, 214, 531, 432, 602, 625, 291], device='cuda:0')\n"
     ]
    },
    {
     "name": "stdout",
     "output_type": "stream",
     "text": [
      "e21  |  b600  |  MSE 0.017046205699443817  |  Lr 0.0001  |  t tensor([962, 136, 110, 394, 615,  78, 554,  63, 404, 457], device='cuda:0')\n"
     ]
    },
    {
     "name": "stdout",
     "output_type": "stream",
     "text": [
      "e21  |  b700  |  MSE 0.006074121687561274  |  Lr 0.0001  |  t tensor([183, 496, 751, 458, 505, 307, 971, 652, 374, 524], device='cuda:0')\n"
     ]
    },
    {
     "name": "stdout",
     "output_type": "stream",
     "text": [
      "e21  |  b800  |  MSE 0.015066767111420631  |  Lr 0.0001  |  t tensor([160, 111, 679, 553, 804,  72, 904, 480, 315, 933], device='cuda:0')\n"
     ]
    },
    {
     "name": "stdout",
     "output_type": "stream",
     "text": [
      "e21  |  b900  |  MSE 0.009635225869715214  |  Lr 0.0001  |  t tensor([991, 208, 698, 681, 650,  35, 221, 685, 930, 642], device='cuda:0')\n"
     ]
    },
    {
     "name": "stdout",
     "output_type": "stream",
     "text": [
      "e21  |  b1000  |  MSE 0.0074324472807347775  |  Lr 0.0001  |  t tensor([ 65, 816, 419, 339, 891, 950, 884, 249, 493, 501], device='cuda:0')\n"
     ]
    },
    {
     "name": "stdout",
     "output_type": "stream",
     "text": [
      "e21  |  b1100  |  MSE 0.02082749456167221  |  Lr 0.0001  |  t tensor([ 61, 389, 627, 548, 116, 217, 922, 274,  85,  77], device='cuda:0')\n"
     ]
    },
    {
     "name": "stdout",
     "output_type": "stream",
     "text": [
      "e21  |  b1200  |  MSE 0.011829305440187454  |  Lr 0.0001  |  t tensor([582, 591, 848, 177, 397,  72, 627, 444, 173, 391], device='cuda:0')\n"
     ]
    },
    {
     "name": "stdout",
     "output_type": "stream",
     "text": [
      "e21  |  b1300  |  MSE 0.010794618166983128  |  Lr 0.0001  |  t tensor([366, 137, 352, 975, 580, 783, 857, 775, 145, 747], device='cuda:0')\n"
     ]
    },
    {
     "name": "stdout",
     "output_type": "stream",
     "text": [
      "e21  |  b1400  |  MSE 0.02142290212213993  |  Lr 0.0001  |  t tensor([365, 416, 864, 769, 219,  34, 920, 548,  40, 872], device='cuda:0')\n"
     ]
    },
    {
     "name": "stdout",
     "output_type": "stream",
     "text": [
      "e21  |  b1500  |  MSE 0.026785152032971382  |  Lr 0.0001  |  t tensor([378,  36, 605, 233, 577,  25, 514, 152, 398, 243], device='cuda:0')\n"
     ]
    },
    {
     "name": "stdout",
     "output_type": "stream",
     "text": [
      "e21  |  b1600  |  MSE 0.003763903398066759  |  Lr 0.0001  |  t tensor([995, 758, 332, 358, 652, 738, 965, 605, 222, 865], device='cuda:0')\n"
     ]
    },
    {
     "name": "stdout",
     "output_type": "stream",
     "text": [
      "e21  |  b1700  |  MSE 0.01290926244109869  |  Lr 0.0001  |  t tensor([400, 344, 103, 238, 391, 288, 263, 925, 772, 220], device='cuda:0')\n"
     ]
    },
    {
     "name": "stdout",
     "output_type": "stream",
     "text": [
      "e21  |  b1800  |  MSE 0.014321296475827694  |  Lr 0.0001  |  t tensor([910, 595, 409,  61, 352, 271, 328, 870, 206, 184], device='cuda:0')\n"
     ]
    },
    {
     "name": "stdout",
     "output_type": "stream",
     "text": [
      "e21  |  b1900  |  MSE 0.009316808544099331  |  Lr 0.0001  |  t tensor([463, 851, 809, 242, 385, 276, 400, 487, 351, 603], device='cuda:0')\n"
     ]
    },
    {
     "name": "stdout",
     "output_type": "stream",
     "text": [
      "e21  |  b2000  |  MSE 0.003186083398759365  |  Lr 0.0001  |  t tensor([347, 239, 871, 922, 984, 732, 801, 848, 790, 875], device='cuda:0')\n"
     ]
    },
    {
     "name": "stdout",
     "output_type": "stream",
     "text": [
      "e21  |  b2100  |  MSE 0.020075703039765358  |  Lr 0.0001  |  t tensor([505,  76, 363, 281, 127, 695, 406,  50, 775,  59], device='cuda:0')\n"
     ]
    },
    {
     "name": "stdout",
     "output_type": "stream",
     "text": [
      "e21  |  b2200  |  MSE 0.009523365646600723  |  Lr 0.0001  |  t tensor([390, 405, 599, 475, 377, 175, 452, 599, 754, 187], device='cuda:0')\n"
     ]
    },
    {
     "name": "stdout",
     "output_type": "stream",
     "text": [
      "e21  |  b2300  |  MSE 0.004952538292855024  |  Lr 0.0001  |  t tensor([420, 724, 704, 733, 418, 505, 300, 780, 443, 528], device='cuda:0')\n"
     ]
    },
    {
     "name": "stdout",
     "output_type": "stream",
     "text": [
      "e21  |  b2400  |  MSE 0.010060112923383713  |  Lr 0.0001  |  t tensor([410, 707, 364, 503, 471, 386, 256, 798, 584,  69], device='cuda:0')\n"
     ]
    },
    {
     "name": "stdout",
     "output_type": "stream",
     "text": [
      "e21  |  b2500  |  MSE 0.010847331024706364  |  Lr 0.0001  |  t tensor([931,  92, 708, 171, 291, 864, 958, 398, 939, 426], device='cuda:0')\n"
     ]
    },
    {
     "name": "stdout",
     "output_type": "stream",
     "text": [
      "e21  |  b2600  |  MSE 0.024137884378433228  |  Lr 0.0001  |  t tensor([988, 862, 832, 564, 817,  23, 274, 814,   7, 425], device='cuda:0')\n"
     ]
    },
    {
     "name": "stdout",
     "output_type": "stream",
     "text": [
      "e21  |  b2700  |  MSE 0.02148914895951748  |  Lr 0.0001  |  t tensor([ 41, 798, 290, 964, 344, 294, 583,  23, 664, 291], device='cuda:0')\n"
     ]
    },
    {
     "name": "stdout",
     "output_type": "stream",
     "text": [
      "e21  |  b2800  |  MSE 0.010979631915688515  |  Lr 0.0001  |  t tensor([275, 260, 628,  71, 675, 980, 511, 945, 467, 356], device='cuda:0')\n"
     ]
    },
    {
     "name": "stdout",
     "output_type": "stream",
     "text": [
      "e21  |  b2900  |  MSE 0.012437657453119755  |  Lr 0.0001  |  t tensor([375, 640, 507, 124, 425, 687, 586,  35, 395, 901], device='cuda:0')\n"
     ]
    },
    {
     "name": "stdout",
     "output_type": "stream",
     "text": [
      "e21  |  b3000  |  MSE 0.009345647878944874  |  Lr 0.0001  |  t tensor([585, 476, 276, 818, 716, 882,  88, 615, 137, 885], device='cuda:0')\n"
     ]
    },
    {
     "name": "stdout",
     "output_type": "stream",
     "text": [
      "e21  |  b3100  |  MSE 0.018248755484819412  |  Lr 0.0001  |  t tensor([979, 719, 141, 169,  94, 879,  79, 115, 893, 316], device='cuda:0')\n"
     ]
    },
    {
     "name": "stdout",
     "output_type": "stream",
     "text": [
      "e21  |  b3200  |  MSE 0.01135945226997137  |  Lr 0.0001  |  t tensor([987,  29, 354, 241, 260, 705, 440, 797, 986, 291], device='cuda:0')\n"
     ]
    },
    {
     "name": "stdout",
     "output_type": "stream",
     "text": [
      "e21  |  b3300  |  MSE 0.025352153927087784  |  Lr 0.0001  |  t tensor([139, 141, 719, 718,  43,  15, 157, 618, 387, 938], device='cuda:0')\n"
     ]
    },
    {
     "name": "stdout",
     "output_type": "stream",
     "text": [
      "e21  |  b3400  |  MSE 0.004370181821286678  |  Lr 0.0001  |  t tensor([306, 171, 514, 886, 808, 905, 947, 908, 647, 654], device='cuda:0')\n"
     ]
    },
    {
     "name": "stdout",
     "output_type": "stream",
     "text": [
      "e21  |  b3500  |  MSE 0.011939830146729946  |  Lr 0.0001  |  t tensor([474,  86, 656, 284, 297, 235, 217, 931, 704, 306], device='cuda:0')\n"
     ]
    },
    {
     "name": "stdout",
     "output_type": "stream",
     "text": [
      "e21  |  b3600  |  MSE 0.01772063970565796  |  Lr 0.0001  |  t tensor([791, 583, 814,  42, 134, 532, 252, 209, 234, 344], device='cuda:0')\n"
     ]
    },
    {
     "name": "stdout",
     "output_type": "stream",
     "text": [
      "e21  |  b3700  |  MSE 0.010263853706419468  |  Lr 0.0001  |  t tensor([811, 353,  73, 541, 146, 717, 569, 933, 329, 404], device='cuda:0')\n"
     ]
    },
    {
     "name": "stdout",
     "output_type": "stream",
     "text": [
      "e21  |  b3800  |  MSE 0.003259496297687292  |  Lr 0.0001  |  t tensor([720, 792, 225, 260, 968, 677, 867, 732, 674, 593], device='cuda:0')\n"
     ]
    },
    {
     "name": "stdout",
     "output_type": "stream",
     "text": [
      "e21  |  b3900  |  MSE 0.007783029694110155  |  Lr 0.0001  |  t tensor([384, 324, 282, 290, 177, 308, 981, 759, 754, 779], device='cuda:0')\n"
     ]
    },
    {
     "name": "stdout",
     "output_type": "stream",
     "text": [
      "e21  |  b4000  |  MSE 0.011461923830211163  |  Lr 0.0001  |  t tensor([720, 435, 303, 230, 393, 344,  33, 743, 991, 643], device='cuda:0')\n"
     ]
    },
    {
     "name": "stdout",
     "output_type": "stream",
     "text": [
      "e21  |  b4100  |  MSE 0.013960377313196659  |  Lr 0.0001  |  t tensor([778,  82, 118, 144, 712, 991, 855, 675, 309, 393], device='cuda:0')\n"
     ]
    },
    {
     "name": "stdout",
     "output_type": "stream",
     "text": [
      "e21  |  b4200  |  MSE 0.02607770822942257  |  Lr 0.0001  |  t tensor([307, 524, 511,  41, 674,  92, 643, 741,  13, 753], device='cuda:0')\n"
     ]
    },
    {
     "name": "stdout",
     "output_type": "stream",
     "text": [
      "e21  |  b4300  |  MSE 0.009123552590608597  |  Lr 0.0001  |  t tensor([270, 998, 341, 303, 933, 174, 659, 420, 612, 114], device='cuda:0')\n"
     ]
    },
    {
     "name": "stdout",
     "output_type": "stream",
     "text": [
      "e21  |  b4400  |  MSE 0.022715630009770393  |  Lr 0.0001  |  t tensor([978, 909,  43, 118, 440,  70, 318, 968, 113,  55], device='cuda:0')\n"
     ]
    },
    {
     "name": "stdout",
     "output_type": "stream",
     "text": [
      "e21  |  b4500  |  MSE 0.008289686404168606  |  Lr 0.0001  |  t tensor([605, 408, 966, 626, 305, 582, 103,  89, 766, 640], device='cuda:0')\n"
     ]
    },
    {
     "name": "stdout",
     "output_type": "stream",
     "text": [
      "e21  |  b4600  |  MSE 0.007099862210452557  |  Lr 0.0001  |  t tensor([833, 803, 907, 397, 989, 957, 343, 903, 118, 198], device='cuda:0')\n"
     ]
    },
    {
     "name": "stdout",
     "output_type": "stream",
     "text": [
      "e21  |  b4700  |  MSE 0.006510223262012005  |  Lr 0.0001  |  t tensor([562, 603, 616, 505, 145, 370, 428, 569, 527, 968], device='cuda:0')\n"
     ]
    },
    {
     "name": "stdout",
     "output_type": "stream",
     "text": [
      "e21  |  b4800  |  MSE 0.004908862058073282  |  Lr 0.0001  |  t tensor([535, 606, 568, 338, 444, 545, 444, 254, 846, 883], device='cuda:0')\n"
     ]
    },
    {
     "name": "stdout",
     "output_type": "stream",
     "text": [
      "e21  |  b4900  |  MSE 0.005231075920164585  |  Lr 0.0001  |  t tensor([575, 310, 881, 551, 819, 835, 956, 773, 199, 393], device='cuda:0')\n"
     ]
    },
    {
     "name": "stdout",
     "output_type": "stream",
     "text": [
      "Epoch 21 loss: 0.013390182493033352\n"
     ]
    },
    {
     "data": {
      "application/vnd.jupyter.widget-view+json": {
       "model_id": "d9bba906e8fd447f88fd7f635a51a724",
       "version_major": 2,
       "version_minor": 0
      },
      "text/plain": [
       "  0%|          | 0/5000 [00:00<?, ?it/s]"
      ]
     },
     "metadata": {},
     "output_type": "display_data"
    },
    {
     "name": "stdout",
     "output_type": "stream",
     "text": [
      "e22  |  b0  |  MSE 0.02296764962375164  |  Lr 0.0001  |  t tensor([698, 739, 131,  66,   9, 621,  66, 297, 631, 647], device='cuda:0')\n"
     ]
    },
    {
     "name": "stdout",
     "output_type": "stream",
     "text": [
      "e22  |  b100  |  MSE 0.016061749309301376  |  Lr 0.0001  |  t tensor([652, 134, 396, 123, 117, 391, 769, 980,  47, 593], device='cuda:0')\n"
     ]
    },
    {
     "name": "stdout",
     "output_type": "stream",
     "text": [
      "e22  |  b200  |  MSE 0.006945335306227207  |  Lr 0.0001  |  t tensor([661, 730, 555, 381, 998, 102, 485, 518, 770, 544], device='cuda:0')\n"
     ]
    },
    {
     "name": "stdout",
     "output_type": "stream",
     "text": [
      "e22  |  b300  |  MSE 0.008737538941204548  |  Lr 0.0001  |  t tensor([646, 172, 569, 228, 171, 217, 775, 278, 556, 921], device='cuda:0')\n"
     ]
    },
    {
     "name": "stdout",
     "output_type": "stream",
     "text": [
      "e22  |  b400  |  MSE 0.017885567620396614  |  Lr 0.0001  |  t tensor([291, 108, 489, 316, 578, 219, 878, 526, 512,  14], device='cuda:0')\n"
     ]
    },
    {
     "name": "stdout",
     "output_type": "stream",
     "text": [
      "e22  |  b500  |  MSE 0.006605620961636305  |  Lr 0.0001  |  t tensor([892, 883, 343, 865, 733, 140, 865, 820, 479, 291], device='cuda:0')\n"
     ]
    },
    {
     "name": "stdout",
     "output_type": "stream",
     "text": [
      "e22  |  b600  |  MSE 0.013173998333513737  |  Lr 0.0001  |  t tensor([921, 756,  75,  50, 264, 775, 691, 552, 678, 774], device='cuda:0')\n"
     ]
    },
    {
     "name": "stdout",
     "output_type": "stream",
     "text": [
      "e22  |  b700  |  MSE 0.012311398051679134  |  Lr 0.0001  |  t tensor([273, 142, 323, 825, 858, 303, 897, 712, 728,  58], device='cuda:0')\n"
     ]
    },
    {
     "name": "stdout",
     "output_type": "stream",
     "text": [
      "e22  |  b800  |  MSE 0.024867456406354904  |  Lr 0.0001  |  t tensor([341,  77, 709,  77, 802, 432, 313,  44, 980, 192], device='cuda:0')\n"
     ]
    },
    {
     "name": "stdout",
     "output_type": "stream",
     "text": [
      "e22  |  b900  |  MSE 0.010501697659492493  |  Lr 0.0001  |  t tensor([708, 221, 942, 701,  57, 346, 902, 657, 415, 300], device='cuda:0')\n"
     ]
    },
    {
     "name": "stdout",
     "output_type": "stream",
     "text": [
      "e22  |  b1000  |  MSE 0.008535894565284252  |  Lr 0.0001  |  t tensor([533, 230, 288, 141, 995, 487, 638, 152, 722, 809], device='cuda:0')\n"
     ]
    },
    {
     "name": "stdout",
     "output_type": "stream",
     "text": [
      "e22  |  b1100  |  MSE 0.018701469525694847  |  Lr 0.0001  |  t tensor([269,  37, 831,  78, 560, 111, 799, 959, 169,  72], device='cuda:0')\n"
     ]
    },
    {
     "name": "stdout",
     "output_type": "stream",
     "text": [
      "e22  |  b1200  |  MSE 0.006455587223172188  |  Lr 0.0001  |  t tensor([941,  48, 291, 675, 897, 323, 940, 442, 447, 946], device='cuda:0')\n"
     ]
    },
    {
     "name": "stdout",
     "output_type": "stream",
     "text": [
      "e22  |  b1300  |  MSE 0.013741587288677692  |  Lr 0.0001  |  t tensor([805, 247, 302, 452, 440, 752,  91, 552, 183, 450], device='cuda:0')\n"
     ]
    },
    {
     "name": "stdout",
     "output_type": "stream",
     "text": [
      "e22  |  b1400  |  MSE 0.010182620957493782  |  Lr 0.0001  |  t tensor([985, 649, 410, 647, 652,  28, 584, 609, 268, 659], device='cuda:0')\n"
     ]
    },
    {
     "name": "stdout",
     "output_type": "stream",
     "text": [
      "e22  |  b1500  |  MSE 0.009499089792370796  |  Lr 0.0001  |  t tensor([931, 669, 793,  32, 631, 947, 708, 830, 882, 756], device='cuda:0')\n"
     ]
    },
    {
     "name": "stdout",
     "output_type": "stream",
     "text": [
      "e22  |  b1600  |  MSE 0.006551009602844715  |  Lr 0.0001  |  t tensor([458, 186, 670, 817, 264, 914, 952, 719, 259, 888], device='cuda:0')\n"
     ]
    },
    {
     "name": "stdout",
     "output_type": "stream",
     "text": [
      "e22  |  b1700  |  MSE 0.007827185094356537  |  Lr 0.0001  |  t tensor([813, 453, 946, 188, 294, 154, 432, 723, 252, 539], device='cuda:0')\n"
     ]
    },
    {
     "name": "stdout",
     "output_type": "stream",
     "text": [
      "e22  |  b1800  |  MSE 0.006291093770414591  |  Lr 0.0001  |  t tensor([239, 635, 133, 484, 320, 985, 768, 812, 235, 903], device='cuda:0')\n"
     ]
    },
    {
     "name": "stdout",
     "output_type": "stream",
     "text": [
      "e22  |  b1900  |  MSE 0.011430867947638035  |  Lr 0.0001  |  t tensor([887, 389, 661, 130, 940,  28, 467, 947, 770, 419], device='cuda:0')\n"
     ]
    },
    {
     "name": "stdout",
     "output_type": "stream",
     "text": [
      "e22  |  b2000  |  MSE 0.007992924191057682  |  Lr 0.0001  |  t tensor([278, 501, 400, 501, 909, 184, 575,  86, 665, 467], device='cuda:0')\n"
     ]
    },
    {
     "name": "stdout",
     "output_type": "stream",
     "text": [
      "e22  |  b2100  |  MSE 0.009695405140519142  |  Lr 0.0001  |  t tensor([ 89, 571, 954, 399, 555, 234, 932, 979, 499, 143], device='cuda:0')\n"
     ]
    },
    {
     "name": "stdout",
     "output_type": "stream",
     "text": [
      "e22  |  b2200  |  MSE 0.012112033553421497  |  Lr 0.0001  |  t tensor([360, 282, 906, 736, 159, 460, 260,  75, 904, 226], device='cuda:0')\n"
     ]
    },
    {
     "name": "stdout",
     "output_type": "stream",
     "text": [
      "e22  |  b2300  |  MSE 0.005764983594417572  |  Lr 0.0001  |  t tensor([246, 962, 574, 667, 649,  72, 851, 891, 326, 779], device='cuda:0')\n"
     ]
    },
    {
     "name": "stdout",
     "output_type": "stream",
     "text": [
      "e22  |  b2400  |  MSE 0.02672417275607586  |  Lr 0.0001  |  t tensor([331, 242,   4, 338, 420, 834, 448, 462, 336, 250], device='cuda:0')\n"
     ]
    },
    {
     "name": "stdout",
     "output_type": "stream",
     "text": [
      "e22  |  b2500  |  MSE 0.015178470872342587  |  Lr 0.0001  |  t tensor([859, 258, 754, 827,  45, 461, 619, 669, 952,  74], device='cuda:0')\n"
     ]
    },
    {
     "name": "stdout",
     "output_type": "stream",
     "text": [
      "e22  |  b2600  |  MSE 0.012186471372842789  |  Lr 0.0001  |  t tensor([647, 121, 959, 650, 157, 155, 431, 596, 830, 155], device='cuda:0')\n"
     ]
    },
    {
     "name": "stdout",
     "output_type": "stream",
     "text": [
      "e22  |  b2700  |  MSE 0.002670631045475602  |  Lr 0.0001  |  t tensor([792, 826, 381, 845, 455, 823, 728, 540, 447, 998], device='cuda:0')\n"
     ]
    },
    {
     "name": "stdout",
     "output_type": "stream",
     "text": [
      "e22  |  b2800  |  MSE 0.006299001630395651  |  Lr 0.0001  |  t tensor([948, 345, 967, 158, 978, 511, 729, 317, 993, 841], device='cuda:0')\n"
     ]
    },
    {
     "name": "stdout",
     "output_type": "stream",
     "text": [
      "e22  |  b2900  |  MSE 0.008328352123498917  |  Lr 0.0001  |  t tensor([700, 946, 360, 804, 435, 649, 785,  22, 542, 285], device='cuda:0')\n"
     ]
    },
    {
     "name": "stdout",
     "output_type": "stream",
     "text": [
      "e22  |  b3000  |  MSE 0.0117097869515419  |  Lr 0.0001  |  t tensor([976, 158, 749, 192, 435, 737,  80,  79, 517, 538], device='cuda:0')\n"
     ]
    },
    {
     "name": "stdout",
     "output_type": "stream",
     "text": [
      "e22  |  b3100  |  MSE 0.011917722411453724  |  Lr 0.0001  |  t tensor([400, 841, 290, 123,  97, 917, 525, 694, 602, 172], device='cuda:0')\n"
     ]
    },
    {
     "name": "stdout",
     "output_type": "stream",
     "text": [
      "e22  |  b3200  |  MSE 0.026574525982141495  |  Lr 0.0001  |  t tensor([293, 444, 211, 254, 674,  84, 279, 577,  44,  37], device='cuda:0')\n"
     ]
    },
    {
     "name": "stdout",
     "output_type": "stream",
     "text": [
      "e22  |  b3300  |  MSE 0.013593862764537334  |  Lr 0.0001  |  t tensor([ 71, 246, 655, 105,  95, 880, 216, 750, 374, 660], device='cuda:0')\n"
     ]
    },
    {
     "name": "stdout",
     "output_type": "stream",
     "text": [
      "e22  |  b3400  |  MSE 0.022798852995038033  |  Lr 0.0001  |  t tensor([ 55, 644,   6, 842, 848, 114, 601, 980, 731, 709], device='cuda:0')\n"
     ]
    },
    {
     "name": "stdout",
     "output_type": "stream",
     "text": [
      "e22  |  b3500  |  MSE 0.004108147229999304  |  Lr 0.0001  |  t tensor([720, 922, 335, 899, 588, 226, 828, 590, 539, 724], device='cuda:0')\n"
     ]
    },
    {
     "name": "stdout",
     "output_type": "stream",
     "text": [
      "e22  |  b3600  |  MSE 0.01591823808848858  |  Lr 0.0001  |  t tensor([117, 745,  80, 787, 830, 395, 370,  30, 203, 413], device='cuda:0')\n"
     ]
    },
    {
     "name": "stdout",
     "output_type": "stream",
     "text": [
      "e22  |  b3700  |  MSE 0.01665082387626171  |  Lr 0.0001  |  t tensor([ 33, 677, 998, 751,  43, 655, 199, 950, 420, 446], device='cuda:0')\n"
     ]
    },
    {
     "name": "stdout",
     "output_type": "stream",
     "text": [
      "e22  |  b3800  |  MSE 0.008484290912747383  |  Lr 0.0001  |  t tensor([941, 555, 725, 473, 590,  86, 462, 274, 790, 174], device='cuda:0')\n"
     ]
    },
    {
     "name": "stdout",
     "output_type": "stream",
     "text": [
      "e22  |  b3900  |  MSE 0.008350903168320656  |  Lr 0.0001  |  t tensor([607, 980,  59, 928, 644, 571, 432, 144, 965, 615], device='cuda:0')\n"
     ]
    },
    {
     "name": "stdout",
     "output_type": "stream",
     "text": [
      "e22  |  b4000  |  MSE 0.007008380256593227  |  Lr 0.0001  |  t tensor([228, 297, 592, 559, 434, 283, 386, 380, 718, 647], device='cuda:0')\n"
     ]
    },
    {
     "name": "stdout",
     "output_type": "stream",
     "text": [
      "e22  |  b4100  |  MSE 0.01969694346189499  |  Lr 0.0001  |  t tensor([424, 316, 883, 611, 810,  63, 249,  75, 761,  22], device='cuda:0')\n"
     ]
    },
    {
     "name": "stdout",
     "output_type": "stream",
     "text": [
      "e22  |  b4200  |  MSE 0.007687700912356377  |  Lr 0.0001  |  t tensor([527, 813, 931, 604, 650, 303, 302, 482, 381, 135], device='cuda:0')\n"
     ]
    },
    {
     "name": "stdout",
     "output_type": "stream",
     "text": [
      "e22  |  b4300  |  MSE 0.009664494544267654  |  Lr 0.0001  |  t tensor([780, 989,  49, 275, 917, 305, 393, 833, 830, 422], device='cuda:0')\n"
     ]
    },
    {
     "name": "stdout",
     "output_type": "stream",
     "text": [
      "e22  |  b4400  |  MSE 0.007218740414828062  |  Lr 0.0001  |  t tensor([409,  47, 823, 369, 728, 462, 747, 979, 430, 438], device='cuda:0')\n"
     ]
    },
    {
     "name": "stdout",
     "output_type": "stream",
     "text": [
      "e22  |  b4500  |  MSE 0.012379656545817852  |  Lr 0.0001  |  t tensor([ 68, 886, 369,  26, 800, 468, 647, 833, 807, 990], device='cuda:0')\n"
     ]
    },
    {
     "name": "stdout",
     "output_type": "stream",
     "text": [
      "e22  |  b4600  |  MSE 0.009648566134274006  |  Lr 0.0001  |  t tensor([340, 130, 234, 615, 901, 372, 900, 176, 261, 329], device='cuda:0')\n"
     ]
    },
    {
     "name": "stdout",
     "output_type": "stream",
     "text": [
      "e22  |  b4700  |  MSE 0.0037999898195266724  |  Lr 0.0001  |  t tensor([566, 692, 436, 615, 960, 509, 722, 643, 504, 355], device='cuda:0')\n"
     ]
    },
    {
     "name": "stdout",
     "output_type": "stream",
     "text": [
      "e22  |  b4800  |  MSE 0.029194146394729614  |  Lr 0.0001  |  t tensor([890, 331, 664, 186, 728, 234, 509, 547, 934,   2], device='cuda:0')\n"
     ]
    },
    {
     "name": "stdout",
     "output_type": "stream",
     "text": [
      "e22  |  b4900  |  MSE 0.017876410856842995  |  Lr 0.0001  |  t tensor([540, 108, 110, 278, 294,  31, 662, 796, 787, 577], device='cuda:0')\n"
     ]
    },
    {
     "name": "stdout",
     "output_type": "stream",
     "text": [
      "Epoch 22 loss: 0.013333777467557229\n"
     ]
    },
    {
     "data": {
      "application/vnd.jupyter.widget-view+json": {
       "model_id": "d0aa5f29a940402e9320b5e513f68804",
       "version_major": 2,
       "version_minor": 0
      },
      "text/plain": [
       "  0%|          | 0/5000 [00:00<?, ?it/s]"
      ]
     },
     "metadata": {},
     "output_type": "display_data"
    },
    {
     "name": "stdout",
     "output_type": "stream",
     "text": [
      "e23  |  b0  |  MSE 0.010503028519451618  |  Lr 0.0001  |  t tensor([673, 488,  99, 550, 231, 404, 756, 791, 759,  59], device='cuda:0')\n"
     ]
    },
    {
     "name": "stdout",
     "output_type": "stream",
     "text": [
      "e23  |  b100  |  MSE 0.006539571564644575  |  Lr 0.0001  |  t tensor([471, 314, 593, 549, 313, 233, 960, 588, 292, 853], device='cuda:0')\n"
     ]
    },
    {
     "name": "stdout",
     "output_type": "stream",
     "text": [
      "e23  |  b200  |  MSE 0.008714045397937298  |  Lr 0.0001  |  t tensor([543, 166, 708, 765, 301, 196, 112, 551, 570, 527], device='cuda:0')\n"
     ]
    },
    {
     "name": "stdout",
     "output_type": "stream",
     "text": [
      "e23  |  b300  |  MSE 0.008721299469470978  |  Lr 0.0001  |  t tensor([739, 433, 558, 225, 298, 499, 684,  57, 181, 944], device='cuda:0')\n"
     ]
    },
    {
     "name": "stdout",
     "output_type": "stream",
     "text": [
      "e23  |  b400  |  MSE 0.010529043152928352  |  Lr 0.0001  |  t tensor([132, 268, 790, 994, 369, 365, 478, 420,  55, 653], device='cuda:0')\n"
     ]
    },
    {
     "name": "stdout",
     "output_type": "stream",
     "text": [
      "e23  |  b500  |  MSE 0.004243291448801756  |  Lr 0.0001  |  t tensor([705, 457, 900, 258, 611, 224, 630, 540, 935, 741], device='cuda:0')\n"
     ]
    },
    {
     "name": "stdout",
     "output_type": "stream",
     "text": [
      "e23  |  b600  |  MSE 0.0314759761095047  |  Lr 0.0001  |  t tensor([430, 534,  85, 650, 721, 132,   2, 328, 202, 157], device='cuda:0')\n"
     ]
    },
    {
     "name": "stdout",
     "output_type": "stream",
     "text": [
      "e23  |  b700  |  MSE 0.008977703750133514  |  Lr 0.0001  |  t tensor([582, 657, 779, 889, 463, 236, 920, 240, 183, 395], device='cuda:0')\n"
     ]
    },
    {
     "name": "stdout",
     "output_type": "stream",
     "text": [
      "e23  |  b800  |  MSE 0.025451116263866425  |  Lr 0.0001  |  t tensor([554, 612, 268, 874,  20, 360, 373, 427,   9, 450], device='cuda:0')\n"
     ]
    },
    {
     "name": "stdout",
     "output_type": "stream",
     "text": [
      "e23  |  b900  |  MSE 0.006828980054706335  |  Lr 0.0001  |  t tensor([958, 563, 390, 665, 295, 155, 677, 205, 624, 579], device='cuda:0')\n"
     ]
    },
    {
     "name": "stdout",
     "output_type": "stream",
     "text": [
      "e23  |  b1000  |  MSE 0.018762370571494102  |  Lr 0.0001  |  t tensor([265, 521, 372, 572, 972, 817,  15, 783, 243, 648], device='cuda:0')\n"
     ]
    },
    {
     "name": "stdout",
     "output_type": "stream",
     "text": [
      "e23  |  b1100  |  MSE 0.011904207058250904  |  Lr 0.0001  |  t tensor([225, 339, 868, 124, 128, 872, 764, 300, 276, 372], device='cuda:0')\n"
     ]
    },
    {
     "name": "stdout",
     "output_type": "stream",
     "text": [
      "e23  |  b1200  |  MSE 0.013334802351891994  |  Lr 0.0001  |  t tensor([537,  53,  31, 748, 781, 580, 473, 699, 482, 811], device='cuda:0')\n"
     ]
    },
    {
     "name": "stdout",
     "output_type": "stream",
     "text": [
      "e23  |  b1300  |  MSE 0.01703398860991001  |  Lr 0.0001  |  t tensor([717, 938, 192,  20, 473, 154, 227, 896, 393, 192], device='cuda:0')\n"
     ]
    },
    {
     "name": "stdout",
     "output_type": "stream",
     "text": [
      "e23  |  b1400  |  MSE 0.00870470516383648  |  Lr 0.0001  |  t tensor([519, 252, 534, 161, 680, 627, 321, 395, 298, 348], device='cuda:0')\n"
     ]
    },
    {
     "name": "stdout",
     "output_type": "stream",
     "text": [
      "e23  |  b1500  |  MSE 0.009798724204301834  |  Lr 0.0001  |  t tensor([ 98, 546, 616, 781, 870, 481, 236, 209, 316, 897], device='cuda:0')\n"
     ]
    },
    {
     "name": "stdout",
     "output_type": "stream",
     "text": [
      "e23  |  b1600  |  MSE 0.007823755964636803  |  Lr 0.0001  |  t tensor([483, 706, 747, 347, 476, 467, 330, 470, 278, 301], device='cuda:0')\n"
     ]
    },
    {
     "name": "stdout",
     "output_type": "stream",
     "text": [
      "e23  |  b1700  |  MSE 0.014097285456955433  |  Lr 0.0001  |  t tensor([696, 500,  52,  79,  61, 863, 798, 481, 551, 647], device='cuda:0')\n"
     ]
    },
    {
     "name": "stdout",
     "output_type": "stream",
     "text": [
      "e23  |  b1800  |  MSE 0.016190722584724426  |  Lr 0.0001  |  t tensor([748, 336, 659, 161, 720, 747,  80, 545, 801,  25], device='cuda:0')\n"
     ]
    },
    {
     "name": "stdout",
     "output_type": "stream",
     "text": [
      "e23  |  b1900  |  MSE 0.0056329211220145226  |  Lr 0.0001  |  t tensor([813, 407, 129, 769, 622, 393, 530, 772, 397, 412], device='cuda:0')\n"
     ]
    },
    {
     "name": "stdout",
     "output_type": "stream",
     "text": [
      "e23  |  b2000  |  MSE 0.01496411208063364  |  Lr 0.0001  |  t tensor([343, 714, 427,  44, 128, 664, 296, 588, 238, 585], device='cuda:0')\n"
     ]
    },
    {
     "name": "stdout",
     "output_type": "stream",
     "text": [
      "e23  |  b2100  |  MSE 0.012941311113536358  |  Lr 0.0001  |  t tensor([251, 778,  88, 790, 517, 722, 473,  83, 189, 928], device='cuda:0')\n"
     ]
    },
    {
     "name": "stdout",
     "output_type": "stream",
     "text": [
      "e23  |  b2200  |  MSE 0.008679789490997791  |  Lr 0.0001  |  t tensor([432, 926, 490, 146, 882, 165, 506, 625, 156, 949], device='cuda:0')\n"
     ]
    },
    {
     "name": "stdout",
     "output_type": "stream",
     "text": [
      "e23  |  b2300  |  MSE 0.013285236433148384  |  Lr 0.0001  |  t tensor([916, 295, 834, 482, 769, 667, 686, 213,  76,  76], device='cuda:0')\n"
     ]
    },
    {
     "name": "stdout",
     "output_type": "stream",
     "text": [
      "e23  |  b2400  |  MSE 0.00979809183627367  |  Lr 0.0001  |  t tensor([ 39, 564, 527, 745, 564, 649, 197, 353, 434, 754], device='cuda:0')\n"
     ]
    },
    {
     "name": "stdout",
     "output_type": "stream",
     "text": [
      "e23  |  b2500  |  MSE 0.016174964606761932  |  Lr 0.0001  |  t tensor([995,  76, 354, 292, 904, 265, 926,  34, 782, 399], device='cuda:0')\n"
     ]
    },
    {
     "name": "stdout",
     "output_type": "stream",
     "text": [
      "e23  |  b2600  |  MSE 0.02574361488223076  |  Lr 0.0001  |  t tensor([416, 930, 537, 179,  22,  63, 802, 160, 489,  33], device='cuda:0')\n"
     ]
    },
    {
     "name": "stdout",
     "output_type": "stream",
     "text": [
      "e23  |  b2700  |  MSE 0.005545240826904774  |  Lr 0.0001  |  t tensor([847, 743, 445, 378,  65, 758, 769, 407, 859, 650], device='cuda:0')\n"
     ]
    },
    {
     "name": "stdout",
     "output_type": "stream",
     "text": [
      "e23  |  b2800  |  MSE 0.006974763236939907  |  Lr 0.0001  |  t tensor([601, 756, 460, 199, 520, 323, 566, 674, 496, 232], device='cuda:0')\n"
     ]
    },
    {
     "name": "stdout",
     "output_type": "stream",
     "text": [
      "e23  |  b2900  |  MSE 0.007494776509702206  |  Lr 0.0001  |  t tensor([999, 518, 453, 437, 185, 160, 395, 276, 653, 786], device='cuda:0')\n"
     ]
    },
    {
     "name": "stdout",
     "output_type": "stream",
     "text": [
      "e23  |  b3000  |  MSE 0.01662989892065525  |  Lr 0.0001  |  t tensor([266, 474, 551, 456, 621,  17, 665, 795, 340, 234], device='cuda:0')\n"
     ]
    },
    {
     "name": "stdout",
     "output_type": "stream",
     "text": [
      "e23  |  b3100  |  MSE 0.010417250916361809  |  Lr 0.0001  |  t tensor([731, 221, 603, 305, 402, 204, 379, 482, 400, 878], device='cuda:0')\n"
     ]
    },
    {
     "name": "stdout",
     "output_type": "stream",
     "text": [
      "e23  |  b3200  |  MSE 0.0021610474213957787  |  Lr 0.0001  |  t tensor([776, 466, 874, 771, 280, 869, 967, 908, 182, 583], device='cuda:0')\n"
     ]
    },
    {
     "name": "stdout",
     "output_type": "stream",
     "text": [
      "e23  |  b3300  |  MSE 0.006787861697375774  |  Lr 0.0001  |  t tensor([392, 547, 141, 857, 670, 566, 798, 276, 878, 501], device='cuda:0')\n"
     ]
    },
    {
     "name": "stdout",
     "output_type": "stream",
     "text": [
      "e23  |  b3400  |  MSE 0.01688859984278679  |  Lr 0.0001  |  t tensor([712, 189, 452, 468, 105, 925, 127, 846, 585,  26], device='cuda:0')\n"
     ]
    },
    {
     "name": "stdout",
     "output_type": "stream",
     "text": [
      "e23  |  b3500  |  MSE 0.007443572394549847  |  Lr 0.0001  |  t tensor([859, 860, 540, 871, 105, 501, 548, 667, 209, 288], device='cuda:0')\n"
     ]
    },
    {
     "name": "stdout",
     "output_type": "stream",
     "text": [
      "e23  |  b3600  |  MSE 0.007614326663315296  |  Lr 0.0001  |  t tensor([531, 237,  53, 583, 710, 967, 934, 798, 561, 145], device='cuda:0')\n"
     ]
    },
    {
     "name": "stdout",
     "output_type": "stream",
     "text": [
      "e23  |  b3700  |  MSE 0.02673184871673584  |  Lr 0.0001  |  t tensor([527,  15,  22, 205, 668, 921, 408, 139, 477, 146], device='cuda:0')\n"
     ]
    },
    {
     "name": "stdout",
     "output_type": "stream",
     "text": [
      "e23  |  b3800  |  MSE 0.03900881111621857  |  Lr 0.0001  |  t tensor([463, 106, 889, 977, 763,  51, 443,   1, 708, 439], device='cuda:0')\n"
     ]
    },
    {
     "name": "stdout",
     "output_type": "stream",
     "text": [
      "e23  |  b3900  |  MSE 0.01000905130058527  |  Lr 0.0001  |  t tensor([959, 614, 687, 528, 162, 356, 449, 115, 279, 868], device='cuda:0')\n"
     ]
    },
    {
     "name": "stdout",
     "output_type": "stream",
     "text": [
      "e23  |  b4000  |  MSE 0.0038462907541543245  |  Lr 0.0001  |  t tensor([501, 327, 865, 495, 786, 902, 352, 330, 676, 704], device='cuda:0')\n"
     ]
    },
    {
     "name": "stdout",
     "output_type": "stream",
     "text": [
      "e23  |  b4100  |  MSE 0.024369902908802032  |  Lr 0.0001  |  t tensor([962,  34, 848, 284, 169, 813, 878, 608, 426,  12], device='cuda:0')\n"
     ]
    },
    {
     "name": "stdout",
     "output_type": "stream",
     "text": [
      "e23  |  b4200  |  MSE 0.01738354004919529  |  Lr 0.0001  |  t tensor([400, 611,  26, 725, 494, 128, 519, 115, 500, 320], device='cuda:0')\n"
     ]
    },
    {
     "name": "stdout",
     "output_type": "stream",
     "text": [
      "e23  |  b4300  |  MSE 0.02483976259827614  |  Lr 0.0001  |  t tensor([323,  25, 945,  45, 528, 683, 213, 541, 362, 847], device='cuda:0')\n"
     ]
    },
    {
     "name": "stdout",
     "output_type": "stream",
     "text": [
      "e23  |  b4400  |  MSE 0.011967993341386318  |  Lr 0.0001  |  t tensor([775,  29, 573, 986, 782, 409, 759, 832, 385, 144], device='cuda:0')\n"
     ]
    },
    {
     "name": "stdout",
     "output_type": "stream",
     "text": [
      "e23  |  b4500  |  MSE 0.017848676070570946  |  Lr 0.0001  |  t tensor([923, 467, 120, 437, 200, 103, 107, 228, 229, 722], device='cuda:0')\n"
     ]
    },
    {
     "name": "stdout",
     "output_type": "stream",
     "text": [
      "e23  |  b4600  |  MSE 0.004556974861770868  |  Lr 0.0001  |  t tensor([544, 643, 969, 784, 232, 247, 865, 980, 981, 905], device='cuda:0')\n"
     ]
    },
    {
     "name": "stdout",
     "output_type": "stream",
     "text": [
      "e23  |  b4700  |  MSE 0.012028064578771591  |  Lr 0.0001  |  t tensor([410, 971, 627, 776, 938,  38, 256, 459, 526, 544], device='cuda:0')\n"
     ]
    },
    {
     "name": "stdout",
     "output_type": "stream",
     "text": [
      "e23  |  b4800  |  MSE 0.011158822104334831  |  Lr 0.0001  |  t tensor([740, 236, 983, 408, 763, 685, 312, 889,  90,  59], device='cuda:0')\n"
     ]
    },
    {
     "name": "stdout",
     "output_type": "stream",
     "text": [
      "e23  |  b4900  |  MSE 0.019870126619935036  |  Lr 0.0001  |  t tensor([448, 146, 784, 950,  17, 593, 988, 975, 135, 675], device='cuda:0')\n"
     ]
    },
    {
     "name": "stdout",
     "output_type": "stream",
     "text": [
      "Epoch 23 loss: 0.013191187767870724\n"
     ]
    },
    {
     "data": {
      "application/vnd.jupyter.widget-view+json": {
       "model_id": "b6825bd7e5794851adfb59448bae6ffe",
       "version_major": 2,
       "version_minor": 0
      },
      "text/plain": [
       "  0%|          | 0/5000 [00:00<?, ?it/s]"
      ]
     },
     "metadata": {},
     "output_type": "display_data"
    },
    {
     "name": "stdout",
     "output_type": "stream",
     "text": [
      "e24  |  b0  |  MSE 0.020942874252796173  |  Lr 0.0001  |  t tensor([640, 927, 602, 603,  38, 725, 426, 831, 646,  23], device='cuda:0')\n"
     ]
    },
    {
     "name": "stdout",
     "output_type": "stream",
     "text": [
      "e24  |  b100  |  MSE 0.02153284288942814  |  Lr 0.0001  |  t tensor([815, 882, 516,  27, 155, 572,  40, 436, 868, 225], device='cuda:0')\n"
     ]
    },
    {
     "name": "stdout",
     "output_type": "stream",
     "text": [
      "e24  |  b200  |  MSE 0.00296299671754241  |  Lr 0.0001  |  t tensor([452, 542, 535, 495, 954, 684, 881, 472, 299, 825], device='cuda:0')\n"
     ]
    },
    {
     "name": "stdout",
     "output_type": "stream",
     "text": [
      "e24  |  b300  |  MSE 0.01721186377108097  |  Lr 0.0001  |  t tensor([877,  43, 104, 426, 244,  41, 463, 539, 249, 641], device='cuda:0')\n"
     ]
    },
    {
     "name": "stdout",
     "output_type": "stream",
     "text": [
      "e24  |  b400  |  MSE 0.013813355006277561  |  Lr 0.0001  |  t tensor([778, 101, 790,  47, 901, 376, 334, 883, 844, 180], device='cuda:0')\n"
     ]
    },
    {
     "name": "stdout",
     "output_type": "stream",
     "text": [
      "e24  |  b500  |  MSE 0.019011545926332474  |  Lr 0.0001  |  t tensor([148, 725, 227, 346, 793, 188,  85, 781, 106, 244], device='cuda:0')\n"
     ]
    },
    {
     "name": "stdout",
     "output_type": "stream",
     "text": [
      "e24  |  b600  |  MSE 0.004236860666424036  |  Lr 0.0001  |  t tensor([992, 449, 647, 496, 312, 777, 314, 673, 668, 657], device='cuda:0')\n"
     ]
    },
    {
     "name": "stdout",
     "output_type": "stream",
     "text": [
      "e24  |  b700  |  MSE 0.005077024456113577  |  Lr 0.0001  |  t tensor([761, 445, 508, 507, 960, 848, 507, 826, 992,  69], device='cuda:0')\n"
     ]
    },
    {
     "name": "stdout",
     "output_type": "stream",
     "text": [
      "e24  |  b800  |  MSE 0.010286371223628521  |  Lr 0.0001  |  t tensor([661, 440, 283, 683, 498, 276, 218, 719, 167, 411], device='cuda:0')\n"
     ]
    },
    {
     "name": "stdout",
     "output_type": "stream",
     "text": [
      "e24  |  b900  |  MSE 0.022969631478190422  |  Lr 0.0001  |  t tensor([ 35, 338, 212, 159, 334, 126, 466, 367, 829, 241], device='cuda:0')\n"
     ]
    },
    {
     "name": "stdout",
     "output_type": "stream",
     "text": [
      "e24  |  b1000  |  MSE 0.011052271351218224  |  Lr 0.0001  |  t tensor([523, 179, 846, 739,  77, 190, 683, 791, 668, 329], device='cuda:0')\n"
     ]
    },
    {
     "name": "stdout",
     "output_type": "stream",
     "text": [
      "e24  |  b1100  |  MSE 0.0114253219217062  |  Lr 0.0001  |  t tensor([592, 313, 373, 345, 636, 592,  17, 264, 502, 789], device='cuda:0')\n"
     ]
    },
    {
     "name": "stdout",
     "output_type": "stream",
     "text": [
      "e24  |  b1200  |  MSE 0.01818815991282463  |  Lr 0.0001  |  t tensor([482, 326, 822, 320, 319,  12, 170, 591, 528, 203], device='cuda:0')\n"
     ]
    },
    {
     "name": "stdout",
     "output_type": "stream",
     "text": [
      "e24  |  b1300  |  MSE 0.008105076849460602  |  Lr 0.0001  |  t tensor([244, 824, 350, 344, 933, 857, 173, 931, 621, 356], device='cuda:0')\n"
     ]
    },
    {
     "name": "stdout",
     "output_type": "stream",
     "text": [
      "e24  |  b1400  |  MSE 0.012133904732763767  |  Lr 0.0001  |  t tensor([309, 673, 817, 535,  44, 437, 148, 941, 606, 554], device='cuda:0')\n"
     ]
    },
    {
     "name": "stdout",
     "output_type": "stream",
     "text": [
      "e24  |  b1500  |  MSE 0.008444082923233509  |  Lr 0.0001  |  t tensor([167, 725, 622, 618, 709, 728, 144, 182, 679, 857], device='cuda:0')\n"
     ]
    },
    {
     "name": "stdout",
     "output_type": "stream",
     "text": [
      "e24  |  b1600  |  MSE 0.008937684819102287  |  Lr 0.0001  |  t tensor([790, 179, 585,  75, 661, 428, 622, 810, 504, 189], device='cuda:0')\n"
     ]
    },
    {
     "name": "stdout",
     "output_type": "stream",
     "text": [
      "e24  |  b1700  |  MSE 0.010668312199413776  |  Lr 0.0001  |  t tensor([729, 605, 632, 494, 478,  47, 348, 220, 873, 809], device='cuda:0')\n"
     ]
    },
    {
     "name": "stdout",
     "output_type": "stream",
     "text": [
      "e24  |  b1800  |  MSE 0.018032385036349297  |  Lr 0.0001  |  t tensor([731, 288, 192, 496, 606,  76,  90, 359, 210, 253], device='cuda:0')\n"
     ]
    },
    {
     "name": "stdout",
     "output_type": "stream",
     "text": [
      "e24  |  b1900  |  MSE 0.013256685808300972  |  Lr 0.0001  |  t tensor([288, 162, 341, 420, 268, 168, 483, 178, 999, 426], device='cuda:0')\n"
     ]
    },
    {
     "name": "stdout",
     "output_type": "stream",
     "text": [
      "e24  |  b2000  |  MSE 0.015857793390750885  |  Lr 0.0001  |  t tensor([321, 449, 517, 855, 192,  24, 913, 903, 251, 386], device='cuda:0')\n"
     ]
    },
    {
     "name": "stdout",
     "output_type": "stream",
     "text": [
      "e24  |  b2100  |  MSE 0.013854671269655228  |  Lr 0.0001  |  t tensor([988, 422,  81, 219, 500, 844,  92, 233, 553, 539], device='cuda:0')\n"
     ]
    },
    {
     "name": "stdout",
     "output_type": "stream",
     "text": [
      "e24  |  b2200  |  MSE 0.006473717279732227  |  Lr 0.0001  |  t tensor([632, 546, 823, 836, 373, 585, 620, 242, 198, 418], device='cuda:0')\n"
     ]
    },
    {
     "name": "stdout",
     "output_type": "stream",
     "text": [
      "e24  |  b2300  |  MSE 0.00425280025228858  |  Lr 0.0001  |  t tensor([859, 705, 817, 834, 979, 633, 358, 172, 354, 935], device='cuda:0')\n"
     ]
    },
    {
     "name": "stdout",
     "output_type": "stream",
     "text": [
      "e24  |  b2400  |  MSE 0.017153777182102203  |  Lr 0.0001  |  t tensor([365, 363, 824, 358,  55, 894, 743, 719, 277,  75], device='cuda:0')\n"
     ]
    },
    {
     "name": "stdout",
     "output_type": "stream",
     "text": [
      "e24  |  b2500  |  MSE 0.007384386379271746  |  Lr 0.0001  |  t tensor([ 80, 852, 690, 468, 866, 663, 186, 775, 674, 652], device='cuda:0')\n"
     ]
    },
    {
     "name": "stdout",
     "output_type": "stream",
     "text": [
      "e24  |  b2600  |  MSE 0.012468364089727402  |  Lr 0.0001  |  t tensor([668, 910, 913,  27, 246, 429,  65, 966, 711, 973], device='cuda:0')\n"
     ]
    },
    {
     "name": "stdout",
     "output_type": "stream",
     "text": [
      "e24  |  b2700  |  MSE 0.0029935375787317753  |  Lr 0.0001  |  t tensor([507, 799, 338, 674, 970, 601, 885, 518, 933, 213], device='cuda:0')\n"
     ]
    },
    {
     "name": "stdout",
     "output_type": "stream",
     "text": [
      "e24  |  b2800  |  MSE 0.016660526394844055  |  Lr 0.0001  |  t tensor([999,  18, 230, 213, 978, 853, 450, 360, 296, 734], device='cuda:0')\n"
     ]
    },
    {
     "name": "stdout",
     "output_type": "stream",
     "text": [
      "e24  |  b2900  |  MSE 0.005794951226562262  |  Lr 0.0001  |  t tensor([430, 808, 652, 139, 551, 451, 939, 702, 830, 494], device='cuda:0')\n"
     ]
    },
    {
     "name": "stdout",
     "output_type": "stream",
     "text": [
      "e24  |  b3000  |  MSE 0.010686882771551609  |  Lr 0.0001  |  t tensor([272, 700, 964, 471, 747, 986,  71, 382, 529, 795], device='cuda:0')\n"
     ]
    },
    {
     "name": "stdout",
     "output_type": "stream",
     "text": [
      "e24  |  b3100  |  MSE 0.03522784262895584  |  Lr 0.0001  |  t tensor([264, 150,  53,  93, 257, 118,  19, 956,  44, 278], device='cuda:0')\n"
     ]
    },
    {
     "name": "stdout",
     "output_type": "stream",
     "text": [
      "e24  |  b3200  |  MSE 0.008336059749126434  |  Lr 0.0001  |  t tensor([794, 160, 306, 467, 372, 565, 879, 455, 297, 958], device='cuda:0')\n"
     ]
    },
    {
     "name": "stdout",
     "output_type": "stream",
     "text": [
      "e24  |  b3300  |  MSE 0.013910197652876377  |  Lr 0.0001  |  t tensor([863, 368, 963, 535, 739, 241, 557, 194,  40, 174], device='cuda:0')\n"
     ]
    },
    {
     "name": "stdout",
     "output_type": "stream",
     "text": [
      "e24  |  b3400  |  MSE 0.006503210868686438  |  Lr 0.0001  |  t tensor([712, 794, 710, 691, 611, 987, 691, 112, 415, 629], device='cuda:0')\n"
     ]
    },
    {
     "name": "stdout",
     "output_type": "stream",
     "text": [
      "e24  |  b3500  |  MSE 0.06865189969539642  |  Lr 0.0001  |  t tensor([ 15,  80,  18,   1,  76, 602,  20, 216, 576, 627], device='cuda:0')\n"
     ]
    },
    {
     "name": "stdout",
     "output_type": "stream",
     "text": [
      "e24  |  b3600  |  MSE 0.0047220769338309765  |  Lr 0.0001  |  t tensor([720, 734, 599, 285, 789, 254, 608, 407, 387, 476], device='cuda:0')\n"
     ]
    },
    {
     "name": "stdout",
     "output_type": "stream",
     "text": [
      "e24  |  b3700  |  MSE 0.021206803619861603  |  Lr 0.0001  |  t tensor([287, 118, 260, 807, 234, 164,  67, 308,  81, 333], device='cuda:0')\n"
     ]
    },
    {
     "name": "stdout",
     "output_type": "stream",
     "text": [
      "e24  |  b3800  |  MSE 0.006930042058229446  |  Lr 0.0001  |  t tensor([328, 194, 941, 952, 918, 823, 102, 470, 806, 576], device='cuda:0')\n"
     ]
    },
    {
     "name": "stdout",
     "output_type": "stream",
     "text": [
      "e24  |  b3900  |  MSE 0.012443146668374538  |  Lr 0.0001  |  t tensor([453, 375, 325, 816,  72, 367, 154, 521, 625, 211], device='cuda:0')\n"
     ]
    },
    {
     "name": "stdout",
     "output_type": "stream",
     "text": [
      "e24  |  b4000  |  MSE 0.009849651716649532  |  Lr 0.0001  |  t tensor([748, 914,  77, 651, 608, 314, 798, 732, 433, 818], device='cuda:0')\n"
     ]
    },
    {
     "name": "stdout",
     "output_type": "stream",
     "text": [
      "e24  |  b4100  |  MSE 0.011755820363759995  |  Lr 0.0001  |  t tensor([422,  53, 642, 688, 675,  37, 744, 831, 760, 162], device='cuda:0')\n"
     ]
    },
    {
     "name": "stdout",
     "output_type": "stream",
     "text": [
      "e24  |  b4200  |  MSE 0.02235921286046505  |  Lr 0.0001  |  t tensor([588, 873,  71, 326, 555, 502, 979, 817,  10, 669], device='cuda:0')\n"
     ]
    },
    {
     "name": "stdout",
     "output_type": "stream",
     "text": [
      "e24  |  b4300  |  MSE 0.006622211076319218  |  Lr 0.0001  |  t tensor([869, 933, 659, 292,  50, 575, 953, 497, 737, 438], device='cuda:0')\n"
     ]
    },
    {
     "name": "stdout",
     "output_type": "stream",
     "text": [
      "e24  |  b4400  |  MSE 0.03272424638271332  |  Lr 0.0001  |  t tensor([888, 534,  43, 936,   2, 463, 389, 219, 749, 541], device='cuda:0')\n"
     ]
    },
    {
     "name": "stdout",
     "output_type": "stream",
     "text": [
      "e24  |  b4500  |  MSE 0.020279547199606895  |  Lr 0.0001  |  t tensor([ 18, 104, 881, 244, 470, 252, 935, 516, 132, 642], device='cuda:0')\n"
     ]
    },
    {
     "name": "stdout",
     "output_type": "stream",
     "text": [
      "e24  |  b4600  |  MSE 0.03276019170880318  |  Lr 0.0001  |  t tensor([726, 209, 510, 571, 580,   7, 561,   5, 390, 704], device='cuda:0')\n"
     ]
    },
    {
     "name": "stdout",
     "output_type": "stream",
     "text": [
      "e24  |  b4700  |  MSE 0.015144500881433487  |  Lr 0.0001  |  t tensor([868, 194, 910, 665, 290, 672, 533, 707, 433,  12], device='cuda:0')\n"
     ]
    },
    {
     "name": "stdout",
     "output_type": "stream",
     "text": [
      "e24  |  b4800  |  MSE 0.024577317759394646  |  Lr 0.0001  |  t tensor([ 86, 986, 422, 465, 957,  14, 452,  43, 311,  82], device='cuda:0')\n"
     ]
    },
    {
     "name": "stdout",
     "output_type": "stream",
     "text": [
      "e24  |  b4900  |  MSE 0.013468890450894833  |  Lr 0.0001  |  t tensor([253,  72, 327, 113, 696, 308, 669, 352, 658, 979], device='cuda:0')\n"
     ]
    },
    {
     "name": "stdout",
     "output_type": "stream",
     "text": [
      "Epoch 24 loss: 0.013221328011597507\n"
     ]
    },
    {
     "data": {
      "application/vnd.jupyter.widget-view+json": {
       "model_id": "968f2fb5184143f8b602a2fadd0ef949",
       "version_major": 2,
       "version_minor": 0
      },
      "text/plain": [
       "  0%|          | 0/5000 [00:00<?, ?it/s]"
      ]
     },
     "metadata": {},
     "output_type": "display_data"
    },
    {
     "name": "stdout",
     "output_type": "stream",
     "text": [
      "e25  |  b0  |  MSE 0.010782385244965553  |  Lr 0.0001  |  t tensor([792, 416, 531, 780, 953, 999,  87, 934,  98, 695], device='cuda:0')\n"
     ]
    },
    {
     "name": "stdout",
     "output_type": "stream",
     "text": [
      "e25  |  b100  |  MSE 0.008577609434723854  |  Lr 0.0001  |  t tensor([988, 480, 370, 640, 926, 707, 300, 202, 144, 952], device='cuda:0')\n"
     ]
    },
    {
     "name": "stdout",
     "output_type": "stream",
     "text": [
      "e25  |  b200  |  MSE 0.02046164870262146  |  Lr 0.0001  |  t tensor([846, 197, 510, 119, 286, 879,  13, 880, 539, 283], device='cuda:0')\n"
     ]
    },
    {
     "name": "stdout",
     "output_type": "stream",
     "text": [
      "e25  |  b300  |  MSE 0.007316898554563522  |  Lr 0.0001  |  t tensor([803, 567, 568, 108, 965, 565, 378, 332, 453,  83], device='cuda:0')\n"
     ]
    },
    {
     "name": "stdout",
     "output_type": "stream",
     "text": [
      "e25  |  b400  |  MSE 0.025718316435813904  |  Lr 0.0001  |  t tensor([436, 972,  21, 609, 413, 942, 421,  84, 858,  30], device='cuda:0')\n"
     ]
    },
    {
     "name": "stdout",
     "output_type": "stream",
     "text": [
      "e25  |  b500  |  MSE 0.004523677285760641  |  Lr 0.0001  |  t tensor([496, 926, 173, 463, 592, 654, 301, 525, 619, 767], device='cuda:0')\n"
     ]
    },
    {
     "name": "stdout",
     "output_type": "stream",
     "text": [
      "e25  |  b600  |  MSE 0.007488742470741272  |  Lr 0.0001  |  t tensor([ 61, 522, 234, 547, 213, 923, 777, 672, 807, 836], device='cuda:0')\n"
     ]
    },
    {
     "name": "stdout",
     "output_type": "stream",
     "text": [
      "e25  |  b700  |  MSE 0.022492192685604095  |  Lr 0.0001  |  t tensor([701, 797,  78,  10, 373, 742, 681, 692, 638, 697], device='cuda:0')\n"
     ]
    },
    {
     "name": "stdout",
     "output_type": "stream",
     "text": [
      "e25  |  b800  |  MSE 0.01096617616713047  |  Lr 0.0001  |  t tensor([731,  96,  55, 191, 594, 899, 786, 921, 297, 742], device='cuda:0')\n"
     ]
    },
    {
     "name": "stdout",
     "output_type": "stream",
     "text": [
      "e25  |  b900  |  MSE 0.0056349290534853935  |  Lr 0.0001  |  t tensor([777, 358, 328, 317, 905, 636, 996, 588, 543, 537], device='cuda:0')\n"
     ]
    },
    {
     "name": "stdout",
     "output_type": "stream",
     "text": [
      "e25  |  b1000  |  MSE 0.009575371630489826  |  Lr 0.0001  |  t tensor([553, 539, 336, 695, 586, 511, 673, 182, 100, 207], device='cuda:0')\n"
     ]
    },
    {
     "name": "stdout",
     "output_type": "stream",
     "text": [
      "e25  |  b1100  |  MSE 0.028868135064840317  |  Lr 0.0001  |  t tensor([ 78,  97, 977, 540, 922, 786,  53,  11, 120,  38], device='cuda:0')\n"
     ]
    },
    {
     "name": "stdout",
     "output_type": "stream",
     "text": [
      "e25  |  b1200  |  MSE 0.014244252815842628  |  Lr 0.0001  |  t tensor([946, 999, 363,  39, 621, 167, 825, 697, 207, 656], device='cuda:0')\n"
     ]
    },
    {
     "name": "stdout",
     "output_type": "stream",
     "text": [
      "e25  |  b1300  |  MSE 0.008222299627959728  |  Lr 0.0001  |  t tensor([733, 263, 868, 818, 344, 181, 204, 368, 681, 999], device='cuda:0')\n"
     ]
    },
    {
     "name": "stdout",
     "output_type": "stream",
     "text": [
      "e25  |  b1400  |  MSE 0.0050081186927855015  |  Lr 0.0001  |  t tensor([744, 736, 652, 897, 617, 169, 123, 417, 650, 588], device='cuda:0')\n"
     ]
    },
    {
     "name": "stdout",
     "output_type": "stream",
     "text": [
      "e25  |  b1500  |  MSE 0.006209261249750853  |  Lr 0.0001  |  t tensor([197, 283, 773, 751, 720, 331, 277, 763, 409, 387], device='cuda:0')\n"
     ]
    },
    {
     "name": "stdout",
     "output_type": "stream",
     "text": [
      "e25  |  b1600  |  MSE 0.02158082276582718  |  Lr 0.0001  |  t tensor([207, 829, 820,  28, 483, 905, 904, 931, 122, 107], device='cuda:0')\n"
     ]
    },
    {
     "name": "stdout",
     "output_type": "stream",
     "text": [
      "e25  |  b1700  |  MSE 0.013838258571922779  |  Lr 0.0001  |  t tensor([476, 543,  21, 504, 137, 417, 694, 720, 966,  82], device='cuda:0')\n"
     ]
    },
    {
     "name": "stdout",
     "output_type": "stream",
     "text": [
      "e25  |  b1800  |  MSE 0.019616354256868362  |  Lr 0.0001  |  t tensor([232,  99, 470,  18, 843, 884, 492, 227, 248, 756], device='cuda:0')\n"
     ]
    },
    {
     "name": "stdout",
     "output_type": "stream",
     "text": [
      "e25  |  b1900  |  MSE 0.013522780500352383  |  Lr 0.0001  |  t tensor([433, 732,  84, 431, 604, 656,  66, 536, 495, 418], device='cuda:0')\n"
     ]
    },
    {
     "name": "stdout",
     "output_type": "stream",
     "text": [
      "e25  |  b2000  |  MSE 0.003728499636054039  |  Lr 0.0001  |  t tensor([757, 263, 605, 585, 675, 996, 560, 411, 402, 782], device='cuda:0')\n"
     ]
    },
    {
     "name": "stdout",
     "output_type": "stream",
     "text": [
      "e25  |  b2100  |  MSE 0.0020351093262434006  |  Lr 0.0001  |  t tensor([883, 742, 349, 620, 855, 775, 974, 951, 788, 997], device='cuda:0')\n"
     ]
    },
    {
     "name": "stdout",
     "output_type": "stream",
     "text": [
      "e25  |  b2200  |  MSE 0.01004549115896225  |  Lr 0.0001  |  t tensor([187, 146, 906, 188, 467, 872, 571, 647, 574, 852], device='cuda:0')\n"
     ]
    },
    {
     "name": "stdout",
     "output_type": "stream",
     "text": [
      "e25  |  b2300  |  MSE 0.017662500962615013  |  Lr 0.0001  |  t tensor([988, 318, 110, 639,  68, 797, 132, 829, 337,  94], device='cuda:0')\n"
     ]
    },
    {
     "name": "stdout",
     "output_type": "stream",
     "text": [
      "e25  |  b2400  |  MSE 0.015020182356238365  |  Lr 0.0001  |  t tensor([841, 317, 349, 628,  37, 106, 990, 415, 578, 667], device='cuda:0')\n"
     ]
    },
    {
     "name": "stdout",
     "output_type": "stream",
     "text": [
      "e25  |  b2500  |  MSE 0.015821045264601707  |  Lr 0.0001  |  t tensor([888, 486, 684, 193, 580,  25, 742, 864, 624, 924], device='cuda:0')\n"
     ]
    },
    {
     "name": "stdout",
     "output_type": "stream",
     "text": [
      "e25  |  b2600  |  MSE 0.016246112063527107  |  Lr 0.0001  |  t tensor([518,  36, 745, 601, 927, 252,  73, 942, 120, 862], device='cuda:0')\n"
     ]
    },
    {
     "name": "stdout",
     "output_type": "stream",
     "text": [
      "e25  |  b2700  |  MSE 0.008723549544811249  |  Lr 0.0001  |  t tensor([698, 165, 590, 287, 446, 229, 497, 884, 418, 777], device='cuda:0')\n"
     ]
    },
    {
     "name": "stdout",
     "output_type": "stream",
     "text": [
      "e25  |  b2800  |  MSE 0.01637282408773899  |  Lr 0.0001  |  t tensor([839, 481, 634, 235, 142, 160, 592,  99, 170, 303], device='cuda:0')\n"
     ]
    },
    {
     "name": "stdout",
     "output_type": "stream",
     "text": [
      "e25  |  b2900  |  MSE 0.019055387005209923  |  Lr 0.0001  |  t tensor([105,  44, 638, 863, 651, 223,  35, 404, 645, 166], device='cuda:0')\n"
     ]
    },
    {
     "name": "stdout",
     "output_type": "stream",
     "text": [
      "e25  |  b3000  |  MSE 0.028316842392086983  |  Lr 0.0001  |  t tensor([924, 380, 277,  63, 165, 103, 166, 835,  37, 454], device='cuda:0')\n"
     ]
    },
    {
     "name": "stdout",
     "output_type": "stream",
     "text": [
      "e25  |  b3100  |  MSE 0.011512636207044125  |  Lr 0.0001  |  t tensor([757, 913, 568, 839, 520, 872, 809,  33, 435, 154], device='cuda:0')\n"
     ]
    },
    {
     "name": "stdout",
     "output_type": "stream",
     "text": [
      "e25  |  b3200  |  MSE 0.006467781960964203  |  Lr 0.0001  |  t tensor([840, 260, 380, 425, 906, 627, 333, 768, 218, 597], device='cuda:0')\n"
     ]
    },
    {
     "name": "stdout",
     "output_type": "stream",
     "text": [
      "e25  |  b3300  |  MSE 0.0072035049088299274  |  Lr 0.0001  |  t tensor([770, 974, 538, 501, 787, 399, 554, 518, 738,  77], device='cuda:0')\n"
     ]
    },
    {
     "name": "stdout",
     "output_type": "stream",
     "text": [
      "e25  |  b3400  |  MSE 0.008265591226518154  |  Lr 0.0001  |  t tensor([750, 350, 328, 300, 750, 185, 213, 266, 529, 727], device='cuda:0')\n"
     ]
    },
    {
     "name": "stdout",
     "output_type": "stream",
     "text": [
      "e25  |  b3500  |  MSE 0.004706214647740126  |  Lr 0.0001  |  t tensor([974, 232, 794, 625, 571, 398, 813, 489, 384, 332], device='cuda:0')\n"
     ]
    },
    {
     "name": "stdout",
     "output_type": "stream",
     "text": [
      "e25  |  b3600  |  MSE 0.011081678792834282  |  Lr 0.0001  |  t tensor([239, 796, 760, 862, 161, 964,  45, 643, 895, 427], device='cuda:0')\n"
     ]
    },
    {
     "name": "stdout",
     "output_type": "stream",
     "text": [
      "e25  |  b3700  |  MSE 0.013582472689449787  |  Lr 0.0001  |  t tensor([ 23, 348, 633, 550, 238, 609, 380, 461, 988, 817], device='cuda:0')\n"
     ]
    },
    {
     "name": "stdout",
     "output_type": "stream",
     "text": [
      "e25  |  b3800  |  MSE 0.005862697958946228  |  Lr 0.0001  |  t tensor([744, 925, 618, 788, 154, 511, 486, 322, 902, 969], device='cuda:0')\n"
     ]
    },
    {
     "name": "stdout",
     "output_type": "stream",
     "text": [
      "e25  |  b3900  |  MSE 0.013083790428936481  |  Lr 0.0001  |  t tensor([268,  57, 744, 705, 604, 635, 927, 589, 255, 177], device='cuda:0')\n"
     ]
    },
    {
     "name": "stdout",
     "output_type": "stream",
     "text": [
      "e25  |  b4000  |  MSE 0.007455241866409779  |  Lr 0.0001  |  t tensor([733, 479, 785, 626, 360, 958, 847, 721, 332,  88], device='cuda:0')\n"
     ]
    },
    {
     "name": "stdout",
     "output_type": "stream",
     "text": [
      "e25  |  b4100  |  MSE 0.010260052047669888  |  Lr 0.0001  |  t tensor([279, 143, 588, 344, 713, 311, 715, 535, 227, 357], device='cuda:0')\n"
     ]
    },
    {
     "name": "stdout",
     "output_type": "stream",
     "text": [
      "e25  |  b4200  |  MSE 0.012484918348491192  |  Lr 0.0001  |  t tensor([799,  67, 233, 335, 897, 719, 546, 211, 814, 973], device='cuda:0')\n"
     ]
    },
    {
     "name": "stdout",
     "output_type": "stream",
     "text": [
      "e25  |  b4300  |  MSE 0.018073949962854385  |  Lr 0.0001  |  t tensor([113,  18, 744, 347, 189, 423, 638, 172, 370, 467], device='cuda:0')\n"
     ]
    },
    {
     "name": "stdout",
     "output_type": "stream",
     "text": [
      "e25  |  b4400  |  MSE 0.00968528538942337  |  Lr 0.0001  |  t tensor([224, 150, 290, 687, 249, 860, 727, 278, 675, 951], device='cuda:0')\n"
     ]
    },
    {
     "name": "stdout",
     "output_type": "stream",
     "text": [
      "e25  |  b4500  |  MSE 0.028973791748285294  |  Lr 0.0001  |  t tensor([579, 285,  26,  18, 228,  44, 476, 777,  73, 804], device='cuda:0')\n"
     ]
    },
    {
     "name": "stdout",
     "output_type": "stream",
     "text": [
      "e25  |  b4600  |  MSE 0.01914956606924534  |  Lr 0.0001  |  t tensor([108, 553, 429, 245, 837, 643,  59, 443,  45, 532], device='cuda:0')\n"
     ]
    },
    {
     "name": "stdout",
     "output_type": "stream",
     "text": [
      "e25  |  b4700  |  MSE 0.013515384867787361  |  Lr 0.0001  |  t tensor([982, 281, 379,  84, 635,  37, 539, 924, 587, 204], device='cuda:0')\n"
     ]
    },
    {
     "name": "stdout",
     "output_type": "stream",
     "text": [
      "e25  |  b4800  |  MSE 0.013447265140712261  |  Lr 0.0001  |  t tensor([358,  32, 204,  99, 145, 541, 956, 919, 504, 808], device='cuda:0')\n"
     ]
    },
    {
     "name": "stdout",
     "output_type": "stream",
     "text": [
      "e25  |  b4900  |  MSE 0.029197193682193756  |  Lr 0.0001  |  t tensor([236, 822,  16, 488, 806, 126, 383,  27, 359,  80], device='cuda:0')\n"
     ]
    },
    {
     "name": "stdout",
     "output_type": "stream",
     "text": [
      "Epoch 25 loss: 0.013179058092064225\n"
     ]
    },
    {
     "data": {
      "application/vnd.jupyter.widget-view+json": {
       "model_id": "062b595ce0bd48a7a1dc696c3081b305",
       "version_major": 2,
       "version_minor": 0
      },
      "text/plain": [
       "  0%|          | 0/5000 [00:00<?, ?it/s]"
      ]
     },
     "metadata": {},
     "output_type": "display_data"
    },
    {
     "name": "stdout",
     "output_type": "stream",
     "text": [
      "e26  |  b0  |  MSE 0.009852169081568718  |  Lr 0.0001  |  t tensor([207, 829, 171, 175, 582, 309, 639, 549, 984, 794], device='cuda:0')\n"
     ]
    },
    {
     "name": "stdout",
     "output_type": "stream",
     "text": [
      "e26  |  b100  |  MSE 0.0059287152253091335  |  Lr 0.0001  |  t tensor([906, 508, 283, 374, 915, 190, 239, 509, 757, 634], device='cuda:0')\n"
     ]
    },
    {
     "name": "stdout",
     "output_type": "stream",
     "text": [
      "e26  |  b200  |  MSE 0.010226303711533546  |  Lr 0.0001  |  t tensor([208, 200, 359, 279, 998, 473, 516, 184, 493, 557], device='cuda:0')\n"
     ]
    },
    {
     "name": "stdout",
     "output_type": "stream",
     "text": [
      "e26  |  b300  |  MSE 0.008720461279153824  |  Lr 0.0001  |  t tensor([389, 611, 781,  87, 464, 669, 591, 591, 600, 129], device='cuda:0')\n"
     ]
    },
    {
     "name": "stdout",
     "output_type": "stream",
     "text": [
      "e26  |  b400  |  MSE 0.00441083125770092  |  Lr 0.0001  |  t tensor([835, 690, 750, 258, 170, 859, 768, 562, 777, 517], device='cuda:0')\n"
     ]
    },
    {
     "name": "stdout",
     "output_type": "stream",
     "text": [
      "e26  |  b500  |  MSE 0.028864992782473564  |  Lr 0.0001  |  t tensor([155, 242,  92, 592, 317, 611, 110,  36,  50,  78], device='cuda:0')\n"
     ]
    }
   ],
   "source": [
    "launch()"
   ]
  }
 ],
 "metadata": {
  "kernelspec": {
   "display_name": "Python 3",
   "language": "python",
   "name": "python3"
  },
  "language_info": {
   "codemirror_mode": {
    "name": "ipython",
    "version": 3
   },
   "file_extension": ".py",
   "mimetype": "text/x-python",
   "name": "python",
   "nbconvert_exporter": "python",
   "pygments_lexer": "ipython3",
   "version": "3.6.4"
  },
  "papermill": {
   "default_parameters": {},
   "duration": null,
   "end_time": null,
   "environment_variables": {},
   "exception": null,
   "input_path": "__notebook__.ipynb",
   "output_path": "__notebook__.ipynb",
   "parameters": {},
   "start_time": "2023-05-27T06:42:51.167401",
   "version": "2.4.0"
  }
 },
 "nbformat": 4,
 "nbformat_minor": 5
}