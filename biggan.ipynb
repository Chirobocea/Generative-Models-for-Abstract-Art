{
 "cells": [
  {
   "cell_type": "code",
   "execution_count": 1,
   "id": "23c0dd30",
   "metadata": {
    "_cell_guid": "b1076dfc-b9ad-4769-8c92-a6c4dae69d19",
    "_uuid": "8f2839f25d086af736a60e9eeb907d3b93b6e0e5",
    "execution": {
     "iopub.execute_input": "2023-05-15T07:08:23.692586Z",
     "iopub.status.busy": "2023-05-15T07:08:23.691825Z"
    },
    "papermill": {
     "duration": null,
     "end_time": null,
     "exception": false,
     "start_time": "2023-05-15T07:08:23.688502",
     "status": "running"
    },
    "tags": []
   },
   "outputs": [
    {
     "name": "stdout",
     "output_type": "stream",
     "text": [
      "Namespace(model='sagan', adv_loss='hinge', imsize=128, g_num=5, chn=64, z_dim=120, g_conv_dim=64, d_conv_dim=64, lambda_gp=10, version='abstract3', total_step=1000000, d_iters=5, batch_size=32, num_workers=12, g_lr=0.0001, d_lr=0.0004, lr_decay=0.95, beta1=0.0, beta2=0.9, pretrained_model=112464, train=True, parallel=True, gpus='0, 1', dataset='abstract', use_tensorboard=True, image_path='/kaggle/input/abstract-37k/Abstract-jpg/Train', log_path='./logs', model_save_path='./models', sample_path='./samples', attn_path='./attn', log_step=10, sample_step=1000, model_save_step=2)\r\n",
      "number class: 1\r\n",
      "config data_loader and build logs folder\r\n"
     ]
    },
    {
     "name": "stdout",
     "output_type": "stream",
     "text": [
      "dataset 25000\r\n"
     ]
    },
    {
     "name": "stdout",
     "output_type": "stream",
     "text": [
      "build_model...\r\n"
     ]
    },
    {
     "name": "stdout",
     "output_type": "stream",
     "text": [
      "use parallel...\r\n",
      "gpuids  0, 1\r\n",
      "DataParallel(\r\n",
      "  (module): Generator(\r\n",
      "    (linear): SpectralNorm(\r\n",
      "      (module): Linear(in_features=1, out_features=128, bias=False)\r\n",
      "    )\r\n",
      "    (G_linear): SpectralNorm(\r\n",
      "      (module): Linear(in_features=20, out_features=16384, bias=True)\r\n",
      "    )\r\n",
      "    (conv): ModuleList(\r\n",
      "      (0): GBlock(\r\n",
      "        (conv0): SpectralNorm(\r\n",
      "          (module): Conv2d(1024, 1024, kernel_size=(3, 3), stride=(1, 1), padding=(1, 1))\r\n",
      "        )\r\n",
      "        (conv1): SpectralNorm(\r\n",
      "          (module): Conv2d(1024, 1024, kernel_size=(3, 3), stride=(1, 1), padding=(1, 1))\r\n",
      "        )\r\n",
      "        (conv_sc): SpectralNorm(\r\n",
      "          (module): Conv2d(1024, 1024, kernel_size=(1, 1), stride=(1, 1))\r\n",
      "        )\r\n",
      "        (HyperBN): ConditionalNorm(\r\n",
      "          (bn): BatchNorm2d(1024, eps=1e-05, momentum=0.1, affine=False, track_running_stats=True)\r\n",
      "          (embed): Linear(in_features=148, out_features=2048, bias=True)\r\n",
      "        )\r\n",
      "        (HyperBN_1): ConditionalNorm(\r\n",
      "          (bn): BatchNorm2d(1024, eps=1e-05, momentum=0.1, affine=False, track_running_stats=True)\r\n",
      "          (embed): Linear(in_features=148, out_features=2048, bias=True)\r\n",
      "        )\r\n",
      "      )\r\n",
      "      (1): GBlock(\r\n",
      "        (conv0): SpectralNorm(\r\n",
      "          (module): Conv2d(1024, 512, kernel_size=(3, 3), stride=(1, 1), padding=(1, 1))\r\n",
      "        )\r\n",
      "        (conv1): SpectralNorm(\r\n",
      "          (module): Conv2d(512, 512, kernel_size=(3, 3), stride=(1, 1), padding=(1, 1))\r\n",
      "        )\r\n",
      "        (conv_sc): SpectralNorm(\r\n",
      "          (module): Conv2d(1024, 512, kernel_size=(1, 1), stride=(1, 1))\r\n",
      "        )\r\n",
      "        (HyperBN): ConditionalNorm(\r\n",
      "          (bn): BatchNorm2d(1024, eps=1e-05, momentum=0.1, affine=False, track_running_stats=True)\r\n",
      "          (embed): Linear(in_features=148, out_features=2048, bias=True)\r\n",
      "        )\r\n",
      "        (HyperBN_1): ConditionalNorm(\r\n",
      "          (bn): BatchNorm2d(512, eps=1e-05, momentum=0.1, affine=False, track_running_stats=True)\r\n",
      "          (embed): Linear(in_features=148, out_features=1024, bias=True)\r\n",
      "        )\r\n",
      "      )\r\n",
      "      (2): GBlock(\r\n",
      "        (conv0): SpectralNorm(\r\n",
      "          (module): Conv2d(512, 256, kernel_size=(3, 3), stride=(1, 1), padding=(1, 1))\r\n",
      "        )\r\n",
      "        (conv1): SpectralNorm(\r\n",
      "          (module): Conv2d(256, 256, kernel_size=(3, 3), stride=(1, 1), padding=(1, 1))\r\n",
      "        )\r\n",
      "        (conv_sc): SpectralNorm(\r\n",
      "          (module): Conv2d(512, 256, kernel_size=(1, 1), stride=(1, 1))\r\n",
      "        )\r\n",
      "        (HyperBN): ConditionalNorm(\r\n",
      "          (bn): BatchNorm2d(512, eps=1e-05, momentum=0.1, affine=False, track_running_stats=True)\r\n",
      "          (embed): Linear(in_features=148, out_features=1024, bias=True)\r\n",
      "        )\r\n",
      "        (HyperBN_1): ConditionalNorm(\r\n",
      "          (bn): BatchNorm2d(256, eps=1e-05, momentum=0.1, affine=False, track_running_stats=True)\r\n",
      "          (embed): Linear(in_features=148, out_features=512, bias=True)\r\n",
      "        )\r\n",
      "      )\r\n",
      "      (3): GBlock(\r\n",
      "        (conv0): SpectralNorm(\r\n",
      "          (module): Conv2d(256, 128, kernel_size=(3, 3), stride=(1, 1), padding=(1, 1))\r\n",
      "        )\r\n",
      "        (conv1): SpectralNorm(\r\n",
      "          (module): Conv2d(128, 128, kernel_size=(3, 3), stride=(1, 1), padding=(1, 1))\r\n",
      "        )\r\n",
      "        (conv_sc): SpectralNorm(\r\n",
      "          (module): Conv2d(256, 128, kernel_size=(1, 1), stride=(1, 1))\r\n",
      "        )\r\n",
      "        (HyperBN): ConditionalNorm(\r\n",
      "          (bn): BatchNorm2d(256, eps=1e-05, momentum=0.1, affine=False, track_running_stats=True)\r\n",
      "          (embed): Linear(in_features=148, out_features=512, bias=True)\r\n",
      "        )\r\n",
      "        (HyperBN_1): ConditionalNorm(\r\n",
      "          (bn): BatchNorm2d(128, eps=1e-05, momentum=0.1, affine=False, track_running_stats=True)\r\n",
      "          (embed): Linear(in_features=148, out_features=256, bias=True)\r\n",
      "        )\r\n",
      "      )\r\n",
      "      (4): SelfAttention(\r\n",
      "        (query_conv): Conv2d(128, 16, kernel_size=(1, 1), stride=(1, 1))\r\n",
      "        (key_conv): Conv2d(128, 16, kernel_size=(1, 1), stride=(1, 1))\r\n",
      "        (value_conv): Conv2d(128, 128, kernel_size=(1, 1), stride=(1, 1))\r\n",
      "        (softmax): Softmax(dim=-1)\r\n",
      "      )\r\n",
      "      (5): GBlock(\r\n",
      "        (conv0): SpectralNorm(\r\n",
      "          (module): Conv2d(128, 64, kernel_size=(3, 3), stride=(1, 1), padding=(1, 1))\r\n",
      "        )\r\n",
      "        (conv1): SpectralNorm(\r\n",
      "          (module): Conv2d(64, 64, kernel_size=(3, 3), stride=(1, 1), padding=(1, 1))\r\n",
      "        )\r\n",
      "        (conv_sc): SpectralNorm(\r\n",
      "          (module): Conv2d(128, 64, kernel_size=(1, 1), stride=(1, 1))\r\n",
      "        )\r\n",
      "        (HyperBN): ConditionalNorm(\r\n",
      "          (bn): BatchNorm2d(128, eps=1e-05, momentum=0.1, affine=False, track_running_stats=True)\r\n",
      "          (embed): Linear(in_features=148, out_features=256, bias=True)\r\n",
      "        )\r\n",
      "        (HyperBN_1): ConditionalNorm(\r\n",
      "          (bn): BatchNorm2d(64, eps=1e-05, momentum=0.1, affine=False, track_running_stats=True)\r\n",
      "          (embed): Linear(in_features=148, out_features=128, bias=True)\r\n",
      "        )\r\n",
      "      )\r\n",
      "    )\r\n",
      "    (ScaledCrossReplicaBN): ScaledCrossReplicaBatchNorm2d(64, eps=1e-05, momentum=0.1, affine=True, track_running_stats=True)\r\n",
      "    (colorize): SpectralNorm(\r\n",
      "      (module): Conv2d(64, 3, kernel_size=(3, 3), stride=(1, 1), padding=(1, 1))\r\n",
      "    )\r\n",
      "  )\r\n",
      ")\r\n",
      "DataParallel(\r\n",
      "  (module): Discriminator(\r\n",
      "    (pre_conv): Sequential(\r\n",
      "      (0): SpectralNorm(\r\n",
      "        (module): Conv2d(3, 64, kernel_size=(3, 3), stride=(1, 1), padding=(1, 1))\r\n",
      "      )\r\n",
      "      (1): ReLU()\r\n",
      "      (2): SpectralNorm(\r\n",
      "        (module): Conv2d(64, 64, kernel_size=(3, 3), stride=(1, 1), padding=(1, 1))\r\n",
      "      )\r\n",
      "      (3): AvgPool2d(kernel_size=2, stride=2, padding=0)\r\n",
      "    )\r\n",
      "    (pre_skip): SpectralNorm(\r\n",
      "      (module): Conv2d(3, 64, kernel_size=(1, 1), stride=(1, 1))\r\n",
      "    )\r\n",
      "    (conv): Sequential(\r\n",
      "      (0): GBlock(\r\n",
      "        (conv0): SpectralNorm(\r\n",
      "          (module): Conv2d(64, 64, kernel_size=(3, 3), stride=(1, 1), padding=(1, 1))\r\n",
      "        )\r\n",
      "        (conv1): SpectralNorm(\r\n",
      "          (module): Conv2d(64, 64, kernel_size=(3, 3), stride=(1, 1), padding=(1, 1))\r\n",
      "        )\r\n",
      "        (conv_sc): SpectralNorm(\r\n",
      "          (module): Conv2d(64, 64, kernel_size=(1, 1), stride=(1, 1))\r\n",
      "        )\r\n",
      "      )\r\n",
      "      (1): SelfAttention(\r\n",
      "        (query_conv): Conv2d(64, 8, kernel_size=(1, 1), stride=(1, 1))\r\n",
      "        (key_conv): Conv2d(64, 8, kernel_size=(1, 1), stride=(1, 1))\r\n",
      "        (value_conv): Conv2d(64, 64, kernel_size=(1, 1), stride=(1, 1))\r\n",
      "        (softmax): Softmax(dim=-1)\r\n",
      "      )\r\n",
      "      (2): GBlock(\r\n",
      "        (conv0): SpectralNorm(\r\n",
      "          (module): Conv2d(64, 128, kernel_size=(3, 3), stride=(1, 1), padding=(1, 1))\r\n",
      "        )\r\n",
      "        (conv1): SpectralNorm(\r\n",
      "          (module): Conv2d(128, 128, kernel_size=(3, 3), stride=(1, 1), padding=(1, 1))\r\n",
      "        )\r\n",
      "        (conv_sc): SpectralNorm(\r\n",
      "          (module): Conv2d(64, 128, kernel_size=(1, 1), stride=(1, 1))\r\n",
      "        )\r\n",
      "      )\r\n",
      "      (3): GBlock(\r\n",
      "        (conv0): SpectralNorm(\r\n",
      "          (module): Conv2d(128, 256, kernel_size=(3, 3), stride=(1, 1), padding=(1, 1))\r\n",
      "        )\r\n",
      "        (conv1): SpectralNorm(\r\n",
      "          (module): Conv2d(256, 256, kernel_size=(3, 3), stride=(1, 1), padding=(1, 1))\r\n",
      "        )\r\n",
      "        (conv_sc): SpectralNorm(\r\n",
      "          (module): Conv2d(128, 256, kernel_size=(1, 1), stride=(1, 1))\r\n",
      "        )\r\n",
      "      )\r\n",
      "      (4): GBlock(\r\n",
      "        (conv0): SpectralNorm(\r\n",
      "          (module): Conv2d(256, 512, kernel_size=(3, 3), stride=(1, 1), padding=(1, 1))\r\n",
      "        )\r\n",
      "        (conv1): SpectralNorm(\r\n",
      "          (module): Conv2d(512, 512, kernel_size=(3, 3), stride=(1, 1), padding=(1, 1))\r\n",
      "        )\r\n",
      "        (conv_sc): SpectralNorm(\r\n",
      "          (module): Conv2d(256, 512, kernel_size=(1, 1), stride=(1, 1))\r\n",
      "        )\r\n",
      "      )\r\n",
      "      (5): GBlock(\r\n",
      "        (conv0): SpectralNorm(\r\n",
      "          (module): Conv2d(512, 1024, kernel_size=(3, 3), stride=(1, 1), padding=(1, 1))\r\n",
      "        )\r\n",
      "        (conv1): SpectralNorm(\r\n",
      "          (module): Conv2d(1024, 1024, kernel_size=(3, 3), stride=(1, 1), padding=(1, 1))\r\n",
      "        )\r\n",
      "        (conv_sc): SpectralNorm(\r\n",
      "          (module): Conv2d(512, 1024, kernel_size=(1, 1), stride=(1, 1))\r\n",
      "        )\r\n",
      "      )\r\n",
      "      (6): GBlock(\r\n",
      "        (conv0): SpectralNorm(\r\n",
      "          (module): Conv2d(1024, 1024, kernel_size=(3, 3), stride=(1, 1), padding=(1, 1))\r\n",
      "        )\r\n",
      "        (conv1): SpectralNorm(\r\n",
      "          (module): Conv2d(1024, 1024, kernel_size=(3, 3), stride=(1, 1), padding=(1, 1))\r\n",
      "        )\r\n",
      "      )\r\n",
      "    )\r\n",
      "    (linear): SpectralNorm(\r\n",
      "      (module): Linear(in_features=1024, out_features=1, bias=True)\r\n",
      "    )\r\n",
      "    (embed): Embedding(1, 1024)\r\n",
      "  )\r\n",
      ")\r\n"
     ]
    },
    {
     "name": "stdout",
     "output_type": "stream",
     "text": [
      "/opt/conda/lib/python3.10/site-packages/geopandas/_compat.py:123: UserWarning: The Shapely GEOS version (3.10.3-CAPI-1.16.1) is incompatible with the GEOS version PyGEOS was compiled with (3.10.4-CAPI-1.16.2). Conversions between both will be slow.\r\n",
      "  warnings.warn(\r\n"
     ]
    },
    {
     "name": "stdout",
     "output_type": "stream",
     "text": [
      "load_pretrained_model...\r\n"
     ]
    },
    {
     "name": "stdout",
     "output_type": "stream",
     "text": [
      "loaded trained models (step: 112464)..!\r\n",
      "Start   ======  training...\r\n"
     ]
    },
    {
     "name": "stdout",
     "output_type": "stream",
     "text": [
      "/opt/conda/lib/python3.10/site-packages/torch/nn/functional.py:3737: UserWarning: nn.functional.upsample is deprecated. Use nn.functional.interpolate instead.\r\n",
      "  warnings.warn(\"nn.functional.upsample is deprecated. Use nn.functional.interpolate instead.\")\r\n"
     ]
    },
    {
     "name": "stdout",
     "output_type": "stream",
     "text": [
      "Elapsed [0:00:30.426769], G_step [112470/1000000], D_step[112470/1000000], d_out_real: 0.0054, d_out_fake: 0.0038, g_loss_fake: 1.0533\r\n"
     ]
    },
    {
     "name": "stdout",
     "output_type": "stream",
     "text": [
      "Elapsed [0:00:42.884132], G_step [112480/1000000], D_step[112480/1000000], d_out_real: 0.0095, d_out_fake: 0.0231, g_loss_fake: 1.0724\r\n"
     ]
    },
    {
     "name": "stdout",
     "output_type": "stream",
     "text": [
      "Elapsed [0:00:55.943196], G_step [112490/1000000], D_step[112490/1000000], d_out_real: 0.0000, d_out_fake: 0.0029, g_loss_fake: 1.0964\r\n"
     ]
    },
    {
     "name": "stdout",
     "output_type": "stream",
     "text": [
      "Elapsed [0:01:08.995235], G_step [112500/1000000], D_step[112500/1000000], d_out_real: 0.0589, d_out_fake: 0.0000, g_loss_fake: 1.0466\r\n"
     ]
    },
    {
     "name": "stdout",
     "output_type": "stream",
     "text": [
      "Elapsed [0:01:22.528842], G_step [112510/1000000], D_step[112510/1000000], d_out_real: 0.2964, d_out_fake: 0.0514, g_loss_fake: 1.0539\r\n"
     ]
    },
    {
     "name": "stdout",
     "output_type": "stream",
     "text": [
      "Elapsed [0:01:36.107989], G_step [112520/1000000], D_step[112520/1000000], d_out_real: 0.0564, d_out_fake: 0.1602, g_loss_fake: 1.1298\r\n"
     ]
    },
    {
     "name": "stdout",
     "output_type": "stream",
     "text": [
      "Elapsed [0:01:49.052173], G_step [112530/1000000], D_step[112530/1000000], d_out_real: 0.1019, d_out_fake: 0.0004, g_loss_fake: 1.0509\r\n"
     ]
    },
    {
     "name": "stdout",
     "output_type": "stream",
     "text": [
      "Elapsed [0:02:01.439948], G_step [112540/1000000], D_step[112540/1000000], d_out_real: 0.1282, d_out_fake: 0.0000, g_loss_fake: 1.0240\r\n"
     ]
    },
    {
     "name": "stdout",
     "output_type": "stream",
     "text": [
      "Elapsed [0:02:14.103142], G_step [112550/1000000], D_step[112550/1000000], d_out_real: 0.2568, d_out_fake: 0.0000, g_loss_fake: 1.0461\r\n"
     ]
    },
    {
     "name": "stdout",
     "output_type": "stream",
     "text": [
      "Elapsed [0:02:26.774181], G_step [112560/1000000], D_step[112560/1000000], d_out_real: 0.0505, d_out_fake: 0.0620, g_loss_fake: 0.9229\r\n"
     ]
    },
    {
     "name": "stdout",
     "output_type": "stream",
     "text": [
      "Elapsed [0:02:41.130402], G_step [112570/1000000], D_step[112570/1000000], d_out_real: 0.0066, d_out_fake: 0.0000, g_loss_fake: 1.0561\r\n"
     ]
    },
    {
     "name": "stdout",
     "output_type": "stream",
     "text": [
      "Elapsed [0:02:53.732796], G_step [112580/1000000], D_step[112580/1000000], d_out_real: 0.2520, d_out_fake: 0.1533, g_loss_fake: 1.0579\r\n"
     ]
    },
    {
     "name": "stdout",
     "output_type": "stream",
     "text": [
      "Elapsed [0:03:07.013461], G_step [112590/1000000], D_step[112590/1000000], d_out_real: 0.0468, d_out_fake: 0.0000, g_loss_fake: 1.0967\r\n"
     ]
    },
    {
     "name": "stdout",
     "output_type": "stream",
     "text": [
      "Elapsed [0:03:20.401013], G_step [112600/1000000], D_step[112600/1000000], d_out_real: 0.1952, d_out_fake: 0.0604, g_loss_fake: 1.0361\r\n"
     ]
    },
    {
     "name": "stdout",
     "output_type": "stream",
     "text": [
      "Elapsed [0:03:33.411474], G_step [112610/1000000], D_step[112610/1000000], d_out_real: 0.0636, d_out_fake: 0.0072, g_loss_fake: 1.0933\r\n"
     ]
    },
    {
     "name": "stdout",
     "output_type": "stream",
     "text": [
      "Elapsed [0:03:47.661274], G_step [112620/1000000], D_step[112620/1000000], d_out_real: 0.0727, d_out_fake: 0.0392, g_loss_fake: 1.1187\r\n"
     ]
    },
    {
     "name": "stdout",
     "output_type": "stream",
     "text": [
      "Elapsed [0:04:01.178282], G_step [112630/1000000], D_step[112630/1000000], d_out_real: 0.0648, d_out_fake: 0.0042, g_loss_fake: 1.0940\r\n"
     ]
    },
    {
     "name": "stdout",
     "output_type": "stream",
     "text": [
      "Elapsed [0:04:15.089659], G_step [112640/1000000], D_step[112640/1000000], d_out_real: 0.1280, d_out_fake: 0.0000, g_loss_fake: 1.1187\r\n"
     ]
    },
    {
     "name": "stdout",
     "output_type": "stream",
     "text": [
      "Elapsed [0:04:27.589972], G_step [112650/1000000], D_step[112650/1000000], d_out_real: 0.0000, d_out_fake: 0.0381, g_loss_fake: 1.1495\r\n"
     ]
    },
    {
     "name": "stdout",
     "output_type": "stream",
     "text": [
      "Elapsed [0:04:40.491477], G_step [112660/1000000], D_step[112660/1000000], d_out_real: 0.1304, d_out_fake: 0.0001, g_loss_fake: 1.0847\r\n"
     ]
    },
    {
     "name": "stdout",
     "output_type": "stream",
     "text": [
      "Elapsed [0:04:54.150156], G_step [112670/1000000], D_step[112670/1000000], d_out_real: 0.0908, d_out_fake: 0.1069, g_loss_fake: 1.0262\r\n"
     ]
    },
    {
     "name": "stdout",
     "output_type": "stream",
     "text": [
      "Elapsed [0:05:07.186603], G_step [112680/1000000], D_step[112680/1000000], d_out_real: 0.1954, d_out_fake: 0.1247, g_loss_fake: 0.8976\r\n"
     ]
    },
    {
     "name": "stdout",
     "output_type": "stream",
     "text": [
      "Elapsed [0:05:20.511537], G_step [112690/1000000], D_step[112690/1000000], d_out_real: 0.1076, d_out_fake: 0.1439, g_loss_fake: 0.9996\r\n"
     ]
    },
    {
     "name": "stdout",
     "output_type": "stream",
     "text": [
      "Elapsed [0:05:32.938424], G_step [112700/1000000], D_step[112700/1000000], d_out_real: 0.1034, d_out_fake: 0.0673, g_loss_fake: 0.9962\r\n"
     ]
    },
    {
     "name": "stdout",
     "output_type": "stream",
     "text": [
      "Elapsed [0:05:46.301780], G_step [112710/1000000], D_step[112710/1000000], d_out_real: 0.0645, d_out_fake: 0.0002, g_loss_fake: 1.1310\r\n"
     ]
    },
    {
     "name": "stdout",
     "output_type": "stream",
     "text": [
      "Elapsed [0:06:00.062854], G_step [112720/1000000], D_step[112720/1000000], d_out_real: 0.0000, d_out_fake: 0.0245, g_loss_fake: 1.1070\r\n"
     ]
    },
    {
     "name": "stdout",
     "output_type": "stream",
     "text": [
      "Elapsed [0:06:12.602225], G_step [112730/1000000], D_step[112730/1000000], d_out_real: 0.3500, d_out_fake: 0.0000, g_loss_fake: 0.9272\r\n"
     ]
    },
    {
     "name": "stdout",
     "output_type": "stream",
     "text": [
      "Elapsed [0:06:25.902201], G_step [112740/1000000], D_step[112740/1000000], d_out_real: 0.0000, d_out_fake: 0.0118, g_loss_fake: 1.1181\r\n"
     ]
    },
    {
     "name": "stdout",
     "output_type": "stream",
     "text": [
      "Elapsed [0:06:38.301944], G_step [112750/1000000], D_step[112750/1000000], d_out_real: 0.0000, d_out_fake: 0.1252, g_loss_fake: 0.9624\r\n"
     ]
    },
    {
     "name": "stdout",
     "output_type": "stream",
     "text": [
      "Elapsed [0:06:51.302802], G_step [112760/1000000], D_step[112760/1000000], d_out_real: 0.0659, d_out_fake: 0.0000, g_loss_fake: 1.1418\r\n"
     ]
    },
    {
     "name": "stdout",
     "output_type": "stream",
     "text": [
      "Elapsed [0:07:04.993955], G_step [112770/1000000], D_step[112770/1000000], d_out_real: 0.0693, d_out_fake: 0.0602, g_loss_fake: 0.9910\r\n"
     ]
    },
    {
     "name": "stdout",
     "output_type": "stream",
     "text": [
      "Elapsed [0:07:18.746724], G_step [112780/1000000], D_step[112780/1000000], d_out_real: 0.0000, d_out_fake: 0.0000, g_loss_fake: 1.0935\r\n"
     ]
    },
    {
     "name": "stdout",
     "output_type": "stream",
     "text": [
      "Elapsed [0:07:31.887529], G_step [112790/1000000], D_step[112790/1000000], d_out_real: 0.0622, d_out_fake: 0.1449, g_loss_fake: 1.1022\r\n"
     ]
    },
    {
     "name": "stdout",
     "output_type": "stream",
     "text": [
      "Elapsed [0:07:44.444347], G_step [112800/1000000], D_step[112800/1000000], d_out_real: 0.0711, d_out_fake: 0.0011, g_loss_fake: 1.0175\r\n"
     ]
    },
    {
     "name": "stdout",
     "output_type": "stream",
     "text": [
      "Elapsed [0:07:57.603667], G_step [112810/1000000], D_step[112810/1000000], d_out_real: 0.0857, d_out_fake: 0.0797, g_loss_fake: 1.1155\r\n"
     ]
    },
    {
     "name": "stdout",
     "output_type": "stream",
     "text": [
      "Elapsed [0:08:10.482367], G_step [112820/1000000], D_step[112820/1000000], d_out_real: 0.0000, d_out_fake: 0.0697, g_loss_fake: 1.1461\r\n"
     ]
    },
    {
     "name": "stdout",
     "output_type": "stream",
     "text": [
      "Elapsed [0:08:23.359793], G_step [112830/1000000], D_step[112830/1000000], d_out_real: 0.0628, d_out_fake: 0.0509, g_loss_fake: 1.1121\r\n"
     ]
    },
    {
     "name": "stdout",
     "output_type": "stream",
     "text": [
      "Elapsed [0:08:36.490302], G_step [112840/1000000], D_step[112840/1000000], d_out_real: 0.0744, d_out_fake: 0.0667, g_loss_fake: 1.0463\r\n"
     ]
    },
    {
     "name": "stdout",
     "output_type": "stream",
     "text": [
      "Elapsed [0:08:49.794981], G_step [112850/1000000], D_step[112850/1000000], d_out_real: 0.0000, d_out_fake: 0.0055, g_loss_fake: 1.1347\r\n"
     ]
    },
    {
     "name": "stdout",
     "output_type": "stream",
     "text": [
      "Elapsed [0:09:02.225553], G_step [112860/1000000], D_step[112860/1000000], d_out_real: 0.2615, d_out_fake: 0.0005, g_loss_fake: 0.9072\r\n"
     ]
    },
    {
     "name": "stdout",
     "output_type": "stream",
     "text": [
      "/opt/conda/lib/python3.10/site-packages/PIL/Image.py:3176: DecompressionBombWarning: Image size (99962094 pixels) exceeds limit of 89478485 pixels, could be decompression bomb DOS attack.\r\n",
      "  warnings.warn(\r\n"
     ]
    },
    {
     "name": "stdout",
     "output_type": "stream",
     "text": [
      "Elapsed [0:09:17.652085], G_step [112870/1000000], D_step[112870/1000000], d_out_real: 0.0000, d_out_fake: 0.0003, g_loss_fake: 0.9741\r\n"
     ]
    },
    {
     "name": "stdout",
     "output_type": "stream",
     "text": [
      "Elapsed [0:09:31.181965], G_step [112880/1000000], D_step[112880/1000000], d_out_real: 0.1301, d_out_fake: 0.0544, g_loss_fake: 1.0727\r\n"
     ]
    },
    {
     "name": "stdout",
     "output_type": "stream",
     "text": [
      "Elapsed [0:09:43.994634], G_step [112890/1000000], D_step[112890/1000000], d_out_real: 0.0152, d_out_fake: 0.0007, g_loss_fake: 1.0794\r\n"
     ]
    },
    {
     "name": "stdout",
     "output_type": "stream",
     "text": [
      "Elapsed [0:09:56.743620], G_step [112900/1000000], D_step[112900/1000000], d_out_real: 0.1458, d_out_fake: 0.0000, g_loss_fake: 1.0585\r\n"
     ]
    },
    {
     "name": "stdout",
     "output_type": "stream",
     "text": [
      "Elapsed [0:10:09.772422], G_step [112910/1000000], D_step[112910/1000000], d_out_real: 0.0000, d_out_fake: 0.0122, g_loss_fake: 1.1434\r\n"
     ]
    },
    {
     "name": "stdout",
     "output_type": "stream",
     "text": [
      "Elapsed [0:10:22.488753], G_step [112920/1000000], D_step[112920/1000000], d_out_real: 0.0312, d_out_fake: 0.0463, g_loss_fake: 1.0389\r\n"
     ]
    },
    {
     "name": "stdout",
     "output_type": "stream",
     "text": [
      "Elapsed [0:10:35.340885], G_step [112930/1000000], D_step[112930/1000000], d_out_real: 0.1227, d_out_fake: 0.0000, g_loss_fake: 1.0172\r\n"
     ]
    },
    {
     "name": "stdout",
     "output_type": "stream",
     "text": [
      "Elapsed [0:10:47.534529], G_step [112940/1000000], D_step[112940/1000000], d_out_real: 0.1902, d_out_fake: 0.0000, g_loss_fake: 0.9899\r\n"
     ]
    },
    {
     "name": "stdout",
     "output_type": "stream",
     "text": [
      "Elapsed [0:11:00.857169], G_step [112950/1000000], D_step[112950/1000000], d_out_real: 0.0123, d_out_fake: 0.0029, g_loss_fake: 1.1138\r\n"
     ]
    },
    {
     "name": "stdout",
     "output_type": "stream",
     "text": [
      "Elapsed [0:11:13.323877], G_step [112960/1000000], D_step[112960/1000000], d_out_real: 0.0000, d_out_fake: 0.1900, g_loss_fake: 1.0985\r\n"
     ]
    },
    {
     "name": "stdout",
     "output_type": "stream",
     "text": [
      "Elapsed [0:11:26.887297], G_step [112970/1000000], D_step[112970/1000000], d_out_real: 0.1518, d_out_fake: 0.0993, g_loss_fake: 1.0587\r\n"
     ]
    },
    {
     "name": "stdout",
     "output_type": "stream",
     "text": [
      "Elapsed [0:11:39.564282], G_step [112980/1000000], D_step[112980/1000000], d_out_real: 0.0652, d_out_fake: 0.0794, g_loss_fake: 1.1025\r\n"
     ]
    },
    {
     "name": "stdout",
     "output_type": "stream",
     "text": [
      "Elapsed [0:11:52.537831], G_step [112990/1000000], D_step[112990/1000000], d_out_real: 0.1253, d_out_fake: 0.0606, g_loss_fake: 1.0956\r\n"
     ]
    },
    {
     "name": "stdout",
     "output_type": "stream",
     "text": [
      "Elapsed [0:12:06.145905], G_step [113000/1000000], D_step[113000/1000000], d_out_real: 0.2094, d_out_fake: 0.0000, g_loss_fake: 0.9413\r\n",
      "Sample images 113000_fake.png\r\n"
     ]
    },
    {
     "name": "stdout",
     "output_type": "stream",
     "text": [
      "Elapsed [0:12:20.333127], G_step [113010/1000000], D_step[113010/1000000], d_out_real: 0.0676, d_out_fake: 0.0002, g_loss_fake: 0.9902\r\n"
     ]
    },
    {
     "name": "stdout",
     "output_type": "stream",
     "text": [
      "Elapsed [0:12:33.439507], G_step [113020/1000000], D_step[113020/1000000], d_out_real: 0.0000, d_out_fake: 0.1393, g_loss_fake: 1.0583\r\n"
     ]
    },
    {
     "name": "stdout",
     "output_type": "stream",
     "text": [
      "Elapsed [0:12:46.627237], G_step [113030/1000000], D_step[113030/1000000], d_out_real: 0.2248, d_out_fake: 0.0000, g_loss_fake: 1.0459\r\n"
     ]
    },
    {
     "name": "stdout",
     "output_type": "stream",
     "text": [
      "Elapsed [0:13:00.320851], G_step [113040/1000000], D_step[113040/1000000], d_out_real: 0.1370, d_out_fake: 0.0479, g_loss_fake: 1.0791\r\n"
     ]
    },
    {
     "name": "stdout",
     "output_type": "stream",
     "text": [
      "Elapsed [0:13:13.087382], G_step [113050/1000000], D_step[113050/1000000], d_out_real: 0.0197, d_out_fake: 0.0697, g_loss_fake: 1.0212\r\n"
     ]
    },
    {
     "name": "stdout",
     "output_type": "stream",
     "text": [
      "Elapsed [0:13:26.362763], G_step [113060/1000000], D_step[113060/1000000], d_out_real: 0.0640, d_out_fake: 0.1390, g_loss_fake: 1.0301\r\n"
     ]
    },
    {
     "name": "stdout",
     "output_type": "stream",
     "text": [
      "Elapsed [0:13:39.552075], G_step [113070/1000000], D_step[113070/1000000], d_out_real: 0.0647, d_out_fake: 0.0124, g_loss_fake: 1.1178\r\n"
     ]
    },
    {
     "name": "stdout",
     "output_type": "stream",
     "text": [
      "Elapsed [0:13:54.064183], G_step [113080/1000000], D_step[113080/1000000], d_out_real: 0.2016, d_out_fake: 0.0232, g_loss_fake: 1.0633\r\n"
     ]
    },
    {
     "name": "stdout",
     "output_type": "stream",
     "text": [
      "Elapsed [0:14:07.783078], G_step [113090/1000000], D_step[113090/1000000], d_out_real: 0.1709, d_out_fake: 0.0061, g_loss_fake: 0.7070\r\n"
     ]
    },
    {
     "name": "stdout",
     "output_type": "stream",
     "text": [
      "Elapsed [0:14:21.664019], G_step [113100/1000000], D_step[113100/1000000], d_out_real: 0.0000, d_out_fake: 0.3084, g_loss_fake: 1.0998\r\n"
     ]
    },
    {
     "name": "stdout",
     "output_type": "stream",
     "text": [
      "Elapsed [0:14:34.263189], G_step [113110/1000000], D_step[113110/1000000], d_out_real: 0.1271, d_out_fake: 0.0000, g_loss_fake: 0.8188\r\n"
     ]
    },
    {
     "name": "stdout",
     "output_type": "stream",
     "text": [
      "Elapsed [0:14:48.407356], G_step [113120/1000000], D_step[113120/1000000], d_out_real: 0.0000, d_out_fake: 0.0043, g_loss_fake: 1.0283\r\n"
     ]
    },
    {
     "name": "stdout",
     "output_type": "stream",
     "text": [
      "Elapsed [0:15:01.909449], G_step [113130/1000000], D_step[113130/1000000], d_out_real: 0.0000, d_out_fake: 0.0039, g_loss_fake: 1.1711\r\n"
     ]
    },
    {
     "name": "stdout",
     "output_type": "stream",
     "text": [
      "Elapsed [0:15:15.854118], G_step [113140/1000000], D_step[113140/1000000], d_out_real: 0.0653, d_out_fake: 0.1199, g_loss_fake: 1.1206\r\n"
     ]
    },
    {
     "name": "stdout",
     "output_type": "stream",
     "text": [
      "Elapsed [0:15:29.283441], G_step [113150/1000000], D_step[113150/1000000], d_out_real: 0.1788, d_out_fake: 0.0033, g_loss_fake: 0.9021\r\n"
     ]
    },
    {
     "name": "stdout",
     "output_type": "stream",
     "text": [
      "Elapsed [0:15:44.018993], G_step [113160/1000000], D_step[113160/1000000], d_out_real: 0.0024, d_out_fake: 0.0679, g_loss_fake: 1.0748\r\n"
     ]
    },
    {
     "name": "stdout",
     "output_type": "stream",
     "text": [
      "Elapsed [0:15:57.253803], G_step [113170/1000000], D_step[113170/1000000], d_out_real: 0.1153, d_out_fake: 0.0543, g_loss_fake: 1.1186\r\n"
     ]
    },
    {
     "name": "stdout",
     "output_type": "stream",
     "text": [
      "Elapsed [0:16:11.717332], G_step [113180/1000000], D_step[113180/1000000], d_out_real: 0.3134, d_out_fake: 0.0009, g_loss_fake: 1.0466\r\n"
     ]
    },
    {
     "name": "stdout",
     "output_type": "stream",
     "text": [
      "Elapsed [0:16:24.885259], G_step [113190/1000000], D_step[113190/1000000], d_out_real: 0.1805, d_out_fake: 0.0585, g_loss_fake: 1.1067\r\n"
     ]
    },
    {
     "name": "stdout",
     "output_type": "stream",
     "text": [
      "Elapsed [0:16:37.208555], G_step [113200/1000000], D_step[113200/1000000], d_out_real: 0.0339, d_out_fake: 0.2329, g_loss_fake: 1.0801\r\n"
     ]
    },
    {
     "name": "stdout",
     "output_type": "stream",
     "text": [
      "Elapsed [0:16:51.071760], G_step [113210/1000000], D_step[113210/1000000], d_out_real: 0.0640, d_out_fake: 0.0000, g_loss_fake: 1.0199\r\n"
     ]
    },
    {
     "name": "stdout",
     "output_type": "stream",
     "text": [
      "Elapsed [0:17:04.343666], G_step [113220/1000000], D_step[113220/1000000], d_out_real: 0.0614, d_out_fake: 0.0000, g_loss_fake: 0.9265\r\n"
     ]
    },
    {
     "name": "stdout",
     "output_type": "stream",
     "text": [
      "Elapsed [0:17:18.109036], G_step [113230/1000000], D_step[113230/1000000], d_out_real: 0.0697, d_out_fake: 0.0519, g_loss_fake: 1.0701\r\n"
     ]
    },
    {
     "name": "stdout",
     "output_type": "stream",
     "text": [
      "Elapsed [0:17:31.197937], G_step [113240/1000000], D_step[113240/1000000], d_out_real: 0.1124, d_out_fake: 0.0000, g_loss_fake: 1.0435\r\n"
     ]
    },
    {
     "name": "stdout",
     "output_type": "stream",
     "text": [
      "Elapsed [0:17:43.103680], G_step [113250/1000000], D_step[113250/1000000], d_out_real: 0.0000, d_out_fake: 0.0584, g_loss_fake: 1.1142\r\n"
     ]
    },
    {
     "name": "stdout",
     "output_type": "stream",
     "text": [
      "Elapsed [0:17:54.241854], G_step [113260/1000000], D_step[113260/1000000], d_out_real: 0.0209, d_out_fake: 0.0246, g_loss_fake: 0.9924\r\n"
     ]
    },
    {
     "name": "stdout",
     "output_type": "stream",
     "text": [
      "Elapsed [0:18:04.879093], G_step [113270/1000000], D_step[113270/1000000], d_out_real: 0.2839, d_out_fake: 0.0574, g_loss_fake: 1.0066\r\n"
     ]
    },
    {
     "name": "stdout",
     "output_type": "stream",
     "text": [
      "Elapsed [0:18:15.803146], G_step [113280/1000000], D_step[113280/1000000], d_out_real: 0.0576, d_out_fake: 0.2279, g_loss_fake: 0.9728\r\n"
     ]
    },
    {
     "name": "stdout",
     "output_type": "stream",
     "text": [
      "Elapsed [0:18:27.076849], G_step [113290/1000000], D_step[113290/1000000], d_out_real: 0.0665, d_out_fake: 0.0354, g_loss_fake: 1.0375\r\n"
     ]
    },
    {
     "name": "stdout",
     "output_type": "stream",
     "text": [
      "Elapsed [0:18:37.996492], G_step [113300/1000000], D_step[113300/1000000], d_out_real: 0.1279, d_out_fake: 0.0057, g_loss_fake: 1.1488\r\n"
     ]
    },
    {
     "name": "stdout",
     "output_type": "stream",
     "text": [
      "Elapsed [0:18:49.447167], G_step [113310/1000000], D_step[113310/1000000], d_out_real: 0.0654, d_out_fake: 0.0000, g_loss_fake: 0.9086\r\n"
     ]
    },
    {
     "name": "stdout",
     "output_type": "stream",
     "text": [
      "Elapsed [0:19:00.825547], G_step [113320/1000000], D_step[113320/1000000], d_out_real: 0.0000, d_out_fake: 0.0041, g_loss_fake: 1.1077\r\n"
     ]
    },
    {
     "name": "stdout",
     "output_type": "stream",
     "text": [
      "Elapsed [0:19:11.431276], G_step [113330/1000000], D_step[113330/1000000], d_out_real: 0.0000, d_out_fake: 0.1740, g_loss_fake: 1.1082\r\n"
     ]
    },
    {
     "name": "stdout",
     "output_type": "stream",
     "text": [
      "Elapsed [0:19:23.446467], G_step [113340/1000000], D_step[113340/1000000], d_out_real: 0.0652, d_out_fake: 0.0013, g_loss_fake: 1.0999\r\n"
     ]
    },
    {
     "name": "stdout",
     "output_type": "stream",
     "text": [
      "Elapsed [0:19:34.001140], G_step [113350/1000000], D_step[113350/1000000], d_out_real: 0.2304, d_out_fake: 0.0216, g_loss_fake: 1.0567\r\n"
     ]
    },
    {
     "name": "stdout",
     "output_type": "stream",
     "text": [
      "Elapsed [0:19:44.985521], G_step [113360/1000000], D_step[113360/1000000], d_out_real: 0.1834, d_out_fake: 0.0450, g_loss_fake: 1.1105\r\n"
     ]
    },
    {
     "name": "stdout",
     "output_type": "stream",
     "text": [
      "Elapsed [0:19:55.862204], G_step [113370/1000000], D_step[113370/1000000], d_out_real: 0.1224, d_out_fake: 0.0022, g_loss_fake: 1.0003\r\n"
     ]
    },
    {
     "name": "stdout",
     "output_type": "stream",
     "text": [
      "Elapsed [0:20:06.825399], G_step [113380/1000000], D_step[113380/1000000], d_out_real: 0.0548, d_out_fake: 0.0605, g_loss_fake: 1.0524\r\n"
     ]
    },
    {
     "name": "stdout",
     "output_type": "stream",
     "text": [
      "Elapsed [0:20:17.751774], G_step [113390/1000000], D_step[113390/1000000], d_out_real: 0.1356, d_out_fake: 0.0712, g_loss_fake: 0.9804\r\n"
     ]
    },
    {
     "name": "stdout",
     "output_type": "stream",
     "text": [
      "Elapsed [0:20:28.950095], G_step [113400/1000000], D_step[113400/1000000], d_out_real: 0.0681, d_out_fake: 0.0154, g_loss_fake: 0.9634\r\n"
     ]
    },
    {
     "name": "stdout",
     "output_type": "stream",
     "text": [
      "Elapsed [0:20:39.696360], G_step [113410/1000000], D_step[113410/1000000], d_out_real: 0.0620, d_out_fake: 0.0046, g_loss_fake: 1.1170\r\n"
     ]
    },
    {
     "name": "stdout",
     "output_type": "stream",
     "text": [
      "Elapsed [0:20:50.408997], G_step [113420/1000000], D_step[113420/1000000], d_out_real: 0.0638, d_out_fake: 0.0610, g_loss_fake: 1.0163\r\n"
     ]
    },
    {
     "name": "stdout",
     "output_type": "stream",
     "text": [
      "Elapsed [0:21:01.346101], G_step [113430/1000000], D_step[113430/1000000], d_out_real: 0.0051, d_out_fake: 0.0000, g_loss_fake: 1.0789\r\n"
     ]
    },
    {
     "name": "stdout",
     "output_type": "stream",
     "text": [
      "Elapsed [0:21:11.987960], G_step [113440/1000000], D_step[113440/1000000], d_out_real: 0.0000, d_out_fake: 0.0000, g_loss_fake: 1.1173\r\n"
     ]
    },
    {
     "name": "stdout",
     "output_type": "stream",
     "text": [
      "Elapsed [0:21:23.813262], G_step [113450/1000000], D_step[113450/1000000], d_out_real: 0.0617, d_out_fake: 0.0000, g_loss_fake: 0.9709\r\n"
     ]
    },
    {
     "name": "stdout",
     "output_type": "stream",
     "text": [
      "Elapsed [0:21:34.611475], G_step [113460/1000000], D_step[113460/1000000], d_out_real: 0.0000, d_out_fake: 0.0000, g_loss_fake: 1.0929\r\n"
     ]
    },
    {
     "name": "stdout",
     "output_type": "stream",
     "text": [
      "Elapsed [0:21:46.414701], G_step [113470/1000000], D_step[113470/1000000], d_out_real: 0.1215, d_out_fake: 0.0290, g_loss_fake: 1.0078\r\n"
     ]
    },
    {
     "name": "stdout",
     "output_type": "stream",
     "text": [
      "Elapsed [0:21:57.600709], G_step [113480/1000000], D_step[113480/1000000], d_out_real: 0.0855, d_out_fake: 0.0016, g_loss_fake: 1.0713\r\n"
     ]
    },
    {
     "name": "stdout",
     "output_type": "stream",
     "text": [
      "Elapsed [0:22:08.283583], G_step [113490/1000000], D_step[113490/1000000], d_out_real: 0.1500, d_out_fake: 0.0016, g_loss_fake: 1.0145\r\n"
     ]
    },
    {
     "name": "stdout",
     "output_type": "stream",
     "text": [
      "Elapsed [0:22:19.036421], G_step [113500/1000000], D_step[113500/1000000], d_out_real: 0.0355, d_out_fake: 0.0122, g_loss_fake: 1.0985\r\n"
     ]
    },
    {
     "name": "stdout",
     "output_type": "stream",
     "text": [
      "Elapsed [0:22:30.251050], G_step [113510/1000000], D_step[113510/1000000], d_out_real: 0.0485, d_out_fake: 0.2065, g_loss_fake: 1.0858\r\n"
     ]
    },
    {
     "name": "stdout",
     "output_type": "stream",
     "text": [
      "Elapsed [0:22:41.011532], G_step [113520/1000000], D_step[113520/1000000], d_out_real: 0.0852, d_out_fake: 0.0125, g_loss_fake: 1.0834\r\n"
     ]
    },
    {
     "name": "stdout",
     "output_type": "stream",
     "text": [
      "Elapsed [0:22:51.739304], G_step [113530/1000000], D_step[113530/1000000], d_out_real: 0.0645, d_out_fake: 0.1947, g_loss_fake: 1.0430\r\n"
     ]
    },
    {
     "name": "stdout",
     "output_type": "stream",
     "text": [
      "Elapsed [0:23:02.768273], G_step [113540/1000000], D_step[113540/1000000], d_out_real: 0.0644, d_out_fake: 0.2088, g_loss_fake: 1.1138\r\n"
     ]
    },
    {
     "name": "stdout",
     "output_type": "stream",
     "text": [
      "Elapsed [0:23:14.982670], G_step [113550/1000000], D_step[113550/1000000], d_out_real: 0.0670, d_out_fake: 0.0910, g_loss_fake: 1.0507\r\n"
     ]
    },
    {
     "name": "stdout",
     "output_type": "stream",
     "text": [
      "Elapsed [0:23:25.496656], G_step [113560/1000000], D_step[113560/1000000], d_out_real: 0.0628, d_out_fake: 0.0725, g_loss_fake: 1.0702\r\n"
     ]
    },
    {
     "name": "stdout",
     "output_type": "stream",
     "text": [
      "Elapsed [0:23:37.251578], G_step [113570/1000000], D_step[113570/1000000], d_out_real: 0.2770, d_out_fake: 0.0002, g_loss_fake: 1.0043\r\n"
     ]
    },
    {
     "name": "stdout",
     "output_type": "stream",
     "text": [
      "Elapsed [0:23:48.576648], G_step [113580/1000000], D_step[113580/1000000], d_out_real: 0.1411, d_out_fake: 0.1178, g_loss_fake: 0.9538\r\n"
     ]
    },
    {
     "name": "stdout",
     "output_type": "stream",
     "text": [
      "Elapsed [0:24:00.592666], G_step [113590/1000000], D_step[113590/1000000], d_out_real: 0.1300, d_out_fake: 0.1824, g_loss_fake: 1.0713\r\n"
     ]
    },
    {
     "name": "stdout",
     "output_type": "stream",
     "text": [
      "Elapsed [0:24:11.696633], G_step [113600/1000000], D_step[113600/1000000], d_out_real: 0.0032, d_out_fake: 0.0006, g_loss_fake: 0.9010\r\n"
     ]
    },
    {
     "name": "stdout",
     "output_type": "stream",
     "text": [
      "Elapsed [0:24:22.857829], G_step [113610/1000000], D_step[113610/1000000], d_out_real: 0.0078, d_out_fake: 0.0000, g_loss_fake: 1.0795\r\n"
     ]
    },
    {
     "name": "stdout",
     "output_type": "stream",
     "text": [
      "Elapsed [0:24:33.928283], G_step [113620/1000000], D_step[113620/1000000], d_out_real: 0.0443, d_out_fake: 0.0010, g_loss_fake: 1.0175\r\n"
     ]
    },
    {
     "name": "stdout",
     "output_type": "stream",
     "text": [
      "Elapsed [0:24:46.168492], G_step [113630/1000000], D_step[113630/1000000], d_out_real: 0.1245, d_out_fake: 0.0075, g_loss_fake: 1.0941\r\n"
     ]
    },
    {
     "name": "stdout",
     "output_type": "stream",
     "text": [
      "Elapsed [0:24:56.945550], G_step [113640/1000000], D_step[113640/1000000], d_out_real: 0.0651, d_out_fake: 0.1433, g_loss_fake: 1.1459\r\n"
     ]
    },
    {
     "name": "stdout",
     "output_type": "stream",
     "text": [
      "Elapsed [0:25:07.709460], G_step [113650/1000000], D_step[113650/1000000], d_out_real: 0.1660, d_out_fake: 0.0588, g_loss_fake: 0.9530\r\n"
     ]
    },
    {
     "name": "stdout",
     "output_type": "stream",
     "text": [
      "Elapsed [0:25:19.110283], G_step [113660/1000000], D_step[113660/1000000], d_out_real: 0.0775, d_out_fake: 0.0005, g_loss_fake: 0.7156\r\n"
     ]
    },
    {
     "name": "stdout",
     "output_type": "stream",
     "text": [
      "Elapsed [0:25:29.741255], G_step [113670/1000000], D_step[113670/1000000], d_out_real: 0.0000, d_out_fake: 0.1230, g_loss_fake: 0.9649\r\n"
     ]
    },
    {
     "name": "stdout",
     "output_type": "stream",
     "text": [
      "Elapsed [0:25:40.574083], G_step [113680/1000000], D_step[113680/1000000], d_out_real: 0.1709, d_out_fake: 0.0762, g_loss_fake: 1.0179\r\n"
     ]
    },
    {
     "name": "stdout",
     "output_type": "stream",
     "text": [
      "Elapsed [0:25:51.198608], G_step [113690/1000000], D_step[113690/1000000], d_out_real: 0.0976, d_out_fake: 0.0197, g_loss_fake: 1.0246\r\n"
     ]
    },
    {
     "name": "stdout",
     "output_type": "stream",
     "text": [
      "Elapsed [0:26:01.898343], G_step [113700/1000000], D_step[113700/1000000], d_out_real: 0.0611, d_out_fake: 0.0112, g_loss_fake: 1.0940\r\n"
     ]
    },
    {
     "name": "stdout",
     "output_type": "stream",
     "text": [
      "Elapsed [0:26:12.686070], G_step [113710/1000000], D_step[113710/1000000], d_out_real: 0.2566, d_out_fake: 0.0000, g_loss_fake: 1.0911\r\n"
     ]
    },
    {
     "name": "stdout",
     "output_type": "stream",
     "text": [
      "Elapsed [0:26:23.492286], G_step [113720/1000000], D_step[113720/1000000], d_out_real: 0.0624, d_out_fake: 0.0001, g_loss_fake: 1.0605\r\n"
     ]
    },
    {
     "name": "stdout",
     "output_type": "stream",
     "text": [
      "Elapsed [0:26:34.161463], G_step [113730/1000000], D_step[113730/1000000], d_out_real: 0.0908, d_out_fake: 0.0105, g_loss_fake: 1.0913\r\n"
     ]
    },
    {
     "name": "stdout",
     "output_type": "stream",
     "text": [
      "Elapsed [0:26:45.066451], G_step [113740/1000000], D_step[113740/1000000], d_out_real: 0.0000, d_out_fake: 0.1162, g_loss_fake: 1.0860\r\n"
     ]
    },
    {
     "name": "stdout",
     "output_type": "stream",
     "text": [
      "Elapsed [0:26:56.316092], G_step [113750/1000000], D_step[113750/1000000], d_out_real: 0.0446, d_out_fake: 0.0000, g_loss_fake: 1.0742\r\n"
     ]
    },
    {
     "name": "stdout",
     "output_type": "stream",
     "text": [
      "Elapsed [0:27:08.106962], G_step [113760/1000000], D_step[113760/1000000], d_out_real: 0.0646, d_out_fake: 0.1029, g_loss_fake: 1.0238\r\n"
     ]
    },
    {
     "name": "stdout",
     "output_type": "stream",
     "text": [
      "Elapsed [0:27:19.151366], G_step [113770/1000000], D_step[113770/1000000], d_out_real: 0.0008, d_out_fake: 0.0000, g_loss_fake: 1.1209\r\n"
     ]
    },
    {
     "name": "stdout",
     "output_type": "stream",
     "text": [
      "Elapsed [0:27:29.925949], G_step [113780/1000000], D_step[113780/1000000], d_out_real: 0.0680, d_out_fake: 0.0000, g_loss_fake: 1.0107\r\n"
     ]
    },
    {
     "name": "stdout",
     "output_type": "stream",
     "text": [
      "Elapsed [0:27:40.909424], G_step [113790/1000000], D_step[113790/1000000], d_out_real: 0.0605, d_out_fake: 0.0000, g_loss_fake: 0.9887\r\n"
     ]
    },
    {
     "name": "stdout",
     "output_type": "stream",
     "text": [
      "Elapsed [0:27:52.001655], G_step [113800/1000000], D_step[113800/1000000], d_out_real: 0.0510, d_out_fake: 0.1814, g_loss_fake: 1.1251\r\n"
     ]
    },
    {
     "name": "stdout",
     "output_type": "stream",
     "text": [
      "Elapsed [0:28:02.800063], G_step [113810/1000000], D_step[113810/1000000], d_out_real: 0.0689, d_out_fake: 0.2794, g_loss_fake: 1.0114\r\n"
     ]
    },
    {
     "name": "stdout",
     "output_type": "stream",
     "text": [
      "Elapsed [0:28:14.315080], G_step [113820/1000000], D_step[113820/1000000], d_out_real: 0.1803, d_out_fake: 0.0000, g_loss_fake: 0.9428\r\n"
     ]
    },
    {
     "name": "stdout",
     "output_type": "stream",
     "text": [
      "Elapsed [0:28:24.964502], G_step [113830/1000000], D_step[113830/1000000], d_out_real: 0.0913, d_out_fake: 0.0788, g_loss_fake: 1.0363\r\n"
     ]
    },
    {
     "name": "stdout",
     "output_type": "stream",
     "text": [
      "Elapsed [0:28:35.573138], G_step [113840/1000000], D_step[113840/1000000], d_out_real: 0.1003, d_out_fake: 0.0486, g_loss_fake: 0.8141\r\n"
     ]
    },
    {
     "name": "stdout",
     "output_type": "stream",
     "text": [
      "Elapsed [0:28:47.827156], G_step [113850/1000000], D_step[113850/1000000], d_out_real: 0.1983, d_out_fake: 0.0621, g_loss_fake: 1.0156\r\n"
     ]
    },
    {
     "name": "stdout",
     "output_type": "stream",
     "text": [
      "Elapsed [0:28:58.575427], G_step [113860/1000000], D_step[113860/1000000], d_out_real: 0.1597, d_out_fake: 0.0000, g_loss_fake: 0.9648\r\n"
     ]
    },
    {
     "name": "stdout",
     "output_type": "stream",
     "text": [
      "Elapsed [0:29:09.710467], G_step [113870/1000000], D_step[113870/1000000], d_out_real: 0.0000, d_out_fake: 0.0121, g_loss_fake: 1.1064\r\n"
     ]
    },
    {
     "name": "stdout",
     "output_type": "stream",
     "text": [
      "Elapsed [0:29:20.684120], G_step [113880/1000000], D_step[113880/1000000], d_out_real: 0.2777, d_out_fake: 0.0735, g_loss_fake: 1.0531\r\n"
     ]
    },
    {
     "name": "stdout",
     "output_type": "stream",
     "text": [
      "Elapsed [0:29:31.989538], G_step [113890/1000000], D_step[113890/1000000], d_out_real: 0.0042, d_out_fake: 0.0000, g_loss_fake: 0.9451\r\n"
     ]
    },
    {
     "name": "stdout",
     "output_type": "stream",
     "text": [
      "Elapsed [0:29:42.908481], G_step [113900/1000000], D_step[113900/1000000], d_out_real: 0.1224, d_out_fake: 0.0068, g_loss_fake: 1.0980\r\n"
     ]
    },
    {
     "name": "stdout",
     "output_type": "stream",
     "text": [
      "Elapsed [0:29:54.145385], G_step [113910/1000000], D_step[113910/1000000], d_out_real: 0.0000, d_out_fake: 0.1910, g_loss_fake: 1.1462\r\n"
     ]
    },
    {
     "name": "stdout",
     "output_type": "stream",
     "text": [
      "Elapsed [0:30:04.698786], G_step [113920/1000000], D_step[113920/1000000], d_out_real: 0.0000, d_out_fake: 0.0000, g_loss_fake: 1.1584\r\n"
     ]
    },
    {
     "name": "stdout",
     "output_type": "stream",
     "text": [
      "Elapsed [0:30:16.097240], G_step [113930/1000000], D_step[113930/1000000], d_out_real: 0.0000, d_out_fake: 0.0006, g_loss_fake: 1.0715\r\n"
     ]
    },
    {
     "name": "stdout",
     "output_type": "stream",
     "text": [
      "Elapsed [0:30:27.175130], G_step [113940/1000000], D_step[113940/1000000], d_out_real: 0.0631, d_out_fake: 0.0088, g_loss_fake: 1.0847\r\n"
     ]
    },
    {
     "name": "stdout",
     "output_type": "stream",
     "text": [
      "Elapsed [0:30:37.968939], G_step [113950/1000000], D_step[113950/1000000], d_out_real: 0.0000, d_out_fake: 0.1034, g_loss_fake: 0.8981\r\n"
     ]
    },
    {
     "name": "stdout",
     "output_type": "stream",
     "text": [
      "Elapsed [0:30:49.175377], G_step [113960/1000000], D_step[113960/1000000], d_out_real: 0.0517, d_out_fake: 0.1026, g_loss_fake: 1.1046\r\n"
     ]
    },
    {
     "name": "stdout",
     "output_type": "stream",
     "text": [
      "Elapsed [0:31:00.288711], G_step [113970/1000000], D_step[113970/1000000], d_out_real: 0.0415, d_out_fake: 0.1050, g_loss_fake: 1.0558\r\n"
     ]
    },
    {
     "name": "stdout",
     "output_type": "stream",
     "text": [
      "Elapsed [0:31:11.370987], G_step [113980/1000000], D_step[113980/1000000], d_out_real: 0.0695, d_out_fake: 0.0395, g_loss_fake: 1.1299\r\n"
     ]
    },
    {
     "name": "stdout",
     "output_type": "stream",
     "text": [
      "Elapsed [0:31:22.393371], G_step [113990/1000000], D_step[113990/1000000], d_out_real: 0.0417, d_out_fake: 0.4960, g_loss_fake: 1.0070\r\n"
     ]
    },
    {
     "name": "stdout",
     "output_type": "stream",
     "text": [
      "Elapsed [0:31:33.031340], G_step [114000/1000000], D_step[114000/1000000], d_out_real: 0.0000, d_out_fake: 0.0000, g_loss_fake: 1.1206\r\n",
      "Sample images 114000_fake.png\r\n"
     ]
    },
    {
     "name": "stdout",
     "output_type": "stream",
     "text": [
      "Elapsed [0:31:43.955088], G_step [114010/1000000], D_step[114010/1000000], d_out_real: 0.1221, d_out_fake: 0.0795, g_loss_fake: 1.0936\r\n"
     ]
    },
    {
     "name": "stdout",
     "output_type": "stream",
     "text": [
      "Elapsed [0:31:54.741387], G_step [114020/1000000], D_step[114020/1000000], d_out_real: 0.0809, d_out_fake: 0.0248, g_loss_fake: 1.0701\r\n"
     ]
    },
    {
     "name": "stdout",
     "output_type": "stream",
     "text": [
      "save torch\r\n"
     ]
    },
    {
     "name": "stdout",
     "output_type": "stream",
     "text": [
      "Elapsed [0:32:06.488193], G_step [114030/1000000], D_step[114030/1000000], d_out_real: 0.0811, d_out_fake: 0.0020, g_loss_fake: 1.1228\r\n"
     ]
    },
    {
     "name": "stdout",
     "output_type": "stream",
     "text": [
      "Elapsed [0:32:17.197195], G_step [114040/1000000], D_step[114040/1000000], d_out_real: 0.0000, d_out_fake: 0.1726, g_loss_fake: 1.1174\r\n"
     ]
    },
    {
     "name": "stdout",
     "output_type": "stream",
     "text": [
      "Elapsed [0:32:28.086069], G_step [114050/1000000], D_step[114050/1000000], d_out_real: 0.0000, d_out_fake: 0.0436, g_loss_fake: 1.0739\r\n"
     ]
    },
    {
     "name": "stdout",
     "output_type": "stream",
     "text": [
      "Elapsed [0:32:39.156717], G_step [114060/1000000], D_step[114060/1000000], d_out_real: 0.0000, d_out_fake: 0.0663, g_loss_fake: 0.9506\r\n"
     ]
    },
    {
     "name": "stdout",
     "output_type": "stream",
     "text": [
      "Elapsed [0:32:50.205382], G_step [114070/1000000], D_step[114070/1000000], d_out_real: 0.0000, d_out_fake: 0.0000, g_loss_fake: 0.9714\r\n"
     ]
    },
    {
     "name": "stdout",
     "output_type": "stream",
     "text": [
      "Elapsed [0:33:01.562799], G_step [114080/1000000], D_step[114080/1000000], d_out_real: 0.0325, d_out_fake: 0.0000, g_loss_fake: 1.0871\r\n"
     ]
    },
    {
     "name": "stdout",
     "output_type": "stream",
     "text": [
      "Elapsed [0:33:12.156131], G_step [114090/1000000], D_step[114090/1000000], d_out_real: 0.0786, d_out_fake: 0.0059, g_loss_fake: 1.0179\r\n"
     ]
    },
    {
     "name": "stdout",
     "output_type": "stream",
     "text": [
      "Elapsed [0:33:22.898439], G_step [114100/1000000], D_step[114100/1000000], d_out_real: 0.0000, d_out_fake: 0.0000, g_loss_fake: 1.0906\r\n"
     ]
    },
    {
     "name": "stdout",
     "output_type": "stream",
     "text": [
      "Elapsed [0:33:34.062448], G_step [114110/1000000], D_step[114110/1000000], d_out_real: 0.0063, d_out_fake: 0.1210, g_loss_fake: 1.0085\r\n"
     ]
    },
    {
     "name": "stdout",
     "output_type": "stream",
     "text": [
      "Elapsed [0:33:45.033840], G_step [114120/1000000], D_step[114120/1000000], d_out_real: 0.0000, d_out_fake: 0.0595, g_loss_fake: 1.1259\r\n"
     ]
    },
    {
     "name": "stdout",
     "output_type": "stream",
     "text": [
      "Elapsed [0:33:55.767997], G_step [114130/1000000], D_step[114130/1000000], d_out_real: 0.0788, d_out_fake: 0.0000, g_loss_fake: 0.8166\r\n"
     ]
    },
    {
     "name": "stdout",
     "output_type": "stream",
     "text": [
      "Elapsed [0:34:06.817020], G_step [114140/1000000], D_step[114140/1000000], d_out_real: 0.0665, d_out_fake: 0.0008, g_loss_fake: 0.9710\r\n"
     ]
    },
    {
     "name": "stdout",
     "output_type": "stream",
     "text": [
      "Elapsed [0:34:18.790500], G_step [114150/1000000], D_step[114150/1000000], d_out_real: 0.1252, d_out_fake: 0.0000, g_loss_fake: 1.0505\r\n"
     ]
    },
    {
     "name": "stdout",
     "output_type": "stream",
     "text": [
      "Elapsed [0:34:30.398662], G_step [114160/1000000], D_step[114160/1000000], d_out_real: 0.0000, d_out_fake: 0.0570, g_loss_fake: 1.0421\r\n"
     ]
    },
    {
     "name": "stdout",
     "output_type": "stream",
     "text": [
      "Elapsed [0:34:41.405708], G_step [114170/1000000], D_step[114170/1000000], d_out_real: 0.0496, d_out_fake: 0.1150, g_loss_fake: 1.1247\r\n"
     ]
    },
    {
     "name": "stdout",
     "output_type": "stream",
     "text": [
      "Elapsed [0:34:52.091835], G_step [114180/1000000], D_step[114180/1000000], d_out_real: 0.0610, d_out_fake: 0.0848, g_loss_fake: 1.0542\r\n"
     ]
    },
    {
     "name": "stdout",
     "output_type": "stream",
     "text": [
      "Elapsed [0:35:04.049590], G_step [114190/1000000], D_step[114190/1000000], d_out_real: 0.0667, d_out_fake: 0.0562, g_loss_fake: 1.1387\r\n"
     ]
    },
    {
     "name": "stdout",
     "output_type": "stream",
     "text": [
      "Elapsed [0:35:15.561661], G_step [114200/1000000], D_step[114200/1000000], d_out_real: 0.2024, d_out_fake: 0.0000, g_loss_fake: 1.0699\r\n"
     ]
    },
    {
     "name": "stdout",
     "output_type": "stream",
     "text": [
      "Elapsed [0:35:26.151592], G_step [114210/1000000], D_step[114210/1000000], d_out_real: 0.1362, d_out_fake: 0.0187, g_loss_fake: 1.0673\r\n"
     ]
    },
    {
     "name": "stdout",
     "output_type": "stream",
     "text": [
      "Elapsed [0:35:36.984762], G_step [114220/1000000], D_step[114220/1000000], d_out_real: 0.0642, d_out_fake: 0.0635, g_loss_fake: 1.1247\r\n"
     ]
    },
    {
     "name": "stdout",
     "output_type": "stream",
     "text": [
      "Elapsed [0:35:48.255583], G_step [114230/1000000], D_step[114230/1000000], d_out_real: 0.1960, d_out_fake: 0.0027, g_loss_fake: 1.0499\r\n"
     ]
    },
    {
     "name": "stdout",
     "output_type": "stream",
     "text": [
      "Elapsed [0:35:58.824396], G_step [114240/1000000], D_step[114240/1000000], d_out_real: 0.1151, d_out_fake: 0.0633, g_loss_fake: 0.9623\r\n"
     ]
    },
    {
     "name": "stdout",
     "output_type": "stream",
     "text": [
      "Elapsed [0:36:10.262675], G_step [114250/1000000], D_step[114250/1000000], d_out_real: 0.0270, d_out_fake: 0.0007, g_loss_fake: 0.9983\r\n"
     ]
    },
    {
     "name": "stdout",
     "output_type": "stream",
     "text": [
      "Elapsed [0:36:21.320789], G_step [114260/1000000], D_step[114260/1000000], d_out_real: 0.0000, d_out_fake: 0.0640, g_loss_fake: 0.9880\r\n"
     ]
    },
    {
     "name": "stdout",
     "output_type": "stream",
     "text": [
      "Elapsed [0:36:32.144096], G_step [114270/1000000], D_step[114270/1000000], d_out_real: 0.0784, d_out_fake: 0.0624, g_loss_fake: 1.1073\r\n"
     ]
    },
    {
     "name": "stdout",
     "output_type": "stream",
     "text": [
      "Elapsed [0:36:43.736304], G_step [114280/1000000], D_step[114280/1000000], d_out_real: 0.0000, d_out_fake: 0.0003, g_loss_fake: 1.0476\r\n"
     ]
    },
    {
     "name": "stdout",
     "output_type": "stream",
     "text": [
      "Elapsed [0:36:54.332778], G_step [114290/1000000], D_step[114290/1000000], d_out_real: 0.0816, d_out_fake: 0.0000, g_loss_fake: 1.0443\r\n"
     ]
    },
    {
     "name": "stdout",
     "output_type": "stream",
     "text": [
      "Elapsed [0:37:06.128799], G_step [114300/1000000], D_step[114300/1000000], d_out_real: 0.0650, d_out_fake: 0.0344, g_loss_fake: 1.0615\r\n"
     ]
    },
    {
     "name": "stdout",
     "output_type": "stream",
     "text": [
      "Elapsed [0:37:16.818162], G_step [114310/1000000], D_step[114310/1000000], d_out_real: 0.0639, d_out_fake: 0.0011, g_loss_fake: 1.0681\r\n"
     ]
    },
    {
     "name": "stdout",
     "output_type": "stream",
     "text": [
      "Elapsed [0:37:27.544855], G_step [114320/1000000], D_step[114320/1000000], d_out_real: 0.1378, d_out_fake: 0.0000, g_loss_fake: 1.0420\r\n"
     ]
    },
    {
     "name": "stdout",
     "output_type": "stream",
     "text": [
      "Elapsed [0:37:38.270338], G_step [114330/1000000], D_step[114330/1000000], d_out_real: 0.0656, d_out_fake: 0.0000, g_loss_fake: 1.0927\r\n"
     ]
    },
    {
     "name": "stdout",
     "output_type": "stream",
     "text": [
      "Elapsed [0:37:48.996910], G_step [114340/1000000], D_step[114340/1000000], d_out_real: 0.0000, d_out_fake: 0.1823, g_loss_fake: 0.9948\r\n"
     ]
    },
    {
     "name": "stdout",
     "output_type": "stream",
     "text": [
      "Elapsed [0:38:00.319473], G_step [114350/1000000], D_step[114350/1000000], d_out_real: 0.0000, d_out_fake: 0.1727, g_loss_fake: 1.0567\r\n"
     ]
    },
    {
     "name": "stdout",
     "output_type": "stream",
     "text": [
      "Elapsed [0:38:10.960498], G_step [114360/1000000], D_step[114360/1000000], d_out_real: 0.1225, d_out_fake: 0.0250, g_loss_fake: 1.0088\r\n"
     ]
    },
    {
     "name": "stdout",
     "output_type": "stream",
     "text": [
      "Elapsed [0:38:21.620565], G_step [114370/1000000], D_step[114370/1000000], d_out_real: 0.0029, d_out_fake: 0.0001, g_loss_fake: 1.1177\r\n"
     ]
    },
    {
     "name": "stdout",
     "output_type": "stream",
     "text": [
      "Elapsed [0:38:32.714025], G_step [114380/1000000], D_step[114380/1000000], d_out_real: 0.2778, d_out_fake: 0.0000, g_loss_fake: 1.0125\r\n"
     ]
    },
    {
     "name": "stdout",
     "output_type": "stream",
     "text": [
      "Elapsed [0:38:44.210514], G_step [114390/1000000], D_step[114390/1000000], d_out_real: 0.0650, d_out_fake: 0.0000, g_loss_fake: 1.0925\r\n"
     ]
    },
    {
     "name": "stdout",
     "output_type": "stream",
     "text": [
      "Elapsed [0:38:55.484030], G_step [114400/1000000], D_step[114400/1000000], d_out_real: 0.0000, d_out_fake: 0.0835, g_loss_fake: 1.0799\r\n"
     ]
    },
    {
     "name": "stdout",
     "output_type": "stream",
     "text": [
      "Elapsed [0:39:07.295129], G_step [114410/1000000], D_step[114410/1000000], d_out_real: 0.2473, d_out_fake: 0.0113, g_loss_fake: 0.9375\r\n"
     ]
    },
    {
     "name": "stdout",
     "output_type": "stream",
     "text": [
      "Elapsed [0:39:18.244245], G_step [114420/1000000], D_step[114420/1000000], d_out_real: 0.1273, d_out_fake: 0.0612, g_loss_fake: 1.0777\r\n"
     ]
    },
    {
     "name": "stdout",
     "output_type": "stream",
     "text": [
      "Elapsed [0:39:29.211565], G_step [114430/1000000], D_step[114430/1000000], d_out_real: 0.0237, d_out_fake: 0.0459, g_loss_fake: 1.1393\r\n"
     ]
    },
    {
     "name": "stdout",
     "output_type": "stream",
     "text": [
      "Elapsed [0:39:40.169919], G_step [114440/1000000], D_step[114440/1000000], d_out_real: 0.0000, d_out_fake: 0.0630, g_loss_fake: 1.0481\r\n"
     ]
    },
    {
     "name": "stdout",
     "output_type": "stream",
     "text": [
      "Elapsed [0:39:50.847364], G_step [114450/1000000], D_step[114450/1000000], d_out_real: 0.1521, d_out_fake: 0.1327, g_loss_fake: 1.0509\r\n"
     ]
    },
    {
     "name": "stdout",
     "output_type": "stream",
     "text": [
      "Elapsed [0:40:01.812162], G_step [114460/1000000], D_step[114460/1000000], d_out_real: 0.1256, d_out_fake: 0.1900, g_loss_fake: 0.9638\r\n"
     ]
    },
    {
     "name": "stdout",
     "output_type": "stream",
     "text": [
      "Elapsed [0:40:12.835845], G_step [114470/1000000], D_step[114470/1000000], d_out_real: 0.1273, d_out_fake: 0.0000, g_loss_fake: 0.9692\r\n"
     ]
    },
    {
     "name": "stdout",
     "output_type": "stream",
     "text": [
      "Elapsed [0:40:23.463077], G_step [114480/1000000], D_step[114480/1000000], d_out_real: 0.0000, d_out_fake: 0.0710, g_loss_fake: 1.0390\r\n"
     ]
    },
    {
     "name": "stdout",
     "output_type": "stream",
     "text": [
      "Elapsed [0:40:34.254851], G_step [114490/1000000], D_step[114490/1000000], d_out_real: 0.0000, d_out_fake: 0.0041, g_loss_fake: 1.0718\r\n"
     ]
    },
    {
     "name": "stdout",
     "output_type": "stream",
     "text": [
      "Elapsed [0:40:46.325595], G_step [114500/1000000], D_step[114500/1000000], d_out_real: 0.1414, d_out_fake: 0.1138, g_loss_fake: 1.0865\r\n"
     ]
    },
    {
     "name": "stdout",
     "output_type": "stream",
     "text": [
      "Elapsed [0:40:57.016114], G_step [114510/1000000], D_step[114510/1000000], d_out_real: 0.0012, d_out_fake: 0.0830, g_loss_fake: 1.0688\r\n"
     ]
    },
    {
     "name": "stdout",
     "output_type": "stream",
     "text": [
      "Elapsed [0:41:07.647700], G_step [114520/1000000], D_step[114520/1000000], d_out_real: 0.1282, d_out_fake: 0.0000, g_loss_fake: 1.0140\r\n"
     ]
    },
    {
     "name": "stdout",
     "output_type": "stream",
     "text": [
      "Elapsed [0:41:18.504283], G_step [114530/1000000], D_step[114530/1000000], d_out_real: 0.0000, d_out_fake: 0.0684, g_loss_fake: 1.0595\r\n"
     ]
    },
    {
     "name": "stdout",
     "output_type": "stream",
     "text": [
      "Elapsed [0:41:29.190298], G_step [114540/1000000], D_step[114540/1000000], d_out_real: 0.1881, d_out_fake: 0.0009, g_loss_fake: 1.0747\r\n"
     ]
    },
    {
     "name": "stdout",
     "output_type": "stream",
     "text": [
      "Elapsed [0:41:40.650003], G_step [114550/1000000], D_step[114550/1000000], d_out_real: 0.1321, d_out_fake: 0.0010, g_loss_fake: 1.1574\r\n"
     ]
    },
    {
     "name": "stdout",
     "output_type": "stream",
     "text": [
      "Elapsed [0:41:51.412601], G_step [114560/1000000], D_step[114560/1000000], d_out_real: 0.0616, d_out_fake: 0.0010, g_loss_fake: 1.0572\r\n"
     ]
    },
    {
     "name": "stdout",
     "output_type": "stream",
     "text": [
      "Elapsed [0:42:02.888972], G_step [114570/1000000], D_step[114570/1000000], d_out_real: 0.1039, d_out_fake: 0.0000, g_loss_fake: 0.9714\r\n"
     ]
    },
    {
     "name": "stdout",
     "output_type": "stream",
     "text": [
      "Elapsed [0:42:13.629560], G_step [114580/1000000], D_step[114580/1000000], d_out_real: 0.0592, d_out_fake: 0.0340, g_loss_fake: 1.1075\r\n"
     ]
    },
    {
     "name": "stdout",
     "output_type": "stream",
     "text": [
      "Elapsed [0:42:25.120043], G_step [114590/1000000], D_step[114590/1000000], d_out_real: 0.0097, d_out_fake: 0.0000, g_loss_fake: 1.0762\r\n"
     ]
    },
    {
     "name": "stdout",
     "output_type": "stream",
     "text": [
      "Elapsed [0:42:36.245176], G_step [114600/1000000], D_step[114600/1000000], d_out_real: 0.1071, d_out_fake: 0.0000, g_loss_fake: 0.8119\r\n"
     ]
    },
    {
     "name": "stdout",
     "output_type": "stream",
     "text": [
      "Elapsed [0:42:46.973806], G_step [114610/1000000], D_step[114610/1000000], d_out_real: 0.0000, d_out_fake: 0.0057, g_loss_fake: 1.1531\r\n"
     ]
    },
    {
     "name": "stdout",
     "output_type": "stream",
     "text": [
      "Elapsed [0:42:58.142518], G_step [114620/1000000], D_step[114620/1000000], d_out_real: 0.0310, d_out_fake: 0.0000, g_loss_fake: 1.0501\r\n"
     ]
    },
    {
     "name": "stdout",
     "output_type": "stream",
     "text": [
      "Elapsed [0:43:09.095742], G_step [114630/1000000], D_step[114630/1000000], d_out_real: 0.1355, d_out_fake: 0.0523, g_loss_fake: 1.0684\r\n"
     ]
    },
    {
     "name": "stdout",
     "output_type": "stream",
     "text": [
      "Elapsed [0:43:19.935989], G_step [114640/1000000], D_step[114640/1000000], d_out_real: 0.0000, d_out_fake: 0.0456, g_loss_fake: 0.9971\r\n"
     ]
    },
    {
     "name": "stdout",
     "output_type": "stream",
     "text": [
      "Elapsed [0:43:30.912375], G_step [114650/1000000], D_step[114650/1000000], d_out_real: 0.1513, d_out_fake: 0.0000, g_loss_fake: 0.9676\r\n"
     ]
    },
    {
     "name": "stdout",
     "output_type": "stream",
     "text": [
      "Elapsed [0:43:41.865839], G_step [114660/1000000], D_step[114660/1000000], d_out_real: 0.1304, d_out_fake: 0.0000, g_loss_fake: 1.0226\r\n"
     ]
    },
    {
     "name": "stdout",
     "output_type": "stream",
     "text": [
      "Elapsed [0:43:52.599620], G_step [114670/1000000], D_step[114670/1000000], d_out_real: 0.0649, d_out_fake: 0.0373, g_loss_fake: 1.0055\r\n"
     ]
    },
    {
     "name": "stdout",
     "output_type": "stream",
     "text": [
      "Elapsed [0:44:03.641006], G_step [114680/1000000], D_step[114680/1000000], d_out_real: 0.1535, d_out_fake: 0.0551, g_loss_fake: 1.0522\r\n"
     ]
    },
    {
     "name": "stdout",
     "output_type": "stream",
     "text": [
      "Elapsed [0:44:14.571757], G_step [114690/1000000], D_step[114690/1000000], d_out_real: 0.0281, d_out_fake: 0.0000, g_loss_fake: 1.0233\r\n"
     ]
    },
    {
     "name": "stdout",
     "output_type": "stream",
     "text": [
      "Elapsed [0:44:25.701006], G_step [114700/1000000], D_step[114700/1000000], d_out_real: 0.0709, d_out_fake: 0.0108, g_loss_fake: 1.1075\r\n"
     ]
    },
    {
     "name": "stdout",
     "output_type": "stream",
     "text": [
      "Elapsed [0:44:36.606141], G_step [114710/1000000], D_step[114710/1000000], d_out_real: 0.0833, d_out_fake: 0.0000, g_loss_fake: 0.9046\r\n"
     ]
    },
    {
     "name": "stdout",
     "output_type": "stream",
     "text": [
      "Elapsed [0:44:47.693807], G_step [114720/1000000], D_step[114720/1000000], d_out_real: 0.0000, d_out_fake: 0.0054, g_loss_fake: 1.1448\r\n"
     ]
    },
    {
     "name": "stdout",
     "output_type": "stream",
     "text": [
      "Elapsed [0:44:59.407884], G_step [114730/1000000], D_step[114730/1000000], d_out_real: 0.0000, d_out_fake: 0.1157, g_loss_fake: 1.0863\r\n"
     ]
    },
    {
     "name": "stdout",
     "output_type": "stream",
     "text": [
      "Elapsed [0:45:10.117968], G_step [114740/1000000], D_step[114740/1000000], d_out_real: 0.1279, d_out_fake: 0.0632, g_loss_fake: 1.0379\r\n"
     ]
    },
    {
     "name": "stdout",
     "output_type": "stream",
     "text": [
      "Elapsed [0:45:20.707540], G_step [114750/1000000], D_step[114750/1000000], d_out_real: 0.0632, d_out_fake: 0.0000, g_loss_fake: 1.0374\r\n"
     ]
    },
    {
     "name": "stdout",
     "output_type": "stream",
     "text": [
      "Elapsed [0:45:31.362065], G_step [114760/1000000], D_step[114760/1000000], d_out_real: 0.0000, d_out_fake: 0.0226, g_loss_fake: 1.0808\r\n"
     ]
    },
    {
     "name": "stdout",
     "output_type": "stream",
     "text": [
      "Elapsed [0:45:43.733479], G_step [114770/1000000], D_step[114770/1000000], d_out_real: 0.0640, d_out_fake: 0.1641, g_loss_fake: 1.0755\r\n"
     ]
    },
    {
     "name": "stdout",
     "output_type": "stream",
     "text": [
      "Elapsed [0:45:55.345937], G_step [114780/1000000], D_step[114780/1000000], d_out_real: 0.1315, d_out_fake: 0.0000, g_loss_fake: 0.8957\r\n"
     ]
    },
    {
     "name": "stdout",
     "output_type": "stream",
     "text": [
      "Elapsed [0:46:07.622431], G_step [114790/1000000], D_step[114790/1000000], d_out_real: 0.0643, d_out_fake: 0.0021, g_loss_fake: 0.9039\r\n"
     ]
    },
    {
     "name": "stdout",
     "output_type": "stream",
     "text": [
      "Elapsed [0:46:19.045672], G_step [114800/1000000], D_step[114800/1000000], d_out_real: 0.0710, d_out_fake: 0.0000, g_loss_fake: 1.0986\r\n"
     ]
    },
    {
     "name": "stdout",
     "output_type": "stream",
     "text": [
      "Elapsed [0:46:30.095782], G_step [114810/1000000], D_step[114810/1000000], d_out_real: 0.0000, d_out_fake: 0.1132, g_loss_fake: 1.1284\r\n"
     ]
    },
    {
     "name": "stdout",
     "output_type": "stream",
     "text": [
      "Elapsed [0:46:40.901245], G_step [114820/1000000], D_step[114820/1000000], d_out_real: 0.1078, d_out_fake: 0.0000, g_loss_fake: 1.0523\r\n"
     ]
    },
    {
     "name": "stdout",
     "output_type": "stream",
     "text": [
      "Elapsed [0:46:52.000724], G_step [114830/1000000], D_step[114830/1000000], d_out_real: 0.2465, d_out_fake: 0.1118, g_loss_fake: 0.9578\r\n"
     ]
    },
    {
     "name": "stdout",
     "output_type": "stream",
     "text": [
      "Elapsed [0:47:03.414965], G_step [114840/1000000], D_step[114840/1000000], d_out_real: 0.1299, d_out_fake: 0.0639, g_loss_fake: 1.1256\r\n"
     ]
    },
    {
     "name": "stdout",
     "output_type": "stream",
     "text": [
      "Elapsed [0:47:14.304780], G_step [114850/1000000], D_step[114850/1000000], d_out_real: 0.0000, d_out_fake: 0.0161, g_loss_fake: 1.0984\r\n"
     ]
    },
    {
     "name": "stdout",
     "output_type": "stream",
     "text": [
      "Elapsed [0:47:25.330034], G_step [114860/1000000], D_step[114860/1000000], d_out_real: 0.1155, d_out_fake: 0.0703, g_loss_fake: 0.8487\r\n"
     ]
    },
    {
     "name": "stdout",
     "output_type": "stream",
     "text": [
      "Elapsed [0:47:36.278131], G_step [114870/1000000], D_step[114870/1000000], d_out_real: 0.1237, d_out_fake: 0.1134, g_loss_fake: 0.9598\r\n"
     ]
    },
    {
     "name": "stdout",
     "output_type": "stream",
     "text": [
      "Elapsed [0:47:47.223243], G_step [114880/1000000], D_step[114880/1000000], d_out_real: 0.1258, d_out_fake: 0.0330, g_loss_fake: 1.0915\r\n"
     ]
    },
    {
     "name": "stdout",
     "output_type": "stream",
     "text": [
      "Elapsed [0:47:58.044455], G_step [114890/1000000], D_step[114890/1000000], d_out_real: 0.0000, d_out_fake: 0.0000, g_loss_fake: 1.1367\r\n"
     ]
    },
    {
     "name": "stdout",
     "output_type": "stream",
     "text": [
      "Elapsed [0:48:09.832178], G_step [114900/1000000], D_step[114900/1000000], d_out_real: 0.0000, d_out_fake: 0.0736, g_loss_fake: 1.1245\r\n"
     ]
    },
    {
     "name": "stdout",
     "output_type": "stream",
     "text": [
      "Elapsed [0:48:21.029899], G_step [114910/1000000], D_step[114910/1000000], d_out_real: 0.2268, d_out_fake: 0.0033, g_loss_fake: 1.0950\r\n"
     ]
    },
    {
     "name": "stdout",
     "output_type": "stream",
     "text": [
      "Elapsed [0:48:31.735535], G_step [114920/1000000], D_step[114920/1000000], d_out_real: 0.1813, d_out_fake: 0.0081, g_loss_fake: 1.0306\r\n"
     ]
    },
    {
     "name": "stdout",
     "output_type": "stream",
     "text": [
      "Elapsed [0:48:43.284313], G_step [114930/1000000], D_step[114930/1000000], d_out_real: 0.1289, d_out_fake: 0.0000, g_loss_fake: 1.1142\r\n"
     ]
    },
    {
     "name": "stdout",
     "output_type": "stream",
     "text": [
      "Elapsed [0:48:54.422277], G_step [114940/1000000], D_step[114940/1000000], d_out_real: 0.2537, d_out_fake: 0.0000, g_loss_fake: 1.0636\r\n"
     ]
    },
    {
     "name": "stdout",
     "output_type": "stream",
     "text": [
      "Elapsed [0:49:04.990601], G_step [114950/1000000], D_step[114950/1000000], d_out_real: 0.1001, d_out_fake: 0.0000, g_loss_fake: 0.9188\r\n"
     ]
    },
    {
     "name": "stdout",
     "output_type": "stream",
     "text": [
      "Elapsed [0:49:16.184754], G_step [114960/1000000], D_step[114960/1000000], d_out_real: 0.1954, d_out_fake: 0.1028, g_loss_fake: 1.1672\r\n"
     ]
    },
    {
     "name": "stdout",
     "output_type": "stream",
     "text": [
      "Elapsed [0:49:27.303010], G_step [114970/1000000], D_step[114970/1000000], d_out_real: 0.0686, d_out_fake: 0.0040, g_loss_fake: 1.0806\r\n"
     ]
    },
    {
     "name": "stdout",
     "output_type": "stream",
     "text": [
      "Elapsed [0:49:37.937514], G_step [114980/1000000], D_step[114980/1000000], d_out_real: 0.0625, d_out_fake: 0.0766, g_loss_fake: 1.1197\r\n"
     ]
    },
    {
     "name": "stdout",
     "output_type": "stream",
     "text": [
      "Elapsed [0:49:48.728095], G_step [114990/1000000], D_step[114990/1000000], d_out_real: 0.0068, d_out_fake: 0.0132, g_loss_fake: 1.1387\r\n"
     ]
    },
    {
     "name": "stdout",
     "output_type": "stream",
     "text": [
      "Elapsed [0:50:00.131411], G_step [115000/1000000], D_step[115000/1000000], d_out_real: 0.0624, d_out_fake: 0.0000, g_loss_fake: 1.0916\r\n",
      "Sample images 115000_fake.png\r\n"
     ]
    },
    {
     "name": "stdout",
     "output_type": "stream",
     "text": [
      "Elapsed [0:50:11.297589], G_step [115010/1000000], D_step[115010/1000000], d_out_real: 0.1217, d_out_fake: 0.1837, g_loss_fake: 1.1363\r\n"
     ]
    },
    {
     "name": "stdout",
     "output_type": "stream",
     "text": [
      "Elapsed [0:50:22.147259], G_step [115020/1000000], D_step[115020/1000000], d_out_real: 0.0084, d_out_fake: 0.0940, g_loss_fake: 1.0957\r\n"
     ]
    },
    {
     "name": "stdout",
     "output_type": "stream",
     "text": [
      "Elapsed [0:50:32.790285], G_step [115030/1000000], D_step[115030/1000000], d_out_real: 0.1758, d_out_fake: 0.0000, g_loss_fake: 1.0484\r\n"
     ]
    },
    {
     "name": "stdout",
     "output_type": "stream",
     "text": [
      "Elapsed [0:50:44.333278], G_step [115040/1000000], D_step[115040/1000000], d_out_real: 0.1778, d_out_fake: 0.0000, g_loss_fake: 1.0288\r\n"
     ]
    },
    {
     "name": "stdout",
     "output_type": "stream",
     "text": [
      "Elapsed [0:50:54.997004], G_step [115050/1000000], D_step[115050/1000000], d_out_real: 0.0535, d_out_fake: 0.0000, g_loss_fake: 1.0637\r\n"
     ]
    },
    {
     "name": "stdout",
     "output_type": "stream",
     "text": [
      "Elapsed [0:51:05.950393], G_step [115060/1000000], D_step[115060/1000000], d_out_real: 0.0621, d_out_fake: 0.0000, g_loss_fake: 1.0627\r\n"
     ]
    },
    {
     "name": "stdout",
     "output_type": "stream",
     "text": [
      "Elapsed [0:51:17.428877], G_step [115070/1000000], D_step[115070/1000000], d_out_real: 0.0000, d_out_fake: 0.1685, g_loss_fake: 1.0953\r\n"
     ]
    },
    {
     "name": "stdout",
     "output_type": "stream",
     "text": [
      "Elapsed [0:51:28.559445], G_step [115080/1000000], D_step[115080/1000000], d_out_real: 0.0650, d_out_fake: 0.0694, g_loss_fake: 1.0693\r\n"
     ]
    },
    {
     "name": "stdout",
     "output_type": "stream",
     "text": [
      "Elapsed [0:51:39.561750], G_step [115090/1000000], D_step[115090/1000000], d_out_real: 0.0000, d_out_fake: 0.0807, g_loss_fake: 1.0818\r\n"
     ]
    },
    {
     "name": "stdout",
     "output_type": "stream",
     "text": [
      "Elapsed [0:51:51.466143], G_step [115100/1000000], D_step[115100/1000000], d_out_real: 0.1296, d_out_fake: 0.0000, g_loss_fake: 1.0300\r\n"
     ]
    },
    {
     "name": "stdout",
     "output_type": "stream",
     "text": [
      "Elapsed [0:52:03.437153], G_step [115110/1000000], D_step[115110/1000000], d_out_real: 0.0323, d_out_fake: 0.1054, g_loss_fake: 1.0915\r\n"
     ]
    },
    {
     "name": "stdout",
     "output_type": "stream",
     "text": [
      "Elapsed [0:52:14.465125], G_step [115120/1000000], D_step[115120/1000000], d_out_real: 0.0690, d_out_fake: 0.0631, g_loss_fake: 1.0961\r\n"
     ]
    },
    {
     "name": "stdout",
     "output_type": "stream",
     "text": [
      "Elapsed [0:52:25.541381], G_step [115130/1000000], D_step[115130/1000000], d_out_real: 0.1464, d_out_fake: 0.0008, g_loss_fake: 0.9822\r\n"
     ]
    },
    {
     "name": "stdout",
     "output_type": "stream",
     "text": [
      "Elapsed [0:52:36.621602], G_step [115140/1000000], D_step[115140/1000000], d_out_real: 0.1929, d_out_fake: 0.0100, g_loss_fake: 1.0784\r\n"
     ]
    },
    {
     "name": "stdout",
     "output_type": "stream",
     "text": [
      "Elapsed [0:52:47.264146], G_step [115150/1000000], D_step[115150/1000000], d_out_real: 0.1764, d_out_fake: 0.0302, g_loss_fake: 1.0215\r\n"
     ]
    },
    {
     "name": "stdout",
     "output_type": "stream",
     "text": [
      "Elapsed [0:52:58.141801], G_step [115160/1000000], D_step[115160/1000000], d_out_real: 0.0039, d_out_fake: 0.0239, g_loss_fake: 1.1037\r\n"
     ]
    },
    {
     "name": "stdout",
     "output_type": "stream",
     "text": [
      "Elapsed [0:53:09.218781], G_step [115170/1000000], D_step[115170/1000000], d_out_real: 0.0150, d_out_fake: 0.0000, g_loss_fake: 0.9881\r\n"
     ]
    },
    {
     "name": "stdout",
     "output_type": "stream",
     "text": [
      "Elapsed [0:53:20.747885], G_step [115180/1000000], D_step[115180/1000000], d_out_real: 0.0278, d_out_fake: 0.0811, g_loss_fake: 0.9988\r\n"
     ]
    },
    {
     "name": "stdout",
     "output_type": "stream",
     "text": [
      "Elapsed [0:53:31.911935], G_step [115190/1000000], D_step[115190/1000000], d_out_real: 0.2903, d_out_fake: 0.0636, g_loss_fake: 0.8414\r\n"
     ]
    },
    {
     "name": "stdout",
     "output_type": "stream",
     "text": [
      "Elapsed [0:53:42.538991], G_step [115200/1000000], D_step[115200/1000000], d_out_real: 0.0662, d_out_fake: 0.1450, g_loss_fake: 1.0260\r\n"
     ]
    },
    {
     "name": "stdout",
     "output_type": "stream",
     "text": [
      "Elapsed [0:53:54.080711], G_step [115210/1000000], D_step[115210/1000000], d_out_real: 0.1005, d_out_fake: 0.0000, g_loss_fake: 0.8710\r\n"
     ]
    },
    {
     "name": "stdout",
     "output_type": "stream",
     "text": [
      "Elapsed [0:54:05.154964], G_step [115220/1000000], D_step[115220/1000000], d_out_real: 0.1257, d_out_fake: 0.0000, g_loss_fake: 1.0239\r\n"
     ]
    },
    {
     "name": "stdout",
     "output_type": "stream",
     "text": [
      "Elapsed [0:54:16.323021], G_step [115230/1000000], D_step[115230/1000000], d_out_real: 0.0684, d_out_fake: 0.0015, g_loss_fake: 1.0630\r\n"
     ]
    },
    {
     "name": "stdout",
     "output_type": "stream",
     "text": [
      "Elapsed [0:54:27.418471], G_step [115240/1000000], D_step[115240/1000000], d_out_real: 0.0000, d_out_fake: 0.0000, g_loss_fake: 1.1273\r\n"
     ]
    },
    {
     "name": "stdout",
     "output_type": "stream",
     "text": [
      "Elapsed [0:54:38.306875], G_step [115250/1000000], D_step[115250/1000000], d_out_real: 0.0698, d_out_fake: 0.0000, g_loss_fake: 0.9320\r\n"
     ]
    },
    {
     "name": "stdout",
     "output_type": "stream",
     "text": [
      "Elapsed [0:54:49.211927], G_step [115260/1000000], D_step[115260/1000000], d_out_real: 0.0556, d_out_fake: 0.0000, g_loss_fake: 0.9962\r\n"
     ]
    },
    {
     "name": "stdout",
     "output_type": "stream",
     "text": [
      "Elapsed [0:55:00.421422], G_step [115270/1000000], D_step[115270/1000000], d_out_real: 0.2187, d_out_fake: 0.0582, g_loss_fake: 0.9646\r\n"
     ]
    },
    {
     "name": "stdout",
     "output_type": "stream",
     "text": [
      "Elapsed [0:55:10.987436], G_step [115280/1000000], D_step[115280/1000000], d_out_real: 0.0000, d_out_fake: 0.0242, g_loss_fake: 1.0649\r\n"
     ]
    },
    {
     "name": "stdout",
     "output_type": "stream",
     "text": [
      "Elapsed [0:55:22.041111], G_step [115290/1000000], D_step[115290/1000000], d_out_real: 0.2569, d_out_fake: 0.0000, g_loss_fake: 0.9815\r\n"
     ]
    },
    {
     "name": "stdout",
     "output_type": "stream",
     "text": [
      "Elapsed [0:55:33.048913], G_step [115300/1000000], D_step[115300/1000000], d_out_real: 0.0449, d_out_fake: 0.1276, g_loss_fake: 0.9063\r\n"
     ]
    },
    {
     "name": "stdout",
     "output_type": "stream",
     "text": [
      "Elapsed [0:55:44.251406], G_step [115310/1000000], D_step[115310/1000000], d_out_real: 0.3872, d_out_fake: 0.0033, g_loss_fake: 1.0400\r\n"
     ]
    },
    {
     "name": "stdout",
     "output_type": "stream",
     "text": [
      "Elapsed [0:55:54.901340], G_step [115320/1000000], D_step[115320/1000000], d_out_real: 0.2161, d_out_fake: 0.0011, g_loss_fake: 1.0494\r\n"
     ]
    },
    {
     "name": "stdout",
     "output_type": "stream",
     "text": [
      "Elapsed [0:56:06.507673], G_step [115330/1000000], D_step[115330/1000000], d_out_real: 0.0642, d_out_fake: 0.0020, g_loss_fake: 1.0616\r\n"
     ]
    },
    {
     "name": "stdout",
     "output_type": "stream",
     "text": [
      "Elapsed [0:56:17.280861], G_step [115340/1000000], D_step[115340/1000000], d_out_real: 0.0000, d_out_fake: 0.0612, g_loss_fake: 1.1336\r\n"
     ]
    },
    {
     "name": "stdout",
     "output_type": "stream",
     "text": [
      "Elapsed [0:56:28.880574], G_step [115350/1000000], D_step[115350/1000000], d_out_real: 0.2509, d_out_fake: 0.0049, g_loss_fake: 1.0214\r\n"
     ]
    },
    {
     "name": "stdout",
     "output_type": "stream",
     "text": [
      "Elapsed [0:56:39.592633], G_step [115360/1000000], D_step[115360/1000000], d_out_real: 0.0603, d_out_fake: 0.1809, g_loss_fake: 1.0891\r\n"
     ]
    },
    {
     "name": "stdout",
     "output_type": "stream",
     "text": [
      "Elapsed [0:56:50.128964], G_step [115370/1000000], D_step[115370/1000000], d_out_real: 0.4858, d_out_fake: 0.0000, g_loss_fake: 1.0762\r\n"
     ]
    },
    {
     "name": "stdout",
     "output_type": "stream",
     "text": [
      "Elapsed [0:57:00.929246], G_step [115380/1000000], D_step[115380/1000000], d_out_real: 0.0014, d_out_fake: 0.0012, g_loss_fake: 1.0312\r\n"
     ]
    },
    {
     "name": "stdout",
     "output_type": "stream",
     "text": [
      "Elapsed [0:57:11.578446], G_step [115390/1000000], D_step[115390/1000000], d_out_real: 0.0000, d_out_fake: 0.0015, g_loss_fake: 1.0068\r\n"
     ]
    },
    {
     "name": "stdout",
     "output_type": "stream",
     "text": [
      "Elapsed [0:57:22.759342], G_step [115400/1000000], D_step[115400/1000000], d_out_real: 0.0601, d_out_fake: 0.0007, g_loss_fake: 1.0442\r\n"
     ]
    },
    {
     "name": "stdout",
     "output_type": "stream",
     "text": [
      "Elapsed [0:57:33.706135], G_step [115410/1000000], D_step[115410/1000000], d_out_real: 0.0000, d_out_fake: 0.1125, g_loss_fake: 1.0384\r\n"
     ]
    },
    {
     "name": "stdout",
     "output_type": "stream",
     "text": [
      "Elapsed [0:57:44.322880], G_step [115420/1000000], D_step[115420/1000000], d_out_real: 0.0612, d_out_fake: 0.0730, g_loss_fake: 0.9664\r\n"
     ]
    },
    {
     "name": "stdout",
     "output_type": "stream",
     "text": [
      "Elapsed [0:57:56.591447], G_step [115430/1000000], D_step[115430/1000000], d_out_real: 0.1879, d_out_fake: 0.0000, g_loss_fake: 0.9907\r\n"
     ]
    },
    {
     "name": "stdout",
     "output_type": "stream",
     "text": [
      "Elapsed [0:58:07.652083], G_step [115440/1000000], D_step[115440/1000000], d_out_real: 0.2541, d_out_fake: 0.0152, g_loss_fake: 0.9422\r\n"
     ]
    },
    {
     "name": "stdout",
     "output_type": "stream",
     "text": [
      "Elapsed [0:58:19.231095], G_step [115450/1000000], D_step[115450/1000000], d_out_real: 0.1949, d_out_fake: 0.0000, g_loss_fake: 1.0749\r\n"
     ]
    },
    {
     "name": "stdout",
     "output_type": "stream",
     "text": [
      "Elapsed [0:58:30.193260], G_step [115460/1000000], D_step[115460/1000000], d_out_real: 0.0604, d_out_fake: 0.0021, g_loss_fake: 1.0476\r\n"
     ]
    },
    {
     "name": "stdout",
     "output_type": "stream",
     "text": [
      "Elapsed [0:58:41.834188], G_step [115470/1000000], D_step[115470/1000000], d_out_real: 0.0349, d_out_fake: 0.1248, g_loss_fake: 0.8122\r\n"
     ]
    },
    {
     "name": "stdout",
     "output_type": "stream",
     "text": [
      "Elapsed [0:58:52.961644], G_step [115480/1000000], D_step[115480/1000000], d_out_real: 0.0013, d_out_fake: 0.0000, g_loss_fake: 0.9505\r\n"
     ]
    },
    {
     "name": "stdout",
     "output_type": "stream",
     "text": [
      "Elapsed [0:59:03.463994], G_step [115490/1000000], D_step[115490/1000000], d_out_real: 0.1302, d_out_fake: 0.0988, g_loss_fake: 1.0579\r\n"
     ]
    },
    {
     "name": "stdout",
     "output_type": "stream",
     "text": [
      "Elapsed [0:59:14.582790], G_step [115500/1000000], D_step[115500/1000000], d_out_real: 0.0369, d_out_fake: 0.0619, g_loss_fake: 0.8047\r\n"
     ]
    },
    {
     "name": "stdout",
     "output_type": "stream",
     "text": [
      "Elapsed [0:59:25.684321], G_step [115510/1000000], D_step[115510/1000000], d_out_real: 0.1389, d_out_fake: 0.0000, g_loss_fake: 1.0362\r\n"
     ]
    },
    {
     "name": "stdout",
     "output_type": "stream",
     "text": [
      "Elapsed [0:59:36.503489], G_step [115520/1000000], D_step[115520/1000000], d_out_real: 0.0713, d_out_fake: 0.0000, g_loss_fake: 1.0080\r\n"
     ]
    },
    {
     "name": "stdout",
     "output_type": "stream",
     "text": [
      "Elapsed [0:59:47.515849], G_step [115530/1000000], D_step[115530/1000000], d_out_real: 0.0075, d_out_fake: 0.0508, g_loss_fake: 1.1224\r\n"
     ]
    },
    {
     "name": "stdout",
     "output_type": "stream",
     "text": [
      "Elapsed [0:59:58.229415], G_step [115540/1000000], D_step[115540/1000000], d_out_real: 0.0634, d_out_fake: 0.1141, g_loss_fake: 1.1173\r\n"
     ]
    },
    {
     "name": "stdout",
     "output_type": "stream",
     "text": [
      "Elapsed [1:00:09.588873], G_step [115550/1000000], D_step[115550/1000000], d_out_real: 0.0746, d_out_fake: 0.0000, g_loss_fake: 1.0516\r\n"
     ]
    },
    {
     "name": "stdout",
     "output_type": "stream",
     "text": [
      "Elapsed [1:00:20.735729], G_step [115560/1000000], D_step[115560/1000000], d_out_real: 0.0408, d_out_fake: 0.0538, g_loss_fake: 1.0228\r\n"
     ]
    },
    {
     "name": "stdout",
     "output_type": "stream",
     "text": [
      "Elapsed [1:00:31.968796], G_step [115570/1000000], D_step[115570/1000000], d_out_real: 0.1118, d_out_fake: 0.1979, g_loss_fake: 1.1637\r\n"
     ]
    },
    {
     "name": "stdout",
     "output_type": "stream",
     "text": [
      "Elapsed [1:00:43.014924], G_step [115580/1000000], D_step[115580/1000000], d_out_real: 0.0000, d_out_fake: 0.1194, g_loss_fake: 1.0922\r\n"
     ]
    },
    {
     "name": "stdout",
     "output_type": "stream",
     "text": [
      "save torch\r\n"
     ]
    },
    {
     "name": "stdout",
     "output_type": "stream",
     "text": [
      "Elapsed [1:00:54.354727], G_step [115590/1000000], D_step[115590/1000000], d_out_real: 0.0676, d_out_fake: 0.0000, g_loss_fake: 0.9814\r\n"
     ]
    },
    {
     "name": "stdout",
     "output_type": "stream",
     "text": [
      "Elapsed [1:01:06.288624], G_step [115600/1000000], D_step[115600/1000000], d_out_real: 0.0636, d_out_fake: 0.0000, g_loss_fake: 1.1153\r\n"
     ]
    },
    {
     "name": "stdout",
     "output_type": "stream",
     "text": [
      "Elapsed [1:01:17.151652], G_step [115610/1000000], D_step[115610/1000000], d_out_real: 0.1251, d_out_fake: 0.0044, g_loss_fake: 1.0532\r\n"
     ]
    },
    {
     "name": "stdout",
     "output_type": "stream",
     "text": [
      "Elapsed [1:01:28.613728], G_step [115620/1000000], D_step[115620/1000000], d_out_real: 0.0000, d_out_fake: 0.0781, g_loss_fake: 1.0534\r\n"
     ]
    },
    {
     "name": "stdout",
     "output_type": "stream",
     "text": [
      "Elapsed [1:01:39.942394], G_step [115630/1000000], D_step[115630/1000000], d_out_real: 0.1969, d_out_fake: 0.0000, g_loss_fake: 0.9880\r\n"
     ]
    },
    {
     "name": "stdout",
     "output_type": "stream",
     "text": [
      "Elapsed [1:01:50.733467], G_step [115640/1000000], D_step[115640/1000000], d_out_real: 0.1384, d_out_fake: 0.0000, g_loss_fake: 1.0389\r\n"
     ]
    },
    {
     "name": "stdout",
     "output_type": "stream",
     "text": [
      "Elapsed [1:02:01.523274], G_step [115650/1000000], D_step[115650/1000000], d_out_real: 0.0622, d_out_fake: 0.0731, g_loss_fake: 1.1133\r\n"
     ]
    },
    {
     "name": "stdout",
     "output_type": "stream",
     "text": [
      "Elapsed [1:02:13.708588], G_step [115660/1000000], D_step[115660/1000000], d_out_real: 0.1294, d_out_fake: 0.0000, g_loss_fake: 1.0696\r\n"
     ]
    },
    {
     "name": "stdout",
     "output_type": "stream",
     "text": [
      "Elapsed [1:02:24.423386], G_step [115670/1000000], D_step[115670/1000000], d_out_real: 0.2517, d_out_fake: 0.0009, g_loss_fake: 1.0510\r\n"
     ]
    },
    {
     "name": "stdout",
     "output_type": "stream",
     "text": [
      "Elapsed [1:02:35.353009], G_step [115680/1000000], D_step[115680/1000000], d_out_real: 0.0000, d_out_fake: 0.1272, g_loss_fake: 1.0890\r\n"
     ]
    },
    {
     "name": "stdout",
     "output_type": "stream",
     "text": [
      "Elapsed [1:02:46.341033], G_step [115690/1000000], D_step[115690/1000000], d_out_real: 0.1287, d_out_fake: 0.0097, g_loss_fake: 1.0599\r\n"
     ]
    },
    {
     "name": "stdout",
     "output_type": "stream",
     "text": [
      "Elapsed [1:02:57.058940], G_step [115700/1000000], D_step[115700/1000000], d_out_real: 0.1926, d_out_fake: 0.0000, g_loss_fake: 1.0312\r\n"
     ]
    },
    {
     "name": "stdout",
     "output_type": "stream",
     "text": [
      "Elapsed [1:03:07.629369], G_step [115710/1000000], D_step[115710/1000000], d_out_real: 0.0600, d_out_fake: 0.0000, g_loss_fake: 1.0855\r\n"
     ]
    },
    {
     "name": "stdout",
     "output_type": "stream",
     "text": [
      "Elapsed [1:03:18.627047], G_step [115720/1000000], D_step[115720/1000000], d_out_real: 0.3692, d_out_fake: 0.0146, g_loss_fake: 1.0714\r\n"
     ]
    },
    {
     "name": "stdout",
     "output_type": "stream",
     "text": [
      "Elapsed [1:03:29.961402], G_step [115730/1000000], D_step[115730/1000000], d_out_real: 0.0001, d_out_fake: 0.0000, g_loss_fake: 1.0629\r\n"
     ]
    },
    {
     "name": "stdout",
     "output_type": "stream",
     "text": [
      "Elapsed [1:03:40.615982], G_step [115740/1000000], D_step[115740/1000000], d_out_real: 0.0949, d_out_fake: 0.0000, g_loss_fake: 0.9582\r\n"
     ]
    },
    {
     "name": "stdout",
     "output_type": "stream",
     "text": [
      "Elapsed [1:03:51.603517], G_step [115750/1000000], D_step[115750/1000000], d_out_real: 0.1642, d_out_fake: 0.0000, g_loss_fake: 1.0513\r\n"
     ]
    },
    {
     "name": "stdout",
     "output_type": "stream",
     "text": [
      "Elapsed [1:04:02.374738], G_step [115760/1000000], D_step[115760/1000000], d_out_real: 0.1762, d_out_fake: 0.2365, g_loss_fake: 1.0592\r\n"
     ]
    },
    {
     "name": "stdout",
     "output_type": "stream",
     "text": [
      "Elapsed [1:04:13.174779], G_step [115770/1000000], D_step[115770/1000000], d_out_real: 0.0647, d_out_fake: 0.0661, g_loss_fake: 1.0834\r\n"
     ]
    },
    {
     "name": "stdout",
     "output_type": "stream",
     "text": [
      "Elapsed [1:04:24.624816], G_step [115780/1000000], D_step[115780/1000000], d_out_real: 0.0000, d_out_fake: 0.0002, g_loss_fake: 1.0442\r\n"
     ]
    },
    {
     "name": "stdout",
     "output_type": "stream",
     "text": [
      "Elapsed [1:04:36.122868], G_step [115790/1000000], D_step[115790/1000000], d_out_real: 0.0596, d_out_fake: 0.0000, g_loss_fake: 1.0459\r\n"
     ]
    },
    {
     "name": "stdout",
     "output_type": "stream",
     "text": [
      "Elapsed [1:04:46.860856], G_step [115800/1000000], D_step[115800/1000000], d_out_real: 0.1818, d_out_fake: 0.0019, g_loss_fake: 1.0534\r\n"
     ]
    },
    {
     "name": "stdout",
     "output_type": "stream",
     "text": [
      "Elapsed [1:04:58.672879], G_step [115810/1000000], D_step[115810/1000000], d_out_real: 0.0625, d_out_fake: 0.1491, g_loss_fake: 0.9903\r\n"
     ]
    },
    {
     "name": "stdout",
     "output_type": "stream",
     "text": [
      "Elapsed [1:05:09.317238], G_step [115820/1000000], D_step[115820/1000000], d_out_real: 0.0559, d_out_fake: 0.0000, g_loss_fake: 0.9523\r\n"
     ]
    },
    {
     "name": "stdout",
     "output_type": "stream",
     "text": [
      "Elapsed [1:05:20.263356], G_step [115830/1000000], D_step[115830/1000000], d_out_real: 0.0645, d_out_fake: 0.0027, g_loss_fake: 1.0751\r\n"
     ]
    },
    {
     "name": "stdout",
     "output_type": "stream",
     "text": [
      "Elapsed [1:05:30.987746], G_step [115840/1000000], D_step[115840/1000000], d_out_real: 0.1309, d_out_fake: 0.1696, g_loss_fake: 1.1252\r\n"
     ]
    },
    {
     "name": "stdout",
     "output_type": "stream",
     "text": [
      "Elapsed [1:05:41.957329], G_step [115850/1000000], D_step[115850/1000000], d_out_real: 0.1990, d_out_fake: 0.0663, g_loss_fake: 1.0638\r\n"
     ]
    },
    {
     "name": "stdout",
     "output_type": "stream",
     "text": [
      "Elapsed [1:05:52.910532], G_step [115860/1000000], D_step[115860/1000000], d_out_real: 0.0123, d_out_fake: 0.2378, g_loss_fake: 0.7721\r\n"
     ]
    },
    {
     "name": "stdout",
     "output_type": "stream",
     "text": [
      "Elapsed [1:06:03.855363], G_step [115870/1000000], D_step[115870/1000000], d_out_real: 0.2013, d_out_fake: 0.0000, g_loss_fake: 0.7441\r\n"
     ]
    },
    {
     "name": "stdout",
     "output_type": "stream",
     "text": [
      "Elapsed [1:06:14.767849], G_step [115880/1000000], D_step[115880/1000000], d_out_real: 0.0163, d_out_fake: 0.0000, g_loss_fake: 1.0452\r\n"
     ]
    },
    {
     "name": "stdout",
     "output_type": "stream",
     "text": [
      "Elapsed [1:06:25.570130], G_step [115890/1000000], D_step[115890/1000000], d_out_real: 0.1851, d_out_fake: 0.0003, g_loss_fake: 0.9451\r\n"
     ]
    },
    {
     "name": "stdout",
     "output_type": "stream",
     "text": [
      "Elapsed [1:06:36.238773], G_step [115900/1000000], D_step[115900/1000000], d_out_real: 0.0000, d_out_fake: 0.0830, g_loss_fake: 1.0527\r\n"
     ]
    },
    {
     "name": "stdout",
     "output_type": "stream",
     "text": [
      "Elapsed [1:06:46.993381], G_step [115910/1000000], D_step[115910/1000000], d_out_real: 0.0000, d_out_fake: 0.0794, g_loss_fake: 1.1108\r\n"
     ]
    },
    {
     "name": "stdout",
     "output_type": "stream",
     "text": [
      "Elapsed [1:06:58.109987], G_step [115920/1000000], D_step[115920/1000000], d_out_real: 0.0186, d_out_fake: 0.0612, g_loss_fake: 1.0468\r\n"
     ]
    },
    {
     "name": "stdout",
     "output_type": "stream",
     "text": [
      "Elapsed [1:07:08.812562], G_step [115930/1000000], D_step[115930/1000000], d_out_real: 0.0000, d_out_fake: 0.1392, g_loss_fake: 0.5735\r\n"
     ]
    },
    {
     "name": "stdout",
     "output_type": "stream",
     "text": [
      "Elapsed [1:07:19.524056], G_step [115940/1000000], D_step[115940/1000000], d_out_real: 0.0055, d_out_fake: 0.1244, g_loss_fake: 1.1529\r\n"
     ]
    },
    {
     "name": "stdout",
     "output_type": "stream",
     "text": [
      "Elapsed [1:07:30.871841], G_step [115950/1000000], D_step[115950/1000000], d_out_real: 0.0000, d_out_fake: 0.0844, g_loss_fake: 1.0320\r\n"
     ]
    },
    {
     "name": "stdout",
     "output_type": "stream",
     "text": [
      "Elapsed [1:07:41.648166], G_step [115960/1000000], D_step[115960/1000000], d_out_real: 0.3226, d_out_fake: 0.0000, g_loss_fake: 0.9556\r\n"
     ]
    },
    {
     "name": "stdout",
     "output_type": "stream",
     "text": [
      "Elapsed [1:07:52.436205], G_step [115970/1000000], D_step[115970/1000000], d_out_real: 0.0649, d_out_fake: 0.1608, g_loss_fake: 1.0518\r\n"
     ]
    },
    {
     "name": "stdout",
     "output_type": "stream",
     "text": [
      "Elapsed [1:08:03.731324], G_step [115980/1000000], D_step[115980/1000000], d_out_real: 0.0042, d_out_fake: 0.0353, g_loss_fake: 1.1195\r\n"
     ]
    },
    {
     "name": "stdout",
     "output_type": "stream",
     "text": [
      "Elapsed [1:08:15.276380], G_step [115990/1000000], D_step[115990/1000000], d_out_real: 0.0686, d_out_fake: 0.0985, g_loss_fake: 0.9737\r\n"
     ]
    },
    {
     "name": "stdout",
     "output_type": "stream",
     "text": [
      "Elapsed [1:08:25.995207], G_step [116000/1000000], D_step[116000/1000000], d_out_real: 0.0884, d_out_fake: 0.0000, g_loss_fake: 1.1012\r\n",
      "Sample images 116000_fake.png\r\n"
     ]
    },
    {
     "name": "stdout",
     "output_type": "stream",
     "text": [
      "Elapsed [1:08:38.201681], G_step [116010/1000000], D_step[116010/1000000], d_out_real: 0.0635, d_out_fake: 0.0475, g_loss_fake: 1.0772\r\n"
     ]
    },
    {
     "name": "stdout",
     "output_type": "stream",
     "text": [
      "Elapsed [1:08:49.563462], G_step [116020/1000000], D_step[116020/1000000], d_out_real: 0.1182, d_out_fake: 0.0000, g_loss_fake: 1.1016\r\n"
     ]
    },
    {
     "name": "stdout",
     "output_type": "stream",
     "text": [
      "Elapsed [1:09:01.817367], G_step [116030/1000000], D_step[116030/1000000], d_out_real: 0.0225, d_out_fake: 0.0714, g_loss_fake: 0.9792\r\n"
     ]
    },
    {
     "name": "stdout",
     "output_type": "stream",
     "text": [
      "Elapsed [1:09:12.439648], G_step [116040/1000000], D_step[116040/1000000], d_out_real: 0.0000, d_out_fake: 0.1303, g_loss_fake: 1.0358\r\n"
     ]
    },
    {
     "name": "stdout",
     "output_type": "stream",
     "text": [
      "Elapsed [1:09:23.648232], G_step [116050/1000000], D_step[116050/1000000], d_out_real: 0.0722, d_out_fake: 0.2123, g_loss_fake: 0.7183\r\n"
     ]
    },
    {
     "name": "stdout",
     "output_type": "stream",
     "text": [
      "Elapsed [1:09:35.985729], G_step [116060/1000000], D_step[116060/1000000], d_out_real: 0.1299, d_out_fake: 0.0861, g_loss_fake: 1.1284\r\n"
     ]
    },
    {
     "name": "stdout",
     "output_type": "stream",
     "text": [
      "Elapsed [1:09:47.237564], G_step [116070/1000000], D_step[116070/1000000], d_out_real: 0.2571, d_out_fake: 0.0067, g_loss_fake: 1.0484\r\n"
     ]
    },
    {
     "name": "stdout",
     "output_type": "stream",
     "text": [
      "Elapsed [1:09:57.909799], G_step [116080/1000000], D_step[116080/1000000], d_out_real: 0.1202, d_out_fake: 0.0791, g_loss_fake: 1.0803\r\n"
     ]
    },
    {
     "name": "stdout",
     "output_type": "stream",
     "text": [
      "Elapsed [1:10:09.275995], G_step [116090/1000000], D_step[116090/1000000], d_out_real: 0.1274, d_out_fake: 0.0004, g_loss_fake: 1.1345\r\n"
     ]
    },
    {
     "name": "stdout",
     "output_type": "stream",
     "text": [
      "Elapsed [1:10:20.962735], G_step [116100/1000000], D_step[116100/1000000], d_out_real: 0.0000, d_out_fake: 0.0000, g_loss_fake: 1.0685\r\n"
     ]
    },
    {
     "name": "stdout",
     "output_type": "stream",
     "text": [
      "Elapsed [1:10:31.676223], G_step [116110/1000000], D_step[116110/1000000], d_out_real: 0.0260, d_out_fake: 0.0757, g_loss_fake: 1.1000\r\n"
     ]
    },
    {
     "name": "stdout",
     "output_type": "stream",
     "text": [
      "Elapsed [1:10:42.433328], G_step [116120/1000000], D_step[116120/1000000], d_out_real: 0.1295, d_out_fake: 0.0683, g_loss_fake: 1.1019\r\n"
     ]
    },
    {
     "name": "stdout",
     "output_type": "stream",
     "text": [
      "Elapsed [1:10:53.074182], G_step [116130/1000000], D_step[116130/1000000], d_out_real: 0.1162, d_out_fake: 0.0981, g_loss_fake: 1.1055\r\n"
     ]
    },
    {
     "name": "stdout",
     "output_type": "stream",
     "text": [
      "Elapsed [1:11:04.221208], G_step [116140/1000000], D_step[116140/1000000], d_out_real: 0.0000, d_out_fake: 0.0396, g_loss_fake: 1.1218\r\n"
     ]
    },
    {
     "name": "stdout",
     "output_type": "stream",
     "text": [
      "Elapsed [1:11:15.429458], G_step [116150/1000000], D_step[116150/1000000], d_out_real: 0.0000, d_out_fake: 0.0912, g_loss_fake: 0.9928\r\n"
     ]
    },
    {
     "name": "stdout",
     "output_type": "stream",
     "text": [
      "Elapsed [1:11:26.105671], G_step [116160/1000000], D_step[116160/1000000], d_out_real: 0.0573, d_out_fake: 0.0000, g_loss_fake: 1.0728\r\n"
     ]
    },
    {
     "name": "stdout",
     "output_type": "stream",
     "text": [
      "Elapsed [1:11:37.211117], G_step [116170/1000000], D_step[116170/1000000], d_out_real: 0.0488, d_out_fake: 0.0000, g_loss_fake: 1.0180\r\n"
     ]
    },
    {
     "name": "stdout",
     "output_type": "stream",
     "text": [
      "Elapsed [1:11:48.189421], G_step [116180/1000000], D_step[116180/1000000], d_out_real: 0.1280, d_out_fake: 0.0000, g_loss_fake: 1.0303\r\n"
     ]
    },
    {
     "name": "stdout",
     "output_type": "stream",
     "text": [
      "Elapsed [1:11:58.903197], G_step [116190/1000000], D_step[116190/1000000], d_out_real: 0.0000, d_out_fake: 0.0028, g_loss_fake: 0.9396\r\n"
     ]
    },
    {
     "name": "stdout",
     "output_type": "stream",
     "text": [
      "Elapsed [1:12:10.028744], G_step [116200/1000000], D_step[116200/1000000], d_out_real: 0.1233, d_out_fake: 0.0045, g_loss_fake: 1.0163\r\n"
     ]
    },
    {
     "name": "stdout",
     "output_type": "stream",
     "text": [
      "Elapsed [1:12:20.852234], G_step [116210/1000000], D_step[116210/1000000], d_out_real: 0.0890, d_out_fake: 0.0088, g_loss_fake: 1.0360\r\n"
     ]
    },
    {
     "name": "stdout",
     "output_type": "stream",
     "text": [
      "Elapsed [1:12:31.710027], G_step [116220/1000000], D_step[116220/1000000], d_out_real: 0.0613, d_out_fake: 0.0000, g_loss_fake: 0.9205\r\n"
     ]
    },
    {
     "name": "stdout",
     "output_type": "stream",
     "text": [
      "Elapsed [1:12:42.418976], G_step [116230/1000000], D_step[116230/1000000], d_out_real: 0.1118, d_out_fake: 0.0000, g_loss_fake: 1.0282\r\n"
     ]
    },
    {
     "name": "stdout",
     "output_type": "stream",
     "text": [
      "Elapsed [1:12:53.079956], G_step [116240/1000000], D_step[116240/1000000], d_out_real: 0.1263, d_out_fake: 0.0000, g_loss_fake: 1.0521\r\n"
     ]
    },
    {
     "name": "stdout",
     "output_type": "stream",
     "text": [
      "Elapsed [1:13:03.990008], G_step [116250/1000000], D_step[116250/1000000], d_out_real: 0.0786, d_out_fake: 0.0000, g_loss_fake: 1.0460\r\n"
     ]
    },
    {
     "name": "stdout",
     "output_type": "stream",
     "text": [
      "Elapsed [1:13:15.749189], G_step [116260/1000000], D_step[116260/1000000], d_out_real: 0.0635, d_out_fake: 0.1205, g_loss_fake: 1.0721\r\n"
     ]
    },
    {
     "name": "stdout",
     "output_type": "stream",
     "text": [
      "Elapsed [1:13:26.813252], G_step [116270/1000000], D_step[116270/1000000], d_out_real: 0.1437, d_out_fake: 0.0229, g_loss_fake: 1.0068\r\n"
     ]
    },
    {
     "name": "stdout",
     "output_type": "stream",
     "text": [
      "Elapsed [1:13:37.621224], G_step [116280/1000000], D_step[116280/1000000], d_out_real: 0.0000, d_out_fake: 0.0155, g_loss_fake: 1.1225\r\n"
     ]
    },
    {
     "name": "stdout",
     "output_type": "stream",
     "text": [
      "Elapsed [1:13:49.388477], G_step [116290/1000000], D_step[116290/1000000], d_out_real: 0.1547, d_out_fake: 0.0073, g_loss_fake: 1.0884\r\n"
     ]
    },
    {
     "name": "stdout",
     "output_type": "stream",
     "text": [
      "Elapsed [1:14:00.660496], G_step [116300/1000000], D_step[116300/1000000], d_out_real: 0.1206, d_out_fake: 0.0014, g_loss_fake: 0.9942\r\n"
     ]
    },
    {
     "name": "stdout",
     "output_type": "stream",
     "text": [
      "Elapsed [1:14:12.022868], G_step [116310/1000000], D_step[116310/1000000], d_out_real: 0.1459, d_out_fake: 0.0978, g_loss_fake: 1.0484\r\n"
     ]
    },
    {
     "name": "stdout",
     "output_type": "stream",
     "text": [
      "Elapsed [1:14:23.459507], G_step [116320/1000000], D_step[116320/1000000], d_out_real: 0.0640, d_out_fake: 0.0294, g_loss_fake: 1.0958\r\n"
     ]
    },
    {
     "name": "stdout",
     "output_type": "stream",
     "text": [
      "Elapsed [1:14:34.508387], G_step [116330/1000000], D_step[116330/1000000], d_out_real: 0.0961, d_out_fake: 0.0221, g_loss_fake: 1.0556\r\n"
     ]
    },
    {
     "name": "stdout",
     "output_type": "stream",
     "text": [
      "Elapsed [1:14:45.184359], G_step [116340/1000000], D_step[116340/1000000], d_out_real: 0.0000, d_out_fake: 0.1204, g_loss_fake: 1.0593\r\n"
     ]
    },
    {
     "name": "stdout",
     "output_type": "stream",
     "text": [
      "Elapsed [1:14:55.870700], G_step [116350/1000000], D_step[116350/1000000], d_out_real: 0.1874, d_out_fake: 0.0546, g_loss_fake: 1.0065\r\n"
     ]
    },
    {
     "name": "stdout",
     "output_type": "stream",
     "text": [
      "Elapsed [1:15:06.459639], G_step [116360/1000000], D_step[116360/1000000], d_out_real: 0.1432, d_out_fake: 0.0012, g_loss_fake: 1.0289\r\n"
     ]
    },
    {
     "name": "stdout",
     "output_type": "stream",
     "text": [
      "Elapsed [1:15:17.332155], G_step [116370/1000000], D_step[116370/1000000], d_out_real: 0.0008, d_out_fake: 0.0612, g_loss_fake: 0.9064\r\n"
     ]
    },
    {
     "name": "stdout",
     "output_type": "stream",
     "text": [
      "Elapsed [1:15:28.378800], G_step [116380/1000000], D_step[116380/1000000], d_out_real: 0.0610, d_out_fake: 0.0900, g_loss_fake: 1.0604\r\n"
     ]
    },
    {
     "name": "stdout",
     "output_type": "stream",
     "text": [
      "Elapsed [1:15:39.047721], G_step [116390/1000000], D_step[116390/1000000], d_out_real: 0.0000, d_out_fake: 0.1815, g_loss_fake: 1.1351\r\n"
     ]
    },
    {
     "name": "stdout",
     "output_type": "stream",
     "text": [
      "Elapsed [1:15:50.718056], G_step [116400/1000000], D_step[116400/1000000], d_out_real: 0.0062, d_out_fake: 0.0707, g_loss_fake: 0.9544\r\n"
     ]
    },
    {
     "name": "stdout",
     "output_type": "stream",
     "text": [
      "Elapsed [1:16:02.172555], G_step [116410/1000000], D_step[116410/1000000], d_out_real: 0.0636, d_out_fake: 0.0000, g_loss_fake: 0.9456\r\n"
     ]
    },
    {
     "name": "stdout",
     "output_type": "stream",
     "text": [
      "Elapsed [1:16:12.894458], G_step [116420/1000000], D_step[116420/1000000], d_out_real: 0.1922, d_out_fake: 0.1091, g_loss_fake: 1.0521\r\n"
     ]
    },
    {
     "name": "stdout",
     "output_type": "stream",
     "text": [
      "Elapsed [1:16:23.681669], G_step [116430/1000000], D_step[116430/1000000], d_out_real: 0.0656, d_out_fake: 0.0000, g_loss_fake: 1.0787\r\n"
     ]
    },
    {
     "name": "stdout",
     "output_type": "stream",
     "text": [
      "Elapsed [1:16:34.412928], G_step [116440/1000000], D_step[116440/1000000], d_out_real: 0.0000, d_out_fake: 0.0004, g_loss_fake: 1.0945\r\n"
     ]
    },
    {
     "name": "stdout",
     "output_type": "stream",
     "text": [
      "Elapsed [1:16:45.303787], G_step [116450/1000000], D_step[116450/1000000], d_out_real: 0.2536, d_out_fake: 0.0376, g_loss_fake: 1.0789\r\n"
     ]
    },
    {
     "name": "stdout",
     "output_type": "stream",
     "text": [
      "Elapsed [1:16:56.189290], G_step [116460/1000000], D_step[116460/1000000], d_out_real: 0.1249, d_out_fake: 0.0000, g_loss_fake: 1.0970\r\n"
     ]
    },
    {
     "name": "stdout",
     "output_type": "stream",
     "text": [
      "Elapsed [1:17:06.834863], G_step [116470/1000000], D_step[116470/1000000], d_out_real: 0.2171, d_out_fake: 0.0963, g_loss_fake: 0.9432\r\n"
     ]
    },
    {
     "name": "stdout",
     "output_type": "stream",
     "text": [
      "Elapsed [1:17:17.980177], G_step [116480/1000000], D_step[116480/1000000], d_out_real: 0.0042, d_out_fake: 0.0000, g_loss_fake: 1.0956\r\n"
     ]
    },
    {
     "name": "stdout",
     "output_type": "stream",
     "text": [
      "Elapsed [1:17:29.130925], G_step [116490/1000000], D_step[116490/1000000], d_out_real: 0.0625, d_out_fake: 0.0714, g_loss_fake: 1.1078\r\n"
     ]
    },
    {
     "name": "stdout",
     "output_type": "stream",
     "text": [
      "Elapsed [1:17:39.752156], G_step [116500/1000000], D_step[116500/1000000], d_out_real: 0.1422, d_out_fake: 0.0849, g_loss_fake: 1.0595\r\n"
     ]
    },
    {
     "name": "stdout",
     "output_type": "stream",
     "text": [
      "Elapsed [1:17:50.793967], G_step [116510/1000000], D_step[116510/1000000], d_out_real: 0.1885, d_out_fake: 0.0557, g_loss_fake: 0.9901\r\n"
     ]
    },
    {
     "name": "stdout",
     "output_type": "stream",
     "text": [
      "Elapsed [1:18:02.212490], G_step [116520/1000000], D_step[116520/1000000], d_out_real: 0.1513, d_out_fake: 0.0000, g_loss_fake: 1.0113\r\n"
     ]
    },
    {
     "name": "stdout",
     "output_type": "stream",
     "text": [
      "Elapsed [1:18:12.969309], G_step [116530/1000000], D_step[116530/1000000], d_out_real: 0.0644, d_out_fake: 0.0510, g_loss_fake: 0.9343\r\n"
     ]
    },
    {
     "name": "stdout",
     "output_type": "stream",
     "text": [
      "Elapsed [1:18:23.697484], G_step [116540/1000000], D_step[116540/1000000], d_out_real: 0.0163, d_out_fake: 0.0049, g_loss_fake: 1.0542\r\n"
     ]
    },
    {
     "name": "stdout",
     "output_type": "stream",
     "text": [
      "Elapsed [1:18:35.043875], G_step [116550/1000000], D_step[116550/1000000], d_out_real: 0.1289, d_out_fake: 0.0001, g_loss_fake: 1.0050\r\n"
     ]
    },
    {
     "name": "stdout",
     "output_type": "stream",
     "text": [
      "Elapsed [1:18:47.047270], G_step [116560/1000000], D_step[116560/1000000], d_out_real: 0.0523, d_out_fake: 0.0000, g_loss_fake: 0.9264\r\n"
     ]
    },
    {
     "name": "stdout",
     "output_type": "stream",
     "text": [
      "Elapsed [1:18:58.025203], G_step [116570/1000000], D_step[116570/1000000], d_out_real: 0.0629, d_out_fake: 0.1181, g_loss_fake: 1.0484\r\n"
     ]
    },
    {
     "name": "stdout",
     "output_type": "stream",
     "text": [
      "Elapsed [1:19:09.049479], G_step [116580/1000000], D_step[116580/1000000], d_out_real: 0.1305, d_out_fake: 0.0547, g_loss_fake: 1.1127\r\n"
     ]
    },
    {
     "name": "stdout",
     "output_type": "stream",
     "text": [
      "Elapsed [1:19:20.034189], G_step [116590/1000000], D_step[116590/1000000], d_out_real: 0.1945, d_out_fake: 0.0682, g_loss_fake: 1.0297\r\n"
     ]
    },
    {
     "name": "stdout",
     "output_type": "stream",
     "text": [
      "Elapsed [1:19:31.185812], G_step [116600/1000000], D_step[116600/1000000], d_out_real: 0.1285, d_out_fake: 0.0000, g_loss_fake: 0.9209\r\n"
     ]
    },
    {
     "name": "stdout",
     "output_type": "stream",
     "text": [
      "Elapsed [1:19:41.935165], G_step [116610/1000000], D_step[116610/1000000], d_out_real: 0.1243, d_out_fake: 0.0000, g_loss_fake: 1.0518\r\n"
     ]
    },
    {
     "name": "stdout",
     "output_type": "stream",
     "text": [
      "Elapsed [1:19:54.411044], G_step [116620/1000000], D_step[116620/1000000], d_out_real: 0.0649, d_out_fake: 0.0010, g_loss_fake: 1.0148\r\n"
     ]
    },
    {
     "name": "stdout",
     "output_type": "stream",
     "text": [
      "Elapsed [1:20:05.246218], G_step [116630/1000000], D_step[116630/1000000], d_out_real: 0.3446, d_out_fake: 0.0000, g_loss_fake: 0.9915\r\n"
     ]
    },
    {
     "name": "stdout",
     "output_type": "stream",
     "text": [
      "Elapsed [1:20:16.018704], G_step [116640/1000000], D_step[116640/1000000], d_out_real: 0.0563, d_out_fake: 0.0042, g_loss_fake: 1.1143\r\n"
     ]
    },
    {
     "name": "stdout",
     "output_type": "stream",
     "text": [
      "Elapsed [1:20:27.222634], G_step [116650/1000000], D_step[116650/1000000], d_out_real: 0.0688, d_out_fake: 0.1596, g_loss_fake: 1.1733\r\n"
     ]
    },
    {
     "name": "stdout",
     "output_type": "stream",
     "text": [
      "Elapsed [1:20:39.028030], G_step [116660/1000000], D_step[116660/1000000], d_out_real: 0.2207, d_out_fake: 0.0000, g_loss_fake: 1.0759\r\n"
     ]
    },
    {
     "name": "stdout",
     "output_type": "stream",
     "text": [
      "Elapsed [1:20:49.853503], G_step [116670/1000000], D_step[116670/1000000], d_out_real: 0.1287, d_out_fake: 0.0000, g_loss_fake: 1.1002\r\n"
     ]
    },
    {
     "name": "stdout",
     "output_type": "stream",
     "text": [
      "Elapsed [1:21:00.952104], G_step [116680/1000000], D_step[116680/1000000], d_out_real: 0.1878, d_out_fake: 0.0000, g_loss_fake: 0.9692\r\n"
     ]
    },
    {
     "name": "stdout",
     "output_type": "stream",
     "text": [
      "Elapsed [1:21:11.947987], G_step [116690/1000000], D_step[116690/1000000], d_out_real: 0.0652, d_out_fake: 0.0092, g_loss_fake: 0.9070\r\n"
     ]
    },
    {
     "name": "stdout",
     "output_type": "stream",
     "text": [
      "Elapsed [1:21:23.675917], G_step [116700/1000000], D_step[116700/1000000], d_out_real: 0.0347, d_out_fake: 0.0715, g_loss_fake: 1.0446\r\n"
     ]
    },
    {
     "name": "stdout",
     "output_type": "stream",
     "text": [
      "Elapsed [1:21:35.027617], G_step [116710/1000000], D_step[116710/1000000], d_out_real: 0.2088, d_out_fake: 0.0024, g_loss_fake: 0.9765\r\n"
     ]
    },
    {
     "name": "stdout",
     "output_type": "stream",
     "text": [
      "Elapsed [1:21:45.617234], G_step [116720/1000000], D_step[116720/1000000], d_out_real: 0.0000, d_out_fake: 0.0015, g_loss_fake: 0.8903\r\n"
     ]
    },
    {
     "name": "stdout",
     "output_type": "stream",
     "text": [
      "Elapsed [1:21:56.348158], G_step [116730/1000000], D_step[116730/1000000], d_out_real: 0.1273, d_out_fake: 0.0019, g_loss_fake: 1.0813\r\n"
     ]
    },
    {
     "name": "stdout",
     "output_type": "stream",
     "text": [
      "Elapsed [1:22:07.086348], G_step [116740/1000000], D_step[116740/1000000], d_out_real: 0.0240, d_out_fake: 0.0000, g_loss_fake: 1.0834\r\n"
     ]
    },
    {
     "name": "stdout",
     "output_type": "stream",
     "text": [
      "Elapsed [1:22:17.638739], G_step [116750/1000000], D_step[116750/1000000], d_out_real: 0.0150, d_out_fake: 0.1613, g_loss_fake: 1.1190\r\n"
     ]
    },
    {
     "name": "stdout",
     "output_type": "stream",
     "text": [
      "Elapsed [1:22:28.275847], G_step [116760/1000000], D_step[116760/1000000], d_out_real: 0.0650, d_out_fake: 0.1157, g_loss_fake: 1.0608\r\n"
     ]
    },
    {
     "name": "stdout",
     "output_type": "stream",
     "text": [
      "Elapsed [1:22:39.216397], G_step [116770/1000000], D_step[116770/1000000], d_out_real: 0.0000, d_out_fake: 0.0519, g_loss_fake: 1.0703\r\n"
     ]
    },
    {
     "name": "stdout",
     "output_type": "stream",
     "text": [
      "Elapsed [1:22:50.228856], G_step [116780/1000000], D_step[116780/1000000], d_out_real: 0.1068, d_out_fake: 0.0272, g_loss_fake: 1.0912\r\n"
     ]
    },
    {
     "name": "stdout",
     "output_type": "stream",
     "text": [
      "Elapsed [1:23:01.950861], G_step [116790/1000000], D_step[116790/1000000], d_out_real: 0.2069, d_out_fake: 0.0014, g_loss_fake: 1.0018\r\n"
     ]
    },
    {
     "name": "stdout",
     "output_type": "stream",
     "text": [
      "Elapsed [1:23:12.791543], G_step [116800/1000000], D_step[116800/1000000], d_out_real: 0.0256, d_out_fake: 0.0031, g_loss_fake: 1.0782\r\n"
     ]
    },
    {
     "name": "stdout",
     "output_type": "stream",
     "text": [
      "Elapsed [1:23:23.916621], G_step [116810/1000000], D_step[116810/1000000], d_out_real: 0.1401, d_out_fake: 0.0648, g_loss_fake: 1.0384\r\n"
     ]
    },
    {
     "name": "stdout",
     "output_type": "stream",
     "text": [
      "Elapsed [1:23:34.595340], G_step [116820/1000000], D_step[116820/1000000], d_out_real: 0.0073, d_out_fake: 0.0030, g_loss_fake: 1.0985\r\n"
     ]
    },
    {
     "name": "stdout",
     "output_type": "stream",
     "text": [
      "Elapsed [1:23:45.691137], G_step [116830/1000000], D_step[116830/1000000], d_out_real: 0.0778, d_out_fake: 0.0000, g_loss_fake: 0.8198\r\n"
     ]
    },
    {
     "name": "stdout",
     "output_type": "stream",
     "text": [
      "Elapsed [1:23:56.750037], G_step [116840/1000000], D_step[116840/1000000], d_out_real: 0.0011, d_out_fake: 0.0000, g_loss_fake: 0.9139\r\n"
     ]
    },
    {
     "name": "stdout",
     "output_type": "stream",
     "text": [
      "Elapsed [1:24:07.535941], G_step [116850/1000000], D_step[116850/1000000], d_out_real: 0.0000, d_out_fake: 0.0642, g_loss_fake: 1.1173\r\n"
     ]
    },
    {
     "name": "stdout",
     "output_type": "stream",
     "text": [
      "Elapsed [1:24:18.508116], G_step [116860/1000000], D_step[116860/1000000], d_out_real: 0.1953, d_out_fake: 0.0585, g_loss_fake: 0.9972\r\n"
     ]
    },
    {
     "name": "stdout",
     "output_type": "stream",
     "text": [
      "Elapsed [1:24:29.593992], G_step [116870/1000000], D_step[116870/1000000], d_out_real: 0.0005, d_out_fake: 0.0146, g_loss_fake: 1.1226\r\n"
     ]
    },
    {
     "name": "stdout",
     "output_type": "stream",
     "text": [
      "Elapsed [1:24:40.850065], G_step [116880/1000000], D_step[116880/1000000], d_out_real: 0.0011, d_out_fake: 0.0048, g_loss_fake: 1.1216\r\n"
     ]
    },
    {
     "name": "stdout",
     "output_type": "stream",
     "text": [
      "Elapsed [1:24:52.473573], G_step [116890/1000000], D_step[116890/1000000], d_out_real: 0.2864, d_out_fake: 0.0000, g_loss_fake: 0.9490\r\n"
     ]
    },
    {
     "name": "stdout",
     "output_type": "stream",
     "text": [
      "Elapsed [1:25:03.181971], G_step [116900/1000000], D_step[116900/1000000], d_out_real: 0.1123, d_out_fake: 0.1342, g_loss_fake: 0.9559\r\n"
     ]
    },
    {
     "name": "stdout",
     "output_type": "stream",
     "text": [
      "Elapsed [1:25:14.039313], G_step [116910/1000000], D_step[116910/1000000], d_out_real: 0.0128, d_out_fake: 0.0161, g_loss_fake: 0.9850\r\n"
     ]
    },
    {
     "name": "stdout",
     "output_type": "stream",
     "text": [
      "Elapsed [1:25:25.682976], G_step [116920/1000000], D_step[116920/1000000], d_out_real: 0.0785, d_out_fake: 0.0000, g_loss_fake: 1.0276\r\n"
     ]
    },
    {
     "name": "stdout",
     "output_type": "stream",
     "text": [
      "Elapsed [1:25:36.635436], G_step [116930/1000000], D_step[116930/1000000], d_out_real: 0.2406, d_out_fake: 0.0697, g_loss_fake: 1.1151\r\n"
     ]
    },
    {
     "name": "stdout",
     "output_type": "stream",
     "text": [
      "Elapsed [1:25:47.706806], G_step [116940/1000000], D_step[116940/1000000], d_out_real: 0.0848, d_out_fake: 0.0630, g_loss_fake: 0.9786\r\n"
     ]
    },
    {
     "name": "stdout",
     "output_type": "stream",
     "text": [
      "Elapsed [1:25:58.667161], G_step [116950/1000000], D_step[116950/1000000], d_out_real: 0.0629, d_out_fake: 0.0565, g_loss_fake: 1.0346\r\n"
     ]
    },
    {
     "name": "stdout",
     "output_type": "stream",
     "text": [
      "Elapsed [1:26:09.352956], G_step [116960/1000000], D_step[116960/1000000], d_out_real: 0.1264, d_out_fake: 0.1340, g_loss_fake: 1.0494\r\n"
     ]
    },
    {
     "name": "stdout",
     "output_type": "stream",
     "text": [
      "Elapsed [1:26:20.857461], G_step [116970/1000000], D_step[116970/1000000], d_out_real: 0.0000, d_out_fake: 0.0000, g_loss_fake: 0.9027\r\n"
     ]
    },
    {
     "name": "stdout",
     "output_type": "stream",
     "text": [
      "Elapsed [1:26:31.450722], G_step [116980/1000000], D_step[116980/1000000], d_out_real: 0.1518, d_out_fake: 0.0003, g_loss_fake: 0.9579\r\n"
     ]
    },
    {
     "name": "stdout",
     "output_type": "stream",
     "text": [
      "Elapsed [1:26:42.269627], G_step [116990/1000000], D_step[116990/1000000], d_out_real: 0.0635, d_out_fake: 0.0127, g_loss_fake: 1.0761\r\n"
     ]
    },
    {
     "name": "stdout",
     "output_type": "stream",
     "text": [
      "Elapsed [1:26:52.968518], G_step [117000/1000000], D_step[117000/1000000], d_out_real: 0.0640, d_out_fake: 0.0000, g_loss_fake: 1.0847\r\n",
      "Sample images 117000_fake.png\r\n"
     ]
    },
    {
     "name": "stdout",
     "output_type": "stream",
     "text": [
      "Elapsed [1:27:04.389998], G_step [117010/1000000], D_step[117010/1000000], d_out_real: 0.1917, d_out_fake: 0.0000, g_loss_fake: 1.0763\r\n"
     ]
    },
    {
     "name": "stdout",
     "output_type": "stream",
     "text": [
      "Elapsed [1:27:15.808479], G_step [117020/1000000], D_step[117020/1000000], d_out_real: 0.0658, d_out_fake: 0.0674, g_loss_fake: 1.1231\r\n"
     ]
    },
    {
     "name": "stdout",
     "output_type": "stream",
     "text": [
      "Elapsed [1:27:27.689267], G_step [117030/1000000], D_step[117030/1000000], d_out_real: 0.2050, d_out_fake: 0.0000, g_loss_fake: 1.1069\r\n"
     ]
    },
    {
     "name": "stdout",
     "output_type": "stream",
     "text": [
      "Elapsed [1:27:38.566795], G_step [117040/1000000], D_step[117040/1000000], d_out_real: 0.0831, d_out_fake: 0.0000, g_loss_fake: 1.1264\r\n"
     ]
    },
    {
     "name": "stdout",
     "output_type": "stream",
     "text": [
      "Elapsed [1:27:49.521631], G_step [117050/1000000], D_step[117050/1000000], d_out_real: 0.0000, d_out_fake: 0.0005, g_loss_fake: 1.0298\r\n"
     ]
    },
    {
     "name": "stdout",
     "output_type": "stream",
     "text": [
      "Elapsed [1:28:00.633224], G_step [117060/1000000], D_step[117060/1000000], d_out_real: 0.0862, d_out_fake: 0.0624, g_loss_fake: 1.0361\r\n"
     ]
    },
    {
     "name": "stdout",
     "output_type": "stream",
     "text": [
      "Elapsed [1:28:11.551539], G_step [117070/1000000], D_step[117070/1000000], d_out_real: 0.1395, d_out_fake: 0.1160, g_loss_fake: 1.0641\r\n"
     ]
    },
    {
     "name": "stdout",
     "output_type": "stream",
     "text": [
      "Elapsed [1:28:23.072435], G_step [117080/1000000], D_step[117080/1000000], d_out_real: 0.0128, d_out_fake: 0.0097, g_loss_fake: 1.0972\r\n"
     ]
    },
    {
     "name": "stdout",
     "output_type": "stream",
     "text": [
      "Elapsed [1:28:34.104542], G_step [117090/1000000], D_step[117090/1000000], d_out_real: 0.0016, d_out_fake: 0.0007, g_loss_fake: 1.0666\r\n"
     ]
    },
    {
     "name": "stdout",
     "output_type": "stream",
     "text": [
      "Elapsed [1:28:45.587684], G_step [117100/1000000], D_step[117100/1000000], d_out_real: 0.2628, d_out_fake: 0.0000, g_loss_fake: 0.8145\r\n"
     ]
    },
    {
     "name": "stdout",
     "output_type": "stream",
     "text": [
      "Elapsed [1:28:56.515235], G_step [117110/1000000], D_step[117110/1000000], d_out_real: 0.1076, d_out_fake: 0.0543, g_loss_fake: 1.0324\r\n"
     ]
    },
    {
     "name": "stdout",
     "output_type": "stream",
     "text": [
      "Elapsed [1:29:08.724851], G_step [117120/1000000], D_step[117120/1000000], d_out_real: 0.0708, d_out_fake: 0.0455, g_loss_fake: 1.0032\r\n"
     ]
    },
    {
     "name": "stdout",
     "output_type": "stream",
     "text": [
      "Elapsed [1:29:19.469292], G_step [117130/1000000], D_step[117130/1000000], d_out_real: 0.1934, d_out_fake: 0.0352, g_loss_fake: 1.0812\r\n"
     ]
    },
    {
     "name": "stdout",
     "output_type": "stream",
     "text": [
      "Elapsed [1:29:30.352149], G_step [117140/1000000], D_step[117140/1000000], d_out_real: 0.0000, d_out_fake: 0.0298, g_loss_fake: 1.0946\r\n"
     ]
    },
    {
     "name": "stdout",
     "output_type": "stream",
     "text": [
      "Elapsed [1:29:41.188530], G_step [117150/1000000], D_step[117150/1000000], d_out_real: 0.0479, d_out_fake: 0.0000, g_loss_fake: 0.9999\r\n",
      "save torch\r\n"
     ]
    },
    {
     "name": "stdout",
     "output_type": "stream",
     "text": [
      "Elapsed [1:29:52.537810], G_step [117160/1000000], D_step[117160/1000000], d_out_real: 0.3498, d_out_fake: 0.0011, g_loss_fake: 1.0221\r\n"
     ]
    },
    {
     "name": "stdout",
     "output_type": "stream",
     "text": [
      "Elapsed [1:30:03.329111], G_step [117170/1000000], D_step[117170/1000000], d_out_real: 0.0000, d_out_fake: 0.0036, g_loss_fake: 1.0914\r\n"
     ]
    },
    {
     "name": "stdout",
     "output_type": "stream",
     "text": [
      "Elapsed [1:30:14.190066], G_step [117180/1000000], D_step[117180/1000000], d_out_real: 0.1287, d_out_fake: 0.0000, g_loss_fake: 1.0073\r\n"
     ]
    },
    {
     "name": "stdout",
     "output_type": "stream",
     "text": [
      "Elapsed [1:30:25.056421], G_step [117190/1000000], D_step[117190/1000000], d_out_real: 0.0388, d_out_fake: 0.0439, g_loss_fake: 0.9656\r\n"
     ]
    },
    {
     "name": "stdout",
     "output_type": "stream",
     "text": [
      "Elapsed [1:30:35.804400], G_step [117200/1000000], D_step[117200/1000000], d_out_real: 0.0667, d_out_fake: 0.0860, g_loss_fake: 1.0725\r\n"
     ]
    },
    {
     "name": "stdout",
     "output_type": "stream",
     "text": [
      "Elapsed [1:30:46.800820], G_step [117210/1000000], D_step[117210/1000000], d_out_real: 0.0818, d_out_fake: 0.0439, g_loss_fake: 1.0283\r\n"
     ]
    },
    {
     "name": "stdout",
     "output_type": "stream",
     "text": [
      "Elapsed [1:30:57.623667], G_step [117220/1000000], D_step[117220/1000000], d_out_real: 0.0901, d_out_fake: 0.0017, g_loss_fake: 0.9680\r\n"
     ]
    },
    {
     "name": "stdout",
     "output_type": "stream",
     "text": [
      "Elapsed [1:31:08.462777], G_step [117230/1000000], D_step[117230/1000000], d_out_real: 0.0000, d_out_fake: 0.0000, g_loss_fake: 1.1012\r\n"
     ]
    },
    {
     "name": "stdout",
     "output_type": "stream",
     "text": [
      "Elapsed [1:31:19.662653], G_step [117240/1000000], D_step[117240/1000000], d_out_real: 0.1932, d_out_fake: 0.0624, g_loss_fake: 0.9194\r\n"
     ]
    },
    {
     "name": "stdout",
     "output_type": "stream",
     "text": [
      "Elapsed [1:31:30.500106], G_step [117250/1000000], D_step[117250/1000000], d_out_real: 0.0000, d_out_fake: 0.0444, g_loss_fake: 1.1017\r\n"
     ]
    },
    {
     "name": "stdout",
     "output_type": "stream",
     "text": [
      "Elapsed [1:31:41.496242], G_step [117260/1000000], D_step[117260/1000000], d_out_real: 0.0627, d_out_fake: 0.1538, g_loss_fake: 0.9617\r\n"
     ]
    },
    {
     "name": "stdout",
     "output_type": "stream",
     "text": [
      "Elapsed [1:31:52.592854], G_step [117270/1000000], D_step[117270/1000000], d_out_real: 0.0486, d_out_fake: 0.0543, g_loss_fake: 1.2035\r\n"
     ]
    },
    {
     "name": "stdout",
     "output_type": "stream",
     "text": [
      "Elapsed [1:32:03.460596], G_step [117280/1000000], D_step[117280/1000000], d_out_real: 0.1727, d_out_fake: 0.0000, g_loss_fake: 0.9644\r\n"
     ]
    },
    {
     "name": "stdout",
     "output_type": "stream",
     "text": [
      "Elapsed [1:32:14.067707], G_step [117290/1000000], D_step[117290/1000000], d_out_real: 0.0184, d_out_fake: 0.0126, g_loss_fake: 1.0939\r\n"
     ]
    },
    {
     "name": "stdout",
     "output_type": "stream",
     "text": [
      "Elapsed [1:32:25.139690], G_step [117300/1000000], D_step[117300/1000000], d_out_real: 0.0000, d_out_fake: 0.1656, g_loss_fake: 1.1459\r\n"
     ]
    },
    {
     "name": "stdout",
     "output_type": "stream",
     "text": [
      "Elapsed [1:32:36.413376], G_step [117310/1000000], D_step[117310/1000000], d_out_real: 0.1228, d_out_fake: 0.0000, g_loss_fake: 1.0276\r\n"
     ]
    },
    {
     "name": "stdout",
     "output_type": "stream",
     "text": [
      "Elapsed [1:32:47.319845], G_step [117320/1000000], D_step[117320/1000000], d_out_real: 0.0991, d_out_fake: 0.0000, g_loss_fake: 0.8912\r\n"
     ]
    },
    {
     "name": "stdout",
     "output_type": "stream",
     "text": [
      "Elapsed [1:32:58.195862], G_step [117330/1000000], D_step[117330/1000000], d_out_real: 0.1214, d_out_fake: 0.0767, g_loss_fake: 1.0480\r\n"
     ]
    },
    {
     "name": "stdout",
     "output_type": "stream",
     "text": [
      "Elapsed [1:33:09.136059], G_step [117340/1000000], D_step[117340/1000000], d_out_real: 0.0147, d_out_fake: 0.0000, g_loss_fake: 0.8980\r\n"
     ]
    },
    {
     "name": "stdout",
     "output_type": "stream",
     "text": [
      "Elapsed [1:33:19.951856], G_step [117350/1000000], D_step[117350/1000000], d_out_real: 0.1300, d_out_fake: 0.0108, g_loss_fake: 1.0028\r\n"
     ]
    },
    {
     "name": "stdout",
     "output_type": "stream",
     "text": [
      "Elapsed [1:33:31.745464], G_step [117360/1000000], D_step[117360/1000000], d_out_real: 0.0000, d_out_fake: 0.1652, g_loss_fake: 1.0967\r\n"
     ]
    },
    {
     "name": "stdout",
     "output_type": "stream",
     "text": [
      "Elapsed [1:33:42.411364], G_step [117370/1000000], D_step[117370/1000000], d_out_real: 0.0133, d_out_fake: 0.0000, g_loss_fake: 1.0289\r\n"
     ]
    },
    {
     "name": "stdout",
     "output_type": "stream",
     "text": [
      "Elapsed [1:33:52.990094], G_step [117380/1000000], D_step[117380/1000000], d_out_real: 0.1917, d_out_fake: 0.1529, g_loss_fake: 1.0486\r\n"
     ]
    },
    {
     "name": "stdout",
     "output_type": "stream",
     "text": [
      "Elapsed [1:34:03.522014], G_step [117390/1000000], D_step[117390/1000000], d_out_real: 0.0627, d_out_fake: 0.0541, g_loss_fake: 1.0849\r\n"
     ]
    },
    {
     "name": "stdout",
     "output_type": "stream",
     "text": [
      "Elapsed [1:34:15.125480], G_step [117400/1000000], D_step[117400/1000000], d_out_real: 0.0014, d_out_fake: 0.0044, g_loss_fake: 1.1411\r\n"
     ]
    },
    {
     "name": "stdout",
     "output_type": "stream",
     "text": [
      "Elapsed [1:34:26.768432], G_step [117410/1000000], D_step[117410/1000000], d_out_real: 0.0697, d_out_fake: 0.0000, g_loss_fake: 1.1677\r\n"
     ]
    },
    {
     "name": "stdout",
     "output_type": "stream",
     "text": [
      "Elapsed [1:34:37.417264], G_step [117420/1000000], D_step[117420/1000000], d_out_real: 0.1312, d_out_fake: 0.0012, g_loss_fake: 0.8975\r\n"
     ]
    },
    {
     "name": "stdout",
     "output_type": "stream",
     "text": [
      "Elapsed [1:34:48.498773], G_step [117430/1000000], D_step[117430/1000000], d_out_real: 0.1189, d_out_fake: 0.0075, g_loss_fake: 0.9480\r\n"
     ]
    },
    {
     "name": "stdout",
     "output_type": "stream",
     "text": [
      "Elapsed [1:34:59.519152], G_step [117440/1000000], D_step[117440/1000000], d_out_real: 0.4517, d_out_fake: 0.0000, g_loss_fake: 0.9354\r\n"
     ]
    },
    {
     "name": "stdout",
     "output_type": "stream",
     "text": [
      "Elapsed [1:35:10.111708], G_step [117450/1000000], D_step[117450/1000000], d_out_real: 0.0742, d_out_fake: 0.0673, g_loss_fake: 1.0807\r\n"
     ]
    },
    {
     "name": "stdout",
     "output_type": "stream",
     "text": [
      "Elapsed [1:35:21.462615], G_step [117460/1000000], D_step[117460/1000000], d_out_real: 0.0153, d_out_fake: 0.0639, g_loss_fake: 1.1156\r\n"
     ]
    },
    {
     "name": "stdout",
     "output_type": "stream",
     "text": [
      "Elapsed [1:35:33.813637], G_step [117470/1000000], D_step[117470/1000000], d_out_real: 0.0649, d_out_fake: 0.0000, g_loss_fake: 1.0096\r\n"
     ]
    },
    {
     "name": "stdout",
     "output_type": "stream",
     "text": [
      "Elapsed [1:35:45.161163], G_step [117480/1000000], D_step[117480/1000000], d_out_real: 0.0641, d_out_fake: 0.0000, g_loss_fake: 1.0696\r\n"
     ]
    },
    {
     "name": "stdout",
     "output_type": "stream",
     "text": [
      "Elapsed [1:35:56.541201], G_step [117490/1000000], D_step[117490/1000000], d_out_real: 0.3271, d_out_fake: 0.0045, g_loss_fake: 1.0478\r\n"
     ]
    },
    {
     "name": "stdout",
     "output_type": "stream",
     "text": [
      "Elapsed [1:36:08.644130], G_step [117500/1000000], D_step[117500/1000000], d_out_real: 0.0077, d_out_fake: 0.0000, g_loss_fake: 1.0185\r\n"
     ]
    },
    {
     "name": "stdout",
     "output_type": "stream",
     "text": [
      "Elapsed [1:36:20.269198], G_step [117510/1000000], D_step[117510/1000000], d_out_real: 0.0363, d_out_fake: 0.0009, g_loss_fake: 0.9268\r\n"
     ]
    },
    {
     "name": "stdout",
     "output_type": "stream",
     "text": [
      "Elapsed [1:36:31.943904], G_step [117520/1000000], D_step[117520/1000000], d_out_real: 0.0632, d_out_fake: 0.1177, g_loss_fake: 0.9580\r\n"
     ]
    },
    {
     "name": "stdout",
     "output_type": "stream",
     "text": [
      "Elapsed [1:36:43.457228], G_step [117530/1000000], D_step[117530/1000000], d_out_real: 0.1248, d_out_fake: 0.0054, g_loss_fake: 1.0956\r\n"
     ]
    },
    {
     "name": "stdout",
     "output_type": "stream",
     "text": [
      "Elapsed [1:36:54.975934], G_step [117540/1000000], D_step[117540/1000000], d_out_real: 0.1276, d_out_fake: 0.0000, g_loss_fake: 1.0122\r\n"
     ]
    },
    {
     "name": "stdout",
     "output_type": "stream",
     "text": [
      "Elapsed [1:37:06.336511], G_step [117550/1000000], D_step[117550/1000000], d_out_real: 0.0657, d_out_fake: 0.0668, g_loss_fake: 0.9869\r\n"
     ]
    },
    {
     "name": "stdout",
     "output_type": "stream",
     "text": [
      "Elapsed [1:37:18.365062], G_step [117560/1000000], D_step[117560/1000000], d_out_real: 0.1439, d_out_fake: 0.0706, g_loss_fake: 0.6310\r\n"
     ]
    },
    {
     "name": "stdout",
     "output_type": "stream",
     "text": [
      "Elapsed [1:37:30.715048], G_step [117570/1000000], D_step[117570/1000000], d_out_real: 0.0662, d_out_fake: 0.0000, g_loss_fake: 0.9931\r\n"
     ]
    },
    {
     "name": "stdout",
     "output_type": "stream",
     "text": [
      "Elapsed [1:37:43.329648], G_step [117580/1000000], D_step[117580/1000000], d_out_real: 0.1112, d_out_fake: 0.0774, g_loss_fake: 1.1570\r\n"
     ]
    },
    {
     "name": "stdout",
     "output_type": "stream",
     "text": [
      "Elapsed [1:37:55.586533], G_step [117590/1000000], D_step[117590/1000000], d_out_real: 0.0000, d_out_fake: 0.1699, g_loss_fake: 1.1211\r\n"
     ]
    },
    {
     "name": "stdout",
     "output_type": "stream",
     "text": [
      "Elapsed [1:38:07.926993], G_step [117600/1000000], D_step[117600/1000000], d_out_real: 0.0654, d_out_fake: 0.0249, g_loss_fake: 1.1091\r\n"
     ]
    },
    {
     "name": "stdout",
     "output_type": "stream",
     "text": [
      "Elapsed [1:38:20.198029], G_step [117610/1000000], D_step[117610/1000000], d_out_real: 0.0643, d_out_fake: 0.0699, g_loss_fake: 1.0402\r\n"
     ]
    },
    {
     "name": "stdout",
     "output_type": "stream",
     "text": [
      "Elapsed [1:38:31.621611], G_step [117620/1000000], D_step[117620/1000000], d_out_real: 0.0000, d_out_fake: 0.2525, g_loss_fake: 1.0333\r\n"
     ]
    },
    {
     "name": "stdout",
     "output_type": "stream",
     "text": [
      "Elapsed [1:38:43.075863], G_step [117630/1000000], D_step[117630/1000000], d_out_real: 0.2492, d_out_fake: 0.0710, g_loss_fake: 0.9487\r\n"
     ]
    },
    {
     "name": "stdout",
     "output_type": "stream",
     "text": [
      "Elapsed [1:38:54.937595], G_step [117640/1000000], D_step[117640/1000000], d_out_real: 0.0000, d_out_fake: 0.0001, g_loss_fake: 0.8961\r\n"
     ]
    },
    {
     "name": "stdout",
     "output_type": "stream",
     "text": [
      "Elapsed [1:39:07.924246], G_step [117650/1000000], D_step[117650/1000000], d_out_real: 0.0992, d_out_fake: 0.0272, g_loss_fake: 1.0422\r\n"
     ]
    },
    {
     "name": "stdout",
     "output_type": "stream",
     "text": [
      "Elapsed [1:39:20.449281], G_step [117660/1000000], D_step[117660/1000000], d_out_real: 0.1279, d_out_fake: 0.0000, g_loss_fake: 1.1089\r\n"
     ]
    },
    {
     "name": "stdout",
     "output_type": "stream",
     "text": [
      "Elapsed [1:39:32.229368], G_step [117670/1000000], D_step[117670/1000000], d_out_real: 0.0092, d_out_fake: 0.2385, g_loss_fake: 1.0280\r\n"
     ]
    },
    {
     "name": "stdout",
     "output_type": "stream",
     "text": [
      "Elapsed [1:39:43.447798], G_step [117680/1000000], D_step[117680/1000000], d_out_real: 0.0702, d_out_fake: 0.0484, g_loss_fake: 1.0767\r\n"
     ]
    },
    {
     "name": "stdout",
     "output_type": "stream",
     "text": [
      "Elapsed [1:39:55.187416], G_step [117690/1000000], D_step[117690/1000000], d_out_real: 0.0628, d_out_fake: 0.0631, g_loss_fake: 1.0880\r\n"
     ]
    },
    {
     "name": "stdout",
     "output_type": "stream",
     "text": [
      "Elapsed [1:40:07.082981], G_step [117700/1000000], D_step[117700/1000000], d_out_real: 0.0636, d_out_fake: 0.5129, g_loss_fake: 0.9188\r\n"
     ]
    },
    {
     "name": "stdout",
     "output_type": "stream",
     "text": [
      "Elapsed [1:40:19.300697], G_step [117710/1000000], D_step[117710/1000000], d_out_real: 0.0000, d_out_fake: 0.0015, g_loss_fake: 1.0137\r\n"
     ]
    },
    {
     "name": "stdout",
     "output_type": "stream",
     "text": [
      "Elapsed [1:40:32.024742], G_step [117720/1000000], D_step[117720/1000000], d_out_real: 0.0782, d_out_fake: 0.0000, g_loss_fake: 1.1454\r\n"
     ]
    },
    {
     "name": "stdout",
     "output_type": "stream",
     "text": [
      "Elapsed [1:40:44.057370], G_step [117730/1000000], D_step[117730/1000000], d_out_real: 0.0000, d_out_fake: 0.0757, g_loss_fake: 1.1143\r\n"
     ]
    },
    {
     "name": "stdout",
     "output_type": "stream",
     "text": [
      "Elapsed [1:40:56.384630], G_step [117740/1000000], D_step[117740/1000000], d_out_real: 0.0000, d_out_fake: 0.1324, g_loss_fake: 1.0261\r\n"
     ]
    },
    {
     "name": "stdout",
     "output_type": "stream",
     "text": [
      "Elapsed [1:41:08.031754], G_step [117750/1000000], D_step[117750/1000000], d_out_real: 0.1853, d_out_fake: 0.0010, g_loss_fake: 0.9914\r\n"
     ]
    },
    {
     "name": "stdout",
     "output_type": "stream",
     "text": [
      "Elapsed [1:41:20.832671], G_step [117760/1000000], D_step[117760/1000000], d_out_real: 0.0670, d_out_fake: 0.0000, g_loss_fake: 0.9190\r\n"
     ]
    },
    {
     "name": "stdout",
     "output_type": "stream",
     "text": [
      "Elapsed [1:41:35.978326], G_step [117770/1000000], D_step[117770/1000000], d_out_real: 0.1933, d_out_fake: 0.0000, g_loss_fake: 1.0366\r\n"
     ]
    },
    {
     "name": "stdout",
     "output_type": "stream",
     "text": [
      "Elapsed [1:41:48.833138], G_step [117780/1000000], D_step[117780/1000000], d_out_real: 0.0639, d_out_fake: 0.0617, g_loss_fake: 0.9689\r\n"
     ]
    },
    {
     "name": "stdout",
     "output_type": "stream",
     "text": [
      "Elapsed [1:42:01.463655], G_step [117790/1000000], D_step[117790/1000000], d_out_real: 0.0000, d_out_fake: 0.2349, g_loss_fake: 1.0192\r\n"
     ]
    },
    {
     "name": "stdout",
     "output_type": "stream",
     "text": [
      "Elapsed [1:42:13.679410], G_step [117800/1000000], D_step[117800/1000000], d_out_real: 0.1580, d_out_fake: 0.0025, g_loss_fake: 1.0107\r\n"
     ]
    },
    {
     "name": "stdout",
     "output_type": "stream",
     "text": [
      "Elapsed [1:42:26.396705], G_step [117810/1000000], D_step[117810/1000000], d_out_real: 0.0000, d_out_fake: 0.0091, g_loss_fake: 1.1049\r\n"
     ]
    },
    {
     "name": "stdout",
     "output_type": "stream",
     "text": [
      "Elapsed [1:42:38.135259], G_step [117820/1000000], D_step[117820/1000000], d_out_real: 0.0000, d_out_fake: 0.0000, g_loss_fake: 1.0673\r\n"
     ]
    },
    {
     "name": "stdout",
     "output_type": "stream",
     "text": [
      "Elapsed [1:42:49.946600], G_step [117830/1000000], D_step[117830/1000000], d_out_real: 0.2164, d_out_fake: 0.0641, g_loss_fake: 0.9096\r\n"
     ]
    },
    {
     "name": "stdout",
     "output_type": "stream",
     "text": [
      "Elapsed [1:43:02.584647], G_step [117840/1000000], D_step[117840/1000000], d_out_real: 0.0617, d_out_fake: 0.1349, g_loss_fake: 1.1342\r\n"
     ]
    },
    {
     "name": "stdout",
     "output_type": "stream",
     "text": [
      "Elapsed [1:43:15.553662], G_step [117850/1000000], D_step[117850/1000000], d_out_real: 0.0000, d_out_fake: 0.0037, g_loss_fake: 1.1359\r\n"
     ]
    },
    {
     "name": "stdout",
     "output_type": "stream",
     "text": [
      "Elapsed [1:43:28.421249], G_step [117860/1000000], D_step[117860/1000000], d_out_real: 0.0996, d_out_fake: 0.0115, g_loss_fake: 1.1421\r\n"
     ]
    },
    {
     "name": "stdout",
     "output_type": "stream",
     "text": [
      "Elapsed [1:43:40.859312], G_step [117870/1000000], D_step[117870/1000000], d_out_real: 0.0623, d_out_fake: 0.0022, g_loss_fake: 1.1915\r\n"
     ]
    },
    {
     "name": "stdout",
     "output_type": "stream",
     "text": [
      "Elapsed [1:43:53.537124], G_step [117880/1000000], D_step[117880/1000000], d_out_real: 0.0612, d_out_fake: 0.0076, g_loss_fake: 1.0790\r\n"
     ]
    },
    {
     "name": "stdout",
     "output_type": "stream",
     "text": [
      "Elapsed [1:44:07.206449], G_step [117890/1000000], D_step[117890/1000000], d_out_real: 0.0826, d_out_fake: 0.0009, g_loss_fake: 0.9417\r\n"
     ]
    },
    {
     "name": "stdout",
     "output_type": "stream",
     "text": [
      "Elapsed [1:44:19.305269], G_step [117900/1000000], D_step[117900/1000000], d_out_real: 0.3018, d_out_fake: 0.0000, g_loss_fake: 0.9908\r\n"
     ]
    },
    {
     "name": "stdout",
     "output_type": "stream",
     "text": [
      "Elapsed [1:44:31.990962], G_step [117910/1000000], D_step[117910/1000000], d_out_real: 0.0625, d_out_fake: 0.0000, g_loss_fake: 1.1163\r\n"
     ]
    },
    {
     "name": "stdout",
     "output_type": "stream",
     "text": [
      "Elapsed [1:44:43.987824], G_step [117920/1000000], D_step[117920/1000000], d_out_real: 0.1107, d_out_fake: 0.0710, g_loss_fake: 0.9795\r\n"
     ]
    },
    {
     "name": "stdout",
     "output_type": "stream",
     "text": [
      "Elapsed [1:44:56.490307], G_step [117930/1000000], D_step[117930/1000000], d_out_real: 0.0000, d_out_fake: 0.2296, g_loss_fake: 1.1218\r\n"
     ]
    },
    {
     "name": "stdout",
     "output_type": "stream",
     "text": [
      "Elapsed [1:45:08.048994], G_step [117940/1000000], D_step[117940/1000000], d_out_real: 0.1265, d_out_fake: 0.0007, g_loss_fake: 1.0088\r\n"
     ]
    },
    {
     "name": "stdout",
     "output_type": "stream",
     "text": [
      "Elapsed [1:45:21.929223], G_step [117950/1000000], D_step[117950/1000000], d_out_real: 0.0347, d_out_fake: 0.0000, g_loss_fake: 1.0908\r\n"
     ]
    },
    {
     "name": "stdout",
     "output_type": "stream",
     "text": [
      "Elapsed [1:45:34.177237], G_step [117960/1000000], D_step[117960/1000000], d_out_real: 0.0000, d_out_fake: 0.0483, g_loss_fake: 1.1137\r\n"
     ]
    },
    {
     "name": "stdout",
     "output_type": "stream",
     "text": [
      "Elapsed [1:45:45.567221], G_step [117970/1000000], D_step[117970/1000000], d_out_real: 0.0697, d_out_fake: 0.0320, g_loss_fake: 1.0719\r\n"
     ]
    },
    {
     "name": "stdout",
     "output_type": "stream",
     "text": [
      "Elapsed [1:45:56.786827], G_step [117980/1000000], D_step[117980/1000000], d_out_real: 0.0818, d_out_fake: 0.0000, g_loss_fake: 1.0045\r\n"
     ]
    },
    {
     "name": "stdout",
     "output_type": "stream",
     "text": [
      "Elapsed [1:46:07.578826], G_step [117990/1000000], D_step[117990/1000000], d_out_real: 0.0000, d_out_fake: 0.1428, g_loss_fake: 1.1190\r\n"
     ]
    },
    {
     "name": "stdout",
     "output_type": "stream",
     "text": [
      "Elapsed [1:46:18.835972], G_step [118000/1000000], D_step[118000/1000000], d_out_real: 0.1872, d_out_fake: 0.0135, g_loss_fake: 1.0598\r\n",
      "Sample images 118000_fake.png\r\n"
     ]
    },
    {
     "name": "stdout",
     "output_type": "stream",
     "text": [
      "Elapsed [1:46:29.958783], G_step [118010/1000000], D_step[118010/1000000], d_out_real: 0.0649, d_out_fake: 0.0103, g_loss_fake: 1.1674\r\n"
     ]
    },
    {
     "name": "stdout",
     "output_type": "stream",
     "text": [
      "Elapsed [1:46:41.523699], G_step [118020/1000000], D_step[118020/1000000], d_out_real: 0.2147, d_out_fake: 0.0000, g_loss_fake: 0.8682\r\n"
     ]
    },
    {
     "name": "stdout",
     "output_type": "stream",
     "text": [
      "Elapsed [1:46:52.819102], G_step [118030/1000000], D_step[118030/1000000], d_out_real: 0.0699, d_out_fake: 0.0000, g_loss_fake: 1.0610\r\n"
     ]
    },
    {
     "name": "stdout",
     "output_type": "stream",
     "text": [
      "Elapsed [1:47:03.816595], G_step [118040/1000000], D_step[118040/1000000], d_out_real: 0.1159, d_out_fake: 0.0006, g_loss_fake: 1.0652\r\n"
     ]
    },
    {
     "name": "stdout",
     "output_type": "stream",
     "text": [
      "Elapsed [1:47:15.346830], G_step [118050/1000000], D_step[118050/1000000], d_out_real: 0.0825, d_out_fake: 0.2363, g_loss_fake: 1.0620\r\n"
     ]
    },
    {
     "name": "stdout",
     "output_type": "stream",
     "text": [
      "Elapsed [1:47:26.297709], G_step [118060/1000000], D_step[118060/1000000], d_out_real: 0.2798, d_out_fake: 0.0026, g_loss_fake: 1.0999\r\n"
     ]
    },
    {
     "name": "stdout",
     "output_type": "stream",
     "text": [
      "Elapsed [1:47:37.094555], G_step [118070/1000000], D_step[118070/1000000], d_out_real: 0.1309, d_out_fake: 0.2674, g_loss_fake: 1.1176\r\n"
     ]
    },
    {
     "name": "stdout",
     "output_type": "stream",
     "text": [
      "Elapsed [1:47:48.329121], G_step [118080/1000000], D_step[118080/1000000], d_out_real: 0.1245, d_out_fake: 0.0000, g_loss_fake: 1.0292\r\n"
     ]
    },
    {
     "name": "stdout",
     "output_type": "stream",
     "text": [
      "Elapsed [1:47:59.749189], G_step [118090/1000000], D_step[118090/1000000], d_out_real: 0.0486, d_out_fake: 0.0567, g_loss_fake: 1.0491\r\n"
     ]
    },
    {
     "name": "stdout",
     "output_type": "stream",
     "text": [
      "Elapsed [1:48:11.097604], G_step [118100/1000000], D_step[118100/1000000], d_out_real: 0.2153, d_out_fake: 0.0005, g_loss_fake: 0.9348\r\n"
     ]
    },
    {
     "name": "stdout",
     "output_type": "stream",
     "text": [
      "Elapsed [1:48:22.296846], G_step [118110/1000000], D_step[118110/1000000], d_out_real: 0.0645, d_out_fake: 0.0754, g_loss_fake: 0.9816\r\n"
     ]
    },
    {
     "name": "stdout",
     "output_type": "stream",
     "text": [
      "Elapsed [1:48:33.946061], G_step [118120/1000000], D_step[118120/1000000], d_out_real: 0.0301, d_out_fake: 0.0580, g_loss_fake: 0.9759\r\n"
     ]
    },
    {
     "name": "stdout",
     "output_type": "stream",
     "text": [
      "Elapsed [1:48:45.236575], G_step [118130/1000000], D_step[118130/1000000], d_out_real: 0.0025, d_out_fake: 0.2704, g_loss_fake: 1.2465\r\n"
     ]
    },
    {
     "name": "stdout",
     "output_type": "stream",
     "text": [
      "Elapsed [1:48:56.784168], G_step [118140/1000000], D_step[118140/1000000], d_out_real: 0.1257, d_out_fake: 0.0000, g_loss_fake: 1.0914\r\n"
     ]
    },
    {
     "name": "stdout",
     "output_type": "stream",
     "text": [
      "Elapsed [1:49:07.757943], G_step [118150/1000000], D_step[118150/1000000], d_out_real: 0.0826, d_out_fake: 0.0002, g_loss_fake: 1.0157\r\n"
     ]
    },
    {
     "name": "stdout",
     "output_type": "stream",
     "text": [
      "Elapsed [1:49:19.026169], G_step [118160/1000000], D_step[118160/1000000], d_out_real: 0.0940, d_out_fake: 0.0033, g_loss_fake: 0.9219\r\n"
     ]
    },
    {
     "name": "stdout",
     "output_type": "stream",
     "text": [
      "Elapsed [1:49:30.605588], G_step [118170/1000000], D_step[118170/1000000], d_out_real: 0.0000, d_out_fake: 0.0316, g_loss_fake: 1.1052\r\n"
     ]
    },
    {
     "name": "stdout",
     "output_type": "stream",
     "text": [
      "Elapsed [1:49:41.976317], G_step [118180/1000000], D_step[118180/1000000], d_out_real: 0.0899, d_out_fake: 0.0365, g_loss_fake: 1.0573\r\n"
     ]
    },
    {
     "name": "stdout",
     "output_type": "stream",
     "text": [
      "Elapsed [1:49:54.088822], G_step [118190/1000000], D_step[118190/1000000], d_out_real: 0.0000, d_out_fake: 0.0000, g_loss_fake: 1.1092\r\n"
     ]
    },
    {
     "name": "stdout",
     "output_type": "stream",
     "text": [
      "Elapsed [1:50:05.534542], G_step [118200/1000000], D_step[118200/1000000], d_out_real: 0.0636, d_out_fake: 0.0582, g_loss_fake: 1.0622\r\n"
     ]
    },
    {
     "name": "stdout",
     "output_type": "stream",
     "text": [
      "Elapsed [1:50:16.748401], G_step [118210/1000000], D_step[118210/1000000], d_out_real: 0.0000, d_out_fake: 0.0015, g_loss_fake: 1.1646\r\n"
     ]
    },
    {
     "name": "stdout",
     "output_type": "stream",
     "text": [
      "Elapsed [1:50:28.301432], G_step [118220/1000000], D_step[118220/1000000], d_out_real: 0.1151, d_out_fake: 0.0000, g_loss_fake: 1.0433\r\n"
     ]
    },
    {
     "name": "stdout",
     "output_type": "stream",
     "text": [
      "Elapsed [1:50:40.934195], G_step [118230/1000000], D_step[118230/1000000], d_out_real: 0.0010, d_out_fake: 0.0630, g_loss_fake: 1.0171\r\n"
     ]
    },
    {
     "name": "stdout",
     "output_type": "stream",
     "text": [
      "Elapsed [1:50:52.462852], G_step [118240/1000000], D_step[118240/1000000], d_out_real: 0.0663, d_out_fake: 0.0151, g_loss_fake: 1.1194\r\n"
     ]
    },
    {
     "name": "stdout",
     "output_type": "stream",
     "text": [
      "Elapsed [1:51:05.379629], G_step [118250/1000000], D_step[118250/1000000], d_out_real: 0.1255, d_out_fake: 0.0001, g_loss_fake: 1.1492\r\n"
     ]
    },
    {
     "name": "stdout",
     "output_type": "stream",
     "text": [
      "Elapsed [1:51:16.513979], G_step [118260/1000000], D_step[118260/1000000], d_out_real: 0.1775, d_out_fake: 0.0151, g_loss_fake: 1.0757\r\n"
     ]
    },
    {
     "name": "stdout",
     "output_type": "stream",
     "text": [
      "Elapsed [1:51:29.735112], G_step [118270/1000000], D_step[118270/1000000], d_out_real: 0.1654, d_out_fake: 0.0142, g_loss_fake: 1.0461\r\n"
     ]
    },
    {
     "name": "stdout",
     "output_type": "stream",
     "text": [
      "Elapsed [1:51:40.813568], G_step [118280/1000000], D_step[118280/1000000], d_out_real: 0.1782, d_out_fake: 0.0014, g_loss_fake: 1.0328\r\n"
     ]
    },
    {
     "name": "stdout",
     "output_type": "stream",
     "text": [
      "Elapsed [1:51:51.564791], G_step [118290/1000000], D_step[118290/1000000], d_out_real: 0.0107, d_out_fake: 0.0624, g_loss_fake: 0.6935\r\n"
     ]
    },
    {
     "name": "stdout",
     "output_type": "stream",
     "text": [
      "Elapsed [1:52:04.258969], G_step [118300/1000000], D_step[118300/1000000], d_out_real: 0.1278, d_out_fake: 0.0239, g_loss_fake: 1.0429\r\n"
     ]
    },
    {
     "name": "stdout",
     "output_type": "stream",
     "text": [
      "Elapsed [1:52:15.736432], G_step [118310/1000000], D_step[118310/1000000], d_out_real: 0.2940, d_out_fake: 0.0321, g_loss_fake: 1.0944\r\n"
     ]
    },
    {
     "name": "stdout",
     "output_type": "stream",
     "text": [
      "Elapsed [1:52:27.080835], G_step [118320/1000000], D_step[118320/1000000], d_out_real: 0.0000, d_out_fake: 0.0904, g_loss_fake: 0.9605\r\n"
     ]
    },
    {
     "name": "stdout",
     "output_type": "stream",
     "text": [
      "Elapsed [1:52:38.912878], G_step [118330/1000000], D_step[118330/1000000], d_out_real: 0.0655, d_out_fake: 0.0358, g_loss_fake: 1.1123\r\n"
     ]
    },
    {
     "name": "stdout",
     "output_type": "stream",
     "text": [
      "Elapsed [1:52:50.779245], G_step [118340/1000000], D_step[118340/1000000], d_out_real: 0.1331, d_out_fake: 0.0000, g_loss_fake: 1.0586\r\n"
     ]
    },
    {
     "name": "stdout",
     "output_type": "stream",
     "text": [
      "Elapsed [1:53:02.694226], G_step [118350/1000000], D_step[118350/1000000], d_out_real: 0.1897, d_out_fake: 0.0549, g_loss_fake: 1.0652\r\n"
     ]
    },
    {
     "name": "stdout",
     "output_type": "stream",
     "text": [
      "Elapsed [1:53:14.144092], G_step [118360/1000000], D_step[118360/1000000], d_out_real: 0.0000, d_out_fake: 0.0018, g_loss_fake: 1.0140\r\n"
     ]
    },
    {
     "name": "stdout",
     "output_type": "stream",
     "text": [
      "Elapsed [1:53:25.802569], G_step [118370/1000000], D_step[118370/1000000], d_out_real: 0.0617, d_out_fake: 0.0000, g_loss_fake: 1.0694\r\n"
     ]
    },
    {
     "name": "stdout",
     "output_type": "stream",
     "text": [
      "Elapsed [1:53:36.857707], G_step [118380/1000000], D_step[118380/1000000], d_out_real: 0.0000, d_out_fake: 0.0004, g_loss_fake: 1.1078\r\n"
     ]
    },
    {
     "name": "stdout",
     "output_type": "stream",
     "text": [
      "Elapsed [1:53:47.819308], G_step [118390/1000000], D_step[118390/1000000], d_out_real: 0.1451, d_out_fake: 0.0000, g_loss_fake: 1.0924\r\n"
     ]
    },
    {
     "name": "stdout",
     "output_type": "stream",
     "text": [
      "Elapsed [1:53:59.521271], G_step [118400/1000000], D_step[118400/1000000], d_out_real: 0.1269, d_out_fake: 0.0017, g_loss_fake: 1.0931\r\n"
     ]
    },
    {
     "name": "stdout",
     "output_type": "stream",
     "text": [
      "Elapsed [1:54:10.680983], G_step [118410/1000000], D_step[118410/1000000], d_out_real: 0.2332, d_out_fake: 0.0345, g_loss_fake: 0.9837\r\n"
     ]
    },
    {
     "name": "stdout",
     "output_type": "stream",
     "text": [
      "Elapsed [1:54:21.490326], G_step [118420/1000000], D_step[118420/1000000], d_out_real: 0.1287, d_out_fake: 0.1172, g_loss_fake: 1.0994\r\n"
     ]
    },
    {
     "name": "stdout",
     "output_type": "stream",
     "text": [
      "Elapsed [1:54:33.019773], G_step [118430/1000000], D_step[118430/1000000], d_out_real: 0.0642, d_out_fake: 0.0000, g_loss_fake: 0.9689\r\n"
     ]
    },
    {
     "name": "stdout",
     "output_type": "stream",
     "text": [
      "Elapsed [1:54:44.036268], G_step [118440/1000000], D_step[118440/1000000], d_out_real: 0.1277, d_out_fake: 0.0000, g_loss_fake: 1.0515\r\n"
     ]
    },
    {
     "name": "stdout",
     "output_type": "stream",
     "text": [
      "Elapsed [1:54:54.940063], G_step [118450/1000000], D_step[118450/1000000], d_out_real: 0.0000, d_out_fake: 0.0244, g_loss_fake: 1.1496\r\n"
     ]
    },
    {
     "name": "stdout",
     "output_type": "stream",
     "text": [
      "Elapsed [1:55:06.884341], G_step [118460/1000000], D_step[118460/1000000], d_out_real: 0.2472, d_out_fake: 0.0183, g_loss_fake: 1.0097\r\n"
     ]
    },
    {
     "name": "stdout",
     "output_type": "stream",
     "text": [
      "Elapsed [1:55:17.547860], G_step [118470/1000000], D_step[118470/1000000], d_out_real: 0.0627, d_out_fake: 0.0326, g_loss_fake: 1.0108\r\n"
     ]
    },
    {
     "name": "stdout",
     "output_type": "stream",
     "text": [
      "Elapsed [1:55:29.229598], G_step [118480/1000000], D_step[118480/1000000], d_out_real: 0.1553, d_out_fake: 0.0000, g_loss_fake: 1.0259\r\n"
     ]
    },
    {
     "name": "stdout",
     "output_type": "stream",
     "text": [
      "Elapsed [1:55:41.235856], G_step [118490/1000000], D_step[118490/1000000], d_out_real: 0.0699, d_out_fake: 0.0001, g_loss_fake: 1.0509\r\n"
     ]
    },
    {
     "name": "stdout",
     "output_type": "stream",
     "text": [
      "Elapsed [1:55:52.157573], G_step [118500/1000000], D_step[118500/1000000], d_out_real: 0.1902, d_out_fake: 0.0000, g_loss_fake: 1.1163\r\n"
     ]
    },
    {
     "name": "stdout",
     "output_type": "stream",
     "text": [
      "Elapsed [1:56:03.579642], G_step [118510/1000000], D_step[118510/1000000], d_out_real: 0.0000, d_out_fake: 0.0002, g_loss_fake: 1.0409\r\n"
     ]
    },
    {
     "name": "stdout",
     "output_type": "stream",
     "text": [
      "Elapsed [1:56:14.546254], G_step [118520/1000000], D_step[118520/1000000], d_out_real: 0.0000, d_out_fake: 0.0399, g_loss_fake: 1.0834\r\n"
     ]
    },
    {
     "name": "stdout",
     "output_type": "stream",
     "text": [
      "Elapsed [1:56:25.660562], G_step [118530/1000000], D_step[118530/1000000], d_out_real: 0.1783, d_out_fake: 0.0000, g_loss_fake: 0.9768\r\n"
     ]
    },
    {
     "name": "stdout",
     "output_type": "stream",
     "text": [
      "Elapsed [1:56:36.486687], G_step [118540/1000000], D_step[118540/1000000], d_out_real: 0.0000, d_out_fake: 0.0000, g_loss_fake: 1.1273\r\n"
     ]
    },
    {
     "name": "stdout",
     "output_type": "stream",
     "text": [
      "Elapsed [1:56:47.271029], G_step [118550/1000000], D_step[118550/1000000], d_out_real: 0.0653, d_out_fake: 0.0075, g_loss_fake: 1.1196\r\n"
     ]
    },
    {
     "name": "stdout",
     "output_type": "stream",
     "text": [
      "Elapsed [1:56:58.996094], G_step [118560/1000000], D_step[118560/1000000], d_out_real: 0.0131, d_out_fake: 0.0034, g_loss_fake: 1.0304\r\n"
     ]
    },
    {
     "name": "stdout",
     "output_type": "stream",
     "text": [
      "Elapsed [1:57:09.998429], G_step [118570/1000000], D_step[118570/1000000], d_out_real: 0.1589, d_out_fake: 0.0044, g_loss_fake: 0.9167\r\n"
     ]
    },
    {
     "name": "stdout",
     "output_type": "stream",
     "text": [
      "Elapsed [1:57:21.349033], G_step [118580/1000000], D_step[118580/1000000], d_out_real: 0.0676, d_out_fake: 0.0332, g_loss_fake: 1.0854\r\n"
     ]
    },
    {
     "name": "stdout",
     "output_type": "stream",
     "text": [
      "Elapsed [1:57:32.294597], G_step [118590/1000000], D_step[118590/1000000], d_out_real: 0.0887, d_out_fake: 0.1121, g_loss_fake: 1.0596\r\n"
     ]
    },
    {
     "name": "stdout",
     "output_type": "stream",
     "text": [
      "Elapsed [1:57:43.164074], G_step [118600/1000000], D_step[118600/1000000], d_out_real: 0.0000, d_out_fake: 0.0774, g_loss_fake: 1.0891\r\n"
     ]
    },
    {
     "name": "stdout",
     "output_type": "stream",
     "text": [
      "Elapsed [1:57:54.904179], G_step [118610/1000000], D_step[118610/1000000], d_out_real: 0.0640, d_out_fake: 0.0000, g_loss_fake: 0.9123\r\n"
     ]
    },
    {
     "name": "stdout",
     "output_type": "stream",
     "text": [
      "Elapsed [1:58:05.881525], G_step [118620/1000000], D_step[118620/1000000], d_out_real: 0.2431, d_out_fake: 0.0009, g_loss_fake: 0.8081\r\n"
     ]
    },
    {
     "name": "stdout",
     "output_type": "stream",
     "text": [
      "Elapsed [1:58:17.344920], G_step [118630/1000000], D_step[118630/1000000], d_out_real: 0.0891, d_out_fake: 0.0083, g_loss_fake: 1.0153\r\n"
     ]
    },
    {
     "name": "stdout",
     "output_type": "stream",
     "text": [
      "Elapsed [1:58:28.568185], G_step [118640/1000000], D_step[118640/1000000], d_out_real: 0.0138, d_out_fake: 0.0018, g_loss_fake: 0.7525\r\n"
     ]
    },
    {
     "name": "stdout",
     "output_type": "stream",
     "text": [
      "Elapsed [1:58:39.535348], G_step [118650/1000000], D_step[118650/1000000], d_out_real: 0.0260, d_out_fake: 0.0042, g_loss_fake: 1.0037\r\n"
     ]
    },
    {
     "name": "stdout",
     "output_type": "stream",
     "text": [
      "Elapsed [1:58:51.362332], G_step [118660/1000000], D_step[118660/1000000], d_out_real: 0.1288, d_out_fake: 0.0000, g_loss_fake: 1.0221\r\n"
     ]
    },
    {
     "name": "stdout",
     "output_type": "stream",
     "text": [
      "Elapsed [1:59:02.133522], G_step [118670/1000000], D_step[118670/1000000], d_out_real: 0.0863, d_out_fake: 0.0000, g_loss_fake: 0.9817\r\n"
     ]
    },
    {
     "name": "stdout",
     "output_type": "stream",
     "text": [
      "Elapsed [1:59:13.009434], G_step [118680/1000000], D_step[118680/1000000], d_out_real: 0.0178, d_out_fake: 0.1455, g_loss_fake: 0.8436\r\n"
     ]
    },
    {
     "name": "stdout",
     "output_type": "stream",
     "text": [
      "Elapsed [1:59:24.540991], G_step [118690/1000000], D_step[118690/1000000], d_out_real: 0.0185, d_out_fake: 0.0509, g_loss_fake: 1.1056\r\n"
     ]
    },
    {
     "name": "stdout",
     "output_type": "stream",
     "text": [
      "Elapsed [1:59:36.192598], G_step [118700/1000000], D_step[118700/1000000], d_out_real: 0.0875, d_out_fake: 0.1526, g_loss_fake: 1.1038\r\n"
     ]
    },
    {
     "name": "stdout",
     "output_type": "stream",
     "text": [
      "Elapsed [1:59:47.775405], G_step [118710/1000000], D_step[118710/1000000], d_out_real: 0.0193, d_out_fake: 0.0406, g_loss_fake: 1.1527\r\n"
     ]
    },
    {
     "name": "stdout",
     "output_type": "stream",
     "text": [
      "save torch\r\n"
     ]
    },
    {
     "name": "stdout",
     "output_type": "stream",
     "text": [
      "Elapsed [1:59:59.886962], G_step [118720/1000000], D_step[118720/1000000], d_out_real: 0.1559, d_out_fake: 0.0004, g_loss_fake: 1.0015\r\n"
     ]
    },
    {
     "name": "stdout",
     "output_type": "stream",
     "text": [
      "Elapsed [2:00:11.732139], G_step [118730/1000000], D_step[118730/1000000], d_out_real: 0.1566, d_out_fake: 0.0000, g_loss_fake: 1.0611\r\n"
     ]
    },
    {
     "name": "stdout",
     "output_type": "stream",
     "text": [
      "Elapsed [2:00:22.764537], G_step [118740/1000000], D_step[118740/1000000], d_out_real: 0.0646, d_out_fake: 0.1071, g_loss_fake: 1.1493\r\n"
     ]
    },
    {
     "name": "stdout",
     "output_type": "stream",
     "text": [
      "Elapsed [2:00:33.761580], G_step [118750/1000000], D_step[118750/1000000], d_out_real: 0.0016, d_out_fake: 0.0000, g_loss_fake: 1.0897\r\n"
     ]
    },
    {
     "name": "stdout",
     "output_type": "stream",
     "text": [
      "Elapsed [2:00:44.757482], G_step [118760/1000000], D_step[118760/1000000], d_out_real: 0.2990, d_out_fake: 0.0000, g_loss_fake: 1.0911\r\n"
     ]
    },
    {
     "name": "stdout",
     "output_type": "stream",
     "text": [
      "Elapsed [2:00:55.490391], G_step [118770/1000000], D_step[118770/1000000], d_out_real: 0.0000, d_out_fake: 0.1208, g_loss_fake: 1.0578\r\n"
     ]
    },
    {
     "name": "stdout",
     "output_type": "stream",
     "text": [
      "Elapsed [2:01:06.195575], G_step [118780/1000000], D_step[118780/1000000], d_out_real: 0.0000, d_out_fake: 0.0154, g_loss_fake: 1.0840\r\n"
     ]
    },
    {
     "name": "stdout",
     "output_type": "stream",
     "text": [
      "Elapsed [2:01:17.013757], G_step [118790/1000000], D_step[118790/1000000], d_out_real: 0.0000, d_out_fake: 0.0676, g_loss_fake: 1.1157\r\n"
     ]
    },
    {
     "name": "stdout",
     "output_type": "stream",
     "text": [
      "Elapsed [2:01:28.021369], G_step [118800/1000000], D_step[118800/1000000], d_out_real: 0.0066, d_out_fake: 0.1290, g_loss_fake: 1.0021\r\n"
     ]
    },
    {
     "name": "stdout",
     "output_type": "stream",
     "text": [
      "Elapsed [2:01:38.730630], G_step [118810/1000000], D_step[118810/1000000], d_out_real: 0.0000, d_out_fake: 0.0131, g_loss_fake: 1.0367\r\n"
     ]
    },
    {
     "name": "stdout",
     "output_type": "stream",
     "text": [
      "Elapsed [2:01:49.740674], G_step [118820/1000000], D_step[118820/1000000], d_out_real: 0.0636, d_out_fake: 0.0003, g_loss_fake: 0.9906\r\n"
     ]
    },
    {
     "name": "stdout",
     "output_type": "stream",
     "text": [
      "Elapsed [2:02:00.903700], G_step [118830/1000000], D_step[118830/1000000], d_out_real: 0.0000, d_out_fake: 0.0000, g_loss_fake: 1.0663\r\n"
     ]
    },
    {
     "name": "stdout",
     "output_type": "stream",
     "text": [
      "Elapsed [2:02:11.469391], G_step [118840/1000000], D_step[118840/1000000], d_out_real: 0.0665, d_out_fake: 0.0520, g_loss_fake: 1.1440\r\n"
     ]
    },
    {
     "name": "stdout",
     "output_type": "stream",
     "text": [
      "Elapsed [2:02:22.222538], G_step [118850/1000000], D_step[118850/1000000], d_out_real: 0.1904, d_out_fake: 0.0016, g_loss_fake: 1.0997\r\n"
     ]
    },
    {
     "name": "stdout",
     "output_type": "stream",
     "text": [
      "Elapsed [2:02:33.110481], G_step [118860/1000000], D_step[118860/1000000], d_out_real: 0.0633, d_out_fake: 0.0000, g_loss_fake: 1.1026\r\n"
     ]
    },
    {
     "name": "stdout",
     "output_type": "stream",
     "text": [
      "Elapsed [2:02:44.368495], G_step [118870/1000000], D_step[118870/1000000], d_out_real: 0.0945, d_out_fake: 0.0000, g_loss_fake: 0.9555\r\n"
     ]
    },
    {
     "name": "stdout",
     "output_type": "stream",
     "text": [
      "Elapsed [2:02:56.514696], G_step [118880/1000000], D_step[118880/1000000], d_out_real: 0.0620, d_out_fake: 0.0000, g_loss_fake: 1.1295\r\n"
     ]
    },
    {
     "name": "stdout",
     "output_type": "stream",
     "text": [
      "Elapsed [2:03:07.119331], G_step [118890/1000000], D_step[118890/1000000], d_out_real: 0.0105, d_out_fake: 0.0686, g_loss_fake: 0.9816\r\n"
     ]
    },
    {
     "name": "stdout",
     "output_type": "stream",
     "text": [
      "Elapsed [2:03:18.100247], G_step [118900/1000000], D_step[118900/1000000], d_out_real: 0.0727, d_out_fake: 0.0000, g_loss_fake: 1.0930\r\n"
     ]
    },
    {
     "name": "stdout",
     "output_type": "stream",
     "text": [
      "Elapsed [2:03:29.125260], G_step [118910/1000000], D_step[118910/1000000], d_out_real: 0.0000, d_out_fake: 0.0000, g_loss_fake: 1.0798\r\n"
     ]
    },
    {
     "name": "stdout",
     "output_type": "stream",
     "text": [
      "Elapsed [2:03:40.050998], G_step [118920/1000000], D_step[118920/1000000], d_out_real: 0.0643, d_out_fake: 0.0000, g_loss_fake: 1.1314\r\n"
     ]
    },
    {
     "name": "stdout",
     "output_type": "stream",
     "text": [
      "Elapsed [2:03:50.947392], G_step [118930/1000000], D_step[118930/1000000], d_out_real: 0.2153, d_out_fake: 0.0000, g_loss_fake: 1.0355\r\n"
     ]
    },
    {
     "name": "stdout",
     "output_type": "stream",
     "text": [
      "Elapsed [2:04:02.141529], G_step [118940/1000000], D_step[118940/1000000], d_out_real: 0.2483, d_out_fake: 0.0011, g_loss_fake: 1.0799\r\n"
     ]
    },
    {
     "name": "stdout",
     "output_type": "stream",
     "text": [
      "Elapsed [2:04:13.972262], G_step [118950/1000000], D_step[118950/1000000], d_out_real: 0.0646, d_out_fake: 0.0000, g_loss_fake: 1.0961\r\n"
     ]
    },
    {
     "name": "stdout",
     "output_type": "stream",
     "text": [
      "Elapsed [2:04:24.780607], G_step [118960/1000000], D_step[118960/1000000], d_out_real: 0.0155, d_out_fake: 0.0465, g_loss_fake: 1.0789\r\n"
     ]
    },
    {
     "name": "stdout",
     "output_type": "stream",
     "text": [
      "Elapsed [2:04:35.711847], G_step [118970/1000000], D_step[118970/1000000], d_out_real: 0.1113, d_out_fake: 0.0000, g_loss_fake: 1.0435\r\n"
     ]
    },
    {
     "name": "stdout",
     "output_type": "stream",
     "text": [
      "Elapsed [2:04:46.556123], G_step [118980/1000000], D_step[118980/1000000], d_out_real: 0.1895, d_out_fake: 0.0077, g_loss_fake: 1.0643\r\n"
     ]
    },
    {
     "name": "stdout",
     "output_type": "stream",
     "text": [
      "Elapsed [2:04:59.100850], G_step [118990/1000000], D_step[118990/1000000], d_out_real: 0.0612, d_out_fake: 0.2114, g_loss_fake: 1.1092\r\n"
     ]
    },
    {
     "name": "stdout",
     "output_type": "stream",
     "text": [
      "Elapsed [2:05:10.093153], G_step [119000/1000000], D_step[119000/1000000], d_out_real: 0.0037, d_out_fake: 0.0038, g_loss_fake: 1.0427\r\n",
      "Sample images 119000_fake.png\r\n"
     ]
    },
    {
     "name": "stdout",
     "output_type": "stream",
     "text": [
      "Elapsed [2:05:21.495646], G_step [119010/1000000], D_step[119010/1000000], d_out_real: 0.1985, d_out_fake: 0.0000, g_loss_fake: 1.1078\r\n"
     ]
    },
    {
     "name": "stdout",
     "output_type": "stream",
     "text": [
      "Elapsed [2:05:32.409285], G_step [119020/1000000], D_step[119020/1000000], d_out_real: 0.1305, d_out_fake: 0.0090, g_loss_fake: 1.1486\r\n"
     ]
    },
    {
     "name": "stdout",
     "output_type": "stream",
     "text": [
      "Elapsed [2:05:42.975306], G_step [119030/1000000], D_step[119030/1000000], d_out_real: 0.2544, d_out_fake: 0.0000, g_loss_fake: 0.7693\r\n"
     ]
    },
    {
     "name": "stdout",
     "output_type": "stream",
     "text": [
      "Elapsed [2:05:53.797033], G_step [119040/1000000], D_step[119040/1000000], d_out_real: 0.0655, d_out_fake: 0.0253, g_loss_fake: 1.1250\r\n"
     ]
    },
    {
     "name": "stdout",
     "output_type": "stream",
     "text": [
      "Elapsed [2:06:05.232543], G_step [119050/1000000], D_step[119050/1000000], d_out_real: 0.0000, d_out_fake: 0.0000, g_loss_fake: 1.1196\r\n"
     ]
    },
    {
     "name": "stdout",
     "output_type": "stream",
     "text": [
      "Elapsed [2:06:17.348740], G_step [119060/1000000], D_step[119060/1000000], d_out_real: 0.0697, d_out_fake: 0.0313, g_loss_fake: 1.0364\r\n"
     ]
    },
    {
     "name": "stdout",
     "output_type": "stream",
     "text": [
      "Elapsed [2:06:28.392843], G_step [119070/1000000], D_step[119070/1000000], d_out_real: 0.1553, d_out_fake: 0.0002, g_loss_fake: 1.0773\r\n"
     ]
    },
    {
     "name": "stdout",
     "output_type": "stream",
     "text": [
      "Elapsed [2:06:39.137240], G_step [119080/1000000], D_step[119080/1000000], d_out_real: 0.0023, d_out_fake: 0.1415, g_loss_fake: 1.1426\r\n"
     ]
    },
    {
     "name": "stdout",
     "output_type": "stream",
     "text": [
      "Elapsed [2:06:50.412775], G_step [119090/1000000], D_step[119090/1000000], d_out_real: 0.0000, d_out_fake: 0.0208, g_loss_fake: 1.0940\r\n"
     ]
    },
    {
     "name": "stdout",
     "output_type": "stream",
     "text": [
      "Elapsed [2:07:02.220729], G_step [119100/1000000], D_step[119100/1000000], d_out_real: 0.1301, d_out_fake: 0.0666, g_loss_fake: 1.1991\r\n"
     ]
    },
    {
     "name": "stdout",
     "output_type": "stream",
     "text": [
      "Elapsed [2:07:13.245491], G_step [119110/1000000], D_step[119110/1000000], d_out_real: 0.0617, d_out_fake: 0.1236, g_loss_fake: 1.0919\r\n"
     ]
    },
    {
     "name": "stdout",
     "output_type": "stream",
     "text": [
      "Elapsed [2:07:24.353613], G_step [119120/1000000], D_step[119120/1000000], d_out_real: 0.1024, d_out_fake: 0.0009, g_loss_fake: 0.9239\r\n"
     ]
    },
    {
     "name": "stdout",
     "output_type": "stream",
     "text": [
      "Elapsed [2:07:35.023808], G_step [119130/1000000], D_step[119130/1000000], d_out_real: 0.0593, d_out_fake: 0.0000, g_loss_fake: 1.1040\r\n"
     ]
    },
    {
     "name": "stdout",
     "output_type": "stream",
     "text": [
      "Elapsed [2:07:46.031147], G_step [119140/1000000], D_step[119140/1000000], d_out_real: 0.1284, d_out_fake: 0.0002, g_loss_fake: 1.0061\r\n"
     ]
    },
    {
     "name": "stdout",
     "output_type": "stream",
     "text": [
      "Elapsed [2:07:56.886452], G_step [119150/1000000], D_step[119150/1000000], d_out_real: 0.0658, d_out_fake: 0.0621, g_loss_fake: 1.0813\r\n"
     ]
    },
    {
     "name": "stdout",
     "output_type": "stream",
     "text": [
      "Elapsed [2:08:08.114715], G_step [119160/1000000], D_step[119160/1000000], d_out_real: 0.0000, d_out_fake: 0.1267, g_loss_fake: 1.0922\r\n"
     ]
    },
    {
     "name": "stdout",
     "output_type": "stream",
     "text": [
      "Elapsed [2:08:19.086289], G_step [119170/1000000], D_step[119170/1000000], d_out_real: 0.1974, d_out_fake: 0.0089, g_loss_fake: 1.0753\r\n"
     ]
    },
    {
     "name": "stdout",
     "output_type": "stream",
     "text": [
      "Elapsed [2:08:29.865482], G_step [119180/1000000], D_step[119180/1000000], d_out_real: 0.2039, d_out_fake: 0.0000, g_loss_fake: 1.0674\r\n"
     ]
    },
    {
     "name": "stdout",
     "output_type": "stream",
     "text": [
      "Elapsed [2:08:41.371592], G_step [119190/1000000], D_step[119190/1000000], d_out_real: 0.3261, d_out_fake: 0.0734, g_loss_fake: 0.9981\r\n"
     ]
    },
    {
     "name": "stdout",
     "output_type": "stream",
     "text": [
      "Elapsed [2:08:52.015204], G_step [119200/1000000], D_step[119200/1000000], d_out_real: 0.0599, d_out_fake: 0.1592, g_loss_fake: 1.1078\r\n"
     ]
    },
    {
     "name": "stdout",
     "output_type": "stream",
     "text": [
      "Elapsed [2:09:02.982337], G_step [119210/1000000], D_step[119210/1000000], d_out_real: 0.0642, d_out_fake: 0.1170, g_loss_fake: 1.0700\r\n"
     ]
    },
    {
     "name": "stdout",
     "output_type": "stream",
     "text": [
      "Elapsed [2:09:15.057105], G_step [119220/1000000], D_step[119220/1000000], d_out_real: 0.0654, d_out_fake: 0.0000, g_loss_fake: 0.9776\r\n"
     ]
    },
    {
     "name": "stdout",
     "output_type": "stream",
     "text": [
      "Elapsed [2:09:26.553407], G_step [119230/1000000], D_step[119230/1000000], d_out_real: 0.0000, d_out_fake: 0.0943, g_loss_fake: 1.1022\r\n"
     ]
    },
    {
     "name": "stdout",
     "output_type": "stream",
     "text": [
      "Elapsed [2:09:37.202347], G_step [119240/1000000], D_step[119240/1000000], d_out_real: 0.1817, d_out_fake: 0.0000, g_loss_fake: 1.0225\r\n"
     ]
    },
    {
     "name": "stdout",
     "output_type": "stream",
     "text": [
      "Elapsed [2:09:48.817362], G_step [119250/1000000], D_step[119250/1000000], d_out_real: 0.0000, d_out_fake: 0.0397, g_loss_fake: 1.1182\r\n"
     ]
    },
    {
     "name": "stdout",
     "output_type": "stream",
     "text": [
      "Elapsed [2:09:59.809981], G_step [119260/1000000], D_step[119260/1000000], d_out_real: 0.0624, d_out_fake: 0.0659, g_loss_fake: 1.0834\r\n"
     ]
    },
    {
     "name": "stdout",
     "output_type": "stream",
     "text": [
      "Elapsed [2:10:10.769787], G_step [119270/1000000], D_step[119270/1000000], d_out_real: 0.0000, d_out_fake: 0.1109, g_loss_fake: 1.0964\r\n"
     ]
    },
    {
     "name": "stdout",
     "output_type": "stream",
     "text": [
      "Elapsed [2:10:21.706025], G_step [119280/1000000], D_step[119280/1000000], d_out_real: 0.1287, d_out_fake: 0.0648, g_loss_fake: 1.0580\r\n"
     ]
    },
    {
     "name": "stdout",
     "output_type": "stream",
     "text": [
      "Elapsed [2:10:32.344674], G_step [119290/1000000], D_step[119290/1000000], d_out_real: 0.0876, d_out_fake: 0.1035, g_loss_fake: 1.0553\r\n"
     ]
    },
    {
     "name": "stdout",
     "output_type": "stream",
     "text": [
      "Elapsed [2:10:43.429115], G_step [119300/1000000], D_step[119300/1000000], d_out_real: 0.2532, d_out_fake: 0.0000, g_loss_fake: 0.9498\r\n"
     ]
    },
    {
     "name": "stdout",
     "output_type": "stream",
     "text": [
      "Elapsed [2:10:54.542080], G_step [119310/1000000], D_step[119310/1000000], d_out_real: 0.0000, d_out_fake: 0.0005, g_loss_fake: 1.0655\r\n"
     ]
    },
    {
     "name": "stdout",
     "output_type": "stream",
     "text": [
      "Elapsed [2:11:05.292163], G_step [119320/1000000], D_step[119320/1000000], d_out_real: 0.0000, d_out_fake: 0.0003, g_loss_fake: 1.0580\r\n"
     ]
    },
    {
     "name": "stdout",
     "output_type": "stream",
     "text": [
      "Elapsed [2:11:16.305017], G_step [119330/1000000], D_step[119330/1000000], d_out_real: 0.0536, d_out_fake: 0.0743, g_loss_fake: 1.1673\r\n"
     ]
    },
    {
     "name": "stdout",
     "output_type": "stream",
     "text": [
      "Elapsed [2:11:27.718131], G_step [119340/1000000], D_step[119340/1000000], d_out_real: 0.1671, d_out_fake: 0.0214, g_loss_fake: 0.7953\r\n"
     ]
    },
    {
     "name": "stdout",
     "output_type": "stream",
     "text": [
      "Elapsed [2:11:38.471554], G_step [119350/1000000], D_step[119350/1000000], d_out_real: 0.1914, d_out_fake: 0.0466, g_loss_fake: 1.0706\r\n"
     ]
    },
    {
     "name": "stdout",
     "output_type": "stream",
     "text": [
      "Elapsed [2:11:49.425442], G_step [119360/1000000], D_step[119360/1000000], d_out_real: 0.0641, d_out_fake: 0.0053, g_loss_fake: 1.0286\r\n"
     ]
    },
    {
     "name": "stdout",
     "output_type": "stream",
     "text": [
      "Elapsed [2:12:00.969990], G_step [119370/1000000], D_step[119370/1000000], d_out_real: 0.0655, d_out_fake: 0.0000, g_loss_fake: 1.0024\r\n"
     ]
    },
    {
     "name": "stdout",
     "output_type": "stream",
     "text": [
      "Elapsed [2:12:11.587461], G_step [119380/1000000], D_step[119380/1000000], d_out_real: 0.0854, d_out_fake: 0.0571, g_loss_fake: 1.0532\r\n"
     ]
    },
    {
     "name": "stdout",
     "output_type": "stream",
     "text": [
      "Elapsed [2:12:22.501965], G_step [119390/1000000], D_step[119390/1000000], d_out_real: 0.0000, d_out_fake: 0.1002, g_loss_fake: 1.0964\r\n"
     ]
    },
    {
     "name": "stdout",
     "output_type": "stream",
     "text": [
      "Elapsed [2:12:33.295440], G_step [119400/1000000], D_step[119400/1000000], d_out_real: 0.0197, d_out_fake: 0.0589, g_loss_fake: 1.0897\r\n"
     ]
    },
    {
     "name": "stdout",
     "output_type": "stream",
     "text": [
      "Elapsed [2:12:43.990432], G_step [119410/1000000], D_step[119410/1000000], d_out_real: 0.0618, d_out_fake: 0.0006, g_loss_fake: 1.0663\r\n"
     ]
    },
    {
     "name": "stdout",
     "output_type": "stream",
     "text": [
      "Elapsed [2:12:55.175718], G_step [119420/1000000], D_step[119420/1000000], d_out_real: 0.0000, d_out_fake: 0.1873, g_loss_fake: 1.0044\r\n"
     ]
    },
    {
     "name": "stdout",
     "output_type": "stream",
     "text": [
      "Elapsed [2:13:06.257022], G_step [119430/1000000], D_step[119430/1000000], d_out_real: 0.0929, d_out_fake: 0.0009, g_loss_fake: 1.0142\r\n"
     ]
    },
    {
     "name": "stdout",
     "output_type": "stream",
     "text": [
      "Elapsed [2:13:17.737182], G_step [119440/1000000], D_step[119440/1000000], d_out_real: 0.1641, d_out_fake: 0.0000, g_loss_fake: 1.0789\r\n"
     ]
    },
    {
     "name": "stdout",
     "output_type": "stream",
     "text": [
      "Elapsed [2:13:29.027880], G_step [119450/1000000], D_step[119450/1000000], d_out_real: 0.0178, d_out_fake: 0.0222, g_loss_fake: 1.0762\r\n"
     ]
    },
    {
     "name": "stdout",
     "output_type": "stream",
     "text": [
      "Elapsed [2:13:40.445864], G_step [119460/1000000], D_step[119460/1000000], d_out_real: 0.1073, d_out_fake: 0.0000, g_loss_fake: 1.1195\r\n"
     ]
    },
    {
     "name": "stdout",
     "output_type": "stream",
     "text": [
      "Elapsed [2:13:51.214181], G_step [119470/1000000], D_step[119470/1000000], d_out_real: 0.2305, d_out_fake: 0.0000, g_loss_fake: 0.9541\r\n"
     ]
    },
    {
     "name": "stdout",
     "output_type": "stream",
     "text": [
      "Elapsed [2:14:02.515369], G_step [119480/1000000], D_step[119480/1000000], d_out_real: 0.0629, d_out_fake: 0.0009, g_loss_fake: 1.0815\r\n"
     ]
    },
    {
     "name": "stdout",
     "output_type": "stream",
     "text": [
      "Elapsed [2:14:13.876879], G_step [119490/1000000], D_step[119490/1000000], d_out_real: 0.0000, d_out_fake: 0.0299, g_loss_fake: 1.0608\r\n"
     ]
    },
    {
     "name": "stdout",
     "output_type": "stream",
     "text": [
      "Elapsed [2:14:24.543227], G_step [119500/1000000], D_step[119500/1000000], d_out_real: 0.0676, d_out_fake: 0.0000, g_loss_fake: 1.0945\r\n"
     ]
    },
    {
     "name": "stdout",
     "output_type": "stream",
     "text": [
      "Elapsed [2:14:35.152109], G_step [119510/1000000], D_step[119510/1000000], d_out_real: 0.1068, d_out_fake: 0.0015, g_loss_fake: 0.9918\r\n"
     ]
    },
    {
     "name": "stdout",
     "output_type": "stream",
     "text": [
      "Elapsed [2:14:45.957277], G_step [119520/1000000], D_step[119520/1000000], d_out_real: 0.0000, d_out_fake: 0.0434, g_loss_fake: 1.1691\r\n"
     ]
    },
    {
     "name": "stdout",
     "output_type": "stream",
     "text": [
      "Elapsed [2:14:56.955808], G_step [119530/1000000], D_step[119530/1000000], d_out_real: 0.1268, d_out_fake: 0.0000, g_loss_fake: 1.0214\r\n"
     ]
    },
    {
     "name": "stdout",
     "output_type": "stream",
     "text": [
      "Elapsed [2:15:07.663061], G_step [119540/1000000], D_step[119540/1000000], d_out_real: 0.0042, d_out_fake: 0.0714, g_loss_fake: 0.9557\r\n"
     ]
    },
    {
     "name": "stdout",
     "output_type": "stream",
     "text": [
      "Elapsed [2:15:18.362813], G_step [119550/1000000], D_step[119550/1000000], d_out_real: 0.0000, d_out_fake: 0.0000, g_loss_fake: 0.9813\r\n"
     ]
    },
    {
     "name": "stdout",
     "output_type": "stream",
     "text": [
      "Elapsed [2:15:29.393156], G_step [119560/1000000], D_step[119560/1000000], d_out_real: 0.0655, d_out_fake: 0.0000, g_loss_fake: 0.9462\r\n"
     ]
    },
    {
     "name": "stdout",
     "output_type": "stream",
     "text": [
      "Elapsed [2:15:40.225039], G_step [119570/1000000], D_step[119570/1000000], d_out_real: 0.2463, d_out_fake: 0.0180, g_loss_fake: 1.0277\r\n"
     ]
    },
    {
     "name": "stdout",
     "output_type": "stream",
     "text": [
      "Elapsed [2:15:51.180651], G_step [119580/1000000], D_step[119580/1000000], d_out_real: 0.0704, d_out_fake: 0.0610, g_loss_fake: 1.0706\r\n"
     ]
    },
    {
     "name": "stdout",
     "output_type": "stream",
     "text": [
      "Elapsed [2:16:02.219810], G_step [119590/1000000], D_step[119590/1000000], d_out_real: 0.0774, d_out_fake: 0.0160, g_loss_fake: 1.1172\r\n"
     ]
    },
    {
     "name": "stdout",
     "output_type": "stream",
     "text": [
      "Elapsed [2:16:13.194771], G_step [119600/1000000], D_step[119600/1000000], d_out_real: 0.0746, d_out_fake: 0.0000, g_loss_fake: 1.1116\r\n"
     ]
    },
    {
     "name": "stdout",
     "output_type": "stream",
     "text": [
      "Elapsed [2:16:24.180995], G_step [119610/1000000], D_step[119610/1000000], d_out_real: 0.1875, d_out_fake: 0.0055, g_loss_fake: 0.9823\r\n"
     ]
    },
    {
     "name": "stdout",
     "output_type": "stream",
     "text": [
      "Elapsed [2:16:35.448351], G_step [119620/1000000], D_step[119620/1000000], d_out_real: 0.1319, d_out_fake: 0.0304, g_loss_fake: 1.1252\r\n"
     ]
    },
    {
     "name": "stdout",
     "output_type": "stream",
     "text": [
      "Elapsed [2:16:46.095122], G_step [119630/1000000], D_step[119630/1000000], d_out_real: 0.1309, d_out_fake: 0.0667, g_loss_fake: 1.1455\r\n"
     ]
    },
    {
     "name": "stdout",
     "output_type": "stream",
     "text": [
      "Elapsed [2:16:57.288630], G_step [119640/1000000], D_step[119640/1000000], d_out_real: 0.1225, d_out_fake: 0.0099, g_loss_fake: 1.0991\r\n"
     ]
    },
    {
     "name": "stdout",
     "output_type": "stream",
     "text": [
      "Elapsed [2:17:08.422986], G_step [119650/1000000], D_step[119650/1000000], d_out_real: 0.1227, d_out_fake: 0.0457, g_loss_fake: 1.0795\r\n"
     ]
    },
    {
     "name": "stdout",
     "output_type": "stream",
     "text": [
      "Elapsed [2:17:19.633719], G_step [119660/1000000], D_step[119660/1000000], d_out_real: 0.1257, d_out_fake: 0.0014, g_loss_fake: 0.9823\r\n"
     ]
    },
    {
     "name": "stdout",
     "output_type": "stream",
     "text": [
      "Elapsed [2:17:31.703122], G_step [119670/1000000], D_step[119670/1000000], d_out_real: 0.0618, d_out_fake: 0.0051, g_loss_fake: 0.9511\r\n"
     ]
    },
    {
     "name": "stdout",
     "output_type": "stream",
     "text": [
      "Elapsed [2:17:43.416136], G_step [119680/1000000], D_step[119680/1000000], d_out_real: 0.0080, d_out_fake: 0.1059, g_loss_fake: 1.0502\r\n"
     ]
    },
    {
     "name": "stdout",
     "output_type": "stream",
     "text": [
      "Elapsed [2:17:56.009701], G_step [119690/1000000], D_step[119690/1000000], d_out_real: 0.0000, d_out_fake: 0.1544, g_loss_fake: 1.2048\r\n"
     ]
    },
    {
     "name": "stdout",
     "output_type": "stream",
     "text": [
      "Elapsed [2:18:07.463876], G_step [119700/1000000], D_step[119700/1000000], d_out_real: 0.0000, d_out_fake: 0.0081, g_loss_fake: 1.1265\r\n"
     ]
    },
    {
     "name": "stdout",
     "output_type": "stream",
     "text": [
      "Elapsed [2:18:18.591944], G_step [119710/1000000], D_step[119710/1000000], d_out_real: 0.0156, d_out_fake: 0.1832, g_loss_fake: 1.0344\r\n"
     ]
    },
    {
     "name": "stdout",
     "output_type": "stream",
     "text": [
      "Elapsed [2:18:29.277566], G_step [119720/1000000], D_step[119720/1000000], d_out_real: 0.0000, d_out_fake: 0.0474, g_loss_fake: 1.1423\r\n"
     ]
    },
    {
     "name": "stdout",
     "output_type": "stream",
     "text": [
      "Elapsed [2:18:40.583709], G_step [119730/1000000], D_step[119730/1000000], d_out_real: 0.0661, d_out_fake: 0.0699, g_loss_fake: 1.1540\r\n"
     ]
    },
    {
     "name": "stdout",
     "output_type": "stream",
     "text": [
      "Elapsed [2:18:51.425849], G_step [119740/1000000], D_step[119740/1000000], d_out_real: 0.3594, d_out_fake: 0.0000, g_loss_fake: 0.9647\r\n"
     ]
    },
    {
     "name": "stdout",
     "output_type": "stream",
     "text": [
      "Elapsed [2:19:02.185498], G_step [119750/1000000], D_step[119750/1000000], d_out_real: 0.0139, d_out_fake: 0.0033, g_loss_fake: 1.1405\r\n"
     ]
    },
    {
     "name": "stdout",
     "output_type": "stream",
     "text": [
      "Elapsed [2:19:13.033795], G_step [119760/1000000], D_step[119760/1000000], d_out_real: 0.0639, d_out_fake: 0.0000, g_loss_fake: 1.0915\r\n"
     ]
    },
    {
     "name": "stdout",
     "output_type": "stream",
     "text": [
      "Elapsed [2:19:24.296055], G_step [119770/1000000], D_step[119770/1000000], d_out_real: 0.0716, d_out_fake: 0.0409, g_loss_fake: 1.1646\r\n"
     ]
    },
    {
     "name": "stdout",
     "output_type": "stream",
     "text": [
      "Elapsed [2:19:35.400278], G_step [119780/1000000], D_step[119780/1000000], d_out_real: 0.2064, d_out_fake: 0.1855, g_loss_fake: 0.9144\r\n"
     ]
    },
    {
     "name": "stdout",
     "output_type": "stream",
     "text": [
      "Elapsed [2:19:47.083654], G_step [119790/1000000], D_step[119790/1000000], d_out_real: 0.0663, d_out_fake: 0.0000, g_loss_fake: 1.0770\r\n"
     ]
    },
    {
     "name": "stdout",
     "output_type": "stream",
     "text": [
      "Elapsed [2:19:58.091350], G_step [119800/1000000], D_step[119800/1000000], d_out_real: 0.0326, d_out_fake: 0.0632, g_loss_fake: 1.0704\r\n"
     ]
    },
    {
     "name": "stdout",
     "output_type": "stream",
     "text": [
      "Elapsed [2:20:09.369694], G_step [119810/1000000], D_step[119810/1000000], d_out_real: 0.0000, d_out_fake: 0.0673, g_loss_fake: 1.0306\r\n"
     ]
    },
    {
     "name": "stdout",
     "output_type": "stream",
     "text": [
      "Elapsed [2:20:21.335726], G_step [119820/1000000], D_step[119820/1000000], d_out_real: 0.0000, d_out_fake: 0.0120, g_loss_fake: 1.1139\r\n"
     ]
    },
    {
     "name": "stdout",
     "output_type": "stream",
     "text": [
      "Elapsed [2:20:33.078868], G_step [119830/1000000], D_step[119830/1000000], d_out_real: 0.0000, d_out_fake: 0.0353, g_loss_fake: 1.1390\r\n"
     ]
    },
    {
     "name": "stdout",
     "output_type": "stream",
     "text": [
      "Elapsed [2:20:44.298755], G_step [119840/1000000], D_step[119840/1000000], d_out_real: 0.1345, d_out_fake: 0.0000, g_loss_fake: 1.1183\r\n"
     ]
    },
    {
     "name": "stdout",
     "output_type": "stream",
     "text": [
      "Elapsed [2:20:55.096231], G_step [119850/1000000], D_step[119850/1000000], d_out_real: 0.0000, d_out_fake: 0.0000, g_loss_fake: 1.0969\r\n"
     ]
    },
    {
     "name": "stdout",
     "output_type": "stream",
     "text": [
      "Elapsed [2:21:05.933809], G_step [119860/1000000], D_step[119860/1000000], d_out_real: 0.0107, d_out_fake: 0.0000, g_loss_fake: 1.0331\r\n"
     ]
    },
    {
     "name": "stdout",
     "output_type": "stream",
     "text": [
      "Elapsed [2:21:16.557279], G_step [119870/1000000], D_step[119870/1000000], d_out_real: 0.0000, d_out_fake: 0.0000, g_loss_fake: 1.0699\r\n"
     ]
    },
    {
     "name": "stdout",
     "output_type": "stream",
     "text": [
      "Elapsed [2:21:27.549291], G_step [119880/1000000], D_step[119880/1000000], d_out_real: 0.0705, d_out_fake: 0.1605, g_loss_fake: 1.0310\r\n"
     ]
    },
    {
     "name": "stdout",
     "output_type": "stream",
     "text": [
      "Elapsed [2:21:39.495070], G_step [119890/1000000], D_step[119890/1000000], d_out_real: 0.0000, d_out_fake: 0.0000, g_loss_fake: 1.0165\r\n"
     ]
    },
    {
     "name": "stdout",
     "output_type": "stream",
     "text": [
      "Elapsed [2:21:50.289140], G_step [119900/1000000], D_step[119900/1000000], d_out_real: 0.0036, d_out_fake: 0.0044, g_loss_fake: 1.0611\r\n"
     ]
    },
    {
     "name": "stdout",
     "output_type": "stream",
     "text": [
      "Elapsed [2:22:01.331302], G_step [119910/1000000], D_step[119910/1000000], d_out_real: 0.0000, d_out_fake: 0.0443, g_loss_fake: 1.0182\r\n"
     ]
    },
    {
     "name": "stdout",
     "output_type": "stream",
     "text": [
      "Elapsed [2:22:12.103045], G_step [119920/1000000], D_step[119920/1000000], d_out_real: 0.0006, d_out_fake: 0.1165, g_loss_fake: 1.1492\r\n"
     ]
    },
    {
     "name": "stdout",
     "output_type": "stream",
     "text": [
      "Elapsed [2:22:23.007710], G_step [119930/1000000], D_step[119930/1000000], d_out_real: 0.1360, d_out_fake: 0.0247, g_loss_fake: 1.0886\r\n"
     ]
    },
    {
     "name": "stdout",
     "output_type": "stream",
     "text": [
      "Elapsed [2:22:33.943539], G_step [119940/1000000], D_step[119940/1000000], d_out_real: 0.0600, d_out_fake: 0.0000, g_loss_fake: 1.0473\r\n"
     ]
    },
    {
     "name": "stdout",
     "output_type": "stream",
     "text": [
      "Elapsed [2:22:44.693581], G_step [119950/1000000], D_step[119950/1000000], d_out_real: 0.0000, d_out_fake: 0.4422, g_loss_fake: 1.0794\r\n"
     ]
    },
    {
     "name": "stdout",
     "output_type": "stream",
     "text": [
      "Elapsed [2:22:55.846245], G_step [119960/1000000], D_step[119960/1000000], d_out_real: 0.0000, d_out_fake: 0.0007, g_loss_fake: 1.1471\r\n"
     ]
    },
    {
     "name": "stdout",
     "output_type": "stream",
     "text": [
      "Elapsed [2:23:06.681529], G_step [119970/1000000], D_step[119970/1000000], d_out_real: 0.1222, d_out_fake: 0.0000, g_loss_fake: 1.0332\r\n"
     ]
    },
    {
     "name": "stdout",
     "output_type": "stream",
     "text": [
      "Elapsed [2:23:17.691933], G_step [119980/1000000], D_step[119980/1000000], d_out_real: 0.0000, d_out_fake: 0.0006, g_loss_fake: 1.0784\r\n"
     ]
    },
    {
     "name": "stdout",
     "output_type": "stream",
     "text": [
      "Elapsed [2:23:28.424645], G_step [119990/1000000], D_step[119990/1000000], d_out_real: 0.2831, d_out_fake: 0.0036, g_loss_fake: 0.9608\r\n"
     ]
    },
    {
     "name": "stdout",
     "output_type": "stream",
     "text": [
      "Elapsed [2:23:39.724862], G_step [120000/1000000], D_step[120000/1000000], d_out_real: 0.0000, d_out_fake: 0.0000, g_loss_fake: 1.0656\r\n",
      "Sample images 120000_fake.png\r\n"
     ]
    },
    {
     "name": "stdout",
     "output_type": "stream",
     "text": [
      "Elapsed [2:23:51.030462], G_step [120010/1000000], D_step[120010/1000000], d_out_real: 0.1097, d_out_fake: 0.0000, g_loss_fake: 0.9407\r\n"
     ]
    },
    {
     "name": "stdout",
     "output_type": "stream",
     "text": [
      "Elapsed [2:24:02.889001], G_step [120020/1000000], D_step[120020/1000000], d_out_real: 0.0160, d_out_fake: 0.0000, g_loss_fake: 1.1208\r\n"
     ]
    },
    {
     "name": "stdout",
     "output_type": "stream",
     "text": [
      "Elapsed [2:24:13.872272], G_step [120030/1000000], D_step[120030/1000000], d_out_real: 0.1423, d_out_fake: 0.0028, g_loss_fake: 1.0409\r\n"
     ]
    },
    {
     "name": "stdout",
     "output_type": "stream",
     "text": [
      "Elapsed [2:24:25.025707], G_step [120040/1000000], D_step[120040/1000000], d_out_real: 0.0000, d_out_fake: 0.0668, g_loss_fake: 0.9545\r\n"
     ]
    },
    {
     "name": "stdout",
     "output_type": "stream",
     "text": [
      "Elapsed [2:24:36.558208], G_step [120050/1000000], D_step[120050/1000000], d_out_real: 0.1489, d_out_fake: 0.0000, g_loss_fake: 0.9776\r\n"
     ]
    },
    {
     "name": "stdout",
     "output_type": "stream",
     "text": [
      "Elapsed [2:24:47.565500], G_step [120060/1000000], D_step[120060/1000000], d_out_real: 0.0000, d_out_fake: 0.0703, g_loss_fake: 1.0976\r\n"
     ]
    },
    {
     "name": "stdout",
     "output_type": "stream",
     "text": [
      "Elapsed [2:24:58.982407], G_step [120070/1000000], D_step[120070/1000000], d_out_real: 0.1161, d_out_fake: 0.0326, g_loss_fake: 1.1239\r\n"
     ]
    },
    {
     "name": "stdout",
     "output_type": "stream",
     "text": [
      "Elapsed [2:25:09.845800], G_step [120080/1000000], D_step[120080/1000000], d_out_real: 0.0277, d_out_fake: 0.0202, g_loss_fake: 1.1033\r\n"
     ]
    },
    {
     "name": "stdout",
     "output_type": "stream",
     "text": [
      "Elapsed [2:25:20.497355], G_step [120090/1000000], D_step[120090/1000000], d_out_real: 0.0046, d_out_fake: 0.0000, g_loss_fake: 1.1056\r\n"
     ]
    },
    {
     "name": "stdout",
     "output_type": "stream",
     "text": [
      "Elapsed [2:25:31.405775], G_step [120100/1000000], D_step[120100/1000000], d_out_real: 0.2580, d_out_fake: 0.0000, g_loss_fake: 1.1173\r\n"
     ]
    },
    {
     "name": "stdout",
     "output_type": "stream",
     "text": [
      "Elapsed [2:25:42.489311], G_step [120110/1000000], D_step[120110/1000000], d_out_real: 0.0000, d_out_fake: 0.0682, g_loss_fake: 0.9588\r\n"
     ]
    },
    {
     "name": "stdout",
     "output_type": "stream",
     "text": [
      "Elapsed [2:25:53.475329], G_step [120120/1000000], D_step[120120/1000000], d_out_real: 0.0000, d_out_fake: 0.0063, g_loss_fake: 1.0831\r\n"
     ]
    },
    {
     "name": "stdout",
     "output_type": "stream",
     "text": [
      "Elapsed [2:26:04.705477], G_step [120130/1000000], D_step[120130/1000000], d_out_real: 0.0038, d_out_fake: 0.0094, g_loss_fake: 1.0639\r\n"
     ]
    },
    {
     "name": "stdout",
     "output_type": "stream",
     "text": [
      "Elapsed [2:26:15.340760], G_step [120140/1000000], D_step[120140/1000000], d_out_real: 0.0657, d_out_fake: 0.0000, g_loss_fake: 1.0966\r\n"
     ]
    },
    {
     "name": "stdout",
     "output_type": "stream",
     "text": [
      "Elapsed [2:26:25.891355], G_step [120150/1000000], D_step[120150/1000000], d_out_real: 0.0643, d_out_fake: 0.0000, g_loss_fake: 1.0813\r\n"
     ]
    },
    {
     "name": "stdout",
     "output_type": "stream",
     "text": [
      "Elapsed [2:26:37.179304], G_step [120160/1000000], D_step[120160/1000000], d_out_real: 0.0000, d_out_fake: 0.0745, g_loss_fake: 1.1556\r\n"
     ]
    },
    {
     "name": "stdout",
     "output_type": "stream",
     "text": [
      "Elapsed [2:26:48.329724], G_step [120170/1000000], D_step[120170/1000000], d_out_real: 0.0596, d_out_fake: 0.0000, g_loss_fake: 1.1171\r\n"
     ]
    },
    {
     "name": "stdout",
     "output_type": "stream",
     "text": [
      "Elapsed [2:26:59.189761], G_step [120180/1000000], D_step[120180/1000000], d_out_real: 0.2266, d_out_fake: 0.0000, g_loss_fake: 1.0070\r\n"
     ]
    },
    {
     "name": "stdout",
     "output_type": "stream",
     "text": [
      "Elapsed [2:27:10.309610], G_step [120190/1000000], D_step[120190/1000000], d_out_real: 0.0635, d_out_fake: 0.0001, g_loss_fake: 1.0273\r\n"
     ]
    },
    {
     "name": "stdout",
     "output_type": "stream",
     "text": [
      "Elapsed [2:27:21.307075], G_step [120200/1000000], D_step[120200/1000000], d_out_real: 0.0702, d_out_fake: 0.0000, g_loss_fake: 1.0515\r\n"
     ]
    },
    {
     "name": "stdout",
     "output_type": "stream",
     "text": [
      "Elapsed [2:27:32.136739], G_step [120210/1000000], D_step[120210/1000000], d_out_real: 0.0674, d_out_fake: 0.0000, g_loss_fake: 1.1034\r\n"
     ]
    },
    {
     "name": "stdout",
     "output_type": "stream",
     "text": [
      "Elapsed [2:27:43.071083], G_step [120220/1000000], D_step[120220/1000000], d_out_real: 0.0033, d_out_fake: 0.1196, g_loss_fake: 1.0714\r\n"
     ]
    },
    {
     "name": "stdout",
     "output_type": "stream",
     "text": [
      "Elapsed [2:27:54.062967], G_step [120230/1000000], D_step[120230/1000000], d_out_real: 0.0546, d_out_fake: 0.0703, g_loss_fake: 1.0781\r\n"
     ]
    },
    {
     "name": "stdout",
     "output_type": "stream",
     "text": [
      "Elapsed [2:28:05.058123], G_step [120240/1000000], D_step[120240/1000000], d_out_real: 0.0040, d_out_fake: 0.0004, g_loss_fake: 0.9804\r\n"
     ]
    },
    {
     "name": "stdout",
     "output_type": "stream",
     "text": [
      "Elapsed [2:28:15.870164], G_step [120250/1000000], D_step[120250/1000000], d_out_real: 0.0880, d_out_fake: 0.0638, g_loss_fake: 1.0711\r\n"
     ]
    },
    {
     "name": "stdout",
     "output_type": "stream",
     "text": [
      "Elapsed [2:28:26.674427], G_step [120260/1000000], D_step[120260/1000000], d_out_real: 0.1357, d_out_fake: 0.0000, g_loss_fake: 1.0693\r\n"
     ]
    },
    {
     "name": "stdout",
     "output_type": "stream",
     "text": [
      "Elapsed [2:28:37.508450], G_step [120270/1000000], D_step[120270/1000000], d_out_real: 0.0483, d_out_fake: 0.0000, g_loss_fake: 1.0832\r\n"
     ]
    },
    {
     "name": "stdout",
     "output_type": "stream",
     "text": [
      "save torch\r\n"
     ]
    },
    {
     "name": "stdout",
     "output_type": "stream",
     "text": [
      "Elapsed [2:28:48.846403], G_step [120280/1000000], D_step[120280/1000000], d_out_real: 0.0000, d_out_fake: 0.3781, g_loss_fake: 1.1895\r\n"
     ]
    },
    {
     "name": "stdout",
     "output_type": "stream",
     "text": [
      "Elapsed [2:28:59.945040], G_step [120290/1000000], D_step[120290/1000000], d_out_real: 0.0964, d_out_fake: 0.0696, g_loss_fake: 0.8846\r\n"
     ]
    },
    {
     "name": "stdout",
     "output_type": "stream",
     "text": [
      "Elapsed [2:29:11.058253], G_step [120300/1000000], D_step[120300/1000000], d_out_real: 0.1242, d_out_fake: 0.1355, g_loss_fake: 1.0526\r\n"
     ]
    },
    {
     "name": "stdout",
     "output_type": "stream",
     "text": [
      "Elapsed [2:29:22.555153], G_step [120310/1000000], D_step[120310/1000000], d_out_real: 0.2393, d_out_fake: 0.0000, g_loss_fake: 1.0454\r\n"
     ]
    },
    {
     "name": "stdout",
     "output_type": "stream",
     "text": [
      "Elapsed [2:29:33.109478], G_step [120320/1000000], D_step[120320/1000000], d_out_real: 0.0000, d_out_fake: 0.1322, g_loss_fake: 1.1282\r\n"
     ]
    },
    {
     "name": "stdout",
     "output_type": "stream",
     "text": [
      "Elapsed [2:29:43.739938], G_step [120330/1000000], D_step[120330/1000000], d_out_real: 0.0816, d_out_fake: 0.0007, g_loss_fake: 1.0240\r\n"
     ]
    },
    {
     "name": "stdout",
     "output_type": "stream",
     "text": [
      "Elapsed [2:29:54.361195], G_step [120340/1000000], D_step[120340/1000000], d_out_real: 0.0000, d_out_fake: 0.0002, g_loss_fake: 1.1359\r\n"
     ]
    },
    {
     "name": "stdout",
     "output_type": "stream",
     "text": [
      "Elapsed [2:30:04.919609], G_step [120350/1000000], D_step[120350/1000000], d_out_real: 0.1131, d_out_fake: 0.0000, g_loss_fake: 1.0138\r\n"
     ]
    },
    {
     "name": "stdout",
     "output_type": "stream",
     "text": [
      "Elapsed [2:30:16.204598], G_step [120360/1000000], D_step[120360/1000000], d_out_real: 0.0657, d_out_fake: 0.0000, g_loss_fake: 1.0288\r\n"
     ]
    },
    {
     "name": "stdout",
     "output_type": "stream",
     "text": [
      "Elapsed [2:30:27.580678], G_step [120370/1000000], D_step[120370/1000000], d_out_real: 0.0000, d_out_fake: 0.0675, g_loss_fake: 1.0699\r\n"
     ]
    },
    {
     "name": "stdout",
     "output_type": "stream",
     "text": [
      "Elapsed [2:30:38.377108], G_step [120380/1000000], D_step[120380/1000000], d_out_real: 0.0651, d_out_fake: 0.0762, g_loss_fake: 0.9212\r\n"
     ]
    },
    {
     "name": "stdout",
     "output_type": "stream",
     "text": [
      "Elapsed [2:30:49.174554], G_step [120390/1000000], D_step[120390/1000000], d_out_real: 0.0767, d_out_fake: 0.0020, g_loss_fake: 1.0495\r\n"
     ]
    },
    {
     "name": "stdout",
     "output_type": "stream",
     "text": [
      "Elapsed [2:31:00.026687], G_step [120400/1000000], D_step[120400/1000000], d_out_real: 0.0669, d_out_fake: 0.0197, g_loss_fake: 1.0672\r\n"
     ]
    },
    {
     "name": "stdout",
     "output_type": "stream",
     "text": [
      "Elapsed [2:31:10.982536], G_step [120410/1000000], D_step[120410/1000000], d_out_real: 0.1312, d_out_fake: 0.0040, g_loss_fake: 1.0768\r\n"
     ]
    },
    {
     "name": "stdout",
     "output_type": "stream",
     "text": [
      "Elapsed [2:31:21.510638], G_step [120420/1000000], D_step[120420/1000000], d_out_real: 0.0650, d_out_fake: 0.0000, g_loss_fake: 1.0720\r\n"
     ]
    },
    {
     "name": "stdout",
     "output_type": "stream",
     "text": [
      "Elapsed [2:31:32.240036], G_step [120430/1000000], D_step[120430/1000000], d_out_real: 0.0101, d_out_fake: 0.1124, g_loss_fake: 1.0936\r\n"
     ]
    },
    {
     "name": "stdout",
     "output_type": "stream",
     "text": [
      "Elapsed [2:31:43.291657], G_step [120440/1000000], D_step[120440/1000000], d_out_real: 0.1199, d_out_fake: 0.0000, g_loss_fake: 1.0062\r\n"
     ]
    },
    {
     "name": "stdout",
     "output_type": "stream",
     "text": [
      "Elapsed [2:31:54.089441], G_step [120450/1000000], D_step[120450/1000000], d_out_real: 0.1130, d_out_fake: 0.0712, g_loss_fake: 1.0749\r\n"
     ]
    },
    {
     "name": "stdout",
     "output_type": "stream",
     "text": [
      "Elapsed [2:32:04.972055], G_step [120460/1000000], D_step[120460/1000000], d_out_real: 0.0766, d_out_fake: 0.1934, g_loss_fake: 1.0258\r\n"
     ]
    },
    {
     "name": "stdout",
     "output_type": "stream",
     "text": [
      "Elapsed [2:32:15.970131], G_step [120470/1000000], D_step[120470/1000000], d_out_real: 0.0423, d_out_fake: 0.0000, g_loss_fake: 0.9348\r\n"
     ]
    },
    {
     "name": "stdout",
     "output_type": "stream",
     "text": [
      "Elapsed [2:32:26.711601], G_step [120480/1000000], D_step[120480/1000000], d_out_real: 0.0875, d_out_fake: 0.0640, g_loss_fake: 1.0774\r\n"
     ]
    },
    {
     "name": "stdout",
     "output_type": "stream",
     "text": [
      "Elapsed [2:32:37.628581], G_step [120490/1000000], D_step[120490/1000000], d_out_real: 0.0000, d_out_fake: 0.0067, g_loss_fake: 1.0973\r\n"
     ]
    },
    {
     "name": "stdout",
     "output_type": "stream",
     "text": [
      "Elapsed [2:32:48.401786], G_step [120500/1000000], D_step[120500/1000000], d_out_real: 0.0000, d_out_fake: 0.0795, g_loss_fake: 1.1032\r\n"
     ]
    },
    {
     "name": "stdout",
     "output_type": "stream",
     "text": [
      "Elapsed [2:32:59.715537], G_step [120510/1000000], D_step[120510/1000000], d_out_real: 0.0588, d_out_fake: 0.0000, g_loss_fake: 1.1117\r\n"
     ]
    },
    {
     "name": "stdout",
     "output_type": "stream",
     "text": [
      "Elapsed [2:33:11.088776], G_step [120520/1000000], D_step[120520/1000000], d_out_real: 0.0995, d_out_fake: 0.1383, g_loss_fake: 1.1068\r\n"
     ]
    },
    {
     "name": "stdout",
     "output_type": "stream",
     "text": [
      "Elapsed [2:33:22.885379], G_step [120530/1000000], D_step[120530/1000000], d_out_real: 0.0619, d_out_fake: 0.0726, g_loss_fake: 1.1049\r\n"
     ]
    },
    {
     "name": "stdout",
     "output_type": "stream",
     "text": [
      "Elapsed [2:33:33.630917], G_step [120540/1000000], D_step[120540/1000000], d_out_real: 0.0509, d_out_fake: 0.0026, g_loss_fake: 1.0720\r\n"
     ]
    },
    {
     "name": "stdout",
     "output_type": "stream",
     "text": [
      "Elapsed [2:33:44.716576], G_step [120550/1000000], D_step[120550/1000000], d_out_real: 0.0000, d_out_fake: 0.0001, g_loss_fake: 1.0469\r\n"
     ]
    },
    {
     "name": "stdout",
     "output_type": "stream",
     "text": [
      "Elapsed [2:33:55.965561], G_step [120560/1000000], D_step[120560/1000000], d_out_real: 0.0164, d_out_fake: 0.0746, g_loss_fake: 1.1226\r\n"
     ]
    },
    {
     "name": "stdout",
     "output_type": "stream",
     "text": [
      "Elapsed [2:34:06.495831], G_step [120570/1000000], D_step[120570/1000000], d_out_real: 0.0624, d_out_fake: 0.0000, g_loss_fake: 0.9076\r\n"
     ]
    },
    {
     "name": "stdout",
     "output_type": "stream",
     "text": [
      "Elapsed [2:34:18.082905], G_step [120580/1000000], D_step[120580/1000000], d_out_real: 0.0168, d_out_fake: 0.0251, g_loss_fake: 0.9884\r\n"
     ]
    },
    {
     "name": "stdout",
     "output_type": "stream",
     "text": [
      "Elapsed [2:34:29.183748], G_step [120590/1000000], D_step[120590/1000000], d_out_real: 0.0000, d_out_fake: 0.0000, g_loss_fake: 1.1097\r\n"
     ]
    },
    {
     "name": "stdout",
     "output_type": "stream",
     "text": [
      "Elapsed [2:34:40.698172], G_step [120600/1000000], D_step[120600/1000000], d_out_real: 0.0000, d_out_fake: 0.0907, g_loss_fake: 1.1242\r\n"
     ]
    },
    {
     "name": "stdout",
     "output_type": "stream",
     "text": [
      "Elapsed [2:34:51.431201], G_step [120610/1000000], D_step[120610/1000000], d_out_real: 0.1943, d_out_fake: 0.0000, g_loss_fake: 1.0241\r\n"
     ]
    },
    {
     "name": "stdout",
     "output_type": "stream",
     "text": [
      "Elapsed [2:35:03.026140], G_step [120620/1000000], D_step[120620/1000000], d_out_real: 0.1487, d_out_fake: 0.0081, g_loss_fake: 0.9862\r\n"
     ]
    },
    {
     "name": "stdout",
     "output_type": "stream",
     "text": [
      "Elapsed [2:35:13.910831], G_step [120630/1000000], D_step[120630/1000000], d_out_real: 0.0000, d_out_fake: 0.0896, g_loss_fake: 1.0261\r\n"
     ]
    },
    {
     "name": "stdout",
     "output_type": "stream",
     "text": [
      "Elapsed [2:35:25.622464], G_step [120640/1000000], D_step[120640/1000000], d_out_real: 0.1231, d_out_fake: 0.0664, g_loss_fake: 1.1013\r\n"
     ]
    },
    {
     "name": "stdout",
     "output_type": "stream",
     "text": [
      "Elapsed [2:35:36.259993], G_step [120650/1000000], D_step[120650/1000000], d_out_real: 0.1235, d_out_fake: 0.0000, g_loss_fake: 1.0153\r\n"
     ]
    },
    {
     "name": "stdout",
     "output_type": "stream",
     "text": [
      "Elapsed [2:35:47.675274], G_step [120660/1000000], D_step[120660/1000000], d_out_real: 0.0000, d_out_fake: 0.0022, g_loss_fake: 1.0800\r\n"
     ]
    },
    {
     "name": "stdout",
     "output_type": "stream",
     "text": [
      "Elapsed [2:35:59.553105], G_step [120670/1000000], D_step[120670/1000000], d_out_real: 0.1871, d_out_fake: 0.0202, g_loss_fake: 0.9959\r\n"
     ]
    },
    {
     "name": "stdout",
     "output_type": "stream",
     "text": [
      "Elapsed [2:36:10.353721], G_step [120680/1000000], D_step[120680/1000000], d_out_real: 0.0646, d_out_fake: 0.0004, g_loss_fake: 1.1211\r\n"
     ]
    },
    {
     "name": "stdout",
     "output_type": "stream",
     "text": [
      "Elapsed [2:36:21.310966], G_step [120690/1000000], D_step[120690/1000000], d_out_real: 0.1183, d_out_fake: 0.0005, g_loss_fake: 1.0923\r\n"
     ]
    },
    {
     "name": "stdout",
     "output_type": "stream",
     "text": [
      "Elapsed [2:36:32.742556], G_step [120700/1000000], D_step[120700/1000000], d_out_real: 0.0000, d_out_fake: 0.0670, g_loss_fake: 1.1267\r\n"
     ]
    },
    {
     "name": "stdout",
     "output_type": "stream",
     "text": [
      "Elapsed [2:36:43.342355], G_step [120710/1000000], D_step[120710/1000000], d_out_real: 0.2487, d_out_fake: 0.0000, g_loss_fake: 1.0112\r\n"
     ]
    },
    {
     "name": "stdout",
     "output_type": "stream",
     "text": [
      "Elapsed [2:36:54.553306], G_step [120720/1000000], D_step[120720/1000000], d_out_real: 0.0649, d_out_fake: 0.0371, g_loss_fake: 1.1002\r\n"
     ]
    },
    {
     "name": "stdout",
     "output_type": "stream",
     "text": [
      "Elapsed [2:37:06.302824], G_step [120730/1000000], D_step[120730/1000000], d_out_real: 0.0631, d_out_fake: 0.0583, g_loss_fake: 1.1166\r\n"
     ]
    },
    {
     "name": "stdout",
     "output_type": "stream",
     "text": [
      "Elapsed [2:37:17.953852], G_step [120740/1000000], D_step[120740/1000000], d_out_real: 0.1813, d_out_fake: 0.0011, g_loss_fake: 1.0909\r\n"
     ]
    },
    {
     "name": "stdout",
     "output_type": "stream",
     "text": [
      "Elapsed [2:37:28.768512], G_step [120750/1000000], D_step[120750/1000000], d_out_real: 0.0610, d_out_fake: 0.0019, g_loss_fake: 1.0838\r\n"
     ]
    },
    {
     "name": "stdout",
     "output_type": "stream",
     "text": [
      "Elapsed [2:37:39.584372], G_step [120760/1000000], D_step[120760/1000000], d_out_real: 0.0000, d_out_fake: 0.0000, g_loss_fake: 1.1228\r\n"
     ]
    },
    {
     "name": "stdout",
     "output_type": "stream",
     "text": [
      "Elapsed [2:37:52.044175], G_step [120770/1000000], D_step[120770/1000000], d_out_real: 0.0535, d_out_fake: 0.0000, g_loss_fake: 1.0953\r\n"
     ]
    },
    {
     "name": "stdout",
     "output_type": "stream",
     "text": [
      "Elapsed [2:38:02.881048], G_step [120780/1000000], D_step[120780/1000000], d_out_real: 0.0000, d_out_fake: 0.0203, g_loss_fake: 1.1608\r\n"
     ]
    },
    {
     "name": "stdout",
     "output_type": "stream",
     "text": [
      "Elapsed [2:38:14.312809], G_step [120790/1000000], D_step[120790/1000000], d_out_real: 0.0172, d_out_fake: 0.0685, g_loss_fake: 1.0147\r\n"
     ]
    },
    {
     "name": "stdout",
     "output_type": "stream",
     "text": [
      "Elapsed [2:38:25.138963], G_step [120800/1000000], D_step[120800/1000000], d_out_real: 0.0609, d_out_fake: 0.0704, g_loss_fake: 1.1281\r\n"
     ]
    },
    {
     "name": "stdout",
     "output_type": "stream",
     "text": [
      "Elapsed [2:38:37.046005], G_step [120810/1000000], D_step[120810/1000000], d_out_real: 0.0000, d_out_fake: 0.0478, g_loss_fake: 1.1180\r\n"
     ]
    },
    {
     "name": "stdout",
     "output_type": "stream",
     "text": [
      "Elapsed [2:38:47.879533], G_step [120820/1000000], D_step[120820/1000000], d_out_real: 0.0000, d_out_fake: 0.0012, g_loss_fake: 0.8853\r\n"
     ]
    },
    {
     "name": "stdout",
     "output_type": "stream",
     "text": [
      "Elapsed [2:38:58.977241], G_step [120830/1000000], D_step[120830/1000000], d_out_real: 0.0651, d_out_fake: 0.0514, g_loss_fake: 1.2052\r\n"
     ]
    },
    {
     "name": "stdout",
     "output_type": "stream",
     "text": [
      "Elapsed [2:39:09.985345], G_step [120840/1000000], D_step[120840/1000000], d_out_real: 0.0215, d_out_fake: 0.0000, g_loss_fake: 1.0903\r\n"
     ]
    },
    {
     "name": "stdout",
     "output_type": "stream",
     "text": [
      "Elapsed [2:39:20.981194], G_step [120850/1000000], D_step[120850/1000000], d_out_real: 0.0800, d_out_fake: 0.0293, g_loss_fake: 1.2050\r\n"
     ]
    },
    {
     "name": "stdout",
     "output_type": "stream",
     "text": [
      "Elapsed [2:39:32.384749], G_step [120860/1000000], D_step[120860/1000000], d_out_real: 0.0000, d_out_fake: 0.0622, g_loss_fake: 1.1771\r\n"
     ]
    },
    {
     "name": "stdout",
     "output_type": "stream",
     "text": [
      "Elapsed [2:39:43.457215], G_step [120870/1000000], D_step[120870/1000000], d_out_real: 0.1299, d_out_fake: 0.0437, g_loss_fake: 1.0643\r\n"
     ]
    },
    {
     "name": "stdout",
     "output_type": "stream",
     "text": [
      "Elapsed [2:39:54.335945], G_step [120880/1000000], D_step[120880/1000000], d_out_real: 0.1596, d_out_fake: 0.0000, g_loss_fake: 0.9748\r\n"
     ]
    },
    {
     "name": "stdout",
     "output_type": "stream",
     "text": [
      "Elapsed [2:40:06.343745], G_step [120890/1000000], D_step[120890/1000000], d_out_real: 0.1139, d_out_fake: 0.0000, g_loss_fake: 0.9760\r\n"
     ]
    },
    {
     "name": "stdout",
     "output_type": "stream",
     "text": [
      "Elapsed [2:40:16.915849], G_step [120900/1000000], D_step[120900/1000000], d_out_real: 0.0000, d_out_fake: 0.0703, g_loss_fake: 1.0018\r\n"
     ]
    },
    {
     "name": "stdout",
     "output_type": "stream",
     "text": [
      "Elapsed [2:40:28.012486], G_step [120910/1000000], D_step[120910/1000000], d_out_real: 0.1228, d_out_fake: 0.0005, g_loss_fake: 1.0452\r\n"
     ]
    },
    {
     "name": "stdout",
     "output_type": "stream",
     "text": [
      "Elapsed [2:40:38.710249], G_step [120920/1000000], D_step[120920/1000000], d_out_real: 0.1180, d_out_fake: 0.0000, g_loss_fake: 1.0269\r\n"
     ]
    },
    {
     "name": "stdout",
     "output_type": "stream",
     "text": [
      "Elapsed [2:40:49.634945], G_step [120930/1000000], D_step[120930/1000000], d_out_real: 0.1295, d_out_fake: 0.0560, g_loss_fake: 0.9274\r\n"
     ]
    },
    {
     "name": "stdout",
     "output_type": "stream",
     "text": [
      "Elapsed [2:41:00.382565], G_step [120940/1000000], D_step[120940/1000000], d_out_real: 0.1538, d_out_fake: 0.0000, g_loss_fake: 1.1677\r\n"
     ]
    },
    {
     "name": "stdout",
     "output_type": "stream",
     "text": [
      "Elapsed [2:41:11.329067], G_step [120950/1000000], D_step[120950/1000000], d_out_real: 0.0000, d_out_fake: 0.0000, g_loss_fake: 0.9206\r\n"
     ]
    },
    {
     "name": "stdout",
     "output_type": "stream",
     "text": [
      "Elapsed [2:41:22.299671], G_step [120960/1000000], D_step[120960/1000000], d_out_real: 0.0635, d_out_fake: 0.0503, g_loss_fake: 1.0484\r\n"
     ]
    },
    {
     "name": "stdout",
     "output_type": "stream",
     "text": [
      "Elapsed [2:41:33.439144], G_step [120970/1000000], D_step[120970/1000000], d_out_real: 0.0638, d_out_fake: 0.0000, g_loss_fake: 1.0060\r\n"
     ]
    },
    {
     "name": "stdout",
     "output_type": "stream",
     "text": [
      "Elapsed [2:41:44.584719], G_step [120980/1000000], D_step[120980/1000000], d_out_real: 0.0000, d_out_fake: 0.0000, g_loss_fake: 1.0994\r\n"
     ]
    },
    {
     "name": "stdout",
     "output_type": "stream",
     "text": [
      "Elapsed [2:41:55.877410], G_step [120990/1000000], D_step[120990/1000000], d_out_real: 0.1276, d_out_fake: 0.0000, g_loss_fake: 1.0328\r\n"
     ]
    },
    {
     "name": "stdout",
     "output_type": "stream",
     "text": [
      "Elapsed [2:42:07.190556], G_step [121000/1000000], D_step[121000/1000000], d_out_real: 0.1659, d_out_fake: 0.0000, g_loss_fake: 1.0941\r\n",
      "Sample images 121000_fake.png\r\n"
     ]
    },
    {
     "name": "stdout",
     "output_type": "stream",
     "text": [
      "Elapsed [2:42:18.087496], G_step [121010/1000000], D_step[121010/1000000], d_out_real: 0.0644, d_out_fake: 0.1566, g_loss_fake: 0.9284\r\n"
     ]
    },
    {
     "name": "stdout",
     "output_type": "stream",
     "text": [
      "Elapsed [2:42:28.862556], G_step [121020/1000000], D_step[121020/1000000], d_out_real: 0.0802, d_out_fake: 0.0000, g_loss_fake: 1.0221\r\n"
     ]
    },
    {
     "name": "stdout",
     "output_type": "stream",
     "text": [
      "Elapsed [2:42:39.581034], G_step [121030/1000000], D_step[121030/1000000], d_out_real: 0.1241, d_out_fake: 0.0002, g_loss_fake: 1.0708\r\n"
     ]
    },
    {
     "name": "stdout",
     "output_type": "stream",
     "text": [
      "Elapsed [2:42:50.995767], G_step [121040/1000000], D_step[121040/1000000], d_out_real: 0.1732, d_out_fake: 0.0676, g_loss_fake: 0.9213\r\n"
     ]
    },
    {
     "name": "stdout",
     "output_type": "stream",
     "text": [
      "Elapsed [2:43:01.634004], G_step [121050/1000000], D_step[121050/1000000], d_out_real: 0.1344, d_out_fake: 0.0000, g_loss_fake: 1.0685\r\n"
     ]
    },
    {
     "name": "stdout",
     "output_type": "stream",
     "text": [
      "Elapsed [2:43:12.316543], G_step [121060/1000000], D_step[121060/1000000], d_out_real: 0.1079, d_out_fake: 0.0637, g_loss_fake: 0.9266\r\n"
     ]
    },
    {
     "name": "stdout",
     "output_type": "stream",
     "text": [
      "Elapsed [2:43:22.911700], G_step [121070/1000000], D_step[121070/1000000], d_out_real: 0.1418, d_out_fake: 0.0000, g_loss_fake: 1.0903\r\n"
     ]
    },
    {
     "name": "stdout",
     "output_type": "stream",
     "text": [
      "Elapsed [2:43:33.756471], G_step [121080/1000000], D_step[121080/1000000], d_out_real: 0.0033, d_out_fake: 0.0000, g_loss_fake: 0.9834\r\n"
     ]
    },
    {
     "name": "stdout",
     "output_type": "stream",
     "text": [
      "Elapsed [2:43:45.016087], G_step [121090/1000000], D_step[121090/1000000], d_out_real: 0.0088, d_out_fake: 0.0901, g_loss_fake: 1.0648\r\n"
     ]
    },
    {
     "name": "stdout",
     "output_type": "stream",
     "text": [
      "Elapsed [2:43:55.735075], G_step [121100/1000000], D_step[121100/1000000], d_out_real: 0.0645, d_out_fake: 0.0003, g_loss_fake: 1.1224\r\n"
     ]
    },
    {
     "name": "stdout",
     "output_type": "stream",
     "text": [
      "Elapsed [2:44:06.389469], G_step [121110/1000000], D_step[121110/1000000], d_out_real: 0.0000, d_out_fake: 0.0000, g_loss_fake: 1.1173\r\n"
     ]
    },
    {
     "name": "stdout",
     "output_type": "stream",
     "text": [
      "Elapsed [2:44:17.905316], G_step [121120/1000000], D_step[121120/1000000], d_out_real: 0.0078, d_out_fake: 0.0651, g_loss_fake: 1.1777\r\n"
     ]
    },
    {
     "name": "stdout",
     "output_type": "stream",
     "text": [
      "Elapsed [2:44:29.225750], G_step [121130/1000000], D_step[121130/1000000], d_out_real: 0.1103, d_out_fake: 0.1273, g_loss_fake: 1.1481\r\n"
     ]
    },
    {
     "name": "stdout",
     "output_type": "stream",
     "text": [
      "Elapsed [2:44:39.770074], G_step [121140/1000000], D_step[121140/1000000], d_out_real: 0.0642, d_out_fake: 0.0654, g_loss_fake: 1.1579\r\n"
     ]
    },
    {
     "name": "stdout",
     "output_type": "stream",
     "text": [
      "Elapsed [2:44:50.724342], G_step [121150/1000000], D_step[121150/1000000], d_out_real: 0.0000, d_out_fake: 0.1637, g_loss_fake: 1.0319\r\n"
     ]
    },
    {
     "name": "stdout",
     "output_type": "stream",
     "text": [
      "Elapsed [2:45:01.836380], G_step [121160/1000000], D_step[121160/1000000], d_out_real: 0.0040, d_out_fake: 0.0125, g_loss_fake: 1.1903\r\n"
     ]
    },
    {
     "name": "stdout",
     "output_type": "stream",
     "text": [
      "Elapsed [2:45:12.501576], G_step [121170/1000000], D_step[121170/1000000], d_out_real: 0.0657, d_out_fake: 0.0000, g_loss_fake: 1.0937\r\n"
     ]
    },
    {
     "name": "stdout",
     "output_type": "stream",
     "text": [
      "Elapsed [2:45:24.200675], G_step [121180/1000000], D_step[121180/1000000], d_out_real: 0.0216, d_out_fake: 0.0838, g_loss_fake: 1.0981\r\n"
     ]
    },
    {
     "name": "stdout",
     "output_type": "stream",
     "text": [
      "Elapsed [2:45:35.335970], G_step [121190/1000000], D_step[121190/1000000], d_out_real: 0.2534, d_out_fake: 0.0000, g_loss_fake: 1.0702\r\n"
     ]
    },
    {
     "name": "stdout",
     "output_type": "stream",
     "text": [
      "Elapsed [2:45:46.536680], G_step [121200/1000000], D_step[121200/1000000], d_out_real: 0.0000, d_out_fake: 0.0000, g_loss_fake: 1.1807\r\n"
     ]
    },
    {
     "name": "stdout",
     "output_type": "stream",
     "text": [
      "Elapsed [2:45:57.562643], G_step [121210/1000000], D_step[121210/1000000], d_out_real: 0.0615, d_out_fake: 0.0157, g_loss_fake: 1.1665\r\n"
     ]
    },
    {
     "name": "stdout",
     "output_type": "stream",
     "text": [
      "Elapsed [2:46:08.501340], G_step [121220/1000000], D_step[121220/1000000], d_out_real: 0.0000, d_out_fake: 0.0647, g_loss_fake: 1.1266\r\n"
     ]
    },
    {
     "name": "stdout",
     "output_type": "stream",
     "text": [
      "Elapsed [2:46:19.469772], G_step [121230/1000000], D_step[121230/1000000], d_out_real: 0.0000, d_out_fake: 0.1829, g_loss_fake: 1.1454\r\n"
     ]
    },
    {
     "name": "stdout",
     "output_type": "stream",
     "text": [
      "Elapsed [2:46:30.817044], G_step [121240/1000000], D_step[121240/1000000], d_out_real: 0.0629, d_out_fake: 0.0008, g_loss_fake: 1.0852\r\n"
     ]
    },
    {
     "name": "stdout",
     "output_type": "stream",
     "text": [
      "Elapsed [2:46:42.286417], G_step [121250/1000000], D_step[121250/1000000], d_out_real: 0.0000, d_out_fake: 0.0000, g_loss_fake: 0.9397\r\n"
     ]
    },
    {
     "name": "stdout",
     "output_type": "stream",
     "text": [
      "Elapsed [2:46:53.111807], G_step [121260/1000000], D_step[121260/1000000], d_out_real: 0.0101, d_out_fake: 0.0000, g_loss_fake: 1.0297\r\n"
     ]
    },
    {
     "name": "stdout",
     "output_type": "stream",
     "text": [
      "Elapsed [2:47:03.866306], G_step [121270/1000000], D_step[121270/1000000], d_out_real: 0.0000, d_out_fake: 0.0787, g_loss_fake: 0.9811\r\n"
     ]
    },
    {
     "name": "stdout",
     "output_type": "stream",
     "text": [
      "Elapsed [2:47:14.850557], G_step [121280/1000000], D_step[121280/1000000], d_out_real: 0.1213, d_out_fake: 0.0630, g_loss_fake: 1.1183\r\n"
     ]
    },
    {
     "name": "stdout",
     "output_type": "stream",
     "text": [
      "Elapsed [2:47:26.860749], G_step [121290/1000000], D_step[121290/1000000], d_out_real: 0.0140, d_out_fake: 0.0000, g_loss_fake: 1.0455\r\n"
     ]
    },
    {
     "name": "stdout",
     "output_type": "stream",
     "text": [
      "Elapsed [2:47:37.843693], G_step [121300/1000000], D_step[121300/1000000], d_out_real: 0.1296, d_out_fake: 0.0000, g_loss_fake: 1.0890\r\n"
     ]
    },
    {
     "name": "stdout",
     "output_type": "stream",
     "text": [
      "Elapsed [2:47:48.561213], G_step [121310/1000000], D_step[121310/1000000], d_out_real: 0.0000, d_out_fake: 0.0532, g_loss_fake: 1.1391\r\n"
     ]
    },
    {
     "name": "stdout",
     "output_type": "stream",
     "text": [
      "Elapsed [2:47:59.830076], G_step [121320/1000000], D_step[121320/1000000], d_out_real: 0.0626, d_out_fake: 0.0000, g_loss_fake: 1.0515\r\n"
     ]
    },
    {
     "name": "stdout",
     "output_type": "stream",
     "text": [
      "Elapsed [2:48:11.677389], G_step [121330/1000000], D_step[121330/1000000], d_out_real: 0.0749, d_out_fake: 0.0671, g_loss_fake: 1.0663\r\n"
     ]
    },
    {
     "name": "stdout",
     "output_type": "stream",
     "text": [
      "Elapsed [2:48:22.223082], G_step [121340/1000000], D_step[121340/1000000], d_out_real: 0.0019, d_out_fake: 0.0000, g_loss_fake: 0.9874\r\n"
     ]
    },
    {
     "name": "stdout",
     "output_type": "stream",
     "text": [
      "Elapsed [2:48:32.827757], G_step [121350/1000000], D_step[121350/1000000], d_out_real: 0.1974, d_out_fake: 0.0000, g_loss_fake: 1.1218\r\n"
     ]
    },
    {
     "name": "stdout",
     "output_type": "stream",
     "text": [
      "Elapsed [2:48:43.699386], G_step [121360/1000000], D_step[121360/1000000], d_out_real: 0.0566, d_out_fake: 0.0535, g_loss_fake: 1.1328\r\n"
     ]
    },
    {
     "name": "stdout",
     "output_type": "stream",
     "text": [
      "Elapsed [2:48:54.538679], G_step [121370/1000000], D_step[121370/1000000], d_out_real: 0.1266, d_out_fake: 0.1870, g_loss_fake: 0.9930\r\n"
     ]
    },
    {
     "name": "stdout",
     "output_type": "stream",
     "text": [
      "Elapsed [2:49:05.264229], G_step [121380/1000000], D_step[121380/1000000], d_out_real: 0.0702, d_out_fake: 0.0000, g_loss_fake: 1.0978\r\n"
     ]
    },
    {
     "name": "stdout",
     "output_type": "stream",
     "text": [
      "Elapsed [2:49:16.000266], G_step [121390/1000000], D_step[121390/1000000], d_out_real: 0.0677, d_out_fake: 0.0592, g_loss_fake: 1.0341\r\n"
     ]
    },
    {
     "name": "stdout",
     "output_type": "stream",
     "text": [
      "Elapsed [2:49:27.205283], G_step [121400/1000000], D_step[121400/1000000], d_out_real: 0.0624, d_out_fake: 0.0670, g_loss_fake: 1.0717\r\n"
     ]
    },
    {
     "name": "stdout",
     "output_type": "stream",
     "text": [
      "Elapsed [2:49:38.320276], G_step [121410/1000000], D_step[121410/1000000], d_out_real: 0.0650, d_out_fake: 0.1144, g_loss_fake: 0.8909\r\n"
     ]
    },
    {
     "name": "stdout",
     "output_type": "stream",
     "text": [
      "Elapsed [2:49:49.420558], G_step [121420/1000000], D_step[121420/1000000], d_out_real: 0.0000, d_out_fake: 0.0614, g_loss_fake: 1.2026\r\n"
     ]
    },
    {
     "name": "stdout",
     "output_type": "stream",
     "text": [
      "Elapsed [2:50:00.797570], G_step [121430/1000000], D_step[121430/1000000], d_out_real: 0.0350, d_out_fake: 0.0000, g_loss_fake: 1.1198\r\n"
     ]
    },
    {
     "name": "stdout",
     "output_type": "stream",
     "text": [
      "Elapsed [2:50:12.604645], G_step [121440/1000000], D_step[121440/1000000], d_out_real: 0.2132, d_out_fake: 0.0000, g_loss_fake: 1.0514\r\n"
     ]
    },
    {
     "name": "stdout",
     "output_type": "stream",
     "text": [
      "Elapsed [2:50:23.261880], G_step [121450/1000000], D_step[121450/1000000], d_out_real: 0.0076, d_out_fake: 0.0002, g_loss_fake: 1.0264\r\n"
     ]
    },
    {
     "name": "stdout",
     "output_type": "stream",
     "text": [
      "Elapsed [2:50:34.545583], G_step [121460/1000000], D_step[121460/1000000], d_out_real: 0.0128, d_out_fake: 0.0025, g_loss_fake: 0.9097\r\n"
     ]
    },
    {
     "name": "stdout",
     "output_type": "stream",
     "text": [
      "Elapsed [2:50:45.228297], G_step [121470/1000000], D_step[121470/1000000], d_out_real: 0.0621, d_out_fake: 0.0675, g_loss_fake: 1.0400\r\n"
     ]
    },
    {
     "name": "stdout",
     "output_type": "stream",
     "text": [
      "Elapsed [2:50:56.170491], G_step [121480/1000000], D_step[121480/1000000], d_out_real: 0.2846, d_out_fake: 0.0000, g_loss_fake: 1.0192\r\n"
     ]
    },
    {
     "name": "stdout",
     "output_type": "stream",
     "text": [
      "Elapsed [2:51:07.328398], G_step [121490/1000000], D_step[121490/1000000], d_out_real: 0.0685, d_out_fake: 0.0099, g_loss_fake: 1.1032\r\n"
     ]
    },
    {
     "name": "stdout",
     "output_type": "stream",
     "text": [
      "Elapsed [2:51:18.768502], G_step [121500/1000000], D_step[121500/1000000], d_out_real: 0.0731, d_out_fake: 0.1914, g_loss_fake: 1.0352\r\n"
     ]
    },
    {
     "name": "stdout",
     "output_type": "stream",
     "text": [
      "Elapsed [2:51:29.630262], G_step [121510/1000000], D_step[121510/1000000], d_out_real: 0.1973, d_out_fake: 0.0002, g_loss_fake: 0.8714\r\n"
     ]
    },
    {
     "name": "stdout",
     "output_type": "stream",
     "text": [
      "Elapsed [2:51:40.427136], G_step [121520/1000000], D_step[121520/1000000], d_out_real: 0.0039, d_out_fake: 0.1014, g_loss_fake: 1.1364\r\n"
     ]
    },
    {
     "name": "stdout",
     "output_type": "stream",
     "text": [
      "Elapsed [2:51:51.186319], G_step [121530/1000000], D_step[121530/1000000], d_out_real: 0.0000, d_out_fake: 0.1253, g_loss_fake: 1.0463\r\n"
     ]
    },
    {
     "name": "stdout",
     "output_type": "stream",
     "text": [
      "Elapsed [2:52:01.825971], G_step [121540/1000000], D_step[121540/1000000], d_out_real: 0.0000, d_out_fake: 0.0000, g_loss_fake: 1.1134\r\n"
     ]
    },
    {
     "name": "stdout",
     "output_type": "stream",
     "text": [
      "Elapsed [2:52:12.538702], G_step [121550/1000000], D_step[121550/1000000], d_out_real: 0.0628, d_out_fake: 0.0000, g_loss_fake: 1.0436\r\n"
     ]
    },
    {
     "name": "stdout",
     "output_type": "stream",
     "text": [
      "Elapsed [2:52:23.404144], G_step [121560/1000000], D_step[121560/1000000], d_out_real: 0.0000, d_out_fake: 0.0842, g_loss_fake: 1.0882\r\n"
     ]
    },
    {
     "name": "stdout",
     "output_type": "stream",
     "text": [
      "Elapsed [2:52:34.151162], G_step [121570/1000000], D_step[121570/1000000], d_out_real: 0.0546, d_out_fake: 0.0000, g_loss_fake: 1.0020\r\n"
     ]
    },
    {
     "name": "stdout",
     "output_type": "stream",
     "text": [
      "Elapsed [2:52:46.124211], G_step [121580/1000000], D_step[121580/1000000], d_out_real: 0.0976, d_out_fake: 0.0000, g_loss_fake: 1.0756\r\n"
     ]
    },
    {
     "name": "stdout",
     "output_type": "stream",
     "text": [
      "Elapsed [2:52:57.409750], G_step [121590/1000000], D_step[121590/1000000], d_out_real: 0.1928, d_out_fake: 0.0015, g_loss_fake: 1.0374\r\n"
     ]
    },
    {
     "name": "stdout",
     "output_type": "stream",
     "text": [
      "Elapsed [2:53:08.242412], G_step [121600/1000000], D_step[121600/1000000], d_out_real: 0.0639, d_out_fake: 0.0000, g_loss_fake: 1.1232\r\n"
     ]
    },
    {
     "name": "stdout",
     "output_type": "stream",
     "text": [
      "Elapsed [2:53:19.446532], G_step [121610/1000000], D_step[121610/1000000], d_out_real: 0.0478, d_out_fake: 0.1497, g_loss_fake: 1.0234\r\n"
     ]
    },
    {
     "name": "stdout",
     "output_type": "stream",
     "text": [
      "Elapsed [2:53:30.178269], G_step [121620/1000000], D_step[121620/1000000], d_out_real: 0.0666, d_out_fake: 0.0679, g_loss_fake: 1.0167\r\n"
     ]
    },
    {
     "name": "stdout",
     "output_type": "stream",
     "text": [
      "Elapsed [2:53:41.681215], G_step [121630/1000000], D_step[121630/1000000], d_out_real: 0.0627, d_out_fake: 0.0642, g_loss_fake: 1.1406\r\n"
     ]
    },
    {
     "name": "stdout",
     "output_type": "stream",
     "text": [
      "Elapsed [2:53:52.271601], G_step [121640/1000000], D_step[121640/1000000], d_out_real: 0.0000, d_out_fake: 0.0000, g_loss_fake: 1.0831\r\n"
     ]
    },
    {
     "name": "stdout",
     "output_type": "stream",
     "text": [
      "Elapsed [2:54:03.896724], G_step [121650/1000000], D_step[121650/1000000], d_out_real: 0.0574, d_out_fake: 0.0046, g_loss_fake: 1.0903\r\n"
     ]
    },
    {
     "name": "stdout",
     "output_type": "stream",
     "text": [
      "Elapsed [2:54:15.245404], G_step [121660/1000000], D_step[121660/1000000], d_out_real: 0.1928, d_out_fake: 0.0000, g_loss_fake: 1.0569\r\n"
     ]
    },
    {
     "name": "stdout",
     "output_type": "stream",
     "text": [
      "Elapsed [2:54:25.852729], G_step [121670/1000000], D_step[121670/1000000], d_out_real: 0.0005, d_out_fake: 0.0013, g_loss_fake: 1.0720\r\n"
     ]
    },
    {
     "name": "stdout",
     "output_type": "stream",
     "text": [
      "Elapsed [2:54:36.757014], G_step [121680/1000000], D_step[121680/1000000], d_out_real: 0.1168, d_out_fake: 0.0000, g_loss_fake: 1.0000\r\n"
     ]
    },
    {
     "name": "stdout",
     "output_type": "stream",
     "text": [
      "Elapsed [2:54:49.196246], G_step [121690/1000000], D_step[121690/1000000], d_out_real: 0.0999, d_out_fake: 0.0017, g_loss_fake: 0.9628\r\n"
     ]
    },
    {
     "name": "stdout",
     "output_type": "stream",
     "text": [
      "Elapsed [2:54:59.815845], G_step [121700/1000000], D_step[121700/1000000], d_out_real: 0.0270, d_out_fake: 0.0000, g_loss_fake: 1.1289\r\n"
     ]
    },
    {
     "name": "stdout",
     "output_type": "stream",
     "text": [
      "Elapsed [2:55:10.404851], G_step [121710/1000000], D_step[121710/1000000], d_out_real: 0.0643, d_out_fake: 0.0737, g_loss_fake: 1.0093\r\n"
     ]
    },
    {
     "name": "stdout",
     "output_type": "stream",
     "text": [
      "Elapsed [2:55:21.149879], G_step [121720/1000000], D_step[121720/1000000], d_out_real: 0.0000, d_out_fake: 0.0891, g_loss_fake: 1.1311\r\n"
     ]
    },
    {
     "name": "stdout",
     "output_type": "stream",
     "text": [
      "Elapsed [2:55:32.738594], G_step [121730/1000000], D_step[121730/1000000], d_out_real: 0.0588, d_out_fake: 0.0810, g_loss_fake: 1.1263\r\n"
     ]
    },
    {
     "name": "stdout",
     "output_type": "stream",
     "text": [
      "Elapsed [2:55:43.604414], G_step [121740/1000000], D_step[121740/1000000], d_out_real: 0.0004, d_out_fake: 0.0093, g_loss_fake: 1.1484\r\n"
     ]
    },
    {
     "name": "stdout",
     "output_type": "stream",
     "text": [
      "Elapsed [2:55:54.832166], G_step [121750/1000000], D_step[121750/1000000], d_out_real: 0.0570, d_out_fake: 0.0000, g_loss_fake: 1.0555\r\n"
     ]
    },
    {
     "name": "stdout",
     "output_type": "stream",
     "text": [
      "Elapsed [2:56:06.535311], G_step [121760/1000000], D_step[121760/1000000], d_out_real: 0.0654, d_out_fake: 0.0334, g_loss_fake: 1.1256\r\n"
     ]
    },
    {
     "name": "stdout",
     "output_type": "stream",
     "text": [
      "Elapsed [2:56:17.421597], G_step [121770/1000000], D_step[121770/1000000], d_out_real: 0.0346, d_out_fake: 0.0596, g_loss_fake: 1.0608\r\n"
     ]
    },
    {
     "name": "stdout",
     "output_type": "stream",
     "text": [
      "Elapsed [2:56:28.031416], G_step [121780/1000000], D_step[121780/1000000], d_out_real: 0.0736, d_out_fake: 0.0145, g_loss_fake: 1.0544\r\n"
     ]
    },
    {
     "name": "stdout",
     "output_type": "stream",
     "text": [
      "Elapsed [2:56:38.666776], G_step [121790/1000000], D_step[121790/1000000], d_out_real: 0.0000, d_out_fake: 0.0000, g_loss_fake: 1.0752\r\n"
     ]
    },
    {
     "name": "stdout",
     "output_type": "stream",
     "text": [
      "Elapsed [2:56:49.622951], G_step [121800/1000000], D_step[121800/1000000], d_out_real: 0.0322, d_out_fake: 0.0000, g_loss_fake: 1.0155\r\n"
     ]
    },
    {
     "name": "stdout",
     "output_type": "stream",
     "text": [
      "Elapsed [2:57:00.437448], G_step [121810/1000000], D_step[121810/1000000], d_out_real: 0.0941, d_out_fake: 0.1076, g_loss_fake: 0.9774\r\n"
     ]
    },
    {
     "name": "stdout",
     "output_type": "stream",
     "text": [
      "Elapsed [2:57:11.129086], G_step [121820/1000000], D_step[121820/1000000], d_out_real: 0.0011, d_out_fake: 0.1229, g_loss_fake: 1.0910\r\n"
     ]
    },
    {
     "name": "stdout",
     "output_type": "stream",
     "text": [
      "Elapsed [2:57:21.968963], G_step [121830/1000000], D_step[121830/1000000], d_out_real: 0.0600, d_out_fake: 0.0008, g_loss_fake: 1.0135\r\n"
     ]
    },
    {
     "name": "stdout",
     "output_type": "stream",
     "text": [
      "save torch\r\n"
     ]
    },
    {
     "name": "stdout",
     "output_type": "stream",
     "text": [
      "Elapsed [2:57:33.434923], G_step [121840/1000000], D_step[121840/1000000], d_out_real: 0.1901, d_out_fake: 0.0613, g_loss_fake: 0.9644\r\n"
     ]
    },
    {
     "name": "stdout",
     "output_type": "stream",
     "text": [
      "Elapsed [2:57:44.561116], G_step [121850/1000000], D_step[121850/1000000], d_out_real: 0.0000, d_out_fake: 0.0721, g_loss_fake: 1.0931\r\n"
     ]
    },
    {
     "name": "stdout",
     "output_type": "stream",
     "text": [
      "Elapsed [2:57:55.784681], G_step [121860/1000000], D_step[121860/1000000], d_out_real: 0.1769, d_out_fake: 0.0005, g_loss_fake: 1.0323\r\n"
     ]
    },
    {
     "name": "stdout",
     "output_type": "stream",
     "text": [
      "Elapsed [2:58:06.956957], G_step [121870/1000000], D_step[121870/1000000], d_out_real: 0.0004, d_out_fake: 0.1596, g_loss_fake: 1.0590\r\n"
     ]
    },
    {
     "name": "stdout",
     "output_type": "stream",
     "text": [
      "Elapsed [2:58:17.500297], G_step [121880/1000000], D_step[121880/1000000], d_out_real: 0.0048, d_out_fake: 0.3029, g_loss_fake: 1.1637\r\n"
     ]
    },
    {
     "name": "stdout",
     "output_type": "stream",
     "text": [
      "Elapsed [2:58:28.520969], G_step [121890/1000000], D_step[121890/1000000], d_out_real: 0.0155, d_out_fake: 0.0000, g_loss_fake: 1.0774\r\n"
     ]
    },
    {
     "name": "stdout",
     "output_type": "stream",
     "text": [
      "Elapsed [2:58:39.479304], G_step [121900/1000000], D_step[121900/1000000], d_out_real: 0.1850, d_out_fake: 0.0036, g_loss_fake: 1.0231\r\n"
     ]
    },
    {
     "name": "stdout",
     "output_type": "stream",
     "text": [
      "Elapsed [2:58:50.063976], G_step [121910/1000000], D_step[121910/1000000], d_out_real: 0.0417, d_out_fake: 0.0693, g_loss_fake: 0.9841\r\n"
     ]
    },
    {
     "name": "stdout",
     "output_type": "stream",
     "text": [
      "Elapsed [2:59:00.949332], G_step [121920/1000000], D_step[121920/1000000], d_out_real: 0.0692, d_out_fake: 0.0000, g_loss_fake: 1.0074\r\n"
     ]
    },
    {
     "name": "stdout",
     "output_type": "stream",
     "text": [
      "Elapsed [2:59:12.485377], G_step [121930/1000000], D_step[121930/1000000], d_out_real: 0.0652, d_out_fake: 0.0931, g_loss_fake: 1.1011\r\n"
     ]
    },
    {
     "name": "stdout",
     "output_type": "stream",
     "text": [
      "Elapsed [2:59:23.207075], G_step [121940/1000000], D_step[121940/1000000], d_out_real: 0.1741, d_out_fake: 0.0571, g_loss_fake: 0.8397\r\n"
     ]
    },
    {
     "name": "stdout",
     "output_type": "stream",
     "text": [
      "Elapsed [2:59:33.893442], G_step [121950/1000000], D_step[121950/1000000], d_out_real: 0.1002, d_out_fake: 0.0000, g_loss_fake: 0.9884\r\n"
     ]
    },
    {
     "name": "stdout",
     "output_type": "stream",
     "text": [
      "Elapsed [2:59:44.665838], G_step [121960/1000000], D_step[121960/1000000], d_out_real: 0.0000, d_out_fake: 0.0000, g_loss_fake: 1.1465\r\n"
     ]
    },
    {
     "name": "stdout",
     "output_type": "stream",
     "text": [
      "Elapsed [2:59:56.080491], G_step [121970/1000000], D_step[121970/1000000], d_out_real: 0.3021, d_out_fake: 0.0418, g_loss_fake: 1.1012\r\n"
     ]
    },
    {
     "name": "stdout",
     "output_type": "stream",
     "text": [
      "Elapsed [3:00:07.011282], G_step [121980/1000000], D_step[121980/1000000], d_out_real: 0.0000, d_out_fake: 0.0276, g_loss_fake: 1.0938\r\n"
     ]
    },
    {
     "name": "stdout",
     "output_type": "stream",
     "text": [
      "Elapsed [3:00:18.117880], G_step [121990/1000000], D_step[121990/1000000], d_out_real: 0.1264, d_out_fake: 0.0004, g_loss_fake: 1.0390\r\n"
     ]
    },
    {
     "name": "stdout",
     "output_type": "stream",
     "text": [
      "Elapsed [3:00:30.004755], G_step [122000/1000000], D_step[122000/1000000], d_out_real: 0.0042, d_out_fake: 0.0000, g_loss_fake: 1.0385\r\n",
      "Sample images 122000_fake.png\r\n"
     ]
    },
    {
     "name": "stdout",
     "output_type": "stream",
     "text": [
      "Elapsed [3:00:41.068096], G_step [122010/1000000], D_step[122010/1000000], d_out_real: 0.1234, d_out_fake: 0.0837, g_loss_fake: 1.0861\r\n"
     ]
    },
    {
     "name": "stdout",
     "output_type": "stream",
     "text": [
      "Elapsed [3:00:52.021765], G_step [122020/1000000], D_step[122020/1000000], d_out_real: 0.0715, d_out_fake: 0.0000, g_loss_fake: 1.1284\r\n"
     ]
    },
    {
     "name": "stdout",
     "output_type": "stream",
     "text": [
      "Elapsed [3:01:03.208344], G_step [122030/1000000], D_step[122030/1000000], d_out_real: 0.0000, d_out_fake: 0.1207, g_loss_fake: 1.0270\r\n"
     ]
    },
    {
     "name": "stdout",
     "output_type": "stream",
     "text": [
      "Elapsed [3:01:13.850006], G_step [122040/1000000], D_step[122040/1000000], d_out_real: 0.1409, d_out_fake: 0.0000, g_loss_fake: 0.9977\r\n"
     ]
    },
    {
     "name": "stdout",
     "output_type": "stream",
     "text": [
      "Elapsed [3:01:25.258865], G_step [122050/1000000], D_step[122050/1000000], d_out_real: 0.1527, d_out_fake: 0.0002, g_loss_fake: 0.9067\r\n"
     ]
    },
    {
     "name": "stdout",
     "output_type": "stream",
     "text": [
      "Elapsed [3:01:36.247924], G_step [122060/1000000], D_step[122060/1000000], d_out_real: 0.0000, d_out_fake: 0.0153, g_loss_fake: 1.1221\r\n"
     ]
    },
    {
     "name": "stdout",
     "output_type": "stream",
     "text": [
      "Elapsed [3:01:47.431408], G_step [122070/1000000], D_step[122070/1000000], d_out_real: 0.0000, d_out_fake: 0.0577, g_loss_fake: 1.0784\r\n"
     ]
    },
    {
     "name": "stdout",
     "output_type": "stream",
     "text": [
      "Elapsed [3:01:58.589989], G_step [122080/1000000], D_step[122080/1000000], d_out_real: 0.0000, d_out_fake: 0.0815, g_loss_fake: 1.1955\r\n"
     ]
    },
    {
     "name": "stdout",
     "output_type": "stream",
     "text": [
      "Elapsed [3:02:09.422485], G_step [122090/1000000], D_step[122090/1000000], d_out_real: 0.1263, d_out_fake: 0.0000, g_loss_fake: 1.0348\r\n"
     ]
    },
    {
     "name": "stdout",
     "output_type": "stream",
     "text": [
      "Elapsed [3:02:20.262508], G_step [122100/1000000], D_step[122100/1000000], d_out_real: 0.0804, d_out_fake: 0.0574, g_loss_fake: 1.0454\r\n"
     ]
    },
    {
     "name": "stdout",
     "output_type": "stream",
     "text": [
      "Elapsed [3:02:31.570019], G_step [122110/1000000], D_step[122110/1000000], d_out_real: 0.0085, d_out_fake: 0.0001, g_loss_fake: 0.9288\r\n"
     ]
    },
    {
     "name": "stdout",
     "output_type": "stream",
     "text": [
      "Elapsed [3:02:42.756565], G_step [122120/1000000], D_step[122120/1000000], d_out_real: 0.0746, d_out_fake: 0.0022, g_loss_fake: 0.8805\r\n"
     ]
    },
    {
     "name": "stdout",
     "output_type": "stream",
     "text": [
      "Elapsed [3:02:53.652649], G_step [122130/1000000], D_step[122130/1000000], d_out_real: 0.0318, d_out_fake: 0.0000, g_loss_fake: 1.0982\r\n"
     ]
    },
    {
     "name": "stdout",
     "output_type": "stream",
     "text": [
      "Elapsed [3:03:04.966739], G_step [122140/1000000], D_step[122140/1000000], d_out_real: 0.1865, d_out_fake: 0.0055, g_loss_fake: 1.0803\r\n"
     ]
    },
    {
     "name": "stdout",
     "output_type": "stream",
     "text": [
      "Elapsed [3:03:15.747875], G_step [122150/1000000], D_step[122150/1000000], d_out_real: 0.3082, d_out_fake: 0.0049, g_loss_fake: 1.0913\r\n"
     ]
    },
    {
     "name": "stdout",
     "output_type": "stream",
     "text": [
      "Elapsed [3:03:26.695571], G_step [122160/1000000], D_step[122160/1000000], d_out_real: 0.0000, d_out_fake: 0.0000, g_loss_fake: 1.0956\r\n"
     ]
    },
    {
     "name": "stdout",
     "output_type": "stream",
     "text": [
      "Elapsed [3:03:37.567686], G_step [122170/1000000], D_step[122170/1000000], d_out_real: 0.0000, d_out_fake: 0.0070, g_loss_fake: 1.1004\r\n"
     ]
    },
    {
     "name": "stdout",
     "output_type": "stream",
     "text": [
      "Elapsed [3:03:48.522505], G_step [122180/1000000], D_step[122180/1000000], d_out_real: 0.0024, d_out_fake: 0.0662, g_loss_fake: 1.1333\r\n"
     ]
    },
    {
     "name": "stdout",
     "output_type": "stream",
     "text": [
      "Elapsed [3:03:59.253110], G_step [122190/1000000], D_step[122190/1000000], d_out_real: 0.0414, d_out_fake: 0.0011, g_loss_fake: 1.0714\r\n"
     ]
    },
    {
     "name": "stdout",
     "output_type": "stream",
     "text": [
      "Elapsed [3:04:10.696923], G_step [122200/1000000], D_step[122200/1000000], d_out_real: 0.0160, d_out_fake: 0.0076, g_loss_fake: 1.1115\r\n"
     ]
    },
    {
     "name": "stdout",
     "output_type": "stream",
     "text": [
      "Elapsed [3:04:22.315076], G_step [122210/1000000], D_step[122210/1000000], d_out_real: 0.0646, d_out_fake: 0.0000, g_loss_fake: 1.1011\r\n"
     ]
    },
    {
     "name": "stdout",
     "output_type": "stream",
     "text": [
      "Elapsed [3:04:33.206865], G_step [122220/1000000], D_step[122220/1000000], d_out_real: 0.1515, d_out_fake: 0.0000, g_loss_fake: 1.0341\r\n"
     ]
    },
    {
     "name": "stdout",
     "output_type": "stream",
     "text": [
      "Elapsed [3:04:43.966347], G_step [122230/1000000], D_step[122230/1000000], d_out_real: 0.0639, d_out_fake: 0.0004, g_loss_fake: 1.0114\r\n"
     ]
    },
    {
     "name": "stdout",
     "output_type": "stream",
     "text": [
      "Elapsed [3:04:54.568652], G_step [122240/1000000], D_step[122240/1000000], d_out_real: 0.0000, d_out_fake: 0.0321, g_loss_fake: 1.0892\r\n"
     ]
    },
    {
     "name": "stdout",
     "output_type": "stream",
     "text": [
      "Elapsed [3:05:06.687011], G_step [122250/1000000], D_step[122250/1000000], d_out_real: 0.1226, d_out_fake: 0.0830, g_loss_fake: 0.9165\r\n"
     ]
    },
    {
     "name": "stdout",
     "output_type": "stream",
     "text": [
      "Elapsed [3:05:17.261158], G_step [122260/1000000], D_step[122260/1000000], d_out_real: 0.0294, d_out_fake: 0.0000, g_loss_fake: 1.0474\r\n"
     ]
    },
    {
     "name": "stdout",
     "output_type": "stream",
     "text": [
      "Elapsed [3:05:28.079991], G_step [122270/1000000], D_step[122270/1000000], d_out_real: 0.0000, d_out_fake: 0.0000, g_loss_fake: 0.9762\r\n"
     ]
    },
    {
     "name": "stdout",
     "output_type": "stream",
     "text": [
      "Elapsed [3:05:39.055077], G_step [122280/1000000], D_step[122280/1000000], d_out_real: 0.1154, d_out_fake: 0.0001, g_loss_fake: 1.0414\r\n"
     ]
    },
    {
     "name": "stdout",
     "output_type": "stream",
     "text": [
      "Elapsed [3:05:50.502017], G_step [122290/1000000], D_step[122290/1000000], d_out_real: 0.0911, d_out_fake: 0.0006, g_loss_fake: 1.0860\r\n"
     ]
    },
    {
     "name": "stdout",
     "output_type": "stream",
     "text": [
      "Elapsed [3:06:01.836595], G_step [122300/1000000], D_step[122300/1000000], d_out_real: 0.0703, d_out_fake: 0.0000, g_loss_fake: 1.0487\r\n"
     ]
    },
    {
     "name": "stdout",
     "output_type": "stream",
     "text": [
      "Elapsed [3:06:13.056568], G_step [122310/1000000], D_step[122310/1000000], d_out_real: 0.0000, d_out_fake: 0.0574, g_loss_fake: 1.1191\r\n"
     ]
    },
    {
     "name": "stdout",
     "output_type": "stream",
     "text": [
      "Elapsed [3:06:24.464106], G_step [122320/1000000], D_step[122320/1000000], d_out_real: 0.0656, d_out_fake: 0.0000, g_loss_fake: 1.0862\r\n"
     ]
    },
    {
     "name": "stdout",
     "output_type": "stream",
     "text": [
      "Elapsed [3:06:35.218768], G_step [122330/1000000], D_step[122330/1000000], d_out_real: 0.0000, d_out_fake: 0.0544, g_loss_fake: 1.0674\r\n"
     ]
    },
    {
     "name": "stdout",
     "output_type": "stream",
     "text": [
      "Elapsed [3:06:46.334503], G_step [122340/1000000], D_step[122340/1000000], d_out_real: 0.0000, d_out_fake: 0.0013, g_loss_fake: 1.0160\r\n"
     ]
    },
    {
     "name": "stdout",
     "output_type": "stream",
     "text": [
      "Elapsed [3:06:57.394366], G_step [122350/1000000], D_step[122350/1000000], d_out_real: 0.1261, d_out_fake: 0.0006, g_loss_fake: 0.9882\r\n"
     ]
    },
    {
     "name": "stdout",
     "output_type": "stream",
     "text": [
      "Elapsed [3:07:08.540568], G_step [122360/1000000], D_step[122360/1000000], d_out_real: 0.0567, d_out_fake: 0.0933, g_loss_fake: 1.1097\r\n"
     ]
    },
    {
     "name": "stdout",
     "output_type": "stream",
     "text": [
      "Elapsed [3:07:19.309982], G_step [122370/1000000], D_step[122370/1000000], d_out_real: 0.1878, d_out_fake: 0.0000, g_loss_fake: 0.7233\r\n"
     ]
    },
    {
     "name": "stdout",
     "output_type": "stream",
     "text": [
      "Elapsed [3:07:30.099971], G_step [122380/1000000], D_step[122380/1000000], d_out_real: 0.0125, d_out_fake: 0.0596, g_loss_fake: 0.9967\r\n"
     ]
    },
    {
     "name": "stdout",
     "output_type": "stream",
     "text": [
      "Elapsed [3:07:40.818091], G_step [122390/1000000], D_step[122390/1000000], d_out_real: 0.1331, d_out_fake: 0.0000, g_loss_fake: 0.8991\r\n"
     ]
    },
    {
     "name": "stdout",
     "output_type": "stream",
     "text": [
      "Elapsed [3:07:51.731475], G_step [122400/1000000], D_step[122400/1000000], d_out_real: 0.1631, d_out_fake: 0.0716, g_loss_fake: 0.9359\r\n"
     ]
    },
    {
     "name": "stdout",
     "output_type": "stream",
     "text": [
      "Elapsed [3:08:02.365314], G_step [122410/1000000], D_step[122410/1000000], d_out_real: 0.0000, d_out_fake: 0.0690, g_loss_fake: 1.0019\r\n"
     ]
    },
    {
     "name": "stdout",
     "output_type": "stream",
     "text": [
      "Elapsed [3:08:13.656692], G_step [122420/1000000], D_step[122420/1000000], d_out_real: 0.0541, d_out_fake: 0.0038, g_loss_fake: 1.0682\r\n"
     ]
    },
    {
     "name": "stdout",
     "output_type": "stream",
     "text": [
      "Elapsed [3:08:25.227803], G_step [122430/1000000], D_step[122430/1000000], d_out_real: 0.1050, d_out_fake: 0.0000, g_loss_fake: 0.9726\r\n"
     ]
    },
    {
     "name": "stdout",
     "output_type": "stream",
     "text": [
      "Elapsed [3:08:36.496252], G_step [122440/1000000], D_step[122440/1000000], d_out_real: 0.0725, d_out_fake: 0.0020, g_loss_fake: 0.9938\r\n"
     ]
    },
    {
     "name": "stdout",
     "output_type": "stream",
     "text": [
      "Elapsed [3:08:47.199358], G_step [122450/1000000], D_step[122450/1000000], d_out_real: 0.0090, d_out_fake: 0.0635, g_loss_fake: 1.0825\r\n"
     ]
    },
    {
     "name": "stdout",
     "output_type": "stream",
     "text": [
      "Elapsed [3:08:59.177474], G_step [122460/1000000], D_step[122460/1000000], d_out_real: 0.0404, d_out_fake: 0.0125, g_loss_fake: 1.1180\r\n"
     ]
    },
    {
     "name": "stdout",
     "output_type": "stream",
     "text": [
      "Elapsed [3:09:10.052658], G_step [122470/1000000], D_step[122470/1000000], d_out_real: 0.0290, d_out_fake: 0.0494, g_loss_fake: 1.0927\r\n"
     ]
    },
    {
     "name": "stdout",
     "output_type": "stream",
     "text": [
      "Elapsed [3:09:21.297244], G_step [122480/1000000], D_step[122480/1000000], d_out_real: 0.0000, d_out_fake: 0.0053, g_loss_fake: 1.1425\r\n"
     ]
    },
    {
     "name": "stdout",
     "output_type": "stream",
     "text": [
      "Elapsed [3:09:32.544998], G_step [122490/1000000], D_step[122490/1000000], d_out_real: 0.0638, d_out_fake: 0.0000, g_loss_fake: 1.0581\r\n"
     ]
    },
    {
     "name": "stdout",
     "output_type": "stream",
     "text": [
      "Elapsed [3:09:43.695106], G_step [122500/1000000], D_step[122500/1000000], d_out_real: 0.0646, d_out_fake: 0.0000, g_loss_fake: 1.0730\r\n"
     ]
    },
    {
     "name": "stdout",
     "output_type": "stream",
     "text": [
      "Elapsed [3:09:54.787964], G_step [122510/1000000], D_step[122510/1000000], d_out_real: 0.0656, d_out_fake: 0.0902, g_loss_fake: 0.9023\r\n"
     ]
    },
    {
     "name": "stdout",
     "output_type": "stream",
     "text": [
      "Elapsed [3:10:06.521140], G_step [122520/1000000], D_step[122520/1000000], d_out_real: 0.0000, d_out_fake: 0.0513, g_loss_fake: 1.2008\r\n"
     ]
    },
    {
     "name": "stdout",
     "output_type": "stream",
     "text": [
      "Elapsed [3:10:17.812033], G_step [122530/1000000], D_step[122530/1000000], d_out_real: 0.0716, d_out_fake: 0.0610, g_loss_fake: 1.0723\r\n"
     ]
    },
    {
     "name": "stdout",
     "output_type": "stream",
     "text": [
      "Elapsed [3:10:28.511102], G_step [122540/1000000], D_step[122540/1000000], d_out_real: 0.0000, d_out_fake: 0.2064, g_loss_fake: 1.0471\r\n"
     ]
    },
    {
     "name": "stdout",
     "output_type": "stream",
     "text": [
      "Elapsed [3:10:39.797657], G_step [122550/1000000], D_step[122550/1000000], d_out_real: 0.0522, d_out_fake: 0.0005, g_loss_fake: 0.8512\r\n"
     ]
    },
    {
     "name": "stdout",
     "output_type": "stream",
     "text": [
      "Elapsed [3:10:50.601512], G_step [122560/1000000], D_step[122560/1000000], d_out_real: 0.1659, d_out_fake: 0.0049, g_loss_fake: 0.9353\r\n"
     ]
    },
    {
     "name": "stdout",
     "output_type": "stream",
     "text": [
      "Elapsed [3:11:01.459603], G_step [122570/1000000], D_step[122570/1000000], d_out_real: 0.1284, d_out_fake: 0.0887, g_loss_fake: 1.0789\r\n"
     ]
    },
    {
     "name": "stdout",
     "output_type": "stream",
     "text": [
      "Elapsed [3:11:12.052013], G_step [122580/1000000], D_step[122580/1000000], d_out_real: 0.0001, d_out_fake: 0.0000, g_loss_fake: 1.0976\r\n"
     ]
    },
    {
     "name": "stdout",
     "output_type": "stream",
     "text": [
      "Elapsed [3:11:22.897614], G_step [122590/1000000], D_step[122590/1000000], d_out_real: 0.0021, d_out_fake: 0.0000, g_loss_fake: 1.0622\r\n"
     ]
    },
    {
     "name": "stdout",
     "output_type": "stream",
     "text": [
      "Elapsed [3:11:33.800591], G_step [122600/1000000], D_step[122600/1000000], d_out_real: 0.0000, d_out_fake: 0.0000, g_loss_fake: 1.0903\r\n"
     ]
    },
    {
     "name": "stdout",
     "output_type": "stream",
     "text": [
      "Elapsed [3:11:44.348595], G_step [122610/1000000], D_step[122610/1000000], d_out_real: 0.1272, d_out_fake: 0.0605, g_loss_fake: 1.0288\r\n"
     ]
    },
    {
     "name": "stdout",
     "output_type": "stream",
     "text": [
      "Elapsed [3:11:54.969357], G_step [122620/1000000], D_step[122620/1000000], d_out_real: 0.0649, d_out_fake: 0.0000, g_loss_fake: 1.0431\r\n"
     ]
    },
    {
     "name": "stdout",
     "output_type": "stream",
     "text": [
      "Elapsed [3:12:06.000947], G_step [122630/1000000], D_step[122630/1000000], d_out_real: 0.0000, d_out_fake: 0.0922, g_loss_fake: 1.0606\r\n"
     ]
    },
    {
     "name": "stdout",
     "output_type": "stream",
     "text": [
      "Elapsed [3:12:16.800828], G_step [122640/1000000], D_step[122640/1000000], d_out_real: 0.0000, d_out_fake: 0.1933, g_loss_fake: 1.0637\r\n"
     ]
    },
    {
     "name": "stdout",
     "output_type": "stream",
     "text": [
      "Elapsed [3:12:27.699398], G_step [122650/1000000], D_step[122650/1000000], d_out_real: 0.0132, d_out_fake: 0.0575, g_loss_fake: 1.0590\r\n"
     ]
    },
    {
     "name": "stdout",
     "output_type": "stream",
     "text": [
      "Elapsed [3:12:38.950207], G_step [122660/1000000], D_step[122660/1000000], d_out_real: 0.0174, d_out_fake: 0.0014, g_loss_fake: 0.9970\r\n"
     ]
    },
    {
     "name": "stdout",
     "output_type": "stream",
     "text": [
      "Elapsed [3:12:49.760499], G_step [122670/1000000], D_step[122670/1000000], d_out_real: 0.1118, d_out_fake: 0.0000, g_loss_fake: 1.0364\r\n"
     ]
    },
    {
     "name": "stdout",
     "output_type": "stream",
     "text": [
      "Elapsed [3:13:00.384592], G_step [122680/1000000], D_step[122680/1000000], d_out_real: 0.0000, d_out_fake: 0.0070, g_loss_fake: 1.0615\r\n"
     ]
    },
    {
     "name": "stdout",
     "output_type": "stream",
     "text": [
      "Elapsed [3:13:11.570595], G_step [122690/1000000], D_step[122690/1000000], d_out_real: 0.0639, d_out_fake: 0.0003, g_loss_fake: 1.0505\r\n"
     ]
    },
    {
     "name": "stdout",
     "output_type": "stream",
     "text": [
      "Elapsed [3:13:22.302560], G_step [122700/1000000], D_step[122700/1000000], d_out_real: 0.0000, d_out_fake: 0.0439, g_loss_fake: 1.0980\r\n"
     ]
    },
    {
     "name": "stdout",
     "output_type": "stream",
     "text": [
      "Elapsed [3:13:33.184978], G_step [122710/1000000], D_step[122710/1000000], d_out_real: 0.0715, d_out_fake: 0.0622, g_loss_fake: 0.9839\r\n"
     ]
    },
    {
     "name": "stdout",
     "output_type": "stream",
     "text": [
      "Elapsed [3:13:44.571491], G_step [122720/1000000], D_step[122720/1000000], d_out_real: 0.0529, d_out_fake: 0.0560, g_loss_fake: 0.9864\r\n"
     ]
    },
    {
     "name": "stdout",
     "output_type": "stream",
     "text": [
      "Elapsed [3:13:55.272884], G_step [122730/1000000], D_step[122730/1000000], d_out_real: 0.0627, d_out_fake: 0.0000, g_loss_fake: 1.0465\r\n"
     ]
    },
    {
     "name": "stdout",
     "output_type": "stream",
     "text": [
      "Elapsed [3:14:06.353621], G_step [122740/1000000], D_step[122740/1000000], d_out_real: 0.0028, d_out_fake: 0.0889, g_loss_fake: 1.0698\r\n"
     ]
    },
    {
     "name": "stdout",
     "output_type": "stream",
     "text": [
      "Elapsed [3:14:16.912373], G_step [122750/1000000], D_step[122750/1000000], d_out_real: 0.0967, d_out_fake: 0.0000, g_loss_fake: 1.0607\r\n"
     ]
    },
    {
     "name": "stdout",
     "output_type": "stream",
     "text": [
      "Elapsed [3:14:28.095124], G_step [122760/1000000], D_step[122760/1000000], d_out_real: 0.0003, d_out_fake: 0.0000, g_loss_fake: 1.1312\r\n"
     ]
    },
    {
     "name": "stdout",
     "output_type": "stream",
     "text": [
      "Elapsed [3:14:39.234941], G_step [122770/1000000], D_step[122770/1000000], d_out_real: 0.0593, d_out_fake: 0.0008, g_loss_fake: 1.0941\r\n"
     ]
    },
    {
     "name": "stdout",
     "output_type": "stream",
     "text": [
      "Elapsed [3:14:50.030818], G_step [122780/1000000], D_step[122780/1000000], d_out_real: 0.0013, d_out_fake: 0.0221, g_loss_fake: 1.1346\r\n"
     ]
    },
    {
     "name": "stdout",
     "output_type": "stream",
     "text": [
      "Elapsed [3:15:00.580593], G_step [122790/1000000], D_step[122790/1000000], d_out_real: 0.0628, d_out_fake: 0.0693, g_loss_fake: 0.9683\r\n"
     ]
    },
    {
     "name": "stdout",
     "output_type": "stream",
     "text": [
      "Elapsed [3:15:11.454592], G_step [122800/1000000], D_step[122800/1000000], d_out_real: 0.0263, d_out_fake: 0.0007, g_loss_fake: 1.0163\r\n"
     ]
    },
    {
     "name": "stdout",
     "output_type": "stream",
     "text": [
      "Elapsed [3:15:22.037881], G_step [122810/1000000], D_step[122810/1000000], d_out_real: 0.0655, d_out_fake: 0.0000, g_loss_fake: 1.1337\r\n"
     ]
    },
    {
     "name": "stdout",
     "output_type": "stream",
     "text": [
      "Elapsed [3:15:32.542960], G_step [122820/1000000], D_step[122820/1000000], d_out_real: 0.0000, d_out_fake: 0.0000, g_loss_fake: 1.0939\r\n"
     ]
    },
    {
     "name": "stdout",
     "output_type": "stream",
     "text": [
      "Elapsed [3:15:43.211802], G_step [122830/1000000], D_step[122830/1000000], d_out_real: 0.1886, d_out_fake: 0.0417, g_loss_fake: 1.0660\r\n"
     ]
    },
    {
     "name": "stdout",
     "output_type": "stream",
     "text": [
      "Elapsed [3:15:53.761433], G_step [122840/1000000], D_step[122840/1000000], d_out_real: 0.1163, d_out_fake: 0.0000, g_loss_fake: 1.0254\r\n"
     ]
    },
    {
     "name": "stdout",
     "output_type": "stream",
     "text": [
      "Elapsed [3:16:04.785266], G_step [122850/1000000], D_step[122850/1000000], d_out_real: 0.1507, d_out_fake: 0.0000, g_loss_fake: 0.8950\r\n"
     ]
    },
    {
     "name": "stdout",
     "output_type": "stream",
     "text": [
      "Elapsed [3:16:16.055939], G_step [122860/1000000], D_step[122860/1000000], d_out_real: 0.1312, d_out_fake: 0.0219, g_loss_fake: 1.0426\r\n"
     ]
    },
    {
     "name": "stdout",
     "output_type": "stream",
     "text": [
      "Elapsed [3:16:26.885515], G_step [122870/1000000], D_step[122870/1000000], d_out_real: 0.0000, d_out_fake: 0.1401, g_loss_fake: 1.0967\r\n"
     ]
    },
    {
     "name": "stdout",
     "output_type": "stream",
     "text": [
      "Elapsed [3:16:38.661077], G_step [122880/1000000], D_step[122880/1000000], d_out_real: 0.0000, d_out_fake: 0.0001, g_loss_fake: 1.0981\r\n"
     ]
    },
    {
     "name": "stdout",
     "output_type": "stream",
     "text": [
      "Elapsed [3:16:49.745275], G_step [122890/1000000], D_step[122890/1000000], d_out_real: 0.0000, d_out_fake: 0.0036, g_loss_fake: 1.1356\r\n"
     ]
    },
    {
     "name": "stdout",
     "output_type": "stream",
     "text": [
      "Elapsed [3:17:00.763945], G_step [122900/1000000], D_step[122900/1000000], d_out_real: 0.0390, d_out_fake: 0.0568, g_loss_fake: 1.0812\r\n"
     ]
    },
    {
     "name": "stdout",
     "output_type": "stream",
     "text": [
      "Elapsed [3:17:11.328956], G_step [122910/1000000], D_step[122910/1000000], d_out_real: 0.1930, d_out_fake: 0.0476, g_loss_fake: 1.1177\r\n"
     ]
    },
    {
     "name": "stdout",
     "output_type": "stream",
     "text": [
      "Elapsed [3:17:22.738614], G_step [122920/1000000], D_step[122920/1000000], d_out_real: 0.0124, d_out_fake: 0.0776, g_loss_fake: 0.8930\r\n"
     ]
    },
    {
     "name": "stdout",
     "output_type": "stream",
     "text": [
      "Elapsed [3:17:33.424836], G_step [122930/1000000], D_step[122930/1000000], d_out_real: 0.0231, d_out_fake: 0.0485, g_loss_fake: 1.0597\r\n"
     ]
    },
    {
     "name": "stdout",
     "output_type": "stream",
     "text": [
      "Elapsed [3:17:44.767023], G_step [122940/1000000], D_step[122940/1000000], d_out_real: 0.0039, d_out_fake: 0.0626, g_loss_fake: 1.0837\r\n"
     ]
    },
    {
     "name": "stdout",
     "output_type": "stream",
     "text": [
      "Elapsed [3:17:55.756883], G_step [122950/1000000], D_step[122950/1000000], d_out_real: 0.0157, d_out_fake: 0.0084, g_loss_fake: 1.0764\r\n"
     ]
    },
    {
     "name": "stdout",
     "output_type": "stream",
     "text": [
      "Elapsed [3:18:06.460754], G_step [122960/1000000], D_step[122960/1000000], d_out_real: 0.0000, d_out_fake: 0.0624, g_loss_fake: 1.1124\r\n"
     ]
    },
    {
     "name": "stdout",
     "output_type": "stream",
     "text": [
      "Elapsed [3:18:18.156596], G_step [122970/1000000], D_step[122970/1000000], d_out_real: 0.0000, d_out_fake: 0.0004, g_loss_fake: 1.0784\r\n"
     ]
    },
    {
     "name": "stdout",
     "output_type": "stream",
     "text": [
      "Elapsed [3:18:29.501380], G_step [122980/1000000], D_step[122980/1000000], d_out_real: 0.0083, d_out_fake: 0.1983, g_loss_fake: 1.1075\r\n"
     ]
    },
    {
     "name": "stdout",
     "output_type": "stream",
     "text": [
      "Elapsed [3:18:40.261804], G_step [122990/1000000], D_step[122990/1000000], d_out_real: 0.0000, d_out_fake: 0.1095, g_loss_fake: 1.0769\r\n"
     ]
    },
    {
     "name": "stdout",
     "output_type": "stream",
     "text": [
      "Elapsed [3:18:52.675324], G_step [123000/1000000], D_step[123000/1000000], d_out_real: 0.0000, d_out_fake: 0.0547, g_loss_fake: 1.0462\r\n",
      "Sample images 123000_fake.png\r\n"
     ]
    },
    {
     "name": "stdout",
     "output_type": "stream",
     "text": [
      "Elapsed [3:19:03.687652], G_step [123010/1000000], D_step[123010/1000000], d_out_real: 0.0378, d_out_fake: 0.0571, g_loss_fake: 1.0463\r\n"
     ]
    },
    {
     "name": "stdout",
     "output_type": "stream",
     "text": [
      "Elapsed [3:19:14.602130], G_step [123020/1000000], D_step[123020/1000000], d_out_real: 0.0000, d_out_fake: 0.0719, g_loss_fake: 1.0266\r\n"
     ]
    },
    {
     "name": "stdout",
     "output_type": "stream",
     "text": [
      "Elapsed [3:19:25.681306], G_step [123030/1000000], D_step[123030/1000000], d_out_real: 0.0202, d_out_fake: 0.1312, g_loss_fake: 1.0693\r\n"
     ]
    },
    {
     "name": "stdout",
     "output_type": "stream",
     "text": [
      "Elapsed [3:19:36.847384], G_step [123040/1000000], D_step[123040/1000000], d_out_real: 0.1061, d_out_fake: 0.0039, g_loss_fake: 0.9961\r\n"
     ]
    },
    {
     "name": "stdout",
     "output_type": "stream",
     "text": [
      "Elapsed [3:19:47.457687], G_step [123050/1000000], D_step[123050/1000000], d_out_real: 0.0337, d_out_fake: 0.0000, g_loss_fake: 0.9774\r\n"
     ]
    },
    {
     "name": "stdout",
     "output_type": "stream",
     "text": [
      "Elapsed [3:19:58.711328], G_step [123060/1000000], D_step[123060/1000000], d_out_real: 0.0815, d_out_fake: 0.0000, g_loss_fake: 1.0896\r\n"
     ]
    },
    {
     "name": "stdout",
     "output_type": "stream",
     "text": [
      "Elapsed [3:20:10.295149], G_step [123070/1000000], D_step[123070/1000000], d_out_real: 0.3410, d_out_fake: 0.1071, g_loss_fake: 1.0586\r\n"
     ]
    },
    {
     "name": "stdout",
     "output_type": "stream",
     "text": [
      "Elapsed [3:20:20.880792], G_step [123080/1000000], D_step[123080/1000000], d_out_real: 0.0655, d_out_fake: 0.0000, g_loss_fake: 1.0500\r\n"
     ]
    },
    {
     "name": "stdout",
     "output_type": "stream",
     "text": [
      "Elapsed [3:20:32.111737], G_step [123090/1000000], D_step[123090/1000000], d_out_real: 0.0641, d_out_fake: 0.0573, g_loss_fake: 1.0877\r\n"
     ]
    },
    {
     "name": "stdout",
     "output_type": "stream",
     "text": [
      "Elapsed [3:20:42.970192], G_step [123100/1000000], D_step[123100/1000000], d_out_real: 0.0559, d_out_fake: 0.0000, g_loss_fake: 1.0145\r\n"
     ]
    },
    {
     "name": "stdout",
     "output_type": "stream",
     "text": [
      "Elapsed [3:20:55.097562], G_step [123110/1000000], D_step[123110/1000000], d_out_real: 0.1842, d_out_fake: 0.0635, g_loss_fake: 1.0605\r\n"
     ]
    },
    {
     "name": "stdout",
     "output_type": "stream",
     "text": [
      "Elapsed [3:21:06.073180], G_step [123120/1000000], D_step[123120/1000000], d_out_real: 0.1428, d_out_fake: 0.0000, g_loss_fake: 1.0523\r\n"
     ]
    },
    {
     "name": "stdout",
     "output_type": "stream",
     "text": [
      "Elapsed [3:21:16.624827], G_step [123130/1000000], D_step[123130/1000000], d_out_real: 0.0477, d_out_fake: 0.0634, g_loss_fake: 1.0930\r\n"
     ]
    },
    {
     "name": "stdout",
     "output_type": "stream",
     "text": [
      "Elapsed [3:21:27.724548], G_step [123140/1000000], D_step[123140/1000000], d_out_real: 0.1184, d_out_fake: 0.0635, g_loss_fake: 1.1460\r\n"
     ]
    },
    {
     "name": "stdout",
     "output_type": "stream",
     "text": [
      "Elapsed [3:21:38.607925], G_step [123150/1000000], D_step[123150/1000000], d_out_real: 0.0000, d_out_fake: 0.1383, g_loss_fake: 1.0622\r\n"
     ]
    },
    {
     "name": "stdout",
     "output_type": "stream",
     "text": [
      "Elapsed [3:21:49.581852], G_step [123160/1000000], D_step[123160/1000000], d_out_real: 0.2327, d_out_fake: 0.0000, g_loss_fake: 0.9877\r\n"
     ]
    },
    {
     "name": "stdout",
     "output_type": "stream",
     "text": [
      "Elapsed [3:22:00.449463], G_step [123170/1000000], D_step[123170/1000000], d_out_real: 0.0000, d_out_fake: 0.0001, g_loss_fake: 1.0683\r\n"
     ]
    },
    {
     "name": "stdout",
     "output_type": "stream",
     "text": [
      "Elapsed [3:22:11.119759], G_step [123180/1000000], D_step[123180/1000000], d_out_real: 0.0000, d_out_fake: 0.0001, g_loss_fake: 0.9358\r\n"
     ]
    },
    {
     "name": "stdout",
     "output_type": "stream",
     "text": [
      "Elapsed [3:22:23.343998], G_step [123190/1000000], D_step[123190/1000000], d_out_real: 0.1260, d_out_fake: 0.0699, g_loss_fake: 1.0619\r\n"
     ]
    },
    {
     "name": "stdout",
     "output_type": "stream",
     "text": [
      "Elapsed [3:22:34.404380], G_step [123200/1000000], D_step[123200/1000000], d_out_real: 0.0261, d_out_fake: 0.0016, g_loss_fake: 1.0648\r\n"
     ]
    },
    {
     "name": "stdout",
     "output_type": "stream",
     "text": [
      "Elapsed [3:22:45.157025], G_step [123210/1000000], D_step[123210/1000000], d_out_real: 0.0624, d_out_fake: 0.0000, g_loss_fake: 1.0654\r\n"
     ]
    },
    {
     "name": "stdout",
     "output_type": "stream",
     "text": [
      "Elapsed [3:22:56.094717], G_step [123220/1000000], D_step[123220/1000000], d_out_real: 0.3180, d_out_fake: 0.0652, g_loss_fake: 1.0145\r\n"
     ]
    },
    {
     "name": "stdout",
     "output_type": "stream",
     "text": [
      "Elapsed [3:23:06.959414], G_step [123230/1000000], D_step[123230/1000000], d_out_real: 0.0638, d_out_fake: 0.0007, g_loss_fake: 1.0532\r\n"
     ]
    },
    {
     "name": "stdout",
     "output_type": "stream",
     "text": [
      "Elapsed [3:23:17.560308], G_step [123240/1000000], D_step[123240/1000000], d_out_real: 0.1260, d_out_fake: 0.0132, g_loss_fake: 0.9877\r\n"
     ]
    },
    {
     "name": "stdout",
     "output_type": "stream",
     "text": [
      "Elapsed [3:23:28.730691], G_step [123250/1000000], D_step[123250/1000000], d_out_real: 0.1530, d_out_fake: 0.0091, g_loss_fake: 0.9665\r\n"
     ]
    },
    {
     "name": "stdout",
     "output_type": "stream",
     "text": [
      "Elapsed [3:23:40.258054], G_step [123260/1000000], D_step[123260/1000000], d_out_real: 0.1302, d_out_fake: 0.0000, g_loss_fake: 1.0118\r\n"
     ]
    },
    {
     "name": "stdout",
     "output_type": "stream",
     "text": [
      "Elapsed [3:23:51.508536], G_step [123270/1000000], D_step[123270/1000000], d_out_real: 0.0189, d_out_fake: 0.0021, g_loss_fake: 1.0314\r\n"
     ]
    },
    {
     "name": "stdout",
     "output_type": "stream",
     "text": [
      "Elapsed [3:24:02.245933], G_step [123280/1000000], D_step[123280/1000000], d_out_real: 0.0653, d_out_fake: 0.0359, g_loss_fake: 1.0839\r\n"
     ]
    },
    {
     "name": "stdout",
     "output_type": "stream",
     "text": [
      "Elapsed [3:24:12.966832], G_step [123290/1000000], D_step[123290/1000000], d_out_real: 0.0798, d_out_fake: 0.0000, g_loss_fake: 1.0834\r\n"
     ]
    },
    {
     "name": "stdout",
     "output_type": "stream",
     "text": [
      "Elapsed [3:24:23.759352], G_step [123300/1000000], D_step[123300/1000000], d_out_real: 0.0000, d_out_fake: 0.0179, g_loss_fake: 1.0417\r\n"
     ]
    },
    {
     "name": "stdout",
     "output_type": "stream",
     "text": [
      "Elapsed [3:24:35.082923], G_step [123310/1000000], D_step[123310/1000000], d_out_real: 0.0000, d_out_fake: 0.0063, g_loss_fake: 1.0937\r\n"
     ]
    },
    {
     "name": "stdout",
     "output_type": "stream",
     "text": [
      "Elapsed [3:24:46.117009], G_step [123320/1000000], D_step[123320/1000000], d_out_real: 0.0631, d_out_fake: 0.1235, g_loss_fake: 1.0605\r\n"
     ]
    },
    {
     "name": "stdout",
     "output_type": "stream",
     "text": [
      "Elapsed [3:24:57.118682], G_step [123330/1000000], D_step[123330/1000000], d_out_real: 0.1887, d_out_fake: 0.0000, g_loss_fake: 1.0767\r\n"
     ]
    },
    {
     "name": "stdout",
     "output_type": "stream",
     "text": [
      "Elapsed [3:25:08.939589], G_step [123340/1000000], D_step[123340/1000000], d_out_real: 0.0000, d_out_fake: 0.0051, g_loss_fake: 1.0839\r\n"
     ]
    },
    {
     "name": "stdout",
     "output_type": "stream",
     "text": [
      "Elapsed [3:25:20.202686], G_step [123350/1000000], D_step[123350/1000000], d_out_real: 0.2596, d_out_fake: 0.0000, g_loss_fake: 1.1365\r\n"
     ]
    },
    {
     "name": "stdout",
     "output_type": "stream",
     "text": [
      "Elapsed [3:25:30.932631], G_step [123360/1000000], D_step[123360/1000000], d_out_real: 0.1509, d_out_fake: 0.0981, g_loss_fake: 1.0253\r\n"
     ]
    },
    {
     "name": "stdout",
     "output_type": "stream",
     "text": [
      "Elapsed [3:25:42.919151], G_step [123370/1000000], D_step[123370/1000000], d_out_real: 0.0107, d_out_fake: 0.0000, g_loss_fake: 1.1044\r\n"
     ]
    },
    {
     "name": "stdout",
     "output_type": "stream",
     "text": [
      "Elapsed [3:25:54.202657], G_step [123380/1000000], D_step[123380/1000000], d_out_real: 0.0662, d_out_fake: 0.0764, g_loss_fake: 1.1302\r\n"
     ]
    },
    {
     "name": "stdout",
     "output_type": "stream",
     "text": [
      "Elapsed [3:26:05.069295], G_step [123390/1000000], D_step[123390/1000000], d_out_real: 0.0699, d_out_fake: 0.0002, g_loss_fake: 1.0932\r\n"
     ]
    },
    {
     "name": "stdout",
     "output_type": "stream",
     "text": [
      "save torch\r\n"
     ]
    },
    {
     "name": "stdout",
     "output_type": "stream",
     "text": [
      "Elapsed [3:26:16.948160], G_step [123400/1000000], D_step[123400/1000000], d_out_real: 0.2066, d_out_fake: 0.0000, g_loss_fake: 1.0468\r\n"
     ]
    },
    {
     "name": "stdout",
     "output_type": "stream",
     "text": [
      "Elapsed [3:26:27.878267], G_step [123410/1000000], D_step[123410/1000000], d_out_real: 0.0568, d_out_fake: 0.0575, g_loss_fake: 1.0218\r\n"
     ]
    },
    {
     "name": "stdout",
     "output_type": "stream",
     "text": [
      "Elapsed [3:26:39.826439], G_step [123420/1000000], D_step[123420/1000000], d_out_real: 0.0012, d_out_fake: 0.0002, g_loss_fake: 1.1644\r\n"
     ]
    },
    {
     "name": "stdout",
     "output_type": "stream",
     "text": [
      "Elapsed [3:26:50.594064], G_step [123430/1000000], D_step[123430/1000000], d_out_real: 0.0714, d_out_fake: 0.0000, g_loss_fake: 0.8438\r\n"
     ]
    },
    {
     "name": "stdout",
     "output_type": "stream",
     "text": [
      "Elapsed [3:27:02.571257], G_step [123440/1000000], D_step[123440/1000000], d_out_real: 0.1285, d_out_fake: 0.0000, g_loss_fake: 1.0690\r\n"
     ]
    },
    {
     "name": "stdout",
     "output_type": "stream",
     "text": [
      "Elapsed [3:27:13.240835], G_step [123450/1000000], D_step[123450/1000000], d_out_real: 0.0907, d_out_fake: 0.0017, g_loss_fake: 1.0728\r\n"
     ]
    },
    {
     "name": "stdout",
     "output_type": "stream",
     "text": [
      "Elapsed [3:27:24.344216], G_step [123460/1000000], D_step[123460/1000000], d_out_real: 0.0754, d_out_fake: 0.0118, g_loss_fake: 1.0628\r\n"
     ]
    },
    {
     "name": "stdout",
     "output_type": "stream",
     "text": [
      "Elapsed [3:27:36.028727], G_step [123470/1000000], D_step[123470/1000000], d_out_real: 0.0314, d_out_fake: 0.0258, g_loss_fake: 1.1131\r\n"
     ]
    },
    {
     "name": "stdout",
     "output_type": "stream",
     "text": [
      "Elapsed [3:27:46.629607], G_step [123480/1000000], D_step[123480/1000000], d_out_real: 0.0012, d_out_fake: 0.0000, g_loss_fake: 1.0186\r\n"
     ]
    },
    {
     "name": "stdout",
     "output_type": "stream",
     "text": [
      "Elapsed [3:27:58.007912], G_step [123490/1000000], D_step[123490/1000000], d_out_real: 0.0003, d_out_fake: 0.0632, g_loss_fake: 1.0570\r\n"
     ]
    },
    {
     "name": "stdout",
     "output_type": "stream",
     "text": [
      "Elapsed [3:28:09.023248], G_step [123500/1000000], D_step[123500/1000000], d_out_real: 0.2778, d_out_fake: 0.0647, g_loss_fake: 1.0591\r\n"
     ]
    },
    {
     "name": "stdout",
     "output_type": "stream",
     "text": [
      "Elapsed [3:28:19.644984], G_step [123510/1000000], D_step[123510/1000000], d_out_real: 0.0572, d_out_fake: 0.0000, g_loss_fake: 1.0765\r\n"
     ]
    },
    {
     "name": "stdout",
     "output_type": "stream",
     "text": [
      "Elapsed [3:28:30.257998], G_step [123520/1000000], D_step[123520/1000000], d_out_real: 0.0000, d_out_fake: 0.0000, g_loss_fake: 1.0201\r\n"
     ]
    },
    {
     "name": "stdout",
     "output_type": "stream",
     "text": [
      "Elapsed [3:28:40.910854], G_step [123530/1000000], D_step[123530/1000000], d_out_real: 0.0640, d_out_fake: 0.0183, g_loss_fake: 1.0556\r\n"
     ]
    },
    {
     "name": "stdout",
     "output_type": "stream",
     "text": [
      "Elapsed [3:28:51.579206], G_step [123540/1000000], D_step[123540/1000000], d_out_real: 0.1253, d_out_fake: 0.0505, g_loss_fake: 1.0673\r\n"
     ]
    },
    {
     "name": "stdout",
     "output_type": "stream",
     "text": [
      "Elapsed [3:29:02.262821], G_step [123550/1000000], D_step[123550/1000000], d_out_real: 0.0065, d_out_fake: 0.0584, g_loss_fake: 1.0676\r\n"
     ]
    },
    {
     "name": "stdout",
     "output_type": "stream",
     "text": [
      "Elapsed [3:29:13.300821], G_step [123560/1000000], D_step[123560/1000000], d_out_real: 0.0123, d_out_fake: 0.0403, g_loss_fake: 1.0967\r\n"
     ]
    },
    {
     "name": "stdout",
     "output_type": "stream",
     "text": [
      "Elapsed [3:29:24.249289], G_step [123570/1000000], D_step[123570/1000000], d_out_real: 0.0803, d_out_fake: 0.0636, g_loss_fake: 0.9350\r\n"
     ]
    },
    {
     "name": "stdout",
     "output_type": "stream",
     "text": [
      "Elapsed [3:29:35.369923], G_step [123580/1000000], D_step[123580/1000000], d_out_real: 0.1155, d_out_fake: 0.0026, g_loss_fake: 0.9945\r\n"
     ]
    },
    {
     "name": "stdout",
     "output_type": "stream",
     "text": [
      "Elapsed [3:29:46.320814], G_step [123590/1000000], D_step[123590/1000000], d_out_real: 0.0005, d_out_fake: 0.0228, g_loss_fake: 1.0925\r\n"
     ]
    },
    {
     "name": "stdout",
     "output_type": "stream",
     "text": [
      "Elapsed [3:29:57.275725], G_step [123600/1000000], D_step[123600/1000000], d_out_real: 0.1420, d_out_fake: 0.1047, g_loss_fake: 0.9771\r\n"
     ]
    },
    {
     "name": "stdout",
     "output_type": "stream",
     "text": [
      "Elapsed [3:30:08.048010], G_step [123610/1000000], D_step[123610/1000000], d_out_real: 0.1249, d_out_fake: 0.0004, g_loss_fake: 1.0757\r\n"
     ]
    },
    {
     "name": "stdout",
     "output_type": "stream",
     "text": [
      "Elapsed [3:30:18.966103], G_step [123620/1000000], D_step[123620/1000000], d_out_real: 0.0293, d_out_fake: 0.0000, g_loss_fake: 1.1184\r\n"
     ]
    },
    {
     "name": "stdout",
     "output_type": "stream",
     "text": [
      "Elapsed [3:30:29.504184], G_step [123630/1000000], D_step[123630/1000000], d_out_real: 0.0062, d_out_fake: 0.0000, g_loss_fake: 0.9012\r\n"
     ]
    },
    {
     "name": "stdout",
     "output_type": "stream",
     "text": [
      "Elapsed [3:30:40.262746], G_step [123640/1000000], D_step[123640/1000000], d_out_real: 0.0583, d_out_fake: 0.1439, g_loss_fake: 1.0594\r\n"
     ]
    },
    {
     "name": "stdout",
     "output_type": "stream",
     "text": [
      "Elapsed [3:30:51.276478], G_step [123650/1000000], D_step[123650/1000000], d_out_real: 0.0716, d_out_fake: 0.0718, g_loss_fake: 0.9735\r\n"
     ]
    },
    {
     "name": "stdout",
     "output_type": "stream",
     "text": [
      "Elapsed [3:31:02.882428], G_step [123660/1000000], D_step[123660/1000000], d_out_real: 0.0655, d_out_fake: 0.1047, g_loss_fake: 1.0696\r\n"
     ]
    },
    {
     "name": "stdout",
     "output_type": "stream",
     "text": [
      "Elapsed [3:31:13.764430], G_step [123670/1000000], D_step[123670/1000000], d_out_real: 0.0643, d_out_fake: 0.1751, g_loss_fake: 0.9665\r\n"
     ]
    },
    {
     "name": "stdout",
     "output_type": "stream",
     "text": [
      "Elapsed [3:31:24.723254], G_step [123680/1000000], D_step[123680/1000000], d_out_real: 0.1252, d_out_fake: 0.0000, g_loss_fake: 1.0423\r\n"
     ]
    },
    {
     "name": "stdout",
     "output_type": "stream",
     "text": [
      "Elapsed [3:31:35.508659], G_step [123690/1000000], D_step[123690/1000000], d_out_real: 0.0000, d_out_fake: 0.0006, g_loss_fake: 1.0966\r\n"
     ]
    },
    {
     "name": "stdout",
     "output_type": "stream",
     "text": [
      "Elapsed [3:31:46.282188], G_step [123700/1000000], D_step[123700/1000000], d_out_real: 0.1241, d_out_fake: 0.2076, g_loss_fake: 1.1063\r\n"
     ]
    },
    {
     "name": "stdout",
     "output_type": "stream",
     "text": [
      "Elapsed [3:31:57.874156], G_step [123710/1000000], D_step[123710/1000000], d_out_real: 0.1342, d_out_fake: 0.0616, g_loss_fake: 1.0888\r\n"
     ]
    },
    {
     "name": "stdout",
     "output_type": "stream",
     "text": [
      "Elapsed [3:32:08.667158], G_step [123720/1000000], D_step[123720/1000000], d_out_real: 0.0917, d_out_fake: 0.0000, g_loss_fake: 1.0382\r\n"
     ]
    },
    {
     "name": "stdout",
     "output_type": "stream",
     "text": [
      "Elapsed [3:32:19.291870], G_step [123730/1000000], D_step[123730/1000000], d_out_real: 0.0053, d_out_fake: 0.0002, g_loss_fake: 0.9352\r\n"
     ]
    },
    {
     "name": "stdout",
     "output_type": "stream",
     "text": [
      "Elapsed [3:32:30.400972], G_step [123740/1000000], D_step[123740/1000000], d_out_real: 0.0153, d_out_fake: 0.0134, g_loss_fake: 1.1017\r\n"
     ]
    },
    {
     "name": "stdout",
     "output_type": "stream",
     "text": [
      "Elapsed [3:32:40.967600], G_step [123750/1000000], D_step[123750/1000000], d_out_real: 0.0764, d_out_fake: 0.0000, g_loss_fake: 1.1143\r\n"
     ]
    },
    {
     "name": "stdout",
     "output_type": "stream",
     "text": [
      "Elapsed [3:32:51.700694], G_step [123760/1000000], D_step[123760/1000000], d_out_real: 0.1412, d_out_fake: 0.0000, g_loss_fake: 0.8318\r\n"
     ]
    },
    {
     "name": "stdout",
     "output_type": "stream",
     "text": [
      "Elapsed [3:33:03.248413], G_step [123770/1000000], D_step[123770/1000000], d_out_real: 0.0648, d_out_fake: 0.1709, g_loss_fake: 1.0604\r\n"
     ]
    },
    {
     "name": "stdout",
     "output_type": "stream",
     "text": [
      "Elapsed [3:33:14.058356], G_step [123780/1000000], D_step[123780/1000000], d_out_real: 0.0030, d_out_fake: 0.0000, g_loss_fake: 0.9950\r\n"
     ]
    },
    {
     "name": "stdout",
     "output_type": "stream",
     "text": [
      "Elapsed [3:33:25.125580], G_step [123790/1000000], D_step[123790/1000000], d_out_real: 0.0635, d_out_fake: 0.1075, g_loss_fake: 1.0718\r\n"
     ]
    },
    {
     "name": "stdout",
     "output_type": "stream",
     "text": [
      "Elapsed [3:33:36.398869], G_step [123800/1000000], D_step[123800/1000000], d_out_real: 0.0898, d_out_fake: 0.0000, g_loss_fake: 0.9450\r\n"
     ]
    },
    {
     "name": "stdout",
     "output_type": "stream",
     "text": [
      "Elapsed [3:33:47.529548], G_step [123810/1000000], D_step[123810/1000000], d_out_real: 0.0000, d_out_fake: 0.0648, g_loss_fake: 1.1882\r\n"
     ]
    },
    {
     "name": "stdout",
     "output_type": "stream",
     "text": [
      "Elapsed [3:33:59.338977], G_step [123820/1000000], D_step[123820/1000000], d_out_real: 0.1033, d_out_fake: 0.1719, g_loss_fake: 1.0579\r\n"
     ]
    },
    {
     "name": "stdout",
     "output_type": "stream",
     "text": [
      "Elapsed [3:34:10.125076], G_step [123830/1000000], D_step[123830/1000000], d_out_real: 0.1302, d_out_fake: 0.0000, g_loss_fake: 1.0441\r\n"
     ]
    },
    {
     "name": "stdout",
     "output_type": "stream",
     "text": [
      "Elapsed [3:34:20.626607], G_step [123840/1000000], D_step[123840/1000000], d_out_real: 0.1262, d_out_fake: 0.0000, g_loss_fake: 0.9515\r\n"
     ]
    },
    {
     "name": "stdout",
     "output_type": "stream",
     "text": [
      "Elapsed [3:34:31.798941], G_step [123850/1000000], D_step[123850/1000000], d_out_real: 0.0000, d_out_fake: 0.1499, g_loss_fake: 1.0835\r\n"
     ]
    },
    {
     "name": "stdout",
     "output_type": "stream",
     "text": [
      "Elapsed [3:34:43.218874], G_step [123860/1000000], D_step[123860/1000000], d_out_real: 0.1923, d_out_fake: 0.0000, g_loss_fake: 1.0078\r\n"
     ]
    },
    {
     "name": "stdout",
     "output_type": "stream",
     "text": [
      "Elapsed [3:34:54.464441], G_step [123870/1000000], D_step[123870/1000000], d_out_real: 0.0000, d_out_fake: 0.0492, g_loss_fake: 1.0914\r\n"
     ]
    },
    {
     "name": "stdout",
     "output_type": "stream",
     "text": [
      "Elapsed [3:35:05.735901], G_step [123880/1000000], D_step[123880/1000000], d_out_real: 0.1858, d_out_fake: 0.0068, g_loss_fake: 1.0312\r\n"
     ]
    },
    {
     "name": "stdout",
     "output_type": "stream",
     "text": [
      "Elapsed [3:35:16.415151], G_step [123890/1000000], D_step[123890/1000000], d_out_real: 0.0519, d_out_fake: 0.0000, g_loss_fake: 1.0321\r\n"
     ]
    },
    {
     "name": "stdout",
     "output_type": "stream",
     "text": [
      "Elapsed [3:35:27.366378], G_step [123900/1000000], D_step[123900/1000000], d_out_real: 0.0625, d_out_fake: 0.0169, g_loss_fake: 1.0616\r\n"
     ]
    },
    {
     "name": "stdout",
     "output_type": "stream",
     "text": [
      "Elapsed [3:35:38.757860], G_step [123910/1000000], D_step[123910/1000000], d_out_real: 0.2305, d_out_fake: 0.0006, g_loss_fake: 1.0346\r\n"
     ]
    },
    {
     "name": "stdout",
     "output_type": "stream",
     "text": [
      "Elapsed [3:35:49.408090], G_step [123920/1000000], D_step[123920/1000000], d_out_real: 0.1165, d_out_fake: 0.0138, g_loss_fake: 0.9086\r\n"
     ]
    },
    {
     "name": "stdout",
     "output_type": "stream",
     "text": [
      "Elapsed [3:36:00.500720], G_step [123930/1000000], D_step[123930/1000000], d_out_real: 0.2239, d_out_fake: 0.0728, g_loss_fake: 0.9912\r\n"
     ]
    },
    {
     "name": "stdout",
     "output_type": "stream",
     "text": [
      "Elapsed [3:36:12.491524], G_step [123940/1000000], D_step[123940/1000000], d_out_real: 0.0638, d_out_fake: 0.0016, g_loss_fake: 1.1213\r\n"
     ]
    },
    {
     "name": "stdout",
     "output_type": "stream",
     "text": [
      "Elapsed [3:36:23.870560], G_step [123950/1000000], D_step[123950/1000000], d_out_real: 0.0470, d_out_fake: 0.0000, g_loss_fake: 1.1202\r\n"
     ]
    },
    {
     "name": "stdout",
     "output_type": "stream",
     "text": [
      "Elapsed [3:36:34.653596], G_step [123960/1000000], D_step[123960/1000000], d_out_real: 0.1534, d_out_fake: 0.0372, g_loss_fake: 0.9856\r\n"
     ]
    },
    {
     "name": "stdout",
     "output_type": "stream",
     "text": [
      "Elapsed [3:36:46.394397], G_step [123970/1000000], D_step[123970/1000000], d_out_real: 0.1106, d_out_fake: 0.0730, g_loss_fake: 1.0658\r\n"
     ]
    },
    {
     "name": "stdout",
     "output_type": "stream",
     "text": [
      "Elapsed [3:36:57.312327], G_step [123980/1000000], D_step[123980/1000000], d_out_real: 0.0000, d_out_fake: 0.1249, g_loss_fake: 1.0758\r\n"
     ]
    },
    {
     "name": "stdout",
     "output_type": "stream",
     "text": [
      "Elapsed [3:37:09.265414], G_step [123990/1000000], D_step[123990/1000000], d_out_real: 0.0655, d_out_fake: 0.0001, g_loss_fake: 1.0630\r\n"
     ]
    },
    {
     "name": "stdout",
     "output_type": "stream",
     "text": [
      "Elapsed [3:37:19.966877], G_step [124000/1000000], D_step[124000/1000000], d_out_real: 0.0633, d_out_fake: 0.0000, g_loss_fake: 1.1060\r\n",
      "Sample images 124000_fake.png\r\n"
     ]
    },
    {
     "name": "stdout",
     "output_type": "stream",
     "text": [
      "Elapsed [3:37:31.767307], G_step [124010/1000000], D_step[124010/1000000], d_out_real: 0.0149, d_out_fake: 0.0000, g_loss_fake: 1.0798\r\n"
     ]
    },
    {
     "name": "stdout",
     "output_type": "stream",
     "text": [
      "Elapsed [3:37:42.814950], G_step [124020/1000000], D_step[124020/1000000], d_out_real: 0.0645, d_out_fake: 0.0705, g_loss_fake: 1.0170\r\n"
     ]
    },
    {
     "name": "stdout",
     "output_type": "stream",
     "text": [
      "Elapsed [3:37:53.663262], G_step [124030/1000000], D_step[124030/1000000], d_out_real: 0.0283, d_out_fake: 0.0000, g_loss_fake: 0.9909\r\n"
     ]
    },
    {
     "name": "stdout",
     "output_type": "stream",
     "text": [
      "Elapsed [3:38:04.208647], G_step [124040/1000000], D_step[124040/1000000], d_out_real: 0.0000, d_out_fake: 0.0000, g_loss_fake: 1.0766\r\n"
     ]
    },
    {
     "name": "stdout",
     "output_type": "stream",
     "text": [
      "Elapsed [3:38:15.936208], G_step [124050/1000000], D_step[124050/1000000], d_out_real: 0.0742, d_out_fake: 0.0658, g_loss_fake: 1.0710\r\n"
     ]
    },
    {
     "name": "stdout",
     "output_type": "stream",
     "text": [
      "Elapsed [3:38:26.806554], G_step [124060/1000000], D_step[124060/1000000], d_out_real: 0.0000, d_out_fake: 0.0597, g_loss_fake: 1.1587\r\n"
     ]
    },
    {
     "name": "stdout",
     "output_type": "stream",
     "text": [
      "Elapsed [3:38:37.559908], G_step [124070/1000000], D_step[124070/1000000], d_out_real: 0.0607, d_out_fake: 0.0721, g_loss_fake: 1.0844\r\n"
     ]
    },
    {
     "name": "stdout",
     "output_type": "stream",
     "text": [
      "Elapsed [3:38:48.561825], G_step [124080/1000000], D_step[124080/1000000], d_out_real: 0.0000, d_out_fake: 0.0006, g_loss_fake: 1.0241\r\n"
     ]
    },
    {
     "name": "stdout",
     "output_type": "stream",
     "text": [
      "Elapsed [3:38:59.271609], G_step [124090/1000000], D_step[124090/1000000], d_out_real: 0.0958, d_out_fake: 0.0539, g_loss_fake: 1.1115\r\n"
     ]
    },
    {
     "name": "stdout",
     "output_type": "stream",
     "text": [
      "Elapsed [3:39:10.332526], G_step [124100/1000000], D_step[124100/1000000], d_out_real: 0.0687, d_out_fake: 0.0000, g_loss_fake: 1.0168\r\n"
     ]
    },
    {
     "name": "stdout",
     "output_type": "stream",
     "text": [
      "Elapsed [3:39:21.776715], G_step [124110/1000000], D_step[124110/1000000], d_out_real: 0.1255, d_out_fake: 0.1127, g_loss_fake: 1.1183\r\n"
     ]
    },
    {
     "name": "stdout",
     "output_type": "stream",
     "text": [
      "Elapsed [3:39:32.350235], G_step [124120/1000000], D_step[124120/1000000], d_out_real: 0.0057, d_out_fake: 0.1186, g_loss_fake: 1.0884\r\n"
     ]
    },
    {
     "name": "stdout",
     "output_type": "stream",
     "text": [
      "Elapsed [3:39:43.337549], G_step [124130/1000000], D_step[124130/1000000], d_out_real: 0.0000, d_out_fake: 0.0958, g_loss_fake: 1.1031\r\n"
     ]
    },
    {
     "name": "stdout",
     "output_type": "stream",
     "text": [
      "Elapsed [3:39:54.656098], G_step [124140/1000000], D_step[124140/1000000], d_out_real: 0.0907, d_out_fake: 0.0007, g_loss_fake: 1.0134\r\n"
     ]
    },
    {
     "name": "stdout",
     "output_type": "stream",
     "text": [
      "Elapsed [3:40:06.338646], G_step [124150/1000000], D_step[124150/1000000], d_out_real: 0.1079, d_out_fake: 0.0961, g_loss_fake: 0.9989\r\n"
     ]
    },
    {
     "name": "stdout",
     "output_type": "stream",
     "text": [
      "Elapsed [3:40:17.149391], G_step [124160/1000000], D_step[124160/1000000], d_out_real: 0.0000, d_out_fake: 0.0702, g_loss_fake: 1.1435\r\n"
     ]
    },
    {
     "name": "stdout",
     "output_type": "stream",
     "text": [
      "Elapsed [3:40:28.523750], G_step [124170/1000000], D_step[124170/1000000], d_out_real: 0.1271, d_out_fake: 0.0637, g_loss_fake: 1.0477\r\n"
     ]
    },
    {
     "name": "stdout",
     "output_type": "stream",
     "text": [
      "Elapsed [3:40:39.349383], G_step [124180/1000000], D_step[124180/1000000], d_out_real: 0.1948, d_out_fake: 0.0734, g_loss_fake: 1.1199\r\n"
     ]
    },
    {
     "name": "stdout",
     "output_type": "stream",
     "text": [
      "Elapsed [3:40:50.261847], G_step [124190/1000000], D_step[124190/1000000], d_out_real: 0.0000, d_out_fake: 0.1282, g_loss_fake: 1.0952\r\n"
     ]
    },
    {
     "name": "stdout",
     "output_type": "stream",
     "text": [
      "Elapsed [3:41:00.866371], G_step [124200/1000000], D_step[124200/1000000], d_out_real: 0.1407, d_out_fake: 0.0014, g_loss_fake: 1.0379\r\n"
     ]
    },
    {
     "name": "stdout",
     "output_type": "stream",
     "text": [
      "Elapsed [3:41:11.470160], G_step [124210/1000000], D_step[124210/1000000], d_out_real: 0.0000, d_out_fake: 0.0587, g_loss_fake: 1.0120\r\n"
     ]
    },
    {
     "name": "stdout",
     "output_type": "stream",
     "text": [
      "Elapsed [3:41:22.256135], G_step [124220/1000000], D_step[124220/1000000], d_out_real: 0.0643, d_out_fake: 0.0157, g_loss_fake: 1.1304\r\n"
     ]
    },
    {
     "name": "stdout",
     "output_type": "stream",
     "text": [
      "Elapsed [3:41:33.262345], G_step [124230/1000000], D_step[124230/1000000], d_out_real: 0.3303, d_out_fake: 0.0000, g_loss_fake: 1.0468\r\n"
     ]
    },
    {
     "name": "stdout",
     "output_type": "stream",
     "text": [
      "Elapsed [3:41:44.281098], G_step [124240/1000000], D_step[124240/1000000], d_out_real: 0.1181, d_out_fake: 0.0025, g_loss_fake: 1.0277\r\n"
     ]
    },
    {
     "name": "stdout",
     "output_type": "stream",
     "text": [
      "Elapsed [3:41:55.449988], G_step [124250/1000000], D_step[124250/1000000], d_out_real: 0.0092, d_out_fake: 0.0000, g_loss_fake: 1.0230\r\n"
     ]
    },
    {
     "name": "stdout",
     "output_type": "stream",
     "text": [
      "Elapsed [3:42:06.265320], G_step [124260/1000000], D_step[124260/1000000], d_out_real: 0.0034, d_out_fake: 0.1361, g_loss_fake: 1.0994\r\n"
     ]
    },
    {
     "name": "stdout",
     "output_type": "stream",
     "text": [
      "Elapsed [3:42:17.637391], G_step [124270/1000000], D_step[124270/1000000], d_out_real: 0.1653, d_out_fake: 0.0000, g_loss_fake: 0.9850\r\n"
     ]
    },
    {
     "name": "stdout",
     "output_type": "stream",
     "text": [
      "Elapsed [3:42:29.056773], G_step [124280/1000000], D_step[124280/1000000], d_out_real: 0.0000, d_out_fake: 0.0603, g_loss_fake: 1.1380\r\n"
     ]
    },
    {
     "name": "stdout",
     "output_type": "stream",
     "text": [
      "Elapsed [3:42:40.167073], G_step [124290/1000000], D_step[124290/1000000], d_out_real: 0.0000, d_out_fake: 0.0848, g_loss_fake: 1.0285\r\n"
     ]
    },
    {
     "name": "stdout",
     "output_type": "stream",
     "text": [
      "Elapsed [3:42:51.272750], G_step [124300/1000000], D_step[124300/1000000], d_out_real: 0.0000, d_out_fake: 0.0910, g_loss_fake: 1.1684\r\n"
     ]
    },
    {
     "name": "stdout",
     "output_type": "stream",
     "text": [
      "Elapsed [3:43:02.250725], G_step [124310/1000000], D_step[124310/1000000], d_out_real: 0.0654, d_out_fake: 0.0000, g_loss_fake: 1.0791\r\n"
     ]
    },
    {
     "name": "stdout",
     "output_type": "stream",
     "text": [
      "Elapsed [3:43:13.248325], G_step [124320/1000000], D_step[124320/1000000], d_out_real: 0.0000, d_out_fake: 0.2755, g_loss_fake: 1.0684\r\n"
     ]
    },
    {
     "name": "stdout",
     "output_type": "stream",
     "text": [
      "Elapsed [3:43:24.341520], G_step [124330/1000000], D_step[124330/1000000], d_out_real: 0.1354, d_out_fake: 0.0358, g_loss_fake: 1.0965\r\n"
     ]
    },
    {
     "name": "stdout",
     "output_type": "stream",
     "text": [
      "Elapsed [3:43:34.989177], G_step [124340/1000000], D_step[124340/1000000], d_out_real: 0.1837, d_out_fake: 0.0032, g_loss_fake: 1.0610\r\n"
     ]
    },
    {
     "name": "stdout",
     "output_type": "stream",
     "text": [
      "Elapsed [3:43:46.004567], G_step [124350/1000000], D_step[124350/1000000], d_out_real: 0.0000, d_out_fake: 0.1279, g_loss_fake: 1.1060\r\n"
     ]
    },
    {
     "name": "stdout",
     "output_type": "stream",
     "text": [
      "Elapsed [3:43:57.312728], G_step [124360/1000000], D_step[124360/1000000], d_out_real: 0.0018, d_out_fake: 0.0481, g_loss_fake: 0.9728\r\n"
     ]
    },
    {
     "name": "stdout",
     "output_type": "stream",
     "text": [
      "Elapsed [3:44:08.322502], G_step [124370/1000000], D_step[124370/1000000], d_out_real: 0.1308, d_out_fake: 0.0618, g_loss_fake: 1.0460\r\n"
     ]
    },
    {
     "name": "stdout",
     "output_type": "stream",
     "text": [
      "Elapsed [3:44:19.254562], G_step [124380/1000000], D_step[124380/1000000], d_out_real: 0.0613, d_out_fake: 0.0000, g_loss_fake: 1.0664\r\n"
     ]
    },
    {
     "name": "stdout",
     "output_type": "stream",
     "text": [
      "Elapsed [3:44:30.126168], G_step [124390/1000000], D_step[124390/1000000], d_out_real: 0.0726, d_out_fake: 0.0013, g_loss_fake: 1.0405\r\n"
     ]
    },
    {
     "name": "stdout",
     "output_type": "stream",
     "text": [
      "Elapsed [3:44:41.028619], G_step [124400/1000000], D_step[124400/1000000], d_out_real: 0.0632, d_out_fake: 0.0064, g_loss_fake: 1.1088\r\n"
     ]
    },
    {
     "name": "stdout",
     "output_type": "stream",
     "text": [
      "Elapsed [3:44:52.247126], G_step [124410/1000000], D_step[124410/1000000], d_out_real: 0.0582, d_out_fake: 0.0000, g_loss_fake: 1.1023\r\n"
     ]
    },
    {
     "name": "stdout",
     "output_type": "stream",
     "text": [
      "Elapsed [3:45:02.989638], G_step [124420/1000000], D_step[124420/1000000], d_out_real: 0.0325, d_out_fake: 0.0014, g_loss_fake: 1.0809\r\n"
     ]
    },
    {
     "name": "stdout",
     "output_type": "stream",
     "text": [
      "Elapsed [3:45:13.962476], G_step [124430/1000000], D_step[124430/1000000], d_out_real: 0.0000, d_out_fake: 0.0682, g_loss_fake: 1.0795\r\n"
     ]
    },
    {
     "name": "stdout",
     "output_type": "stream",
     "text": [
      "Elapsed [3:45:24.999817], G_step [124440/1000000], D_step[124440/1000000], d_out_real: 0.0000, d_out_fake: 0.0899, g_loss_fake: 1.0293\r\n"
     ]
    },
    {
     "name": "stdout",
     "output_type": "stream",
     "text": [
      "Elapsed [3:45:36.501234], G_step [124450/1000000], D_step[124450/1000000], d_out_real: 0.0685, d_out_fake: 0.0006, g_loss_fake: 0.9089\r\n"
     ]
    },
    {
     "name": "stdout",
     "output_type": "stream",
     "text": [
      "Elapsed [3:45:47.284960], G_step [124460/1000000], D_step[124460/1000000], d_out_real: 0.0000, d_out_fake: 0.0242, g_loss_fake: 1.1382\r\n"
     ]
    },
    {
     "name": "stdout",
     "output_type": "stream",
     "text": [
      "Elapsed [3:45:57.943988], G_step [124470/1000000], D_step[124470/1000000], d_out_real: 0.0009, d_out_fake: 0.0358, g_loss_fake: 1.0149\r\n"
     ]
    },
    {
     "name": "stdout",
     "output_type": "stream",
     "text": [
      "Elapsed [3:46:08.903382], G_step [124480/1000000], D_step[124480/1000000], d_out_real: 0.1930, d_out_fake: 0.0000, g_loss_fake: 1.0553\r\n"
     ]
    },
    {
     "name": "stdout",
     "output_type": "stream",
     "text": [
      "Elapsed [3:46:19.861540], G_step [124490/1000000], D_step[124490/1000000], d_out_real: 0.0850, d_out_fake: 0.1505, g_loss_fake: 0.9457\r\n"
     ]
    },
    {
     "name": "stdout",
     "output_type": "stream",
     "text": [
      "Elapsed [3:46:30.582382], G_step [124500/1000000], D_step[124500/1000000], d_out_real: 0.0008, d_out_fake: 0.0000, g_loss_fake: 1.0889\r\n"
     ]
    },
    {
     "name": "stdout",
     "output_type": "stream",
     "text": [
      "Elapsed [3:46:41.824608], G_step [124510/1000000], D_step[124510/1000000], d_out_real: 0.0000, d_out_fake: 0.5236, g_loss_fake: 1.1099\r\n"
     ]
    },
    {
     "name": "stdout",
     "output_type": "stream",
     "text": [
      "Elapsed [3:46:54.760010], G_step [124520/1000000], D_step[124520/1000000], d_out_real: 0.0632, d_out_fake: 0.0000, g_loss_fake: 1.0754\r\n"
     ]
    },
    {
     "name": "stdout",
     "output_type": "stream",
     "text": [
      "Elapsed [3:47:05.807957], G_step [124530/1000000], D_step[124530/1000000], d_out_real: 0.0114, d_out_fake: 0.0000, g_loss_fake: 1.0776\r\n"
     ]
    },
    {
     "name": "stdout",
     "output_type": "stream",
     "text": [
      "Elapsed [3:47:16.406132], G_step [124540/1000000], D_step[124540/1000000], d_out_real: 0.1922, d_out_fake: 0.0000, g_loss_fake: 0.9785\r\n"
     ]
    },
    {
     "name": "stdout",
     "output_type": "stream",
     "text": [
      "Elapsed [3:47:27.457290], G_step [124550/1000000], D_step[124550/1000000], d_out_real: 0.0705, d_out_fake: 0.0601, g_loss_fake: 1.0442\r\n"
     ]
    },
    {
     "name": "stdout",
     "output_type": "stream",
     "text": [
      "Elapsed [3:47:39.231120], G_step [124560/1000000], D_step[124560/1000000], d_out_real: 0.0003, d_out_fake: 0.0040, g_loss_fake: 1.0967\r\n"
     ]
    },
    {
     "name": "stdout",
     "output_type": "stream",
     "text": [
      "Elapsed [3:47:50.055106], G_step [124570/1000000], D_step[124570/1000000], d_out_real: 0.1183, d_out_fake: 0.0409, g_loss_fake: 1.0881\r\n"
     ]
    },
    {
     "name": "stdout",
     "output_type": "stream",
     "text": [
      "Elapsed [3:48:01.042667], G_step [124580/1000000], D_step[124580/1000000], d_out_real: 0.0348, d_out_fake: 0.0699, g_loss_fake: 0.9519\r\n"
     ]
    },
    {
     "name": "stdout",
     "output_type": "stream",
     "text": [
      "Elapsed [3:48:12.265815], G_step [124590/1000000], D_step[124590/1000000], d_out_real: 0.0000, d_out_fake: 0.0075, g_loss_fake: 1.1003\r\n"
     ]
    },
    {
     "name": "stdout",
     "output_type": "stream",
     "text": [
      "Elapsed [3:48:22.986338], G_step [124600/1000000], D_step[124600/1000000], d_out_real: 0.0693, d_out_fake: 0.0962, g_loss_fake: 1.1536\r\n"
     ]
    },
    {
     "name": "stdout",
     "output_type": "stream",
     "text": [
      "Elapsed [3:48:33.679929], G_step [124610/1000000], D_step[124610/1000000], d_out_real: 0.0618, d_out_fake: 0.0405, g_loss_fake: 1.1044\r\n"
     ]
    },
    {
     "name": "stdout",
     "output_type": "stream",
     "text": [
      "Elapsed [3:48:44.791756], G_step [124620/1000000], D_step[124620/1000000], d_out_real: 0.1042, d_out_fake: 0.0048, g_loss_fake: 1.0616\r\n"
     ]
    },
    {
     "name": "stdout",
     "output_type": "stream",
     "text": [
      "Elapsed [3:48:55.869624], G_step [124630/1000000], D_step[124630/1000000], d_out_real: 0.1259, d_out_fake: 0.0684, g_loss_fake: 1.0911\r\n"
     ]
    },
    {
     "name": "stdout",
     "output_type": "stream",
     "text": [
      "Elapsed [3:49:06.904682], G_step [124640/1000000], D_step[124640/1000000], d_out_real: 0.1303, d_out_fake: 0.0476, g_loss_fake: 1.1063\r\n"
     ]
    },
    {
     "name": "stdout",
     "output_type": "stream",
     "text": [
      "Elapsed [3:49:17.759967], G_step [124650/1000000], D_step[124650/1000000], d_out_real: 0.0772, d_out_fake: 0.1211, g_loss_fake: 0.9251\r\n"
     ]
    },
    {
     "name": "stdout",
     "output_type": "stream",
     "text": [
      "Elapsed [3:49:28.655794], G_step [124660/1000000], D_step[124660/1000000], d_out_real: 0.1351, d_out_fake: 0.1257, g_loss_fake: 0.9759\r\n"
     ]
    },
    {
     "name": "stdout",
     "output_type": "stream",
     "text": [
      "Elapsed [3:49:39.303425], G_step [124670/1000000], D_step[124670/1000000], d_out_real: 0.1205, d_out_fake: 0.0843, g_loss_fake: 0.9736\r\n"
     ]
    },
    {
     "name": "stdout",
     "output_type": "stream",
     "text": [
      "Elapsed [3:49:50.246088], G_step [124680/1000000], D_step[124680/1000000], d_out_real: 0.0704, d_out_fake: 0.0003, g_loss_fake: 1.0519\r\n"
     ]
    },
    {
     "name": "stdout",
     "output_type": "stream",
     "text": [
      "Elapsed [3:50:01.370255], G_step [124690/1000000], D_step[124690/1000000], d_out_real: 0.1184, d_out_fake: 0.0003, g_loss_fake: 0.9283\r\n"
     ]
    },
    {
     "name": "stdout",
     "output_type": "stream",
     "text": [
      "Elapsed [3:50:12.417314], G_step [124700/1000000], D_step[124700/1000000], d_out_real: 0.0000, d_out_fake: 0.1252, g_loss_fake: 1.0900\r\n"
     ]
    },
    {
     "name": "stdout",
     "output_type": "stream",
     "text": [
      "Elapsed [3:50:23.946735], G_step [124710/1000000], D_step[124710/1000000], d_out_real: 0.1345, d_out_fake: 0.5436, g_loss_fake: 0.9346\r\n"
     ]
    },
    {
     "name": "stdout",
     "output_type": "stream",
     "text": [
      "Elapsed [3:50:34.892047], G_step [124720/1000000], D_step[124720/1000000], d_out_real: 0.0000, d_out_fake: 0.0008, g_loss_fake: 1.1036\r\n"
     ]
    },
    {
     "name": "stdout",
     "output_type": "stream",
     "text": [
      "Elapsed [3:50:46.030409], G_step [124730/1000000], D_step[124730/1000000], d_out_real: 0.0000, d_out_fake: 0.2001, g_loss_fake: 1.1116\r\n"
     ]
    },
    {
     "name": "stdout",
     "output_type": "stream",
     "text": [
      "Elapsed [3:50:57.788402], G_step [124740/1000000], D_step[124740/1000000], d_out_real: 0.1131, d_out_fake: 0.0000, g_loss_fake: 1.0460\r\n"
     ]
    },
    {
     "name": "stdout",
     "output_type": "stream",
     "text": [
      "Elapsed [3:51:08.778630], G_step [124750/1000000], D_step[124750/1000000], d_out_real: 0.1025, d_out_fake: 0.0703, g_loss_fake: 1.0546\r\n"
     ]
    },
    {
     "name": "stdout",
     "output_type": "stream",
     "text": [
      "Elapsed [3:51:20.628443], G_step [124760/1000000], D_step[124760/1000000], d_out_real: 0.0000, d_out_fake: 0.0000, g_loss_fake: 1.1159\r\n"
     ]
    },
    {
     "name": "stdout",
     "output_type": "stream",
     "text": [
      "Elapsed [3:51:31.264052], G_step [124770/1000000], D_step[124770/1000000], d_out_real: 0.0000, d_out_fake: 0.0000, g_loss_fake: 1.0445\r\n"
     ]
    },
    {
     "name": "stdout",
     "output_type": "stream",
     "text": [
      "Elapsed [3:51:43.378139], G_step [124780/1000000], D_step[124780/1000000], d_out_real: 0.0641, d_out_fake: 0.0000, g_loss_fake: 1.0423\r\n"
     ]
    },
    {
     "name": "stdout",
     "output_type": "stream",
     "text": [
      "Elapsed [3:51:54.293528], G_step [124790/1000000], D_step[124790/1000000], d_out_real: 0.1438, d_out_fake: 0.0000, g_loss_fake: 0.9373\r\n"
     ]
    },
    {
     "name": "stdout",
     "output_type": "stream",
     "text": [
      "Elapsed [3:52:05.582578], G_step [124800/1000000], D_step[124800/1000000], d_out_real: 0.1172, d_out_fake: 0.0000, g_loss_fake: 0.8935\r\n"
     ]
    },
    {
     "name": "stdout",
     "output_type": "stream",
     "text": [
      "Elapsed [3:52:16.193254], G_step [124810/1000000], D_step[124810/1000000], d_out_real: 0.0540, d_out_fake: 0.0000, g_loss_fake: 0.9121\r\n"
     ]
    },
    {
     "name": "stdout",
     "output_type": "stream",
     "text": [
      "Elapsed [3:52:27.526084], G_step [124820/1000000], D_step[124820/1000000], d_out_real: 0.0588, d_out_fake: 0.0608, g_loss_fake: 1.0687\r\n"
     ]
    },
    {
     "name": "stdout",
     "output_type": "stream",
     "text": [
      "Elapsed [3:52:39.354980], G_step [124830/1000000], D_step[124830/1000000], d_out_real: 0.0642, d_out_fake: 0.0048, g_loss_fake: 1.1440\r\n"
     ]
    },
    {
     "name": "stdout",
     "output_type": "stream",
     "text": [
      "Elapsed [3:52:50.087942], G_step [124840/1000000], D_step[124840/1000000], d_out_real: 0.0863, d_out_fake: 0.0000, g_loss_fake: 0.9854\r\n"
     ]
    },
    {
     "name": "stdout",
     "output_type": "stream",
     "text": [
      "Elapsed [3:53:01.388315], G_step [124850/1000000], D_step[124850/1000000], d_out_real: 0.0000, d_out_fake: 0.1349, g_loss_fake: 1.0728\r\n"
     ]
    },
    {
     "name": "stdout",
     "output_type": "stream",
     "text": [
      "Elapsed [3:53:12.510871], G_step [124860/1000000], D_step[124860/1000000], d_out_real: 0.0647, d_out_fake: 0.0008, g_loss_fake: 1.0723\r\n"
     ]
    },
    {
     "name": "stdout",
     "output_type": "stream",
     "text": [
      "Elapsed [3:53:23.535117], G_step [124870/1000000], D_step[124870/1000000], d_out_real: 0.0587, d_out_fake: 0.0570, g_loss_fake: 0.9081\r\n"
     ]
    },
    {
     "name": "stdout",
     "output_type": "stream",
     "text": [
      "Elapsed [3:53:34.401098], G_step [124880/1000000], D_step[124880/1000000], d_out_real: 0.0355, d_out_fake: 0.0000, g_loss_fake: 1.0872\r\n"
     ]
    },
    {
     "name": "stdout",
     "output_type": "stream",
     "text": [
      "Elapsed [3:53:45.287045], G_step [124890/1000000], D_step[124890/1000000], d_out_real: 0.0049, d_out_fake: 0.0000, g_loss_fake: 1.0667\r\n"
     ]
    },
    {
     "name": "stdout",
     "output_type": "stream",
     "text": [
      "Elapsed [3:53:56.645076], G_step [124900/1000000], D_step[124900/1000000], d_out_real: 0.0629, d_out_fake: 0.0000, g_loss_fake: 1.0942\r\n"
     ]
    },
    {
     "name": "stdout",
     "output_type": "stream",
     "text": [
      "Elapsed [3:54:08.535535], G_step [124910/1000000], D_step[124910/1000000], d_out_real: 0.0083, d_out_fake: 0.1477, g_loss_fake: 1.0893\r\n"
     ]
    },
    {
     "name": "stdout",
     "output_type": "stream",
     "text": [
      "Elapsed [3:54:19.708903], G_step [124920/1000000], D_step[124920/1000000], d_out_real: 0.1461, d_out_fake: 0.0024, g_loss_fake: 1.0176\r\n"
     ]
    },
    {
     "name": "stdout",
     "output_type": "stream",
     "text": [
      "Elapsed [3:54:30.524107], G_step [124930/1000000], D_step[124930/1000000], d_out_real: 0.0657, d_out_fake: 0.0620, g_loss_fake: 1.0548\r\n"
     ]
    },
    {
     "name": "stdout",
     "output_type": "stream",
     "text": [
      "Elapsed [3:54:41.174632], G_step [124940/1000000], D_step[124940/1000000], d_out_real: 0.0013, d_out_fake: 0.0000, g_loss_fake: 1.1123\r\n"
     ]
    },
    {
     "name": "stdout",
     "output_type": "stream",
     "text": [
      "Elapsed [3:54:52.227817], G_step [124950/1000000], D_step[124950/1000000], d_out_real: 0.0686, d_out_fake: 0.0570, g_loss_fake: 1.1056\r\n"
     ]
    },
    {
     "name": "stdout",
     "output_type": "stream",
     "text": [
      "Elapsed [3:55:03.556675], G_step [124960/1000000], D_step[124960/1000000], d_out_real: 0.0000, d_out_fake: 0.0220, g_loss_fake: 1.0721\r\n",
      "save torch\r\n"
     ]
    },
    {
     "name": "stdout",
     "output_type": "stream",
     "text": [
      "Elapsed [3:55:15.366184], G_step [124970/1000000], D_step[124970/1000000], d_out_real: 0.0211, d_out_fake: 0.0568, g_loss_fake: 1.0901\r\n"
     ]
    },
    {
     "name": "stdout",
     "output_type": "stream",
     "text": [
      "Elapsed [3:55:26.583148], G_step [124980/1000000], D_step[124980/1000000], d_out_real: 0.0610, d_out_fake: 0.0031, g_loss_fake: 1.0579\r\n"
     ]
    },
    {
     "name": "stdout",
     "output_type": "stream",
     "text": [
      "Elapsed [3:55:37.554795], G_step [124990/1000000], D_step[124990/1000000], d_out_real: 0.1248, d_out_fake: 0.0125, g_loss_fake: 1.1147\r\n"
     ]
    },
    {
     "name": "stdout",
     "output_type": "stream",
     "text": [
      "Elapsed [3:55:48.198111], G_step [125000/1000000], D_step[125000/1000000], d_out_real: 0.0790, d_out_fake: 0.0187, g_loss_fake: 1.0799\r\n",
      "Sample images 125000_fake.png\r\n"
     ]
    },
    {
     "name": "stdout",
     "output_type": "stream",
     "text": [
      "Elapsed [3:55:59.684986], G_step [125010/1000000], D_step[125010/1000000], d_out_real: 0.0701, d_out_fake: 0.0005, g_loss_fake: 0.9653\r\n"
     ]
    },
    {
     "name": "stdout",
     "output_type": "stream",
     "text": [
      "Elapsed [3:56:10.874728], G_step [125020/1000000], D_step[125020/1000000], d_out_real: 0.0072, d_out_fake: 0.0000, g_loss_fake: 1.1543\r\n"
     ]
    },
    {
     "name": "stdout",
     "output_type": "stream",
     "text": [
      "Elapsed [3:56:21.603217], G_step [125030/1000000], D_step[125030/1000000], d_out_real: 0.0000, d_out_fake: 0.0377, g_loss_fake: 1.1471\r\n"
     ]
    },
    {
     "name": "stdout",
     "output_type": "stream",
     "text": [
      "Elapsed [3:56:32.998491], G_step [125040/1000000], D_step[125040/1000000], d_out_real: 0.0633, d_out_fake: 0.0804, g_loss_fake: 1.1017\r\n"
     ]
    },
    {
     "name": "stdout",
     "output_type": "stream",
     "text": [
      "Elapsed [3:56:44.062436], G_step [125050/1000000], D_step[125050/1000000], d_out_real: 0.0008, d_out_fake: 0.0621, g_loss_fake: 1.1356\r\n"
     ]
    },
    {
     "name": "stdout",
     "output_type": "stream",
     "text": [
      "Elapsed [3:56:54.915999], G_step [125060/1000000], D_step[125060/1000000], d_out_real: 0.0000, d_out_fake: 0.0693, g_loss_fake: 1.0738\r\n"
     ]
    },
    {
     "name": "stdout",
     "output_type": "stream",
     "text": [
      "Elapsed [3:57:05.901104], G_step [125070/1000000], D_step[125070/1000000], d_out_real: 0.0998, d_out_fake: 0.0006, g_loss_fake: 1.0673\r\n"
     ]
    },
    {
     "name": "stdout",
     "output_type": "stream",
     "text": [
      "Elapsed [3:57:17.012998], G_step [125080/1000000], D_step[125080/1000000], d_out_real: 0.0986, d_out_fake: 0.0000, g_loss_fake: 1.0665\r\n"
     ]
    },
    {
     "name": "stdout",
     "output_type": "stream",
     "text": [
      "Elapsed [3:57:27.648317], G_step [125090/1000000], D_step[125090/1000000], d_out_real: 0.0000, d_out_fake: 0.0000, g_loss_fake: 1.1609\r\n"
     ]
    },
    {
     "name": "stdout",
     "output_type": "stream",
     "text": [
      "Elapsed [3:57:38.687326], G_step [125100/1000000], D_step[125100/1000000], d_out_real: 0.1906, d_out_fake: 0.0049, g_loss_fake: 1.0776\r\n"
     ]
    },
    {
     "name": "stdout",
     "output_type": "stream",
     "text": [
      "Elapsed [3:57:49.627991], G_step [125110/1000000], D_step[125110/1000000], d_out_real: 0.1899, d_out_fake: 0.0010, g_loss_fake: 0.7403\r\n"
     ]
    },
    {
     "name": "stdout",
     "output_type": "stream",
     "text": [
      "Elapsed [3:58:00.261332], G_step [125120/1000000], D_step[125120/1000000], d_out_real: 0.0652, d_out_fake: 0.0000, g_loss_fake: 1.1407\r\n"
     ]
    },
    {
     "name": "stdout",
     "output_type": "stream",
     "text": [
      "Elapsed [3:58:11.689224], G_step [125130/1000000], D_step[125130/1000000], d_out_real: 0.1215, d_out_fake: 0.0561, g_loss_fake: 1.0692\r\n"
     ]
    },
    {
     "name": "stdout",
     "output_type": "stream",
     "text": [
      "Elapsed [3:58:22.966695], G_step [125140/1000000], D_step[125140/1000000], d_out_real: 0.0000, d_out_fake: 0.0737, g_loss_fake: 1.1625\r\n"
     ]
    },
    {
     "name": "stdout",
     "output_type": "stream",
     "text": [
      "Elapsed [3:58:33.672542], G_step [125150/1000000], D_step[125150/1000000], d_out_real: 0.1408, d_out_fake: 0.0000, g_loss_fake: 1.1453\r\n"
     ]
    },
    {
     "name": "stdout",
     "output_type": "stream",
     "text": [
      "Elapsed [3:58:44.536519], G_step [125160/1000000], D_step[125160/1000000], d_out_real: 0.1352, d_out_fake: 0.0000, g_loss_fake: 1.0395\r\n"
     ]
    },
    {
     "name": "stdout",
     "output_type": "stream",
     "text": [
      "Elapsed [3:58:55.198934], G_step [125170/1000000], D_step[125170/1000000], d_out_real: 0.0035, d_out_fake: 0.0612, g_loss_fake: 1.1196\r\n"
     ]
    },
    {
     "name": "stdout",
     "output_type": "stream",
     "text": [
      "Elapsed [3:59:07.120840], G_step [125180/1000000], D_step[125180/1000000], d_out_real: 0.0031, d_out_fake: 0.0579, g_loss_fake: 1.0934\r\n"
     ]
    },
    {
     "name": "stdout",
     "output_type": "stream",
     "text": [
      "Elapsed [3:59:19.280909], G_step [125190/1000000], D_step[125190/1000000], d_out_real: 0.0667, d_out_fake: 0.0000, g_loss_fake: 1.0643\r\n"
     ]
    },
    {
     "name": "stdout",
     "output_type": "stream",
     "text": [
      "Elapsed [3:59:30.360740], G_step [125200/1000000], D_step[125200/1000000], d_out_real: 0.0637, d_out_fake: 0.0521, g_loss_fake: 1.1044\r\n"
     ]
    },
    {
     "name": "stdout",
     "output_type": "stream",
     "text": [
      "Elapsed [3:59:41.661036], G_step [125210/1000000], D_step[125210/1000000], d_out_real: 0.1495, d_out_fake: 0.0000, g_loss_fake: 0.8972\r\n"
     ]
    },
    {
     "name": "stdout",
     "output_type": "stream",
     "text": [
      "Elapsed [3:59:52.396722], G_step [125220/1000000], D_step[125220/1000000], d_out_real: 0.0879, d_out_fake: 0.0669, g_loss_fake: 0.7986\r\n"
     ]
    },
    {
     "name": "stdout",
     "output_type": "stream",
     "text": [
      "Elapsed [4:00:03.082910], G_step [125230/1000000], D_step[125230/1000000], d_out_real: 0.0644, d_out_fake: 0.0000, g_loss_fake: 1.0274\r\n"
     ]
    },
    {
     "name": "stdout",
     "output_type": "stream",
     "text": [
      "Elapsed [4:00:14.556380], G_step [125240/1000000], D_step[125240/1000000], d_out_real: 0.0221, d_out_fake: 0.0000, g_loss_fake: 1.0338\r\n"
     ]
    },
    {
     "name": "stdout",
     "output_type": "stream",
     "text": [
      "Elapsed [4:00:25.301099], G_step [125250/1000000], D_step[125250/1000000], d_out_real: 0.1292, d_out_fake: 0.0452, g_loss_fake: 1.1723\r\n"
     ]
    },
    {
     "name": "stdout",
     "output_type": "stream",
     "text": [
      "Elapsed [4:00:36.431566], G_step [125260/1000000], D_step[125260/1000000], d_out_real: 0.0646, d_out_fake: 0.0136, g_loss_fake: 1.0142\r\n"
     ]
    },
    {
     "name": "stdout",
     "output_type": "stream",
     "text": [
      "Elapsed [4:00:47.304966], G_step [125270/1000000], D_step[125270/1000000], d_out_real: 0.0733, d_out_fake: 0.0626, g_loss_fake: 1.0822\r\n"
     ]
    },
    {
     "name": "stdout",
     "output_type": "stream",
     "text": [
      "Elapsed [4:00:59.030963], G_step [125280/1000000], D_step[125280/1000000], d_out_real: 0.0000, d_out_fake: 0.0096, g_loss_fake: 1.1041\r\n"
     ]
    },
    {
     "name": "stdout",
     "output_type": "stream",
     "text": [
      "Elapsed [4:01:09.702979], G_step [125290/1000000], D_step[125290/1000000], d_out_real: 0.0655, d_out_fake: 0.2349, g_loss_fake: 1.1556\r\n"
     ]
    },
    {
     "name": "stdout",
     "output_type": "stream",
     "text": [
      "Elapsed [4:01:20.920716], G_step [125300/1000000], D_step[125300/1000000], d_out_real: 0.0709, d_out_fake: 0.0599, g_loss_fake: 1.0396\r\n"
     ]
    },
    {
     "name": "stdout",
     "output_type": "stream",
     "text": [
      "Elapsed [4:01:31.566138], G_step [125310/1000000], D_step[125310/1000000], d_out_real: 0.0618, d_out_fake: 0.0003, g_loss_fake: 0.9812\r\n"
     ]
    },
    {
     "name": "stdout",
     "output_type": "stream",
     "text": [
      "Elapsed [4:01:42.456453], G_step [125320/1000000], D_step[125320/1000000], d_out_real: 0.0709, d_out_fake: 0.0000, g_loss_fake: 1.0953\r\n"
     ]
    },
    {
     "name": "stdout",
     "output_type": "stream",
     "text": [
      "Elapsed [4:01:53.400599], G_step [125330/1000000], D_step[125330/1000000], d_out_real: 0.0000, d_out_fake: 0.0015, g_loss_fake: 1.1090\r\n"
     ]
    },
    {
     "name": "stdout",
     "output_type": "stream",
     "text": [
      "Elapsed [4:02:04.385326], G_step [125340/1000000], D_step[125340/1000000], d_out_real: 0.1597, d_out_fake: 0.0481, g_loss_fake: 1.0714\r\n"
     ]
    },
    {
     "name": "stdout",
     "output_type": "stream",
     "text": [
      "Elapsed [4:02:16.088257], G_step [125350/1000000], D_step[125350/1000000], d_out_real: 0.1208, d_out_fake: 0.0562, g_loss_fake: 1.0772\r\n"
     ]
    },
    {
     "name": "stdout",
     "output_type": "stream",
     "text": [
      "Elapsed [4:02:27.428311], G_step [125360/1000000], D_step[125360/1000000], d_out_real: 0.0638, d_out_fake: 0.0002, g_loss_fake: 1.0409\r\n"
     ]
    },
    {
     "name": "stdout",
     "output_type": "stream",
     "text": [
      "Elapsed [4:02:38.199779], G_step [125370/1000000], D_step[125370/1000000], d_out_real: 0.1103, d_out_fake: 0.0296, g_loss_fake: 1.1626\r\n"
     ]
    },
    {
     "name": "stdout",
     "output_type": "stream",
     "text": [
      "Elapsed [4:02:50.111547], G_step [125380/1000000], D_step[125380/1000000], d_out_real: 0.0505, d_out_fake: 0.0595, g_loss_fake: 1.1166\r\n"
     ]
    },
    {
     "name": "stdout",
     "output_type": "stream",
     "text": [
      "Elapsed [4:03:00.861256], G_step [125390/1000000], D_step[125390/1000000], d_out_real: 0.0000, d_out_fake: 0.0230, g_loss_fake: 1.0860\r\n"
     ]
    },
    {
     "name": "stdout",
     "output_type": "stream",
     "text": [
      "Elapsed [4:03:12.098209], G_step [125400/1000000], D_step[125400/1000000], d_out_real: 0.0684, d_out_fake: 0.0000, g_loss_fake: 1.0775\r\n"
     ]
    },
    {
     "name": "stdout",
     "output_type": "stream",
     "text": [
      "Elapsed [4:03:22.844467], G_step [125410/1000000], D_step[125410/1000000], d_out_real: 0.1521, d_out_fake: 0.0000, g_loss_fake: 1.1032\r\n"
     ]
    },
    {
     "name": "stdout",
     "output_type": "stream",
     "text": [
      "Elapsed [4:03:34.339052], G_step [125420/1000000], D_step[125420/1000000], d_out_real: 0.0519, d_out_fake: 0.0005, g_loss_fake: 0.7635\r\n"
     ]
    },
    {
     "name": "stdout",
     "output_type": "stream",
     "text": [
      "Elapsed [4:03:45.265569], G_step [125430/1000000], D_step[125430/1000000], d_out_real: 0.1033, d_out_fake: 0.0855, g_loss_fake: 1.0440\r\n"
     ]
    },
    {
     "name": "stdout",
     "output_type": "stream",
     "text": [
      "Elapsed [4:03:56.375428], G_step [125440/1000000], D_step[125440/1000000], d_out_real: 0.0042, d_out_fake: 0.0230, g_loss_fake: 1.0613\r\n"
     ]
    },
    {
     "name": "stdout",
     "output_type": "stream",
     "text": [
      "Elapsed [4:04:06.958528], G_step [125450/1000000], D_step[125450/1000000], d_out_real: 0.1398, d_out_fake: 0.0000, g_loss_fake: 1.0432\r\n"
     ]
    },
    {
     "name": "stdout",
     "output_type": "stream",
     "text": [
      "Elapsed [4:04:17.780487], G_step [125460/1000000], D_step[125460/1000000], d_out_real: 0.0000, d_out_fake: 0.0000, g_loss_fake: 1.1520\r\n"
     ]
    },
    {
     "name": "stdout",
     "output_type": "stream",
     "text": [
      "Elapsed [4:04:29.075390], G_step [125470/1000000], D_step[125470/1000000], d_out_real: 0.1270, d_out_fake: 0.0000, g_loss_fake: 1.1210\r\n"
     ]
    },
    {
     "name": "stdout",
     "output_type": "stream",
     "text": [
      "Elapsed [4:04:39.702795], G_step [125480/1000000], D_step[125480/1000000], d_out_real: 0.0242, d_out_fake: 0.0379, g_loss_fake: 1.0551\r\n"
     ]
    },
    {
     "name": "stdout",
     "output_type": "stream",
     "text": [
      "Elapsed [4:04:50.864203], G_step [125490/1000000], D_step[125490/1000000], d_out_real: 0.0192, d_out_fake: 0.0254, g_loss_fake: 0.9993\r\n"
     ]
    },
    {
     "name": "stdout",
     "output_type": "stream",
     "text": [
      "Elapsed [4:05:01.873297], G_step [125500/1000000], D_step[125500/1000000], d_out_real: 0.0002, d_out_fake: 0.0000, g_loss_fake: 0.8203\r\n"
     ]
    },
    {
     "name": "stdout",
     "output_type": "stream",
     "text": [
      "Elapsed [4:05:12.636616], G_step [125510/1000000], D_step[125510/1000000], d_out_real: 0.0452, d_out_fake: 0.0008, g_loss_fake: 1.0588\r\n"
     ]
    },
    {
     "name": "stdout",
     "output_type": "stream",
     "text": [
      "Elapsed [4:05:24.273505], G_step [125520/1000000], D_step[125520/1000000], d_out_real: 0.0636, d_out_fake: 0.0783, g_loss_fake: 1.1076\r\n"
     ]
    },
    {
     "name": "stdout",
     "output_type": "stream",
     "text": [
      "Elapsed [4:05:35.690438], G_step [125530/1000000], D_step[125530/1000000], d_out_real: 0.0727, d_out_fake: 0.0014, g_loss_fake: 1.0168\r\n"
     ]
    },
    {
     "name": "stdout",
     "output_type": "stream",
     "text": [
      "Elapsed [4:05:46.493257], G_step [125540/1000000], D_step[125540/1000000], d_out_real: 0.0000, d_out_fake: 0.0000, g_loss_fake: 1.0704\r\n"
     ]
    },
    {
     "name": "stdout",
     "output_type": "stream",
     "text": [
      "Elapsed [4:05:57.872987], G_step [125550/1000000], D_step[125550/1000000], d_out_real: 0.0450, d_out_fake: 0.0001, g_loss_fake: 1.0602\r\n"
     ]
    },
    {
     "name": "stdout",
     "output_type": "stream",
     "text": [
      "Elapsed [4:06:08.787530], G_step [125560/1000000], D_step[125560/1000000], d_out_real: 0.0702, d_out_fake: 0.0000, g_loss_fake: 1.0964\r\n"
     ]
    },
    {
     "name": "stdout",
     "output_type": "stream",
     "text": [
      "Elapsed [4:06:20.284369], G_step [125570/1000000], D_step[125570/1000000], d_out_real: 0.0000, d_out_fake: 0.0000, g_loss_fake: 1.1739\r\n"
     ]
    },
    {
     "name": "stdout",
     "output_type": "stream",
     "text": [
      "Elapsed [4:06:31.275262], G_step [125580/1000000], D_step[125580/1000000], d_out_real: 0.0000, d_out_fake: 0.0730, g_loss_fake: 1.1028\r\n"
     ]
    },
    {
     "name": "stdout",
     "output_type": "stream",
     "text": [
      "Elapsed [4:06:42.760479], G_step [125590/1000000], D_step[125590/1000000], d_out_real: 0.0487, d_out_fake: 0.0000, g_loss_fake: 1.0015\r\n"
     ]
    },
    {
     "name": "stdout",
     "output_type": "stream",
     "text": [
      "Elapsed [4:06:54.075403], G_step [125600/1000000], D_step[125600/1000000], d_out_real: 0.0005, d_out_fake: 0.0000, g_loss_fake: 1.0875\r\n"
     ]
    },
    {
     "name": "stdout",
     "output_type": "stream",
     "text": [
      "Elapsed [4:07:05.600090], G_step [125610/1000000], D_step[125610/1000000], d_out_real: 0.0042, d_out_fake: 0.0000, g_loss_fake: 1.0149\r\n"
     ]
    },
    {
     "name": "stdout",
     "output_type": "stream",
     "text": [
      "Elapsed [4:07:16.825972], G_step [125620/1000000], D_step[125620/1000000], d_out_real: 0.0628, d_out_fake: 0.0000, g_loss_fake: 1.1089\r\n"
     ]
    },
    {
     "name": "stdout",
     "output_type": "stream",
     "text": [
      "Elapsed [4:07:28.427508], G_step [125630/1000000], D_step[125630/1000000], d_out_real: 0.1093, d_out_fake: 0.0015, g_loss_fake: 1.0508\r\n"
     ]
    },
    {
     "name": "stdout",
     "output_type": "stream",
     "text": [
      "Elapsed [4:07:39.072533], G_step [125640/1000000], D_step[125640/1000000], d_out_real: 0.0598, d_out_fake: 0.0382, g_loss_fake: 1.1474\r\n"
     ]
    },
    {
     "name": "stdout",
     "output_type": "stream",
     "text": [
      "Elapsed [4:07:50.431075], G_step [125650/1000000], D_step[125650/1000000], d_out_real: 0.0000, d_out_fake: 0.0000, g_loss_fake: 1.1736\r\n"
     ]
    },
    {
     "name": "stdout",
     "output_type": "stream",
     "text": [
      "Elapsed [4:08:02.155144], G_step [125660/1000000], D_step[125660/1000000], d_out_real: 0.0217, d_out_fake: 0.1219, g_loss_fake: 1.1250\r\n"
     ]
    },
    {
     "name": "stdout",
     "output_type": "stream",
     "text": [
      "Elapsed [4:08:12.977293], G_step [125670/1000000], D_step[125670/1000000], d_out_real: 0.1772, d_out_fake: 0.1009, g_loss_fake: 1.0826\r\n"
     ]
    },
    {
     "name": "stdout",
     "output_type": "stream",
     "text": [
      "Elapsed [4:08:23.930495], G_step [125680/1000000], D_step[125680/1000000], d_out_real: 0.0631, d_out_fake: 0.0043, g_loss_fake: 1.0959\r\n"
     ]
    },
    {
     "name": "stdout",
     "output_type": "stream",
     "text": [
      "Elapsed [4:08:35.143654], G_step [125690/1000000], D_step[125690/1000000], d_out_real: 0.0000, d_out_fake: 0.0060, g_loss_fake: 1.2092\r\n"
     ]
    },
    {
     "name": "stdout",
     "output_type": "stream",
     "text": [
      "Elapsed [4:08:46.154259], G_step [125700/1000000], D_step[125700/1000000], d_out_real: 0.0582, d_out_fake: 0.0033, g_loss_fake: 1.0560\r\n"
     ]
    },
    {
     "name": "stdout",
     "output_type": "stream",
     "text": [
      "Elapsed [4:08:56.996775], G_step [125710/1000000], D_step[125710/1000000], d_out_real: 0.0267, d_out_fake: 0.0006, g_loss_fake: 0.8080\r\n"
     ]
    },
    {
     "name": "stdout",
     "output_type": "stream",
     "text": [
      "Elapsed [4:09:08.020599], G_step [125720/1000000], D_step[125720/1000000], d_out_real: 0.0768, d_out_fake: 0.0718, g_loss_fake: 1.0553\r\n"
     ]
    },
    {
     "name": "stdout",
     "output_type": "stream",
     "text": [
      "Elapsed [4:09:19.070760], G_step [125730/1000000], D_step[125730/1000000], d_out_real: 0.0822, d_out_fake: 0.0449, g_loss_fake: 1.1568\r\n"
     ]
    },
    {
     "name": "stdout",
     "output_type": "stream",
     "text": [
      "Elapsed [4:09:30.012417], G_step [125740/1000000], D_step[125740/1000000], d_out_real: 0.0666, d_out_fake: 0.1967, g_loss_fake: 1.1653\r\n"
     ]
    },
    {
     "name": "stdout",
     "output_type": "stream",
     "text": [
      "Elapsed [4:09:40.910704], G_step [125750/1000000], D_step[125750/1000000], d_out_real: 0.1212, d_out_fake: 0.0000, g_loss_fake: 1.0089\r\n"
     ]
    },
    {
     "name": "stdout",
     "output_type": "stream",
     "text": [
      "Elapsed [4:09:51.811930], G_step [125760/1000000], D_step[125760/1000000], d_out_real: 0.0459, d_out_fake: 0.1103, g_loss_fake: 1.1440\r\n"
     ]
    },
    {
     "name": "stdout",
     "output_type": "stream",
     "text": [
      "Elapsed [4:10:02.729405], G_step [125770/1000000], D_step[125770/1000000], d_out_real: 0.0602, d_out_fake: 0.0639, g_loss_fake: 1.1080\r\n"
     ]
    },
    {
     "name": "stdout",
     "output_type": "stream",
     "text": [
      "Elapsed [4:10:13.561251], G_step [125780/1000000], D_step[125780/1000000], d_out_real: 0.0000, d_out_fake: 0.0384, g_loss_fake: 1.1986\r\n"
     ]
    },
    {
     "name": "stdout",
     "output_type": "stream",
     "text": [
      "Elapsed [4:10:24.103524], G_step [125790/1000000], D_step[125790/1000000], d_out_real: 0.1619, d_out_fake: 0.0000, g_loss_fake: 1.0064\r\n"
     ]
    },
    {
     "name": "stdout",
     "output_type": "stream",
     "text": [
      "Elapsed [4:10:35.466096], G_step [125800/1000000], D_step[125800/1000000], d_out_real: 0.0013, d_out_fake: 0.0002, g_loss_fake: 1.0784\r\n"
     ]
    },
    {
     "name": "stdout",
     "output_type": "stream",
     "text": [
      "Elapsed [4:10:46.633578], G_step [125810/1000000], D_step[125810/1000000], d_out_real: 0.0652, d_out_fake: 0.1190, g_loss_fake: 1.0944\r\n"
     ]
    },
    {
     "name": "stdout",
     "output_type": "stream",
     "text": [
      "Elapsed [4:10:57.424583], G_step [125820/1000000], D_step[125820/1000000], d_out_real: 0.1363, d_out_fake: 0.0231, g_loss_fake: 1.0472\r\n"
     ]
    },
    {
     "name": "stdout",
     "output_type": "stream",
     "text": [
      "Elapsed [4:11:09.501016], G_step [125830/1000000], D_step[125830/1000000], d_out_real: 0.0001, d_out_fake: 0.2203, g_loss_fake: 1.0908\r\n"
     ]
    },
    {
     "name": "stdout",
     "output_type": "stream",
     "text": [
      "Elapsed [4:11:20.369787], G_step [125840/1000000], D_step[125840/1000000], d_out_real: 0.0000, d_out_fake: 0.1297, g_loss_fake: 1.1193\r\n"
     ]
    },
    {
     "name": "stdout",
     "output_type": "stream",
     "text": [
      "Elapsed [4:11:31.465188], G_step [125850/1000000], D_step[125850/1000000], d_out_real: 0.0000, d_out_fake: 0.0000, g_loss_fake: 1.0680\r\n"
     ]
    },
    {
     "name": "stdout",
     "output_type": "stream",
     "text": [
      "Elapsed [4:11:42.398924], G_step [125860/1000000], D_step[125860/1000000], d_out_real: 0.0183, d_out_fake: 0.0151, g_loss_fake: 1.0681\r\n"
     ]
    },
    {
     "name": "stdout",
     "output_type": "stream",
     "text": [
      "Elapsed [4:11:54.414333], G_step [125870/1000000], D_step[125870/1000000], d_out_real: 0.0009, d_out_fake: 0.0006, g_loss_fake: 1.0507\r\n"
     ]
    },
    {
     "name": "stdout",
     "output_type": "stream",
     "text": [
      "Elapsed [4:12:05.070266], G_step [125880/1000000], D_step[125880/1000000], d_out_real: 0.0641, d_out_fake: 0.0000, g_loss_fake: 1.0761\r\n"
     ]
    },
    {
     "name": "stdout",
     "output_type": "stream",
     "text": [
      "Elapsed [4:12:16.151722], G_step [125890/1000000], D_step[125890/1000000], d_out_real: 0.1024, d_out_fake: 0.0022, g_loss_fake: 1.0758\r\n"
     ]
    },
    {
     "name": "stdout",
     "output_type": "stream",
     "text": [
      "Elapsed [4:12:27.611865], G_step [125900/1000000], D_step[125900/1000000], d_out_real: 0.0000, d_out_fake: 0.0616, g_loss_fake: 1.0560\r\n"
     ]
    },
    {
     "name": "stdout",
     "output_type": "stream",
     "text": [
      "Elapsed [4:12:38.825972], G_step [125910/1000000], D_step[125910/1000000], d_out_real: 0.0999, d_out_fake: 0.0803, g_loss_fake: 0.9495\r\n"
     ]
    },
    {
     "name": "stdout",
     "output_type": "stream",
     "text": [
      "Elapsed [4:12:49.776988], G_step [125920/1000000], D_step[125920/1000000], d_out_real: 0.0000, d_out_fake: 0.0000, g_loss_fake: 1.1086\r\n"
     ]
    },
    {
     "name": "stdout",
     "output_type": "stream",
     "text": [
      "Elapsed [4:13:00.537164], G_step [125930/1000000], D_step[125930/1000000], d_out_real: 0.0087, d_out_fake: 0.0273, g_loss_fake: 1.1196\r\n"
     ]
    },
    {
     "name": "stdout",
     "output_type": "stream",
     "text": [
      "Elapsed [4:13:11.766769], G_step [125940/1000000], D_step[125940/1000000], d_out_real: 0.1181, d_out_fake: 0.0015, g_loss_fake: 1.0846\r\n"
     ]
    },
    {
     "name": "stdout",
     "output_type": "stream",
     "text": [
      "Elapsed [4:13:22.860454], G_step [125950/1000000], D_step[125950/1000000], d_out_real: 0.1210, d_out_fake: 0.0008, g_loss_fake: 1.0259\r\n"
     ]
    },
    {
     "name": "stdout",
     "output_type": "stream",
     "text": [
      "Elapsed [4:13:33.510272], G_step [125960/1000000], D_step[125960/1000000], d_out_real: 0.0647, d_out_fake: 0.0259, g_loss_fake: 1.1288\r\n"
     ]
    },
    {
     "name": "stdout",
     "output_type": "stream",
     "text": [
      "Elapsed [4:13:44.323442], G_step [125970/1000000], D_step[125970/1000000], d_out_real: 0.1301, d_out_fake: 0.0471, g_loss_fake: 1.0820\r\n"
     ]
    },
    {
     "name": "stdout",
     "output_type": "stream",
     "text": [
      "Elapsed [4:13:55.044101], G_step [125980/1000000], D_step[125980/1000000], d_out_real: 0.0014, d_out_fake: 0.1174, g_loss_fake: 1.0133\r\n"
     ]
    },
    {
     "name": "stdout",
     "output_type": "stream",
     "text": [
      "Elapsed [4:14:06.037354], G_step [125990/1000000], D_step[125990/1000000], d_out_real: 0.0646, d_out_fake: 0.1004, g_loss_fake: 1.1886\r\n"
     ]
    },
    {
     "name": "stdout",
     "output_type": "stream",
     "text": [
      "Elapsed [4:14:17.102864], G_step [126000/1000000], D_step[126000/1000000], d_out_real: 0.0526, d_out_fake: 0.0696, g_loss_fake: 0.8995\r\n",
      "Sample images 126000_fake.png\r\n"
     ]
    },
    {
     "name": "stdout",
     "output_type": "stream",
     "text": [
      "Elapsed [4:14:28.433515], G_step [126010/1000000], D_step[126010/1000000], d_out_real: 0.0109, d_out_fake: 0.0000, g_loss_fake: 0.9917\r\n"
     ]
    },
    {
     "name": "stdout",
     "output_type": "stream",
     "text": [
      "Elapsed [4:14:40.021486], G_step [126020/1000000], D_step[126020/1000000], d_out_real: 0.0759, d_out_fake: 0.0566, g_loss_fake: 0.9222\r\n"
     ]
    },
    {
     "name": "stdout",
     "output_type": "stream",
     "text": [
      "Elapsed [4:14:51.178497], G_step [126030/1000000], D_step[126030/1000000], d_out_real: 0.0000, d_out_fake: 0.0001, g_loss_fake: 1.0946\r\n"
     ]
    },
    {
     "name": "stdout",
     "output_type": "stream",
     "text": [
      "Elapsed [4:15:02.224432], G_step [126040/1000000], D_step[126040/1000000], d_out_real: 0.1275, d_out_fake: 0.0001, g_loss_fake: 1.0459\r\n"
     ]
    },
    {
     "name": "stdout",
     "output_type": "stream",
     "text": [
      "Elapsed [4:15:13.313529], G_step [126050/1000000], D_step[126050/1000000], d_out_real: 0.1927, d_out_fake: 0.0655, g_loss_fake: 0.8927\r\n"
     ]
    },
    {
     "name": "stdout",
     "output_type": "stream",
     "text": [
      "Elapsed [4:15:23.982075], G_step [126060/1000000], D_step[126060/1000000], d_out_real: 0.0630, d_out_fake: 0.0000, g_loss_fake: 1.1309\r\n"
     ]
    },
    {
     "name": "stdout",
     "output_type": "stream",
     "text": [
      "Elapsed [4:15:34.594008], G_step [126070/1000000], D_step[126070/1000000], d_out_real: 0.0769, d_out_fake: 0.0000, g_loss_fake: 0.9718\r\n"
     ]
    },
    {
     "name": "stdout",
     "output_type": "stream",
     "text": [
      "Elapsed [4:15:45.522566], G_step [126080/1000000], D_step[126080/1000000], d_out_real: 0.0000, d_out_fake: 0.0018, g_loss_fake: 1.1360\r\n"
     ]
    },
    {
     "name": "stdout",
     "output_type": "stream",
     "text": [
      "Elapsed [4:15:56.151924], G_step [126090/1000000], D_step[126090/1000000], d_out_real: 0.0000, d_out_fake: 0.0432, g_loss_fake: 1.1136\r\n"
     ]
    },
    {
     "name": "stdout",
     "output_type": "stream",
     "text": [
      "Elapsed [4:16:06.933597], G_step [126100/1000000], D_step[126100/1000000], d_out_real: 0.0662, d_out_fake: 0.0104, g_loss_fake: 1.0569\r\n"
     ]
    },
    {
     "name": "stdout",
     "output_type": "stream",
     "text": [
      "Elapsed [4:16:17.786626], G_step [126110/1000000], D_step[126110/1000000], d_out_real: 0.0000, d_out_fake: 0.0823, g_loss_fake: 1.1810\r\n"
     ]
    },
    {
     "name": "stdout",
     "output_type": "stream",
     "text": [
      "Elapsed [4:16:28.570780], G_step [126120/1000000], D_step[126120/1000000], d_out_real: 0.1277, d_out_fake: 0.0019, g_loss_fake: 1.1364\r\n"
     ]
    },
    {
     "name": "stdout",
     "output_type": "stream",
     "text": [
      "Elapsed [4:16:39.688740], G_step [126130/1000000], D_step[126130/1000000], d_out_real: 0.1230, d_out_fake: 0.0010, g_loss_fake: 1.0674\r\n"
     ]
    },
    {
     "name": "stdout",
     "output_type": "stream",
     "text": [
      "Elapsed [4:16:50.336578], G_step [126140/1000000], D_step[126140/1000000], d_out_real: 0.0000, d_out_fake: 0.1590, g_loss_fake: 1.1810\r\n"
     ]
    },
    {
     "name": "stdout",
     "output_type": "stream",
     "text": [
      "Elapsed [4:17:01.364568], G_step [126150/1000000], D_step[126150/1000000], d_out_real: 0.1242, d_out_fake: 0.0158, g_loss_fake: 1.0596\r\n"
     ]
    },
    {
     "name": "stdout",
     "output_type": "stream",
     "text": [
      "Elapsed [4:17:12.390146], G_step [126160/1000000], D_step[126160/1000000], d_out_real: 0.0133, d_out_fake: 0.0000, g_loss_fake: 1.1534\r\n"
     ]
    },
    {
     "name": "stdout",
     "output_type": "stream",
     "text": [
      "Elapsed [4:17:24.263318], G_step [126170/1000000], D_step[126170/1000000], d_out_real: 0.0152, d_out_fake: 0.0000, g_loss_fake: 0.9891\r\n"
     ]
    },
    {
     "name": "stdout",
     "output_type": "stream",
     "text": [
      "Elapsed [4:17:35.450727], G_step [126180/1000000], D_step[126180/1000000], d_out_real: 0.1029, d_out_fake: 0.0044, g_loss_fake: 0.8400\r\n"
     ]
    },
    {
     "name": "stdout",
     "output_type": "stream",
     "text": [
      "Elapsed [4:17:46.154868], G_step [126190/1000000], D_step[126190/1000000], d_out_real: 0.0537, d_out_fake: 0.0025, g_loss_fake: 1.0816\r\n"
     ]
    },
    {
     "name": "stdout",
     "output_type": "stream",
     "text": [
      "Elapsed [4:17:57.032751], G_step [126200/1000000], D_step[126200/1000000], d_out_real: 0.0241, d_out_fake: 0.0000, g_loss_fake: 0.9039\r\n"
     ]
    },
    {
     "name": "stdout",
     "output_type": "stream",
     "text": [
      "Elapsed [4:18:08.078054], G_step [126210/1000000], D_step[126210/1000000], d_out_real: 0.1263, d_out_fake: 0.0000, g_loss_fake: 1.1597\r\n"
     ]
    },
    {
     "name": "stdout",
     "output_type": "stream",
     "text": [
      "Elapsed [4:18:18.955453], G_step [126220/1000000], D_step[126220/1000000], d_out_real: 0.0628, d_out_fake: 0.0510, g_loss_fake: 1.0333\r\n"
     ]
    },
    {
     "name": "stdout",
     "output_type": "stream",
     "text": [
      "Elapsed [4:18:30.634206], G_step [126230/1000000], D_step[126230/1000000], d_out_real: 0.0354, d_out_fake: 0.0012, g_loss_fake: 1.0333\r\n"
     ]
    },
    {
     "name": "stdout",
     "output_type": "stream",
     "text": [
      "Elapsed [4:18:41.218968], G_step [126240/1000000], D_step[126240/1000000], d_out_real: 0.1302, d_out_fake: 0.0000, g_loss_fake: 1.0786\r\n"
     ]
    },
    {
     "name": "stdout",
     "output_type": "stream",
     "text": [
      "Elapsed [4:18:51.889960], G_step [126250/1000000], D_step[126250/1000000], d_out_real: 0.0638, d_out_fake: 0.0000, g_loss_fake: 1.0612\r\n"
     ]
    },
    {
     "name": "stdout",
     "output_type": "stream",
     "text": [
      "Elapsed [4:19:03.199509], G_step [126260/1000000], D_step[126260/1000000], d_out_real: 0.0629, d_out_fake: 0.0276, g_loss_fake: 1.1094\r\n"
     ]
    },
    {
     "name": "stdout",
     "output_type": "stream",
     "text": [
      "Elapsed [4:19:14.215914], G_step [126270/1000000], D_step[126270/1000000], d_out_real: 0.0649, d_out_fake: 0.0745, g_loss_fake: 1.0615\r\n"
     ]
    },
    {
     "name": "stdout",
     "output_type": "stream",
     "text": [
      "Elapsed [4:19:24.827052], G_step [126280/1000000], D_step[126280/1000000], d_out_real: 0.1312, d_out_fake: 0.0024, g_loss_fake: 1.0650\r\n"
     ]
    },
    {
     "name": "stdout",
     "output_type": "stream",
     "text": [
      "Elapsed [4:19:36.572571], G_step [126290/1000000], D_step[126290/1000000], d_out_real: 0.0670, d_out_fake: 0.0040, g_loss_fake: 1.1499\r\n"
     ]
    },
    {
     "name": "stdout",
     "output_type": "stream",
     "text": [
      "Elapsed [4:19:47.854316], G_step [126300/1000000], D_step[126300/1000000], d_out_real: 0.0000, d_out_fake: 0.0000, g_loss_fake: 1.0125\r\n"
     ]
    },
    {
     "name": "stdout",
     "output_type": "stream",
     "text": [
      "Elapsed [4:19:58.677087], G_step [126310/1000000], D_step[126310/1000000], d_out_real: 0.0000, d_out_fake: 0.1527, g_loss_fake: 1.1443\r\n"
     ]
    },
    {
     "name": "stdout",
     "output_type": "stream",
     "text": [
      "Elapsed [4:20:09.875004], G_step [126320/1000000], D_step[126320/1000000], d_out_real: 0.1320, d_out_fake: 0.0000, g_loss_fake: 1.1210\r\n"
     ]
    },
    {
     "name": "stdout",
     "output_type": "stream",
     "text": [
      "Elapsed [4:20:21.079374], G_step [126330/1000000], D_step[126330/1000000], d_out_real: 0.0694, d_out_fake: 0.0000, g_loss_fake: 0.9639\r\n"
     ]
    },
    {
     "name": "stdout",
     "output_type": "stream",
     "text": [
      "Elapsed [4:20:31.827091], G_step [126340/1000000], D_step[126340/1000000], d_out_real: 0.0655, d_out_fake: 0.0000, g_loss_fake: 1.0941\r\n"
     ]
    },
    {
     "name": "stdout",
     "output_type": "stream",
     "text": [
      "Elapsed [4:20:43.473121], G_step [126350/1000000], D_step[126350/1000000], d_out_real: 0.0708, d_out_fake: 0.0000, g_loss_fake: 1.1239\r\n"
     ]
    },
    {
     "name": "stdout",
     "output_type": "stream",
     "text": [
      "Elapsed [4:20:55.381187], G_step [126360/1000000], D_step[126360/1000000], d_out_real: 0.0482, d_out_fake: 0.0963, g_loss_fake: 1.0261\r\n"
     ]
    },
    {
     "name": "stdout",
     "output_type": "stream",
     "text": [
      "Elapsed [4:21:06.821845], G_step [126370/1000000], D_step[126370/1000000], d_out_real: 0.0647, d_out_fake: 0.0061, g_loss_fake: 1.0969\r\n"
     ]
    },
    {
     "name": "stdout",
     "output_type": "stream",
     "text": [
      "Elapsed [4:21:18.787577], G_step [126380/1000000], D_step[126380/1000000], d_out_real: 0.0514, d_out_fake: 0.0370, g_loss_fake: 1.1016\r\n"
     ]
    },
    {
     "name": "stdout",
     "output_type": "stream",
     "text": [
      "Elapsed [4:21:29.540060], G_step [126390/1000000], D_step[126390/1000000], d_out_real: 0.0647, d_out_fake: 0.0266, g_loss_fake: 1.1744\r\n"
     ]
    },
    {
     "name": "stdout",
     "output_type": "stream",
     "text": [
      "Elapsed [4:21:40.499158], G_step [126400/1000000], D_step[126400/1000000], d_out_real: 0.0418, d_out_fake: 0.0074, g_loss_fake: 1.1205\r\n"
     ]
    },
    {
     "name": "stdout",
     "output_type": "stream",
     "text": [
      "Elapsed [4:21:51.367923], G_step [126410/1000000], D_step[126410/1000000], d_out_real: 0.1230, d_out_fake: 0.0001, g_loss_fake: 1.1582\r\n"
     ]
    },
    {
     "name": "stdout",
     "output_type": "stream",
     "text": [
      "Elapsed [4:22:02.436331], G_step [126420/1000000], D_step[126420/1000000], d_out_real: 0.0000, d_out_fake: 0.0057, g_loss_fake: 1.1543\r\n"
     ]
    },
    {
     "name": "stdout",
     "output_type": "stream",
     "text": [
      "Elapsed [4:22:14.019679], G_step [126430/1000000], D_step[126430/1000000], d_out_real: 0.0000, d_out_fake: 0.0816, g_loss_fake: 1.1506\r\n"
     ]
    },
    {
     "name": "stdout",
     "output_type": "stream",
     "text": [
      "Elapsed [4:22:24.628739], G_step [126440/1000000], D_step[126440/1000000], d_out_real: 0.2068, d_out_fake: 0.0487, g_loss_fake: 1.0846\r\n"
     ]
    },
    {
     "name": "stdout",
     "output_type": "stream",
     "text": [
      "Elapsed [4:22:35.611523], G_step [126450/1000000], D_step[126450/1000000], d_out_real: 0.0640, d_out_fake: 0.0048, g_loss_fake: 1.0505\r\n"
     ]
    },
    {
     "name": "stdout",
     "output_type": "stream",
     "text": [
      "Elapsed [4:22:47.692428], G_step [126460/1000000], D_step[126460/1000000], d_out_real: 0.1338, d_out_fake: 0.0000, g_loss_fake: 1.0942\r\n"
     ]
    },
    {
     "name": "stdout",
     "output_type": "stream",
     "text": [
      "Elapsed [4:22:59.219810], G_step [126470/1000000], D_step[126470/1000000], d_out_real: 0.0714, d_out_fake: 0.0005, g_loss_fake: 0.9968\r\n"
     ]
    },
    {
     "name": "stdout",
     "output_type": "stream",
     "text": [
      "Elapsed [4:23:10.033111], G_step [126480/1000000], D_step[126480/1000000], d_out_real: 0.1605, d_out_fake: 0.0547, g_loss_fake: 1.0189\r\n"
     ]
    },
    {
     "name": "stdout",
     "output_type": "stream",
     "text": [
      "Elapsed [4:23:21.678958], G_step [126490/1000000], D_step[126490/1000000], d_out_real: 0.0693, d_out_fake: 0.0000, g_loss_fake: 1.0183\r\n"
     ]
    },
    {
     "name": "stdout",
     "output_type": "stream",
     "text": [
      "Elapsed [4:23:32.435740], G_step [126500/1000000], D_step[126500/1000000], d_out_real: 0.0652, d_out_fake: 0.0000, g_loss_fake: 1.0883\r\n"
     ]
    },
    {
     "name": "stdout",
     "output_type": "stream",
     "text": [
      "Elapsed [4:23:43.230680], G_step [126510/1000000], D_step[126510/1000000], d_out_real: 0.1035, d_out_fake: 0.0000, g_loss_fake: 1.0835\r\n"
     ]
    },
    {
     "name": "stdout",
     "output_type": "stream",
     "text": [
      "Elapsed [4:23:53.899470], G_step [126520/1000000], D_step[126520/1000000], d_out_real: 0.0000, d_out_fake: 0.0618, g_loss_fake: 0.9271\r\n"
     ]
    },
    {
     "name": "stdout",
     "output_type": "stream",
     "text": [
      "save torch\r\n"
     ]
    },
    {
     "name": "stdout",
     "output_type": "stream",
     "text": [
      "Elapsed [4:24:05.385714], G_step [126530/1000000], D_step[126530/1000000], d_out_real: 0.0000, d_out_fake: 0.0972, g_loss_fake: 1.1506\r\n"
     ]
    },
    {
     "name": "stdout",
     "output_type": "stream",
     "text": [
      "Elapsed [4:24:17.475159], G_step [126540/1000000], D_step[126540/1000000], d_out_real: 0.1555, d_out_fake: 0.0008, g_loss_fake: 0.7449\r\n"
     ]
    },
    {
     "name": "stdout",
     "output_type": "stream",
     "text": [
      "Elapsed [4:24:29.294627], G_step [126550/1000000], D_step[126550/1000000], d_out_real: 0.1691, d_out_fake: 0.0083, g_loss_fake: 1.0759\r\n"
     ]
    },
    {
     "name": "stdout",
     "output_type": "stream",
     "text": [
      "Elapsed [4:24:39.874973], G_step [126560/1000000], D_step[126560/1000000], d_out_real: 0.0366, d_out_fake: 0.1594, g_loss_fake: 1.0333\r\n"
     ]
    },
    {
     "name": "stdout",
     "output_type": "stream",
     "text": [
      "Elapsed [4:24:51.145450], G_step [126570/1000000], D_step[126570/1000000], d_out_real: 0.1916, d_out_fake: 0.0873, g_loss_fake: 1.0125\r\n"
     ]
    },
    {
     "name": "stdout",
     "output_type": "stream",
     "text": [
      "Elapsed [4:25:02.453815], G_step [126580/1000000], D_step[126580/1000000], d_out_real: 0.0013, d_out_fake: 0.0000, g_loss_fake: 1.0970\r\n"
     ]
    },
    {
     "name": "stdout",
     "output_type": "stream",
     "text": [
      "Elapsed [4:25:13.390879], G_step [126590/1000000], D_step[126590/1000000], d_out_real: 0.0000, d_out_fake: 0.0441, g_loss_fake: 1.1665\r\n"
     ]
    },
    {
     "name": "stdout",
     "output_type": "stream",
     "text": [
      "Elapsed [4:25:25.093651], G_step [126600/1000000], D_step[126600/1000000], d_out_real: 0.0049, d_out_fake: 0.0000, g_loss_fake: 1.1101\r\n"
     ]
    },
    {
     "name": "stdout",
     "output_type": "stream",
     "text": [
      "Elapsed [4:25:36.069115], G_step [126610/1000000], D_step[126610/1000000], d_out_real: 0.0620, d_out_fake: 0.0533, g_loss_fake: 1.1304\r\n"
     ]
    },
    {
     "name": "stdout",
     "output_type": "stream",
     "text": [
      "Elapsed [4:25:46.790966], G_step [126620/1000000], D_step[126620/1000000], d_out_real: 0.1400, d_out_fake: 0.0000, g_loss_fake: 0.9918\r\n"
     ]
    },
    {
     "name": "stdout",
     "output_type": "stream",
     "text": [
      "Elapsed [4:25:57.541917], G_step [126630/1000000], D_step[126630/1000000], d_out_real: 0.1396, d_out_fake: 0.0686, g_loss_fake: 1.1049\r\n"
     ]
    },
    {
     "name": "stdout",
     "output_type": "stream",
     "text": [
      "Elapsed [4:26:08.317397], G_step [126640/1000000], D_step[126640/1000000], d_out_real: 0.0783, d_out_fake: 0.0000, g_loss_fake: 0.9963\r\n"
     ]
    },
    {
     "name": "stdout",
     "output_type": "stream",
     "text": [
      "Elapsed [4:26:20.210054], G_step [126650/1000000], D_step[126650/1000000], d_out_real: 0.1221, d_out_fake: 0.0000, g_loss_fake: 1.0669\r\n"
     ]
    },
    {
     "name": "stdout",
     "output_type": "stream",
     "text": [
      "Elapsed [4:26:31.619722], G_step [126660/1000000], D_step[126660/1000000], d_out_real: 0.1224, d_out_fake: 0.0648, g_loss_fake: 1.1207\r\n"
     ]
    },
    {
     "name": "stdout",
     "output_type": "stream",
     "text": [
      "Elapsed [4:26:42.446321], G_step [126670/1000000], D_step[126670/1000000], d_out_real: 0.0767, d_out_fake: 0.0000, g_loss_fake: 1.0716\r\n"
     ]
    },
    {
     "name": "stdout",
     "output_type": "stream",
     "text": [
      "Elapsed [4:26:53.718333], G_step [126680/1000000], D_step[126680/1000000], d_out_real: 0.1772, d_out_fake: 0.0283, g_loss_fake: 1.0482\r\n"
     ]
    },
    {
     "name": "stdout",
     "output_type": "stream",
     "text": [
      "Elapsed [4:27:04.337072], G_step [126690/1000000], D_step[126690/1000000], d_out_real: 0.1280, d_out_fake: 0.0690, g_loss_fake: 0.9848\r\n"
     ]
    },
    {
     "name": "stdout",
     "output_type": "stream",
     "text": [
      "Elapsed [4:27:15.246294], G_step [126700/1000000], D_step[126700/1000000], d_out_real: 0.0653, d_out_fake: 0.0000, g_loss_fake: 1.0632\r\n"
     ]
    },
    {
     "name": "stdout",
     "output_type": "stream",
     "text": [
      "Elapsed [4:27:25.944852], G_step [126710/1000000], D_step[126710/1000000], d_out_real: 0.0147, d_out_fake: 0.0741, g_loss_fake: 0.9504\r\n"
     ]
    },
    {
     "name": "stdout",
     "output_type": "stream",
     "text": [
      "Elapsed [4:27:36.581163], G_step [126720/1000000], D_step[126720/1000000], d_out_real: 0.0644, d_out_fake: 0.0000, g_loss_fake: 1.0556\r\n"
     ]
    },
    {
     "name": "stdout",
     "output_type": "stream",
     "text": [
      "Elapsed [4:27:47.745548], G_step [126730/1000000], D_step[126730/1000000], d_out_real: 0.1134, d_out_fake: 0.0000, g_loss_fake: 0.9641\r\n"
     ]
    },
    {
     "name": "stdout",
     "output_type": "stream",
     "text": [
      "Elapsed [4:27:58.865085], G_step [126740/1000000], D_step[126740/1000000], d_out_real: 0.0022, d_out_fake: 0.1215, g_loss_fake: 0.9005\r\n"
     ]
    },
    {
     "name": "stdout",
     "output_type": "stream",
     "text": [
      "Elapsed [4:28:09.837910], G_step [126750/1000000], D_step[126750/1000000], d_out_real: 0.0000, d_out_fake: 0.0532, g_loss_fake: 1.1027\r\n"
     ]
    },
    {
     "name": "stdout",
     "output_type": "stream",
     "text": [
      "Elapsed [4:28:20.424023], G_step [126760/1000000], D_step[126760/1000000], d_out_real: 0.1242, d_out_fake: 0.1399, g_loss_fake: 1.1681\r\n"
     ]
    },
    {
     "name": "stdout",
     "output_type": "stream",
     "text": [
      "Elapsed [4:28:31.199765], G_step [126770/1000000], D_step[126770/1000000], d_out_real: 0.3155, d_out_fake: 0.0000, g_loss_fake: 1.0103\r\n"
     ]
    },
    {
     "name": "stdout",
     "output_type": "stream",
     "text": [
      "Elapsed [4:28:42.321532], G_step [126780/1000000], D_step[126780/1000000], d_out_real: 0.0009, d_out_fake: 0.0000, g_loss_fake: 1.0171\r\n"
     ]
    },
    {
     "name": "stdout",
     "output_type": "stream",
     "text": [
      "Elapsed [4:28:53.549379], G_step [126790/1000000], D_step[126790/1000000], d_out_real: 0.0616, d_out_fake: 0.0137, g_loss_fake: 1.0589\r\n"
     ]
    },
    {
     "name": "stdout",
     "output_type": "stream",
     "text": [
      "Elapsed [4:29:04.213803], G_step [126800/1000000], D_step[126800/1000000], d_out_real: 0.1876, d_out_fake: 0.0000, g_loss_fake: 1.0186\r\n"
     ]
    },
    {
     "name": "stdout",
     "output_type": "stream",
     "text": [
      "Elapsed [4:29:15.092383], G_step [126810/1000000], D_step[126810/1000000], d_out_real: 0.0000, d_out_fake: 0.0073, g_loss_fake: 1.0752\r\n"
     ]
    },
    {
     "name": "stdout",
     "output_type": "stream",
     "text": [
      "Elapsed [4:29:27.053977], G_step [126820/1000000], D_step[126820/1000000], d_out_real: 0.0440, d_out_fake: 0.0000, g_loss_fake: 1.0923\r\n"
     ]
    },
    {
     "name": "stdout",
     "output_type": "stream",
     "text": [
      "Elapsed [4:29:38.024635], G_step [126830/1000000], D_step[126830/1000000], d_out_real: 0.1112, d_out_fake: 0.0000, g_loss_fake: 1.1077\r\n"
     ]
    },
    {
     "name": "stdout",
     "output_type": "stream",
     "text": [
      "Elapsed [4:29:48.813693], G_step [126840/1000000], D_step[126840/1000000], d_out_real: 0.2070, d_out_fake: 0.0022, g_loss_fake: 1.0750\r\n"
     ]
    },
    {
     "name": "stdout",
     "output_type": "stream",
     "text": [
      "Elapsed [4:29:59.648390], G_step [126850/1000000], D_step[126850/1000000], d_out_real: 0.1532, d_out_fake: 0.0506, g_loss_fake: 1.1196\r\n"
     ]
    },
    {
     "name": "stdout",
     "output_type": "stream",
     "text": [
      "Elapsed [4:30:10.288872], G_step [126860/1000000], D_step[126860/1000000], d_out_real: 0.0261, d_out_fake: 0.1896, g_loss_fake: 1.1053\r\n"
     ]
    },
    {
     "name": "stdout",
     "output_type": "stream",
     "text": [
      "Elapsed [4:30:21.226143], G_step [126870/1000000], D_step[126870/1000000], d_out_real: 0.0562, d_out_fake: 0.0409, g_loss_fake: 1.1104\r\n"
     ]
    },
    {
     "name": "stdout",
     "output_type": "stream",
     "text": [
      "Elapsed [4:30:32.221869], G_step [126880/1000000], D_step[126880/1000000], d_out_real: 0.0000, d_out_fake: 0.0000, g_loss_fake: 1.0334\r\n"
     ]
    },
    {
     "name": "stdout",
     "output_type": "stream",
     "text": [
      "Elapsed [4:30:42.928914], G_step [126890/1000000], D_step[126890/1000000], d_out_real: 0.0392, d_out_fake: 0.0293, g_loss_fake: 1.1673\r\n"
     ]
    },
    {
     "name": "stdout",
     "output_type": "stream",
     "text": [
      "Elapsed [4:30:53.494996], G_step [126900/1000000], D_step[126900/1000000], d_out_real: 0.0679, d_out_fake: 0.0000, g_loss_fake: 0.8337\r\n"
     ]
    },
    {
     "name": "stdout",
     "output_type": "stream",
     "text": [
      "Elapsed [4:31:04.470262], G_step [126910/1000000], D_step[126910/1000000], d_out_real: 0.1278, d_out_fake: 0.0705, g_loss_fake: 1.0230\r\n"
     ]
    },
    {
     "name": "stdout",
     "output_type": "stream",
     "text": [
      "Elapsed [4:31:15.913367], G_step [126920/1000000], D_step[126920/1000000], d_out_real: 0.0000, d_out_fake: 0.0034, g_loss_fake: 1.0808\r\n"
     ]
    },
    {
     "name": "stdout",
     "output_type": "stream",
     "text": [
      "Elapsed [4:31:26.740525], G_step [126930/1000000], D_step[126930/1000000], d_out_real: 0.0695, d_out_fake: 0.0007, g_loss_fake: 1.1074\r\n"
     ]
    },
    {
     "name": "stdout",
     "output_type": "stream",
     "text": [
      "Elapsed [4:31:38.296133], G_step [126940/1000000], D_step[126940/1000000], d_out_real: 0.0743, d_out_fake: 0.0103, g_loss_fake: 1.1809\r\n"
     ]
    },
    {
     "name": "stdout",
     "output_type": "stream",
     "text": [
      "Elapsed [4:31:49.289309], G_step [126950/1000000], D_step[126950/1000000], d_out_real: 0.0991, d_out_fake: 0.0000, g_loss_fake: 0.9210\r\n"
     ]
    },
    {
     "name": "stdout",
     "output_type": "stream",
     "text": [
      "Elapsed [4:31:59.883637], G_step [126960/1000000], D_step[126960/1000000], d_out_real: 0.1003, d_out_fake: 0.0003, g_loss_fake: 1.0326\r\n"
     ]
    },
    {
     "name": "stdout",
     "output_type": "stream",
     "text": [
      "Elapsed [4:32:10.665588], G_step [126970/1000000], D_step[126970/1000000], d_out_real: 0.0007, d_out_fake: 0.0659, g_loss_fake: 1.1571\r\n"
     ]
    },
    {
     "name": "stdout",
     "output_type": "stream",
     "text": [
      "Elapsed [4:32:21.679852], G_step [126980/1000000], D_step[126980/1000000], d_out_real: 0.1317, d_out_fake: 0.0202, g_loss_fake: 0.9474\r\n"
     ]
    },
    {
     "name": "stdout",
     "output_type": "stream",
     "text": [
      "Elapsed [4:32:32.447454], G_step [126990/1000000], D_step[126990/1000000], d_out_real: 0.0567, d_out_fake: 0.0000, g_loss_fake: 1.0083\r\n"
     ]
    },
    {
     "name": "stdout",
     "output_type": "stream",
     "text": [
      "Elapsed [4:32:43.238317], G_step [127000/1000000], D_step[127000/1000000], d_out_real: 0.1794, d_out_fake: 0.0810, g_loss_fake: 1.0671\r\n",
      "Sample images 127000_fake.png\r\n"
     ]
    },
    {
     "name": "stdout",
     "output_type": "stream",
     "text": [
      "Elapsed [4:32:54.464255], G_step [127010/1000000], D_step[127010/1000000], d_out_real: 0.0457, d_out_fake: 0.0000, g_loss_fake: 0.9553\r\n"
     ]
    },
    {
     "name": "stdout",
     "output_type": "stream",
     "text": [
      "Elapsed [4:33:05.321286], G_step [127020/1000000], D_step[127020/1000000], d_out_real: 0.0602, d_out_fake: 0.0017, g_loss_fake: 1.1044\r\n"
     ]
    },
    {
     "name": "stdout",
     "output_type": "stream",
     "text": [
      "Elapsed [4:33:16.708666], G_step [127030/1000000], D_step[127030/1000000], d_out_real: 0.1442, d_out_fake: 0.0000, g_loss_fake: 1.0950\r\n"
     ]
    },
    {
     "name": "stdout",
     "output_type": "stream",
     "text": [
      "Elapsed [4:33:27.745438], G_step [127040/1000000], D_step[127040/1000000], d_out_real: 0.0000, d_out_fake: 0.0429, g_loss_fake: 1.1094\r\n"
     ]
    },
    {
     "name": "stdout",
     "output_type": "stream",
     "text": [
      "Elapsed [4:33:39.486484], G_step [127050/1000000], D_step[127050/1000000], d_out_real: 0.0000, d_out_fake: 0.0000, g_loss_fake: 1.1110\r\n"
     ]
    },
    {
     "name": "stdout",
     "output_type": "stream",
     "text": [
      "Elapsed [4:33:50.529232], G_step [127060/1000000], D_step[127060/1000000], d_out_real: 0.0000, d_out_fake: 0.0165, g_loss_fake: 1.1181\r\n"
     ]
    },
    {
     "name": "stdout",
     "output_type": "stream",
     "text": [
      "Elapsed [4:34:01.199240], G_step [127070/1000000], D_step[127070/1000000], d_out_real: 0.1027, d_out_fake: 0.0007, g_loss_fake: 1.0615\r\n"
     ]
    },
    {
     "name": "stdout",
     "output_type": "stream",
     "text": [
      "Elapsed [4:34:12.041671], G_step [127080/1000000], D_step[127080/1000000], d_out_real: 0.0003, d_out_fake: 0.0000, g_loss_fake: 1.1548\r\n"
     ]
    },
    {
     "name": "stdout",
     "output_type": "stream",
     "text": [
      "Elapsed [4:34:24.018337], G_step [127090/1000000], D_step[127090/1000000], d_out_real: 0.0561, d_out_fake: 0.0000, g_loss_fake: 1.1475\r\n"
     ]
    },
    {
     "name": "stdout",
     "output_type": "stream",
     "text": [
      "Elapsed [4:34:34.683081], G_step [127100/1000000], D_step[127100/1000000], d_out_real: 0.0000, d_out_fake: 0.0000, g_loss_fake: 1.1245\r\n"
     ]
    },
    {
     "name": "stdout",
     "output_type": "stream",
     "text": [
      "Elapsed [4:34:46.302665], G_step [127110/1000000], D_step[127110/1000000], d_out_real: 0.0208, d_out_fake: 0.0000, g_loss_fake: 1.1155\r\n"
     ]
    },
    {
     "name": "stdout",
     "output_type": "stream",
     "text": [
      "Elapsed [4:34:57.188443], G_step [127120/1000000], D_step[127120/1000000], d_out_real: 0.1827, d_out_fake: 0.0002, g_loss_fake: 1.0464\r\n"
     ]
    },
    {
     "name": "stdout",
     "output_type": "stream",
     "text": [
      "Elapsed [4:35:08.364095], G_step [127130/1000000], D_step[127130/1000000], d_out_real: 0.0000, d_out_fake: 0.0819, g_loss_fake: 0.9816\r\n"
     ]
    },
    {
     "name": "stdout",
     "output_type": "stream",
     "text": [
      "Elapsed [4:35:19.172221], G_step [127140/1000000], D_step[127140/1000000], d_out_real: 0.0878, d_out_fake: 0.0000, g_loss_fake: 0.9085\r\n"
     ]
    },
    {
     "name": "stdout",
     "output_type": "stream",
     "text": [
      "Elapsed [4:35:30.151372], G_step [127150/1000000], D_step[127150/1000000], d_out_real: 0.1317, d_out_fake: 0.0091, g_loss_fake: 1.1384\r\n"
     ]
    },
    {
     "name": "stdout",
     "output_type": "stream",
     "text": [
      "Elapsed [4:35:40.928138], G_step [127160/1000000], D_step[127160/1000000], d_out_real: 0.1301, d_out_fake: 0.0632, g_loss_fake: 1.0314\r\n"
     ]
    },
    {
     "name": "stdout",
     "output_type": "stream",
     "text": [
      "Elapsed [4:35:53.197454], G_step [127170/1000000], D_step[127170/1000000], d_out_real: 0.1303, d_out_fake: 0.0000, g_loss_fake: 0.9417\r\n"
     ]
    },
    {
     "name": "stdout",
     "output_type": "stream",
     "text": [
      "Elapsed [4:36:04.567190], G_step [127180/1000000], D_step[127180/1000000], d_out_real: 0.1875, d_out_fake: 0.0417, g_loss_fake: 1.1301\r\n"
     ]
    },
    {
     "name": "stdout",
     "output_type": "stream",
     "text": [
      "Elapsed [4:36:15.828187], G_step [127190/1000000], D_step[127190/1000000], d_out_real: 0.0630, d_out_fake: 0.0000, g_loss_fake: 1.1040\r\n"
     ]
    },
    {
     "name": "stdout",
     "output_type": "stream",
     "text": [
      "Elapsed [4:36:27.444482], G_step [127200/1000000], D_step[127200/1000000], d_out_real: 0.0626, d_out_fake: 0.0028, g_loss_fake: 1.0966\r\n"
     ]
    },
    {
     "name": "stdout",
     "output_type": "stream",
     "text": [
      "Elapsed [4:36:38.344317], G_step [127210/1000000], D_step[127210/1000000], d_out_real: 0.0653, d_out_fake: 0.0013, g_loss_fake: 1.1310\r\n"
     ]
    },
    {
     "name": "stdout",
     "output_type": "stream",
     "text": [
      "Elapsed [4:36:49.330940], G_step [127220/1000000], D_step[127220/1000000], d_out_real: 0.0717, d_out_fake: 0.0032, g_loss_fake: 1.0969\r\n"
     ]
    },
    {
     "name": "stdout",
     "output_type": "stream",
     "text": [
      "Elapsed [4:37:02.470207], G_step [127230/1000000], D_step[127230/1000000], d_out_real: 0.0000, d_out_fake: 0.0000, g_loss_fake: 1.0657\r\n"
     ]
    },
    {
     "name": "stdout",
     "output_type": "stream",
     "text": [
      "Elapsed [4:37:13.109832], G_step [127240/1000000], D_step[127240/1000000], d_out_real: 0.0938, d_out_fake: 0.0000, g_loss_fake: 1.1202\r\n"
     ]
    },
    {
     "name": "stdout",
     "output_type": "stream",
     "text": [
      "Elapsed [4:37:24.614825], G_step [127250/1000000], D_step[127250/1000000], d_out_real: 0.0692, d_out_fake: 0.0000, g_loss_fake: 1.0481\r\n"
     ]
    },
    {
     "name": "stdout",
     "output_type": "stream",
     "text": [
      "Elapsed [4:37:35.260478], G_step [127260/1000000], D_step[127260/1000000], d_out_real: 0.0647, d_out_fake: 0.0511, g_loss_fake: 1.0588\r\n"
     ]
    },
    {
     "name": "stdout",
     "output_type": "stream",
     "text": [
      "Elapsed [4:37:46.446938], G_step [127270/1000000], D_step[127270/1000000], d_out_real: 0.0746, d_out_fake: 0.0006, g_loss_fake: 1.0657\r\n"
     ]
    },
    {
     "name": "stdout",
     "output_type": "stream",
     "text": [
      "Elapsed [4:37:57.703911], G_step [127280/1000000], D_step[127280/1000000], d_out_real: 0.0504, d_out_fake: 0.2230, g_loss_fake: 0.8103\r\n"
     ]
    },
    {
     "name": "stdout",
     "output_type": "stream",
     "text": [
      "Elapsed [4:38:08.280848], G_step [127290/1000000], D_step[127290/1000000], d_out_real: 0.0683, d_out_fake: 0.0003, g_loss_fake: 1.1412\r\n"
     ]
    },
    {
     "name": "stdout",
     "output_type": "stream",
     "text": [
      "Elapsed [4:38:19.074409], G_step [127300/1000000], D_step[127300/1000000], d_out_real: 0.0292, d_out_fake: 0.0924, g_loss_fake: 1.1084\r\n"
     ]
    },
    {
     "name": "stdout",
     "output_type": "stream",
     "text": [
      "Elapsed [4:38:29.892532], G_step [127310/1000000], D_step[127310/1000000], d_out_real: 0.1952, d_out_fake: 0.0610, g_loss_fake: 1.1079\r\n"
     ]
    },
    {
     "name": "stdout",
     "output_type": "stream",
     "text": [
      "Elapsed [4:38:40.848054], G_step [127320/1000000], D_step[127320/1000000], d_out_real: 0.0000, d_out_fake: 0.0000, g_loss_fake: 1.1300\r\n"
     ]
    },
    {
     "name": "stdout",
     "output_type": "stream",
     "text": [
      "Elapsed [4:38:52.597914], G_step [127330/1000000], D_step[127330/1000000], d_out_real: 0.0000, d_out_fake: 0.0511, g_loss_fake: 1.1104\r\n"
     ]
    },
    {
     "name": "stdout",
     "output_type": "stream",
     "text": [
      "Elapsed [4:39:03.690637], G_step [127340/1000000], D_step[127340/1000000], d_out_real: 0.0548, d_out_fake: 0.0000, g_loss_fake: 1.0210\r\n"
     ]
    },
    {
     "name": "stdout",
     "output_type": "stream",
     "text": [
      "Elapsed [4:39:14.266778], G_step [127350/1000000], D_step[127350/1000000], d_out_real: 0.0538, d_out_fake: 0.0000, g_loss_fake: 1.0271\r\n"
     ]
    },
    {
     "name": "stdout",
     "output_type": "stream",
     "text": [
      "Elapsed [4:39:25.259602], G_step [127360/1000000], D_step[127360/1000000], d_out_real: 0.0686, d_out_fake: 0.0000, g_loss_fake: 1.0688\r\n"
     ]
    },
    {
     "name": "stdout",
     "output_type": "stream",
     "text": [
      "Elapsed [4:39:36.316910], G_step [127370/1000000], D_step[127370/1000000], d_out_real: 0.0587, d_out_fake: 0.0904, g_loss_fake: 1.0015\r\n"
     ]
    },
    {
     "name": "stdout",
     "output_type": "stream",
     "text": [
      "Elapsed [4:39:47.264481], G_step [127380/1000000], D_step[127380/1000000], d_out_real: 0.0000, d_out_fake: 0.0235, g_loss_fake: 0.9678\r\n"
     ]
    },
    {
     "name": "stdout",
     "output_type": "stream",
     "text": [
      "Elapsed [4:39:58.949337], G_step [127390/1000000], D_step[127390/1000000], d_out_real: 0.0039, d_out_fake: 0.0000, g_loss_fake: 1.0704\r\n"
     ]
    },
    {
     "name": "stdout",
     "output_type": "stream",
     "text": [
      "Elapsed [4:40:10.034923], G_step [127400/1000000], D_step[127400/1000000], d_out_real: 0.1277, d_out_fake: 0.0017, g_loss_fake: 1.1000\r\n"
     ]
    },
    {
     "name": "stdout",
     "output_type": "stream",
     "text": [
      "Elapsed [4:40:20.791632], G_step [127410/1000000], D_step[127410/1000000], d_out_real: 0.0627, d_out_fake: 0.0067, g_loss_fake: 1.0146\r\n"
     ]
    },
    {
     "name": "stdout",
     "output_type": "stream",
     "text": [
      "Elapsed [4:40:31.667468], G_step [127420/1000000], D_step[127420/1000000], d_out_real: 0.0630, d_out_fake: 0.0000, g_loss_fake: 1.0993\r\n"
     ]
    },
    {
     "name": "stdout",
     "output_type": "stream",
     "text": [
      "Elapsed [4:40:43.169054], G_step [127430/1000000], D_step[127430/1000000], d_out_real: 0.0000, d_out_fake: 0.1269, g_loss_fake: 1.0992\r\n"
     ]
    },
    {
     "name": "stdout",
     "output_type": "stream",
     "text": [
      "Elapsed [4:40:54.178779], G_step [127440/1000000], D_step[127440/1000000], d_out_real: 0.1260, d_out_fake: 0.0027, g_loss_fake: 1.1026\r\n"
     ]
    },
    {
     "name": "stdout",
     "output_type": "stream",
     "text": [
      "Elapsed [4:41:05.784757], G_step [127450/1000000], D_step[127450/1000000], d_out_real: 0.0342, d_out_fake: 0.0000, g_loss_fake: 1.0786\r\n"
     ]
    },
    {
     "name": "stdout",
     "output_type": "stream",
     "text": [
      "Elapsed [4:41:16.456317], G_step [127460/1000000], D_step[127460/1000000], d_out_real: 0.0161, d_out_fake: 0.2350, g_loss_fake: 1.1816\r\n"
     ]
    },
    {
     "name": "stdout",
     "output_type": "stream",
     "text": [
      "Elapsed [4:41:27.372328], G_step [127470/1000000], D_step[127470/1000000], d_out_real: 0.0540, d_out_fake: 0.3346, g_loss_fake: 1.1226\r\n"
     ]
    },
    {
     "name": "stdout",
     "output_type": "stream",
     "text": [
      "Elapsed [4:41:39.107298], G_step [127480/1000000], D_step[127480/1000000], d_out_real: 0.0168, d_out_fake: 0.0654, g_loss_fake: 0.9757\r\n"
     ]
    },
    {
     "name": "stdout",
     "output_type": "stream",
     "text": [
      "Elapsed [4:41:50.520089], G_step [127490/1000000], D_step[127490/1000000], d_out_real: 0.0559, d_out_fake: 0.0774, g_loss_fake: 1.1349\r\n"
     ]
    },
    {
     "name": "stdout",
     "output_type": "stream",
     "text": [
      "Elapsed [4:42:02.295844], G_step [127500/1000000], D_step[127500/1000000], d_out_real: 0.0647, d_out_fake: 0.0596, g_loss_fake: 1.0617\r\n"
     ]
    },
    {
     "name": "stdout",
     "output_type": "stream",
     "text": [
      "Elapsed [4:42:13.538810], G_step [127510/1000000], D_step[127510/1000000], d_out_real: 0.0060, d_out_fake: 0.0000, g_loss_fake: 1.0310\r\n"
     ]
    },
    {
     "name": "stdout",
     "output_type": "stream",
     "text": [
      "Elapsed [4:42:24.297167], G_step [127520/1000000], D_step[127520/1000000], d_out_real: 0.0644, d_out_fake: 0.0006, g_loss_fake: 0.9644\r\n"
     ]
    },
    {
     "name": "stdout",
     "output_type": "stream",
     "text": [
      "Elapsed [4:42:35.184048], G_step [127530/1000000], D_step[127530/1000000], d_out_real: 0.0000, d_out_fake: 0.0622, g_loss_fake: 1.1291\r\n"
     ]
    },
    {
     "name": "stdout",
     "output_type": "stream",
     "text": [
      "Elapsed [4:42:46.099647], G_step [127540/1000000], D_step[127540/1000000], d_out_real: 0.0641, d_out_fake: 0.0167, g_loss_fake: 1.0633\r\n"
     ]
    },
    {
     "name": "stdout",
     "output_type": "stream",
     "text": [
      "Elapsed [4:42:57.127296], G_step [127550/1000000], D_step[127550/1000000], d_out_real: 0.0000, d_out_fake: 0.0632, g_loss_fake: 1.1227\r\n"
     ]
    },
    {
     "name": "stdout",
     "output_type": "stream",
     "text": [
      "Elapsed [4:43:08.666454], G_step [127560/1000000], D_step[127560/1000000], d_out_real: 0.0638, d_out_fake: 0.1297, g_loss_fake: 1.0682\r\n"
     ]
    },
    {
     "name": "stdout",
     "output_type": "stream",
     "text": [
      "Elapsed [4:43:19.264093], G_step [127570/1000000], D_step[127570/1000000], d_out_real: 0.1666, d_out_fake: 0.0000, g_loss_fake: 1.1610\r\n"
     ]
    },
    {
     "name": "stdout",
     "output_type": "stream",
     "text": [
      "Elapsed [4:43:29.888562], G_step [127580/1000000], D_step[127580/1000000], d_out_real: 0.0105, d_out_fake: 0.0000, g_loss_fake: 1.1078\r\n"
     ]
    },
    {
     "name": "stdout",
     "output_type": "stream",
     "text": [
      "Elapsed [4:43:40.720033], G_step [127590/1000000], D_step[127590/1000000], d_out_real: 0.1875, d_out_fake: 0.0000, g_loss_fake: 1.0240\r\n"
     ]
    },
    {
     "name": "stdout",
     "output_type": "stream",
     "text": [
      "Elapsed [4:43:51.608922], G_step [127600/1000000], D_step[127600/1000000], d_out_real: 0.1288, d_out_fake: 0.0007, g_loss_fake: 1.0376\r\n"
     ]
    },
    {
     "name": "stdout",
     "output_type": "stream",
     "text": [
      "Elapsed [4:44:02.204400], G_step [127610/1000000], D_step[127610/1000000], d_out_real: 0.1277, d_out_fake: 0.0000, g_loss_fake: 1.0381\r\n"
     ]
    },
    {
     "name": "stdout",
     "output_type": "stream",
     "text": [
      "Elapsed [4:44:13.116532], G_step [127620/1000000], D_step[127620/1000000], d_out_real: 0.0845, d_out_fake: 0.0728, g_loss_fake: 1.0751\r\n"
     ]
    },
    {
     "name": "stdout",
     "output_type": "stream",
     "text": [
      "Elapsed [4:44:24.906355], G_step [127630/1000000], D_step[127630/1000000], d_out_real: 0.2429, d_out_fake: 0.0000, g_loss_fake: 1.0866\r\n"
     ]
    },
    {
     "name": "stdout",
     "output_type": "stream",
     "text": [
      "Elapsed [4:44:35.653977], G_step [127640/1000000], D_step[127640/1000000], d_out_real: 0.0000, d_out_fake: 0.0000, g_loss_fake: 1.1045\r\n"
     ]
    },
    {
     "name": "stdout",
     "output_type": "stream",
     "text": [
      "Elapsed [4:44:46.468234], G_step [127650/1000000], D_step[127650/1000000], d_out_real: 0.0273, d_out_fake: 0.0000, g_loss_fake: 1.0366\r\n"
     ]
    },
    {
     "name": "stdout",
     "output_type": "stream",
     "text": [
      "Elapsed [4:44:57.600953], G_step [127660/1000000], D_step[127660/1000000], d_out_real: 0.0649, d_out_fake: 0.0725, g_loss_fake: 1.0816\r\n"
     ]
    },
    {
     "name": "stdout",
     "output_type": "stream",
     "text": [
      "Elapsed [4:45:09.299921], G_step [127670/1000000], D_step[127670/1000000], d_out_real: 0.0185, d_out_fake: 0.0605, g_loss_fake: 0.9796\r\n"
     ]
    },
    {
     "name": "stdout",
     "output_type": "stream",
     "text": [
      "Elapsed [4:45:19.877698], G_step [127680/1000000], D_step[127680/1000000], d_out_real: 0.2211, d_out_fake: 0.0000, g_loss_fake: 1.0472\r\n"
     ]
    },
    {
     "name": "stdout",
     "output_type": "stream",
     "text": [
      "Elapsed [4:45:31.524876], G_step [127690/1000000], D_step[127690/1000000], d_out_real: 0.1267, d_out_fake: 0.2144, g_loss_fake: 1.1366\r\n"
     ]
    },
    {
     "name": "stdout",
     "output_type": "stream",
     "text": [
      "Elapsed [4:45:43.834641], G_step [127700/1000000], D_step[127700/1000000], d_out_real: 0.2863, d_out_fake: 0.1235, g_loss_fake: 0.9752\r\n"
     ]
    },
    {
     "name": "stdout",
     "output_type": "stream",
     "text": [
      "Elapsed [4:45:55.202625], G_step [127710/1000000], D_step[127710/1000000], d_out_real: 0.0599, d_out_fake: 0.0047, g_loss_fake: 1.0973\r\n"
     ]
    },
    {
     "name": "stdout",
     "output_type": "stream",
     "text": [
      "Elapsed [4:46:06.695612], G_step [127720/1000000], D_step[127720/1000000], d_out_real: 0.0038, d_out_fake: 0.0150, g_loss_fake: 1.1541\r\n"
     ]
    },
    {
     "name": "stdout",
     "output_type": "stream",
     "text": [
      "Elapsed [4:46:17.398587], G_step [127730/1000000], D_step[127730/1000000], d_out_real: 0.3620, d_out_fake: 0.0852, g_loss_fake: 1.0245\r\n"
     ]
    },
    {
     "name": "stdout",
     "output_type": "stream",
     "text": [
      "Elapsed [4:46:28.046191], G_step [127740/1000000], D_step[127740/1000000], d_out_real: 0.0833, d_out_fake: 0.0000, g_loss_fake: 1.0603\r\n"
     ]
    },
    {
     "name": "stdout",
     "output_type": "stream",
     "text": [
      "Elapsed [4:46:38.892355], G_step [127750/1000000], D_step[127750/1000000], d_out_real: 0.1636, d_out_fake: 0.0598, g_loss_fake: 1.0558\r\n"
     ]
    },
    {
     "name": "stdout",
     "output_type": "stream",
     "text": [
      "Elapsed [4:46:49.895417], G_step [127760/1000000], D_step[127760/1000000], d_out_real: 0.1299, d_out_fake: 0.0000, g_loss_fake: 1.1003\r\n"
     ]
    },
    {
     "name": "stdout",
     "output_type": "stream",
     "text": [
      "Elapsed [4:47:00.934021], G_step [127770/1000000], D_step[127770/1000000], d_out_real: 0.1290, d_out_fake: 0.0000, g_loss_fake: 1.0648\r\n"
     ]
    },
    {
     "name": "stdout",
     "output_type": "stream",
     "text": [
      "Elapsed [4:47:11.658832], G_step [127780/1000000], D_step[127780/1000000], d_out_real: 0.0000, d_out_fake: 0.0753, g_loss_fake: 1.0595\r\n"
     ]
    },
    {
     "name": "stdout",
     "output_type": "stream",
     "text": [
      "Elapsed [4:47:22.642655], G_step [127790/1000000], D_step[127790/1000000], d_out_real: 0.0550, d_out_fake: 0.0000, g_loss_fake: 1.0740\r\n"
     ]
    },
    {
     "name": "stdout",
     "output_type": "stream",
     "text": [
      "Elapsed [4:47:35.047199], G_step [127800/1000000], D_step[127800/1000000], d_out_real: 0.1102, d_out_fake: 0.0000, g_loss_fake: 1.1050\r\n"
     ]
    },
    {
     "name": "stdout",
     "output_type": "stream",
     "text": [
      "Elapsed [4:47:46.017373], G_step [127810/1000000], D_step[127810/1000000], d_out_real: 0.0925, d_out_fake: 0.0000, g_loss_fake: 1.1080\r\n"
     ]
    },
    {
     "name": "stdout",
     "output_type": "stream",
     "text": [
      "Elapsed [4:47:57.966923], G_step [127820/1000000], D_step[127820/1000000], d_out_real: 0.0586, d_out_fake: 0.0011, g_loss_fake: 1.0051\r\n"
     ]
    },
    {
     "name": "stdout",
     "output_type": "stream",
     "text": [
      "Elapsed [4:48:09.146084], G_step [127830/1000000], D_step[127830/1000000], d_out_real: 0.1264, d_out_fake: 0.0508, g_loss_fake: 1.0554\r\n"
     ]
    },
    {
     "name": "stdout",
     "output_type": "stream",
     "text": [
      "Elapsed [4:48:20.352471], G_step [127840/1000000], D_step[127840/1000000], d_out_real: 0.0624, d_out_fake: 0.1414, g_loss_fake: 1.0180\r\n"
     ]
    },
    {
     "name": "stdout",
     "output_type": "stream",
     "text": [
      "Elapsed [4:48:31.431877], G_step [127850/1000000], D_step[127850/1000000], d_out_real: 0.0646, d_out_fake: 0.0662, g_loss_fake: 1.0211\r\n"
     ]
    },
    {
     "name": "stdout",
     "output_type": "stream",
     "text": [
      "Elapsed [4:48:42.178921], G_step [127860/1000000], D_step[127860/1000000], d_out_real: 0.1325, d_out_fake: 0.1338, g_loss_fake: 1.1453\r\n"
     ]
    },
    {
     "name": "stdout",
     "output_type": "stream",
     "text": [
      "Elapsed [4:48:53.146339], G_step [127870/1000000], D_step[127870/1000000], d_out_real: 0.0922, d_out_fake: 0.0002, g_loss_fake: 1.0623\r\n"
     ]
    },
    {
     "name": "stdout",
     "output_type": "stream",
     "text": [
      "Elapsed [4:49:03.900912], G_step [127880/1000000], D_step[127880/1000000], d_out_real: 0.0000, d_out_fake: 0.0105, g_loss_fake: 1.0766\r\n"
     ]
    },
    {
     "name": "stdout",
     "output_type": "stream",
     "text": [
      "Elapsed [4:49:15.408689], G_step [127890/1000000], D_step[127890/1000000], d_out_real: 0.0000, d_out_fake: 0.0605, g_loss_fake: 1.1134\r\n"
     ]
    },
    {
     "name": "stdout",
     "output_type": "stream",
     "text": [
      "Elapsed [4:49:26.484291], G_step [127900/1000000], D_step[127900/1000000], d_out_real: 0.0000, d_out_fake: 0.1186, g_loss_fake: 1.0641\r\n"
     ]
    },
    {
     "name": "stdout",
     "output_type": "stream",
     "text": [
      "Elapsed [4:49:37.308151], G_step [127910/1000000], D_step[127910/1000000], d_out_real: 0.1211, d_out_fake: 0.0911, g_loss_fake: 1.1926\r\n"
     ]
    },
    {
     "name": "stdout",
     "output_type": "stream",
     "text": [
      "Elapsed [4:49:48.000687], G_step [127920/1000000], D_step[127920/1000000], d_out_real: 0.0888, d_out_fake: 0.0612, g_loss_fake: 1.0403\r\n"
     ]
    },
    {
     "name": "stdout",
     "output_type": "stream",
     "text": [
      "Elapsed [4:49:58.850275], G_step [127930/1000000], D_step[127930/1000000], d_out_real: 0.0947, d_out_fake: 0.0093, g_loss_fake: 1.0580\r\n"
     ]
    },
    {
     "name": "stdout",
     "output_type": "stream",
     "text": [
      "Elapsed [4:50:09.743983], G_step [127940/1000000], D_step[127940/1000000], d_out_real: 0.1251, d_out_fake: 0.0609, g_loss_fake: 1.1380\r\n"
     ]
    },
    {
     "name": "stdout",
     "output_type": "stream",
     "text": [
      "Elapsed [4:50:20.594141], G_step [127950/1000000], D_step[127950/1000000], d_out_real: 0.0534, d_out_fake: 0.2645, g_loss_fake: 1.1349\r\n"
     ]
    },
    {
     "name": "stdout",
     "output_type": "stream",
     "text": [
      "Elapsed [4:50:31.684887], G_step [127960/1000000], D_step[127960/1000000], d_out_real: 0.0000, d_out_fake: 0.2057, g_loss_fake: 1.0999\r\n"
     ]
    },
    {
     "name": "stdout",
     "output_type": "stream",
     "text": [
      "Elapsed [4:50:42.458113], G_step [127970/1000000], D_step[127970/1000000], d_out_real: 0.0282, d_out_fake: 0.0287, g_loss_fake: 1.0092\r\n"
     ]
    },
    {
     "name": "stdout",
     "output_type": "stream",
     "text": [
      "Elapsed [4:50:53.571128], G_step [127980/1000000], D_step[127980/1000000], d_out_real: 0.1306, d_out_fake: 0.0000, g_loss_fake: 1.1103\r\n"
     ]
    },
    {
     "name": "stdout",
     "output_type": "stream",
     "text": [
      "Elapsed [4:51:05.024805], G_step [127990/1000000], D_step[127990/1000000], d_out_real: 0.0000, d_out_fake: 0.1227, g_loss_fake: 1.1255\r\n"
     ]
    },
    {
     "name": "stdout",
     "output_type": "stream",
     "text": [
      "Elapsed [4:51:15.751458], G_step [128000/1000000], D_step[128000/1000000], d_out_real: 0.2135, d_out_fake: 0.0201, g_loss_fake: 0.9940\r\n",
      "Sample images 128000_fake.png\r\n"
     ]
    },
    {
     "name": "stdout",
     "output_type": "stream",
     "text": [
      "Elapsed [4:51:27.736568], G_step [128010/1000000], D_step[128010/1000000], d_out_real: 0.0530, d_out_fake: 0.0221, g_loss_fake: 0.4897\r\n"
     ]
    },
    {
     "name": "stdout",
     "output_type": "stream",
     "text": [
      "Elapsed [4:51:38.810220], G_step [128020/1000000], D_step[128020/1000000], d_out_real: 0.0000, d_out_fake: 0.0121, g_loss_fake: 1.0970\r\n"
     ]
    },
    {
     "name": "stdout",
     "output_type": "stream",
     "text": [
      "Elapsed [4:51:49.741020], G_step [128030/1000000], D_step[128030/1000000], d_out_real: 0.1375, d_out_fake: 0.0000, g_loss_fake: 1.0230\r\n"
     ]
    },
    {
     "name": "stdout",
     "output_type": "stream",
     "text": [
      "Elapsed [4:52:00.756572], G_step [128040/1000000], D_step[128040/1000000], d_out_real: 0.0018, d_out_fake: 0.0673, g_loss_fake: 1.0079\r\n"
     ]
    },
    {
     "name": "stdout",
     "output_type": "stream",
     "text": [
      "Elapsed [4:52:11.353381], G_step [128050/1000000], D_step[128050/1000000], d_out_real: 0.0000, d_out_fake: 0.0267, g_loss_fake: 1.0375\r\n"
     ]
    },
    {
     "name": "stdout",
     "output_type": "stream",
     "text": [
      "Elapsed [4:52:22.336164], G_step [128060/1000000], D_step[128060/1000000], d_out_real: 0.1371, d_out_fake: 0.0800, g_loss_fake: 1.0566\r\n"
     ]
    },
    {
     "name": "stdout",
     "output_type": "stream",
     "text": [
      "Elapsed [4:52:33.241097], G_step [128070/1000000], D_step[128070/1000000], d_out_real: 0.1275, d_out_fake: 0.0000, g_loss_fake: 1.0487\r\n"
     ]
    },
    {
     "name": "stdout",
     "output_type": "stream",
     "text": [
      "Elapsed [4:52:44.726879], G_step [128080/1000000], D_step[128080/1000000], d_out_real: 0.0664, d_out_fake: 0.0000, g_loss_fake: 1.0452\r\n"
     ]
    },
    {
     "name": "stdout",
     "output_type": "stream",
     "text": [
      "save torch\r\n"
     ]
    },
    {
     "name": "stdout",
     "output_type": "stream",
     "text": [
      "Elapsed [4:52:56.050567], G_step [128090/1000000], D_step[128090/1000000], d_out_real: 0.1123, d_out_fake: 0.0372, g_loss_fake: 1.1421\r\n"
     ]
    },
    {
     "name": "stdout",
     "output_type": "stream",
     "text": [
      "Elapsed [4:53:07.009193], G_step [128100/1000000], D_step[128100/1000000], d_out_real: 0.1040, d_out_fake: 0.0061, g_loss_fake: 1.1739\r\n"
     ]
    },
    {
     "name": "stdout",
     "output_type": "stream",
     "text": [
      "Elapsed [4:53:18.104712], G_step [128110/1000000], D_step[128110/1000000], d_out_real: 0.1235, d_out_fake: 0.0000, g_loss_fake: 1.0304\r\n"
     ]
    },
    {
     "name": "stdout",
     "output_type": "stream",
     "text": [
      "Elapsed [4:53:30.217057], G_step [128120/1000000], D_step[128120/1000000], d_out_real: 0.1276, d_out_fake: 0.0587, g_loss_fake: 1.0084\r\n"
     ]
    },
    {
     "name": "stdout",
     "output_type": "stream",
     "text": [
      "Elapsed [4:53:41.190639], G_step [128130/1000000], D_step[128130/1000000], d_out_real: 0.2533, d_out_fake: 0.0607, g_loss_fake: 1.0263\r\n"
     ]
    },
    {
     "name": "stdout",
     "output_type": "stream",
     "text": [
      "Elapsed [4:53:52.052138], G_step [128140/1000000], D_step[128140/1000000], d_out_real: 0.0000, d_out_fake: 0.0000, g_loss_fake: 1.1687\r\n"
     ]
    },
    {
     "name": "stdout",
     "output_type": "stream",
     "text": [
      "Elapsed [4:54:03.936325], G_step [128150/1000000], D_step[128150/1000000], d_out_real: 0.1835, d_out_fake: 0.0000, g_loss_fake: 1.0748\r\n"
     ]
    },
    {
     "name": "stdout",
     "output_type": "stream",
     "text": [
      "Elapsed [4:54:15.460938], G_step [128160/1000000], D_step[128160/1000000], d_out_real: 0.0976, d_out_fake: 0.0097, g_loss_fake: 1.0554\r\n"
     ]
    },
    {
     "name": "stdout",
     "output_type": "stream",
     "text": [
      "Elapsed [4:54:26.469052], G_step [128170/1000000], D_step[128170/1000000], d_out_real: 0.0051, d_out_fake: 0.0016, g_loss_fake: 1.0016\r\n"
     ]
    },
    {
     "name": "stdout",
     "output_type": "stream",
     "text": [
      "Elapsed [4:54:37.359137], G_step [128180/1000000], D_step[128180/1000000], d_out_real: 0.0602, d_out_fake: 0.0000, g_loss_fake: 1.1208\r\n"
     ]
    },
    {
     "name": "stdout",
     "output_type": "stream",
     "text": [
      "Elapsed [4:54:48.325682], G_step [128190/1000000], D_step[128190/1000000], d_out_real: 0.0649, d_out_fake: 0.0000, g_loss_fake: 1.1038\r\n"
     ]
    },
    {
     "name": "stdout",
     "output_type": "stream",
     "text": [
      "Elapsed [4:54:59.018109], G_step [128200/1000000], D_step[128200/1000000], d_out_real: 0.0000, d_out_fake: 0.0000, g_loss_fake: 1.0922\r\n"
     ]
    },
    {
     "name": "stdout",
     "output_type": "stream",
     "text": [
      "Elapsed [4:55:10.188529], G_step [128210/1000000], D_step[128210/1000000], d_out_real: 0.0000, d_out_fake: 0.0000, g_loss_fake: 1.0429\r\n"
     ]
    },
    {
     "name": "stdout",
     "output_type": "stream",
     "text": [
      "Elapsed [4:55:21.271267], G_step [128220/1000000], D_step[128220/1000000], d_out_real: 0.1819, d_out_fake: 0.0000, g_loss_fake: 1.0773\r\n"
     ]
    },
    {
     "name": "stdout",
     "output_type": "stream",
     "text": [
      "Elapsed [4:55:32.166911], G_step [128230/1000000], D_step[128230/1000000], d_out_real: 0.0622, d_out_fake: 0.0067, g_loss_fake: 1.0347\r\n"
     ]
    },
    {
     "name": "stdout",
     "output_type": "stream",
     "text": [
      "Elapsed [4:55:42.886161], G_step [128240/1000000], D_step[128240/1000000], d_out_real: 0.0582, d_out_fake: 0.0212, g_loss_fake: 1.1025\r\n"
     ]
    },
    {
     "name": "stdout",
     "output_type": "stream",
     "text": [
      "Elapsed [4:55:53.457174], G_step [128250/1000000], D_step[128250/1000000], d_out_real: 0.0503, d_out_fake: 0.0000, g_loss_fake: 1.0067\r\n"
     ]
    },
    {
     "name": "stdout",
     "output_type": "stream",
     "text": [
      "Elapsed [4:56:04.175486], G_step [128260/1000000], D_step[128260/1000000], d_out_real: 0.0644, d_out_fake: 0.0005, g_loss_fake: 1.0804\r\n"
     ]
    },
    {
     "name": "stdout",
     "output_type": "stream",
     "text": [
      "Elapsed [4:56:15.502083], G_step [128270/1000000], D_step[128270/1000000], d_out_real: 0.0000, d_out_fake: 0.0728, g_loss_fake: 1.0795\r\n"
     ]
    },
    {
     "name": "stdout",
     "output_type": "stream",
     "text": [
      "Elapsed [4:56:26.661238], G_step [128280/1000000], D_step[128280/1000000], d_out_real: 0.1438, d_out_fake: 0.0000, g_loss_fake: 1.0810\r\n"
     ]
    },
    {
     "name": "stdout",
     "output_type": "stream",
     "text": [
      "Elapsed [4:56:37.503300], G_step [128290/1000000], D_step[128290/1000000], d_out_real: 0.2067, d_out_fake: 0.0000, g_loss_fake: 0.8538\r\n"
     ]
    },
    {
     "name": "stdout",
     "output_type": "stream",
     "text": [
      "Elapsed [4:56:48.450564], G_step [128300/1000000], D_step[128300/1000000], d_out_real: 0.1650, d_out_fake: 0.0000, g_loss_fake: 1.1054\r\n"
     ]
    },
    {
     "name": "stdout",
     "output_type": "stream",
     "text": [
      "Elapsed [4:56:59.358618], G_step [128310/1000000], D_step[128310/1000000], d_out_real: 0.0009, d_out_fake: 0.1022, g_loss_fake: 1.1167\r\n"
     ]
    },
    {
     "name": "stdout",
     "output_type": "stream",
     "text": [
      "Elapsed [4:57:10.533511], G_step [128320/1000000], D_step[128320/1000000], d_out_real: 0.1248, d_out_fake: 0.0035, g_loss_fake: 1.0452\r\n"
     ]
    },
    {
     "name": "stdout",
     "output_type": "stream",
     "text": [
      "Elapsed [4:57:21.279840], G_step [128330/1000000], D_step[128330/1000000], d_out_real: 0.0000, d_out_fake: 0.1295, g_loss_fake: 1.0426\r\n"
     ]
    },
    {
     "name": "stdout",
     "output_type": "stream",
     "text": [
      "Elapsed [4:57:32.383126], G_step [128340/1000000], D_step[128340/1000000], d_out_real: 0.0936, d_out_fake: 0.0459, g_loss_fake: 1.0509\r\n"
     ]
    },
    {
     "name": "stdout",
     "output_type": "stream",
     "text": [
      "Elapsed [4:57:43.774419], G_step [128350/1000000], D_step[128350/1000000], d_out_real: 0.0000, d_out_fake: 0.0000, g_loss_fake: 1.1166\r\n"
     ]
    },
    {
     "name": "stdout",
     "output_type": "stream",
     "text": [
      "Elapsed [4:57:54.631996], G_step [128360/1000000], D_step[128360/1000000], d_out_real: 0.0654, d_out_fake: 0.0178, g_loss_fake: 1.1523\r\n"
     ]
    },
    {
     "name": "stdout",
     "output_type": "stream",
     "text": [
      "Elapsed [4:58:05.413783], G_step [128370/1000000], D_step[128370/1000000], d_out_real: 0.2165, d_out_fake: 0.0492, g_loss_fake: 1.1563\r\n"
     ]
    },
    {
     "name": "stdout",
     "output_type": "stream",
     "text": [
      "Elapsed [4:58:16.395538], G_step [128380/1000000], D_step[128380/1000000], d_out_real: 0.0681, d_out_fake: 0.0000, g_loss_fake: 1.0442\r\n"
     ]
    },
    {
     "name": "stdout",
     "output_type": "stream",
     "text": [
      "Elapsed [4:58:27.536968], G_step [128390/1000000], D_step[128390/1000000], d_out_real: 0.0646, d_out_fake: 0.0417, g_loss_fake: 1.1411\r\n"
     ]
    },
    {
     "name": "stdout",
     "output_type": "stream",
     "text": [
      "Elapsed [4:58:38.363275], G_step [128400/1000000], D_step[128400/1000000], d_out_real: 0.0600, d_out_fake: 0.0664, g_loss_fake: 1.0952\r\n"
     ]
    },
    {
     "name": "stdout",
     "output_type": "stream",
     "text": [
      "Elapsed [4:58:49.444733], G_step [128410/1000000], D_step[128410/1000000], d_out_real: 0.0992, d_out_fake: 0.0000, g_loss_fake: 1.0590\r\n"
     ]
    },
    {
     "name": "stdout",
     "output_type": "stream",
     "text": [
      "Elapsed [4:59:00.406907], G_step [128420/1000000], D_step[128420/1000000], d_out_real: 0.2572, d_out_fake: 0.0115, g_loss_fake: 1.0890\r\n"
     ]
    },
    {
     "name": "stdout",
     "output_type": "stream",
     "text": [
      "Elapsed [4:59:11.209547], G_step [128430/1000000], D_step[128430/1000000], d_out_real: 0.0657, d_out_fake: 0.0477, g_loss_fake: 1.0860\r\n"
     ]
    },
    {
     "name": "stdout",
     "output_type": "stream",
     "text": [
      "Elapsed [4:59:22.710515], G_step [128440/1000000], D_step[128440/1000000], d_out_real: 0.0637, d_out_fake: 0.0041, g_loss_fake: 0.9621\r\n"
     ]
    },
    {
     "name": "stdout",
     "output_type": "stream",
     "text": [
      "Elapsed [4:59:33.569118], G_step [128450/1000000], D_step[128450/1000000], d_out_real: 0.0000, d_out_fake: 0.0213, g_loss_fake: 1.1699\r\n"
     ]
    },
    {
     "name": "stdout",
     "output_type": "stream",
     "text": [
      "Elapsed [4:59:44.169120], G_step [128460/1000000], D_step[128460/1000000], d_out_real: 0.0455, d_out_fake: 0.0000, g_loss_fake: 1.1582\r\n"
     ]
    },
    {
     "name": "stdout",
     "output_type": "stream",
     "text": [
      "Elapsed [4:59:56.470913], G_step [128470/1000000], D_step[128470/1000000], d_out_real: 0.1482, d_out_fake: 0.0009, g_loss_fake: 1.0621\r\n"
     ]
    },
    {
     "name": "stdout",
     "output_type": "stream",
     "text": [
      "Elapsed [5:00:07.060838], G_step [128480/1000000], D_step[128480/1000000], d_out_real: 0.0000, d_out_fake: 0.2939, g_loss_fake: 1.0392\r\n"
     ]
    },
    {
     "name": "stdout",
     "output_type": "stream",
     "text": [
      "Elapsed [5:00:17.662405], G_step [128490/1000000], D_step[128490/1000000], d_out_real: 0.0000, d_out_fake: 0.0001, g_loss_fake: 1.0901\r\n"
     ]
    },
    {
     "name": "stdout",
     "output_type": "stream",
     "text": [
      "Elapsed [5:00:28.798287], G_step [128500/1000000], D_step[128500/1000000], d_out_real: 0.0633, d_out_fake: 0.0421, g_loss_fake: 1.1538\r\n"
     ]
    },
    {
     "name": "stdout",
     "output_type": "stream",
     "text": [
      "Elapsed [5:00:39.987914], G_step [128510/1000000], D_step[128510/1000000], d_out_real: 0.0000, d_out_fake: 0.0602, g_loss_fake: 1.1894\r\n"
     ]
    },
    {
     "name": "stdout",
     "output_type": "stream",
     "text": [
      "Elapsed [5:00:51.686945], G_step [128520/1000000], D_step[128520/1000000], d_out_real: 0.0017, d_out_fake: 0.0430, g_loss_fake: 1.1111\r\n"
     ]
    },
    {
     "name": "stdout",
     "output_type": "stream",
     "text": [
      "Elapsed [5:01:02.340144], G_step [128530/1000000], D_step[128530/1000000], d_out_real: 0.0098, d_out_fake: 0.0511, g_loss_fake: 1.1213\r\n"
     ]
    },
    {
     "name": "stdout",
     "output_type": "stream",
     "text": [
      "Elapsed [5:01:13.259554], G_step [128540/1000000], D_step[128540/1000000], d_out_real: 0.0014, d_out_fake: 0.0000, g_loss_fake: 1.0859\r\n"
     ]
    },
    {
     "name": "stdout",
     "output_type": "stream",
     "text": [
      "Elapsed [5:01:24.807338], G_step [128550/1000000], D_step[128550/1000000], d_out_real: 0.0000, d_out_fake: 0.0555, g_loss_fake: 1.1593\r\n"
     ]
    },
    {
     "name": "stdout",
     "output_type": "stream",
     "text": [
      "Elapsed [5:01:35.823292], G_step [128560/1000000], D_step[128560/1000000], d_out_real: 0.1168, d_out_fake: 0.0000, g_loss_fake: 1.0265\r\n"
     ]
    },
    {
     "name": "stdout",
     "output_type": "stream",
     "text": [
      "Elapsed [5:01:46.935461], G_step [128570/1000000], D_step[128570/1000000], d_out_real: 0.0631, d_out_fake: 0.0017, g_loss_fake: 1.0655\r\n"
     ]
    },
    {
     "name": "stdout",
     "output_type": "stream",
     "text": [
      "Elapsed [5:01:57.938030], G_step [128580/1000000], D_step[128580/1000000], d_out_real: 0.1062, d_out_fake: 0.0000, g_loss_fake: 0.9306\r\n"
     ]
    },
    {
     "name": "stdout",
     "output_type": "stream",
     "text": [
      "Elapsed [5:02:08.946429], G_step [128590/1000000], D_step[128590/1000000], d_out_real: 0.0190, d_out_fake: 0.0634, g_loss_fake: 1.1249\r\n"
     ]
    },
    {
     "name": "stdout",
     "output_type": "stream",
     "text": [
      "Elapsed [5:02:20.038150], G_step [128600/1000000], D_step[128600/1000000], d_out_real: 0.0000, d_out_fake: 0.0294, g_loss_fake: 1.1570\r\n"
     ]
    },
    {
     "name": "stdout",
     "output_type": "stream",
     "text": [
      "Elapsed [5:02:32.411637], G_step [128610/1000000], D_step[128610/1000000], d_out_real: 0.0392, d_out_fake: 0.0000, g_loss_fake: 1.0870\r\n"
     ]
    },
    {
     "name": "stdout",
     "output_type": "stream",
     "text": [
      "Elapsed [5:02:43.477976], G_step [128620/1000000], D_step[128620/1000000], d_out_real: 0.0568, d_out_fake: 0.0138, g_loss_fake: 1.1584\r\n"
     ]
    },
    {
     "name": "stdout",
     "output_type": "stream",
     "text": [
      "Elapsed [5:02:55.656416], G_step [128630/1000000], D_step[128630/1000000], d_out_real: 0.0000, d_out_fake: 0.0000, g_loss_fake: 1.0181\r\n"
     ]
    },
    {
     "name": "stdout",
     "output_type": "stream",
     "text": [
      "Elapsed [5:03:07.234806], G_step [128640/1000000], D_step[128640/1000000], d_out_real: 0.0246, d_out_fake: 0.0789, g_loss_fake: 0.8916\r\n"
     ]
    },
    {
     "name": "stdout",
     "output_type": "stream",
     "text": [
      "Elapsed [5:03:18.054596], G_step [128650/1000000], D_step[128650/1000000], d_out_real: 0.0159, d_out_fake: 0.0000, g_loss_fake: 1.0513\r\n"
     ]
    },
    {
     "name": "stdout",
     "output_type": "stream",
     "text": [
      "Elapsed [5:03:28.945086], G_step [128660/1000000], D_step[128660/1000000], d_out_real: 0.0000, d_out_fake: 0.0483, g_loss_fake: 1.1078\r\n"
     ]
    },
    {
     "name": "stdout",
     "output_type": "stream",
     "text": [
      "Elapsed [5:03:39.564662], G_step [128670/1000000], D_step[128670/1000000], d_out_real: 0.0000, d_out_fake: 0.0032, g_loss_fake: 1.1052\r\n"
     ]
    },
    {
     "name": "stdout",
     "output_type": "stream",
     "text": [
      "Elapsed [5:03:50.938801], G_step [128680/1000000], D_step[128680/1000000], d_out_real: 0.0327, d_out_fake: 0.0000, g_loss_fake: 0.9760\r\n"
     ]
    },
    {
     "name": "stdout",
     "output_type": "stream",
     "text": [
      "Elapsed [5:04:02.339602], G_step [128690/1000000], D_step[128690/1000000], d_out_real: 0.0047, d_out_fake: 0.0000, g_loss_fake: 1.0661\r\n"
     ]
    },
    {
     "name": "stdout",
     "output_type": "stream",
     "text": [
      "Elapsed [5:04:13.550308], G_step [128700/1000000], D_step[128700/1000000], d_out_real: 0.0765, d_out_fake: 0.1148, g_loss_fake: 1.1324\r\n"
     ]
    },
    {
     "name": "stdout",
     "output_type": "stream",
     "text": [
      "Elapsed [5:04:24.207251], G_step [128710/1000000], D_step[128710/1000000], d_out_real: 0.0651, d_out_fake: 0.0001, g_loss_fake: 1.0810\r\n"
     ]
    },
    {
     "name": "stdout",
     "output_type": "stream",
     "text": [
      "Elapsed [5:04:34.988698], G_step [128720/1000000], D_step[128720/1000000], d_out_real: 0.0103, d_out_fake: 0.0000, g_loss_fake: 1.1358\r\n"
     ]
    },
    {
     "name": "stdout",
     "output_type": "stream",
     "text": [
      "Elapsed [5:04:45.992106], G_step [128730/1000000], D_step[128730/1000000], d_out_real: 0.1975, d_out_fake: 0.0000, g_loss_fake: 1.0329\r\n"
     ]
    },
    {
     "name": "stdout",
     "output_type": "stream",
     "text": [
      "Elapsed [5:04:56.825863], G_step [128740/1000000], D_step[128740/1000000], d_out_real: 0.0001, d_out_fake: 0.0140, g_loss_fake: 1.1230\r\n"
     ]
    },
    {
     "name": "stdout",
     "output_type": "stream",
     "text": [
      "Elapsed [5:05:08.152265], G_step [128750/1000000], D_step[128750/1000000], d_out_real: 0.0539, d_out_fake: 0.0000, g_loss_fake: 1.0756\r\n"
     ]
    },
    {
     "name": "stdout",
     "output_type": "stream",
     "text": [
      "Elapsed [5:05:18.751751], G_step [128760/1000000], D_step[128760/1000000], d_out_real: 0.0647, d_out_fake: 0.0736, g_loss_fake: 1.0720\r\n"
     ]
    },
    {
     "name": "stdout",
     "output_type": "stream",
     "text": [
      "Elapsed [5:05:29.358761], G_step [128770/1000000], D_step[128770/1000000], d_out_real: 0.0000, d_out_fake: 0.0000, g_loss_fake: 1.0383\r\n"
     ]
    },
    {
     "name": "stdout",
     "output_type": "stream",
     "text": [
      "Elapsed [5:05:41.114354], G_step [128780/1000000], D_step[128780/1000000], d_out_real: 0.0656, d_out_fake: 0.0748, g_loss_fake: 1.0237\r\n"
     ]
    },
    {
     "name": "stdout",
     "output_type": "stream",
     "text": [
      "Elapsed [5:05:51.743179], G_step [128790/1000000], D_step[128790/1000000], d_out_real: 0.0628, d_out_fake: 0.0000, g_loss_fake: 1.0751\r\n"
     ]
    },
    {
     "name": "stdout",
     "output_type": "stream",
     "text": [
      "Elapsed [5:06:02.554202], G_step [128800/1000000], D_step[128800/1000000], d_out_real: 0.0641, d_out_fake: 0.1408, g_loss_fake: 1.1349\r\n"
     ]
    },
    {
     "name": "stdout",
     "output_type": "stream",
     "text": [
      "Elapsed [5:06:13.219527], G_step [128810/1000000], D_step[128810/1000000], d_out_real: 0.1458, d_out_fake: 0.0993, g_loss_fake: 1.1131\r\n"
     ]
    },
    {
     "name": "stdout",
     "output_type": "stream",
     "text": [
      "Elapsed [5:06:23.916331], G_step [128820/1000000], D_step[128820/1000000], d_out_real: 0.0600, d_out_fake: 0.0000, g_loss_fake: 0.9147\r\n"
     ]
    },
    {
     "name": "stdout",
     "output_type": "stream",
     "text": [
      "Elapsed [5:06:35.867445], G_step [128830/1000000], D_step[128830/1000000], d_out_real: 0.0075, d_out_fake: 0.0602, g_loss_fake: 1.1445\r\n"
     ]
    },
    {
     "name": "stdout",
     "output_type": "stream",
     "text": [
      "Elapsed [5:06:46.786858], G_step [128840/1000000], D_step[128840/1000000], d_out_real: 0.1343, d_out_fake: 0.1555, g_loss_fake: 1.0757\r\n"
     ]
    },
    {
     "name": "stdout",
     "output_type": "stream",
     "text": [
      "Elapsed [5:06:57.615557], G_step [128850/1000000], D_step[128850/1000000], d_out_real: 0.0663, d_out_fake: 0.0588, g_loss_fake: 1.0693\r\n"
     ]
    },
    {
     "name": "stdout",
     "output_type": "stream",
     "text": [
      "Elapsed [5:07:08.850794], G_step [128860/1000000], D_step[128860/1000000], d_out_real: 0.0000, d_out_fake: 0.0000, g_loss_fake: 1.1441\r\n"
     ]
    },
    {
     "name": "stdout",
     "output_type": "stream",
     "text": [
      "Elapsed [5:07:19.955801], G_step [128870/1000000], D_step[128870/1000000], d_out_real: 0.0000, d_out_fake: 0.0000, g_loss_fake: 1.1400\r\n"
     ]
    },
    {
     "name": "stdout",
     "output_type": "stream",
     "text": [
      "Elapsed [5:07:30.690685], G_step [128880/1000000], D_step[128880/1000000], d_out_real: 0.0000, d_out_fake: 0.0000, g_loss_fake: 1.1155\r\n"
     ]
    },
    {
     "name": "stdout",
     "output_type": "stream",
     "text": [
      "Elapsed [5:07:42.121241], G_step [128890/1000000], D_step[128890/1000000], d_out_real: 0.0000, d_out_fake: 0.0000, g_loss_fake: 0.9964\r\n"
     ]
    },
    {
     "name": "stdout",
     "output_type": "stream",
     "text": [
      "Elapsed [5:07:52.670494], G_step [128900/1000000], D_step[128900/1000000], d_out_real: 0.1193, d_out_fake: 0.0001, g_loss_fake: 1.0342\r\n"
     ]
    },
    {
     "name": "stdout",
     "output_type": "stream",
     "text": [
      "Elapsed [5:08:03.243360], G_step [128910/1000000], D_step[128910/1000000], d_out_real: 0.0297, d_out_fake: 0.0000, g_loss_fake: 1.1404\r\n"
     ]
    },
    {
     "name": "stdout",
     "output_type": "stream",
     "text": [
      "Elapsed [5:08:14.149442], G_step [128920/1000000], D_step[128920/1000000], d_out_real: 0.0000, d_out_fake: 0.0009, g_loss_fake: 1.0811\r\n"
     ]
    },
    {
     "name": "stdout",
     "output_type": "stream",
     "text": [
      "Elapsed [5:08:25.056791], G_step [128930/1000000], D_step[128930/1000000], d_out_real: 0.0000, d_out_fake: 0.0000, g_loss_fake: 1.1179\r\n"
     ]
    },
    {
     "name": "stdout",
     "output_type": "stream",
     "text": [
      "Elapsed [5:08:36.129995], G_step [128940/1000000], D_step[128940/1000000], d_out_real: 0.0000, d_out_fake: 0.0024, g_loss_fake: 1.1567\r\n"
     ]
    },
    {
     "name": "stdout",
     "output_type": "stream",
     "text": [
      "Elapsed [5:08:47.556442], G_step [128950/1000000], D_step[128950/1000000], d_out_real: 0.1196, d_out_fake: 0.0000, g_loss_fake: 1.1063\r\n"
     ]
    },
    {
     "name": "stdout",
     "output_type": "stream",
     "text": [
      "Elapsed [5:08:58.110719], G_step [128960/1000000], D_step[128960/1000000], d_out_real: 0.1125, d_out_fake: 0.0601, g_loss_fake: 1.0709\r\n"
     ]
    },
    {
     "name": "stdout",
     "output_type": "stream",
     "text": [
      "Elapsed [5:09:09.045004], G_step [128970/1000000], D_step[128970/1000000], d_out_real: 0.0000, d_out_fake: 0.0011, g_loss_fake: 1.0715\r\n"
     ]
    },
    {
     "name": "stdout",
     "output_type": "stream",
     "text": [
      "Elapsed [5:09:20.102143], G_step [128980/1000000], D_step[128980/1000000], d_out_real: 0.0000, d_out_fake: 0.0104, g_loss_fake: 1.1047\r\n"
     ]
    },
    {
     "name": "stdout",
     "output_type": "stream",
     "text": [
      "Elapsed [5:09:30.974328], G_step [128990/1000000], D_step[128990/1000000], d_out_real: 0.1421, d_out_fake: 0.0000, g_loss_fake: 1.0383\r\n"
     ]
    },
    {
     "name": "stdout",
     "output_type": "stream",
     "text": [
      "Elapsed [5:09:43.012969], G_step [129000/1000000], D_step[129000/1000000], d_out_real: 0.0651, d_out_fake: 0.0617, g_loss_fake: 1.0842\r\n",
      "Sample images 129000_fake.png\r\n"
     ]
    },
    {
     "name": "stdout",
     "output_type": "stream",
     "text": [
      "Elapsed [5:09:54.192796], G_step [129010/1000000], D_step[129010/1000000], d_out_real: 0.0631, d_out_fake: 0.0000, g_loss_fake: 1.0054\r\n"
     ]
    },
    {
     "name": "stdout",
     "output_type": "stream",
     "text": [
      "Elapsed [5:10:04.816147], G_step [129020/1000000], D_step[129020/1000000], d_out_real: 0.0738, d_out_fake: 0.0000, g_loss_fake: 0.9855\r\n"
     ]
    },
    {
     "name": "stdout",
     "output_type": "stream",
     "text": [
      "Elapsed [5:10:15.411906], G_step [129030/1000000], D_step[129030/1000000], d_out_real: 0.1609, d_out_fake: 0.0000, g_loss_fake: 1.0612\r\n"
     ]
    },
    {
     "name": "stdout",
     "output_type": "stream",
     "text": [
      "Elapsed [5:10:26.271002], G_step [129040/1000000], D_step[129040/1000000], d_out_real: 0.0070, d_out_fake: 0.0007, g_loss_fake: 1.1278\r\n"
     ]
    },
    {
     "name": "stdout",
     "output_type": "stream",
     "text": [
      "Elapsed [5:10:37.285303], G_step [129050/1000000], D_step[129050/1000000], d_out_real: 0.1669, d_out_fake: 0.0000, g_loss_fake: 1.0478\r\n"
     ]
    },
    {
     "name": "stdout",
     "output_type": "stream",
     "text": [
      "Elapsed [5:10:48.305287], G_step [129060/1000000], D_step[129060/1000000], d_out_real: 0.0000, d_out_fake: 0.0000, g_loss_fake: 1.1147\r\n"
     ]
    },
    {
     "name": "stdout",
     "output_type": "stream",
     "text": [
      "Elapsed [5:10:59.725552], G_step [129070/1000000], D_step[129070/1000000], d_out_real: 0.0000, d_out_fake: 0.0000, g_loss_fake: 1.1784\r\n"
     ]
    },
    {
     "name": "stdout",
     "output_type": "stream",
     "text": [
      "Elapsed [5:11:10.543281], G_step [129080/1000000], D_step[129080/1000000], d_out_real: 0.0000, d_out_fake: 0.0995, g_loss_fake: 1.1824\r\n"
     ]
    },
    {
     "name": "stdout",
     "output_type": "stream",
     "text": [
      "Elapsed [5:11:22.643587], G_step [129090/1000000], D_step[129090/1000000], d_out_real: 0.1251, d_out_fake: 0.0287, g_loss_fake: 1.1757\r\n"
     ]
    },
    {
     "name": "stdout",
     "output_type": "stream",
     "text": [
      "Elapsed [5:11:33.664356], G_step [129100/1000000], D_step[129100/1000000], d_out_real: 0.0000, d_out_fake: 0.0598, g_loss_fake: 1.1058\r\n"
     ]
    },
    {
     "name": "stdout",
     "output_type": "stream",
     "text": [
      "Elapsed [5:11:44.304399], G_step [129110/1000000], D_step[129110/1000000], d_out_real: 0.0618, d_out_fake: 0.0707, g_loss_fake: 1.1123\r\n"
     ]
    },
    {
     "name": "stdout",
     "output_type": "stream",
     "text": [
      "Elapsed [5:11:55.627895], G_step [129120/1000000], D_step[129120/1000000], d_out_real: 0.1915, d_out_fake: 0.0000, g_loss_fake: 1.0232\r\n"
     ]
    },
    {
     "name": "stdout",
     "output_type": "stream",
     "text": [
      "Elapsed [5:12:06.180283], G_step [129130/1000000], D_step[129130/1000000], d_out_real: 0.1322, d_out_fake: 0.0000, g_loss_fake: 1.1372\r\n"
     ]
    },
    {
     "name": "stdout",
     "output_type": "stream",
     "text": [
      "Elapsed [5:12:17.755104], G_step [129140/1000000], D_step[129140/1000000], d_out_real: 0.0636, d_out_fake: 0.0108, g_loss_fake: 1.0601\r\n"
     ]
    },
    {
     "name": "stdout",
     "output_type": "stream",
     "text": [
      "Elapsed [5:12:29.654181], G_step [129150/1000000], D_step[129150/1000000], d_out_real: 0.0000, d_out_fake: 0.0000, g_loss_fake: 1.0642\r\n"
     ]
    },
    {
     "name": "stdout",
     "output_type": "stream",
     "text": [
      "Elapsed [5:12:40.724985], G_step [129160/1000000], D_step[129160/1000000], d_out_real: 0.0647, d_out_fake: 0.0000, g_loss_fake: 1.1251\r\n"
     ]
    },
    {
     "name": "stdout",
     "output_type": "stream",
     "text": [
      "Elapsed [5:12:52.337398], G_step [129170/1000000], D_step[129170/1000000], d_out_real: 0.2008, d_out_fake: 0.0000, g_loss_fake: 1.0071\r\n"
     ]
    },
    {
     "name": "stdout",
     "output_type": "stream",
     "text": [
      "Elapsed [5:13:03.160398], G_step [129180/1000000], D_step[129180/1000000], d_out_real: 0.0655, d_out_fake: 0.0147, g_loss_fake: 1.1763\r\n"
     ]
    },
    {
     "name": "stdout",
     "output_type": "stream",
     "text": [
      "Elapsed [5:13:14.347785], G_step [129190/1000000], D_step[129190/1000000], d_out_real: 0.0288, d_out_fake: 0.0000, g_loss_fake: 1.1108\r\n"
     ]
    },
    {
     "name": "stdout",
     "output_type": "stream",
     "text": [
      "Elapsed [5:13:25.604784], G_step [129200/1000000], D_step[129200/1000000], d_out_real: 0.0740, d_out_fake: 0.0563, g_loss_fake: 1.0747\r\n"
     ]
    },
    {
     "name": "stdout",
     "output_type": "stream",
     "text": [
      "Elapsed [5:13:37.325645], G_step [129210/1000000], D_step[129210/1000000], d_out_real: 0.1300, d_out_fake: 0.1486, g_loss_fake: 0.6879\r\n"
     ]
    },
    {
     "name": "stdout",
     "output_type": "stream",
     "text": [
      "Elapsed [5:13:48.256134], G_step [129220/1000000], D_step[129220/1000000], d_out_real: 0.1166, d_out_fake: 0.0000, g_loss_fake: 1.0400\r\n"
     ]
    },
    {
     "name": "stdout",
     "output_type": "stream",
     "text": [
      "Elapsed [5:13:59.243924], G_step [129230/1000000], D_step[129230/1000000], d_out_real: 0.0634, d_out_fake: 0.0000, g_loss_fake: 1.1463\r\n"
     ]
    },
    {
     "name": "stdout",
     "output_type": "stream",
     "text": [
      "Elapsed [5:14:10.162852], G_step [129240/1000000], D_step[129240/1000000], d_out_real: 0.0655, d_out_fake: 0.0467, g_loss_fake: 1.1151\r\n"
     ]
    },
    {
     "name": "stdout",
     "output_type": "stream",
     "text": [
      "Elapsed [5:14:21.056914], G_step [129250/1000000], D_step[129250/1000000], d_out_real: 0.1195, d_out_fake: 0.0002, g_loss_fake: 1.0770\r\n"
     ]
    },
    {
     "name": "stdout",
     "output_type": "stream",
     "text": [
      "Elapsed [5:14:32.413945], G_step [129260/1000000], D_step[129260/1000000], d_out_real: 0.0660, d_out_fake: 0.0799, g_loss_fake: 1.1249\r\n"
     ]
    },
    {
     "name": "stdout",
     "output_type": "stream",
     "text": [
      "Elapsed [5:14:43.789632], G_step [129270/1000000], D_step[129270/1000000], d_out_real: 0.1479, d_out_fake: 0.1134, g_loss_fake: 1.0853\r\n"
     ]
    },
    {
     "name": "stdout",
     "output_type": "stream",
     "text": [
      "Elapsed [5:14:54.750584], G_step [129280/1000000], D_step[129280/1000000], d_out_real: 0.0000, d_out_fake: 0.0000, g_loss_fake: 1.0822\r\n"
     ]
    },
    {
     "name": "stdout",
     "output_type": "stream",
     "text": [
      "Elapsed [5:15:06.212220], G_step [129290/1000000], D_step[129290/1000000], d_out_real: 0.0481, d_out_fake: 0.0273, g_loss_fake: 1.1456\r\n"
     ]
    },
    {
     "name": "stdout",
     "output_type": "stream",
     "text": [
      "Elapsed [5:15:16.869101], G_step [129300/1000000], D_step[129300/1000000], d_out_real: 0.0000, d_out_fake: 0.0117, g_loss_fake: 1.1999\r\n"
     ]
    },
    {
     "name": "stdout",
     "output_type": "stream",
     "text": [
      "Elapsed [5:15:28.727664], G_step [129310/1000000], D_step[129310/1000000], d_out_real: 0.0002, d_out_fake: 0.0166, g_loss_fake: 1.1154\r\n"
     ]
    },
    {
     "name": "stdout",
     "output_type": "stream",
     "text": [
      "Elapsed [5:15:39.903232], G_step [129320/1000000], D_step[129320/1000000], d_out_real: 0.0000, d_out_fake: 0.0000, g_loss_fake: 1.1738\r\n"
     ]
    },
    {
     "name": "stdout",
     "output_type": "stream",
     "text": [
      "Elapsed [5:15:51.196028], G_step [129330/1000000], D_step[129330/1000000], d_out_real: 0.1763, d_out_fake: 0.0635, g_loss_fake: 0.9092\r\n"
     ]
    },
    {
     "name": "stdout",
     "output_type": "stream",
     "text": [
      "Elapsed [5:16:02.469233], G_step [129340/1000000], D_step[129340/1000000], d_out_real: 0.0634, d_out_fake: 0.0578, g_loss_fake: 1.1134\r\n"
     ]
    },
    {
     "name": "stdout",
     "output_type": "stream",
     "text": [
      "Elapsed [5:16:13.021789], G_step [129350/1000000], D_step[129350/1000000], d_out_real: 0.1921, d_out_fake: 0.0000, g_loss_fake: 1.0146\r\n"
     ]
    },
    {
     "name": "stdout",
     "output_type": "stream",
     "text": [
      "Elapsed [5:16:24.021655], G_step [129360/1000000], D_step[129360/1000000], d_out_real: 0.0000, d_out_fake: 0.0019, g_loss_fake: 1.0580\r\n"
     ]
    },
    {
     "name": "stdout",
     "output_type": "stream",
     "text": [
      "Elapsed [5:16:34.913195], G_step [129370/1000000], D_step[129370/1000000], d_out_real: 0.0750, d_out_fake: 0.0000, g_loss_fake: 1.0417\r\n"
     ]
    },
    {
     "name": "stdout",
     "output_type": "stream",
     "text": [
      "Elapsed [5:16:45.924283], G_step [129380/1000000], D_step[129380/1000000], d_out_real: 0.0000, d_out_fake: 0.0002, g_loss_fake: 1.1934\r\n"
     ]
    },
    {
     "name": "stdout",
     "output_type": "stream",
     "text": [
      "Elapsed [5:16:56.549679], G_step [129390/1000000], D_step[129390/1000000], d_out_real: 0.0694, d_out_fake: 0.0278, g_loss_fake: 1.0987\r\n"
     ]
    },
    {
     "name": "stdout",
     "output_type": "stream",
     "text": [
      "Elapsed [5:17:07.422241], G_step [129400/1000000], D_step[129400/1000000], d_out_real: 0.0648, d_out_fake: 0.1891, g_loss_fake: 1.0869\r\n"
     ]
    },
    {
     "name": "stdout",
     "output_type": "stream",
     "text": [
      "Elapsed [5:17:18.590415], G_step [129410/1000000], D_step[129410/1000000], d_out_real: 0.0000, d_out_fake: 0.0045, g_loss_fake: 1.1384\r\n"
     ]
    },
    {
     "name": "stdout",
     "output_type": "stream",
     "text": [
      "Elapsed [5:17:29.378275], G_step [129420/1000000], D_step[129420/1000000], d_out_real: 0.0424, d_out_fake: 0.0000, g_loss_fake: 0.9882\r\n"
     ]
    },
    {
     "name": "stdout",
     "output_type": "stream",
     "text": [
      "Elapsed [5:17:40.122854], G_step [129430/1000000], D_step[129430/1000000], d_out_real: 0.0677, d_out_fake: 0.0220, g_loss_fake: 1.1054\r\n"
     ]
    },
    {
     "name": "stdout",
     "output_type": "stream",
     "text": [
      "Elapsed [5:17:50.736795], G_step [129440/1000000], D_step[129440/1000000], d_out_real: 0.0005, d_out_fake: 0.0000, g_loss_fake: 1.0944\r\n"
     ]
    },
    {
     "name": "stdout",
     "output_type": "stream",
     "text": [
      "Elapsed [5:18:01.369492], G_step [129450/1000000], D_step[129450/1000000], d_out_real: 0.0000, d_out_fake: 0.1128, g_loss_fake: 1.0243\r\n"
     ]
    },
    {
     "name": "stdout",
     "output_type": "stream",
     "text": [
      "Elapsed [5:18:13.193079], G_step [129460/1000000], D_step[129460/1000000], d_out_real: 0.1284, d_out_fake: 0.0712, g_loss_fake: 1.0657\r\n"
     ]
    },
    {
     "name": "stdout",
     "output_type": "stream",
     "text": [
      "Elapsed [5:18:24.376698], G_step [129470/1000000], D_step[129470/1000000], d_out_real: 0.0717, d_out_fake: 0.0313, g_loss_fake: 1.1298\r\n"
     ]
    },
    {
     "name": "stdout",
     "output_type": "stream",
     "text": [
      "Elapsed [5:18:35.077775], G_step [129480/1000000], D_step[129480/1000000], d_out_real: 0.1006, d_out_fake: 0.0000, g_loss_fake: 1.0132\r\n"
     ]
    },
    {
     "name": "stdout",
     "output_type": "stream",
     "text": [
      "Elapsed [5:18:46.403453], G_step [129490/1000000], D_step[129490/1000000], d_out_real: 0.0110, d_out_fake: 0.1666, g_loss_fake: 1.0425\r\n"
     ]
    },
    {
     "name": "stdout",
     "output_type": "stream",
     "text": [
      "Elapsed [5:18:57.247014], G_step [129500/1000000], D_step[129500/1000000], d_out_real: 0.1295, d_out_fake: 0.0000, g_loss_fake: 0.9493\r\n"
     ]
    },
    {
     "name": "stdout",
     "output_type": "stream",
     "text": [
      "Elapsed [5:19:08.229952], G_step [129510/1000000], D_step[129510/1000000], d_out_real: 0.0078, d_out_fake: 0.0000, g_loss_fake: 1.0589\r\n"
     ]
    },
    {
     "name": "stdout",
     "output_type": "stream",
     "text": [
      "Elapsed [5:19:19.309115], G_step [129520/1000000], D_step[129520/1000000], d_out_real: 0.0119, d_out_fake: 0.0606, g_loss_fake: 1.0486\r\n"
     ]
    },
    {
     "name": "stdout",
     "output_type": "stream",
     "text": [
      "Elapsed [5:19:30.350729], G_step [129530/1000000], D_step[129530/1000000], d_out_real: 0.1862, d_out_fake: 0.0000, g_loss_fake: 1.0173\r\n"
     ]
    },
    {
     "name": "stdout",
     "output_type": "stream",
     "text": [
      "Elapsed [5:19:42.593879], G_step [129540/1000000], D_step[129540/1000000], d_out_real: 0.1225, d_out_fake: 0.0229, g_loss_fake: 0.9666\r\n"
     ]
    },
    {
     "name": "stdout",
     "output_type": "stream",
     "text": [
      "Elapsed [5:19:53.269635], G_step [129550/1000000], D_step[129550/1000000], d_out_real: 0.0104, d_out_fake: 0.0016, g_loss_fake: 1.2250\r\n"
     ]
    },
    {
     "name": "stdout",
     "output_type": "stream",
     "text": [
      "Elapsed [5:20:04.029687], G_step [129560/1000000], D_step[129560/1000000], d_out_real: 0.0000, d_out_fake: 0.3305, g_loss_fake: 1.1235\r\n"
     ]
    },
    {
     "name": "stdout",
     "output_type": "stream",
     "text": [
      "Elapsed [5:20:15.167939], G_step [129570/1000000], D_step[129570/1000000], d_out_real: 0.0768, d_out_fake: 0.0000, g_loss_fake: 1.0347\r\n"
     ]
    },
    {
     "name": "stdout",
     "output_type": "stream",
     "text": [
      "Elapsed [5:20:25.929817], G_step [129580/1000000], D_step[129580/1000000], d_out_real: 0.0000, d_out_fake: 0.0000, g_loss_fake: 1.0163\r\n"
     ]
    },
    {
     "name": "stdout",
     "output_type": "stream",
     "text": [
      "Elapsed [5:20:36.749538], G_step [129590/1000000], D_step[129590/1000000], d_out_real: 0.0631, d_out_fake: 0.0017, g_loss_fake: 1.0772\r\n"
     ]
    },
    {
     "name": "stdout",
     "output_type": "stream",
     "text": [
      "Elapsed [5:20:47.587309], G_step [129600/1000000], D_step[129600/1000000], d_out_real: 0.0713, d_out_fake: 0.0678, g_loss_fake: 1.1374\r\n"
     ]
    },
    {
     "name": "stdout",
     "output_type": "stream",
     "text": [
      "Elapsed [5:20:59.705063], G_step [129610/1000000], D_step[129610/1000000], d_out_real: 0.1263, d_out_fake: 0.0738, g_loss_fake: 1.0601\r\n"
     ]
    },
    {
     "name": "stdout",
     "output_type": "stream",
     "text": [
      "Elapsed [5:21:11.089242], G_step [129620/1000000], D_step[129620/1000000], d_out_real: 0.0648, d_out_fake: 0.0636, g_loss_fake: 1.1476\r\n"
     ]
    },
    {
     "name": "stdout",
     "output_type": "stream",
     "text": [
      "Elapsed [5:21:22.214254], G_step [129630/1000000], D_step[129630/1000000], d_out_real: 0.0000, d_out_fake: 0.0000, g_loss_fake: 1.1128\r\n"
     ]
    },
    {
     "name": "stdout",
     "output_type": "stream",
     "text": [
      "Elapsed [5:21:33.289174], G_step [129640/1000000], D_step[129640/1000000], d_out_real: 0.0000, d_out_fake: 0.0591, g_loss_fake: 1.0951\r\n"
     ]
    },
    {
     "name": "stdout",
     "output_type": "stream",
     "text": [
      "save torch\r\n"
     ]
    },
    {
     "name": "stdout",
     "output_type": "stream",
     "text": [
      "Elapsed [5:21:44.587144], G_step [129650/1000000], D_step[129650/1000000], d_out_real: 0.1326, d_out_fake: 0.0000, g_loss_fake: 1.0125\r\n"
     ]
    },
    {
     "name": "stdout",
     "output_type": "stream",
     "text": [
      "Elapsed [5:21:57.056375], G_step [129660/1000000], D_step[129660/1000000], d_out_real: 0.1124, d_out_fake: 0.1222, g_loss_fake: 1.0742\r\n"
     ]
    },
    {
     "name": "stdout",
     "output_type": "stream",
     "text": [
      "Elapsed [5:22:07.822095], G_step [129670/1000000], D_step[129670/1000000], d_out_real: 0.0016, d_out_fake: 0.0020, g_loss_fake: 1.0795\r\n"
     ]
    },
    {
     "name": "stdout",
     "output_type": "stream",
     "text": [
      "Elapsed [5:22:18.762208], G_step [129680/1000000], D_step[129680/1000000], d_out_real: 0.0497, d_out_fake: 0.0000, g_loss_fake: 1.0733\r\n"
     ]
    },
    {
     "name": "stdout",
     "output_type": "stream",
     "text": [
      "Elapsed [5:22:29.584030], G_step [129690/1000000], D_step[129690/1000000], d_out_real: 0.1190, d_out_fake: 0.0000, g_loss_fake: 1.1179\r\n"
     ]
    },
    {
     "name": "stdout",
     "output_type": "stream",
     "text": [
      "Elapsed [5:22:40.160020], G_step [129700/1000000], D_step[129700/1000000], d_out_real: 0.1269, d_out_fake: 0.0000, g_loss_fake: 1.0584\r\n"
     ]
    },
    {
     "name": "stdout",
     "output_type": "stream",
     "text": [
      "Elapsed [5:22:51.119568], G_step [129710/1000000], D_step[129710/1000000], d_out_real: 0.1232, d_out_fake: 0.0020, g_loss_fake: 1.0683\r\n"
     ]
    },
    {
     "name": "stdout",
     "output_type": "stream",
     "text": [
      "Elapsed [5:23:01.650618], G_step [129720/1000000], D_step[129720/1000000], d_out_real: 0.1771, d_out_fake: 0.0012, g_loss_fake: 1.0832\r\n"
     ]
    },
    {
     "name": "stdout",
     "output_type": "stream",
     "text": [
      "Elapsed [5:23:12.387688], G_step [129730/1000000], D_step[129730/1000000], d_out_real: 0.1448, d_out_fake: 0.0000, g_loss_fake: 1.0734\r\n"
     ]
    },
    {
     "name": "stdout",
     "output_type": "stream",
     "text": [
      "Elapsed [5:23:23.108142], G_step [129740/1000000], D_step[129740/1000000], d_out_real: 0.0660, d_out_fake: 0.0018, g_loss_fake: 1.1315\r\n"
     ]
    },
    {
     "name": "stdout",
     "output_type": "stream",
     "text": [
      "Elapsed [5:23:33.759125], G_step [129750/1000000], D_step[129750/1000000], d_out_real: 0.0710, d_out_fake: 0.0003, g_loss_fake: 1.0733\r\n"
     ]
    },
    {
     "name": "stdout",
     "output_type": "stream",
     "text": [
      "Elapsed [5:23:45.050359], G_step [129760/1000000], D_step[129760/1000000], d_out_real: 0.1253, d_out_fake: 0.0195, g_loss_fake: 1.1210\r\n"
     ]
    },
    {
     "name": "stdout",
     "output_type": "stream",
     "text": [
      "Elapsed [5:23:56.444716], G_step [129770/1000000], D_step[129770/1000000], d_out_real: 0.0104, d_out_fake: 0.0135, g_loss_fake: 1.1478\r\n"
     ]
    },
    {
     "name": "stdout",
     "output_type": "stream",
     "text": [
      "Elapsed [5:24:07.421072], G_step [129780/1000000], D_step[129780/1000000], d_out_real: 0.0644, d_out_fake: 0.0000, g_loss_fake: 1.1263\r\n"
     ]
    },
    {
     "name": "stdout",
     "output_type": "stream",
     "text": [
      "Elapsed [5:24:18.700357], G_step [129790/1000000], D_step[129790/1000000], d_out_real: 0.1354, d_out_fake: 0.0471, g_loss_fake: 1.1587\r\n"
     ]
    },
    {
     "name": "stdout",
     "output_type": "stream",
     "text": [
      "Elapsed [5:24:30.008090], G_step [129800/1000000], D_step[129800/1000000], d_out_real: 0.0693, d_out_fake: 0.0000, g_loss_fake: 1.0813\r\n"
     ]
    },
    {
     "name": "stdout",
     "output_type": "stream",
     "text": [
      "Elapsed [5:24:40.710672], G_step [129810/1000000], D_step[129810/1000000], d_out_real: 0.0636, d_out_fake: 0.0574, g_loss_fake: 1.1526\r\n"
     ]
    },
    {
     "name": "stdout",
     "output_type": "stream",
     "text": [
      "Elapsed [5:24:51.478054], G_step [129820/1000000], D_step[129820/1000000], d_out_real: 0.1220, d_out_fake: 0.0000, g_loss_fake: 1.0837\r\n"
     ]
    },
    {
     "name": "stdout",
     "output_type": "stream",
     "text": [
      "Elapsed [5:25:02.768524], G_step [129830/1000000], D_step[129830/1000000], d_out_real: 0.0000, d_out_fake: 0.0000, g_loss_fake: 1.1268\r\n"
     ]
    },
    {
     "name": "stdout",
     "output_type": "stream",
     "text": [
      "Elapsed [5:25:13.434854], G_step [129840/1000000], D_step[129840/1000000], d_out_real: 0.1434, d_out_fake: 0.0000, g_loss_fake: 1.0786\r\n"
     ]
    },
    {
     "name": "stdout",
     "output_type": "stream",
     "text": [
      "Elapsed [5:25:24.271159], G_step [129850/1000000], D_step[129850/1000000], d_out_real: 0.0000, d_out_fake: 0.0147, g_loss_fake: 1.1656\r\n"
     ]
    },
    {
     "name": "stdout",
     "output_type": "stream",
     "text": [
      "Elapsed [5:25:35.390343], G_step [129860/1000000], D_step[129860/1000000], d_out_real: 0.0000, d_out_fake: 0.0000, g_loss_fake: 1.1150\r\n"
     ]
    },
    {
     "name": "stdout",
     "output_type": "stream",
     "text": [
      "Elapsed [5:25:46.087281], G_step [129870/1000000], D_step[129870/1000000], d_out_real: 0.0658, d_out_fake: 0.1194, g_loss_fake: 1.1224\r\n"
     ]
    },
    {
     "name": "stdout",
     "output_type": "stream",
     "text": [
      "Elapsed [5:25:57.248325], G_step [129880/1000000], D_step[129880/1000000], d_out_real: 0.1899, d_out_fake: 0.0048, g_loss_fake: 1.0627\r\n"
     ]
    },
    {
     "name": "stdout",
     "output_type": "stream",
     "text": [
      "Elapsed [5:26:08.509233], G_step [129890/1000000], D_step[129890/1000000], d_out_real: 0.0040, d_out_fake: 0.0176, g_loss_fake: 1.1585\r\n"
     ]
    },
    {
     "name": "stdout",
     "output_type": "stream",
     "text": [
      "Elapsed [5:26:19.546293], G_step [129900/1000000], D_step[129900/1000000], d_out_real: 0.1234, d_out_fake: 0.0000, g_loss_fake: 1.0649\r\n"
     ]
    },
    {
     "name": "stdout",
     "output_type": "stream",
     "text": [
      "Elapsed [5:26:31.186464], G_step [129910/1000000], D_step[129910/1000000], d_out_real: 0.1263, d_out_fake: 0.0794, g_loss_fake: 1.0795\r\n"
     ]
    },
    {
     "name": "stdout",
     "output_type": "stream",
     "text": [
      "Elapsed [5:26:42.020575], G_step [129920/1000000], D_step[129920/1000000], d_out_real: 0.1266, d_out_fake: 0.0006, g_loss_fake: 0.9890\r\n"
     ]
    },
    {
     "name": "stdout",
     "output_type": "stream",
     "text": [
      "Elapsed [5:26:52.623032], G_step [129930/1000000], D_step[129930/1000000], d_out_real: 0.0000, d_out_fake: 0.0691, g_loss_fake: 1.0025\r\n"
     ]
    },
    {
     "name": "stdout",
     "output_type": "stream",
     "text": [
      "Elapsed [5:27:03.555193], G_step [129940/1000000], D_step[129940/1000000], d_out_real: 0.0044, d_out_fake: 0.1042, g_loss_fake: 1.0931\r\n"
     ]
    },
    {
     "name": "stdout",
     "output_type": "stream",
     "text": [
      "Elapsed [5:27:14.127098], G_step [129950/1000000], D_step[129950/1000000], d_out_real: 0.0876, d_out_fake: 0.0009, g_loss_fake: 0.9611\r\n"
     ]
    },
    {
     "name": "stdout",
     "output_type": "stream",
     "text": [
      "Elapsed [5:27:24.837200], G_step [129960/1000000], D_step[129960/1000000], d_out_real: 0.0622, d_out_fake: 0.0071, g_loss_fake: 1.0457\r\n"
     ]
    },
    {
     "name": "stdout",
     "output_type": "stream",
     "text": [
      "Elapsed [5:27:35.938268], G_step [129970/1000000], D_step[129970/1000000], d_out_real: 0.0591, d_out_fake: 0.0000, g_loss_fake: 1.0350\r\n"
     ]
    },
    {
     "name": "stdout",
     "output_type": "stream",
     "text": [
      "Elapsed [5:27:46.647859], G_step [129980/1000000], D_step[129980/1000000], d_out_real: 0.0000, d_out_fake: 0.1120, g_loss_fake: 1.0939\r\n"
     ]
    },
    {
     "name": "stdout",
     "output_type": "stream",
     "text": [
      "Elapsed [5:27:57.868608], G_step [129990/1000000], D_step[129990/1000000], d_out_real: 0.3195, d_out_fake: 0.0514, g_loss_fake: 0.9793\r\n"
     ]
    },
    {
     "name": "stdout",
     "output_type": "stream",
     "text": [
      "Elapsed [5:28:09.502567], G_step [130000/1000000], D_step[130000/1000000], d_out_real: 0.0401, d_out_fake: 0.0713, g_loss_fake: 1.0754\r\n",
      "Sample images 130000_fake.png\r\n"
     ]
    },
    {
     "name": "stdout",
     "output_type": "stream",
     "text": [
      "Elapsed [5:28:21.001842], G_step [130010/1000000], D_step[130010/1000000], d_out_real: 0.0641, d_out_fake: 0.0649, g_loss_fake: 0.9817\r\n"
     ]
    },
    {
     "name": "stdout",
     "output_type": "stream",
     "text": [
      "Elapsed [5:28:31.807364], G_step [130020/1000000], D_step[130020/1000000], d_out_real: 0.0643, d_out_fake: 0.0000, g_loss_fake: 1.0529\r\n"
     ]
    },
    {
     "name": "stdout",
     "output_type": "stream",
     "text": [
      "Elapsed [5:28:43.232522], G_step [130030/1000000], D_step[130030/1000000], d_out_real: 0.0093, d_out_fake: 0.0000, g_loss_fake: 1.0773\r\n"
     ]
    },
    {
     "name": "stdout",
     "output_type": "stream",
     "text": [
      "Elapsed [5:28:54.322382], G_step [130040/1000000], D_step[130040/1000000], d_out_real: 0.0000, d_out_fake: 0.0175, g_loss_fake: 1.1642\r\n"
     ]
    },
    {
     "name": "stdout",
     "output_type": "stream",
     "text": [
      "Elapsed [5:29:05.359581], G_step [130050/1000000], D_step[130050/1000000], d_out_real: 0.0613, d_out_fake: 0.0413, g_loss_fake: 1.1339\r\n"
     ]
    },
    {
     "name": "stdout",
     "output_type": "stream",
     "text": [
      "Elapsed [5:29:16.154523], G_step [130060/1000000], D_step[130060/1000000], d_out_real: 0.1262, d_out_fake: 0.0008, g_loss_fake: 1.0616\r\n"
     ]
    },
    {
     "name": "stdout",
     "output_type": "stream",
     "text": [
      "Elapsed [5:29:26.950928], G_step [130070/1000000], D_step[130070/1000000], d_out_real: 0.0314, d_out_fake: 0.0000, g_loss_fake: 1.0358\r\n"
     ]
    },
    {
     "name": "stdout",
     "output_type": "stream",
     "text": [
      "Elapsed [5:29:38.206290], G_step [130080/1000000], D_step[130080/1000000], d_out_real: 0.1901, d_out_fake: 0.0689, g_loss_fake: 1.1033\r\n"
     ]
    },
    {
     "name": "stdout",
     "output_type": "stream",
     "text": [
      "Elapsed [5:29:49.081535], G_step [130090/1000000], D_step[130090/1000000], d_out_real: 0.0615, d_out_fake: 0.0000, g_loss_fake: 1.1067\r\n"
     ]
    },
    {
     "name": "stdout",
     "output_type": "stream",
     "text": [
      "Elapsed [5:30:00.900841], G_step [130100/1000000], D_step[130100/1000000], d_out_real: 0.1234, d_out_fake: 0.0000, g_loss_fake: 0.9972\r\n"
     ]
    },
    {
     "name": "stdout",
     "output_type": "stream",
     "text": [
      "Elapsed [5:30:11.774934], G_step [130110/1000000], D_step[130110/1000000], d_out_real: 0.0640, d_out_fake: 0.0000, g_loss_fake: 0.7710\r\n"
     ]
    },
    {
     "name": "stdout",
     "output_type": "stream",
     "text": [
      "Elapsed [5:30:22.948362], G_step [130120/1000000], D_step[130120/1000000], d_out_real: 0.1086, d_out_fake: 0.0520, g_loss_fake: 1.0807\r\n"
     ]
    },
    {
     "name": "stdout",
     "output_type": "stream",
     "text": [
      "Elapsed [5:30:35.259981], G_step [130130/1000000], D_step[130130/1000000], d_out_real: 0.0075, d_out_fake: 0.0000, g_loss_fake: 1.1627\r\n"
     ]
    },
    {
     "name": "stdout",
     "output_type": "stream",
     "text": [
      "Elapsed [5:30:46.175001], G_step [130140/1000000], D_step[130140/1000000], d_out_real: 0.0000, d_out_fake: 0.0580, g_loss_fake: 1.0866\r\n"
     ]
    },
    {
     "name": "stdout",
     "output_type": "stream",
     "text": [
      "Elapsed [5:30:57.025970], G_step [130150/1000000], D_step[130150/1000000], d_out_real: 0.0831, d_out_fake: 0.0007, g_loss_fake: 1.0156\r\n"
     ]
    },
    {
     "name": "stdout",
     "output_type": "stream",
     "text": [
      "Elapsed [5:31:07.810039], G_step [130160/1000000], D_step[130160/1000000], d_out_real: 0.0933, d_out_fake: 0.0000, g_loss_fake: 1.0371\r\n"
     ]
    },
    {
     "name": "stdout",
     "output_type": "stream",
     "text": [
      "Elapsed [5:31:18.634503], G_step [130170/1000000], D_step[130170/1000000], d_out_real: 0.1857, d_out_fake: 0.0000, g_loss_fake: 0.9936\r\n"
     ]
    },
    {
     "name": "stdout",
     "output_type": "stream",
     "text": [
      "Elapsed [5:31:29.810945], G_step [130180/1000000], D_step[130180/1000000], d_out_real: 0.1268, d_out_fake: 0.1019, g_loss_fake: 1.0810\r\n"
     ]
    },
    {
     "name": "stdout",
     "output_type": "stream",
     "text": [
      "Elapsed [5:31:42.221662], G_step [130190/1000000], D_step[130190/1000000], d_out_real: 0.0675, d_out_fake: 0.0895, g_loss_fake: 1.1874\r\n"
     ]
    },
    {
     "name": "stdout",
     "output_type": "stream",
     "text": [
      "Elapsed [5:31:53.635064], G_step [130200/1000000], D_step[130200/1000000], d_out_real: 0.0000, d_out_fake: 0.0830, g_loss_fake: 1.0268\r\n"
     ]
    },
    {
     "name": "stdout",
     "output_type": "stream",
     "text": [
      "Elapsed [5:32:04.323574], G_step [130210/1000000], D_step[130210/1000000], d_out_real: 0.0634, d_out_fake: 0.0000, g_loss_fake: 1.0684\r\n"
     ]
    },
    {
     "name": "stdout",
     "output_type": "stream",
     "text": [
      "Elapsed [5:32:15.898388], G_step [130220/1000000], D_step[130220/1000000], d_out_real: 0.0165, d_out_fake: 0.0918, g_loss_fake: 1.1447\r\n"
     ]
    },
    {
     "name": "stdout",
     "output_type": "stream",
     "text": [
      "Elapsed [5:32:27.817941], G_step [130230/1000000], D_step[130230/1000000], d_out_real: 0.0000, d_out_fake: 0.0014, g_loss_fake: 0.9397\r\n"
     ]
    },
    {
     "name": "stdout",
     "output_type": "stream",
     "text": [
      "Elapsed [5:32:38.773640], G_step [130240/1000000], D_step[130240/1000000], d_out_real: 0.1194, d_out_fake: 0.0000, g_loss_fake: 1.1250\r\n"
     ]
    },
    {
     "name": "stdout",
     "output_type": "stream",
     "text": [
      "Elapsed [5:32:49.756730], G_step [130250/1000000], D_step[130250/1000000], d_out_real: 0.1278, d_out_fake: 0.0168, g_loss_fake: 1.0807\r\n"
     ]
    },
    {
     "name": "stdout",
     "output_type": "stream",
     "text": [
      "Elapsed [5:33:00.457284], G_step [130260/1000000], D_step[130260/1000000], d_out_real: 0.0722, d_out_fake: 0.1514, g_loss_fake: 1.0901\r\n"
     ]
    },
    {
     "name": "stdout",
     "output_type": "stream",
     "text": [
      "Elapsed [5:33:11.389731], G_step [130270/1000000], D_step[130270/1000000], d_out_real: 0.0643, d_out_fake: 0.0193, g_loss_fake: 1.0478\r\n"
     ]
    },
    {
     "name": "stdout",
     "output_type": "stream",
     "text": [
      "Elapsed [5:33:22.223910], G_step [130280/1000000], D_step[130280/1000000], d_out_real: 0.0014, d_out_fake: 0.0540, g_loss_fake: 1.1484\r\n"
     ]
    },
    {
     "name": "stdout",
     "output_type": "stream",
     "text": [
      "Elapsed [5:33:33.703058], G_step [130290/1000000], D_step[130290/1000000], d_out_real: 0.0746, d_out_fake: 0.0000, g_loss_fake: 1.0503\r\n"
     ]
    },
    {
     "name": "stdout",
     "output_type": "stream",
     "text": [
      "Elapsed [5:33:44.642280], G_step [130300/1000000], D_step[130300/1000000], d_out_real: 0.0638, d_out_fake: 0.0000, g_loss_fake: 1.1137\r\n"
     ]
    },
    {
     "name": "stdout",
     "output_type": "stream",
     "text": [
      "Elapsed [5:33:56.009845], G_step [130310/1000000], D_step[130310/1000000], d_out_real: 0.1815, d_out_fake: 0.0031, g_loss_fake: 0.9846\r\n"
     ]
    },
    {
     "name": "stdout",
     "output_type": "stream",
     "text": [
      "Elapsed [5:34:06.840852], G_step [130320/1000000], D_step[130320/1000000], d_out_real: 0.0697, d_out_fake: 0.0489, g_loss_fake: 1.1751\r\n"
     ]
    },
    {
     "name": "stdout",
     "output_type": "stream",
     "text": [
      "Elapsed [5:34:18.042145], G_step [130330/1000000], D_step[130330/1000000], d_out_real: 0.0551, d_out_fake: 0.0209, g_loss_fake: 1.1727\r\n"
     ]
    },
    {
     "name": "stdout",
     "output_type": "stream",
     "text": [
      "Elapsed [5:34:28.672713], G_step [130340/1000000], D_step[130340/1000000], d_out_real: 0.1260, d_out_fake: 0.0000, g_loss_fake: 1.0666\r\n"
     ]
    },
    {
     "name": "stdout",
     "output_type": "stream",
     "text": [
      "Elapsed [5:34:39.167130], G_step [130350/1000000], D_step[130350/1000000], d_out_real: 0.0060, d_out_fake: 0.0290, g_loss_fake: 1.1570\r\n"
     ]
    },
    {
     "name": "stdout",
     "output_type": "stream",
     "text": [
      "Elapsed [5:34:50.268244], G_step [130360/1000000], D_step[130360/1000000], d_out_real: 0.1940, d_out_fake: 0.0000, g_loss_fake: 1.0672\r\n"
     ]
    },
    {
     "name": "stdout",
     "output_type": "stream",
     "text": [
      "Elapsed [5:35:01.260674], G_step [130370/1000000], D_step[130370/1000000], d_out_real: 0.0468, d_out_fake: 0.0609, g_loss_fake: 1.0973\r\n"
     ]
    },
    {
     "name": "stdout",
     "output_type": "stream",
     "text": [
      "Elapsed [5:35:11.860140], G_step [130380/1000000], D_step[130380/1000000], d_out_real: 0.0041, d_out_fake: 0.0213, g_loss_fake: 1.1762\r\n"
     ]
    },
    {
     "name": "stdout",
     "output_type": "stream",
     "text": [
      "Elapsed [5:35:23.259419], G_step [130390/1000000], D_step[130390/1000000], d_out_real: 0.1359, d_out_fake: 0.1534, g_loss_fake: 1.1690\r\n"
     ]
    },
    {
     "name": "stdout",
     "output_type": "stream",
     "text": [
      "Elapsed [5:35:35.089955], G_step [130400/1000000], D_step[130400/1000000], d_out_real: 0.1572, d_out_fake: 0.0616, g_loss_fake: 1.0612\r\n"
     ]
    },
    {
     "name": "stdout",
     "output_type": "stream",
     "text": [
      "Elapsed [5:35:45.916106], G_step [130410/1000000], D_step[130410/1000000], d_out_real: 0.0628, d_out_fake: 0.0019, g_loss_fake: 1.0723\r\n"
     ]
    },
    {
     "name": "stdout",
     "output_type": "stream",
     "text": [
      "Elapsed [5:35:57.184384], G_step [130420/1000000], D_step[130420/1000000], d_out_real: 0.1227, d_out_fake: 0.0727, g_loss_fake: 0.9161\r\n"
     ]
    },
    {
     "name": "stdout",
     "output_type": "stream",
     "text": [
      "Elapsed [5:36:08.704294], G_step [130430/1000000], D_step[130430/1000000], d_out_real: 0.0658, d_out_fake: 0.0000, g_loss_fake: 0.9940\r\n"
     ]
    },
    {
     "name": "stdout",
     "output_type": "stream",
     "text": [
      "Elapsed [5:36:20.129186], G_step [130440/1000000], D_step[130440/1000000], d_out_real: 0.1898, d_out_fake: 0.0051, g_loss_fake: 1.1175\r\n"
     ]
    },
    {
     "name": "stdout",
     "output_type": "stream",
     "text": [
      "Elapsed [5:36:31.195083], G_step [130450/1000000], D_step[130450/1000000], d_out_real: 0.0000, d_out_fake: 0.1141, g_loss_fake: 1.1013\r\n"
     ]
    },
    {
     "name": "stdout",
     "output_type": "stream",
     "text": [
      "Elapsed [5:36:41.879858], G_step [130460/1000000], D_step[130460/1000000], d_out_real: 0.0000, d_out_fake: 0.0000, g_loss_fake: 1.1133\r\n"
     ]
    },
    {
     "name": "stdout",
     "output_type": "stream",
     "text": [
      "Elapsed [5:36:53.306474], G_step [130470/1000000], D_step[130470/1000000], d_out_real: 0.0623, d_out_fake: 0.0865, g_loss_fake: 1.0477\r\n"
     ]
    },
    {
     "name": "stdout",
     "output_type": "stream",
     "text": [
      "Elapsed [5:37:05.130079], G_step [130480/1000000], D_step[130480/1000000], d_out_real: 0.1762, d_out_fake: 0.0000, g_loss_fake: 0.9341\r\n"
     ]
    },
    {
     "name": "stdout",
     "output_type": "stream",
     "text": [
      "Elapsed [5:37:15.794042], G_step [130490/1000000], D_step[130490/1000000], d_out_real: 0.0189, d_out_fake: 0.0009, g_loss_fake: 1.0468\r\n"
     ]
    },
    {
     "name": "stdout",
     "output_type": "stream",
     "text": [
      "Elapsed [5:37:26.616154], G_step [130500/1000000], D_step[130500/1000000], d_out_real: 0.0604, d_out_fake: 0.3317, g_loss_fake: 1.1257\r\n"
     ]
    },
    {
     "name": "stdout",
     "output_type": "stream",
     "text": [
      "Elapsed [5:37:37.415021], G_step [130510/1000000], D_step[130510/1000000], d_out_real: 0.0000, d_out_fake: 0.0227, g_loss_fake: 1.1133\r\n"
     ]
    },
    {
     "name": "stdout",
     "output_type": "stream",
     "text": [
      "Elapsed [5:37:48.021023], G_step [130520/1000000], D_step[130520/1000000], d_out_real: 0.0132, d_out_fake: 0.0722, g_loss_fake: 1.0542\r\n"
     ]
    },
    {
     "name": "stdout",
     "output_type": "stream",
     "text": [
      "Elapsed [5:37:59.134816], G_step [130530/1000000], D_step[130530/1000000], d_out_real: 0.0000, d_out_fake: 0.0326, g_loss_fake: 1.0826\r\n"
     ]
    },
    {
     "name": "stdout",
     "output_type": "stream",
     "text": [
      "Elapsed [5:38:10.280623], G_step [130540/1000000], D_step[130540/1000000], d_out_real: 0.0000, d_out_fake: 0.3107, g_loss_fake: 1.1038\r\n"
     ]
    },
    {
     "name": "stdout",
     "output_type": "stream",
     "text": [
      "Elapsed [5:38:20.874302], G_step [130550/1000000], D_step[130550/1000000], d_out_real: 0.0953, d_out_fake: 0.1428, g_loss_fake: 0.8146\r\n"
     ]
    },
    {
     "name": "stdout",
     "output_type": "stream",
     "text": [
      "Elapsed [5:38:31.496746], G_step [130560/1000000], D_step[130560/1000000], d_out_real: 0.0409, d_out_fake: 0.1102, g_loss_fake: 1.0371\r\n"
     ]
    },
    {
     "name": "stdout",
     "output_type": "stream",
     "text": [
      "Elapsed [5:38:42.568385], G_step [130570/1000000], D_step[130570/1000000], d_out_real: 0.1584, d_out_fake: 0.0682, g_loss_fake: 1.0596\r\n"
     ]
    },
    {
     "name": "stdout",
     "output_type": "stream",
     "text": [
      "Elapsed [5:38:53.736183], G_step [130580/1000000], D_step[130580/1000000], d_out_real: 0.1269, d_out_fake: 0.0249, g_loss_fake: 1.0333\r\n"
     ]
    },
    {
     "name": "stdout",
     "output_type": "stream",
     "text": [
      "Elapsed [5:39:05.915715], G_step [130590/1000000], D_step[130590/1000000], d_out_real: 0.1204, d_out_fake: 0.0000, g_loss_fake: 0.9983\r\n"
     ]
    },
    {
     "name": "stdout",
     "output_type": "stream",
     "text": [
      "Elapsed [5:39:16.605780], G_step [130600/1000000], D_step[130600/1000000], d_out_real: 0.0661, d_out_fake: 0.0012, g_loss_fake: 1.0808\r\n"
     ]
    },
    {
     "name": "stdout",
     "output_type": "stream",
     "text": [
      "Elapsed [5:39:27.190793], G_step [130610/1000000], D_step[130610/1000000], d_out_real: 0.0468, d_out_fake: 0.0000, g_loss_fake: 1.1204\r\n"
     ]
    },
    {
     "name": "stdout",
     "output_type": "stream",
     "text": [
      "Elapsed [5:39:38.177008], G_step [130620/1000000], D_step[130620/1000000], d_out_real: 0.1957, d_out_fake: 0.0717, g_loss_fake: 1.1273\r\n"
     ]
    },
    {
     "name": "stdout",
     "output_type": "stream",
     "text": [
      "Elapsed [5:39:49.617563], G_step [130630/1000000], D_step[130630/1000000], d_out_real: 0.0631, d_out_fake: 0.0001, g_loss_fake: 1.0967\r\n"
     ]
    },
    {
     "name": "stdout",
     "output_type": "stream",
     "text": [
      "Elapsed [5:40:00.360672], G_step [130640/1000000], D_step[130640/1000000], d_out_real: 0.0711, d_out_fake: 0.0000, g_loss_fake: 1.0501\r\n"
     ]
    },
    {
     "name": "stdout",
     "output_type": "stream",
     "text": [
      "Elapsed [5:40:11.046588], G_step [130650/1000000], D_step[130650/1000000], d_out_real: 0.1256, d_out_fake: 0.0032, g_loss_fake: 1.0628\r\n"
     ]
    },
    {
     "name": "stdout",
     "output_type": "stream",
     "text": [
      "Elapsed [5:40:21.925238], G_step [130660/1000000], D_step[130660/1000000], d_out_real: 0.1846, d_out_fake: 0.0000, g_loss_fake: 1.0528\r\n"
     ]
    },
    {
     "name": "stdout",
     "output_type": "stream",
     "text": [
      "Elapsed [5:40:32.836875], G_step [130670/1000000], D_step[130670/1000000], d_out_real: 0.0632, d_out_fake: 0.0000, g_loss_fake: 0.9861\r\n"
     ]
    },
    {
     "name": "stdout",
     "output_type": "stream",
     "text": [
      "Elapsed [5:40:44.076865], G_step [130680/1000000], D_step[130680/1000000], d_out_real: 0.1819, d_out_fake: 0.0348, g_loss_fake: 1.0645\r\n"
     ]
    },
    {
     "name": "stdout",
     "output_type": "stream",
     "text": [
      "Elapsed [5:40:54.920044], G_step [130690/1000000], D_step[130690/1000000], d_out_real: 0.2420, d_out_fake: 0.0693, g_loss_fake: 1.0467\r\n"
     ]
    },
    {
     "name": "stdout",
     "output_type": "stream",
     "text": [
      "Elapsed [5:41:05.692196], G_step [130700/1000000], D_step[130700/1000000], d_out_real: 0.0107, d_out_fake: 0.0201, g_loss_fake: 0.9440\r\n"
     ]
    },
    {
     "name": "stdout",
     "output_type": "stream",
     "text": [
      "Elapsed [5:41:17.244244], G_step [130710/1000000], D_step[130710/1000000], d_out_real: 0.0000, d_out_fake: 0.0120, g_loss_fake: 1.0939\r\n"
     ]
    },
    {
     "name": "stdout",
     "output_type": "stream",
     "text": [
      "Elapsed [5:41:28.513392], G_step [130720/1000000], D_step[130720/1000000], d_out_real: 0.0000, d_out_fake: 0.0641, g_loss_fake: 1.0977\r\n"
     ]
    },
    {
     "name": "stdout",
     "output_type": "stream",
     "text": [
      "Elapsed [5:41:39.787084], G_step [130730/1000000], D_step[130730/1000000], d_out_real: 0.0625, d_out_fake: 0.0158, g_loss_fake: 1.0581\r\n"
     ]
    },
    {
     "name": "stdout",
     "output_type": "stream",
     "text": [
      "Elapsed [5:41:50.796228], G_step [130740/1000000], D_step[130740/1000000], d_out_real: 0.0551, d_out_fake: 0.0077, g_loss_fake: 1.0359\r\n"
     ]
    },
    {
     "name": "stdout",
     "output_type": "stream",
     "text": [
      "Elapsed [5:42:01.656880], G_step [130750/1000000], D_step[130750/1000000], d_out_real: 0.0000, d_out_fake: 0.2743, g_loss_fake: 1.1087\r\n"
     ]
    },
    {
     "name": "stdout",
     "output_type": "stream",
     "text": [
      "Elapsed [5:42:12.580666], G_step [130760/1000000], D_step[130760/1000000], d_out_real: 0.0000, d_out_fake: 0.0506, g_loss_fake: 1.1192\r\n"
     ]
    },
    {
     "name": "stdout",
     "output_type": "stream",
     "text": [
      "Elapsed [5:42:23.436027], G_step [130770/1000000], D_step[130770/1000000], d_out_real: 0.0000, d_out_fake: 0.0985, g_loss_fake: 0.9976\r\n"
     ]
    },
    {
     "name": "stdout",
     "output_type": "stream",
     "text": [
      "Elapsed [5:42:34.570578], G_step [130780/1000000], D_step[130780/1000000], d_out_real: 0.3390, d_out_fake: 0.0000, g_loss_fake: 0.8940\r\n"
     ]
    },
    {
     "name": "stdout",
     "output_type": "stream",
     "text": [
      "Elapsed [5:42:47.771431], G_step [130790/1000000], D_step[130790/1000000], d_out_real: 0.0000, d_out_fake: 0.0712, g_loss_fake: 1.1289\r\n"
     ]
    },
    {
     "name": "stdout",
     "output_type": "stream",
     "text": [
      "Elapsed [5:42:58.957506], G_step [130800/1000000], D_step[130800/1000000], d_out_real: 0.0681, d_out_fake: 0.0532, g_loss_fake: 1.0564\r\n"
     ]
    },
    {
     "name": "stdout",
     "output_type": "stream",
     "text": [
      "Elapsed [5:43:09.782212], G_step [130810/1000000], D_step[130810/1000000], d_out_real: 0.0629, d_out_fake: 0.0001, g_loss_fake: 1.1124\r\n"
     ]
    },
    {
     "name": "stdout",
     "output_type": "stream",
     "text": [
      "Elapsed [5:43:22.349652], G_step [130820/1000000], D_step[130820/1000000], d_out_real: 0.0002, d_out_fake: 0.0016, g_loss_fake: 0.9999\r\n"
     ]
    },
    {
     "name": "stdout",
     "output_type": "stream",
     "text": [
      "Elapsed [5:43:34.051672], G_step [130830/1000000], D_step[130830/1000000], d_out_real: 0.0625, d_out_fake: 0.0035, g_loss_fake: 1.1234\r\n"
     ]
    },
    {
     "name": "stdout",
     "output_type": "stream",
     "text": [
      "Elapsed [5:43:45.056710], G_step [130840/1000000], D_step[130840/1000000], d_out_real: 0.1292, d_out_fake: 0.0001, g_loss_fake: 0.9352\r\n"
     ]
    },
    {
     "name": "stdout",
     "output_type": "stream",
     "text": [
      "Elapsed [5:43:56.839221], G_step [130850/1000000], D_step[130850/1000000], d_out_real: 0.0116, d_out_fake: 0.0306, g_loss_fake: 1.0011\r\n"
     ]
    },
    {
     "name": "stdout",
     "output_type": "stream",
     "text": [
      "Elapsed [5:44:07.668508], G_step [130860/1000000], D_step[130860/1000000], d_out_real: 0.0000, d_out_fake: 0.0008, g_loss_fake: 1.0955\r\n"
     ]
    },
    {
     "name": "stdout",
     "output_type": "stream",
     "text": [
      "Elapsed [5:44:19.375613], G_step [130870/1000000], D_step[130870/1000000], d_out_real: 0.0642, d_out_fake: 0.0000, g_loss_fake: 0.9523\r\n"
     ]
    },
    {
     "name": "stdout",
     "output_type": "stream",
     "text": [
      "Elapsed [5:44:30.307286], G_step [130880/1000000], D_step[130880/1000000], d_out_real: 0.1286, d_out_fake: 0.0000, g_loss_fake: 1.0303\r\n"
     ]
    },
    {
     "name": "stdout",
     "output_type": "stream",
     "text": [
      "Elapsed [5:44:41.485071], G_step [130890/1000000], D_step[130890/1000000], d_out_real: 0.0658, d_out_fake: 0.0000, g_loss_fake: 1.0570\r\n"
     ]
    },
    {
     "name": "stdout",
     "output_type": "stream",
     "text": [
      "Elapsed [5:44:53.251300], G_step [130900/1000000], D_step[130900/1000000], d_out_real: 0.1881, d_out_fake: 0.0000, g_loss_fake: 1.0631\r\n"
     ]
    },
    {
     "name": "stdout",
     "output_type": "stream",
     "text": [
      "Elapsed [5:45:04.670822], G_step [130910/1000000], D_step[130910/1000000], d_out_real: 0.0635, d_out_fake: 0.0704, g_loss_fake: 0.9982\r\n"
     ]
    },
    {
     "name": "stdout",
     "output_type": "stream",
     "text": [
      "Elapsed [5:45:15.362441], G_step [130920/1000000], D_step[130920/1000000], d_out_real: 0.0818, d_out_fake: 0.0000, g_loss_fake: 1.0405\r\n"
     ]
    },
    {
     "name": "stdout",
     "output_type": "stream",
     "text": [
      "Elapsed [5:45:26.509573], G_step [130930/1000000], D_step[130930/1000000], d_out_real: 0.0569, d_out_fake: 0.1204, g_loss_fake: 1.1697\r\n"
     ]
    },
    {
     "name": "stdout",
     "output_type": "stream",
     "text": [
      "Elapsed [5:45:37.455981], G_step [130940/1000000], D_step[130940/1000000], d_out_real: 0.0639, d_out_fake: 0.0000, g_loss_fake: 0.9326\r\n"
     ]
    },
    {
     "name": "stdout",
     "output_type": "stream",
     "text": [
      "Elapsed [5:45:48.378048], G_step [130950/1000000], D_step[130950/1000000], d_out_real: 0.0656, d_out_fake: 0.0636, g_loss_fake: 0.9361\r\n"
     ]
    },
    {
     "name": "stdout",
     "output_type": "stream",
     "text": [
      "Elapsed [5:45:59.764168], G_step [130960/1000000], D_step[130960/1000000], d_out_real: 0.1309, d_out_fake: 0.0000, g_loss_fake: 1.0424\r\n"
     ]
    },
    {
     "name": "stdout",
     "output_type": "stream",
     "text": [
      "Elapsed [5:46:10.670326], G_step [130970/1000000], D_step[130970/1000000], d_out_real: 0.0643, d_out_fake: 0.0344, g_loss_fake: 1.0552\r\n"
     ]
    },
    {
     "name": "stdout",
     "output_type": "stream",
     "text": [
      "Elapsed [5:46:21.603168], G_step [130980/1000000], D_step[130980/1000000], d_out_real: 0.0961, d_out_fake: 0.0000, g_loss_fake: 0.8894\r\n"
     ]
    },
    {
     "name": "stdout",
     "output_type": "stream",
     "text": [
      "Elapsed [5:46:33.254203], G_step [130990/1000000], D_step[130990/1000000], d_out_real: 0.1966, d_out_fake: 0.0000, g_loss_fake: 1.0922\r\n"
     ]
    },
    {
     "name": "stdout",
     "output_type": "stream",
     "text": [
      "Elapsed [5:46:44.145794], G_step [131000/1000000], D_step[131000/1000000], d_out_real: 0.0643, d_out_fake: 0.1457, g_loss_fake: 1.0472\r\n",
      "Sample images 131000_fake.png\r\n"
     ]
    },
    {
     "name": "stdout",
     "output_type": "stream",
     "text": [
      "Elapsed [5:46:55.390024], G_step [131010/1000000], D_step[131010/1000000], d_out_real: 0.1282, d_out_fake: 0.0000, g_loss_fake: 1.0735\r\n"
     ]
    },
    {
     "name": "stdout",
     "output_type": "stream",
     "text": [
      "Elapsed [5:47:06.112950], G_step [131020/1000000], D_step[131020/1000000], d_out_real: 0.1308, d_out_fake: 0.1594, g_loss_fake: 1.0412\r\n"
     ]
    },
    {
     "name": "stdout",
     "output_type": "stream",
     "text": [
      "Elapsed [5:47:17.546693], G_step [131030/1000000], D_step[131030/1000000], d_out_real: 0.0000, d_out_fake: 0.0535, g_loss_fake: 1.1117\r\n"
     ]
    },
    {
     "name": "stdout",
     "output_type": "stream",
     "text": [
      "Elapsed [5:47:28.497943], G_step [131040/1000000], D_step[131040/1000000], d_out_real: 0.2099, d_out_fake: 0.0000, g_loss_fake: 1.0103\r\n"
     ]
    },
    {
     "name": "stdout",
     "output_type": "stream",
     "text": [
      "Elapsed [5:47:39.657670], G_step [131050/1000000], D_step[131050/1000000], d_out_real: 0.1299, d_out_fake: 0.0331, g_loss_fake: 1.0641\r\n"
     ]
    },
    {
     "name": "stdout",
     "output_type": "stream",
     "text": [
      "Elapsed [5:47:50.865018], G_step [131060/1000000], D_step[131060/1000000], d_out_real: 0.0000, d_out_fake: 0.0006, g_loss_fake: 1.0926\r\n"
     ]
    },
    {
     "name": "stdout",
     "output_type": "stream",
     "text": [
      "Elapsed [5:48:01.993024], G_step [131070/1000000], D_step[131070/1000000], d_out_real: 0.0000, d_out_fake: 0.0000, g_loss_fake: 1.0999\r\n"
     ]
    },
    {
     "name": "stdout",
     "output_type": "stream",
     "text": [
      "Elapsed [5:48:12.740210], G_step [131080/1000000], D_step[131080/1000000], d_out_real: 0.0667, d_out_fake: 0.0702, g_loss_fake: 0.9930\r\n"
     ]
    },
    {
     "name": "stdout",
     "output_type": "stream",
     "text": [
      "Elapsed [5:48:23.882030], G_step [131090/1000000], D_step[131090/1000000], d_out_real: 0.0196, d_out_fake: 0.2680, g_loss_fake: 0.9856\r\n"
     ]
    },
    {
     "name": "stdout",
     "output_type": "stream",
     "text": [
      "Elapsed [5:48:34.866710], G_step [131100/1000000], D_step[131100/1000000], d_out_real: 0.1301, d_out_fake: 0.0000, g_loss_fake: 0.9326\r\n"
     ]
    },
    {
     "name": "stdout",
     "output_type": "stream",
     "text": [
      "Elapsed [5:48:45.754701], G_step [131110/1000000], D_step[131110/1000000], d_out_real: 0.2056, d_out_fake: 0.0041, g_loss_fake: 1.1125\r\n"
     ]
    },
    {
     "name": "stdout",
     "output_type": "stream",
     "text": [
      "Elapsed [5:48:56.322784], G_step [131120/1000000], D_step[131120/1000000], d_out_real: 0.0761, d_out_fake: 0.0229, g_loss_fake: 1.0689\r\n"
     ]
    },
    {
     "name": "stdout",
     "output_type": "stream",
     "text": [
      "Elapsed [5:49:07.357809], G_step [131130/1000000], D_step[131130/1000000], d_out_real: 0.1518, d_out_fake: 0.0000, g_loss_fake: 1.0853\r\n"
     ]
    },
    {
     "name": "stdout",
     "output_type": "stream",
     "text": [
      "Elapsed [5:49:18.110792], G_step [131140/1000000], D_step[131140/1000000], d_out_real: 0.1253, d_out_fake: 0.0729, g_loss_fake: 1.0396\r\n"
     ]
    },
    {
     "name": "stdout",
     "output_type": "stream",
     "text": [
      "Elapsed [5:49:28.631090], G_step [131150/1000000], D_step[131150/1000000], d_out_real: 0.1911, d_out_fake: 0.0837, g_loss_fake: 0.9298\r\n"
     ]
    },
    {
     "name": "stdout",
     "output_type": "stream",
     "text": [
      "Elapsed [5:49:39.862972], G_step [131160/1000000], D_step[131160/1000000], d_out_real: 0.0753, d_out_fake: 0.1617, g_loss_fake: 1.0984\r\n"
     ]
    },
    {
     "name": "stdout",
     "output_type": "stream",
     "text": [
      "Elapsed [5:49:51.068677], G_step [131170/1000000], D_step[131170/1000000], d_out_real: 0.0000, d_out_fake: 0.0677, g_loss_fake: 1.1615\r\n"
     ]
    },
    {
     "name": "stdout",
     "output_type": "stream",
     "text": [
      "Elapsed [5:50:01.691135], G_step [131180/1000000], D_step[131180/1000000], d_out_real: 0.0000, d_out_fake: 0.0668, g_loss_fake: 1.0387\r\n"
     ]
    },
    {
     "name": "stdout",
     "output_type": "stream",
     "text": [
      "Elapsed [5:50:13.325285], G_step [131190/1000000], D_step[131190/1000000], d_out_real: 0.0663, d_out_fake: 0.0229, g_loss_fake: 1.1586\r\n"
     ]
    },
    {
     "name": "stdout",
     "output_type": "stream",
     "text": [
      "Elapsed [5:50:25.596009], G_step [131200/1000000], D_step[131200/1000000], d_out_real: 0.0334, d_out_fake: 0.0708, g_loss_fake: 0.9227\r\n"
     ]
    },
    {
     "name": "stdout",
     "output_type": "stream",
     "text": [
      "save torch\r\n"
     ]
    },
    {
     "name": "stdout",
     "output_type": "stream",
     "text": [
      "Elapsed [5:50:37.447591], G_step [131210/1000000], D_step[131210/1000000], d_out_real: 0.0643, d_out_fake: 0.1466, g_loss_fake: 1.1005\r\n"
     ]
    },
    {
     "name": "stdout",
     "output_type": "stream",
     "text": [
      "Elapsed [5:50:48.064372], G_step [131220/1000000], D_step[131220/1000000], d_out_real: 0.0664, d_out_fake: 0.0004, g_loss_fake: 1.0645\r\n"
     ]
    },
    {
     "name": "stdout",
     "output_type": "stream",
     "text": [
      "Elapsed [5:50:58.833864], G_step [131230/1000000], D_step[131230/1000000], d_out_real: 0.0622, d_out_fake: 0.0002, g_loss_fake: 1.0631\r\n"
     ]
    },
    {
     "name": "stdout",
     "output_type": "stream",
     "text": [
      "Elapsed [5:51:09.822574], G_step [131240/1000000], D_step[131240/1000000], d_out_real: 0.1191, d_out_fake: 0.0021, g_loss_fake: 0.9794\r\n"
     ]
    },
    {
     "name": "stdout",
     "output_type": "stream",
     "text": [
      "Elapsed [5:51:21.174412], G_step [131250/1000000], D_step[131250/1000000], d_out_real: 0.0000, d_out_fake: 0.2416, g_loss_fake: 1.1938\r\n"
     ]
    },
    {
     "name": "stdout",
     "output_type": "stream",
     "text": [
      "Elapsed [5:51:32.325374], G_step [131260/1000000], D_step[131260/1000000], d_out_real: 0.1316, d_out_fake: 0.0636, g_loss_fake: 1.0589\r\n"
     ]
    },
    {
     "name": "stdout",
     "output_type": "stream",
     "text": [
      "Elapsed [5:51:43.482581], G_step [131270/1000000], D_step[131270/1000000], d_out_real: 0.0000, d_out_fake: 0.0000, g_loss_fake: 1.0693\r\n"
     ]
    },
    {
     "name": "stdout",
     "output_type": "stream",
     "text": [
      "Elapsed [5:51:54.260727], G_step [131280/1000000], D_step[131280/1000000], d_out_real: 0.0159, d_out_fake: 0.0014, g_loss_fake: 0.9274\r\n"
     ]
    },
    {
     "name": "stdout",
     "output_type": "stream",
     "text": [
      "Elapsed [5:52:05.299983], G_step [131290/1000000], D_step[131290/1000000], d_out_real: 0.0650, d_out_fake: 0.0540, g_loss_fake: 1.0557\r\n"
     ]
    },
    {
     "name": "stdout",
     "output_type": "stream",
     "text": [
      "Elapsed [5:52:16.670096], G_step [131300/1000000], D_step[131300/1000000], d_out_real: 0.0000, d_out_fake: 0.0375, g_loss_fake: 1.1697\r\n"
     ]
    },
    {
     "name": "stdout",
     "output_type": "stream",
     "text": [
      "Elapsed [5:52:28.396546], G_step [131310/1000000], D_step[131310/1000000], d_out_real: 0.0000, d_out_fake: 0.0000, g_loss_fake: 1.1089\r\n"
     ]
    },
    {
     "name": "stdout",
     "output_type": "stream",
     "text": [
      "Elapsed [5:52:39.430650], G_step [131320/1000000], D_step[131320/1000000], d_out_real: 0.0650, d_out_fake: 0.0000, g_loss_fake: 1.0523\r\n"
     ]
    },
    {
     "name": "stdout",
     "output_type": "stream",
     "text": [
      "Elapsed [5:52:50.353120], G_step [131330/1000000], D_step[131330/1000000], d_out_real: 0.0116, d_out_fake: 0.0015, g_loss_fake: 0.9503\r\n"
     ]
    },
    {
     "name": "stdout",
     "output_type": "stream",
     "text": [
      "Elapsed [5:53:01.650038], G_step [131340/1000000], D_step[131340/1000000], d_out_real: 0.1259, d_out_fake: 0.0568, g_loss_fake: 0.8598\r\n"
     ]
    },
    {
     "name": "stdout",
     "output_type": "stream",
     "text": [
      "Elapsed [5:53:12.396676], G_step [131350/1000000], D_step[131350/1000000], d_out_real: 0.0659, d_out_fake: 0.0603, g_loss_fake: 1.0396\r\n"
     ]
    },
    {
     "name": "stdout",
     "output_type": "stream",
     "text": [
      "Elapsed [5:53:23.239854], G_step [131360/1000000], D_step[131360/1000000], d_out_real: 0.0000, d_out_fake: 0.0000, g_loss_fake: 1.0621\r\n"
     ]
    },
    {
     "name": "stdout",
     "output_type": "stream",
     "text": [
      "Elapsed [5:53:33.776013], G_step [131370/1000000], D_step[131370/1000000], d_out_real: 0.1588, d_out_fake: 0.0024, g_loss_fake: 0.9691\r\n"
     ]
    },
    {
     "name": "stdout",
     "output_type": "stream",
     "text": [
      "Elapsed [5:53:45.231985], G_step [131380/1000000], D_step[131380/1000000], d_out_real: 0.0669, d_out_fake: 0.1287, g_loss_fake: 1.0519\r\n"
     ]
    },
    {
     "name": "stdout",
     "output_type": "stream",
     "text": [
      "Elapsed [5:53:56.757107], G_step [131390/1000000], D_step[131390/1000000], d_out_real: 0.2725, d_out_fake: 0.0000, g_loss_fake: 1.0636\r\n"
     ]
    },
    {
     "name": "stdout",
     "output_type": "stream",
     "text": [
      "Elapsed [5:54:07.273046], G_step [131400/1000000], D_step[131400/1000000], d_out_real: 0.1204, d_out_fake: 0.0000, g_loss_fake: 1.0538\r\n"
     ]
    },
    {
     "name": "stdout",
     "output_type": "stream",
     "text": [
      "Elapsed [5:54:18.343790], G_step [131410/1000000], D_step[131410/1000000], d_out_real: 0.0745, d_out_fake: 0.0007, g_loss_fake: 0.9195\r\n"
     ]
    },
    {
     "name": "stdout",
     "output_type": "stream",
     "text": [
      "Elapsed [5:54:29.087830], G_step [131420/1000000], D_step[131420/1000000], d_out_real: 0.1199, d_out_fake: 0.0093, g_loss_fake: 1.1221\r\n"
     ]
    },
    {
     "name": "stdout",
     "output_type": "stream",
     "text": [
      "Elapsed [5:54:39.739326], G_step [131430/1000000], D_step[131430/1000000], d_out_real: 0.0000, d_out_fake: 0.0007, g_loss_fake: 1.0042\r\n"
     ]
    },
    {
     "name": "stdout",
     "output_type": "stream",
     "text": [
      "Elapsed [5:54:50.983044], G_step [131440/1000000], D_step[131440/1000000], d_out_real: 0.1231, d_out_fake: 0.0014, g_loss_fake: 1.0925\r\n"
     ]
    },
    {
     "name": "stdout",
     "output_type": "stream",
     "text": [
      "Elapsed [5:55:01.683758], G_step [131450/1000000], D_step[131450/1000000], d_out_real: 0.0000, d_out_fake: 0.0324, g_loss_fake: 1.0686\r\n"
     ]
    },
    {
     "name": "stdout",
     "output_type": "stream",
     "text": [
      "Elapsed [5:55:12.333617], G_step [131460/1000000], D_step[131460/1000000], d_out_real: 0.0089, d_out_fake: 0.0408, g_loss_fake: 1.1452\r\n"
     ]
    },
    {
     "name": "stdout",
     "output_type": "stream",
     "text": [
      "Elapsed [5:55:23.607559], G_step [131470/1000000], D_step[131470/1000000], d_out_real: 0.0000, d_out_fake: 0.0926, g_loss_fake: 1.1227\r\n"
     ]
    },
    {
     "name": "stdout",
     "output_type": "stream",
     "text": [
      "Elapsed [5:55:34.476084], G_step [131480/1000000], D_step[131480/1000000], d_out_real: 0.0000, d_out_fake: 0.0690, g_loss_fake: 1.0771\r\n"
     ]
    },
    {
     "name": "stdout",
     "output_type": "stream",
     "text": [
      "Elapsed [5:55:45.040257], G_step [131490/1000000], D_step[131490/1000000], d_out_real: 0.2485, d_out_fake: 0.0604, g_loss_fake: 0.8972\r\n"
     ]
    },
    {
     "name": "stdout",
     "output_type": "stream",
     "text": [
      "Elapsed [5:55:56.413668], G_step [131500/1000000], D_step[131500/1000000], d_out_real: 0.1248, d_out_fake: 0.0131, g_loss_fake: 1.0565\r\n"
     ]
    },
    {
     "name": "stdout",
     "output_type": "stream",
     "text": [
      "Elapsed [5:56:07.206746], G_step [131510/1000000], D_step[131510/1000000], d_out_real: 0.0657, d_out_fake: 0.0000, g_loss_fake: 1.1263\r\n"
     ]
    },
    {
     "name": "stdout",
     "output_type": "stream",
     "text": [
      "Elapsed [5:56:17.869147], G_step [131520/1000000], D_step[131520/1000000], d_out_real: 0.1732, d_out_fake: 0.0325, g_loss_fake: 1.1344\r\n"
     ]
    },
    {
     "name": "stdout",
     "output_type": "stream",
     "text": [
      "Elapsed [5:56:28.849410], G_step [131530/1000000], D_step[131530/1000000], d_out_real: 0.0000, d_out_fake: 0.0032, g_loss_fake: 1.0834\r\n"
     ]
    },
    {
     "name": "stdout",
     "output_type": "stream",
     "text": [
      "Elapsed [5:56:40.109686], G_step [131540/1000000], D_step[131540/1000000], d_out_real: 0.0620, d_out_fake: 0.0578, g_loss_fake: 1.0408\r\n"
     ]
    },
    {
     "name": "stdout",
     "output_type": "stream",
     "text": [
      "Elapsed [5:56:51.280128], G_step [131550/1000000], D_step[131550/1000000], d_out_real: 0.0437, d_out_fake: 0.0000, g_loss_fake: 0.9398\r\n"
     ]
    },
    {
     "name": "stdout",
     "output_type": "stream",
     "text": [
      "Elapsed [5:57:01.860505], G_step [131560/1000000], D_step[131560/1000000], d_out_real: 0.0000, d_out_fake: 0.0860, g_loss_fake: 1.1454\r\n"
     ]
    },
    {
     "name": "stdout",
     "output_type": "stream",
     "text": [
      "Elapsed [5:57:12.948802], G_step [131570/1000000], D_step[131570/1000000], d_out_real: 0.0356, d_out_fake: 0.0716, g_loss_fake: 1.1610\r\n"
     ]
    },
    {
     "name": "stdout",
     "output_type": "stream",
     "text": [
      "Elapsed [5:57:24.470191], G_step [131580/1000000], D_step[131580/1000000], d_out_real: 0.1403, d_out_fake: 0.0004, g_loss_fake: 1.0352\r\n"
     ]
    },
    {
     "name": "stdout",
     "output_type": "stream",
     "text": [
      "Elapsed [5:57:35.186800], G_step [131590/1000000], D_step[131590/1000000], d_out_real: 0.1087, d_out_fake: 0.0000, g_loss_fake: 0.8745\r\n"
     ]
    },
    {
     "name": "stdout",
     "output_type": "stream",
     "text": [
      "Elapsed [5:57:45.908907], G_step [131600/1000000], D_step[131600/1000000], d_out_real: 0.0698, d_out_fake: 0.1140, g_loss_fake: 1.1235\r\n"
     ]
    },
    {
     "name": "stdout",
     "output_type": "stream",
     "text": [
      "Elapsed [5:57:57.574375], G_step [131610/1000000], D_step[131610/1000000], d_out_real: 0.0657, d_out_fake: 0.0000, g_loss_fake: 1.1139\r\n"
     ]
    },
    {
     "name": "stdout",
     "output_type": "stream",
     "text": [
      "Elapsed [5:58:08.572099], G_step [131620/1000000], D_step[131620/1000000], d_out_real: 0.0286, d_out_fake: 0.0000, g_loss_fake: 1.1250\r\n"
     ]
    },
    {
     "name": "stdout",
     "output_type": "stream",
     "text": [
      "Elapsed [5:58:19.532386], G_step [131630/1000000], D_step[131630/1000000], d_out_real: 0.0042, d_out_fake: 0.0000, g_loss_fake: 1.0703\r\n"
     ]
    },
    {
     "name": "stdout",
     "output_type": "stream",
     "text": [
      "Elapsed [5:58:31.035259], G_step [131640/1000000], D_step[131640/1000000], d_out_real: 0.1215, d_out_fake: 0.0000, g_loss_fake: 1.0553\r\n"
     ]
    },
    {
     "name": "stdout",
     "output_type": "stream",
     "text": [
      "Elapsed [5:58:41.835053], G_step [131650/1000000], D_step[131650/1000000], d_out_real: 0.1208, d_out_fake: 0.0549, g_loss_fake: 0.9609\r\n"
     ]
    },
    {
     "name": "stdout",
     "output_type": "stream",
     "text": [
      "Elapsed [5:58:52.881738], G_step [131660/1000000], D_step[131660/1000000], d_out_real: 0.1577, d_out_fake: 0.0000, g_loss_fake: 1.0240\r\n"
     ]
    },
    {
     "name": "stdout",
     "output_type": "stream",
     "text": [
      "Elapsed [5:59:04.216834], G_step [131670/1000000], D_step[131670/1000000], d_out_real: 0.2401, d_out_fake: 0.0000, g_loss_fake: 0.9926\r\n"
     ]
    },
    {
     "name": "stdout",
     "output_type": "stream",
     "text": [
      "Elapsed [5:59:14.970952], G_step [131680/1000000], D_step[131680/1000000], d_out_real: 0.0000, d_out_fake: 0.0694, g_loss_fake: 1.1322\r\n"
     ]
    },
    {
     "name": "stdout",
     "output_type": "stream",
     "text": [
      "Elapsed [5:59:25.629624], G_step [131690/1000000], D_step[131690/1000000], d_out_real: 0.0631, d_out_fake: 0.0140, g_loss_fake: 1.0858\r\n"
     ]
    },
    {
     "name": "stdout",
     "output_type": "stream",
     "text": [
      "Elapsed [5:59:36.496809], G_step [131700/1000000], D_step[131700/1000000], d_out_real: 0.0000, d_out_fake: 0.1423, g_loss_fake: 0.9973\r\n"
     ]
    },
    {
     "name": "stdout",
     "output_type": "stream",
     "text": [
      "Elapsed [5:59:48.479035], G_step [131710/1000000], D_step[131710/1000000], d_out_real: 0.0000, d_out_fake: 0.0494, g_loss_fake: 1.0598\r\n"
     ]
    },
    {
     "name": "stdout",
     "output_type": "stream",
     "text": [
      "Elapsed [5:59:59.155781], G_step [131720/1000000], D_step[131720/1000000], d_out_real: 0.0056, d_out_fake: 0.0001, g_loss_fake: 1.0749\r\n"
     ]
    },
    {
     "name": "stdout",
     "output_type": "stream",
     "text": [
      "Elapsed [6:00:10.482013], G_step [131730/1000000], D_step[131730/1000000], d_out_real: 0.0000, d_out_fake: 0.0000, g_loss_fake: 1.1143\r\n"
     ]
    },
    {
     "name": "stdout",
     "output_type": "stream",
     "text": [
      "Elapsed [6:00:21.470155], G_step [131740/1000000], D_step[131740/1000000], d_out_real: 0.0652, d_out_fake: 0.0736, g_loss_fake: 1.0878\r\n"
     ]
    },
    {
     "name": "stdout",
     "output_type": "stream",
     "text": [
      "Elapsed [6:00:33.260827], G_step [131750/1000000], D_step[131750/1000000], d_out_real: 0.0857, d_out_fake: 0.0085, g_loss_fake: 1.1222\r\n"
     ]
    },
    {
     "name": "stdout",
     "output_type": "stream",
     "text": [
      "Elapsed [6:00:44.227389], G_step [131760/1000000], D_step[131760/1000000], d_out_real: 0.0320, d_out_fake: 0.0002, g_loss_fake: 0.9963\r\n"
     ]
    },
    {
     "name": "stdout",
     "output_type": "stream",
     "text": [
      "Elapsed [6:00:55.649470], G_step [131770/1000000], D_step[131770/1000000], d_out_real: 0.0000, d_out_fake: 0.0715, g_loss_fake: 1.0119\r\n"
     ]
    },
    {
     "name": "stdout",
     "output_type": "stream",
     "text": [
      "Elapsed [6:01:08.059615], G_step [131780/1000000], D_step[131780/1000000], d_out_real: 0.0668, d_out_fake: 0.0055, g_loss_fake: 1.1100\r\n"
     ]
    },
    {
     "name": "stdout",
     "output_type": "stream",
     "text": [
      "Elapsed [6:01:19.042031], G_step [131790/1000000], D_step[131790/1000000], d_out_real: 0.0000, d_out_fake: 0.1424, g_loss_fake: 1.0875\r\n"
     ]
    },
    {
     "name": "stdout",
     "output_type": "stream",
     "text": [
      "Elapsed [6:01:29.924769], G_step [131800/1000000], D_step[131800/1000000], d_out_real: 0.0770, d_out_fake: 0.0146, g_loss_fake: 1.0595\r\n"
     ]
    },
    {
     "name": "stdout",
     "output_type": "stream",
     "text": [
      "Elapsed [6:01:41.451267], G_step [131810/1000000], D_step[131810/1000000], d_out_real: 0.0837, d_out_fake: 0.0462, g_loss_fake: 0.9932\r\n"
     ]
    },
    {
     "name": "stdout",
     "output_type": "stream",
     "text": [
      "Elapsed [6:01:52.835385], G_step [131820/1000000], D_step[131820/1000000], d_out_real: 0.1226, d_out_fake: 0.1784, g_loss_fake: 1.1383\r\n"
     ]
    },
    {
     "name": "stdout",
     "output_type": "stream",
     "text": [
      "Elapsed [6:02:05.287743], G_step [131830/1000000], D_step[131830/1000000], d_out_real: 0.0624, d_out_fake: 0.0000, g_loss_fake: 1.1526\r\n"
     ]
    },
    {
     "name": "stdout",
     "output_type": "stream",
     "text": [
      "Elapsed [6:02:15.818659], G_step [131840/1000000], D_step[131840/1000000], d_out_real: 0.0000, d_out_fake: 0.0779, g_loss_fake: 1.1247\r\n"
     ]
    },
    {
     "name": "stdout",
     "output_type": "stream",
     "text": [
      "Elapsed [6:02:26.482543], G_step [131850/1000000], D_step[131850/1000000], d_out_real: 0.1218, d_out_fake: 0.0000, g_loss_fake: 1.0763\r\n"
     ]
    },
    {
     "name": "stdout",
     "output_type": "stream",
     "text": [
      "Elapsed [6:02:37.526583], G_step [131860/1000000], D_step[131860/1000000], d_out_real: 0.1663, d_out_fake: 0.0503, g_loss_fake: 1.0210\r\n"
     ]
    },
    {
     "name": "stdout",
     "output_type": "stream",
     "text": [
      "Elapsed [6:02:48.445826], G_step [131870/1000000], D_step[131870/1000000], d_out_real: 0.0429, d_out_fake: 0.0770, g_loss_fake: 0.9143\r\n"
     ]
    },
    {
     "name": "stdout",
     "output_type": "stream",
     "text": [
      "Elapsed [6:02:59.236235], G_step [131880/1000000], D_step[131880/1000000], d_out_real: 0.0045, d_out_fake: 0.0432, g_loss_fake: 1.1515\r\n"
     ]
    },
    {
     "name": "stdout",
     "output_type": "stream",
     "text": [
      "Elapsed [6:03:10.319038], G_step [131890/1000000], D_step[131890/1000000], d_out_real: 0.0214, d_out_fake: 0.0000, g_loss_fake: 1.1042\r\n"
     ]
    },
    {
     "name": "stdout",
     "output_type": "stream",
     "text": [
      "Elapsed [6:03:20.995424], G_step [131900/1000000], D_step[131900/1000000], d_out_real: 0.0606, d_out_fake: 0.0363, g_loss_fake: 1.2104\r\n"
     ]
    },
    {
     "name": "stdout",
     "output_type": "stream",
     "text": [
      "Elapsed [6:03:31.544158], G_step [131910/1000000], D_step[131910/1000000], d_out_real: 0.0639, d_out_fake: 0.0025, g_loss_fake: 1.0940\r\n"
     ]
    },
    {
     "name": "stdout",
     "output_type": "stream",
     "text": [
      "Elapsed [6:03:42.967730], G_step [131920/1000000], D_step[131920/1000000], d_out_real: 0.1440, d_out_fake: 0.0823, g_loss_fake: 1.0081\r\n"
     ]
    },
    {
     "name": "stdout",
     "output_type": "stream",
     "text": [
      "Elapsed [6:03:54.237675], G_step [131930/1000000], D_step[131930/1000000], d_out_real: 0.0053, d_out_fake: 0.0000, g_loss_fake: 1.0889\r\n"
     ]
    },
    {
     "name": "stdout",
     "output_type": "stream",
     "text": [
      "Elapsed [6:04:04.914407], G_step [131940/1000000], D_step[131940/1000000], d_out_real: 0.0016, d_out_fake: 0.1243, g_loss_fake: 1.1113\r\n"
     ]
    },
    {
     "name": "stdout",
     "output_type": "stream",
     "text": [
      "Elapsed [6:04:16.310689], G_step [131950/1000000], D_step[131950/1000000], d_out_real: 0.0656, d_out_fake: 0.0000, g_loss_fake: 1.0702\r\n"
     ]
    },
    {
     "name": "stdout",
     "output_type": "stream",
     "text": [
      "Elapsed [6:04:27.249375], G_step [131960/1000000], D_step[131960/1000000], d_out_real: 0.0114, d_out_fake: 0.0753, g_loss_fake: 1.1029\r\n"
     ]
    },
    {
     "name": "stdout",
     "output_type": "stream",
     "text": [
      "Elapsed [6:04:38.943268], G_step [131970/1000000], D_step[131970/1000000], d_out_real: 0.0082, d_out_fake: 0.1099, g_loss_fake: 1.0840\r\n"
     ]
    },
    {
     "name": "stdout",
     "output_type": "stream",
     "text": [
      "Elapsed [6:04:50.070920], G_step [131980/1000000], D_step[131980/1000000], d_out_real: 0.0640, d_out_fake: 0.0002, g_loss_fake: 1.0476\r\n"
     ]
    },
    {
     "name": "stdout",
     "output_type": "stream",
     "text": [
      "Elapsed [6:05:01.117786], G_step [131990/1000000], D_step[131990/1000000], d_out_real: 0.0000, d_out_fake: 0.0015, g_loss_fake: 1.1612\r\n"
     ]
    },
    {
     "name": "stdout",
     "output_type": "stream",
     "text": [
      "Elapsed [6:05:11.846259], G_step [132000/1000000], D_step[132000/1000000], d_out_real: 0.0785, d_out_fake: 0.0578, g_loss_fake: 0.9836\r\n",
      "Sample images 132000_fake.png\r\n"
     ]
    },
    {
     "name": "stdout",
     "output_type": "stream",
     "text": [
      "Elapsed [6:05:23.062105], G_step [132010/1000000], D_step[132010/1000000], d_out_real: 0.1211, d_out_fake: 0.0000, g_loss_fake: 1.0609\r\n"
     ]
    },
    {
     "name": "stdout",
     "output_type": "stream",
     "text": [
      "Elapsed [6:05:33.997040], G_step [132020/1000000], D_step[132020/1000000], d_out_real: 0.0551, d_out_fake: 0.0000, g_loss_fake: 1.0408\r\n"
     ]
    },
    {
     "name": "stdout",
     "output_type": "stream",
     "text": [
      "Elapsed [6:05:45.548523], G_step [132030/1000000], D_step[132030/1000000], d_out_real: 0.0000, d_out_fake: 0.0000, g_loss_fake: 1.1006\r\n"
     ]
    },
    {
     "name": "stdout",
     "output_type": "stream",
     "text": [
      "Elapsed [6:05:56.220310], G_step [132040/1000000], D_step[132040/1000000], d_out_real: 0.0995, d_out_fake: 0.0410, g_loss_fake: 1.0637\r\n"
     ]
    },
    {
     "name": "stdout",
     "output_type": "stream",
     "text": [
      "Elapsed [6:06:06.860150], G_step [132050/1000000], D_step[132050/1000000], d_out_real: 0.0665, d_out_fake: 0.0000, g_loss_fake: 1.0875\r\n"
     ]
    },
    {
     "name": "stdout",
     "output_type": "stream",
     "text": [
      "Elapsed [6:06:18.061153], G_step [132060/1000000], D_step[132060/1000000], d_out_real: 0.1663, d_out_fake: 0.0642, g_loss_fake: 1.0506\r\n"
     ]
    },
    {
     "name": "stdout",
     "output_type": "stream",
     "text": [
      "Elapsed [6:06:28.933966], G_step [132070/1000000], D_step[132070/1000000], d_out_real: 0.0861, d_out_fake: 0.0227, g_loss_fake: 1.0840\r\n"
     ]
    },
    {
     "name": "stdout",
     "output_type": "stream",
     "text": [
      "Elapsed [6:06:39.978839], G_step [132080/1000000], D_step[132080/1000000], d_out_real: 0.0345, d_out_fake: 0.0000, g_loss_fake: 1.0556\r\n"
     ]
    },
    {
     "name": "stdout",
     "output_type": "stream",
     "text": [
      "Elapsed [6:06:51.308949], G_step [132090/1000000], D_step[132090/1000000], d_out_real: 0.1298, d_out_fake: 0.0000, g_loss_fake: 0.9500\r\n"
     ]
    },
    {
     "name": "stdout",
     "output_type": "stream",
     "text": [
      "Elapsed [6:07:02.741682], G_step [132100/1000000], D_step[132100/1000000], d_out_real: 0.0642, d_out_fake: 0.0898, g_loss_fake: 1.1155\r\n"
     ]
    },
    {
     "name": "stdout",
     "output_type": "stream",
     "text": [
      "Elapsed [6:07:13.388679], G_step [132110/1000000], D_step[132110/1000000], d_out_real: 0.0658, d_out_fake: 0.0005, g_loss_fake: 1.0133\r\n"
     ]
    },
    {
     "name": "stdout",
     "output_type": "stream",
     "text": [
      "Elapsed [6:07:25.083288], G_step [132120/1000000], D_step[132120/1000000], d_out_real: 0.0460, d_out_fake: 0.0212, g_loss_fake: 0.9812\r\n"
     ]
    },
    {
     "name": "stdout",
     "output_type": "stream",
     "text": [
      "Elapsed [6:07:36.057583], G_step [132130/1000000], D_step[132130/1000000], d_out_real: 0.0000, d_out_fake: 0.0000, g_loss_fake: 1.1186\r\n"
     ]
    },
    {
     "name": "stdout",
     "output_type": "stream",
     "text": [
      "Elapsed [6:07:47.040048], G_step [132140/1000000], D_step[132140/1000000], d_out_real: 0.0000, d_out_fake: 0.0000, g_loss_fake: 1.1712\r\n"
     ]
    },
    {
     "name": "stdout",
     "output_type": "stream",
     "text": [
      "Elapsed [6:07:58.266051], G_step [132150/1000000], D_step[132150/1000000], d_out_real: 0.1260, d_out_fake: 0.0244, g_loss_fake: 1.0116\r\n"
     ]
    },
    {
     "name": "stdout",
     "output_type": "stream",
     "text": [
      "Elapsed [6:08:09.584589], G_step [132160/1000000], D_step[132160/1000000], d_out_real: 0.1302, d_out_fake: 0.2195, g_loss_fake: 0.7502\r\n"
     ]
    },
    {
     "name": "stdout",
     "output_type": "stream",
     "text": [
      "Elapsed [6:08:20.436412], G_step [132170/1000000], D_step[132170/1000000], d_out_real: 0.1891, d_out_fake: 0.0000, g_loss_fake: 1.0092\r\n"
     ]
    },
    {
     "name": "stdout",
     "output_type": "stream",
     "text": [
      "Elapsed [6:08:31.432921], G_step [132180/1000000], D_step[132180/1000000], d_out_real: 0.0668, d_out_fake: 0.0043, g_loss_fake: 1.1269\r\n"
     ]
    },
    {
     "name": "stdout",
     "output_type": "stream",
     "text": [
      "Elapsed [6:08:42.263071], G_step [132190/1000000], D_step[132190/1000000], d_out_real: 0.0631, d_out_fake: 0.0056, g_loss_fake: 1.0226\r\n"
     ]
    },
    {
     "name": "stdout",
     "output_type": "stream",
     "text": [
      "Elapsed [6:08:53.152063], G_step [132200/1000000], D_step[132200/1000000], d_out_real: 0.0693, d_out_fake: 0.0000, g_loss_fake: 1.0509\r\n"
     ]
    },
    {
     "name": "stdout",
     "output_type": "stream",
     "text": [
      "Elapsed [6:09:04.112827], G_step [132210/1000000], D_step[132210/1000000], d_out_real: 0.2591, d_out_fake: 0.0005, g_loss_fake: 1.0630\r\n"
     ]
    },
    {
     "name": "stdout",
     "output_type": "stream",
     "text": [
      "Elapsed [6:09:15.673311], G_step [132220/1000000], D_step[132220/1000000], d_out_real: 0.0660, d_out_fake: 0.0000, g_loss_fake: 1.0989\r\n"
     ]
    },
    {
     "name": "stdout",
     "output_type": "stream",
     "text": [
      "Elapsed [6:09:26.295578], G_step [132230/1000000], D_step[132230/1000000], d_out_real: 0.1275, d_out_fake: 0.0000, g_loss_fake: 1.0228\r\n"
     ]
    },
    {
     "name": "stdout",
     "output_type": "stream",
     "text": [
      "Elapsed [6:09:36.904524], G_step [132240/1000000], D_step[132240/1000000], d_out_real: 0.2637, d_out_fake: 0.0000, g_loss_fake: 1.0397\r\n"
     ]
    },
    {
     "name": "stdout",
     "output_type": "stream",
     "text": [
      "Elapsed [6:09:48.034229], G_step [132250/1000000], D_step[132250/1000000], d_out_real: 0.0757, d_out_fake: 0.0000, g_loss_fake: 0.9488\r\n"
     ]
    },
    {
     "name": "stdout",
     "output_type": "stream",
     "text": [
      "Elapsed [6:09:59.398436], G_step [132260/1000000], D_step[132260/1000000], d_out_real: 0.2025, d_out_fake: 0.0001, g_loss_fake: 1.0225\r\n"
     ]
    },
    {
     "name": "stdout",
     "output_type": "stream",
     "text": [
      "Elapsed [6:10:09.912047], G_step [132270/1000000], D_step[132270/1000000], d_out_real: 0.0000, d_out_fake: 0.0000, g_loss_fake: 1.0940\r\n"
     ]
    },
    {
     "name": "stdout",
     "output_type": "stream",
     "text": [
      "Elapsed [6:10:20.778689], G_step [132280/1000000], D_step[132280/1000000], d_out_real: 0.1281, d_out_fake: 0.1351, g_loss_fake: 1.0616\r\n"
     ]
    },
    {
     "name": "stdout",
     "output_type": "stream",
     "text": [
      "Elapsed [6:10:31.525415], G_step [132290/1000000], D_step[132290/1000000], d_out_real: 0.0000, d_out_fake: 0.0176, g_loss_fake: 1.1571\r\n"
     ]
    },
    {
     "name": "stdout",
     "output_type": "stream",
     "text": [
      "Elapsed [6:10:42.206429], G_step [132300/1000000], D_step[132300/1000000], d_out_real: 0.0677, d_out_fake: 0.0551, g_loss_fake: 1.1561\r\n"
     ]
    },
    {
     "name": "stdout",
     "output_type": "stream",
     "text": [
      "Elapsed [6:10:53.813385], G_step [132310/1000000], D_step[132310/1000000], d_out_real: 0.0009, d_out_fake: 0.0653, g_loss_fake: 1.0765\r\n"
     ]
    },
    {
     "name": "stdout",
     "output_type": "stream",
     "text": [
      "Elapsed [6:11:05.132595], G_step [132320/1000000], D_step[132320/1000000], d_out_real: 0.0314, d_out_fake: 0.0642, g_loss_fake: 0.9993\r\n"
     ]
    },
    {
     "name": "stdout",
     "output_type": "stream",
     "text": [
      "Elapsed [6:11:16.054165], G_step [132330/1000000], D_step[132330/1000000], d_out_real: 0.1364, d_out_fake: 0.0632, g_loss_fake: 1.0288\r\n"
     ]
    },
    {
     "name": "stdout",
     "output_type": "stream",
     "text": [
      "Elapsed [6:11:27.439165], G_step [132340/1000000], D_step[132340/1000000], d_out_real: 0.0015, d_out_fake: 0.0000, g_loss_fake: 1.0752\r\n"
     ]
    },
    {
     "name": "stdout",
     "output_type": "stream",
     "text": [
      "Elapsed [6:11:39.412093], G_step [132350/1000000], D_step[132350/1000000], d_out_real: 0.1964, d_out_fake: 0.0279, g_loss_fake: 0.9618\r\n"
     ]
    },
    {
     "name": "stdout",
     "output_type": "stream",
     "text": [
      "Elapsed [6:11:50.267085], G_step [132360/1000000], D_step[132360/1000000], d_out_real: 0.0438, d_out_fake: 0.0000, g_loss_fake: 1.0702\r\n"
     ]
    },
    {
     "name": "stdout",
     "output_type": "stream",
     "text": [
      "Elapsed [6:12:01.612607], G_step [132370/1000000], D_step[132370/1000000], d_out_real: 0.0931, d_out_fake: 0.0000, g_loss_fake: 1.0423\r\n"
     ]
    },
    {
     "name": "stdout",
     "output_type": "stream",
     "text": [
      "Elapsed [6:12:13.484842], G_step [132380/1000000], D_step[132380/1000000], d_out_real: 0.1221, d_out_fake: 0.0774, g_loss_fake: 1.0912\r\n"
     ]
    },
    {
     "name": "stdout",
     "output_type": "stream",
     "text": [
      "Elapsed [6:12:24.770363], G_step [132390/1000000], D_step[132390/1000000], d_out_real: 0.0000, d_out_fake: 0.1391, g_loss_fake: 1.0625\r\n"
     ]
    },
    {
     "name": "stdout",
     "output_type": "stream",
     "text": [
      "Elapsed [6:12:35.682505], G_step [132400/1000000], D_step[132400/1000000], d_out_real: 0.1276, d_out_fake: 0.0004, g_loss_fake: 0.9862\r\n"
     ]
    },
    {
     "name": "stdout",
     "output_type": "stream",
     "text": [
      "Elapsed [6:12:47.120531], G_step [132410/1000000], D_step[132410/1000000], d_out_real: 0.0000, d_out_fake: 0.1288, g_loss_fake: 1.1313\r\n"
     ]
    },
    {
     "name": "stdout",
     "output_type": "stream",
     "text": [
      "Elapsed [6:12:58.183417], G_step [132420/1000000], D_step[132420/1000000], d_out_real: 0.0000, d_out_fake: 0.0000, g_loss_fake: 1.0853\r\n"
     ]
    },
    {
     "name": "stdout",
     "output_type": "stream",
     "text": [
      "Elapsed [6:13:09.483167], G_step [132430/1000000], D_step[132430/1000000], d_out_real: 0.0000, d_out_fake: 0.0020, g_loss_fake: 1.0092\r\n"
     ]
    },
    {
     "name": "stdout",
     "output_type": "stream",
     "text": [
      "Elapsed [6:13:20.587044], G_step [132440/1000000], D_step[132440/1000000], d_out_real: 0.0274, d_out_fake: 0.0000, g_loss_fake: 1.1058\r\n"
     ]
    },
    {
     "name": "stdout",
     "output_type": "stream",
     "text": [
      "Elapsed [6:13:31.365945], G_step [132450/1000000], D_step[132450/1000000], d_out_real: 0.0000, d_out_fake: 0.0000, g_loss_fake: 1.0726\r\n"
     ]
    },
    {
     "name": "stdout",
     "output_type": "stream",
     "text": [
      "Elapsed [6:13:42.229909], G_step [132460/1000000], D_step[132460/1000000], d_out_real: 0.0092, d_out_fake: 0.0382, g_loss_fake: 1.0146\r\n"
     ]
    },
    {
     "name": "stdout",
     "output_type": "stream",
     "text": [
      "Elapsed [6:13:54.149713], G_step [132470/1000000], D_step[132470/1000000], d_out_real: 0.0473, d_out_fake: 0.0000, g_loss_fake: 1.1497\r\n"
     ]
    },
    {
     "name": "stdout",
     "output_type": "stream",
     "text": [
      "Elapsed [6:14:05.248760], G_step [132480/1000000], D_step[132480/1000000], d_out_real: 0.0000, d_out_fake: 0.1039, g_loss_fake: 1.0887\r\n"
     ]
    },
    {
     "name": "stdout",
     "output_type": "stream",
     "text": [
      "Elapsed [6:14:17.596631], G_step [132490/1000000], D_step[132490/1000000], d_out_real: 0.1253, d_out_fake: 0.0012, g_loss_fake: 1.0709\r\n"
     ]
    },
    {
     "name": "stdout",
     "output_type": "stream",
     "text": [
      "Elapsed [6:14:29.292134], G_step [132500/1000000], D_step[132500/1000000], d_out_real: 0.0643, d_out_fake: 0.0496, g_loss_fake: 1.1195\r\n"
     ]
    },
    {
     "name": "stdout",
     "output_type": "stream",
     "text": [
      "Elapsed [6:14:40.269924], G_step [132510/1000000], D_step[132510/1000000], d_out_real: 0.1420, d_out_fake: 0.0000, g_loss_fake: 1.0049\r\n"
     ]
    },
    {
     "name": "stdout",
     "output_type": "stream",
     "text": [
      "Elapsed [6:14:51.009791], G_step [132520/1000000], D_step[132520/1000000], d_out_real: 0.0638, d_out_fake: 0.0004, g_loss_fake: 1.0267\r\n"
     ]
    },
    {
     "name": "stdout",
     "output_type": "stream",
     "text": [
      "Elapsed [6:15:01.804900], G_step [132530/1000000], D_step[132530/1000000], d_out_real: 0.0000, d_out_fake: 0.0544, g_loss_fake: 1.0790\r\n"
     ]
    },
    {
     "name": "stdout",
     "output_type": "stream",
     "text": [
      "Elapsed [6:15:12.791049], G_step [132540/1000000], D_step[132540/1000000], d_out_real: 0.0000, d_out_fake: 0.0678, g_loss_fake: 1.2042\r\n"
     ]
    },
    {
     "name": "stdout",
     "output_type": "stream",
     "text": [
      "Elapsed [6:15:23.451789], G_step [132550/1000000], D_step[132550/1000000], d_out_real: 0.0049, d_out_fake: 0.0280, g_loss_fake: 1.1338\r\n"
     ]
    },
    {
     "name": "stdout",
     "output_type": "stream",
     "text": [
      "Elapsed [6:15:34.450148], G_step [132560/1000000], D_step[132560/1000000], d_out_real: 0.0490, d_out_fake: 0.0050, g_loss_fake: 1.1043\r\n"
     ]
    },
    {
     "name": "stdout",
     "output_type": "stream",
     "text": [
      "Elapsed [6:15:45.453290], G_step [132570/1000000], D_step[132570/1000000], d_out_real: 0.0034, d_out_fake: 0.2376, g_loss_fake: 1.1366\r\n"
     ]
    },
    {
     "name": "stdout",
     "output_type": "stream",
     "text": [
      "Elapsed [6:15:56.137079], G_step [132580/1000000], D_step[132580/1000000], d_out_real: 0.1894, d_out_fake: 0.0049, g_loss_fake: 1.0243\r\n"
     ]
    },
    {
     "name": "stdout",
     "output_type": "stream",
     "text": [
      "Elapsed [6:16:06.748864], G_step [132590/1000000], D_step[132590/1000000], d_out_real: 0.0580, d_out_fake: 0.0819, g_loss_fake: 0.9956\r\n"
     ]
    },
    {
     "name": "stdout",
     "output_type": "stream",
     "text": [
      "Elapsed [6:16:17.856475], G_step [132600/1000000], D_step[132600/1000000], d_out_real: 0.1209, d_out_fake: 0.0262, g_loss_fake: 1.1003\r\n"
     ]
    },
    {
     "name": "stdout",
     "output_type": "stream",
     "text": [
      "Elapsed [6:16:28.670667], G_step [132610/1000000], D_step[132610/1000000], d_out_real: 0.0784, d_out_fake: 0.0000, g_loss_fake: 1.0791\r\n"
     ]
    },
    {
     "name": "stdout",
     "output_type": "stream",
     "text": [
      "Elapsed [6:16:40.595609], G_step [132620/1000000], D_step[132620/1000000], d_out_real: 0.2038, d_out_fake: 0.0000, g_loss_fake: 1.0977\r\n"
     ]
    },
    {
     "name": "stdout",
     "output_type": "stream",
     "text": [
      "Elapsed [6:16:51.579530], G_step [132630/1000000], D_step[132630/1000000], d_out_real: 0.0000, d_out_fake: 0.1511, g_loss_fake: 1.0615\r\n"
     ]
    },
    {
     "name": "stdout",
     "output_type": "stream",
     "text": [
      "Elapsed [6:17:02.345005], G_step [132640/1000000], D_step[132640/1000000], d_out_real: 0.0038, d_out_fake: 0.0226, g_loss_fake: 1.1410\r\n"
     ]
    },
    {
     "name": "stdout",
     "output_type": "stream",
     "text": [
      "Elapsed [6:17:13.683999], G_step [132650/1000000], D_step[132650/1000000], d_out_real: 0.0000, d_out_fake: 0.0791, g_loss_fake: 1.0502\r\n"
     ]
    },
    {
     "name": "stdout",
     "output_type": "stream",
     "text": [
      "Elapsed [6:17:24.768449], G_step [132660/1000000], D_step[132660/1000000], d_out_real: 0.1853, d_out_fake: 0.0009, g_loss_fake: 1.0244\r\n"
     ]
    },
    {
     "name": "stdout",
     "output_type": "stream",
     "text": [
      "Elapsed [6:17:35.657816], G_step [132670/1000000], D_step[132670/1000000], d_out_real: 0.0657, d_out_fake: 0.0000, g_loss_fake: 1.1032\r\n"
     ]
    },
    {
     "name": "stdout",
     "output_type": "stream",
     "text": [
      "Elapsed [6:17:46.986424], G_step [132680/1000000], D_step[132680/1000000], d_out_real: 0.1346, d_out_fake: 0.0024, g_loss_fake: 1.0586\r\n"
     ]
    },
    {
     "name": "stdout",
     "output_type": "stream",
     "text": [
      "Elapsed [6:17:57.970340], G_step [132690/1000000], D_step[132690/1000000], d_out_real: 0.1284, d_out_fake: 0.0000, g_loss_fake: 1.0297\r\n"
     ]
    },
    {
     "name": "stdout",
     "output_type": "stream",
     "text": [
      "Elapsed [6:18:08.696007], G_step [132700/1000000], D_step[132700/1000000], d_out_real: 0.0616, d_out_fake: 0.1223, g_loss_fake: 1.0943\r\n"
     ]
    },
    {
     "name": "stdout",
     "output_type": "stream",
     "text": [
      "Elapsed [6:18:19.755798], G_step [132710/1000000], D_step[132710/1000000], d_out_real: 0.0085, d_out_fake: 0.0000, g_loss_fake: 1.1556\r\n"
     ]
    },
    {
     "name": "stdout",
     "output_type": "stream",
     "text": [
      "Elapsed [6:18:30.666251], G_step [132720/1000000], D_step[132720/1000000], d_out_real: 0.0655, d_out_fake: 0.0000, g_loss_fake: 1.1317\r\n"
     ]
    },
    {
     "name": "stdout",
     "output_type": "stream",
     "text": [
      "Elapsed [6:18:41.600031], G_step [132730/1000000], D_step[132730/1000000], d_out_real: 0.0000, d_out_fake: 0.0044, g_loss_fake: 1.1089\r\n"
     ]
    },
    {
     "name": "stdout",
     "output_type": "stream",
     "text": [
      "Elapsed [6:18:52.601532], G_step [132740/1000000], D_step[132740/1000000], d_out_real: 0.0675, d_out_fake: 0.0006, g_loss_fake: 0.8144\r\n"
     ]
    },
    {
     "name": "stdout",
     "output_type": "stream",
     "text": [
      "Elapsed [6:19:03.507859], G_step [132750/1000000], D_step[132750/1000000], d_out_real: 0.0488, d_out_fake: 0.1302, g_loss_fake: 1.1024\r\n"
     ]
    },
    {
     "name": "stdout",
     "output_type": "stream",
     "text": [
      "Elapsed [6:19:15.849788], G_step [132760/1000000], D_step[132760/1000000], d_out_real: 0.0000, d_out_fake: 0.0048, g_loss_fake: 1.0953\r\n"
     ]
    },
    {
     "name": "stdout",
     "output_type": "stream",
     "text": [
      "Elapsed [6:19:26.534298], G_step [132770/1000000], D_step[132770/1000000], d_out_real: 0.1937, d_out_fake: 0.0001, g_loss_fake: 1.0981\r\n",
      "save torch\r\n"
     ]
    },
    {
     "name": "stdout",
     "output_type": "stream",
     "text": [
      "Elapsed [6:19:37.578561], G_step [132780/1000000], D_step[132780/1000000], d_out_real: 0.0170, d_out_fake: 0.0591, g_loss_fake: 1.0763\r\n"
     ]
    },
    {
     "name": "stdout",
     "output_type": "stream",
     "text": [
      "Elapsed [6:19:48.235817], G_step [132790/1000000], D_step[132790/1000000], d_out_real: 0.0645, d_out_fake: 0.0012, g_loss_fake: 1.1053\r\n"
     ]
    },
    {
     "name": "stdout",
     "output_type": "stream",
     "text": [
      "Elapsed [6:19:59.272710], G_step [132800/1000000], D_step[132800/1000000], d_out_real: 0.1323, d_out_fake: 0.0000, g_loss_fake: 1.0569\r\n"
     ]
    },
    {
     "name": "stdout",
     "output_type": "stream",
     "text": [
      "Elapsed [6:20:10.229456], G_step [132810/1000000], D_step[132810/1000000], d_out_real: 0.0000, d_out_fake: 0.0000, g_loss_fake: 1.1194\r\n"
     ]
    },
    {
     "name": "stdout",
     "output_type": "stream",
     "text": [
      "Elapsed [6:20:21.163309], G_step [132820/1000000], D_step[132820/1000000], d_out_real: 0.1256, d_out_fake: 0.0000, g_loss_fake: 1.0731\r\n"
     ]
    },
    {
     "name": "stdout",
     "output_type": "stream",
     "text": [
      "Elapsed [6:20:32.555146], G_step [132830/1000000], D_step[132830/1000000], d_out_real: 0.0671, d_out_fake: 0.0050, g_loss_fake: 1.0422\r\n"
     ]
    },
    {
     "name": "stdout",
     "output_type": "stream",
     "text": [
      "Elapsed [6:20:43.110940], G_step [132840/1000000], D_step[132840/1000000], d_out_real: 0.0000, d_out_fake: 0.0002, g_loss_fake: 1.1428\r\n"
     ]
    },
    {
     "name": "stdout",
     "output_type": "stream",
     "text": [
      "Elapsed [6:20:53.817669], G_step [132850/1000000], D_step[132850/1000000], d_out_real: 0.1577, d_out_fake: 0.0000, g_loss_fake: 0.9959\r\n"
     ]
    },
    {
     "name": "stdout",
     "output_type": "stream",
     "text": [
      "Elapsed [6:21:04.631809], G_step [132860/1000000], D_step[132860/1000000], d_out_real: 0.0785, d_out_fake: 0.0000, g_loss_fake: 1.1237\r\n"
     ]
    },
    {
     "name": "stdout",
     "output_type": "stream",
     "text": [
      "Elapsed [6:21:15.204593], G_step [132870/1000000], D_step[132870/1000000], d_out_real: 0.1503, d_out_fake: 0.0680, g_loss_fake: 0.9891\r\n"
     ]
    },
    {
     "name": "stdout",
     "output_type": "stream",
     "text": [
      "Elapsed [6:21:26.293911], G_step [132880/1000000], D_step[132880/1000000], d_out_real: 0.0628, d_out_fake: 0.0170, g_loss_fake: 1.1376\r\n"
     ]
    },
    {
     "name": "stdout",
     "output_type": "stream",
     "text": [
      "Elapsed [6:21:37.024920], G_step [132890/1000000], D_step[132890/1000000], d_out_real: 0.0917, d_out_fake: 0.0000, g_loss_fake: 1.0855\r\n"
     ]
    },
    {
     "name": "stdout",
     "output_type": "stream",
     "text": [
      "Elapsed [6:21:48.460571], G_step [132900/1000000], D_step[132900/1000000], d_out_real: 0.1286, d_out_fake: 0.0147, g_loss_fake: 1.0296\r\n"
     ]
    },
    {
     "name": "stdout",
     "output_type": "stream",
     "text": [
      "Elapsed [6:21:59.943466], G_step [132910/1000000], D_step[132910/1000000], d_out_real: 0.0000, d_out_fake: 0.0010, g_loss_fake: 1.0617\r\n"
     ]
    },
    {
     "name": "stdout",
     "output_type": "stream",
     "text": [
      "Elapsed [6:22:10.781869], G_step [132920/1000000], D_step[132920/1000000], d_out_real: 0.0734, d_out_fake: 0.2741, g_loss_fake: 1.0799\r\n"
     ]
    },
    {
     "name": "stdout",
     "output_type": "stream",
     "text": [
      "Elapsed [6:22:21.921482], G_step [132930/1000000], D_step[132930/1000000], d_out_real: 0.2111, d_out_fake: 0.0000, g_loss_fake: 1.0396\r\n"
     ]
    },
    {
     "name": "stdout",
     "output_type": "stream",
     "text": [
      "Elapsed [6:22:33.276534], G_step [132940/1000000], D_step[132940/1000000], d_out_real: 0.0075, d_out_fake: 0.1712, g_loss_fake: 1.1734\r\n"
     ]
    },
    {
     "name": "stdout",
     "output_type": "stream",
     "text": [
      "Elapsed [6:22:43.947380], G_step [132950/1000000], D_step[132950/1000000], d_out_real: 0.1667, d_out_fake: 0.0048, g_loss_fake: 1.0239\r\n"
     ]
    },
    {
     "name": "stdout",
     "output_type": "stream",
     "text": [
      "Elapsed [6:22:54.703082], G_step [132960/1000000], D_step[132960/1000000], d_out_real: 0.0515, d_out_fake: 0.0000, g_loss_fake: 1.1018\r\n"
     ]
    },
    {
     "name": "stdout",
     "output_type": "stream",
     "text": [
      "Elapsed [6:23:05.336408], G_step [132970/1000000], D_step[132970/1000000], d_out_real: 0.0661, d_out_fake: 0.0000, g_loss_fake: 1.0721\r\n"
     ]
    },
    {
     "name": "stdout",
     "output_type": "stream",
     "text": [
      "Elapsed [6:23:15.981531], G_step [132980/1000000], D_step[132980/1000000], d_out_real: 0.0646, d_out_fake: 0.0597, g_loss_fake: 1.0936\r\n"
     ]
    },
    {
     "name": "stdout",
     "output_type": "stream",
     "text": [
      "Elapsed [6:23:27.020329], G_step [132990/1000000], D_step[132990/1000000], d_out_real: 0.0288, d_out_fake: 0.1535, g_loss_fake: 0.9897\r\n"
     ]
    },
    {
     "name": "stdout",
     "output_type": "stream",
     "text": [
      "Elapsed [6:23:37.886699], G_step [133000/1000000], D_step[133000/1000000], d_out_real: 0.0684, d_out_fake: 0.0787, g_loss_fake: 1.0842\r\n",
      "Sample images 133000_fake.png\r\n"
     ]
    },
    {
     "name": "stdout",
     "output_type": "stream",
     "text": [
      "Elapsed [6:23:48.919856], G_step [133010/1000000], D_step[133010/1000000], d_out_real: 0.0098, d_out_fake: 0.0709, g_loss_fake: 1.1654\r\n"
     ]
    },
    {
     "name": "stdout",
     "output_type": "stream",
     "text": [
      "Elapsed [6:23:59.832464], G_step [133020/1000000], D_step[133020/1000000], d_out_real: 0.0642, d_out_fake: 0.0404, g_loss_fake: 1.0961\r\n"
     ]
    },
    {
     "name": "stdout",
     "output_type": "stream",
     "text": [
      "Elapsed [6:24:11.892822], G_step [133030/1000000], D_step[133030/1000000], d_out_real: 0.1263, d_out_fake: 0.0256, g_loss_fake: 1.0734\r\n"
     ]
    },
    {
     "name": "stdout",
     "output_type": "stream",
     "text": [
      "Elapsed [6:24:22.845242], G_step [133040/1000000], D_step[133040/1000000], d_out_real: 0.2597, d_out_fake: 0.0080, g_loss_fake: 1.0950\r\n"
     ]
    },
    {
     "name": "stdout",
     "output_type": "stream",
     "text": [
      "Elapsed [6:24:33.448671], G_step [133050/1000000], D_step[133050/1000000], d_out_real: 0.0707, d_out_fake: 0.0000, g_loss_fake: 0.8858\r\n"
     ]
    },
    {
     "name": "stdout",
     "output_type": "stream",
     "text": [
      "Elapsed [6:24:44.333842], G_step [133060/1000000], D_step[133060/1000000], d_out_real: 0.0000, d_out_fake: 0.0000, g_loss_fake: 1.0800\r\n"
     ]
    },
    {
     "name": "stdout",
     "output_type": "stream",
     "text": [
      "Elapsed [6:24:54.970348], G_step [133070/1000000], D_step[133070/1000000], d_out_real: 0.0000, d_out_fake: 0.0000, g_loss_fake: 1.0105\r\n"
     ]
    },
    {
     "name": "stdout",
     "output_type": "stream",
     "text": [
      "Elapsed [6:25:06.463233], G_step [133080/1000000], D_step[133080/1000000], d_out_real: 0.0562, d_out_fake: 0.0205, g_loss_fake: 1.0769\r\n"
     ]
    },
    {
     "name": "stdout",
     "output_type": "stream",
     "text": [
      "Elapsed [6:25:17.489230], G_step [133090/1000000], D_step[133090/1000000], d_out_real: 0.0660, d_out_fake: 0.0284, g_loss_fake: 1.0291\r\n"
     ]
    },
    {
     "name": "stdout",
     "output_type": "stream",
     "text": [
      "Elapsed [6:25:28.128193], G_step [133100/1000000], D_step[133100/1000000], d_out_real: 0.0190, d_out_fake: 0.0000, g_loss_fake: 1.0024\r\n"
     ]
    },
    {
     "name": "stdout",
     "output_type": "stream",
     "text": [
      "Elapsed [6:25:39.406295], G_step [133110/1000000], D_step[133110/1000000], d_out_real: 0.1477, d_out_fake: 0.0662, g_loss_fake: 0.9421\r\n"
     ]
    },
    {
     "name": "stdout",
     "output_type": "stream",
     "text": [
      "Elapsed [6:25:50.872289], G_step [133120/1000000], D_step[133120/1000000], d_out_real: 0.0450, d_out_fake: 0.0495, g_loss_fake: 1.1127\r\n"
     ]
    },
    {
     "name": "stdout",
     "output_type": "stream",
     "text": [
      "Elapsed [6:26:01.670745], G_step [133130/1000000], D_step[133130/1000000], d_out_real: 0.1977, d_out_fake: 0.0000, g_loss_fake: 0.9856\r\n"
     ]
    },
    {
     "name": "stdout",
     "output_type": "stream",
     "text": [
      "Elapsed [6:26:12.561437], G_step [133140/1000000], D_step[133140/1000000], d_out_real: 0.1524, d_out_fake: 0.0000, g_loss_fake: 1.0396\r\n"
     ]
    },
    {
     "name": "stdout",
     "output_type": "stream",
     "text": [
      "Elapsed [6:26:23.216304], G_step [133150/1000000], D_step[133150/1000000], d_out_real: 0.0321, d_out_fake: 0.1408, g_loss_fake: 1.0476\r\n"
     ]
    },
    {
     "name": "stdout",
     "output_type": "stream",
     "text": [
      "Elapsed [6:26:34.202486], G_step [133160/1000000], D_step[133160/1000000], d_out_real: 0.1316, d_out_fake: 0.0000, g_loss_fake: 1.0930\r\n"
     ]
    },
    {
     "name": "stdout",
     "output_type": "stream",
     "text": [
      "Elapsed [6:26:45.110116], G_step [133170/1000000], D_step[133170/1000000], d_out_real: 0.1038, d_out_fake: 0.0316, g_loss_fake: 1.0254\r\n"
     ]
    },
    {
     "name": "stdout",
     "output_type": "stream",
     "text": [
      "Elapsed [6:26:56.646663], G_step [133180/1000000], D_step[133180/1000000], d_out_real: 0.2032, d_out_fake: 0.0000, g_loss_fake: 1.0694\r\n"
     ]
    },
    {
     "name": "stdout",
     "output_type": "stream",
     "text": [
      "Elapsed [6:27:07.707543], G_step [133190/1000000], D_step[133190/1000000], d_out_real: 0.0000, d_out_fake: 0.0783, g_loss_fake: 1.1472\r\n"
     ]
    },
    {
     "name": "stdout",
     "output_type": "stream",
     "text": [
      "Elapsed [6:27:18.291090], G_step [133200/1000000], D_step[133200/1000000], d_out_real: 0.0639, d_out_fake: 0.0002, g_loss_fake: 1.0965\r\n"
     ]
    },
    {
     "name": "stdout",
     "output_type": "stream",
     "text": [
      "Elapsed [6:27:29.978149], G_step [133210/1000000], D_step[133210/1000000], d_out_real: 0.1320, d_out_fake: 0.0000, g_loss_fake: 1.0774\r\n"
     ]
    },
    {
     "name": "stdout",
     "output_type": "stream",
     "text": [
      "Elapsed [6:27:40.979912], G_step [133220/1000000], D_step[133220/1000000], d_out_real: 0.0776, d_out_fake: 0.0000, g_loss_fake: 1.1476\r\n"
     ]
    },
    {
     "name": "stdout",
     "output_type": "stream",
     "text": [
      "Elapsed [6:27:51.996197], G_step [133230/1000000], D_step[133230/1000000], d_out_real: 0.0598, d_out_fake: 0.0190, g_loss_fake: 1.0957\r\n"
     ]
    },
    {
     "name": "stdout",
     "output_type": "stream",
     "text": [
      "Elapsed [6:28:02.830303], G_step [133240/1000000], D_step[133240/1000000], d_out_real: 0.1857, d_out_fake: 0.0000, g_loss_fake: 0.9613\r\n"
     ]
    },
    {
     "name": "stdout",
     "output_type": "stream",
     "text": [
      "Elapsed [6:28:13.383469], G_step [133250/1000000], D_step[133250/1000000], d_out_real: 0.1483, d_out_fake: 0.0682, g_loss_fake: 1.0202\r\n"
     ]
    },
    {
     "name": "stdout",
     "output_type": "stream",
     "text": [
      "Elapsed [6:28:24.040930], G_step [133260/1000000], D_step[133260/1000000], d_out_real: 0.1470, d_out_fake: 0.0000, g_loss_fake: 1.0846\r\n"
     ]
    },
    {
     "name": "stdout",
     "output_type": "stream",
     "text": [
      "Elapsed [6:28:34.924929], G_step [133270/1000000], D_step[133270/1000000], d_out_real: 0.1219, d_out_fake: 0.0451, g_loss_fake: 1.0861\r\n"
     ]
    },
    {
     "name": "stdout",
     "output_type": "stream",
     "text": [
      "Elapsed [6:28:46.732368], G_step [133280/1000000], D_step[133280/1000000], d_out_real: 0.0646, d_out_fake: 0.0805, g_loss_fake: 1.1046\r\n"
     ]
    },
    {
     "name": "stdout",
     "output_type": "stream",
     "text": [
      "Elapsed [6:28:58.061360], G_step [133290/1000000], D_step[133290/1000000], d_out_real: 0.1034, d_out_fake: 0.0464, g_loss_fake: 0.9872\r\n"
     ]
    },
    {
     "name": "stdout",
     "output_type": "stream",
     "text": [
      "Elapsed [6:29:08.936571], G_step [133300/1000000], D_step[133300/1000000], d_out_real: 0.2497, d_out_fake: 0.0000, g_loss_fake: 1.0368\r\n"
     ]
    },
    {
     "name": "stdout",
     "output_type": "stream",
     "text": [
      "Elapsed [6:29:20.449658], G_step [133310/1000000], D_step[133310/1000000], d_out_real: 0.0601, d_out_fake: 0.1330, g_loss_fake: 1.0564\r\n"
     ]
    },
    {
     "name": "stdout",
     "output_type": "stream",
     "text": [
      "Elapsed [6:29:31.593304], G_step [133320/1000000], D_step[133320/1000000], d_out_real: 0.0434, d_out_fake: 0.0029, g_loss_fake: 1.0937\r\n"
     ]
    },
    {
     "name": "stdout",
     "output_type": "stream",
     "text": [
      "Elapsed [6:29:42.499832], G_step [133330/1000000], D_step[133330/1000000], d_out_real: 0.0102, d_out_fake: 0.0156, g_loss_fake: 1.0064\r\n"
     ]
    },
    {
     "name": "stdout",
     "output_type": "stream",
     "text": [
      "Elapsed [6:29:55.211969], G_step [133340/1000000], D_step[133340/1000000], d_out_real: 0.0629, d_out_fake: 0.0602, g_loss_fake: 1.0568\r\n"
     ]
    },
    {
     "name": "stdout",
     "output_type": "stream",
     "text": [
      "Elapsed [6:30:05.977577], G_step [133350/1000000], D_step[133350/1000000], d_out_real: 0.0611, d_out_fake: 0.0005, g_loss_fake: 1.0792\r\n"
     ]
    },
    {
     "name": "stdout",
     "output_type": "stream",
     "text": [
      "Elapsed [6:30:17.134442], G_step [133360/1000000], D_step[133360/1000000], d_out_real: 0.0000, d_out_fake: 0.0011, g_loss_fake: 1.1079\r\n"
     ]
    },
    {
     "name": "stdout",
     "output_type": "stream",
     "text": [
      "Elapsed [6:30:28.744605], G_step [133370/1000000], D_step[133370/1000000], d_out_real: 0.3221, d_out_fake: 0.0002, g_loss_fake: 1.0622\r\n"
     ]
    },
    {
     "name": "stdout",
     "output_type": "stream",
     "text": [
      "Elapsed [6:30:39.926509], G_step [133380/1000000], D_step[133380/1000000], d_out_real: 0.0734, d_out_fake: 0.0000, g_loss_fake: 1.0103\r\n"
     ]
    },
    {
     "name": "stdout",
     "output_type": "stream",
     "text": [
      "Elapsed [6:30:50.866187], G_step [133390/1000000], D_step[133390/1000000], d_out_real: 0.2676, d_out_fake: 0.0005, g_loss_fake: 0.8218\r\n"
     ]
    },
    {
     "name": "stdout",
     "output_type": "stream",
     "text": [
      "Elapsed [6:31:02.231151], G_step [133400/1000000], D_step[133400/1000000], d_out_real: 0.0584, d_out_fake: 0.0000, g_loss_fake: 1.1514\r\n"
     ]
    },
    {
     "name": "stdout",
     "output_type": "stream",
     "text": [
      "Elapsed [6:31:13.214717], G_step [133410/1000000], D_step[133410/1000000], d_out_real: 0.0067, d_out_fake: 0.3105, g_loss_fake: 0.9826\r\n"
     ]
    },
    {
     "name": "stdout",
     "output_type": "stream",
     "text": [
      "Elapsed [6:31:25.203099], G_step [133420/1000000], D_step[133420/1000000], d_out_real: 0.0570, d_out_fake: 0.0009, g_loss_fake: 1.0036\r\n"
     ]
    },
    {
     "name": "stdout",
     "output_type": "stream",
     "text": [
      "Elapsed [6:31:35.752148], G_step [133430/1000000], D_step[133430/1000000], d_out_real: 0.0662, d_out_fake: 0.0000, g_loss_fake: 1.0675\r\n"
     ]
    },
    {
     "name": "stdout",
     "output_type": "stream",
     "text": [
      "Elapsed [6:31:46.702923], G_step [133440/1000000], D_step[133440/1000000], d_out_real: 0.2211, d_out_fake: 0.0098, g_loss_fake: 0.9671\r\n"
     ]
    },
    {
     "name": "stdout",
     "output_type": "stream",
     "text": [
      "Elapsed [6:31:58.016805], G_step [133450/1000000], D_step[133450/1000000], d_out_real: 0.0473, d_out_fake: 0.0002, g_loss_fake: 0.9732\r\n"
     ]
    },
    {
     "name": "stdout",
     "output_type": "stream",
     "text": [
      "Elapsed [6:32:08.858043], G_step [133460/1000000], D_step[133460/1000000], d_out_real: 0.1575, d_out_fake: 0.0000, g_loss_fake: 0.9153\r\n"
     ]
    },
    {
     "name": "stdout",
     "output_type": "stream",
     "text": [
      "Elapsed [6:32:20.860135], G_step [133470/1000000], D_step[133470/1000000], d_out_real: 0.1032, d_out_fake: 0.0653, g_loss_fake: 1.0583\r\n"
     ]
    },
    {
     "name": "stdout",
     "output_type": "stream",
     "text": [
      "Elapsed [6:32:31.731841], G_step [133480/1000000], D_step[133480/1000000], d_out_real: 0.0318, d_out_fake: 0.0000, g_loss_fake: 1.0590\r\n"
     ]
    },
    {
     "name": "stdout",
     "output_type": "stream",
     "text": [
      "Elapsed [6:32:42.763965], G_step [133490/1000000], D_step[133490/1000000], d_out_real: 0.0000, d_out_fake: 0.0648, g_loss_fake: 0.9999\r\n"
     ]
    },
    {
     "name": "stdout",
     "output_type": "stream",
     "text": [
      "Elapsed [6:32:53.931646], G_step [133500/1000000], D_step[133500/1000000], d_out_real: 0.0045, d_out_fake: 0.1264, g_loss_fake: 1.1278\r\n"
     ]
    },
    {
     "name": "stdout",
     "output_type": "stream",
     "text": [
      "Elapsed [6:33:05.963463], G_step [133510/1000000], D_step[133510/1000000], d_out_real: 0.0696, d_out_fake: 0.0000, g_loss_fake: 0.9981\r\n"
     ]
    },
    {
     "name": "stdout",
     "output_type": "stream",
     "text": [
      "Elapsed [6:33:16.503920], G_step [133520/1000000], D_step[133520/1000000], d_out_real: 0.0915, d_out_fake: 0.0000, g_loss_fake: 1.0881\r\n"
     ]
    },
    {
     "name": "stdout",
     "output_type": "stream",
     "text": [
      "Elapsed [6:33:27.376626], G_step [133530/1000000], D_step[133530/1000000], d_out_real: 0.0656, d_out_fake: 0.0686, g_loss_fake: 1.1331\r\n"
     ]
    },
    {
     "name": "stdout",
     "output_type": "stream",
     "text": [
      "Elapsed [6:33:39.632972], G_step [133540/1000000], D_step[133540/1000000], d_out_real: 0.0747, d_out_fake: 0.0624, g_loss_fake: 0.8857\r\n"
     ]
    },
    {
     "name": "stdout",
     "output_type": "stream",
     "text": [
      "Elapsed [6:33:51.084959], G_step [133550/1000000], D_step[133550/1000000], d_out_real: 0.1322, d_out_fake: 0.0288, g_loss_fake: 1.0613\r\n"
     ]
    },
    {
     "name": "stdout",
     "output_type": "stream",
     "text": [
      "Elapsed [6:34:02.119987], G_step [133560/1000000], D_step[133560/1000000], d_out_real: 0.0000, d_out_fake: 0.0009, g_loss_fake: 1.0916\r\n"
     ]
    },
    {
     "name": "stdout",
     "output_type": "stream",
     "text": [
      "Elapsed [6:34:12.794020], G_step [133570/1000000], D_step[133570/1000000], d_out_real: 0.0043, d_out_fake: 0.0028, g_loss_fake: 1.1394\r\n"
     ]
    },
    {
     "name": "stdout",
     "output_type": "stream",
     "text": [
      "Elapsed [6:34:25.561567], G_step [133580/1000000], D_step[133580/1000000], d_out_real: 0.0000, d_out_fake: 0.0556, g_loss_fake: 1.1071\r\n"
     ]
    },
    {
     "name": "stdout",
     "output_type": "stream",
     "text": [
      "Elapsed [6:34:36.242618], G_step [133590/1000000], D_step[133590/1000000], d_out_real: 0.0000, d_out_fake: 0.1708, g_loss_fake: 1.1316\r\n"
     ]
    },
    {
     "name": "stdout",
     "output_type": "stream",
     "text": [
      "Elapsed [6:34:47.274406], G_step [133600/1000000], D_step[133600/1000000], d_out_real: 0.0700, d_out_fake: 0.0447, g_loss_fake: 1.1502\r\n"
     ]
    },
    {
     "name": "stdout",
     "output_type": "stream",
     "text": [
      "Elapsed [6:34:57.856257], G_step [133610/1000000], D_step[133610/1000000], d_out_real: 0.0618, d_out_fake: 0.1282, g_loss_fake: 1.0161\r\n"
     ]
    },
    {
     "name": "stdout",
     "output_type": "stream",
     "text": [
      "Elapsed [6:35:08.891850], G_step [133620/1000000], D_step[133620/1000000], d_out_real: 0.0783, d_out_fake: 0.0000, g_loss_fake: 1.0569\r\n"
     ]
    },
    {
     "name": "stdout",
     "output_type": "stream",
     "text": [
      "Elapsed [6:35:19.687118], G_step [133630/1000000], D_step[133630/1000000], d_out_real: 0.0012, d_out_fake: 0.0783, g_loss_fake: 1.1760\r\n"
     ]
    },
    {
     "name": "stdout",
     "output_type": "stream",
     "text": [
      "Elapsed [6:35:30.405766], G_step [133640/1000000], D_step[133640/1000000], d_out_real: 0.1301, d_out_fake: 0.0000, g_loss_fake: 1.0644\r\n"
     ]
    },
    {
     "name": "stdout",
     "output_type": "stream",
     "text": [
      "Elapsed [6:35:41.090249], G_step [133650/1000000], D_step[133650/1000000], d_out_real: 0.0000, d_out_fake: 0.0652, g_loss_fake: 1.0894\r\n"
     ]
    },
    {
     "name": "stdout",
     "output_type": "stream",
     "text": [
      "Elapsed [6:35:52.190389], G_step [133660/1000000], D_step[133660/1000000], d_out_real: 0.1253, d_out_fake: 0.0000, g_loss_fake: 1.0210\r\n"
     ]
    },
    {
     "name": "stdout",
     "output_type": "stream",
     "text": [
      "Elapsed [6:36:02.831014], G_step [133670/1000000], D_step[133670/1000000], d_out_real: 0.1069, d_out_fake: 0.0552, g_loss_fake: 1.0236\r\n"
     ]
    },
    {
     "name": "stdout",
     "output_type": "stream",
     "text": [
      "Elapsed [6:36:13.876111], G_step [133680/1000000], D_step[133680/1000000], d_out_real: 0.0000, d_out_fake: 0.0834, g_loss_fake: 1.0673\r\n"
     ]
    },
    {
     "name": "stdout",
     "output_type": "stream",
     "text": [
      "Elapsed [6:36:24.636372], G_step [133690/1000000], D_step[133690/1000000], d_out_real: 0.0000, d_out_fake: 0.0316, g_loss_fake: 1.1779\r\n"
     ]
    },
    {
     "name": "stdout",
     "output_type": "stream",
     "text": [
      "Elapsed [6:36:35.942720], G_step [133700/1000000], D_step[133700/1000000], d_out_real: 0.1453, d_out_fake: 0.0565, g_loss_fake: 1.0320\r\n"
     ]
    },
    {
     "name": "stdout",
     "output_type": "stream",
     "text": [
      "Elapsed [6:36:46.577850], G_step [133710/1000000], D_step[133710/1000000], d_out_real: 0.1946, d_out_fake: 0.0000, g_loss_fake: 1.0987\r\n"
     ]
    },
    {
     "name": "stdout",
     "output_type": "stream",
     "text": [
      "Elapsed [6:36:57.294490], G_step [133720/1000000], D_step[133720/1000000], d_out_real: 0.0642, d_out_fake: 0.0147, g_loss_fake: 1.0639\r\n"
     ]
    },
    {
     "name": "stdout",
     "output_type": "stream",
     "text": [
      "Elapsed [6:37:08.995469], G_step [133730/1000000], D_step[133730/1000000], d_out_real: 0.0667, d_out_fake: 0.0708, g_loss_fake: 1.1615\r\n"
     ]
    },
    {
     "name": "stdout",
     "output_type": "stream",
     "text": [
      "Elapsed [6:37:19.596710], G_step [133740/1000000], D_step[133740/1000000], d_out_real: 0.0153, d_out_fake: 0.0014, g_loss_fake: 1.0703\r\n"
     ]
    },
    {
     "name": "stdout",
     "output_type": "stream",
     "text": [
      "Elapsed [6:37:30.529376], G_step [133750/1000000], D_step[133750/1000000], d_out_real: 0.1663, d_out_fake: 0.0000, g_loss_fake: 1.0872\r\n"
     ]
    },
    {
     "name": "stdout",
     "output_type": "stream",
     "text": [
      "Elapsed [6:37:41.502432], G_step [133760/1000000], D_step[133760/1000000], d_out_real: 0.0750, d_out_fake: 0.0019, g_loss_fake: 1.0676\r\n"
     ]
    },
    {
     "name": "stdout",
     "output_type": "stream",
     "text": [
      "Elapsed [6:37:53.011006], G_step [133770/1000000], D_step[133770/1000000], d_out_real: 0.0000, d_out_fake: 0.0302, g_loss_fake: 1.1233\r\n"
     ]
    },
    {
     "name": "stdout",
     "output_type": "stream",
     "text": [
      "Elapsed [6:38:04.048127], G_step [133780/1000000], D_step[133780/1000000], d_out_real: 0.2997, d_out_fake: 0.0002, g_loss_fake: 1.0535\r\n"
     ]
    },
    {
     "name": "stdout",
     "output_type": "stream",
     "text": [
      "Elapsed [6:38:14.905680], G_step [133790/1000000], D_step[133790/1000000], d_out_real: 0.1310, d_out_fake: 0.0002, g_loss_fake: 1.0635\r\n"
     ]
    },
    {
     "name": "stdout",
     "output_type": "stream",
     "text": [
      "Elapsed [6:38:25.668977], G_step [133800/1000000], D_step[133800/1000000], d_out_real: 0.0775, d_out_fake: 0.1031, g_loss_fake: 1.1581\r\n"
     ]
    },
    {
     "name": "stdout",
     "output_type": "stream",
     "text": [
      "Elapsed [6:38:37.160285], G_step [133810/1000000], D_step[133810/1000000], d_out_real: 0.0196, d_out_fake: 0.0000, g_loss_fake: 1.0481\r\n"
     ]
    },
    {
     "name": "stdout",
     "output_type": "stream",
     "text": [
      "Elapsed [6:38:47.736215], G_step [133820/1000000], D_step[133820/1000000], d_out_real: 0.1918, d_out_fake: 0.0564, g_loss_fake: 1.0053\r\n"
     ]
    },
    {
     "name": "stdout",
     "output_type": "stream",
     "text": [
      "Elapsed [6:38:58.400243], G_step [133830/1000000], D_step[133830/1000000], d_out_real: 0.1156, d_out_fake: 0.1171, g_loss_fake: 0.9312\r\n"
     ]
    },
    {
     "name": "stdout",
     "output_type": "stream",
     "text": [
      "Elapsed [6:39:09.849728], G_step [133840/1000000], D_step[133840/1000000], d_out_real: 0.0671, d_out_fake: 0.0001, g_loss_fake: 1.0814\r\n"
     ]
    },
    {
     "name": "stdout",
     "output_type": "stream",
     "text": [
      "Elapsed [6:39:21.035563], G_step [133850/1000000], D_step[133850/1000000], d_out_real: 0.0566, d_out_fake: 0.0468, g_loss_fake: 1.1093\r\n"
     ]
    },
    {
     "name": "stdout",
     "output_type": "stream",
     "text": [
      "Elapsed [6:39:31.675093], G_step [133860/1000000], D_step[133860/1000000], d_out_real: 0.1428, d_out_fake: 0.0298, g_loss_fake: 1.1055\r\n"
     ]
    },
    {
     "name": "stdout",
     "output_type": "stream",
     "text": [
      "Elapsed [6:39:43.094204], G_step [133870/1000000], D_step[133870/1000000], d_out_real: 0.0000, d_out_fake: 0.0205, g_loss_fake: 1.0222\r\n"
     ]
    },
    {
     "name": "stdout",
     "output_type": "stream",
     "text": [
      "Elapsed [6:39:54.006868], G_step [133880/1000000], D_step[133880/1000000], d_out_real: 0.2027, d_out_fake: 0.0261, g_loss_fake: 1.0097\r\n"
     ]
    },
    {
     "name": "stdout",
     "output_type": "stream",
     "text": [
      "Elapsed [6:40:05.036229], G_step [133890/1000000], D_step[133890/1000000], d_out_real: 0.1144, d_out_fake: 0.0330, g_loss_fake: 0.9425\r\n"
     ]
    },
    {
     "name": "stdout",
     "output_type": "stream",
     "text": [
      "Elapsed [6:40:16.226858], G_step [133900/1000000], D_step[133900/1000000], d_out_real: 0.1290, d_out_fake: 0.0198, g_loss_fake: 1.0384\r\n"
     ]
    },
    {
     "name": "stdout",
     "output_type": "stream",
     "text": [
      "Elapsed [6:40:27.102931], G_step [133910/1000000], D_step[133910/1000000], d_out_real: 0.0030, d_out_fake: 0.0000, g_loss_fake: 1.0082\r\n"
     ]
    },
    {
     "name": "stdout",
     "output_type": "stream",
     "text": [
      "Elapsed [6:40:37.977777], G_step [133920/1000000], D_step[133920/1000000], d_out_real: 0.1173, d_out_fake: 0.0000, g_loss_fake: 1.0198\r\n"
     ]
    },
    {
     "name": "stdout",
     "output_type": "stream",
     "text": [
      "Elapsed [6:40:49.423192], G_step [133930/1000000], D_step[133930/1000000], d_out_real: 0.0000, d_out_fake: 0.0001, g_loss_fake: 1.0704\r\n"
     ]
    },
    {
     "name": "stdout",
     "output_type": "stream",
     "text": [
      "Elapsed [6:41:00.566945], G_step [133940/1000000], D_step[133940/1000000], d_out_real: 0.0073, d_out_fake: 0.0242, g_loss_fake: 0.9691\r\n"
     ]
    },
    {
     "name": "stdout",
     "output_type": "stream",
     "text": [
      "Elapsed [6:41:12.420516], G_step [133950/1000000], D_step[133950/1000000], d_out_real: 0.0000, d_out_fake: 0.1044, g_loss_fake: 0.9670\r\n"
     ]
    },
    {
     "name": "stdout",
     "output_type": "stream",
     "text": [
      "Elapsed [6:41:23.670947], G_step [133960/1000000], D_step[133960/1000000], d_out_real: 0.0619, d_out_fake: 0.0000, g_loss_fake: 1.0110\r\n"
     ]
    },
    {
     "name": "stdout",
     "output_type": "stream",
     "text": [
      "Elapsed [6:41:34.236123], G_step [133970/1000000], D_step[133970/1000000], d_out_real: 0.0892, d_out_fake: 0.1483, g_loss_fake: 1.0773\r\n"
     ]
    },
    {
     "name": "stdout",
     "output_type": "stream",
     "text": [
      "Elapsed [6:41:45.270833], G_step [133980/1000000], D_step[133980/1000000], d_out_real: 0.0090, d_out_fake: 0.0105, g_loss_fake: 1.0207\r\n"
     ]
    },
    {
     "name": "stdout",
     "output_type": "stream",
     "text": [
      "Elapsed [6:41:56.217269], G_step [133990/1000000], D_step[133990/1000000], d_out_real: 0.0000, d_out_fake: 0.0000, g_loss_fake: 1.0584\r\n"
     ]
    },
    {
     "name": "stdout",
     "output_type": "stream",
     "text": [
      "Elapsed [6:42:07.033810], G_step [134000/1000000], D_step[134000/1000000], d_out_real: 0.0286, d_out_fake: 0.0273, g_loss_fake: 1.1635\r\n",
      "Sample images 134000_fake.png\r\n"
     ]
    },
    {
     "name": "stdout",
     "output_type": "stream",
     "text": [
      "Elapsed [6:42:18.287774], G_step [134010/1000000], D_step[134010/1000000], d_out_real: 0.1300, d_out_fake: 0.0018, g_loss_fake: 1.0509\r\n"
     ]
    },
    {
     "name": "stdout",
     "output_type": "stream",
     "text": [
      "Elapsed [6:42:29.678112], G_step [134020/1000000], D_step[134020/1000000], d_out_real: 0.1930, d_out_fake: 0.0002, g_loss_fake: 1.0349\r\n"
     ]
    },
    {
     "name": "stdout",
     "output_type": "stream",
     "text": [
      "Elapsed [6:42:40.951045], G_step [134030/1000000], D_step[134030/1000000], d_out_real: 0.0269, d_out_fake: 0.0000, g_loss_fake: 0.9061\r\n"
     ]
    },
    {
     "name": "stdout",
     "output_type": "stream",
     "text": [
      "Elapsed [6:42:51.587358], G_step [134040/1000000], D_step[134040/1000000], d_out_real: 0.0000, d_out_fake: 0.0016, g_loss_fake: 1.0759\r\n"
     ]
    },
    {
     "name": "stdout",
     "output_type": "stream",
     "text": [
      "Elapsed [6:43:02.791569], G_step [134050/1000000], D_step[134050/1000000], d_out_real: 0.1683, d_out_fake: 0.0070, g_loss_fake: 1.1369\r\n"
     ]
    },
    {
     "name": "stdout",
     "output_type": "stream",
     "text": [
      "Elapsed [6:43:14.276693], G_step [134060/1000000], D_step[134060/1000000], d_out_real: 0.0677, d_out_fake: 0.0731, g_loss_fake: 1.1269\r\n"
     ]
    },
    {
     "name": "stdout",
     "output_type": "stream",
     "text": [
      "Elapsed [6:43:24.943180], G_step [134070/1000000], D_step[134070/1000000], d_out_real: 0.0000, d_out_fake: 0.0101, g_loss_fake: 1.1390\r\n"
     ]
    },
    {
     "name": "stdout",
     "output_type": "stream",
     "text": [
      "Elapsed [6:43:35.761248], G_step [134080/1000000], D_step[134080/1000000], d_out_real: 0.0608, d_out_fake: 0.0737, g_loss_fake: 1.0106\r\n"
     ]
    },
    {
     "name": "stdout",
     "output_type": "stream",
     "text": [
      "Elapsed [6:43:46.900330], G_step [134090/1000000], D_step[134090/1000000], d_out_real: 0.0088, d_out_fake: 0.0001, g_loss_fake: 0.9964\r\n"
     ]
    },
    {
     "name": "stdout",
     "output_type": "stream",
     "text": [
      "Elapsed [6:43:58.693596], G_step [134100/1000000], D_step[134100/1000000], d_out_real: 0.0000, d_out_fake: 0.0944, g_loss_fake: 1.1817\r\n"
     ]
    },
    {
     "name": "stdout",
     "output_type": "stream",
     "text": [
      "Elapsed [6:44:10.101882], G_step [134110/1000000], D_step[134110/1000000], d_out_real: 0.0615, d_out_fake: 0.0227, g_loss_fake: 1.1840\r\n"
     ]
    },
    {
     "name": "stdout",
     "output_type": "stream",
     "text": [
      "Elapsed [6:44:21.110324], G_step [134120/1000000], D_step[134120/1000000], d_out_real: 0.0618, d_out_fake: 0.0000, g_loss_fake: 1.0861\r\n"
     ]
    },
    {
     "name": "stdout",
     "output_type": "stream",
     "text": [
      "Elapsed [6:44:31.876216], G_step [134130/1000000], D_step[134130/1000000], d_out_real: 0.0441, d_out_fake: 0.0038, g_loss_fake: 0.8430\r\n"
     ]
    },
    {
     "name": "stdout",
     "output_type": "stream",
     "text": [
      "Elapsed [6:44:42.638550], G_step [134140/1000000], D_step[134140/1000000], d_out_real: 0.0201, d_out_fake: 0.0243, g_loss_fake: 1.0686\r\n"
     ]
    },
    {
     "name": "stdout",
     "output_type": "stream",
     "text": [
      "Elapsed [6:44:53.317082], G_step [134150/1000000], D_step[134150/1000000], d_out_real: 0.0000, d_out_fake: 0.2183, g_loss_fake: 1.0725\r\n"
     ]
    },
    {
     "name": "stdout",
     "output_type": "stream",
     "text": [
      "Elapsed [6:45:04.347162], G_step [134160/1000000], D_step[134160/1000000], d_out_real: 0.0000, d_out_fake: 0.0288, g_loss_fake: 1.1370\r\n"
     ]
    },
    {
     "name": "stdout",
     "output_type": "stream",
     "text": [
      "Elapsed [6:45:16.478380], G_step [134170/1000000], D_step[134170/1000000], d_out_real: 0.0628, d_out_fake: 0.0000, g_loss_fake: 1.0885\r\n"
     ]
    },
    {
     "name": "stdout",
     "output_type": "stream",
     "text": [
      "Elapsed [6:45:27.115084], G_step [134180/1000000], D_step[134180/1000000], d_out_real: 0.1421, d_out_fake: 0.0000, g_loss_fake: 0.9827\r\n"
     ]
    },
    {
     "name": "stdout",
     "output_type": "stream",
     "text": [
      "Elapsed [6:45:37.820841], G_step [134190/1000000], D_step[134190/1000000], d_out_real: 0.0000, d_out_fake: 0.0006, g_loss_fake: 0.7218\r\n"
     ]
    },
    {
     "name": "stdout",
     "output_type": "stream",
     "text": [
      "Elapsed [6:45:49.143043], G_step [134200/1000000], D_step[134200/1000000], d_out_real: 0.1287, d_out_fake: 0.0000, g_loss_fake: 0.9914\r\n"
     ]
    },
    {
     "name": "stdout",
     "output_type": "stream",
     "text": [
      "Elapsed [6:45:59.971182], G_step [134210/1000000], D_step[134210/1000000], d_out_real: 0.0788, d_out_fake: 0.0545, g_loss_fake: 1.1461\r\n"
     ]
    },
    {
     "name": "stdout",
     "output_type": "stream",
     "text": [
      "Elapsed [6:46:10.720256], G_step [134220/1000000], D_step[134220/1000000], d_out_real: 0.0000, d_out_fake: 0.0904, g_loss_fake: 1.0957\r\n"
     ]
    },
    {
     "name": "stdout",
     "output_type": "stream",
     "text": [
      "Elapsed [6:46:21.476971], G_step [134230/1000000], D_step[134230/1000000], d_out_real: 0.0000, d_out_fake: 0.0660, g_loss_fake: 1.1529\r\n"
     ]
    },
    {
     "name": "stdout",
     "output_type": "stream",
     "text": [
      "Elapsed [6:46:32.542740], G_step [134240/1000000], D_step[134240/1000000], d_out_real: 0.1299, d_out_fake: 0.0803, g_loss_fake: 0.9560\r\n"
     ]
    },
    {
     "name": "stdout",
     "output_type": "stream",
     "text": [
      "Elapsed [6:46:43.464293], G_step [134250/1000000], D_step[134250/1000000], d_out_real: 0.0000, d_out_fake: 0.0050, g_loss_fake: 1.0926\r\n"
     ]
    },
    {
     "name": "stdout",
     "output_type": "stream",
     "text": [
      "Elapsed [6:46:54.872402], G_step [134260/1000000], D_step[134260/1000000], d_out_real: 0.0234, d_out_fake: 0.1305, g_loss_fake: 1.1155\r\n"
     ]
    },
    {
     "name": "stdout",
     "output_type": "stream",
     "text": [
      "Elapsed [6:47:06.256393], G_step [134270/1000000], D_step[134270/1000000], d_out_real: 0.0058, d_out_fake: 0.2403, g_loss_fake: 1.0903\r\n"
     ]
    },
    {
     "name": "stdout",
     "output_type": "stream",
     "text": [
      "Elapsed [6:47:17.263407], G_step [134280/1000000], D_step[134280/1000000], d_out_real: 0.0033, d_out_fake: 0.0000, g_loss_fake: 1.0814\r\n"
     ]
    },
    {
     "name": "stdout",
     "output_type": "stream",
     "text": [
      "Elapsed [6:47:28.487502], G_step [134290/1000000], D_step[134290/1000000], d_out_real: 0.0610, d_out_fake: 0.0684, g_loss_fake: 1.0605\r\n"
     ]
    },
    {
     "name": "stdout",
     "output_type": "stream",
     "text": [
      "Elapsed [6:47:39.794105], G_step [134300/1000000], D_step[134300/1000000], d_out_real: 0.0662, d_out_fake: 0.0000, g_loss_fake: 1.1302\r\n"
     ]
    },
    {
     "name": "stdout",
     "output_type": "stream",
     "text": [
      "Elapsed [6:47:50.740731], G_step [134310/1000000], D_step[134310/1000000], d_out_real: 0.0620, d_out_fake: 0.0601, g_loss_fake: 1.1642\r\n"
     ]
    },
    {
     "name": "stdout",
     "output_type": "stream",
     "text": [
      "Elapsed [6:48:01.937598], G_step [134320/1000000], D_step[134320/1000000], d_out_real: 0.1267, d_out_fake: 0.0837, g_loss_fake: 1.0634\r\n"
     ]
    },
    {
     "name": "stdout",
     "output_type": "stream",
     "text": [
      "Elapsed [6:48:13.134781], G_step [134330/1000000], D_step[134330/1000000], d_out_real: 0.0000, d_out_fake: 0.0109, g_loss_fake: 1.0689\r\n"
     ]
    },
    {
     "name": "stdout",
     "output_type": "stream",
     "text": [
      "save torch\r\n"
     ]
    },
    {
     "name": "stdout",
     "output_type": "stream",
     "text": [
      "Elapsed [6:48:25.103273], G_step [134340/1000000], D_step[134340/1000000], d_out_real: 0.0000, d_out_fake: 0.0149, g_loss_fake: 1.1252\r\n"
     ]
    },
    {
     "name": "stdout",
     "output_type": "stream",
     "text": [
      "Elapsed [6:48:35.769352], G_step [134350/1000000], D_step[134350/1000000], d_out_real: 0.1333, d_out_fake: 0.0024, g_loss_fake: 1.0947\r\n"
     ]
    },
    {
     "name": "stdout",
     "output_type": "stream",
     "text": [
      "Elapsed [6:48:46.522831], G_step [134360/1000000], D_step[134360/1000000], d_out_real: 0.0597, d_out_fake: 0.0638, g_loss_fake: 1.0212\r\n"
     ]
    },
    {
     "name": "stdout",
     "output_type": "stream",
     "text": [
      "Elapsed [6:48:58.018178], G_step [134370/1000000], D_step[134370/1000000], d_out_real: 0.1356, d_out_fake: 0.0552, g_loss_fake: 1.0718\r\n"
     ]
    },
    {
     "name": "stdout",
     "output_type": "stream",
     "text": [
      "Elapsed [6:49:09.031503], G_step [134380/1000000], D_step[134380/1000000], d_out_real: 0.0049, d_out_fake: 0.0081, g_loss_fake: 1.0832\r\n"
     ]
    },
    {
     "name": "stdout",
     "output_type": "stream",
     "text": [
      "Elapsed [6:49:20.088194], G_step [134390/1000000], D_step[134390/1000000], d_out_real: 0.0000, d_out_fake: 0.0000, g_loss_fake: 1.1322\r\n"
     ]
    },
    {
     "name": "stdout",
     "output_type": "stream",
     "text": [
      "Elapsed [6:49:30.589184], G_step [134400/1000000], D_step[134400/1000000], d_out_real: 0.0893, d_out_fake: 0.0000, g_loss_fake: 1.0634\r\n"
     ]
    },
    {
     "name": "stdout",
     "output_type": "stream",
     "text": [
      "Elapsed [6:49:41.246913], G_step [134410/1000000], D_step[134410/1000000], d_out_real: 0.0000, d_out_fake: 0.1955, g_loss_fake: 1.0939\r\n"
     ]
    },
    {
     "name": "stdout",
     "output_type": "stream",
     "text": [
      "Elapsed [6:49:52.346571], G_step [134420/1000000], D_step[134420/1000000], d_out_real: 0.1418, d_out_fake: 0.0000, g_loss_fake: 0.8605\r\n"
     ]
    },
    {
     "name": "stdout",
     "output_type": "stream",
     "text": [
      "Elapsed [6:50:03.213918], G_step [134430/1000000], D_step[134430/1000000], d_out_real: 0.0983, d_out_fake: 0.0000, g_loss_fake: 1.0290\r\n"
     ]
    },
    {
     "name": "stdout",
     "output_type": "stream",
     "text": [
      "Elapsed [6:50:14.044884], G_step [134440/1000000], D_step[134440/1000000], d_out_real: 0.2123, d_out_fake: 0.0000, g_loss_fake: 0.9750\r\n"
     ]
    },
    {
     "name": "stdout",
     "output_type": "stream",
     "text": [
      "Elapsed [6:50:24.899515], G_step [134450/1000000], D_step[134450/1000000], d_out_real: 0.0545, d_out_fake: 0.0000, g_loss_fake: 0.9125\r\n"
     ]
    },
    {
     "name": "stdout",
     "output_type": "stream",
     "text": [
      "Elapsed [6:50:36.527144], G_step [134460/1000000], D_step[134460/1000000], d_out_real: 0.0834, d_out_fake: 0.2170, g_loss_fake: 1.0295\r\n"
     ]
    },
    {
     "name": "stdout",
     "output_type": "stream",
     "text": [
      "Elapsed [6:50:47.550333], G_step [134470/1000000], D_step[134470/1000000], d_out_real: 0.0609, d_out_fake: 0.0049, g_loss_fake: 1.0993\r\n"
     ]
    },
    {
     "name": "stdout",
     "output_type": "stream",
     "text": [
      "Elapsed [6:50:58.853588], G_step [134480/1000000], D_step[134480/1000000], d_out_real: 0.0350, d_out_fake: 0.0002, g_loss_fake: 0.8981\r\n"
     ]
    },
    {
     "name": "stdout",
     "output_type": "stream",
     "text": [
      "Elapsed [6:51:09.399648], G_step [134490/1000000], D_step[134490/1000000], d_out_real: 0.1989, d_out_fake: 0.0000, g_loss_fake: 1.1175\r\n"
     ]
    },
    {
     "name": "stdout",
     "output_type": "stream",
     "text": [
      "Elapsed [6:51:20.319758], G_step [134500/1000000], D_step[134500/1000000], d_out_real: 0.1176, d_out_fake: 0.0000, g_loss_fake: 1.0604\r\n"
     ]
    },
    {
     "name": "stdout",
     "output_type": "stream",
     "text": [
      "Elapsed [6:51:31.072600], G_step [134510/1000000], D_step[134510/1000000], d_out_real: 0.0452, d_out_fake: 0.0000, g_loss_fake: 1.0906\r\n"
     ]
    },
    {
     "name": "stdout",
     "output_type": "stream",
     "text": [
      "Elapsed [6:51:42.141862], G_step [134520/1000000], D_step[134520/1000000], d_out_real: 0.0632, d_out_fake: 0.0240, g_loss_fake: 1.0702\r\n"
     ]
    },
    {
     "name": "stdout",
     "output_type": "stream",
     "text": [
      "Elapsed [6:51:53.349524], G_step [134530/1000000], D_step[134530/1000000], d_out_real: 0.1207, d_out_fake: 0.0000, g_loss_fake: 0.9918\r\n"
     ]
    },
    {
     "name": "stdout",
     "output_type": "stream",
     "text": [
      "Elapsed [6:52:03.883332], G_step [134540/1000000], D_step[134540/1000000], d_out_real: 0.1643, d_out_fake: 0.0000, g_loss_fake: 1.0524\r\n"
     ]
    },
    {
     "name": "stdout",
     "output_type": "stream",
     "text": [
      "Elapsed [6:52:14.417011], G_step [134550/1000000], D_step[134550/1000000], d_out_real: 0.1256, d_out_fake: 0.0000, g_loss_fake: 0.9696\r\n"
     ]
    },
    {
     "name": "stdout",
     "output_type": "stream",
     "text": [
      "Elapsed [6:52:25.323646], G_step [134560/1000000], D_step[134560/1000000], d_out_real: 0.2126, d_out_fake: 0.0583, g_loss_fake: 1.0032\r\n"
     ]
    },
    {
     "name": "stdout",
     "output_type": "stream",
     "text": [
      "Elapsed [6:52:36.414811], G_step [134570/1000000], D_step[134570/1000000], d_out_real: 0.0084, d_out_fake: 0.0339, g_loss_fake: 0.9244\r\n"
     ]
    },
    {
     "name": "stdout",
     "output_type": "stream",
     "text": [
      "Elapsed [6:52:46.971161], G_step [134580/1000000], D_step[134580/1000000], d_out_real: 0.0000, d_out_fake: 0.2201, g_loss_fake: 1.1374\r\n"
     ]
    },
    {
     "name": "stdout",
     "output_type": "stream",
     "text": [
      "Elapsed [6:52:57.980863], G_step [134590/1000000], D_step[134590/1000000], d_out_real: 0.0000, d_out_fake: 0.0147, g_loss_fake: 1.0451\r\n"
     ]
    },
    {
     "name": "stdout",
     "output_type": "stream",
     "text": [
      "Elapsed [6:53:09.913415], G_step [134600/1000000], D_step[134600/1000000], d_out_real: 0.0631, d_out_fake: 0.1949, g_loss_fake: 1.1144\r\n"
     ]
    },
    {
     "name": "stdout",
     "output_type": "stream",
     "text": [
      "Elapsed [6:53:20.999559], G_step [134610/1000000], D_step[134610/1000000], d_out_real: 0.0022, d_out_fake: 0.0050, g_loss_fake: 0.9898\r\n"
     ]
    },
    {
     "name": "stdout",
     "output_type": "stream",
     "text": [
      "Elapsed [6:53:32.429775], G_step [134620/1000000], D_step[134620/1000000], d_out_real: 0.0397, d_out_fake: 0.0921, g_loss_fake: 1.1353\r\n"
     ]
    },
    {
     "name": "stdout",
     "output_type": "stream",
     "text": [
      "Elapsed [6:53:43.611624], G_step [134630/1000000], D_step[134630/1000000], d_out_real: 0.1289, d_out_fake: 0.0593, g_loss_fake: 1.1096\r\n"
     ]
    },
    {
     "name": "stdout",
     "output_type": "stream",
     "text": [
      "Elapsed [6:53:54.747733], G_step [134640/1000000], D_step[134640/1000000], d_out_real: 0.0660, d_out_fake: 0.0634, g_loss_fake: 1.0713\r\n"
     ]
    },
    {
     "name": "stdout",
     "output_type": "stream",
     "text": [
      "Elapsed [6:54:05.701032], G_step [134650/1000000], D_step[134650/1000000], d_out_real: 0.2489, d_out_fake: 0.0010, g_loss_fake: 1.0460\r\n"
     ]
    },
    {
     "name": "stdout",
     "output_type": "stream",
     "text": [
      "Elapsed [6:54:18.883762], G_step [134660/1000000], D_step[134660/1000000], d_out_real: 0.0000, d_out_fake: 0.0000, g_loss_fake: 1.1239\r\n"
     ]
    },
    {
     "name": "stdout",
     "output_type": "stream",
     "text": [
      "Elapsed [6:54:29.678613], G_step [134670/1000000], D_step[134670/1000000], d_out_real: 0.1356, d_out_fake: 0.0253, g_loss_fake: 0.9740\r\n"
     ]
    },
    {
     "name": "stdout",
     "output_type": "stream",
     "text": [
      "Elapsed [6:54:40.905957], G_step [134680/1000000], D_step[134680/1000000], d_out_real: 0.0806, d_out_fake: 0.0000, g_loss_fake: 0.9879\r\n"
     ]
    },
    {
     "name": "stdout",
     "output_type": "stream",
     "text": [
      "Elapsed [6:54:52.445003], G_step [134690/1000000], D_step[134690/1000000], d_out_real: 0.1296, d_out_fake: 0.0705, g_loss_fake: 1.0715\r\n"
     ]
    },
    {
     "name": "stdout",
     "output_type": "stream",
     "text": [
      "Elapsed [6:55:03.830884], G_step [134700/1000000], D_step[134700/1000000], d_out_real: 0.0105, d_out_fake: 0.0000, g_loss_fake: 1.1606\r\n"
     ]
    },
    {
     "name": "stdout",
     "output_type": "stream",
     "text": [
      "Elapsed [6:55:14.828661], G_step [134710/1000000], D_step[134710/1000000], d_out_real: 0.0383, d_out_fake: 0.0000, g_loss_fake: 1.0619\r\n"
     ]
    },
    {
     "name": "stdout",
     "output_type": "stream",
     "text": [
      "Elapsed [6:55:25.863917], G_step [134720/1000000], D_step[134720/1000000], d_out_real: 0.1516, d_out_fake: 0.0000, g_loss_fake: 1.0682\r\n"
     ]
    },
    {
     "name": "stdout",
     "output_type": "stream",
     "text": [
      "Elapsed [6:55:36.505724], G_step [134730/1000000], D_step[134730/1000000], d_out_real: 0.0570, d_out_fake: 0.0000, g_loss_fake: 1.0404\r\n"
     ]
    },
    {
     "name": "stdout",
     "output_type": "stream",
     "text": [
      "Elapsed [6:55:47.340774], G_step [134740/1000000], D_step[134740/1000000], d_out_real: 0.1539, d_out_fake: 0.0000, g_loss_fake: 1.0808\r\n"
     ]
    },
    {
     "name": "stdout",
     "output_type": "stream",
     "text": [
      "Elapsed [6:55:58.080843], G_step [134750/1000000], D_step[134750/1000000], d_out_real: 0.0000, d_out_fake: 0.0747, g_loss_fake: 1.1431\r\n"
     ]
    },
    {
     "name": "stdout",
     "output_type": "stream",
     "text": [
      "Elapsed [6:56:09.014986], G_step [134760/1000000], D_step[134760/1000000], d_out_real: 0.0636, d_out_fake: 0.1341, g_loss_fake: 1.0890\r\n"
     ]
    },
    {
     "name": "stdout",
     "output_type": "stream",
     "text": [
      "Elapsed [6:56:19.744442], G_step [134770/1000000], D_step[134770/1000000], d_out_real: 0.0000, d_out_fake: 0.0006, g_loss_fake: 1.1271\r\n"
     ]
    },
    {
     "name": "stdout",
     "output_type": "stream",
     "text": [
      "Elapsed [6:56:31.055939], G_step [134780/1000000], D_step[134780/1000000], d_out_real: 0.1183, d_out_fake: 0.0658, g_loss_fake: 1.0532\r\n"
     ]
    },
    {
     "name": "stdout",
     "output_type": "stream",
     "text": [
      "Elapsed [6:56:41.887444], G_step [134790/1000000], D_step[134790/1000000], d_out_real: 0.2070, d_out_fake: 0.0965, g_loss_fake: 1.0232\r\n"
     ]
    },
    {
     "name": "stdout",
     "output_type": "stream",
     "text": [
      "Elapsed [6:56:53.059590], G_step [134800/1000000], D_step[134800/1000000], d_out_real: 0.0004, d_out_fake: 0.0243, g_loss_fake: 1.1346\r\n"
     ]
    },
    {
     "name": "stdout",
     "output_type": "stream",
     "text": [
      "Elapsed [6:57:04.225069], G_step [134810/1000000], D_step[134810/1000000], d_out_real: 0.0806, d_out_fake: 0.0243, g_loss_fake: 1.1149\r\n"
     ]
    },
    {
     "name": "stdout",
     "output_type": "stream",
     "text": [
      "Elapsed [6:57:14.880834], G_step [134820/1000000], D_step[134820/1000000], d_out_real: 0.1362, d_out_fake: 0.0558, g_loss_fake: 0.8950\r\n"
     ]
    },
    {
     "name": "stdout",
     "output_type": "stream",
     "text": [
      "Elapsed [6:57:25.919292], G_step [134830/1000000], D_step[134830/1000000], d_out_real: 0.0000, d_out_fake: 0.0232, g_loss_fake: 1.1243\r\n"
     ]
    },
    {
     "name": "stdout",
     "output_type": "stream",
     "text": [
      "Elapsed [6:57:36.961218], G_step [134840/1000000], D_step[134840/1000000], d_out_real: 0.0232, d_out_fake: 0.1311, g_loss_fake: 1.0868\r\n"
     ]
    },
    {
     "name": "stdout",
     "output_type": "stream",
     "text": [
      "Elapsed [6:57:47.675614], G_step [134850/1000000], D_step[134850/1000000], d_out_real: 0.0685, d_out_fake: 0.0698, g_loss_fake: 1.2023\r\n"
     ]
    },
    {
     "name": "stdout",
     "output_type": "stream",
     "text": [
      "Elapsed [6:58:00.353409], G_step [134860/1000000], D_step[134860/1000000], d_out_real: 0.0646, d_out_fake: 0.0651, g_loss_fake: 1.1664\r\n"
     ]
    },
    {
     "name": "stdout",
     "output_type": "stream",
     "text": [
      "Elapsed [6:58:11.298047], G_step [134870/1000000], D_step[134870/1000000], d_out_real: 0.0435, d_out_fake: 0.0090, g_loss_fake: 1.1618\r\n"
     ]
    },
    {
     "name": "stdout",
     "output_type": "stream",
     "text": [
      "Elapsed [6:58:22.604375], G_step [134880/1000000], D_step[134880/1000000], d_out_real: 0.0000, d_out_fake: 0.0833, g_loss_fake: 1.1518\r\n"
     ]
    },
    {
     "name": "stdout",
     "output_type": "stream",
     "text": [
      "Elapsed [6:58:33.468692], G_step [134890/1000000], D_step[134890/1000000], d_out_real: 0.0647, d_out_fake: 0.0633, g_loss_fake: 0.8937\r\n"
     ]
    },
    {
     "name": "stdout",
     "output_type": "stream",
     "text": [
      "Elapsed [6:58:44.560318], G_step [134900/1000000], D_step[134900/1000000], d_out_real: 0.0000, d_out_fake: 0.0001, g_loss_fake: 1.0878\r\n"
     ]
    },
    {
     "name": "stdout",
     "output_type": "stream",
     "text": [
      "Elapsed [6:58:55.802234], G_step [134910/1000000], D_step[134910/1000000], d_out_real: 0.0636, d_out_fake: 0.0006, g_loss_fake: 1.0803\r\n"
     ]
    },
    {
     "name": "stdout",
     "output_type": "stream",
     "text": [
      "Elapsed [6:59:07.247744], G_step [134920/1000000], D_step[134920/1000000], d_out_real: 0.1117, d_out_fake: 0.0393, g_loss_fake: 1.1481\r\n"
     ]
    },
    {
     "name": "stdout",
     "output_type": "stream",
     "text": [
      "Elapsed [6:59:17.819722], G_step [134930/1000000], D_step[134930/1000000], d_out_real: 0.1656, d_out_fake: 0.0934, g_loss_fake: 1.0612\r\n"
     ]
    },
    {
     "name": "stdout",
     "output_type": "stream",
     "text": [
      "Elapsed [6:59:28.942036], G_step [134940/1000000], D_step[134940/1000000], d_out_real: 0.0000, d_out_fake: 0.0000, g_loss_fake: 1.1092\r\n"
     ]
    },
    {
     "name": "stdout",
     "output_type": "stream",
     "text": [
      "Elapsed [6:59:40.320762], G_step [134950/1000000], D_step[134950/1000000], d_out_real: 0.0149, d_out_fake: 0.2031, g_loss_fake: 1.0774\r\n"
     ]
    },
    {
     "name": "stdout",
     "output_type": "stream",
     "text": [
      "Elapsed [6:59:51.921424], G_step [134960/1000000], D_step[134960/1000000], d_out_real: 0.0045, d_out_fake: 0.0540, g_loss_fake: 1.1739\r\n"
     ]
    },
    {
     "name": "stdout",
     "output_type": "stream",
     "text": [
      "Elapsed [7:00:02.553109], G_step [134970/1000000], D_step[134970/1000000], d_out_real: 0.0632, d_out_fake: 0.1053, g_loss_fake: 1.1135\r\n"
     ]
    },
    {
     "name": "stdout",
     "output_type": "stream",
     "text": [
      "Elapsed [7:00:13.516859], G_step [134980/1000000], D_step[134980/1000000], d_out_real: 0.0000, d_out_fake: 0.0000, g_loss_fake: 1.0661\r\n"
     ]
    },
    {
     "name": "stdout",
     "output_type": "stream",
     "text": [
      "Elapsed [7:00:24.482140], G_step [134990/1000000], D_step[134990/1000000], d_out_real: 0.0000, d_out_fake: 0.0696, g_loss_fake: 1.0523\r\n"
     ]
    },
    {
     "name": "stdout",
     "output_type": "stream",
     "text": [
      "Elapsed [7:00:35.363011], G_step [135000/1000000], D_step[135000/1000000], d_out_real: 0.0126, d_out_fake: 0.0051, g_loss_fake: 0.9856\r\n",
      "Sample images 135000_fake.png\r\n"
     ]
    },
    {
     "name": "stdout",
     "output_type": "stream",
     "text": [
      "Elapsed [7:00:46.427981], G_step [135010/1000000], D_step[135010/1000000], d_out_real: 0.1267, d_out_fake: 0.0000, g_loss_fake: 1.0706\r\n"
     ]
    },
    {
     "name": "stdout",
     "output_type": "stream",
     "text": [
      "Elapsed [7:00:57.616272], G_step [135020/1000000], D_step[135020/1000000], d_out_real: 0.1261, d_out_fake: 0.0000, g_loss_fake: 1.0146\r\n"
     ]
    },
    {
     "name": "stdout",
     "output_type": "stream",
     "text": [
      "Elapsed [7:01:08.219380], G_step [135030/1000000], D_step[135030/1000000], d_out_real: 0.1187, d_out_fake: 0.0035, g_loss_fake: 1.0488\r\n"
     ]
    },
    {
     "name": "stdout",
     "output_type": "stream",
     "text": [
      "Elapsed [7:01:19.473661], G_step [135040/1000000], D_step[135040/1000000], d_out_real: 0.0486, d_out_fake: 0.0009, g_loss_fake: 1.0361\r\n"
     ]
    },
    {
     "name": "stdout",
     "output_type": "stream",
     "text": [
      "Elapsed [7:01:30.357000], G_step [135050/1000000], D_step[135050/1000000], d_out_real: 0.0150, d_out_fake: 0.0000, g_loss_fake: 1.0961\r\n"
     ]
    },
    {
     "name": "stdout",
     "output_type": "stream",
     "text": [
      "Elapsed [7:01:40.969356], G_step [135060/1000000], D_step[135060/1000000], d_out_real: 0.0628, d_out_fake: 0.0118, g_loss_fake: 1.1355\r\n"
     ]
    },
    {
     "name": "stdout",
     "output_type": "stream",
     "text": [
      "Elapsed [7:01:52.294868], G_step [135070/1000000], D_step[135070/1000000], d_out_real: 0.0000, d_out_fake: 0.0000, g_loss_fake: 1.1082\r\n"
     ]
    },
    {
     "name": "stdout",
     "output_type": "stream",
     "text": [
      "Elapsed [7:02:03.427550], G_step [135080/1000000], D_step[135080/1000000], d_out_real: 0.1975, d_out_fake: 0.0000, g_loss_fake: 0.9600\r\n"
     ]
    },
    {
     "name": "stdout",
     "output_type": "stream",
     "text": [
      "Elapsed [7:02:14.425281], G_step [135090/1000000], D_step[135090/1000000], d_out_real: 0.0081, d_out_fake: 0.0522, g_loss_fake: 0.8867\r\n"
     ]
    },
    {
     "name": "stdout",
     "output_type": "stream",
     "text": [
      "Elapsed [7:02:25.705813], G_step [135100/1000000], D_step[135100/1000000], d_out_real: 0.0632, d_out_fake: 0.0491, g_loss_fake: 1.1443\r\n"
     ]
    },
    {
     "name": "stdout",
     "output_type": "stream",
     "text": [
      "Elapsed [7:02:36.562469], G_step [135110/1000000], D_step[135110/1000000], d_out_real: 0.1286, d_out_fake: 0.0463, g_loss_fake: 1.1015\r\n"
     ]
    },
    {
     "name": "stdout",
     "output_type": "stream",
     "text": [
      "Elapsed [7:02:47.276321], G_step [135120/1000000], D_step[135120/1000000], d_out_real: 0.0306, d_out_fake: 0.0196, g_loss_fake: 1.1152\r\n"
     ]
    },
    {
     "name": "stdout",
     "output_type": "stream",
     "text": [
      "Elapsed [7:02:58.862864], G_step [135130/1000000], D_step[135130/1000000], d_out_real: 0.3022, d_out_fake: 0.0090, g_loss_fake: 1.1460\r\n"
     ]
    },
    {
     "name": "stdout",
     "output_type": "stream",
     "text": [
      "Elapsed [7:03:09.454187], G_step [135140/1000000], D_step[135140/1000000], d_out_real: 0.4177, d_out_fake: 0.0048, g_loss_fake: 1.0539\r\n"
     ]
    },
    {
     "name": "stdout",
     "output_type": "stream",
     "text": [
      "Elapsed [7:03:20.211756], G_step [135150/1000000], D_step[135150/1000000], d_out_real: 0.0123, d_out_fake: 0.0000, g_loss_fake: 1.0544\r\n"
     ]
    },
    {
     "name": "stdout",
     "output_type": "stream",
     "text": [
      "Elapsed [7:03:30.960302], G_step [135160/1000000], D_step[135160/1000000], d_out_real: 0.0197, d_out_fake: 0.0584, g_loss_fake: 1.1019\r\n"
     ]
    },
    {
     "name": "stdout",
     "output_type": "stream",
     "text": [
      "Elapsed [7:03:41.542209], G_step [135170/1000000], D_step[135170/1000000], d_out_real: 0.0000, d_out_fake: 0.0399, g_loss_fake: 1.0857\r\n"
     ]
    },
    {
     "name": "stdout",
     "output_type": "stream",
     "text": [
      "Elapsed [7:03:53.005951], G_step [135180/1000000], D_step[135180/1000000], d_out_real: 0.1304, d_out_fake: 0.1813, g_loss_fake: 1.0140\r\n"
     ]
    },
    {
     "name": "stdout",
     "output_type": "stream",
     "text": [
      "Elapsed [7:04:03.859570], G_step [135190/1000000], D_step[135190/1000000], d_out_real: 0.0030, d_out_fake: 0.1098, g_loss_fake: 0.9416\r\n"
     ]
    },
    {
     "name": "stdout",
     "output_type": "stream",
     "text": [
      "Elapsed [7:04:14.995758], G_step [135200/1000000], D_step[135200/1000000], d_out_real: 0.1006, d_out_fake: 0.1605, g_loss_fake: 1.0159\r\n"
     ]
    },
    {
     "name": "stdout",
     "output_type": "stream",
     "text": [
      "Elapsed [7:04:26.796553], G_step [135210/1000000], D_step[135210/1000000], d_out_real: 0.1304, d_out_fake: 0.0000, g_loss_fake: 1.0263\r\n"
     ]
    },
    {
     "name": "stdout",
     "output_type": "stream",
     "text": [
      "Elapsed [7:04:37.784585], G_step [135220/1000000], D_step[135220/1000000], d_out_real: 0.1340, d_out_fake: 0.0000, g_loss_fake: 1.0492\r\n"
     ]
    },
    {
     "name": "stdout",
     "output_type": "stream",
     "text": [
      "Elapsed [7:04:48.964781], G_step [135230/1000000], D_step[135230/1000000], d_out_real: 0.2068, d_out_fake: 0.0006, g_loss_fake: 0.8330\r\n"
     ]
    },
    {
     "name": "stdout",
     "output_type": "stream",
     "text": [
      "Elapsed [7:05:00.044675], G_step [135240/1000000], D_step[135240/1000000], d_out_real: 0.1031, d_out_fake: 0.0000, g_loss_fake: 1.0407\r\n"
     ]
    },
    {
     "name": "stdout",
     "output_type": "stream",
     "text": [
      "Elapsed [7:05:10.766395], G_step [135250/1000000], D_step[135250/1000000], d_out_real: 0.2500, d_out_fake: 0.0003, g_loss_fake: 0.9375\r\n"
     ]
    },
    {
     "name": "stdout",
     "output_type": "stream",
     "text": [
      "Elapsed [7:05:21.378928], G_step [135260/1000000], D_step[135260/1000000], d_out_real: 0.0000, d_out_fake: 0.0000, g_loss_fake: 1.1780\r\n"
     ]
    },
    {
     "name": "stdout",
     "output_type": "stream",
     "text": [
      "Elapsed [7:05:32.410404], G_step [135270/1000000], D_step[135270/1000000], d_out_real: 0.1275, d_out_fake: 0.0002, g_loss_fake: 1.0885\r\n"
     ]
    },
    {
     "name": "stdout",
     "output_type": "stream",
     "text": [
      "Elapsed [7:05:43.197650], G_step [135280/1000000], D_step[135280/1000000], d_out_real: 0.0000, d_out_fake: 0.0280, g_loss_fake: 1.0773\r\n"
     ]
    },
    {
     "name": "stdout",
     "output_type": "stream",
     "text": [
      "Elapsed [7:05:54.005596], G_step [135290/1000000], D_step[135290/1000000], d_out_real: 0.0662, d_out_fake: 0.0944, g_loss_fake: 1.1102\r\n"
     ]
    },
    {
     "name": "stdout",
     "output_type": "stream",
     "text": [
      "Elapsed [7:06:05.341399], G_step [135300/1000000], D_step[135300/1000000], d_out_real: 0.1224, d_out_fake: 0.0521, g_loss_fake: 0.9337\r\n"
     ]
    },
    {
     "name": "stdout",
     "output_type": "stream",
     "text": [
      "Elapsed [7:06:16.250351], G_step [135310/1000000], D_step[135310/1000000], d_out_real: 0.0000, d_out_fake: 0.0005, g_loss_fake: 1.1347\r\n"
     ]
    },
    {
     "name": "stdout",
     "output_type": "stream",
     "text": [
      "Elapsed [7:06:27.502930], G_step [135320/1000000], D_step[135320/1000000], d_out_real: 0.0000, d_out_fake: 0.0016, g_loss_fake: 1.0620\r\n"
     ]
    },
    {
     "name": "stdout",
     "output_type": "stream",
     "text": [
      "Elapsed [7:06:38.229590], G_step [135330/1000000], D_step[135330/1000000], d_out_real: 0.0849, d_out_fake: 0.0005, g_loss_fake: 1.1636\r\n"
     ]
    },
    {
     "name": "stdout",
     "output_type": "stream",
     "text": [
      "Elapsed [7:06:49.091668], G_step [135340/1000000], D_step[135340/1000000], d_out_real: 0.0000, d_out_fake: 0.0315, g_loss_fake: 1.1123\r\n"
     ]
    },
    {
     "name": "stdout",
     "output_type": "stream",
     "text": [
      "Elapsed [7:06:59.964678], G_step [135350/1000000], D_step[135350/1000000], d_out_real: 0.1776, d_out_fake: 0.0007, g_loss_fake: 0.9686\r\n"
     ]
    },
    {
     "name": "stdout",
     "output_type": "stream",
     "text": [
      "Elapsed [7:07:11.232544], G_step [135360/1000000], D_step[135360/1000000], d_out_real: 0.3202, d_out_fake: 0.0000, g_loss_fake: 1.0529\r\n"
     ]
    },
    {
     "name": "stdout",
     "output_type": "stream",
     "text": [
      "Elapsed [7:07:23.170240], G_step [135370/1000000], D_step[135370/1000000], d_out_real: 0.0613, d_out_fake: 0.0303, g_loss_fake: 1.1113\r\n"
     ]
    },
    {
     "name": "stdout",
     "output_type": "stream",
     "text": [
      "Elapsed [7:07:35.407660], G_step [135380/1000000], D_step[135380/1000000], d_out_real: 0.1262, d_out_fake: 0.0501, g_loss_fake: 1.0388\r\n"
     ]
    },
    {
     "name": "stdout",
     "output_type": "stream",
     "text": [
      "Elapsed [7:07:46.610558], G_step [135390/1000000], D_step[135390/1000000], d_out_real: 0.0000, d_out_fake: 0.0000, g_loss_fake: 1.0463\r\n"
     ]
    },
    {
     "name": "stdout",
     "output_type": "stream",
     "text": [
      "Elapsed [7:07:57.778147], G_step [135400/1000000], D_step[135400/1000000], d_out_real: 0.1807, d_out_fake: 0.0632, g_loss_fake: 0.9597\r\n"
     ]
    },
    {
     "name": "stdout",
     "output_type": "stream",
     "text": [
      "Elapsed [7:08:08.539731], G_step [135410/1000000], D_step[135410/1000000], d_out_real: 0.0654, d_out_fake: 0.0145, g_loss_fake: 1.1031\r\n"
     ]
    },
    {
     "name": "stdout",
     "output_type": "stream",
     "text": [
      "Elapsed [7:08:21.312622], G_step [135420/1000000], D_step[135420/1000000], d_out_real: 0.1868, d_out_fake: 0.0000, g_loss_fake: 0.9826\r\n"
     ]
    },
    {
     "name": "stdout",
     "output_type": "stream",
     "text": [
      "Elapsed [7:08:32.595680], G_step [135430/1000000], D_step[135430/1000000], d_out_real: 0.0963, d_out_fake: 0.0001, g_loss_fake: 1.0982\r\n"
     ]
    },
    {
     "name": "stdout",
     "output_type": "stream",
     "text": [
      "Elapsed [7:08:43.194302], G_step [135440/1000000], D_step[135440/1000000], d_out_real: 0.1985, d_out_fake: 0.0108, g_loss_fake: 1.1049\r\n"
     ]
    },
    {
     "name": "stdout",
     "output_type": "stream",
     "text": [
      "Elapsed [7:08:54.195868], G_step [135450/1000000], D_step[135450/1000000], d_out_real: 0.0000, d_out_fake: 0.0027, g_loss_fake: 0.9686\r\n"
     ]
    },
    {
     "name": "stdout",
     "output_type": "stream",
     "text": [
      "Elapsed [7:09:05.158435], G_step [135460/1000000], D_step[135460/1000000], d_out_real: 0.0000, d_out_fake: 0.1771, g_loss_fake: 1.1202\r\n"
     ]
    },
    {
     "name": "stdout",
     "output_type": "stream",
     "text": [
      "Elapsed [7:09:16.350441], G_step [135470/1000000], D_step[135470/1000000], d_out_real: 0.0122, d_out_fake: 0.0254, g_loss_fake: 1.1111\r\n"
     ]
    },
    {
     "name": "stdout",
     "output_type": "stream",
     "text": [
      "Elapsed [7:09:27.988434], G_step [135480/1000000], D_step[135480/1000000], d_out_real: 0.0315, d_out_fake: 0.2848, g_loss_fake: 1.1350\r\n"
     ]
    },
    {
     "name": "stdout",
     "output_type": "stream",
     "text": [
      "Elapsed [7:09:38.873235], G_step [135490/1000000], D_step[135490/1000000], d_out_real: 0.0000, d_out_fake: 0.0594, g_loss_fake: 1.1065\r\n"
     ]
    },
    {
     "name": "stdout",
     "output_type": "stream",
     "text": [
      "Elapsed [7:09:49.979288], G_step [135500/1000000], D_step[135500/1000000], d_out_real: 0.0822, d_out_fake: 0.0177, g_loss_fake: 1.0423\r\n"
     ]
    },
    {
     "name": "stdout",
     "output_type": "stream",
     "text": [
      "Elapsed [7:10:00.993735], G_step [135510/1000000], D_step[135510/1000000], d_out_real: 0.0644, d_out_fake: 0.0121, g_loss_fake: 1.0956\r\n"
     ]
    },
    {
     "name": "stdout",
     "output_type": "stream",
     "text": [
      "Elapsed [7:10:12.005296], G_step [135520/1000000], D_step[135520/1000000], d_out_real: 0.0018, d_out_fake: 0.0000, g_loss_fake: 0.9335\r\n"
     ]
    },
    {
     "name": "stdout",
     "output_type": "stream",
     "text": [
      "Elapsed [7:10:23.439563], G_step [135530/1000000], D_step[135530/1000000], d_out_real: 0.0000, d_out_fake: 0.1018, g_loss_fake: 1.1583\r\n"
     ]
    },
    {
     "name": "stdout",
     "output_type": "stream",
     "text": [
      "Elapsed [7:10:34.538050], G_step [135540/1000000], D_step[135540/1000000], d_out_real: 0.0668, d_out_fake: 0.0000, g_loss_fake: 1.0847\r\n"
     ]
    },
    {
     "name": "stdout",
     "output_type": "stream",
     "text": [
      "Elapsed [7:10:45.421077], G_step [135550/1000000], D_step[135550/1000000], d_out_real: 0.1484, d_out_fake: 0.0631, g_loss_fake: 1.1168\r\n"
     ]
    },
    {
     "name": "stdout",
     "output_type": "stream",
     "text": [
      "Elapsed [7:10:56.019554], G_step [135560/1000000], D_step[135560/1000000], d_out_real: 0.1721, d_out_fake: 0.0000, g_loss_fake: 0.7517\r\n"
     ]
    },
    {
     "name": "stdout",
     "output_type": "stream",
     "text": [
      "Elapsed [7:11:06.587513], G_step [135570/1000000], D_step[135570/1000000], d_out_real: 0.0794, d_out_fake: 0.0000, g_loss_fake: 1.0183\r\n"
     ]
    },
    {
     "name": "stdout",
     "output_type": "stream",
     "text": [
      "Elapsed [7:11:17.483269], G_step [135580/1000000], D_step[135580/1000000], d_out_real: 0.0029, d_out_fake: 0.0023, g_loss_fake: 0.9256\r\n"
     ]
    },
    {
     "name": "stdout",
     "output_type": "stream",
     "text": [
      "Elapsed [7:11:28.363284], G_step [135590/1000000], D_step[135590/1000000], d_out_real: 0.0063, d_out_fake: 0.0189, g_loss_fake: 1.0115\r\n"
     ]
    },
    {
     "name": "stdout",
     "output_type": "stream",
     "text": [
      "Elapsed [7:11:39.151547], G_step [135600/1000000], D_step[135600/1000000], d_out_real: 0.0431, d_out_fake: 0.1361, g_loss_fake: 0.9677\r\n"
     ]
    },
    {
     "name": "stdout",
     "output_type": "stream",
     "text": [
      "Elapsed [7:11:50.266534], G_step [135610/1000000], D_step[135610/1000000], d_out_real: 0.0393, d_out_fake: 0.0532, g_loss_fake: 1.0701\r\n"
     ]
    },
    {
     "name": "stdout",
     "output_type": "stream",
     "text": [
      "Elapsed [7:12:01.268038], G_step [135620/1000000], D_step[135620/1000000], d_out_real: 0.0998, d_out_fake: 0.0000, g_loss_fake: 1.0448\r\n"
     ]
    },
    {
     "name": "stdout",
     "output_type": "stream",
     "text": [
      "Elapsed [7:12:12.680044], G_step [135630/1000000], D_step[135630/1000000], d_out_real: 0.0000, d_out_fake: 0.0587, g_loss_fake: 1.1606\r\n"
     ]
    },
    {
     "name": "stdout",
     "output_type": "stream",
     "text": [
      "Elapsed [7:12:23.951685], G_step [135640/1000000], D_step[135640/1000000], d_out_real: 0.1425, d_out_fake: 0.0060, g_loss_fake: 1.1478\r\n"
     ]
    },
    {
     "name": "stdout",
     "output_type": "stream",
     "text": [
      "Elapsed [7:12:35.333156], G_step [135650/1000000], D_step[135650/1000000], d_out_real: 0.0471, d_out_fake: 0.0000, g_loss_fake: 1.1013\r\n"
     ]
    },
    {
     "name": "stdout",
     "output_type": "stream",
     "text": [
      "Elapsed [7:12:46.196651], G_step [135660/1000000], D_step[135660/1000000], d_out_real: 0.1452, d_out_fake: 0.0000, g_loss_fake: 1.0078\r\n"
     ]
    },
    {
     "name": "stdout",
     "output_type": "stream",
     "text": [
      "Elapsed [7:12:57.147323], G_step [135670/1000000], D_step[135670/1000000], d_out_real: 0.0050, d_out_fake: 0.0000, g_loss_fake: 1.1191\r\n"
     ]
    },
    {
     "name": "stdout",
     "output_type": "stream",
     "text": [
      "Elapsed [7:13:07.789622], G_step [135680/1000000], D_step[135680/1000000], d_out_real: 0.0754, d_out_fake: 0.0000, g_loss_fake: 0.8428\r\n"
     ]
    },
    {
     "name": "stdout",
     "output_type": "stream",
     "text": [
      "Elapsed [7:13:18.624706], G_step [135690/1000000], D_step[135690/1000000], d_out_real: 0.1170, d_out_fake: 0.0000, g_loss_fake: 0.9711\r\n"
     ]
    },
    {
     "name": "stdout",
     "output_type": "stream",
     "text": [
      "Elapsed [7:13:29.268399], G_step [135700/1000000], D_step[135700/1000000], d_out_real: 0.0480, d_out_fake: 0.0220, g_loss_fake: 1.0988\r\n"
     ]
    },
    {
     "name": "stdout",
     "output_type": "stream",
     "text": [
      "Elapsed [7:13:40.001122], G_step [135710/1000000], D_step[135710/1000000], d_out_real: 0.0703, d_out_fake: 0.0717, g_loss_fake: 1.1168\r\n"
     ]
    },
    {
     "name": "stdout",
     "output_type": "stream",
     "text": [
      "Elapsed [7:13:51.158948], G_step [135720/1000000], D_step[135720/1000000], d_out_real: 0.1345, d_out_fake: 0.1582, g_loss_fake: 1.1159\r\n"
     ]
    },
    {
     "name": "stdout",
     "output_type": "stream",
     "text": [
      "Elapsed [7:14:02.101769], G_step [135730/1000000], D_step[135730/1000000], d_out_real: 0.0606, d_out_fake: 0.0605, g_loss_fake: 1.0755\r\n"
     ]
    },
    {
     "name": "stdout",
     "output_type": "stream",
     "text": [
      "Elapsed [7:14:13.102937], G_step [135740/1000000], D_step[135740/1000000], d_out_real: 0.3746, d_out_fake: 0.0780, g_loss_fake: 1.0051\r\n"
     ]
    },
    {
     "name": "stdout",
     "output_type": "stream",
     "text": [
      "Elapsed [7:14:24.005773], G_step [135750/1000000], D_step[135750/1000000], d_out_real: 0.0000, d_out_fake: 0.2482, g_loss_fake: 1.1420\r\n"
     ]
    },
    {
     "name": "stdout",
     "output_type": "stream",
     "text": [
      "Elapsed [7:14:34.774146], G_step [135760/1000000], D_step[135760/1000000], d_out_real: 0.0400, d_out_fake: 0.1418, g_loss_fake: 0.8968\r\n"
     ]
    },
    {
     "name": "stdout",
     "output_type": "stream",
     "text": [
      "Elapsed [7:14:45.457696], G_step [135770/1000000], D_step[135770/1000000], d_out_real: 0.0882, d_out_fake: 0.0000, g_loss_fake: 1.0416\r\n"
     ]
    },
    {
     "name": "stdout",
     "output_type": "stream",
     "text": [
      "Elapsed [7:14:56.801209], G_step [135780/1000000], D_step[135780/1000000], d_out_real: 0.0000, d_out_fake: 0.1196, g_loss_fake: 1.1471\r\n"
     ]
    },
    {
     "name": "stdout",
     "output_type": "stream",
     "text": [
      "Elapsed [7:15:07.459395], G_step [135790/1000000], D_step[135790/1000000], d_out_real: 0.1285, d_out_fake: 0.0000, g_loss_fake: 1.0402\r\n"
     ]
    },
    {
     "name": "stdout",
     "output_type": "stream",
     "text": [
      "Elapsed [7:15:18.905776], G_step [135800/1000000], D_step[135800/1000000], d_out_real: 0.0056, d_out_fake: 0.0184, g_loss_fake: 0.9971\r\n"
     ]
    },
    {
     "name": "stdout",
     "output_type": "stream",
     "text": [
      "Elapsed [7:15:30.959234], G_step [135810/1000000], D_step[135810/1000000], d_out_real: 0.1248, d_out_fake: 0.0000, g_loss_fake: 1.0748\r\n"
     ]
    },
    {
     "name": "stdout",
     "output_type": "stream",
     "text": [
      "Elapsed [7:15:42.123929], G_step [135820/1000000], D_step[135820/1000000], d_out_real: 0.0330, d_out_fake: 0.0598, g_loss_fake: 1.0450\r\n"
     ]
    },
    {
     "name": "stdout",
     "output_type": "stream",
     "text": [
      "Elapsed [7:15:53.202238], G_step [135830/1000000], D_step[135830/1000000], d_out_real: 0.0000, d_out_fake: 0.2346, g_loss_fake: 0.9958\r\n"
     ]
    },
    {
     "name": "stdout",
     "output_type": "stream",
     "text": [
      "Elapsed [7:16:04.932790], G_step [135840/1000000], D_step[135840/1000000], d_out_real: 0.0518, d_out_fake: 0.0641, g_loss_fake: 1.0955\r\n"
     ]
    },
    {
     "name": "stdout",
     "output_type": "stream",
     "text": [
      "Elapsed [7:16:16.173368], G_step [135850/1000000], D_step[135850/1000000], d_out_real: 0.1249, d_out_fake: 0.0528, g_loss_fake: 1.0893\r\n"
     ]
    },
    {
     "name": "stdout",
     "output_type": "stream",
     "text": [
      "Elapsed [7:16:27.281175], G_step [135860/1000000], D_step[135860/1000000], d_out_real: 0.0000, d_out_fake: 0.0000, g_loss_fake: 1.1185\r\n"
     ]
    },
    {
     "name": "stdout",
     "output_type": "stream",
     "text": [
      "Elapsed [7:16:37.874800], G_step [135870/1000000], D_step[135870/1000000], d_out_real: 0.0000, d_out_fake: 0.0000, g_loss_fake: 1.1286\r\n"
     ]
    },
    {
     "name": "stdout",
     "output_type": "stream",
     "text": [
      "Elapsed [7:16:48.828779], G_step [135880/1000000], D_step[135880/1000000], d_out_real: 0.0633, d_out_fake: 0.0025, g_loss_fake: 1.0460\r\n"
     ]
    },
    {
     "name": "stdout",
     "output_type": "stream",
     "text": [
      "Elapsed [7:16:59.733779], G_step [135890/1000000], D_step[135890/1000000], d_out_real: 0.0000, d_out_fake: 0.0021, g_loss_fake: 1.0815\r\n"
     ]
    },
    {
     "name": "stdout",
     "output_type": "stream",
     "text": [
      "save torch\r\n"
     ]
    },
    {
     "name": "stdout",
     "output_type": "stream",
     "text": [
      "Elapsed [7:17:11.185855], G_step [135900/1000000], D_step[135900/1000000], d_out_real: 0.0631, d_out_fake: 0.0551, g_loss_fake: 1.0420\r\n"
     ]
    },
    {
     "name": "stdout",
     "output_type": "stream",
     "text": [
      "Elapsed [7:17:22.275744], G_step [135910/1000000], D_step[135910/1000000], d_out_real: 0.0059, d_out_fake: 0.1178, g_loss_fake: 1.1798\r\n"
     ]
    },
    {
     "name": "stdout",
     "output_type": "stream",
     "text": [
      "Elapsed [7:17:33.615739], G_step [135920/1000000], D_step[135920/1000000], d_out_real: 0.0654, d_out_fake: 0.0654, g_loss_fake: 1.0365\r\n"
     ]
    },
    {
     "name": "stdout",
     "output_type": "stream",
     "text": [
      "Elapsed [7:17:44.179228], G_step [135930/1000000], D_step[135930/1000000], d_out_real: 0.1287, d_out_fake: 0.0073, g_loss_fake: 1.0662\r\n"
     ]
    },
    {
     "name": "stdout",
     "output_type": "stream",
     "text": [
      "Elapsed [7:17:54.793748], G_step [135940/1000000], D_step[135940/1000000], d_out_real: 0.0880, d_out_fake: 0.0631, g_loss_fake: 1.1083\r\n"
     ]
    },
    {
     "name": "stdout",
     "output_type": "stream",
     "text": [
      "Elapsed [7:18:06.610166], G_step [135950/1000000], D_step[135950/1000000], d_out_real: 0.0000, d_out_fake: 0.3804, g_loss_fake: 1.0385\r\n"
     ]
    },
    {
     "name": "stdout",
     "output_type": "stream",
     "text": [
      "Elapsed [7:18:17.220384], G_step [135960/1000000], D_step[135960/1000000], d_out_real: 0.0000, d_out_fake: 0.0711, g_loss_fake: 1.1363\r\n"
     ]
    },
    {
     "name": "stdout",
     "output_type": "stream",
     "text": [
      "Elapsed [7:18:28.402721], G_step [135970/1000000], D_step[135970/1000000], d_out_real: 0.0060, d_out_fake: 0.0110, g_loss_fake: 1.1715\r\n"
     ]
    },
    {
     "name": "stdout",
     "output_type": "stream",
     "text": [
      "Elapsed [7:18:39.020082], G_step [135980/1000000], D_step[135980/1000000], d_out_real: 0.0000, d_out_fake: 0.0694, g_loss_fake: 1.1044\r\n"
     ]
    },
    {
     "name": "stdout",
     "output_type": "stream",
     "text": [
      "Elapsed [7:18:49.951834], G_step [135990/1000000], D_step[135990/1000000], d_out_real: 0.1736, d_out_fake: 0.0000, g_loss_fake: 0.9553\r\n"
     ]
    },
    {
     "name": "stdout",
     "output_type": "stream",
     "text": [
      "Elapsed [7:19:00.916196], G_step [136000/1000000], D_step[136000/1000000], d_out_real: 0.0652, d_out_fake: 0.0020, g_loss_fake: 1.1215\r\n",
      "Sample images 136000_fake.png\r\n"
     ]
    },
    {
     "name": "stdout",
     "output_type": "stream",
     "text": [
      "Elapsed [7:19:12.294958], G_step [136010/1000000], D_step[136010/1000000], d_out_real: 0.0666, d_out_fake: 0.0247, g_loss_fake: 0.9788\r\n"
     ]
    },
    {
     "name": "stdout",
     "output_type": "stream",
     "text": [
      "Elapsed [7:19:23.267735], G_step [136020/1000000], D_step[136020/1000000], d_out_real: 0.1262, d_out_fake: 0.0784, g_loss_fake: 1.0818\r\n"
     ]
    },
    {
     "name": "stdout",
     "output_type": "stream",
     "text": [
      "Elapsed [7:19:34.127680], G_step [136030/1000000], D_step[136030/1000000], d_out_real: 0.0000, d_out_fake: 0.0000, g_loss_fake: 1.1159\r\n"
     ]
    },
    {
     "name": "stdout",
     "output_type": "stream",
     "text": [
      "Elapsed [7:19:44.712556], G_step [136040/1000000], D_step[136040/1000000], d_out_real: 0.0694, d_out_fake: 0.0000, g_loss_fake: 1.0299\r\n"
     ]
    },
    {
     "name": "stdout",
     "output_type": "stream",
     "text": [
      "Elapsed [7:19:55.209475], G_step [136050/1000000], D_step[136050/1000000], d_out_real: 0.0000, d_out_fake: 0.1019, g_loss_fake: 1.0572\r\n"
     ]
    },
    {
     "name": "stdout",
     "output_type": "stream",
     "text": [
      "Elapsed [7:20:06.297397], G_step [136060/1000000], D_step[136060/1000000], d_out_real: 0.0618, d_out_fake: 0.0017, g_loss_fake: 1.1078\r\n"
     ]
    },
    {
     "name": "stdout",
     "output_type": "stream",
     "text": [
      "Elapsed [7:20:17.231387], G_step [136070/1000000], D_step[136070/1000000], d_out_real: 0.0000, d_out_fake: 0.1163, g_loss_fake: 1.1719\r\n"
     ]
    },
    {
     "name": "stdout",
     "output_type": "stream",
     "text": [
      "Elapsed [7:20:27.824792], G_step [136080/1000000], D_step[136080/1000000], d_out_real: 0.0000, d_out_fake: 0.0021, g_loss_fake: 1.0513\r\n"
     ]
    },
    {
     "name": "stdout",
     "output_type": "stream",
     "text": [
      "Elapsed [7:20:38.684749], G_step [136090/1000000], D_step[136090/1000000], d_out_real: 0.0064, d_out_fake: 0.0589, g_loss_fake: 1.0856\r\n"
     ]
    },
    {
     "name": "stdout",
     "output_type": "stream",
     "text": [
      "Elapsed [7:20:49.700557], G_step [136100/1000000], D_step[136100/1000000], d_out_real: 0.0659, d_out_fake: 0.0000, g_loss_fake: 1.0266\r\n"
     ]
    },
    {
     "name": "stdout",
     "output_type": "stream",
     "text": [
      "Elapsed [7:21:00.232850], G_step [136110/1000000], D_step[136110/1000000], d_out_real: 0.0637, d_out_fake: 0.0000, g_loss_fake: 1.0853\r\n"
     ]
    },
    {
     "name": "stdout",
     "output_type": "stream",
     "text": [
      "Elapsed [7:21:11.292743], G_step [136120/1000000], D_step[136120/1000000], d_out_real: 0.1657, d_out_fake: 0.0007, g_loss_fake: 1.0409\r\n"
     ]
    },
    {
     "name": "stdout",
     "output_type": "stream",
     "text": [
      "Elapsed [7:21:22.165255], G_step [136130/1000000], D_step[136130/1000000], d_out_real: 0.0004, d_out_fake: 0.0000, g_loss_fake: 1.0930\r\n"
     ]
    },
    {
     "name": "stdout",
     "output_type": "stream",
     "text": [
      "Elapsed [7:21:33.041265], G_step [136140/1000000], D_step[136140/1000000], d_out_real: 0.0000, d_out_fake: 0.0000, g_loss_fake: 1.1248\r\n"
     ]
    },
    {
     "name": "stdout",
     "output_type": "stream",
     "text": [
      "Elapsed [7:21:43.826541], G_step [136150/1000000], D_step[136150/1000000], d_out_real: 0.0798, d_out_fake: 0.0067, g_loss_fake: 1.0333\r\n"
     ]
    },
    {
     "name": "stdout",
     "output_type": "stream",
     "text": [
      "Elapsed [7:21:54.721838], G_step [136160/1000000], D_step[136160/1000000], d_out_real: 0.0045, d_out_fake: 0.0000, g_loss_fake: 1.0912\r\n"
     ]
    },
    {
     "name": "stdout",
     "output_type": "stream",
     "text": [
      "Elapsed [7:22:05.236134], G_step [136170/1000000], D_step[136170/1000000], d_out_real: 0.0620, d_out_fake: 0.1056, g_loss_fake: 1.1127\r\n"
     ]
    },
    {
     "name": "stdout",
     "output_type": "stream",
     "text": [
      "Elapsed [7:22:16.954053], G_step [136180/1000000], D_step[136180/1000000], d_out_real: 0.0648, d_out_fake: 0.0000, g_loss_fake: 1.0763\r\n"
     ]
    },
    {
     "name": "stdout",
     "output_type": "stream",
     "text": [
      "Elapsed [7:22:27.641507], G_step [136190/1000000], D_step[136190/1000000], d_out_real: 0.0624, d_out_fake: 0.1112, g_loss_fake: 1.1229\r\n"
     ]
    },
    {
     "name": "stdout",
     "output_type": "stream",
     "text": [
      "Elapsed [7:22:39.311651], G_step [136200/1000000], D_step[136200/1000000], d_out_real: 0.1320, d_out_fake: 0.0000, g_loss_fake: 1.1564\r\n"
     ]
    },
    {
     "name": "stdout",
     "output_type": "stream",
     "text": [
      "Elapsed [7:22:50.814520], G_step [136210/1000000], D_step[136210/1000000], d_out_real: 0.0000, d_out_fake: 0.0766, g_loss_fake: 1.1592\r\n"
     ]
    },
    {
     "name": "stdout",
     "output_type": "stream",
     "text": [
      "Elapsed [7:23:01.839814], G_step [136220/1000000], D_step[136220/1000000], d_out_real: 0.0222, d_out_fake: 0.0000, g_loss_fake: 0.9879\r\n"
     ]
    },
    {
     "name": "stdout",
     "output_type": "stream",
     "text": [
      "Elapsed [7:23:12.519930], G_step [136230/1000000], D_step[136230/1000000], d_out_real: 0.0281, d_out_fake: 0.0000, g_loss_fake: 1.0123\r\n"
     ]
    },
    {
     "name": "stdout",
     "output_type": "stream",
     "text": [
      "Elapsed [7:23:23.217311], G_step [136240/1000000], D_step[136240/1000000], d_out_real: 0.0002, d_out_fake: 0.0575, g_loss_fake: 1.0800\r\n"
     ]
    },
    {
     "name": "stdout",
     "output_type": "stream",
     "text": [
      "Elapsed [7:23:35.767416], G_step [136250/1000000], D_step[136250/1000000], d_out_real: 0.0027, d_out_fake: 0.0725, g_loss_fake: 1.1103\r\n"
     ]
    },
    {
     "name": "stdout",
     "output_type": "stream",
     "text": [
      "Elapsed [7:23:46.710101], G_step [136260/1000000], D_step[136260/1000000], d_out_real: 0.0015, d_out_fake: 0.0011, g_loss_fake: 0.9991\r\n"
     ]
    },
    {
     "name": "stdout",
     "output_type": "stream",
     "text": [
      "Elapsed [7:23:57.616847], G_step [136270/1000000], D_step[136270/1000000], d_out_real: 0.0865, d_out_fake: 0.0000, g_loss_fake: 1.1758\r\n"
     ]
    },
    {
     "name": "stdout",
     "output_type": "stream",
     "text": [
      "Elapsed [7:24:08.724087], G_step [136280/1000000], D_step[136280/1000000], d_out_real: 0.0065, d_out_fake: 0.0046, g_loss_fake: 0.9453\r\n"
     ]
    },
    {
     "name": "stdout",
     "output_type": "stream",
     "text": [
      "Elapsed [7:24:20.344654], G_step [136290/1000000], D_step[136290/1000000], d_out_real: 0.0377, d_out_fake: 0.0570, g_loss_fake: 1.0545\r\n"
     ]
    },
    {
     "name": "stdout",
     "output_type": "stream",
     "text": [
      "Elapsed [7:24:31.821962], G_step [136300/1000000], D_step[136300/1000000], d_out_real: 0.0000, d_out_fake: 0.0772, g_loss_fake: 1.1511\r\n"
     ]
    },
    {
     "name": "stdout",
     "output_type": "stream",
     "text": [
      "Elapsed [7:24:43.092063], G_step [136310/1000000], D_step[136310/1000000], d_out_real: 0.3302, d_out_fake: 0.0000, g_loss_fake: 1.0661\r\n"
     ]
    },
    {
     "name": "stdout",
     "output_type": "stream",
     "text": [
      "Elapsed [7:24:55.171446], G_step [136320/1000000], D_step[136320/1000000], d_out_real: 0.1375, d_out_fake: 0.0000, g_loss_fake: 1.0298\r\n"
     ]
    },
    {
     "name": "stdout",
     "output_type": "stream",
     "text": [
      "Elapsed [7:25:06.282726], G_step [136330/1000000], D_step[136330/1000000], d_out_real: 0.0628, d_out_fake: 0.0000, g_loss_fake: 1.0857\r\n"
     ]
    },
    {
     "name": "stdout",
     "output_type": "stream",
     "text": [
      "Elapsed [7:25:16.995451], G_step [136340/1000000], D_step[136340/1000000], d_out_real: 0.0632, d_out_fake: 0.0000, g_loss_fake: 1.1300\r\n"
     ]
    },
    {
     "name": "stdout",
     "output_type": "stream",
     "text": [
      "Elapsed [7:25:27.827311], G_step [136350/1000000], D_step[136350/1000000], d_out_real: 0.0000, d_out_fake: 0.0044, g_loss_fake: 1.1115\r\n"
     ]
    },
    {
     "name": "stdout",
     "output_type": "stream",
     "text": [
      "Elapsed [7:25:39.113955], G_step [136360/1000000], D_step[136360/1000000], d_out_real: 0.0000, d_out_fake: 0.0007, g_loss_fake: 1.0519\r\n"
     ]
    },
    {
     "name": "stdout",
     "output_type": "stream",
     "text": [
      "Elapsed [7:25:50.484872], G_step [136370/1000000], D_step[136370/1000000], d_out_real: 0.0657, d_out_fake: 0.0602, g_loss_fake: 1.0631\r\n"
     ]
    },
    {
     "name": "stdout",
     "output_type": "stream",
     "text": [
      "Elapsed [7:26:01.574657], G_step [136380/1000000], D_step[136380/1000000], d_out_real: 0.0620, d_out_fake: 0.0000, g_loss_fake: 1.0479\r\n"
     ]
    },
    {
     "name": "stdout",
     "output_type": "stream",
     "text": [
      "Elapsed [7:26:13.732243], G_step [136390/1000000], D_step[136390/1000000], d_out_real: 0.1909, d_out_fake: 0.0000, g_loss_fake: 1.0349\r\n"
     ]
    },
    {
     "name": "stdout",
     "output_type": "stream",
     "text": [
      "Elapsed [7:26:24.436594], G_step [136400/1000000], D_step[136400/1000000], d_out_real: 0.1458, d_out_fake: 0.0000, g_loss_fake: 1.1086\r\n"
     ]
    },
    {
     "name": "stdout",
     "output_type": "stream",
     "text": [
      "Elapsed [7:26:35.551823], G_step [136410/1000000], D_step[136410/1000000], d_out_real: 0.1817, d_out_fake: 0.0000, g_loss_fake: 1.0272\r\n"
     ]
    },
    {
     "name": "stdout",
     "output_type": "stream",
     "text": [
      "Elapsed [7:26:46.945836], G_step [136420/1000000], D_step[136420/1000000], d_out_real: 0.1491, d_out_fake: 0.0684, g_loss_fake: 1.0681\r\n"
     ]
    },
    {
     "name": "stdout",
     "output_type": "stream",
     "text": [
      "Elapsed [7:26:59.088107], G_step [136430/1000000], D_step[136430/1000000], d_out_real: 0.0000, d_out_fake: 0.0740, g_loss_fake: 1.1398\r\n"
     ]
    },
    {
     "name": "stdout",
     "output_type": "stream",
     "text": [
      "Elapsed [7:27:10.463395], G_step [136440/1000000], D_step[136440/1000000], d_out_real: 0.0000, d_out_fake: 0.0227, g_loss_fake: 1.0326\r\n"
     ]
    },
    {
     "name": "stdout",
     "output_type": "stream",
     "text": [
      "Elapsed [7:27:22.105917], G_step [136450/1000000], D_step[136450/1000000], d_out_real: 0.0651, d_out_fake: 0.0000, g_loss_fake: 1.0921\r\n"
     ]
    },
    {
     "name": "stdout",
     "output_type": "stream",
     "text": [
      "Elapsed [7:27:33.119855], G_step [136460/1000000], D_step[136460/1000000], d_out_real: 0.0000, d_out_fake: 0.0000, g_loss_fake: 1.2018\r\n"
     ]
    },
    {
     "name": "stdout",
     "output_type": "stream",
     "text": [
      "Elapsed [7:27:44.311103], G_step [136470/1000000], D_step[136470/1000000], d_out_real: 0.0000, d_out_fake: 0.0014, g_loss_fake: 1.1063\r\n"
     ]
    },
    {
     "name": "stdout",
     "output_type": "stream",
     "text": [
      "Elapsed [7:27:55.531070], G_step [136480/1000000], D_step[136480/1000000], d_out_real: 0.0641, d_out_fake: 0.0810, g_loss_fake: 1.1638\r\n"
     ]
    },
    {
     "name": "stdout",
     "output_type": "stream",
     "text": [
      "Elapsed [7:28:06.250747], G_step [136490/1000000], D_step[136490/1000000], d_out_real: 0.0000, d_out_fake: 0.0003, g_loss_fake: 1.1101\r\n"
     ]
    },
    {
     "name": "stdout",
     "output_type": "stream",
     "text": [
      "Elapsed [7:28:17.223707], G_step [136500/1000000], D_step[136500/1000000], d_out_real: 0.2055, d_out_fake: 0.0565, g_loss_fake: 1.0448\r\n"
     ]
    },
    {
     "name": "stdout",
     "output_type": "stream",
     "text": [
      "Elapsed [7:28:28.936777], G_step [136510/1000000], D_step[136510/1000000], d_out_real: 0.0480, d_out_fake: 0.1188, g_loss_fake: 1.0497\r\n"
     ]
    },
    {
     "name": "stdout",
     "output_type": "stream",
     "text": [
      "Elapsed [7:28:40.028174], G_step [136520/1000000], D_step[136520/1000000], d_out_real: 0.0627, d_out_fake: 0.1317, g_loss_fake: 1.1300\r\n"
     ]
    },
    {
     "name": "stdout",
     "output_type": "stream",
     "text": [
      "Elapsed [7:28:50.607215], G_step [136530/1000000], D_step[136530/1000000], d_out_real: 0.0551, d_out_fake: 0.0000, g_loss_fake: 1.0651\r\n"
     ]
    },
    {
     "name": "stdout",
     "output_type": "stream",
     "text": [
      "Elapsed [7:29:01.701937], G_step [136540/1000000], D_step[136540/1000000], d_out_real: 0.0000, d_out_fake: 0.0000, g_loss_fake: 1.1033\r\n"
     ]
    },
    {
     "name": "stdout",
     "output_type": "stream",
     "text": [
      "Elapsed [7:29:12.631342], G_step [136550/1000000], D_step[136550/1000000], d_out_real: 0.0671, d_out_fake: 0.0121, g_loss_fake: 1.1280\r\n"
     ]
    },
    {
     "name": "stdout",
     "output_type": "stream",
     "text": [
      "Elapsed [7:29:23.213742], G_step [136560/1000000], D_step[136560/1000000], d_out_real: 0.0604, d_out_fake: 0.0001, g_loss_fake: 1.0614\r\n"
     ]
    },
    {
     "name": "stdout",
     "output_type": "stream",
     "text": [
      "Elapsed [7:29:34.423066], G_step [136570/1000000], D_step[136570/1000000], d_out_real: 0.4537, d_out_fake: 0.0000, g_loss_fake: 0.9987\r\n"
     ]
    },
    {
     "name": "stdout",
     "output_type": "stream",
     "text": [
      "Elapsed [7:29:45.174143], G_step [136580/1000000], D_step[136580/1000000], d_out_real: 0.0000, d_out_fake: 0.0006, g_loss_fake: 1.0858\r\n"
     ]
    },
    {
     "name": "stdout",
     "output_type": "stream",
     "text": [
      "Elapsed [7:29:55.705304], G_step [136590/1000000], D_step[136590/1000000], d_out_real: 0.1905, d_out_fake: 0.0000, g_loss_fake: 1.0415\r\n"
     ]
    },
    {
     "name": "stdout",
     "output_type": "stream",
     "text": [
      "Elapsed [7:30:07.968613], G_step [136600/1000000], D_step[136600/1000000], d_out_real: 0.0000, d_out_fake: 0.0000, g_loss_fake: 1.1335\r\n"
     ]
    },
    {
     "name": "stdout",
     "output_type": "stream",
     "text": [
      "Elapsed [7:30:19.189576], G_step [136610/1000000], D_step[136610/1000000], d_out_real: 0.0037, d_out_fake: 0.0788, g_loss_fake: 0.9935\r\n"
     ]
    },
    {
     "name": "stdout",
     "output_type": "stream",
     "text": [
      "Elapsed [7:30:30.504559], G_step [136620/1000000], D_step[136620/1000000], d_out_real: 0.1658, d_out_fake: 0.0000, g_loss_fake: 1.0348\r\n"
     ]
    },
    {
     "name": "stdout",
     "output_type": "stream",
     "text": [
      "Elapsed [7:30:41.849722], G_step [136630/1000000], D_step[136630/1000000], d_out_real: 0.0000, d_out_fake: 0.1249, g_loss_fake: 1.1282\r\n"
     ]
    },
    {
     "name": "stdout",
     "output_type": "stream",
     "text": [
      "Elapsed [7:30:52.461856], G_step [136640/1000000], D_step[136640/1000000], d_out_real: 0.1061, d_out_fake: 0.0000, g_loss_fake: 1.0703\r\n"
     ]
    },
    {
     "name": "stdout",
     "output_type": "stream",
     "text": [
      "Elapsed [7:31:03.368842], G_step [136650/1000000], D_step[136650/1000000], d_out_real: 0.0643, d_out_fake: 0.0031, g_loss_fake: 0.9816\r\n"
     ]
    },
    {
     "name": "stdout",
     "output_type": "stream",
     "text": [
      "Elapsed [7:31:14.091065], G_step [136660/1000000], D_step[136660/1000000], d_out_real: 0.1251, d_out_fake: 0.0000, g_loss_fake: 1.0371\r\n"
     ]
    },
    {
     "name": "stdout",
     "output_type": "stream",
     "text": [
      "Elapsed [7:31:25.170256], G_step [136670/1000000], D_step[136670/1000000], d_out_real: 0.2007, d_out_fake: 0.0554, g_loss_fake: 1.0430\r\n"
     ]
    },
    {
     "name": "stdout",
     "output_type": "stream",
     "text": [
      "Elapsed [7:31:36.649415], G_step [136680/1000000], D_step[136680/1000000], d_out_real: 0.0000, d_out_fake: 0.0750, g_loss_fake: 1.0157\r\n"
     ]
    },
    {
     "name": "stdout",
     "output_type": "stream",
     "text": [
      "Elapsed [7:31:47.397829], G_step [136690/1000000], D_step[136690/1000000], d_out_real: 0.1238, d_out_fake: 0.1353, g_loss_fake: 0.8779\r\n"
     ]
    },
    {
     "name": "stdout",
     "output_type": "stream",
     "text": [
      "Elapsed [7:31:58.266108], G_step [136700/1000000], D_step[136700/1000000], d_out_real: 0.0195, d_out_fake: 0.0015, g_loss_fake: 1.0634\r\n"
     ]
    },
    {
     "name": "stdout",
     "output_type": "stream",
     "text": [
      "Elapsed [7:32:09.643395], G_step [136710/1000000], D_step[136710/1000000], d_out_real: 0.0048, d_out_fake: 0.0224, g_loss_fake: 1.0427\r\n"
     ]
    },
    {
     "name": "stdout",
     "output_type": "stream",
     "text": [
      "Elapsed [7:32:20.405463], G_step [136720/1000000], D_step[136720/1000000], d_out_real: 0.0135, d_out_fake: 0.0014, g_loss_fake: 1.0692\r\n"
     ]
    },
    {
     "name": "stdout",
     "output_type": "stream",
     "text": [
      "Elapsed [7:32:31.547673], G_step [136730/1000000], D_step[136730/1000000], d_out_real: 0.1887, d_out_fake: 0.0001, g_loss_fake: 0.9984\r\n"
     ]
    },
    {
     "name": "stdout",
     "output_type": "stream",
     "text": [
      "Elapsed [7:32:42.980704], G_step [136740/1000000], D_step[136740/1000000], d_out_real: 0.1301, d_out_fake: 0.0638, g_loss_fake: 1.1319\r\n"
     ]
    },
    {
     "name": "stdout",
     "output_type": "stream",
     "text": [
      "Elapsed [7:32:53.626065], G_step [136750/1000000], D_step[136750/1000000], d_out_real: 0.0637, d_out_fake: 0.2427, g_loss_fake: 1.0897\r\n"
     ]
    },
    {
     "name": "stdout",
     "output_type": "stream",
     "text": [
      "Elapsed [7:33:05.426043], G_step [136760/1000000], D_step[136760/1000000], d_out_real: 0.0000, d_out_fake: 0.0000, g_loss_fake: 1.0562\r\n"
     ]
    },
    {
     "name": "stdout",
     "output_type": "stream",
     "text": [
      "Elapsed [7:33:16.582495], G_step [136770/1000000], D_step[136770/1000000], d_out_real: 0.0000, d_out_fake: 0.2729, g_loss_fake: 1.0166\r\n"
     ]
    },
    {
     "name": "stdout",
     "output_type": "stream",
     "text": [
      "Elapsed [7:33:27.742925], G_step [136780/1000000], D_step[136780/1000000], d_out_real: 0.0000, d_out_fake: 0.0000, g_loss_fake: 1.0661\r\n"
     ]
    },
    {
     "name": "stdout",
     "output_type": "stream",
     "text": [
      "Elapsed [7:33:39.548970], G_step [136790/1000000], D_step[136790/1000000], d_out_real: 0.0332, d_out_fake: 0.0000, g_loss_fake: 1.1267\r\n"
     ]
    },
    {
     "name": "stdout",
     "output_type": "stream",
     "text": [
      "Elapsed [7:33:50.055074], G_step [136800/1000000], D_step[136800/1000000], d_out_real: 0.0655, d_out_fake: 0.0000, g_loss_fake: 1.0666\r\n"
     ]
    },
    {
     "name": "stdout",
     "output_type": "stream",
     "text": [
      "Elapsed [7:34:01.211685], G_step [136810/1000000], D_step[136810/1000000], d_out_real: 0.0661, d_out_fake: 0.0712, g_loss_fake: 1.0757\r\n"
     ]
    },
    {
     "name": "stdout",
     "output_type": "stream",
     "text": [
      "Elapsed [7:34:12.201760], G_step [136820/1000000], D_step[136820/1000000], d_out_real: 0.0000, d_out_fake: 0.0658, g_loss_fake: 1.1045\r\n"
     ]
    },
    {
     "name": "stdout",
     "output_type": "stream",
     "text": [
      "Elapsed [7:34:23.838113], G_step [136830/1000000], D_step[136830/1000000], d_out_real: 0.1764, d_out_fake: 0.0000, g_loss_fake: 1.0106\r\n"
     ]
    },
    {
     "name": "stdout",
     "output_type": "stream",
     "text": [
      "Elapsed [7:34:34.917930], G_step [136840/1000000], D_step[136840/1000000], d_out_real: 0.0000, d_out_fake: 0.0000, g_loss_fake: 1.1079\r\n"
     ]
    },
    {
     "name": "stdout",
     "output_type": "stream",
     "text": [
      "Elapsed [7:34:45.685586], G_step [136850/1000000], D_step[136850/1000000], d_out_real: 0.0000, d_out_fake: 0.0430, g_loss_fake: 1.0886\r\n"
     ]
    },
    {
     "name": "stdout",
     "output_type": "stream",
     "text": [
      "Elapsed [7:34:56.967534], G_step [136860/1000000], D_step[136860/1000000], d_out_real: 0.0033, d_out_fake: 0.0651, g_loss_fake: 0.9582\r\n"
     ]
    },
    {
     "name": "stdout",
     "output_type": "stream",
     "text": [
      "Elapsed [7:35:08.145534], G_step [136870/1000000], D_step[136870/1000000], d_out_real: 0.0147, d_out_fake: 0.0000, g_loss_fake: 1.0245\r\n"
     ]
    },
    {
     "name": "stdout",
     "output_type": "stream",
     "text": [
      "Elapsed [7:35:18.998507], G_step [136880/1000000], D_step[136880/1000000], d_out_real: 0.0000, d_out_fake: 0.0693, g_loss_fake: 1.1166\r\n"
     ]
    },
    {
     "name": "stdout",
     "output_type": "stream",
     "text": [
      "Elapsed [7:35:30.075460], G_step [136890/1000000], D_step[136890/1000000], d_out_real: 0.0904, d_out_fake: 0.0070, g_loss_fake: 1.1156\r\n"
     ]
    },
    {
     "name": "stdout",
     "output_type": "stream",
     "text": [
      "Elapsed [7:35:41.855832], G_step [136900/1000000], D_step[136900/1000000], d_out_real: 0.2577, d_out_fake: 0.0570, g_loss_fake: 1.0546\r\n"
     ]
    },
    {
     "name": "stdout",
     "output_type": "stream",
     "text": [
      "Elapsed [7:35:53.079975], G_step [136910/1000000], D_step[136910/1000000], d_out_real: 0.1484, d_out_fake: 0.0000, g_loss_fake: 0.9671\r\n"
     ]
    },
    {
     "name": "stdout",
     "output_type": "stream",
     "text": [
      "Elapsed [7:36:04.096024], G_step [136920/1000000], D_step[136920/1000000], d_out_real: 0.1271, d_out_fake: 0.1756, g_loss_fake: 1.1638\r\n"
     ]
    },
    {
     "name": "stdout",
     "output_type": "stream",
     "text": [
      "Elapsed [7:36:14.852286], G_step [136930/1000000], D_step[136930/1000000], d_out_real: 0.0752, d_out_fake: 0.0615, g_loss_fake: 0.8992\r\n"
     ]
    },
    {
     "name": "stdout",
     "output_type": "stream",
     "text": [
      "Elapsed [7:36:25.639133], G_step [136940/1000000], D_step[136940/1000000], d_out_real: 0.0000, d_out_fake: 0.0000, g_loss_fake: 1.0080\r\n"
     ]
    },
    {
     "name": "stdout",
     "output_type": "stream",
     "text": [
      "Elapsed [7:36:36.185314], G_step [136950/1000000], D_step[136950/1000000], d_out_real: 0.1297, d_out_fake: 0.0031, g_loss_fake: 1.0367\r\n"
     ]
    },
    {
     "name": "stdout",
     "output_type": "stream",
     "text": [
      "Elapsed [7:36:47.701476], G_step [136960/1000000], D_step[136960/1000000], d_out_real: 0.1963, d_out_fake: 0.0334, g_loss_fake: 1.0470\r\n"
     ]
    },
    {
     "name": "stdout",
     "output_type": "stream",
     "text": [
      "Elapsed [7:36:58.740875], G_step [136970/1000000], D_step[136970/1000000], d_out_real: 0.1389, d_out_fake: 0.1103, g_loss_fake: 1.0006\r\n"
     ]
    },
    {
     "name": "stdout",
     "output_type": "stream",
     "text": [
      "Elapsed [7:37:09.759429], G_step [136980/1000000], D_step[136980/1000000], d_out_real: 0.0667, d_out_fake: 0.2185, g_loss_fake: 1.0029\r\n"
     ]
    },
    {
     "name": "stdout",
     "output_type": "stream",
     "text": [
      "Elapsed [7:37:20.637864], G_step [136990/1000000], D_step[136990/1000000], d_out_real: 0.0649, d_out_fake: 0.0172, g_loss_fake: 1.1417\r\n"
     ]
    },
    {
     "name": "stdout",
     "output_type": "stream",
     "text": [
      "Elapsed [7:37:32.491837], G_step [137000/1000000], D_step[137000/1000000], d_out_real: 0.0632, d_out_fake: 0.0568, g_loss_fake: 0.9931\r\n",
      "Sample images 137000_fake.png\r\n"
     ]
    },
    {
     "name": "stdout",
     "output_type": "stream",
     "text": [
      "Elapsed [7:37:44.179318], G_step [137010/1000000], D_step[137010/1000000], d_out_real: 0.2423, d_out_fake: 0.1418, g_loss_fake: 0.8241\r\n"
     ]
    },
    {
     "name": "stdout",
     "output_type": "stream",
     "text": [
      "Elapsed [7:37:55.381775], G_step [137020/1000000], D_step[137020/1000000], d_out_real: 0.0000, d_out_fake: 0.1715, g_loss_fake: 1.1249\r\n"
     ]
    },
    {
     "name": "stdout",
     "output_type": "stream",
     "text": [
      "Elapsed [7:38:05.980515], G_step [137030/1000000], D_step[137030/1000000], d_out_real: 0.0000, d_out_fake: 0.0017, g_loss_fake: 1.1494\r\n"
     ]
    },
    {
     "name": "stdout",
     "output_type": "stream",
     "text": [
      "Elapsed [7:38:16.737263], G_step [137040/1000000], D_step[137040/1000000], d_out_real: 0.1297, d_out_fake: 0.0022, g_loss_fake: 1.0415\r\n"
     ]
    },
    {
     "name": "stdout",
     "output_type": "stream",
     "text": [
      "Elapsed [7:38:27.503007], G_step [137050/1000000], D_step[137050/1000000], d_out_real: 0.0645, d_out_fake: 0.0000, g_loss_fake: 1.1084\r\n"
     ]
    },
    {
     "name": "stdout",
     "output_type": "stream",
     "text": [
      "Elapsed [7:38:39.476288], G_step [137060/1000000], D_step[137060/1000000], d_out_real: 0.0714, d_out_fake: 0.0070, g_loss_fake: 1.0988\r\n"
     ]
    },
    {
     "name": "stdout",
     "output_type": "stream",
     "text": [
      "Elapsed [7:38:50.390338], G_step [137070/1000000], D_step[137070/1000000], d_out_real: 0.2148, d_out_fake: 0.0115, g_loss_fake: 1.0454\r\n"
     ]
    },
    {
     "name": "stdout",
     "output_type": "stream",
     "text": [
      "Elapsed [7:39:01.249524], G_step [137080/1000000], D_step[137080/1000000], d_out_real: 0.1071, d_out_fake: 0.0002, g_loss_fake: 1.0185\r\n"
     ]
    },
    {
     "name": "stdout",
     "output_type": "stream",
     "text": [
      "Elapsed [7:39:11.875977], G_step [137090/1000000], D_step[137090/1000000], d_out_real: 0.2475, d_out_fake: 0.0014, g_loss_fake: 1.0057\r\n"
     ]
    },
    {
     "name": "stdout",
     "output_type": "stream",
     "text": [
      "Elapsed [7:39:24.070486], G_step [137100/1000000], D_step[137100/1000000], d_out_real: 0.1929, d_out_fake: 0.0344, g_loss_fake: 0.9344\r\n"
     ]
    },
    {
     "name": "stdout",
     "output_type": "stream",
     "text": [
      "Elapsed [7:39:35.205328], G_step [137110/1000000], D_step[137110/1000000], d_out_real: 0.0080, d_out_fake: 0.0678, g_loss_fake: 0.9973\r\n"
     ]
    },
    {
     "name": "stdout",
     "output_type": "stream",
     "text": [
      "Elapsed [7:39:45.807966], G_step [137120/1000000], D_step[137120/1000000], d_out_real: 0.1194, d_out_fake: 0.0231, g_loss_fake: 1.0952\r\n"
     ]
    },
    {
     "name": "stdout",
     "output_type": "stream",
     "text": [
      "Elapsed [7:39:57.009069], G_step [137130/1000000], D_step[137130/1000000], d_out_real: 0.0000, d_out_fake: 0.0000, g_loss_fake: 1.0690\r\n"
     ]
    },
    {
     "name": "stdout",
     "output_type": "stream",
     "text": [
      "Elapsed [7:40:07.753108], G_step [137140/1000000], D_step[137140/1000000], d_out_real: 0.0637, d_out_fake: 0.2090, g_loss_fake: 1.1231\r\n"
     ]
    },
    {
     "name": "stdout",
     "output_type": "stream",
     "text": [
      "Elapsed [7:40:18.459294], G_step [137150/1000000], D_step[137150/1000000], d_out_real: 0.0000, d_out_fake: 0.0679, g_loss_fake: 1.0925\r\n"
     ]
    },
    {
     "name": "stdout",
     "output_type": "stream",
     "text": [
      "Elapsed [7:40:30.319961], G_step [137160/1000000], D_step[137160/1000000], d_out_real: 0.1117, d_out_fake: 0.0812, g_loss_fake: 1.0649\r\n"
     ]
    },
    {
     "name": "stdout",
     "output_type": "stream",
     "text": [
      "Elapsed [7:40:41.273620], G_step [137170/1000000], D_step[137170/1000000], d_out_real: 0.0649, d_out_fake: 0.0684, g_loss_fake: 1.1223\r\n"
     ]
    },
    {
     "name": "stdout",
     "output_type": "stream",
     "text": [
      "Elapsed [7:40:51.939224], G_step [137180/1000000], D_step[137180/1000000], d_out_real: 0.0744, d_out_fake: 0.1193, g_loss_fake: 0.9104\r\n"
     ]
    },
    {
     "name": "stdout",
     "output_type": "stream",
     "text": [
      "Elapsed [7:41:03.108760], G_step [137190/1000000], D_step[137190/1000000], d_out_real: 0.0745, d_out_fake: 0.0690, g_loss_fake: 1.0612\r\n"
     ]
    },
    {
     "name": "stdout",
     "output_type": "stream",
     "text": [
      "Elapsed [7:41:14.342223], G_step [137200/1000000], D_step[137200/1000000], d_out_real: 0.0000, d_out_fake: 0.0984, g_loss_fake: 1.1228\r\n"
     ]
    },
    {
     "name": "stdout",
     "output_type": "stream",
     "text": [
      "Elapsed [7:41:25.007262], G_step [137210/1000000], D_step[137210/1000000], d_out_real: 0.0639, d_out_fake: 0.0000, g_loss_fake: 1.0042\r\n"
     ]
    },
    {
     "name": "stdout",
     "output_type": "stream",
     "text": [
      "Elapsed [7:41:36.061210], G_step [137220/1000000], D_step[137220/1000000], d_out_real: 0.0000, d_out_fake: 0.0363, g_loss_fake: 1.1168\r\n"
     ]
    },
    {
     "name": "stdout",
     "output_type": "stream",
     "text": [
      "Elapsed [7:41:47.273812], G_step [137230/1000000], D_step[137230/1000000], d_out_real: 0.0106, d_out_fake: 0.1031, g_loss_fake: 1.1041\r\n"
     ]
    },
    {
     "name": "stdout",
     "output_type": "stream",
     "text": [
      "Elapsed [7:41:58.465874], G_step [137240/1000000], D_step[137240/1000000], d_out_real: 0.0965, d_out_fake: 0.0011, g_loss_fake: 1.0520\r\n"
     ]
    },
    {
     "name": "stdout",
     "output_type": "stream",
     "text": [
      "Elapsed [7:42:09.456419], G_step [137250/1000000], D_step[137250/1000000], d_out_real: 0.0646, d_out_fake: 0.0000, g_loss_fake: 1.0611\r\n"
     ]
    },
    {
     "name": "stdout",
     "output_type": "stream",
     "text": [
      "Elapsed [7:42:20.225132], G_step [137260/1000000], D_step[137260/1000000], d_out_real: 0.0000, d_out_fake: 0.0000, g_loss_fake: 1.0625\r\n"
     ]
    },
    {
     "name": "stdout",
     "output_type": "stream",
     "text": [
      "Elapsed [7:42:31.292328], G_step [137270/1000000], D_step[137270/1000000], d_out_real: 0.0026, d_out_fake: 0.0000, g_loss_fake: 1.0814\r\n"
     ]
    },
    {
     "name": "stdout",
     "output_type": "stream",
     "text": [
      "Elapsed [7:42:42.152620], G_step [137280/1000000], D_step[137280/1000000], d_out_real: 0.1056, d_out_fake: 0.0000, g_loss_fake: 0.9083\r\n"
     ]
    },
    {
     "name": "stdout",
     "output_type": "stream",
     "text": [
      "Elapsed [7:42:53.417211], G_step [137290/1000000], D_step[137290/1000000], d_out_real: 0.0000, d_out_fake: 0.0028, g_loss_fake: 1.0639\r\n"
     ]
    },
    {
     "name": "stdout",
     "output_type": "stream",
     "text": [
      "Elapsed [7:43:04.305758], G_step [137300/1000000], D_step[137300/1000000], d_out_real: 0.0813, d_out_fake: 0.0553, g_loss_fake: 1.0840\r\n"
     ]
    },
    {
     "name": "stdout",
     "output_type": "stream",
     "text": [
      "Elapsed [7:43:15.139473], G_step [137310/1000000], D_step[137310/1000000], d_out_real: 0.0062, d_out_fake: 0.0000, g_loss_fake: 1.1058\r\n"
     ]
    },
    {
     "name": "stdout",
     "output_type": "stream",
     "text": [
      "Elapsed [7:43:25.828461], G_step [137320/1000000], D_step[137320/1000000], d_out_real: 0.1563, d_out_fake: 0.0000, g_loss_fake: 1.0502\r\n"
     ]
    },
    {
     "name": "stdout",
     "output_type": "stream",
     "text": [
      "Elapsed [7:43:36.666650], G_step [137330/1000000], D_step[137330/1000000], d_out_real: 0.0894, d_out_fake: 0.0000, g_loss_fake: 1.0357\r\n"
     ]
    },
    {
     "name": "stdout",
     "output_type": "stream",
     "text": [
      "Elapsed [7:43:47.651702], G_step [137340/1000000], D_step[137340/1000000], d_out_real: 0.0629, d_out_fake: 0.0035, g_loss_fake: 1.0780\r\n"
     ]
    },
    {
     "name": "stdout",
     "output_type": "stream",
     "text": [
      "Elapsed [7:43:58.805440], G_step [137350/1000000], D_step[137350/1000000], d_out_real: 0.0321, d_out_fake: 0.0383, g_loss_fake: 1.0980\r\n"
     ]
    },
    {
     "name": "stdout",
     "output_type": "stream",
     "text": [
      "Elapsed [7:44:09.515943], G_step [137360/1000000], D_step[137360/1000000], d_out_real: 0.0000, d_out_fake: 0.1046, g_loss_fake: 1.1605\r\n"
     ]
    },
    {
     "name": "stdout",
     "output_type": "stream",
     "text": [
      "Elapsed [7:44:20.268854], G_step [137370/1000000], D_step[137370/1000000], d_out_real: 0.0971, d_out_fake: 0.0038, g_loss_fake: 0.9981\r\n"
     ]
    },
    {
     "name": "stdout",
     "output_type": "stream",
     "text": [
      "Elapsed [7:44:31.173620], G_step [137380/1000000], D_step[137380/1000000], d_out_real: 0.1117, d_out_fake: 0.0000, g_loss_fake: 1.0613\r\n"
     ]
    },
    {
     "name": "stdout",
     "output_type": "stream",
     "text": [
      "Elapsed [7:44:42.440141], G_step [137390/1000000], D_step[137390/1000000], d_out_real: 0.0000, d_out_fake: 0.0844, g_loss_fake: 1.1598\r\n"
     ]
    },
    {
     "name": "stdout",
     "output_type": "stream",
     "text": [
      "Elapsed [7:44:53.488673], G_step [137400/1000000], D_step[137400/1000000], d_out_real: 0.0000, d_out_fake: 0.2201, g_loss_fake: 0.9888\r\n"
     ]
    },
    {
     "name": "stdout",
     "output_type": "stream",
     "text": [
      "Elapsed [7:45:04.826860], G_step [137410/1000000], D_step[137410/1000000], d_out_real: 0.0667, d_out_fake: 0.0642, g_loss_fake: 1.0691\r\n"
     ]
    },
    {
     "name": "stdout",
     "output_type": "stream",
     "text": [
      "Elapsed [7:45:15.776381], G_step [137420/1000000], D_step[137420/1000000], d_out_real: 0.0029, d_out_fake: 0.0908, g_loss_fake: 1.0876\r\n"
     ]
    },
    {
     "name": "stdout",
     "output_type": "stream",
     "text": [
      "Elapsed [7:45:26.438684], G_step [137430/1000000], D_step[137430/1000000], d_out_real: 0.0124, d_out_fake: 0.0000, g_loss_fake: 1.0767\r\n"
     ]
    },
    {
     "name": "stdout",
     "output_type": "stream",
     "text": [
      "Elapsed [7:45:37.353909], G_step [137440/1000000], D_step[137440/1000000], d_out_real: 0.0126, d_out_fake: 0.1275, g_loss_fake: 1.0362\r\n"
     ]
    },
    {
     "name": "stdout",
     "output_type": "stream",
     "text": [
      "Elapsed [7:45:48.603295], G_step [137450/1000000], D_step[137450/1000000], d_out_real: 0.1925, d_out_fake: 0.0020, g_loss_fake: 1.0973\r\n"
     ]
    },
    {
     "name": "stdout",
     "output_type": "stream",
     "text": [
      "save torch\r\n"
     ]
    },
    {
     "name": "stdout",
     "output_type": "stream",
     "text": [
      "Elapsed [7:46:00.094621], G_step [137460/1000000], D_step[137460/1000000], d_out_real: 0.0047, d_out_fake: 0.0015, g_loss_fake: 1.1124\r\n"
     ]
    },
    {
     "name": "stdout",
     "output_type": "stream",
     "text": [
      "Elapsed [7:46:10.894480], G_step [137470/1000000], D_step[137470/1000000], d_out_real: 0.1704, d_out_fake: 0.0000, g_loss_fake: 0.9987\r\n"
     ]
    },
    {
     "name": "stdout",
     "output_type": "stream",
     "text": [
      "Elapsed [7:46:22.033616], G_step [137480/1000000], D_step[137480/1000000], d_out_real: 0.0597, d_out_fake: 0.0536, g_loss_fake: 0.9509\r\n"
     ]
    },
    {
     "name": "stdout",
     "output_type": "stream",
     "text": [
      "Elapsed [7:46:32.609673], G_step [137490/1000000], D_step[137490/1000000], d_out_real: 0.0221, d_out_fake: 0.0000, g_loss_fake: 1.0760\r\n"
     ]
    },
    {
     "name": "stdout",
     "output_type": "stream",
     "text": [
      "Elapsed [7:46:44.583821], G_step [137500/1000000], D_step[137500/1000000], d_out_real: 0.0000, d_out_fake: 0.0914, g_loss_fake: 1.1584\r\n"
     ]
    },
    {
     "name": "stdout",
     "output_type": "stream",
     "text": [
      "Elapsed [7:46:55.304554], G_step [137510/1000000], D_step[137510/1000000], d_out_real: 0.0000, d_out_fake: 0.0104, g_loss_fake: 1.0858\r\n"
     ]
    },
    {
     "name": "stdout",
     "output_type": "stream",
     "text": [
      "Elapsed [7:47:06.266272], G_step [137520/1000000], D_step[137520/1000000], d_out_real: 0.0002, d_out_fake: 0.0001, g_loss_fake: 1.0478\r\n"
     ]
    },
    {
     "name": "stdout",
     "output_type": "stream",
     "text": [
      "Elapsed [7:47:17.277173], G_step [137530/1000000], D_step[137530/1000000], d_out_real: 0.1402, d_out_fake: 0.0002, g_loss_fake: 0.9460\r\n"
     ]
    },
    {
     "name": "stdout",
     "output_type": "stream",
     "text": [
      "Elapsed [7:47:28.343066], G_step [137540/1000000], D_step[137540/1000000], d_out_real: 0.0161, d_out_fake: 0.0467, g_loss_fake: 1.0618\r\n"
     ]
    },
    {
     "name": "stdout",
     "output_type": "stream",
     "text": [
      "Elapsed [7:47:39.014073], G_step [137550/1000000], D_step[137550/1000000], d_out_real: 0.0347, d_out_fake: 0.0000, g_loss_fake: 0.9853\r\n"
     ]
    },
    {
     "name": "stdout",
     "output_type": "stream",
     "text": [
      "Elapsed [7:47:50.198690], G_step [137560/1000000], D_step[137560/1000000], d_out_real: 0.2812, d_out_fake: 0.0000, g_loss_fake: 1.0974\r\n"
     ]
    },
    {
     "name": "stdout",
     "output_type": "stream",
     "text": [
      "Elapsed [7:48:01.094169], G_step [137570/1000000], D_step[137570/1000000], d_out_real: 0.2478, d_out_fake: 0.0157, g_loss_fake: 1.0560\r\n"
     ]
    },
    {
     "name": "stdout",
     "output_type": "stream",
     "text": [
      "Elapsed [7:48:11.968564], G_step [137580/1000000], D_step[137580/1000000], d_out_real: 0.1905, d_out_fake: 0.0619, g_loss_fake: 0.9965\r\n"
     ]
    },
    {
     "name": "stdout",
     "output_type": "stream",
     "text": [
      "Elapsed [7:48:22.681519], G_step [137590/1000000], D_step[137590/1000000], d_out_real: 0.0024, d_out_fake: 0.1047, g_loss_fake: 1.1100\r\n"
     ]
    },
    {
     "name": "stdout",
     "output_type": "stream",
     "text": [
      "Elapsed [7:48:33.375448], G_step [137600/1000000], D_step[137600/1000000], d_out_real: 0.0000, d_out_fake: 0.0000, g_loss_fake: 1.0281\r\n"
     ]
    },
    {
     "name": "stdout",
     "output_type": "stream",
     "text": [
      "Elapsed [7:48:43.959574], G_step [137610/1000000], D_step[137610/1000000], d_out_real: 0.1971, d_out_fake: 0.0641, g_loss_fake: 1.1371\r\n"
     ]
    },
    {
     "name": "stdout",
     "output_type": "stream",
     "text": [
      "Elapsed [7:48:55.511206], G_step [137620/1000000], D_step[137620/1000000], d_out_real: 0.2174, d_out_fake: 0.0002, g_loss_fake: 0.9563\r\n"
     ]
    },
    {
     "name": "stdout",
     "output_type": "stream",
     "text": [
      "Elapsed [7:49:06.935489], G_step [137630/1000000], D_step[137630/1000000], d_out_real: 0.2508, d_out_fake: 0.0004, g_loss_fake: 1.0188\r\n"
     ]
    },
    {
     "name": "stdout",
     "output_type": "stream",
     "text": [
      "Elapsed [7:49:18.177065], G_step [137640/1000000], D_step[137640/1000000], d_out_real: 0.0000, d_out_fake: 0.0785, g_loss_fake: 0.9837\r\n"
     ]
    },
    {
     "name": "stdout",
     "output_type": "stream",
     "text": [
      "Elapsed [7:49:29.281156], G_step [137650/1000000], D_step[137650/1000000], d_out_real: 0.0159, d_out_fake: 0.0001, g_loss_fake: 1.0220\r\n"
     ]
    },
    {
     "name": "stdout",
     "output_type": "stream",
     "text": [
      "Elapsed [7:49:39.906819], G_step [137660/1000000], D_step[137660/1000000], d_out_real: 0.0008, d_out_fake: 0.0680, g_loss_fake: 1.1458\r\n"
     ]
    },
    {
     "name": "stdout",
     "output_type": "stream",
     "text": [
      "Elapsed [7:49:52.741995], G_step [137670/1000000], D_step[137670/1000000], d_out_real: 0.0631, d_out_fake: 0.0028, g_loss_fake: 1.0363\r\n"
     ]
    },
    {
     "name": "stdout",
     "output_type": "stream",
     "text": [
      "Elapsed [7:50:04.093118], G_step [137680/1000000], D_step[137680/1000000], d_out_real: 0.0000, d_out_fake: 0.0162, g_loss_fake: 1.0362\r\n"
     ]
    },
    {
     "name": "stdout",
     "output_type": "stream",
     "text": [
      "Elapsed [7:50:15.006216], G_step [137690/1000000], D_step[137690/1000000], d_out_real: 0.0627, d_out_fake: 0.0047, g_loss_fake: 1.0135\r\n"
     ]
    },
    {
     "name": "stdout",
     "output_type": "stream",
     "text": [
      "Elapsed [7:50:26.145507], G_step [137700/1000000], D_step[137700/1000000], d_out_real: 0.0555, d_out_fake: 0.0000, g_loss_fake: 1.0821\r\n"
     ]
    },
    {
     "name": "stdout",
     "output_type": "stream",
     "text": [
      "Elapsed [7:50:36.850340], G_step [137710/1000000], D_step[137710/1000000], d_out_real: 0.0656, d_out_fake: 0.0165, g_loss_fake: 1.1321\r\n"
     ]
    },
    {
     "name": "stdout",
     "output_type": "stream",
     "text": [
      "Elapsed [7:50:47.602969], G_step [137720/1000000], D_step[137720/1000000], d_out_real: 0.2146, d_out_fake: 0.0000, g_loss_fake: 1.0231\r\n"
     ]
    },
    {
     "name": "stdout",
     "output_type": "stream",
     "text": [
      "Elapsed [7:50:58.273050], G_step [137730/1000000], D_step[137730/1000000], d_out_real: 0.1923, d_out_fake: 0.0000, g_loss_fake: 1.0765\r\n"
     ]
    },
    {
     "name": "stdout",
     "output_type": "stream",
     "text": [
      "Elapsed [7:51:09.685051], G_step [137740/1000000], D_step[137740/1000000], d_out_real: 0.1269, d_out_fake: 0.0005, g_loss_fake: 1.0457\r\n"
     ]
    },
    {
     "name": "stdout",
     "output_type": "stream",
     "text": [
      "Elapsed [7:51:21.401956], G_step [137750/1000000], D_step[137750/1000000], d_out_real: 0.0000, d_out_fake: 0.2321, g_loss_fake: 1.1299\r\n"
     ]
    },
    {
     "name": "stdout",
     "output_type": "stream",
     "text": [
      "Elapsed [7:51:32.269176], G_step [137760/1000000], D_step[137760/1000000], d_out_real: 0.0634, d_out_fake: 0.0490, g_loss_fake: 1.0704\r\n"
     ]
    },
    {
     "name": "stdout",
     "output_type": "stream",
     "text": [
      "Elapsed [7:51:42.972932], G_step [137770/1000000], D_step[137770/1000000], d_out_real: 0.0016, d_out_fake: 0.0000, g_loss_fake: 1.0598\r\n"
     ]
    },
    {
     "name": "stdout",
     "output_type": "stream",
     "text": [
      "Elapsed [7:51:53.730392], G_step [137780/1000000], D_step[137780/1000000], d_out_real: 0.0733, d_out_fake: 0.0003, g_loss_fake: 1.0716\r\n"
     ]
    },
    {
     "name": "stdout",
     "output_type": "stream",
     "text": [
      "Elapsed [7:52:05.274568], G_step [137790/1000000], D_step[137790/1000000], d_out_real: 0.0000, d_out_fake: 0.0000, g_loss_fake: 1.0893\r\n"
     ]
    },
    {
     "name": "stdout",
     "output_type": "stream",
     "text": [
      "Elapsed [7:52:16.465332], G_step [137800/1000000], D_step[137800/1000000], d_out_real: 0.0645, d_out_fake: 0.0000, g_loss_fake: 0.8375\r\n"
     ]
    },
    {
     "name": "stdout",
     "output_type": "stream",
     "text": [
      "Elapsed [7:52:27.113936], G_step [137810/1000000], D_step[137810/1000000], d_out_real: 0.0642, d_out_fake: 0.0000, g_loss_fake: 1.0887\r\n"
     ]
    },
    {
     "name": "stdout",
     "output_type": "stream",
     "text": [
      "Elapsed [7:52:38.077214], G_step [137820/1000000], D_step[137820/1000000], d_out_real: 0.0006, d_out_fake: 0.0634, g_loss_fake: 1.1075\r\n"
     ]
    },
    {
     "name": "stdout",
     "output_type": "stream",
     "text": [
      "Elapsed [7:52:48.884018], G_step [137830/1000000], D_step[137830/1000000], d_out_real: 0.0623, d_out_fake: 0.0001, g_loss_fake: 1.0726\r\n"
     ]
    },
    {
     "name": "stdout",
     "output_type": "stream",
     "text": [
      "Elapsed [7:53:00.024832], G_step [137840/1000000], D_step[137840/1000000], d_out_real: 0.0651, d_out_fake: 0.1575, g_loss_fake: 1.0608\r\n"
     ]
    },
    {
     "name": "stdout",
     "output_type": "stream",
     "text": [
      "Elapsed [7:53:10.636856], G_step [137850/1000000], D_step[137850/1000000], d_out_real: 0.0641, d_out_fake: 0.0548, g_loss_fake: 1.0417\r\n"
     ]
    },
    {
     "name": "stdout",
     "output_type": "stream",
     "text": [
      "Elapsed [7:53:21.641052], G_step [137860/1000000], D_step[137860/1000000], d_out_real: 0.1985, d_out_fake: 0.0000, g_loss_fake: 1.0620\r\n"
     ]
    },
    {
     "name": "stdout",
     "output_type": "stream",
     "text": [
      "Elapsed [7:53:32.689838], G_step [137870/1000000], D_step[137870/1000000], d_out_real: 0.1879, d_out_fake: 0.0021, g_loss_fake: 1.0208\r\n"
     ]
    },
    {
     "name": "stdout",
     "output_type": "stream",
     "text": [
      "Elapsed [7:53:43.242478], G_step [137880/1000000], D_step[137880/1000000], d_out_real: 0.0079, d_out_fake: 0.1561, g_loss_fake: 1.1019\r\n"
     ]
    },
    {
     "name": "stdout",
     "output_type": "stream",
     "text": [
      "Elapsed [7:53:54.274333], G_step [137890/1000000], D_step[137890/1000000], d_out_real: 0.0448, d_out_fake: 0.0000, g_loss_fake: 1.0757\r\n"
     ]
    },
    {
     "name": "stdout",
     "output_type": "stream",
     "text": [
      "Elapsed [7:54:06.218775], G_step [137900/1000000], D_step[137900/1000000], d_out_real: 0.0641, d_out_fake: 0.0380, g_loss_fake: 1.0402\r\n"
     ]
    },
    {
     "name": "stdout",
     "output_type": "stream",
     "text": [
      "Elapsed [7:54:17.018303], G_step [137910/1000000], D_step[137910/1000000], d_out_real: 0.2972, d_out_fake: 0.0211, g_loss_fake: 1.0108\r\n"
     ]
    },
    {
     "name": "stdout",
     "output_type": "stream",
     "text": [
      "Elapsed [7:54:27.882313], G_step [137920/1000000], D_step[137920/1000000], d_out_real: 0.0000, d_out_fake: 0.0006, g_loss_fake: 1.0727\r\n"
     ]
    },
    {
     "name": "stdout",
     "output_type": "stream",
     "text": [
      "Elapsed [7:54:38.881371], G_step [137930/1000000], D_step[137930/1000000], d_out_real: 0.1311, d_out_fake: 0.0345, g_loss_fake: 1.1119\r\n"
     ]
    },
    {
     "name": "stdout",
     "output_type": "stream",
     "text": [
      "Elapsed [7:54:50.217567], G_step [137940/1000000], D_step[137940/1000000], d_out_real: 0.0639, d_out_fake: 0.0000, g_loss_fake: 1.0852\r\n"
     ]
    },
    {
     "name": "stdout",
     "output_type": "stream",
     "text": [
      "Elapsed [7:55:01.913530], G_step [137950/1000000], D_step[137950/1000000], d_out_real: 0.2077, d_out_fake: 0.0104, g_loss_fake: 1.0204\r\n"
     ]
    },
    {
     "name": "stdout",
     "output_type": "stream",
     "text": [
      "Elapsed [7:55:14.125204], G_step [137960/1000000], D_step[137960/1000000], d_out_real: 0.1028, d_out_fake: 0.0005, g_loss_fake: 0.9446\r\n"
     ]
    },
    {
     "name": "stdout",
     "output_type": "stream",
     "text": [
      "Elapsed [7:55:25.042695], G_step [137970/1000000], D_step[137970/1000000], d_out_real: 0.0059, d_out_fake: 0.0000, g_loss_fake: 0.9170\r\n"
     ]
    },
    {
     "name": "stdout",
     "output_type": "stream",
     "text": [
      "Elapsed [7:55:36.162789], G_step [137980/1000000], D_step[137980/1000000], d_out_real: 0.0904, d_out_fake: 0.1249, g_loss_fake: 1.1768\r\n"
     ]
    },
    {
     "name": "stdout",
     "output_type": "stream",
     "text": [
      "Elapsed [7:55:47.749647], G_step [137990/1000000], D_step[137990/1000000], d_out_real: 0.0047, d_out_fake: 0.0368, g_loss_fake: 1.0788\r\n"
     ]
    },
    {
     "name": "stdout",
     "output_type": "stream",
     "text": [
      "Elapsed [7:55:58.290604], G_step [138000/1000000], D_step[138000/1000000], d_out_real: 0.0707, d_out_fake: 0.0000, g_loss_fake: 1.1203\r\n",
      "Sample images 138000_fake.png\r\n"
     ]
    },
    {
     "name": "stdout",
     "output_type": "stream",
     "text": [
      "Elapsed [7:56:10.683047], G_step [138010/1000000], D_step[138010/1000000], d_out_real: 0.0129, d_out_fake: 0.0018, g_loss_fake: 1.0112\r\n"
     ]
    },
    {
     "name": "stdout",
     "output_type": "stream",
     "text": [
      "Elapsed [7:56:21.626684], G_step [138020/1000000], D_step[138020/1000000], d_out_real: 0.0087, d_out_fake: 0.0230, g_loss_fake: 1.0780\r\n"
     ]
    },
    {
     "name": "stdout",
     "output_type": "stream",
     "text": [
      "Elapsed [7:56:32.542943], G_step [138030/1000000], D_step[138030/1000000], d_out_real: 0.0766, d_out_fake: 0.0246, g_loss_fake: 1.0541\r\n"
     ]
    },
    {
     "name": "stdout",
     "output_type": "stream",
     "text": [
      "Elapsed [7:56:43.560073], G_step [138040/1000000], D_step[138040/1000000], d_out_real: 0.0325, d_out_fake: 0.0000, g_loss_fake: 1.0678\r\n"
     ]
    },
    {
     "name": "stdout",
     "output_type": "stream",
     "text": [
      "Elapsed [7:56:54.221424], G_step [138050/1000000], D_step[138050/1000000], d_out_real: 0.0000, d_out_fake: 0.0000, g_loss_fake: 1.0392\r\n"
     ]
    },
    {
     "name": "stdout",
     "output_type": "stream",
     "text": [
      "Elapsed [7:57:04.836131], G_step [138060/1000000], D_step[138060/1000000], d_out_real: 0.0000, d_out_fake: 0.0000, g_loss_fake: 1.1417\r\n"
     ]
    },
    {
     "name": "stdout",
     "output_type": "stream",
     "text": [
      "Elapsed [7:57:15.826107], G_step [138070/1000000], D_step[138070/1000000], d_out_real: 0.0945, d_out_fake: 0.0007, g_loss_fake: 0.9640\r\n"
     ]
    },
    {
     "name": "stdout",
     "output_type": "stream",
     "text": [
      "Elapsed [7:57:26.375072], G_step [138080/1000000], D_step[138080/1000000], d_out_real: 0.0229, d_out_fake: 0.2064, g_loss_fake: 1.1354\r\n"
     ]
    },
    {
     "name": "stdout",
     "output_type": "stream",
     "text": [
      "Elapsed [7:57:37.506647], G_step [138090/1000000], D_step[138090/1000000], d_out_real: 0.0740, d_out_fake: 0.1288, g_loss_fake: 1.1077\r\n"
     ]
    },
    {
     "name": "stdout",
     "output_type": "stream",
     "text": [
      "Elapsed [7:57:48.651946], G_step [138100/1000000], D_step[138100/1000000], d_out_real: 0.0000, d_out_fake: 0.0024, g_loss_fake: 1.0918\r\n"
     ]
    },
    {
     "name": "stdout",
     "output_type": "stream",
     "text": [
      "Elapsed [7:57:59.381871], G_step [138110/1000000], D_step[138110/1000000], d_out_real: 0.1161, d_out_fake: 0.0033, g_loss_fake: 1.0372\r\n"
     ]
    },
    {
     "name": "stdout",
     "output_type": "stream",
     "text": [
      "Elapsed [7:58:10.116160], G_step [138120/1000000], D_step[138120/1000000], d_out_real: 0.0554, d_out_fake: 0.1276, g_loss_fake: 1.0541\r\n"
     ]
    },
    {
     "name": "stdout",
     "output_type": "stream",
     "text": [
      "Elapsed [7:58:20.928742], G_step [138130/1000000], D_step[138130/1000000], d_out_real: 0.0283, d_out_fake: 0.0695, g_loss_fake: 1.1044\r\n"
     ]
    },
    {
     "name": "stdout",
     "output_type": "stream",
     "text": [
      "Elapsed [7:58:31.781463], G_step [138140/1000000], D_step[138140/1000000], d_out_real: 0.0264, d_out_fake: 0.0834, g_loss_fake: 1.0513\r\n"
     ]
    },
    {
     "name": "stdout",
     "output_type": "stream",
     "text": [
      "Elapsed [7:58:43.054419], G_step [138150/1000000], D_step[138150/1000000], d_out_real: 0.1627, d_out_fake: 0.0018, g_loss_fake: 1.0638\r\n"
     ]
    },
    {
     "name": "stdout",
     "output_type": "stream",
     "text": [
      "Elapsed [7:58:54.022615], G_step [138160/1000000], D_step[138160/1000000], d_out_real: 0.0000, d_out_fake: 0.0691, g_loss_fake: 1.0572\r\n"
     ]
    },
    {
     "name": "stdout",
     "output_type": "stream",
     "text": [
      "Elapsed [7:59:04.732313], G_step [138170/1000000], D_step[138170/1000000], d_out_real: 0.0394, d_out_fake: 0.0000, g_loss_fake: 0.9795\r\n"
     ]
    },
    {
     "name": "stdout",
     "output_type": "stream",
     "text": [
      "Elapsed [7:59:15.728193], G_step [138180/1000000], D_step[138180/1000000], d_out_real: 0.1250, d_out_fake: 0.0018, g_loss_fake: 1.0645\r\n"
     ]
    },
    {
     "name": "stdout",
     "output_type": "stream",
     "text": [
      "Elapsed [7:59:26.738095], G_step [138190/1000000], D_step[138190/1000000], d_out_real: 0.1076, d_out_fake: 0.1148, g_loss_fake: 1.1217\r\n"
     ]
    },
    {
     "name": "stdout",
     "output_type": "stream",
     "text": [
      "Elapsed [7:59:37.361134], G_step [138200/1000000], D_step[138200/1000000], d_out_real: 0.1878, d_out_fake: 0.0008, g_loss_fake: 0.9798\r\n"
     ]
    },
    {
     "name": "stdout",
     "output_type": "stream",
     "text": [
      "Elapsed [7:59:49.486984], G_step [138210/1000000], D_step[138210/1000000], d_out_real: 0.0553, d_out_fake: 0.0011, g_loss_fake: 1.1012\r\n"
     ]
    },
    {
     "name": "stdout",
     "output_type": "stream",
     "text": [
      "Elapsed [8:00:00.408141], G_step [138220/1000000], D_step[138220/1000000], d_out_real: 0.1250, d_out_fake: 0.0055, g_loss_fake: 1.0623\r\n"
     ]
    },
    {
     "name": "stdout",
     "output_type": "stream",
     "text": [
      "Elapsed [8:00:10.994673], G_step [138230/1000000], D_step[138230/1000000], d_out_real: 0.0000, d_out_fake: 0.0000, g_loss_fake: 1.0971\r\n"
     ]
    },
    {
     "name": "stdout",
     "output_type": "stream",
     "text": [
      "Elapsed [8:00:22.629128], G_step [138240/1000000], D_step[138240/1000000], d_out_real: 0.1908, d_out_fake: 0.0861, g_loss_fake: 1.0374\r\n"
     ]
    },
    {
     "name": "stdout",
     "output_type": "stream",
     "text": [
      "Elapsed [8:00:34.077752], G_step [138250/1000000], D_step[138250/1000000], d_out_real: 0.0000, d_out_fake: 0.1434, g_loss_fake: 1.1449\r\n"
     ]
    },
    {
     "name": "stdout",
     "output_type": "stream",
     "text": [
      "Elapsed [8:00:45.319013], G_step [138260/1000000], D_step[138260/1000000], d_out_real: 0.0644, d_out_fake: 0.0966, g_loss_fake: 1.1060\r\n"
     ]
    },
    {
     "name": "stdout",
     "output_type": "stream",
     "text": [
      "Elapsed [8:00:56.180515], G_step [138270/1000000], D_step[138270/1000000], d_out_real: 0.0432, d_out_fake: 0.0000, g_loss_fake: 0.9688\r\n"
     ]
    },
    {
     "name": "stdout",
     "output_type": "stream",
     "text": [
      "Elapsed [8:01:07.316596], G_step [138280/1000000], D_step[138280/1000000], d_out_real: 0.1290, d_out_fake: 0.0724, g_loss_fake: 1.0432\r\n"
     ]
    },
    {
     "name": "stdout",
     "output_type": "stream",
     "text": [
      "Elapsed [8:01:17.979444], G_step [138290/1000000], D_step[138290/1000000], d_out_real: 0.1196, d_out_fake: 0.0000, g_loss_fake: 1.0338\r\n"
     ]
    },
    {
     "name": "stdout",
     "output_type": "stream",
     "text": [
      "Elapsed [8:01:28.817830], G_step [138300/1000000], D_step[138300/1000000], d_out_real: 0.0423, d_out_fake: 0.0517, g_loss_fake: 1.0729\r\n"
     ]
    },
    {
     "name": "stdout",
     "output_type": "stream",
     "text": [
      "Elapsed [8:01:39.641028], G_step [138310/1000000], D_step[138310/1000000], d_out_real: 0.1243, d_out_fake: 0.0000, g_loss_fake: 0.8427\r\n"
     ]
    },
    {
     "name": "stdout",
     "output_type": "stream",
     "text": [
      "Elapsed [8:01:50.119736], G_step [138320/1000000], D_step[138320/1000000], d_out_real: 0.0000, d_out_fake: 0.0637, g_loss_fake: 1.1224\r\n"
     ]
    },
    {
     "name": "stdout",
     "output_type": "stream",
     "text": [
      "Elapsed [8:02:01.022616], G_step [138330/1000000], D_step[138330/1000000], d_out_real: 0.0241, d_out_fake: 0.0138, g_loss_fake: 1.0411\r\n"
     ]
    },
    {
     "name": "stdout",
     "output_type": "stream",
     "text": [
      "Elapsed [8:02:11.883096], G_step [138340/1000000], D_step[138340/1000000], d_out_real: 0.1266, d_out_fake: 0.0000, g_loss_fake: 1.0640\r\n"
     ]
    },
    {
     "name": "stdout",
     "output_type": "stream",
     "text": [
      "Elapsed [8:02:23.371564], G_step [138350/1000000], D_step[138350/1000000], d_out_real: 0.0746, d_out_fake: 0.0683, g_loss_fake: 0.9887\r\n"
     ]
    },
    {
     "name": "stdout",
     "output_type": "stream",
     "text": [
      "Elapsed [8:02:34.827573], G_step [138360/1000000], D_step[138360/1000000], d_out_real: 0.1284, d_out_fake: 0.0520, g_loss_fake: 1.0258\r\n"
     ]
    },
    {
     "name": "stdout",
     "output_type": "stream",
     "text": [
      "Elapsed [8:02:46.831250], G_step [138370/1000000], D_step[138370/1000000], d_out_real: 0.0928, d_out_fake: 0.0014, g_loss_fake: 1.0586\r\n"
     ]
    },
    {
     "name": "stdout",
     "output_type": "stream",
     "text": [
      "Elapsed [8:02:58.544229], G_step [138380/1000000], D_step[138380/1000000], d_out_real: 0.0000, d_out_fake: 0.0118, g_loss_fake: 1.0399\r\n"
     ]
    },
    {
     "name": "stdout",
     "output_type": "stream",
     "text": [
      "Elapsed [8:03:09.140635], G_step [138390/1000000], D_step[138390/1000000], d_out_real: 0.0039, d_out_fake: 0.0069, g_loss_fake: 1.0077\r\n"
     ]
    },
    {
     "name": "stdout",
     "output_type": "stream",
     "text": [
      "Elapsed [8:03:20.365505], G_step [138400/1000000], D_step[138400/1000000], d_out_real: 0.0545, d_out_fake: 0.0000, g_loss_fake: 1.0716\r\n"
     ]
    },
    {
     "name": "stdout",
     "output_type": "stream",
     "text": [
      "Elapsed [8:03:31.183040], G_step [138410/1000000], D_step[138410/1000000], d_out_real: 0.0646, d_out_fake: 0.0020, g_loss_fake: 1.0766\r\n"
     ]
    },
    {
     "name": "stdout",
     "output_type": "stream",
     "text": [
      "Elapsed [8:03:41.827440], G_step [138420/1000000], D_step[138420/1000000], d_out_real: 0.0000, d_out_fake: 0.3205, g_loss_fake: 1.0398\r\n"
     ]
    },
    {
     "name": "stdout",
     "output_type": "stream",
     "text": [
      "Elapsed [8:03:52.551108], G_step [138430/1000000], D_step[138430/1000000], d_out_real: 0.0000, d_out_fake: 0.0103, g_loss_fake: 1.0906\r\n"
     ]
    },
    {
     "name": "stdout",
     "output_type": "stream",
     "text": [
      "Elapsed [8:04:03.367330], G_step [138440/1000000], D_step[138440/1000000], d_out_real: 0.0000, d_out_fake: 0.0000, g_loss_fake: 1.0939\r\n"
     ]
    },
    {
     "name": "stdout",
     "output_type": "stream",
     "text": [
      "Elapsed [8:04:14.284996], G_step [138450/1000000], D_step[138450/1000000], d_out_real: 0.0000, d_out_fake: 0.0597, g_loss_fake: 1.1537\r\n"
     ]
    },
    {
     "name": "stdout",
     "output_type": "stream",
     "text": [
      "Elapsed [8:04:25.392345], G_step [138460/1000000], D_step[138460/1000000], d_out_real: 0.0833, d_out_fake: 0.0005, g_loss_fake: 1.0009\r\n"
     ]
    },
    {
     "name": "stdout",
     "output_type": "stream",
     "text": [
      "Elapsed [8:04:36.169293], G_step [138470/1000000], D_step[138470/1000000], d_out_real: 0.1266, d_out_fake: 0.3836, g_loss_fake: 1.0974\r\n"
     ]
    },
    {
     "name": "stdout",
     "output_type": "stream",
     "text": [
      "Elapsed [8:04:46.827374], G_step [138480/1000000], D_step[138480/1000000], d_out_real: 0.0644, d_out_fake: 0.0547, g_loss_fake: 1.1144\r\n"
     ]
    },
    {
     "name": "stdout",
     "output_type": "stream",
     "text": [
      "Elapsed [8:04:57.443442], G_step [138490/1000000], D_step[138490/1000000], d_out_real: 0.1227, d_out_fake: 0.0702, g_loss_fake: 1.0002\r\n"
     ]
    },
    {
     "name": "stdout",
     "output_type": "stream",
     "text": [
      "Elapsed [8:05:08.647818], G_step [138500/1000000], D_step[138500/1000000], d_out_real: 0.1358, d_out_fake: 0.0633, g_loss_fake: 0.9922\r\n"
     ]
    },
    {
     "name": "stdout",
     "output_type": "stream",
     "text": [
      "Elapsed [8:05:19.244802], G_step [138510/1000000], D_step[138510/1000000], d_out_real: 0.0458, d_out_fake: 0.0011, g_loss_fake: 1.0700\r\n"
     ]
    },
    {
     "name": "stdout",
     "output_type": "stream",
     "text": [
      "Elapsed [8:05:30.426176], G_step [138520/1000000], D_step[138520/1000000], d_out_real: 0.0000, d_out_fake: 0.0000, g_loss_fake: 1.0840\r\n"
     ]
    },
    {
     "name": "stdout",
     "output_type": "stream",
     "text": [
      "Elapsed [8:05:41.286989], G_step [138530/1000000], D_step[138530/1000000], d_out_real: 0.0482, d_out_fake: 0.0066, g_loss_fake: 1.0798\r\n"
     ]
    },
    {
     "name": "stdout",
     "output_type": "stream",
     "text": [
      "Elapsed [8:05:52.438726], G_step [138540/1000000], D_step[138540/1000000], d_out_real: 0.0000, d_out_fake: 0.0000, g_loss_fake: 1.1404\r\n"
     ]
    },
    {
     "name": "stdout",
     "output_type": "stream",
     "text": [
      "Elapsed [8:06:03.593792], G_step [138550/1000000], D_step[138550/1000000], d_out_real: 0.0645, d_out_fake: 0.0000, g_loss_fake: 1.0185\r\n"
     ]
    },
    {
     "name": "stdout",
     "output_type": "stream",
     "text": [
      "Elapsed [8:06:14.719795], G_step [138560/1000000], D_step[138560/1000000], d_out_real: 0.1826, d_out_fake: 0.0000, g_loss_fake: 1.0756\r\n"
     ]
    },
    {
     "name": "stdout",
     "output_type": "stream",
     "text": [
      "Elapsed [8:06:25.415931], G_step [138570/1000000], D_step[138570/1000000], d_out_real: 0.1161, d_out_fake: 0.0000, g_loss_fake: 1.1058\r\n"
     ]
    },
    {
     "name": "stdout",
     "output_type": "stream",
     "text": [
      "Elapsed [8:06:37.064491], G_step [138580/1000000], D_step[138580/1000000], d_out_real: 0.0883, d_out_fake: 0.0000, g_loss_fake: 1.0746\r\n"
     ]
    },
    {
     "name": "stdout",
     "output_type": "stream",
     "text": [
      "Elapsed [8:06:47.653824], G_step [138590/1000000], D_step[138590/1000000], d_out_real: 0.0423, d_out_fake: 0.1251, g_loss_fake: 1.0263\r\n"
     ]
    },
    {
     "name": "stdout",
     "output_type": "stream",
     "text": [
      "Elapsed [8:06:58.650290], G_step [138600/1000000], D_step[138600/1000000], d_out_real: 0.1246, d_out_fake: 0.0388, g_loss_fake: 1.0720\r\n"
     ]
    },
    {
     "name": "stdout",
     "output_type": "stream",
     "text": [
      "Elapsed [8:07:09.605468], G_step [138610/1000000], D_step[138610/1000000], d_out_real: 0.0661, d_out_fake: 0.0001, g_loss_fake: 0.9703\r\n"
     ]
    },
    {
     "name": "stdout",
     "output_type": "stream",
     "text": [
      "Elapsed [8:07:20.745259], G_step [138620/1000000], D_step[138620/1000000], d_out_real: 0.1348, d_out_fake: 0.0362, g_loss_fake: 1.0621\r\n"
     ]
    },
    {
     "name": "stdout",
     "output_type": "stream",
     "text": [
      "Elapsed [8:07:31.481107], G_step [138630/1000000], D_step[138630/1000000], d_out_real: 0.0628, d_out_fake: 0.0568, g_loss_fake: 0.9435\r\n"
     ]
    },
    {
     "name": "stdout",
     "output_type": "stream",
     "text": [
      "Elapsed [8:07:42.555526], G_step [138640/1000000], D_step[138640/1000000], d_out_real: 0.1313, d_out_fake: 0.0409, g_loss_fake: 1.1227\r\n"
     ]
    },
    {
     "name": "stdout",
     "output_type": "stream",
     "text": [
      "Elapsed [8:07:53.502933], G_step [138650/1000000], D_step[138650/1000000], d_out_real: 0.0311, d_out_fake: 0.0000, g_loss_fake: 0.8627\r\n"
     ]
    },
    {
     "name": "stdout",
     "output_type": "stream",
     "text": [
      "Elapsed [8:08:05.465613], G_step [138660/1000000], D_step[138660/1000000], d_out_real: 0.0556, d_out_fake: 0.0038, g_loss_fake: 1.0631\r\n"
     ]
    },
    {
     "name": "stdout",
     "output_type": "stream",
     "text": [
      "Elapsed [8:08:16.452612], G_step [138670/1000000], D_step[138670/1000000], d_out_real: 0.0001, d_out_fake: 0.0000, g_loss_fake: 1.1204\r\n"
     ]
    },
    {
     "name": "stdout",
     "output_type": "stream",
     "text": [
      "Elapsed [8:08:27.333955], G_step [138680/1000000], D_step[138680/1000000], d_out_real: 0.0000, d_out_fake: 0.0960, g_loss_fake: 1.0107\r\n"
     ]
    },
    {
     "name": "stdout",
     "output_type": "stream",
     "text": [
      "Elapsed [8:08:37.991311], G_step [138690/1000000], D_step[138690/1000000], d_out_real: 0.0002, d_out_fake: 0.0667, g_loss_fake: 0.9800\r\n"
     ]
    },
    {
     "name": "stdout",
     "output_type": "stream",
     "text": [
      "Elapsed [8:08:49.979847], G_step [138700/1000000], D_step[138700/1000000], d_out_real: 0.0000, d_out_fake: 0.0363, g_loss_fake: 1.1249\r\n"
     ]
    },
    {
     "name": "stdout",
     "output_type": "stream",
     "text": [
      "Elapsed [8:09:01.400562], G_step [138710/1000000], D_step[138710/1000000], d_out_real: 0.0791, d_out_fake: 0.0000, g_loss_fake: 1.1560\r\n"
     ]
    },
    {
     "name": "stdout",
     "output_type": "stream",
     "text": [
      "Elapsed [8:09:12.429637], G_step [138720/1000000], D_step[138720/1000000], d_out_real: 0.1868, d_out_fake: 0.0267, g_loss_fake: 0.9697\r\n"
     ]
    },
    {
     "name": "stdout",
     "output_type": "stream",
     "text": [
      "Elapsed [8:09:24.219545], G_step [138730/1000000], D_step[138730/1000000], d_out_real: 0.2941, d_out_fake: 0.0017, g_loss_fake: 1.0376\r\n"
     ]
    },
    {
     "name": "stdout",
     "output_type": "stream",
     "text": [
      "Elapsed [8:09:35.248266], G_step [138740/1000000], D_step[138740/1000000], d_out_real: 0.1291, d_out_fake: 0.0572, g_loss_fake: 1.0580\r\n"
     ]
    },
    {
     "name": "stdout",
     "output_type": "stream",
     "text": [
      "Elapsed [8:09:47.818087], G_step [138750/1000000], D_step[138750/1000000], d_out_real: 0.0716, d_out_fake: 0.0065, g_loss_fake: 1.0744\r\n"
     ]
    },
    {
     "name": "stdout",
     "output_type": "stream",
     "text": [
      "Elapsed [8:09:58.692384], G_step [138760/1000000], D_step[138760/1000000], d_out_real: 0.0912, d_out_fake: 0.0728, g_loss_fake: 0.8735\r\n"
     ]
    },
    {
     "name": "stdout",
     "output_type": "stream",
     "text": [
      "Elapsed [8:10:09.723325], G_step [138770/1000000], D_step[138770/1000000], d_out_real: 0.0278, d_out_fake: 0.0000, g_loss_fake: 1.0316\r\n"
     ]
    },
    {
     "name": "stdout",
     "output_type": "stream",
     "text": [
      "Elapsed [8:10:20.386697], G_step [138780/1000000], D_step[138780/1000000], d_out_real: 0.1907, d_out_fake: 0.0422, g_loss_fake: 0.9497\r\n"
     ]
    },
    {
     "name": "stdout",
     "output_type": "stream",
     "text": [
      "Elapsed [8:10:31.202239], G_step [138790/1000000], D_step[138790/1000000], d_out_real: 0.0000, d_out_fake: 0.0489, g_loss_fake: 1.1378\r\n"
     ]
    },
    {
     "name": "stdout",
     "output_type": "stream",
     "text": [
      "Elapsed [8:10:41.932979], G_step [138800/1000000], D_step[138800/1000000], d_out_real: 0.1012, d_out_fake: 0.1292, g_loss_fake: 1.1100\r\n"
     ]
    },
    {
     "name": "stdout",
     "output_type": "stream",
     "text": [
      "Elapsed [8:10:52.791247], G_step [138810/1000000], D_step[138810/1000000], d_out_real: 0.1248, d_out_fake: 0.0015, g_loss_fake: 1.1040\r\n"
     ]
    },
    {
     "name": "stdout",
     "output_type": "stream",
     "text": [
      "Elapsed [8:11:04.552849], G_step [138820/1000000], D_step[138820/1000000], d_out_real: 0.1180, d_out_fake: 0.0773, g_loss_fake: 1.0729\r\n"
     ]
    },
    {
     "name": "stdout",
     "output_type": "stream",
     "text": [
      "Elapsed [8:11:15.830655], G_step [138830/1000000], D_step[138830/1000000], d_out_real: 0.1429, d_out_fake: 0.0000, g_loss_fake: 0.9799\r\n"
     ]
    },
    {
     "name": "stdout",
     "output_type": "stream",
     "text": [
      "Elapsed [8:11:26.802722], G_step [138840/1000000], D_step[138840/1000000], d_out_real: 0.1922, d_out_fake: 0.0000, g_loss_fake: 1.0785\r\n"
     ]
    },
    {
     "name": "stdout",
     "output_type": "stream",
     "text": [
      "Elapsed [8:11:37.556401], G_step [138850/1000000], D_step[138850/1000000], d_out_real: 0.0000, d_out_fake: 0.0000, g_loss_fake: 1.1151\r\n"
     ]
    },
    {
     "name": "stdout",
     "output_type": "stream",
     "text": [
      "Elapsed [8:11:48.456118], G_step [138860/1000000], D_step[138860/1000000], d_out_real: 0.0000, d_out_fake: 0.0000, g_loss_fake: 1.1860\r\n"
     ]
    },
    {
     "name": "stdout",
     "output_type": "stream",
     "text": [
      "Elapsed [8:11:59.089956], G_step [138870/1000000], D_step[138870/1000000], d_out_real: 0.1239, d_out_fake: 0.0027, g_loss_fake: 1.0874\r\n"
     ]
    },
    {
     "name": "stdout",
     "output_type": "stream",
     "text": [
      "Elapsed [8:12:10.236742], G_step [138880/1000000], D_step[138880/1000000], d_out_real: 0.0000, d_out_fake: 0.0141, g_loss_fake: 1.1426\r\n"
     ]
    },
    {
     "name": "stdout",
     "output_type": "stream",
     "text": [
      "Elapsed [8:12:21.324603], G_step [138890/1000000], D_step[138890/1000000], d_out_real: 0.0190, d_out_fake: 0.0000, g_loss_fake: 0.8920\r\n"
     ]
    },
    {
     "name": "stdout",
     "output_type": "stream",
     "text": [
      "Elapsed [8:12:32.675795], G_step [138900/1000000], D_step[138900/1000000], d_out_real: 0.0628, d_out_fake: 0.1316, g_loss_fake: 1.0731\r\n"
     ]
    },
    {
     "name": "stdout",
     "output_type": "stream",
     "text": [
      "Elapsed [8:12:43.358053], G_step [138910/1000000], D_step[138910/1000000], d_out_real: 0.0046, d_out_fake: 0.1106, g_loss_fake: 1.1985\r\n"
     ]
    },
    {
     "name": "stdout",
     "output_type": "stream",
     "text": [
      "Elapsed [8:12:54.668687], G_step [138920/1000000], D_step[138920/1000000], d_out_real: 0.0000, d_out_fake: 0.0519, g_loss_fake: 1.0875\r\n"
     ]
    },
    {
     "name": "stdout",
     "output_type": "stream",
     "text": [
      "Elapsed [8:13:05.865644], G_step [138930/1000000], D_step[138930/1000000], d_out_real: 0.0556, d_out_fake: 0.0000, g_loss_fake: 1.0297\r\n"
     ]
    },
    {
     "name": "stdout",
     "output_type": "stream",
     "text": [
      "Elapsed [8:13:16.626818], G_step [138940/1000000], D_step[138940/1000000], d_out_real: 0.0978, d_out_fake: 0.0000, g_loss_fake: 1.0134\r\n"
     ]
    },
    {
     "name": "stdout",
     "output_type": "stream",
     "text": [
      "Elapsed [8:13:28.205905], G_step [138950/1000000], D_step[138950/1000000], d_out_real: 0.2770, d_out_fake: 0.0000, g_loss_fake: 0.9259\r\n"
     ]
    },
    {
     "name": "stdout",
     "output_type": "stream",
     "text": [
      "Elapsed [8:13:38.731728], G_step [138960/1000000], D_step[138960/1000000], d_out_real: 0.0000, d_out_fake: 0.0099, g_loss_fake: 1.1428\r\n"
     ]
    },
    {
     "name": "stdout",
     "output_type": "stream",
     "text": [
      "Elapsed [8:13:49.812470], G_step [138970/1000000], D_step[138970/1000000], d_out_real: 0.0612, d_out_fake: 0.0012, g_loss_fake: 1.0440\r\n"
     ]
    },
    {
     "name": "stdout",
     "output_type": "stream",
     "text": [
      "Elapsed [8:14:01.543126], G_step [138980/1000000], D_step[138980/1000000], d_out_real: 0.0000, d_out_fake: 0.0058, g_loss_fake: 1.1107\r\n"
     ]
    },
    {
     "name": "stdout",
     "output_type": "stream",
     "text": [
      "Elapsed [8:14:12.571261], G_step [138990/1000000], D_step[138990/1000000], d_out_real: 0.0000, d_out_fake: 0.2081, g_loss_fake: 1.1312\r\n"
     ]
    },
    {
     "name": "stdout",
     "output_type": "stream",
     "text": [
      "Elapsed [8:14:23.690808], G_step [139000/1000000], D_step[139000/1000000], d_out_real: 0.0607, d_out_fake: 0.0027, g_loss_fake: 1.0939\r\n",
      "Sample images 139000_fake.png\r\n"
     ]
    },
    {
     "name": "stdout",
     "output_type": "stream",
     "text": [
      "Elapsed [8:14:35.562797], G_step [139010/1000000], D_step[139010/1000000], d_out_real: 0.1090, d_out_fake: 0.0084, g_loss_fake: 1.1502\r\n"
     ]
    },
    {
     "name": "stdout",
     "output_type": "stream",
     "text": [
      "save torch\r\n"
     ]
    },
    {
     "name": "stdout",
     "output_type": "stream",
     "text": [
      "Elapsed [8:14:47.165078], G_step [139020/1000000], D_step[139020/1000000], d_out_real: 0.0109, d_out_fake: 0.0641, g_loss_fake: 1.1335\r\n"
     ]
    },
    {
     "name": "stdout",
     "output_type": "stream",
     "text": [
      "Elapsed [8:14:58.204313], G_step [139030/1000000], D_step[139030/1000000], d_out_real: 0.0004, d_out_fake: 0.0000, g_loss_fake: 1.0917\r\n"
     ]
    },
    {
     "name": "stdout",
     "output_type": "stream",
     "text": [
      "Elapsed [8:15:09.132433], G_step [139040/1000000], D_step[139040/1000000], d_out_real: 0.0651, d_out_fake: 0.1212, g_loss_fake: 1.0232\r\n"
     ]
    },
    {
     "name": "stdout",
     "output_type": "stream",
     "text": [
      "Elapsed [8:15:20.594868], G_step [139050/1000000], D_step[139050/1000000], d_out_real: 0.0653, d_out_fake: 0.0751, g_loss_fake: 1.0988\r\n"
     ]
    },
    {
     "name": "stdout",
     "output_type": "stream",
     "text": [
      "Elapsed [8:15:31.719138], G_step [139060/1000000], D_step[139060/1000000], d_out_real: 0.0000, d_out_fake: 0.0657, g_loss_fake: 1.0513\r\n"
     ]
    },
    {
     "name": "stdout",
     "output_type": "stream",
     "text": [
      "Elapsed [8:15:42.402999], G_step [139070/1000000], D_step[139070/1000000], d_out_real: 0.1929, d_out_fake: 0.0510, g_loss_fake: 1.0855\r\n"
     ]
    },
    {
     "name": "stdout",
     "output_type": "stream",
     "text": [
      "Elapsed [8:15:53.062950], G_step [139080/1000000], D_step[139080/1000000], d_out_real: 0.1026, d_out_fake: 0.0000, g_loss_fake: 1.0493\r\n"
     ]
    },
    {
     "name": "stdout",
     "output_type": "stream",
     "text": [
      "Elapsed [8:16:04.211906], G_step [139090/1000000], D_step[139090/1000000], d_out_real: 0.3257, d_out_fake: 0.0000, g_loss_fake: 1.0679\r\n"
     ]
    },
    {
     "name": "stdout",
     "output_type": "stream",
     "text": [
      "Elapsed [8:16:14.941833], G_step [139100/1000000], D_step[139100/1000000], d_out_real: 0.0370, d_out_fake: 0.0000, g_loss_fake: 1.0854\r\n"
     ]
    },
    {
     "name": "stdout",
     "output_type": "stream",
     "text": [
      "Elapsed [8:16:25.930914], G_step [139110/1000000], D_step[139110/1000000], d_out_real: 0.0275, d_out_fake: 0.0417, g_loss_fake: 1.0502\r\n"
     ]
    },
    {
     "name": "stdout",
     "output_type": "stream",
     "text": [
      "Elapsed [8:16:37.852973], G_step [139120/1000000], D_step[139120/1000000], d_out_real: 0.0736, d_out_fake: 0.0965, g_loss_fake: 1.1084\r\n"
     ]
    },
    {
     "name": "stdout",
     "output_type": "stream",
     "text": [
      "Elapsed [8:16:48.719192], G_step [139130/1000000], D_step[139130/1000000], d_out_real: 0.0643, d_out_fake: 0.0631, g_loss_fake: 1.0864\r\n"
     ]
    },
    {
     "name": "stdout",
     "output_type": "stream",
     "text": [
      "Elapsed [8:16:59.717611], G_step [139140/1000000], D_step[139140/1000000], d_out_real: 0.0000, d_out_fake: 0.0000, g_loss_fake: 1.1192\r\n"
     ]
    },
    {
     "name": "stdout",
     "output_type": "stream",
     "text": [
      "Elapsed [8:17:11.112865], G_step [139150/1000000], D_step[139150/1000000], d_out_real: 0.0251, d_out_fake: 0.0028, g_loss_fake: 1.0845\r\n"
     ]
    },
    {
     "name": "stdout",
     "output_type": "stream",
     "text": [
      "Elapsed [8:17:21.833535], G_step [139160/1000000], D_step[139160/1000000], d_out_real: 0.0007, d_out_fake: 0.0669, g_loss_fake: 0.7702\r\n"
     ]
    },
    {
     "name": "stdout",
     "output_type": "stream",
     "text": [
      "Elapsed [8:17:32.365430], G_step [139170/1000000], D_step[139170/1000000], d_out_real: 0.0698, d_out_fake: 0.1609, g_loss_fake: 1.0465\r\n"
     ]
    },
    {
     "name": "stdout",
     "output_type": "stream",
     "text": [
      "Elapsed [8:17:43.027810], G_step [139180/1000000], D_step[139180/1000000], d_out_real: 0.0640, d_out_fake: 0.0000, g_loss_fake: 1.0190\r\n"
     ]
    },
    {
     "name": "stdout",
     "output_type": "stream",
     "text": [
      "Elapsed [8:17:55.011867], G_step [139190/1000000], D_step[139190/1000000], d_out_real: 0.0639, d_out_fake: 0.0014, g_loss_fake: 1.0461\r\n"
     ]
    },
    {
     "name": "stdout",
     "output_type": "stream",
     "text": [
      "Elapsed [8:18:06.279773], G_step [139200/1000000], D_step[139200/1000000], d_out_real: 0.0000, d_out_fake: 0.0711, g_loss_fake: 1.1074\r\n"
     ]
    },
    {
     "name": "stdout",
     "output_type": "stream",
     "text": [
      "Elapsed [8:18:17.496490], G_step [139210/1000000], D_step[139210/1000000], d_out_real: 0.0000, d_out_fake: 0.1387, g_loss_fake: 1.1052\r\n"
     ]
    },
    {
     "name": "stdout",
     "output_type": "stream",
     "text": [
      "Elapsed [8:18:28.842469], G_step [139220/1000000], D_step[139220/1000000], d_out_real: 0.0666, d_out_fake: 0.1502, g_loss_fake: 1.0169\r\n"
     ]
    },
    {
     "name": "stdout",
     "output_type": "stream",
     "text": [
      "Elapsed [8:18:39.593351], G_step [139230/1000000], D_step[139230/1000000], d_out_real: 0.0000, d_out_fake: 0.0000, g_loss_fake: 1.0977\r\n"
     ]
    },
    {
     "name": "stdout",
     "output_type": "stream",
     "text": [
      "Elapsed [8:18:50.382545], G_step [139240/1000000], D_step[139240/1000000], d_out_real: 0.0266, d_out_fake: 0.0093, g_loss_fake: 1.0924\r\n"
     ]
    },
    {
     "name": "stdout",
     "output_type": "stream",
     "text": [
      "Elapsed [8:19:01.263788], G_step [139250/1000000], D_step[139250/1000000], d_out_real: 0.0000, d_out_fake: 0.0000, g_loss_fake: 1.1398\r\n"
     ]
    },
    {
     "name": "stdout",
     "output_type": "stream",
     "text": [
      "Elapsed [8:19:12.108263], G_step [139260/1000000], D_step[139260/1000000], d_out_real: 0.0013, d_out_fake: 0.0078, g_loss_fake: 1.0739\r\n"
     ]
    },
    {
     "name": "stdout",
     "output_type": "stream",
     "text": [
      "Elapsed [8:19:23.579500], G_step [139270/1000000], D_step[139270/1000000], d_out_real: 0.1241, d_out_fake: 0.0000, g_loss_fake: 1.0119\r\n"
     ]
    },
    {
     "name": "stdout",
     "output_type": "stream",
     "text": [
      "Elapsed [8:19:34.247426], G_step [139280/1000000], D_step[139280/1000000], d_out_real: 0.0655, d_out_fake: 0.0000, g_loss_fake: 1.0330\r\n"
     ]
    },
    {
     "name": "stdout",
     "output_type": "stream",
     "text": [
      "Elapsed [8:19:45.772622], G_step [139290/1000000], D_step[139290/1000000], d_out_real: 0.2514, d_out_fake: 0.0000, g_loss_fake: 1.0161\r\n"
     ]
    },
    {
     "name": "stdout",
     "output_type": "stream",
     "text": [
      "Elapsed [8:19:57.088531], G_step [139300/1000000], D_step[139300/1000000], d_out_real: 0.0640, d_out_fake: 0.0692, g_loss_fake: 1.0792\r\n"
     ]
    },
    {
     "name": "stdout",
     "output_type": "stream",
     "text": [
      "Elapsed [8:20:07.782551], G_step [139310/1000000], D_step[139310/1000000], d_out_real: 0.0000, d_out_fake: 0.0160, g_loss_fake: 1.1464\r\n"
     ]
    },
    {
     "name": "stdout",
     "output_type": "stream",
     "text": [
      "Elapsed [8:20:18.977974], G_step [139320/1000000], D_step[139320/1000000], d_out_real: 0.1211, d_out_fake: 0.0056, g_loss_fake: 1.0642\r\n"
     ]
    },
    {
     "name": "stdout",
     "output_type": "stream",
     "text": [
      "Elapsed [8:20:30.796120], G_step [139330/1000000], D_step[139330/1000000], d_out_real: 0.2590, d_out_fake: 0.0586, g_loss_fake: 1.0074\r\n"
     ]
    },
    {
     "name": "stdout",
     "output_type": "stream",
     "text": [
      "Elapsed [8:20:41.358605], G_step [139340/1000000], D_step[139340/1000000], d_out_real: 0.1218, d_out_fake: 0.0649, g_loss_fake: 0.9677\r\n"
     ]
    },
    {
     "name": "stdout",
     "output_type": "stream",
     "text": [
      "Elapsed [8:20:52.967734], G_step [139350/1000000], D_step[139350/1000000], d_out_real: 0.0672, d_out_fake: 0.0614, g_loss_fake: 1.1048\r\n"
     ]
    },
    {
     "name": "stdout",
     "output_type": "stream",
     "text": [
      "Elapsed [8:21:03.820991], G_step [139360/1000000], D_step[139360/1000000], d_out_real: 0.0000, d_out_fake: 0.0674, g_loss_fake: 1.0152\r\n"
     ]
    },
    {
     "name": "stdout",
     "output_type": "stream",
     "text": [
      "Elapsed [8:21:14.966581], G_step [139370/1000000], D_step[139370/1000000], d_out_real: 0.0037, d_out_fake: 0.0934, g_loss_fake: 1.0996\r\n"
     ]
    },
    {
     "name": "stdout",
     "output_type": "stream",
     "text": [
      "Elapsed [8:21:25.650615], G_step [139380/1000000], D_step[139380/1000000], d_out_real: 0.0461, d_out_fake: 0.0577, g_loss_fake: 1.0151\r\n"
     ]
    },
    {
     "name": "stdout",
     "output_type": "stream",
     "text": [
      "Elapsed [8:21:36.260495], G_step [139390/1000000], D_step[139390/1000000], d_out_real: 0.0691, d_out_fake: 0.0000, g_loss_fake: 1.1756\r\n"
     ]
    },
    {
     "name": "stdout",
     "output_type": "stream",
     "text": [
      "Elapsed [8:21:47.046522], G_step [139400/1000000], D_step[139400/1000000], d_out_real: 0.1179, d_out_fake: 0.0000, g_loss_fake: 1.0547\r\n"
     ]
    },
    {
     "name": "stdout",
     "output_type": "stream",
     "text": [
      "Elapsed [8:21:57.760387], G_step [139410/1000000], D_step[139410/1000000], d_out_real: 0.0604, d_out_fake: 0.0003, g_loss_fake: 1.0706\r\n"
     ]
    },
    {
     "name": "stdout",
     "output_type": "stream",
     "text": [
      "Elapsed [8:22:08.333690], G_step [139420/1000000], D_step[139420/1000000], d_out_real: 0.0632, d_out_fake: 0.0000, g_loss_fake: 1.0873\r\n"
     ]
    },
    {
     "name": "stdout",
     "output_type": "stream",
     "text": [
      "Elapsed [8:22:18.937622], G_step [139430/1000000], D_step[139430/1000000], d_out_real: 0.0000, d_out_fake: 0.1146, g_loss_fake: 0.9360\r\n"
     ]
    },
    {
     "name": "stdout",
     "output_type": "stream",
     "text": [
      "Elapsed [8:22:29.627416], G_step [139440/1000000], D_step[139440/1000000], d_out_real: 0.0628, d_out_fake: 0.0655, g_loss_fake: 1.0129\r\n"
     ]
    },
    {
     "name": "stdout",
     "output_type": "stream",
     "text": [
      "Elapsed [8:22:41.815873], G_step [139450/1000000], D_step[139450/1000000], d_out_real: 0.0657, d_out_fake: 0.0000, g_loss_fake: 1.1014\r\n"
     ]
    },
    {
     "name": "stdout",
     "output_type": "stream",
     "text": [
      "Elapsed [8:22:52.633454], G_step [139460/1000000], D_step[139460/1000000], d_out_real: 0.1277, d_out_fake: 0.0768, g_loss_fake: 1.0733\r\n"
     ]
    },
    {
     "name": "stdout",
     "output_type": "stream",
     "text": [
      "Elapsed [8:23:03.220346], G_step [139470/1000000], D_step[139470/1000000], d_out_real: 0.1178, d_out_fake: 0.0000, g_loss_fake: 0.9402\r\n"
     ]
    },
    {
     "name": "stdout",
     "output_type": "stream",
     "text": [
      "Elapsed [8:23:13.939831], G_step [139480/1000000], D_step[139480/1000000], d_out_real: 0.0764, d_out_fake: 0.1401, g_loss_fake: 1.0103\r\n"
     ]
    },
    {
     "name": "stdout",
     "output_type": "stream",
     "text": [
      "Elapsed [8:23:25.427034], G_step [139490/1000000], D_step[139490/1000000], d_out_real: 0.1265, d_out_fake: 0.0007, g_loss_fake: 1.0143\r\n"
     ]
    },
    {
     "name": "stdout",
     "output_type": "stream",
     "text": [
      "Elapsed [8:23:38.093943], G_step [139500/1000000], D_step[139500/1000000], d_out_real: 0.0923, d_out_fake: 0.0310, g_loss_fake: 1.0634\r\n"
     ]
    },
    {
     "name": "stdout",
     "output_type": "stream",
     "text": [
      "Elapsed [8:23:49.361730], G_step [139510/1000000], D_step[139510/1000000], d_out_real: 0.0917, d_out_fake: 0.0629, g_loss_fake: 1.1169\r\n"
     ]
    },
    {
     "name": "stdout",
     "output_type": "stream",
     "text": [
      "Elapsed [8:24:00.242392], G_step [139520/1000000], D_step[139520/1000000], d_out_real: 0.0032, d_out_fake: 0.0010, g_loss_fake: 0.9900\r\n"
     ]
    },
    {
     "name": "stdout",
     "output_type": "stream",
     "text": [
      "Elapsed [8:24:11.231352], G_step [139530/1000000], D_step[139530/1000000], d_out_real: 0.0649, d_out_fake: 0.0000, g_loss_fake: 1.1116\r\n"
     ]
    },
    {
     "name": "stdout",
     "output_type": "stream",
     "text": [
      "Elapsed [8:24:23.200520], G_step [139540/1000000], D_step[139540/1000000], d_out_real: 0.0093, d_out_fake: 0.0487, g_loss_fake: 1.1320\r\n"
     ]
    },
    {
     "name": "stdout",
     "output_type": "stream",
     "text": [
      "Elapsed [8:24:34.503062], G_step [139550/1000000], D_step[139550/1000000], d_out_real: 0.1272, d_out_fake: 0.0000, g_loss_fake: 1.1541\r\n"
     ]
    },
    {
     "name": "stdout",
     "output_type": "stream",
     "text": [
      "Elapsed [8:24:45.290477], G_step [139560/1000000], D_step[139560/1000000], d_out_real: 0.0638, d_out_fake: 0.1012, g_loss_fake: 1.0491\r\n"
     ]
    },
    {
     "name": "stdout",
     "output_type": "stream",
     "text": [
      "Elapsed [8:24:56.445265], G_step [139570/1000000], D_step[139570/1000000], d_out_real: 0.0000, d_out_fake: 0.0000, g_loss_fake: 1.1261\r\n"
     ]
    },
    {
     "name": "stdout",
     "output_type": "stream",
     "text": [
      "Elapsed [8:25:07.153508], G_step [139580/1000000], D_step[139580/1000000], d_out_real: 0.0811, d_out_fake: 0.0728, g_loss_fake: 0.9071\r\n"
     ]
    },
    {
     "name": "stdout",
     "output_type": "stream",
     "text": [
      "Elapsed [8:25:18.006743], G_step [139590/1000000], D_step[139590/1000000], d_out_real: 0.0000, d_out_fake: 0.0000, g_loss_fake: 1.1000\r\n"
     ]
    },
    {
     "name": "stdout",
     "output_type": "stream",
     "text": [
      "Elapsed [8:25:29.506927], G_step [139600/1000000], D_step[139600/1000000], d_out_real: 0.0084, d_out_fake: 0.0000, g_loss_fake: 1.0456\r\n"
     ]
    },
    {
     "name": "stdout",
     "output_type": "stream",
     "text": [
      "Elapsed [8:25:40.505822], G_step [139610/1000000], D_step[139610/1000000], d_out_real: 0.0049, d_out_fake: 0.0162, g_loss_fake: 1.0534\r\n"
     ]
    },
    {
     "name": "stdout",
     "output_type": "stream",
     "text": [
      "Elapsed [8:25:51.085546], G_step [139620/1000000], D_step[139620/1000000], d_out_real: 0.1177, d_out_fake: 0.0613, g_loss_fake: 1.0609\r\n"
     ]
    },
    {
     "name": "stdout",
     "output_type": "stream",
     "text": [
      "Elapsed [8:26:02.496092], G_step [139630/1000000], D_step[139630/1000000], d_out_real: 0.0622, d_out_fake: 0.0104, g_loss_fake: 1.1901\r\n"
     ]
    },
    {
     "name": "stdout",
     "output_type": "stream",
     "text": [
      "Elapsed [8:26:13.808423], G_step [139640/1000000], D_step[139640/1000000], d_out_real: 0.2476, d_out_fake: 0.0290, g_loss_fake: 1.1035\r\n"
     ]
    },
    {
     "name": "stdout",
     "output_type": "stream",
     "text": [
      "Elapsed [8:26:24.495932], G_step [139650/1000000], D_step[139650/1000000], d_out_real: 0.0637, d_out_fake: 0.0000, g_loss_fake: 1.0380\r\n"
     ]
    },
    {
     "name": "stdout",
     "output_type": "stream",
     "text": [
      "Elapsed [8:26:35.373034], G_step [139660/1000000], D_step[139660/1000000], d_out_real: 0.0503, d_out_fake: 0.0636, g_loss_fake: 0.9395\r\n"
     ]
    },
    {
     "name": "stdout",
     "output_type": "stream",
     "text": [
      "Elapsed [8:26:46.040105], G_step [139670/1000000], D_step[139670/1000000], d_out_real: 0.1668, d_out_fake: 0.0071, g_loss_fake: 1.0173\r\n"
     ]
    },
    {
     "name": "stdout",
     "output_type": "stream",
     "text": [
      "Elapsed [8:26:57.073377], G_step [139680/1000000], D_step[139680/1000000], d_out_real: 0.2551, d_out_fake: 0.0551, g_loss_fake: 1.0444\r\n"
     ]
    },
    {
     "name": "stdout",
     "output_type": "stream",
     "text": [
      "Elapsed [8:27:08.119829], G_step [139690/1000000], D_step[139690/1000000], d_out_real: 0.0000, d_out_fake: 0.0925, g_loss_fake: 1.0977\r\n"
     ]
    },
    {
     "name": "stdout",
     "output_type": "stream",
     "text": [
      "Elapsed [8:27:19.328547], G_step [139700/1000000], D_step[139700/1000000], d_out_real: 0.0645, d_out_fake: 0.0119, g_loss_fake: 1.0762\r\n"
     ]
    },
    {
     "name": "stdout",
     "output_type": "stream",
     "text": [
      "Elapsed [8:27:30.163772], G_step [139710/1000000], D_step[139710/1000000], d_out_real: 0.0000, d_out_fake: 0.0128, g_loss_fake: 1.1123\r\n"
     ]
    },
    {
     "name": "stdout",
     "output_type": "stream",
     "text": [
      "Elapsed [8:27:41.486196], G_step [139720/1000000], D_step[139720/1000000], d_out_real: 0.0256, d_out_fake: 0.0000, g_loss_fake: 1.0607\r\n"
     ]
    },
    {
     "name": "stdout",
     "output_type": "stream",
     "text": [
      "Elapsed [8:27:52.268559], G_step [139730/1000000], D_step[139730/1000000], d_out_real: 0.0639, d_out_fake: 0.0664, g_loss_fake: 1.0273\r\n"
     ]
    },
    {
     "name": "stdout",
     "output_type": "stream",
     "text": [
      "Elapsed [8:28:02.984248], G_step [139740/1000000], D_step[139740/1000000], d_out_real: 0.0625, d_out_fake: 0.0462, g_loss_fake: 0.9186\r\n"
     ]
    },
    {
     "name": "stdout",
     "output_type": "stream",
     "text": [
      "Elapsed [8:28:14.530253], G_step [139750/1000000], D_step[139750/1000000], d_out_real: 0.0000, d_out_fake: 0.0496, g_loss_fake: 1.0183\r\n"
     ]
    },
    {
     "name": "stdout",
     "output_type": "stream",
     "text": [
      "Elapsed [8:28:25.518158], G_step [139760/1000000], D_step[139760/1000000], d_out_real: 0.0000, d_out_fake: 0.0000, g_loss_fake: 1.0672\r\n"
     ]
    },
    {
     "name": "stdout",
     "output_type": "stream",
     "text": [
      "Elapsed [8:28:36.531229], G_step [139770/1000000], D_step[139770/1000000], d_out_real: 0.0384, d_out_fake: 0.0618, g_loss_fake: 0.9773\r\n"
     ]
    },
    {
     "name": "stdout",
     "output_type": "stream",
     "text": [
      "Elapsed [8:28:47.475590], G_step [139780/1000000], D_step[139780/1000000], d_out_real: 0.0206, d_out_fake: 0.0712, g_loss_fake: 1.0913\r\n"
     ]
    },
    {
     "name": "stdout",
     "output_type": "stream",
     "text": [
      "Elapsed [8:28:59.379053], G_step [139790/1000000], D_step[139790/1000000], d_out_real: 0.0310, d_out_fake: 0.0079, g_loss_fake: 1.1021\r\n"
     ]
    },
    {
     "name": "stdout",
     "output_type": "stream",
     "text": [
      "Elapsed [8:29:10.169433], G_step [139800/1000000], D_step[139800/1000000], d_out_real: 0.0350, d_out_fake: 0.1113, g_loss_fake: 1.0494\r\n"
     ]
    },
    {
     "name": "stdout",
     "output_type": "stream",
     "text": [
      "Elapsed [8:29:20.759085], G_step [139810/1000000], D_step[139810/1000000], d_out_real: 0.1521, d_out_fake: 0.0000, g_loss_fake: 0.8220\r\n"
     ]
    },
    {
     "name": "stdout",
     "output_type": "stream",
     "text": [
      "Elapsed [8:29:31.507207], G_step [139820/1000000], D_step[139820/1000000], d_out_real: 0.0000, d_out_fake: 0.0535, g_loss_fake: 0.9245\r\n"
     ]
    },
    {
     "name": "stdout",
     "output_type": "stream",
     "text": [
      "Elapsed [8:29:42.329256], G_step [139830/1000000], D_step[139830/1000000], d_out_real: 0.0000, d_out_fake: 0.0000, g_loss_fake: 1.0900\r\n"
     ]
    },
    {
     "name": "stdout",
     "output_type": "stream",
     "text": [
      "Elapsed [8:29:53.382579], G_step [139840/1000000], D_step[139840/1000000], d_out_real: 0.0212, d_out_fake: 0.0052, g_loss_fake: 1.1060\r\n"
     ]
    },
    {
     "name": "stdout",
     "output_type": "stream",
     "text": [
      "Elapsed [8:30:04.429906], G_step [139850/1000000], D_step[139850/1000000], d_out_real: 0.0640, d_out_fake: 0.0202, g_loss_fake: 1.0801\r\n"
     ]
    },
    {
     "name": "stdout",
     "output_type": "stream",
     "text": [
      "Elapsed [8:30:15.313193], G_step [139860/1000000], D_step[139860/1000000], d_out_real: 0.0183, d_out_fake: 0.0000, g_loss_fake: 0.8591\r\n"
     ]
    },
    {
     "name": "stdout",
     "output_type": "stream",
     "text": [
      "Elapsed [8:30:26.738245], G_step [139870/1000000], D_step[139870/1000000], d_out_real: 0.1503, d_out_fake: 0.0000, g_loss_fake: 0.9458\r\n"
     ]
    },
    {
     "name": "stdout",
     "output_type": "stream",
     "text": [
      "Elapsed [8:30:38.555556], G_step [139880/1000000], D_step[139880/1000000], d_out_real: 0.0000, d_out_fake: 0.0080, g_loss_fake: 1.1236\r\n"
     ]
    },
    {
     "name": "stdout",
     "output_type": "stream",
     "text": [
      "Elapsed [8:30:49.869714], G_step [139890/1000000], D_step[139890/1000000], d_out_real: 0.0696, d_out_fake: 0.0006, g_loss_fake: 1.1452\r\n"
     ]
    },
    {
     "name": "stdout",
     "output_type": "stream",
     "text": [
      "Elapsed [8:31:00.664955], G_step [139900/1000000], D_step[139900/1000000], d_out_real: 0.0644, d_out_fake: 0.0841, g_loss_fake: 1.1067\r\n"
     ]
    },
    {
     "name": "stdout",
     "output_type": "stream",
     "text": [
      "Elapsed [8:31:11.234456], G_step [139910/1000000], D_step[139910/1000000], d_out_real: 0.0000, d_out_fake: 0.0994, g_loss_fake: 1.1604\r\n"
     ]
    },
    {
     "name": "stdout",
     "output_type": "stream",
     "text": [
      "Elapsed [8:31:22.338321], G_step [139920/1000000], D_step[139920/1000000], d_out_real: 0.0663, d_out_fake: 0.0000, g_loss_fake: 1.1161\r\n"
     ]
    },
    {
     "name": "stdout",
     "output_type": "stream",
     "text": [
      "Elapsed [8:31:33.040140], G_step [139930/1000000], D_step[139930/1000000], d_out_real: 0.0689, d_out_fake: 0.0056, g_loss_fake: 0.9955\r\n"
     ]
    },
    {
     "name": "stdout",
     "output_type": "stream",
     "text": [
      "Elapsed [8:31:44.185668], G_step [139940/1000000], D_step[139940/1000000], d_out_real: 0.1184, d_out_fake: 0.0000, g_loss_fake: 1.0832\r\n"
     ]
    },
    {
     "name": "stdout",
     "output_type": "stream",
     "text": [
      "Elapsed [8:31:55.002185], G_step [139950/1000000], D_step[139950/1000000], d_out_real: 0.0633, d_out_fake: 0.0518, g_loss_fake: 1.0685\r\n"
     ]
    },
    {
     "name": "stdout",
     "output_type": "stream",
     "text": [
      "Elapsed [8:32:07.201642], G_step [139960/1000000], D_step[139960/1000000], d_out_real: 0.0000, d_out_fake: 0.0381, g_loss_fake: 1.1612\r\n"
     ]
    },
    {
     "name": "stdout",
     "output_type": "stream",
     "text": [
      "Elapsed [8:32:18.687396], G_step [139970/1000000], D_step[139970/1000000], d_out_real: 0.1133, d_out_fake: 0.0622, g_loss_fake: 1.0931\r\n"
     ]
    },
    {
     "name": "stdout",
     "output_type": "stream",
     "text": [
      "Elapsed [8:32:29.704736], G_step [139980/1000000], D_step[139980/1000000], d_out_real: 0.0000, d_out_fake: 0.0001, g_loss_fake: 1.0979\r\n"
     ]
    },
    {
     "name": "stdout",
     "output_type": "stream",
     "text": [
      "Elapsed [8:32:40.452055], G_step [139990/1000000], D_step[139990/1000000], d_out_real: 0.0665, d_out_fake: 0.0000, g_loss_fake: 0.9359\r\n"
     ]
    },
    {
     "name": "stdout",
     "output_type": "stream",
     "text": [
      "Elapsed [8:32:51.394706], G_step [140000/1000000], D_step[140000/1000000], d_out_real: 0.0000, d_out_fake: 0.0000, g_loss_fake: 1.1898\r\n",
      "Sample images 140000_fake.png\r\n"
     ]
    },
    {
     "name": "stdout",
     "output_type": "stream",
     "text": [
      "Elapsed [8:33:02.643481], G_step [140010/1000000], D_step[140010/1000000], d_out_real: 0.1299, d_out_fake: 0.0917, g_loss_fake: 1.1373\r\n"
     ]
    },
    {
     "name": "stdout",
     "output_type": "stream",
     "text": [
      "Elapsed [8:33:13.580748], G_step [140020/1000000], D_step[140020/1000000], d_out_real: 0.0675, d_out_fake: 0.0000, g_loss_fake: 1.0552\r\n"
     ]
    },
    {
     "name": "stdout",
     "output_type": "stream",
     "text": [
      "Elapsed [8:33:24.723881], G_step [140030/1000000], D_step[140030/1000000], d_out_real: 0.0631, d_out_fake: 0.0724, g_loss_fake: 1.0891\r\n"
     ]
    },
    {
     "name": "stdout",
     "output_type": "stream",
     "text": [
      "Elapsed [8:33:35.861228], G_step [140040/1000000], D_step[140040/1000000], d_out_real: 0.1570, d_out_fake: 0.0000, g_loss_fake: 1.1113\r\n"
     ]
    },
    {
     "name": "stdout",
     "output_type": "stream",
     "text": [
      "Elapsed [8:33:46.980934], G_step [140050/1000000], D_step[140050/1000000], d_out_real: 0.0119, d_out_fake: 0.0009, g_loss_fake: 1.1045\r\n"
     ]
    },
    {
     "name": "stdout",
     "output_type": "stream",
     "text": [
      "Elapsed [8:33:57.704937], G_step [140060/1000000], D_step[140060/1000000], d_out_real: 0.0000, d_out_fake: 0.0000, g_loss_fake: 1.0988\r\n"
     ]
    },
    {
     "name": "stdout",
     "output_type": "stream",
     "text": [
      "Elapsed [8:34:08.420157], G_step [140070/1000000], D_step[140070/1000000], d_out_real: 0.0701, d_out_fake: 0.0165, g_loss_fake: 1.1704\r\n"
     ]
    },
    {
     "name": "stdout",
     "output_type": "stream",
     "text": [
      "Elapsed [8:34:19.855138], G_step [140080/1000000], D_step[140080/1000000], d_out_real: 0.0644, d_out_fake: 0.0000, g_loss_fake: 1.1010\r\n"
     ]
    },
    {
     "name": "stdout",
     "output_type": "stream",
     "text": [
      "Elapsed [8:34:31.393608], G_step [140090/1000000], D_step[140090/1000000], d_out_real: 0.1835, d_out_fake: 0.0000, g_loss_fake: 0.9803\r\n"
     ]
    },
    {
     "name": "stdout",
     "output_type": "stream",
     "text": [
      "Elapsed [8:34:42.790020], G_step [140100/1000000], D_step[140100/1000000], d_out_real: 0.0000, d_out_fake: 0.0173, g_loss_fake: 1.1267\r\n"
     ]
    },
    {
     "name": "stdout",
     "output_type": "stream",
     "text": [
      "Elapsed [8:34:54.917010], G_step [140110/1000000], D_step[140110/1000000], d_out_real: 0.0000, d_out_fake: 0.0847, g_loss_fake: 1.2028\r\n"
     ]
    },
    {
     "name": "stdout",
     "output_type": "stream",
     "text": [
      "Elapsed [8:35:05.707835], G_step [140120/1000000], D_step[140120/1000000], d_out_real: 0.1137, d_out_fake: 0.0039, g_loss_fake: 0.8779\r\n"
     ]
    },
    {
     "name": "stdout",
     "output_type": "stream",
     "text": [
      "Elapsed [8:35:16.254437], G_step [140130/1000000], D_step[140130/1000000], d_out_real: 0.0578, d_out_fake: 0.0000, g_loss_fake: 1.0352\r\n"
     ]
    },
    {
     "name": "stdout",
     "output_type": "stream",
     "text": [
      "Elapsed [8:35:27.674594], G_step [140140/1000000], D_step[140140/1000000], d_out_real: 0.0679, d_out_fake: 0.0012, g_loss_fake: 1.0636\r\n"
     ]
    },
    {
     "name": "stdout",
     "output_type": "stream",
     "text": [
      "Elapsed [8:35:38.200358], G_step [140150/1000000], D_step[140150/1000000], d_out_real: 0.0420, d_out_fake: 0.0002, g_loss_fake: 1.0889\r\n"
     ]
    },
    {
     "name": "stdout",
     "output_type": "stream",
     "text": [
      "Elapsed [8:35:49.097342], G_step [140160/1000000], D_step[140160/1000000], d_out_real: 0.1275, d_out_fake: 0.0646, g_loss_fake: 0.9171\r\n"
     ]
    },
    {
     "name": "stdout",
     "output_type": "stream",
     "text": [
      "Elapsed [8:35:59.932741], G_step [140170/1000000], D_step[140170/1000000], d_out_real: 0.0000, d_out_fake: 0.0766, g_loss_fake: 1.0058\r\n"
     ]
    },
    {
     "name": "stdout",
     "output_type": "stream",
     "text": [
      "Elapsed [8:36:10.647876], G_step [140180/1000000], D_step[140180/1000000], d_out_real: 0.0711, d_out_fake: 0.0000, g_loss_fake: 1.1175\r\n"
     ]
    },
    {
     "name": "stdout",
     "output_type": "stream",
     "text": [
      "Elapsed [8:36:21.848520], G_step [140190/1000000], D_step[140190/1000000], d_out_real: 0.0035, d_out_fake: 0.1458, g_loss_fake: 1.1099\r\n"
     ]
    },
    {
     "name": "stdout",
     "output_type": "stream",
     "text": [
      "Elapsed [8:36:33.603037], G_step [140200/1000000], D_step[140200/1000000], d_out_real: 0.1297, d_out_fake: 0.0013, g_loss_fake: 0.9830\r\n"
     ]
    },
    {
     "name": "stdout",
     "output_type": "stream",
     "text": [
      "Elapsed [8:36:45.344220], G_step [140210/1000000], D_step[140210/1000000], d_out_real: 0.0556, d_out_fake: 0.0001, g_loss_fake: 1.0579\r\n"
     ]
    },
    {
     "name": "stdout",
     "output_type": "stream",
     "text": [
      "Elapsed [8:36:55.983131], G_step [140220/1000000], D_step[140220/1000000], d_out_real: 0.0658, d_out_fake: 0.3418, g_loss_fake: 1.1011\r\n"
     ]
    },
    {
     "name": "stdout",
     "output_type": "stream",
     "text": [
      "Elapsed [8:37:07.157539], G_step [140230/1000000], D_step[140230/1000000], d_out_real: 0.0551, d_out_fake: 0.0000, g_loss_fake: 1.0663\r\n"
     ]
    },
    {
     "name": "stdout",
     "output_type": "stream",
     "text": [
      "Elapsed [8:37:17.876124], G_step [140240/1000000], D_step[140240/1000000], d_out_real: 0.0622, d_out_fake: 0.0633, g_loss_fake: 0.9259\r\n"
     ]
    },
    {
     "name": "stdout",
     "output_type": "stream",
     "text": [
      "Elapsed [8:37:29.121636], G_step [140250/1000000], D_step[140250/1000000], d_out_real: 0.1552, d_out_fake: 0.0000, g_loss_fake: 0.9984\r\n"
     ]
    },
    {
     "name": "stdout",
     "output_type": "stream",
     "text": [
      "Elapsed [8:37:39.783499], G_step [140260/1000000], D_step[140260/1000000], d_out_real: 0.1260, d_out_fake: 0.0078, g_loss_fake: 1.0850\r\n"
     ]
    },
    {
     "name": "stdout",
     "output_type": "stream",
     "text": [
      "Elapsed [8:37:50.378928], G_step [140270/1000000], D_step[140270/1000000], d_out_real: 0.0634, d_out_fake: 0.0014, g_loss_fake: 1.0490\r\n"
     ]
    },
    {
     "name": "stdout",
     "output_type": "stream",
     "text": [
      "Elapsed [8:38:01.414099], G_step [140280/1000000], D_step[140280/1000000], d_out_real: 0.0000, d_out_fake: 0.0000, g_loss_fake: 1.1136\r\n"
     ]
    },
    {
     "name": "stdout",
     "output_type": "stream",
     "text": [
      "Elapsed [8:38:13.167252], G_step [140290/1000000], D_step[140290/1000000], d_out_real: 0.0645, d_out_fake: 0.0674, g_loss_fake: 1.1377\r\n"
     ]
    },
    {
     "name": "stdout",
     "output_type": "stream",
     "text": [
      "Elapsed [8:38:23.781038], G_step [140300/1000000], D_step[140300/1000000], d_out_real: 0.0018, d_out_fake: 0.0000, g_loss_fake: 1.0016\r\n"
     ]
    },
    {
     "name": "stdout",
     "output_type": "stream",
     "text": [
      "Elapsed [8:38:34.900441], G_step [140310/1000000], D_step[140310/1000000], d_out_real: 0.1883, d_out_fake: 0.0000, g_loss_fake: 1.0309\r\n"
     ]
    },
    {
     "name": "stdout",
     "output_type": "stream",
     "text": [
      "Elapsed [8:38:45.625854], G_step [140320/1000000], D_step[140320/1000000], d_out_real: 0.0400, d_out_fake: 0.1513, g_loss_fake: 1.1008\r\n"
     ]
    },
    {
     "name": "stdout",
     "output_type": "stream",
     "text": [
      "Elapsed [8:38:56.168560], G_step [140330/1000000], D_step[140330/1000000], d_out_real: 0.0604, d_out_fake: 0.0000, g_loss_fake: 0.9712\r\n"
     ]
    },
    {
     "name": "stdout",
     "output_type": "stream",
     "text": [
      "Elapsed [8:39:07.273955], G_step [140340/1000000], D_step[140340/1000000], d_out_real: 0.0000, d_out_fake: 0.0000, g_loss_fake: 1.1678\r\n"
     ]
    },
    {
     "name": "stdout",
     "output_type": "stream",
     "text": [
      "Elapsed [8:39:17.969662], G_step [140350/1000000], D_step[140350/1000000], d_out_real: 0.2282, d_out_fake: 0.0000, g_loss_fake: 0.9854\r\n"
     ]
    },
    {
     "name": "stdout",
     "output_type": "stream",
     "text": [
      "Elapsed [8:39:28.767838], G_step [140360/1000000], D_step[140360/1000000], d_out_real: 0.0000, d_out_fake: 0.0004, g_loss_fake: 1.0955\r\n"
     ]
    },
    {
     "name": "stdout",
     "output_type": "stream",
     "text": [
      "Elapsed [8:39:39.557211], G_step [140370/1000000], D_step[140370/1000000], d_out_real: 0.0904, d_out_fake: 0.0000, g_loss_fake: 1.0696\r\n"
     ]
    },
    {
     "name": "stdout",
     "output_type": "stream",
     "text": [
      "Elapsed [8:39:50.622357], G_step [140380/1000000], D_step[140380/1000000], d_out_real: 0.0000, d_out_fake: 0.0597, g_loss_fake: 1.0914\r\n"
     ]
    },
    {
     "name": "stdout",
     "output_type": "stream",
     "text": [
      "Elapsed [8:40:02.033663], G_step [140390/1000000], D_step[140390/1000000], d_out_real: 0.1282, d_out_fake: 0.0000, g_loss_fake: 0.9645\r\n"
     ]
    },
    {
     "name": "stdout",
     "output_type": "stream",
     "text": [
      "Elapsed [8:40:13.191046], G_step [140400/1000000], D_step[140400/1000000], d_out_real: 0.0000, d_out_fake: 0.0546, g_loss_fake: 1.1425\r\n"
     ]
    },
    {
     "name": "stdout",
     "output_type": "stream",
     "text": [
      "Elapsed [8:40:24.109433], G_step [140410/1000000], D_step[140410/1000000], d_out_real: 0.0664, d_out_fake: 0.0000, g_loss_fake: 1.0580\r\n"
     ]
    },
    {
     "name": "stdout",
     "output_type": "stream",
     "text": [
      "Elapsed [8:40:35.027201], G_step [140420/1000000], D_step[140420/1000000], d_out_real: 0.2762, d_out_fake: 0.0000, g_loss_fake: 0.9683\r\n"
     ]
    },
    {
     "name": "stdout",
     "output_type": "stream",
     "text": [
      "Elapsed [8:40:46.325177], G_step [140430/1000000], D_step[140430/1000000], d_out_real: 0.0924, d_out_fake: 0.0000, g_loss_fake: 1.0012\r\n"
     ]
    },
    {
     "name": "stdout",
     "output_type": "stream",
     "text": [
      "Elapsed [8:40:56.961853], G_step [140440/1000000], D_step[140440/1000000], d_out_real: 0.0651, d_out_fake: 0.0327, g_loss_fake: 1.0389\r\n"
     ]
    },
    {
     "name": "stdout",
     "output_type": "stream",
     "text": [
      "Elapsed [8:41:08.248510], G_step [140450/1000000], D_step[140450/1000000], d_out_real: 0.0000, d_out_fake: 0.0984, g_loss_fake: 1.0454\r\n"
     ]
    },
    {
     "name": "stdout",
     "output_type": "stream",
     "text": [
      "Elapsed [8:41:19.721687], G_step [140460/1000000], D_step[140460/1000000], d_out_real: 0.0052, d_out_fake: 0.0000, g_loss_fake: 1.0753\r\n"
     ]
    },
    {
     "name": "stdout",
     "output_type": "stream",
     "text": [
      "Elapsed [8:41:30.759704], G_step [140470/1000000], D_step[140470/1000000], d_out_real: 0.0000, d_out_fake: 0.0103, g_loss_fake: 1.1249\r\n"
     ]
    },
    {
     "name": "stdout",
     "output_type": "stream",
     "text": [
      "Elapsed [8:41:42.060444], G_step [140480/1000000], D_step[140480/1000000], d_out_real: 0.0637, d_out_fake: 0.0000, g_loss_fake: 1.1399\r\n"
     ]
    },
    {
     "name": "stdout",
     "output_type": "stream",
     "text": [
      "Elapsed [8:41:52.809909], G_step [140490/1000000], D_step[140490/1000000], d_out_real: 0.0652, d_out_fake: 0.0000, g_loss_fake: 1.0832\r\n"
     ]
    },
    {
     "name": "stdout",
     "output_type": "stream",
     "text": [
      "Elapsed [8:42:03.395927], G_step [140500/1000000], D_step[140500/1000000], d_out_real: 0.1223, d_out_fake: 0.0699, g_loss_fake: 0.9506\r\n"
     ]
    },
    {
     "name": "stdout",
     "output_type": "stream",
     "text": [
      "Elapsed [8:42:14.321717], G_step [140510/1000000], D_step[140510/1000000], d_out_real: 0.0635, d_out_fake: 0.0000, g_loss_fake: 1.0993\r\n"
     ]
    },
    {
     "name": "stdout",
     "output_type": "stream",
     "text": [
      "Elapsed [8:42:25.992649], G_step [140520/1000000], D_step[140520/1000000], d_out_real: 0.0000, d_out_fake: 0.0000, g_loss_fake: 1.1685\r\n"
     ]
    },
    {
     "name": "stdout",
     "output_type": "stream",
     "text": [
      "Elapsed [8:42:36.731722], G_step [140530/1000000], D_step[140530/1000000], d_out_real: 0.0236, d_out_fake: 0.0000, g_loss_fake: 1.0492\r\n"
     ]
    },
    {
     "name": "stdout",
     "output_type": "stream",
     "text": [
      "Elapsed [8:42:47.902393], G_step [140540/1000000], D_step[140540/1000000], d_out_real: 0.0000, d_out_fake: 0.1518, g_loss_fake: 0.9855\r\n"
     ]
    },
    {
     "name": "stdout",
     "output_type": "stream",
     "text": [
      "Elapsed [8:42:59.406603], G_step [140550/1000000], D_step[140550/1000000], d_out_real: 0.0000, d_out_fake: 0.0000, g_loss_fake: 0.9978\r\n"
     ]
    },
    {
     "name": "stdout",
     "output_type": "stream",
     "text": [
      "Elapsed [8:43:10.455920], G_step [140560/1000000], D_step[140560/1000000], d_out_real: 0.0642, d_out_fake: 0.0647, g_loss_fake: 1.1085\r\n"
     ]
    },
    {
     "name": "stdout",
     "output_type": "stream",
     "text": [
      "Elapsed [8:43:22.580781], G_step [140570/1000000], D_step[140570/1000000], d_out_real: 0.0005, d_out_fake: 0.0705, g_loss_fake: 1.1168\r\n"
     ]
    },
    {
     "name": "stdout",
     "output_type": "stream",
     "text": [
      "Elapsed [8:43:33.206126], G_step [140580/1000000], D_step[140580/1000000], d_out_real: 0.0000, d_out_fake: 0.0043, g_loss_fake: 1.0919\r\n",
      "save torch\r\n"
     ]
    },
    {
     "name": "stdout",
     "output_type": "stream",
     "text": [
      "Elapsed [8:43:44.238696], G_step [140590/1000000], D_step[140590/1000000], d_out_real: 0.1906, d_out_fake: 0.0000, g_loss_fake: 1.0274\r\n"
     ]
    },
    {
     "name": "stdout",
     "output_type": "stream",
     "text": [
      "Elapsed [8:43:55.443080], G_step [140600/1000000], D_step[140600/1000000], d_out_real: 0.0669, d_out_fake: 0.0031, g_loss_fake: 1.1253\r\n"
     ]
    },
    {
     "name": "stdout",
     "output_type": "stream",
     "text": [
      "Elapsed [8:44:06.012705], G_step [140610/1000000], D_step[140610/1000000], d_out_real: 0.0772, d_out_fake: 0.1020, g_loss_fake: 1.1097\r\n"
     ]
    },
    {
     "name": "stdout",
     "output_type": "stream",
     "text": [
      "Elapsed [8:44:16.742755], G_step [140620/1000000], D_step[140620/1000000], d_out_real: 0.1328, d_out_fake: 0.0000, g_loss_fake: 1.1704\r\n"
     ]
    },
    {
     "name": "stdout",
     "output_type": "stream",
     "text": [
      "Elapsed [8:44:28.049053], G_step [140630/1000000], D_step[140630/1000000], d_out_real: 0.0000, d_out_fake: 0.0885, g_loss_fake: 1.0913\r\n"
     ]
    },
    {
     "name": "stdout",
     "output_type": "stream",
     "text": [
      "Elapsed [8:44:38.738670], G_step [140640/1000000], D_step[140640/1000000], d_out_real: 0.0647, d_out_fake: 0.0000, g_loss_fake: 0.9533\r\n"
     ]
    },
    {
     "name": "stdout",
     "output_type": "stream",
     "text": [
      "Elapsed [8:44:49.812824], G_step [140650/1000000], D_step[140650/1000000], d_out_real: 0.0000, d_out_fake: 0.0000, g_loss_fake: 1.1182\r\n"
     ]
    },
    {
     "name": "stdout",
     "output_type": "stream",
     "text": [
      "Elapsed [8:45:00.424751], G_step [140660/1000000], D_step[140660/1000000], d_out_real: 0.1225, d_out_fake: 0.0000, g_loss_fake: 1.0447\r\n"
     ]
    },
    {
     "name": "stdout",
     "output_type": "stream",
     "text": [
      "Elapsed [8:45:11.440500], G_step [140670/1000000], D_step[140670/1000000], d_out_real: 0.1652, d_out_fake: 0.0010, g_loss_fake: 1.0353\r\n"
     ]
    },
    {
     "name": "stdout",
     "output_type": "stream",
     "text": [
      "Elapsed [8:45:22.515694], G_step [140680/1000000], D_step[140680/1000000], d_out_real: 0.1271, d_out_fake: 0.0000, g_loss_fake: 0.9223\r\n"
     ]
    },
    {
     "name": "stdout",
     "output_type": "stream",
     "text": [
      "Elapsed [8:45:33.203482], G_step [140690/1000000], D_step[140690/1000000], d_out_real: 0.1994, d_out_fake: 0.0012, g_loss_fake: 1.0553\r\n"
     ]
    },
    {
     "name": "stdout",
     "output_type": "stream",
     "text": [
      "Elapsed [8:45:43.786239], G_step [140700/1000000], D_step[140700/1000000], d_out_real: 0.0000, d_out_fake: 0.2361, g_loss_fake: 1.0268\r\n"
     ]
    },
    {
     "name": "stdout",
     "output_type": "stream",
     "text": [
      "Elapsed [8:45:54.840270], G_step [140710/1000000], D_step[140710/1000000], d_out_real: 0.0691, d_out_fake: 0.0000, g_loss_fake: 1.0855\r\n"
     ]
    },
    {
     "name": "stdout",
     "output_type": "stream",
     "text": [
      "Elapsed [8:46:05.748630], G_step [140720/1000000], D_step[140720/1000000], d_out_real: 0.0643, d_out_fake: 0.0112, g_loss_fake: 1.0768\r\n"
     ]
    },
    {
     "name": "stdout",
     "output_type": "stream",
     "text": [
      "Elapsed [8:46:17.130357], G_step [140730/1000000], D_step[140730/1000000], d_out_real: 0.1661, d_out_fake: 0.0011, g_loss_fake: 1.0444\r\n"
     ]
    },
    {
     "name": "stdout",
     "output_type": "stream",
     "text": [
      "Elapsed [8:46:28.038930], G_step [140740/1000000], D_step[140740/1000000], d_out_real: 0.0000, d_out_fake: 0.0612, g_loss_fake: 0.9872\r\n"
     ]
    },
    {
     "name": "stdout",
     "output_type": "stream",
     "text": [
      "Elapsed [8:46:39.009253], G_step [140750/1000000], D_step[140750/1000000], d_out_real: 0.0000, d_out_fake: 0.0625, g_loss_fake: 1.0949\r\n"
     ]
    },
    {
     "name": "stdout",
     "output_type": "stream",
     "text": [
      "Elapsed [8:46:50.216369], G_step [140760/1000000], D_step[140760/1000000], d_out_real: 0.0000, d_out_fake: 0.1320, g_loss_fake: 1.1420\r\n"
     ]
    },
    {
     "name": "stdout",
     "output_type": "stream",
     "text": [
      "Elapsed [8:47:01.130628], G_step [140770/1000000], D_step[140770/1000000], d_out_real: 0.0081, d_out_fake: 0.0004, g_loss_fake: 1.0718\r\n"
     ]
    },
    {
     "name": "stdout",
     "output_type": "stream",
     "text": [
      "Elapsed [8:47:12.156424], G_step [140780/1000000], D_step[140780/1000000], d_out_real: 0.0655, d_out_fake: 0.0582, g_loss_fake: 0.9837\r\n"
     ]
    },
    {
     "name": "stdout",
     "output_type": "stream",
     "text": [
      "Elapsed [8:47:23.031381], G_step [140790/1000000], D_step[140790/1000000], d_out_real: 0.1092, d_out_fake: 0.0017, g_loss_fake: 1.1003\r\n"
     ]
    },
    {
     "name": "stdout",
     "output_type": "stream",
     "text": [
      "Elapsed [8:47:34.767951], G_step [140800/1000000], D_step[140800/1000000], d_out_real: 0.1252, d_out_fake: 0.0609, g_loss_fake: 0.9806\r\n"
     ]
    },
    {
     "name": "stdout",
     "output_type": "stream",
     "text": [
      "Elapsed [8:47:45.827727], G_step [140810/1000000], D_step[140810/1000000], d_out_real: 0.1213, d_out_fake: 0.1092, g_loss_fake: 1.0669\r\n"
     ]
    },
    {
     "name": "stdout",
     "output_type": "stream",
     "text": [
      "Elapsed [8:47:56.956979], G_step [140820/1000000], D_step[140820/1000000], d_out_real: 0.0627, d_out_fake: 0.0000, g_loss_fake: 0.9828\r\n"
     ]
    },
    {
     "name": "stdout",
     "output_type": "stream",
     "text": [
      "Elapsed [8:48:08.106015], G_step [140830/1000000], D_step[140830/1000000], d_out_real: 0.0482, d_out_fake: 0.0000, g_loss_fake: 1.1283\r\n"
     ]
    },
    {
     "name": "stdout",
     "output_type": "stream",
     "text": [
      "Elapsed [8:48:19.374508], G_step [140840/1000000], D_step[140840/1000000], d_out_real: 0.0778, d_out_fake: 0.0000, g_loss_fake: 1.0749\r\n"
     ]
    },
    {
     "name": "stdout",
     "output_type": "stream",
     "text": [
      "Elapsed [8:48:30.329696], G_step [140850/1000000], D_step[140850/1000000], d_out_real: 0.0674, d_out_fake: 0.0044, g_loss_fake: 1.0779\r\n"
     ]
    },
    {
     "name": "stdout",
     "output_type": "stream",
     "text": [
      "Elapsed [8:48:41.946203], G_step [140860/1000000], D_step[140860/1000000], d_out_real: 0.1218, d_out_fake: 0.0000, g_loss_fake: 1.0339\r\n"
     ]
    },
    {
     "name": "stdout",
     "output_type": "stream",
     "text": [
      "Elapsed [8:48:52.693721], G_step [140870/1000000], D_step[140870/1000000], d_out_real: 0.0000, d_out_fake: 0.0620, g_loss_fake: 1.0306\r\n"
     ]
    },
    {
     "name": "stdout",
     "output_type": "stream",
     "text": [
      "Elapsed [8:49:04.165729], G_step [140880/1000000], D_step[140880/1000000], d_out_real: 0.0506, d_out_fake: 0.0003, g_loss_fake: 0.9860\r\n"
     ]
    },
    {
     "name": "stdout",
     "output_type": "stream",
     "text": [
      "Elapsed [8:49:15.163663], G_step [140890/1000000], D_step[140890/1000000], d_out_real: 0.0000, d_out_fake: 0.0193, g_loss_fake: 1.1793\r\n"
     ]
    },
    {
     "name": "stdout",
     "output_type": "stream",
     "text": [
      "Elapsed [8:49:26.293511], G_step [140900/1000000], D_step[140900/1000000], d_out_real: 0.0092, d_out_fake: 0.0000, g_loss_fake: 0.8387\r\n"
     ]
    },
    {
     "name": "stdout",
     "output_type": "stream",
     "text": [
      "Elapsed [8:49:37.507440], G_step [140910/1000000], D_step[140910/1000000], d_out_real: 0.0369, d_out_fake: 0.0056, g_loss_fake: 1.1151\r\n"
     ]
    },
    {
     "name": "stdout",
     "output_type": "stream",
     "text": [
      "Elapsed [8:49:48.639958], G_step [140920/1000000], D_step[140920/1000000], d_out_real: 0.0000, d_out_fake: 0.2120, g_loss_fake: 1.0960\r\n"
     ]
    },
    {
     "name": "stdout",
     "output_type": "stream",
     "text": [
      "Elapsed [8:49:59.249720], G_step [140930/1000000], D_step[140930/1000000], d_out_real: 0.0000, d_out_fake: 0.2595, g_loss_fake: 1.0726\r\n"
     ]
    },
    {
     "name": "stdout",
     "output_type": "stream",
     "text": [
      "Elapsed [8:50:10.789240], G_step [140940/1000000], D_step[140940/1000000], d_out_real: 0.0634, d_out_fake: 0.0134, g_loss_fake: 1.0629\r\n"
     ]
    },
    {
     "name": "stdout",
     "output_type": "stream",
     "text": [
      "Elapsed [8:50:21.644007], G_step [140950/1000000], D_step[140950/1000000], d_out_real: 0.1889, d_out_fake: 0.0000, g_loss_fake: 1.1468\r\n"
     ]
    },
    {
     "name": "stdout",
     "output_type": "stream",
     "text": [
      "Elapsed [8:50:32.864716], G_step [140960/1000000], D_step[140960/1000000], d_out_real: 0.0279, d_out_fake: 0.0706, g_loss_fake: 0.9613\r\n"
     ]
    },
    {
     "name": "stdout",
     "output_type": "stream",
     "text": [
      "Elapsed [8:50:44.187957], G_step [140970/1000000], D_step[140970/1000000], d_out_real: 0.1708, d_out_fake: 0.0000, g_loss_fake: 1.0906\r\n"
     ]
    },
    {
     "name": "stdout",
     "output_type": "stream",
     "text": [
      "Elapsed [8:50:55.589342], G_step [140980/1000000], D_step[140980/1000000], d_out_real: 0.0018, d_out_fake: 0.0000, g_loss_fake: 1.0392\r\n"
     ]
    },
    {
     "name": "stdout",
     "output_type": "stream",
     "text": [
      "Elapsed [8:51:07.362295], G_step [140990/1000000], D_step[140990/1000000], d_out_real: 0.0000, d_out_fake: 0.1436, g_loss_fake: 1.1560\r\n"
     ]
    },
    {
     "name": "stdout",
     "output_type": "stream",
     "text": [
      "Elapsed [8:51:18.204384], G_step [141000/1000000], D_step[141000/1000000], d_out_real: 0.1300, d_out_fake: 0.0000, g_loss_fake: 1.0769\r\n",
      "Sample images 141000_fake.png\r\n"
     ]
    },
    {
     "name": "stdout",
     "output_type": "stream",
     "text": [
      "Elapsed [8:51:29.526704], G_step [141010/1000000], D_step[141010/1000000], d_out_real: 0.0945, d_out_fake: 0.0000, g_loss_fake: 1.0588\r\n"
     ]
    },
    {
     "name": "stdout",
     "output_type": "stream",
     "text": [
      "Elapsed [8:51:40.248921], G_step [141020/1000000], D_step[141020/1000000], d_out_real: 0.0003, d_out_fake: 0.1434, g_loss_fake: 1.1410\r\n"
     ]
    },
    {
     "name": "stdout",
     "output_type": "stream",
     "text": [
      "Elapsed [8:51:51.281294], G_step [141030/1000000], D_step[141030/1000000], d_out_real: 0.1235, d_out_fake: 0.0000, g_loss_fake: 1.0338\r\n"
     ]
    },
    {
     "name": "stdout",
     "output_type": "stream",
     "text": [
      "Elapsed [8:52:02.583956], G_step [141040/1000000], D_step[141040/1000000], d_out_real: 0.0021, d_out_fake: 0.0002, g_loss_fake: 1.0639\r\n"
     ]
    },
    {
     "name": "stdout",
     "output_type": "stream",
     "text": [
      "Elapsed [8:52:14.653109], G_step [141050/1000000], D_step[141050/1000000], d_out_real: 0.1029, d_out_fake: 0.0000, g_loss_fake: 1.0368\r\n"
     ]
    },
    {
     "name": "stdout",
     "output_type": "stream",
     "text": [
      "Elapsed [8:52:25.337387], G_step [141060/1000000], D_step[141060/1000000], d_out_real: 0.0897, d_out_fake: 0.0000, g_loss_fake: 1.0458\r\n"
     ]
    },
    {
     "name": "stdout",
     "output_type": "stream",
     "text": [
      "Elapsed [8:52:36.691718], G_step [141070/1000000], D_step[141070/1000000], d_out_real: 0.1288, d_out_fake: 0.0000, g_loss_fake: 1.0664\r\n"
     ]
    },
    {
     "name": "stdout",
     "output_type": "stream",
     "text": [
      "Elapsed [8:52:48.269258], G_step [141080/1000000], D_step[141080/1000000], d_out_real: 0.0665, d_out_fake: 0.0026, g_loss_fake: 1.1286\r\n"
     ]
    },
    {
     "name": "stdout",
     "output_type": "stream",
     "text": [
      "Elapsed [8:52:59.486561], G_step [141090/1000000], D_step[141090/1000000], d_out_real: 0.0000, d_out_fake: 0.0046, g_loss_fake: 1.1197\r\n"
     ]
    },
    {
     "name": "stdout",
     "output_type": "stream",
     "text": [
      "Elapsed [8:53:10.374030], G_step [141100/1000000], D_step[141100/1000000], d_out_real: 0.0000, d_out_fake: 0.0000, g_loss_fake: 1.0336\r\n"
     ]
    },
    {
     "name": "stdout",
     "output_type": "stream",
     "text": [
      "Elapsed [8:53:21.652385], G_step [141110/1000000], D_step[141110/1000000], d_out_real: 0.0609, d_out_fake: 0.0034, g_loss_fake: 1.0050\r\n"
     ]
    },
    {
     "name": "stdout",
     "output_type": "stream",
     "text": [
      "Elapsed [8:53:32.660984], G_step [141120/1000000], D_step[141120/1000000], d_out_real: 0.0865, d_out_fake: 0.0040, g_loss_fake: 1.0644\r\n"
     ]
    },
    {
     "name": "stdout",
     "output_type": "stream",
     "text": [
      "Elapsed [8:53:43.645291], G_step [141130/1000000], D_step[141130/1000000], d_out_real: 0.2059, d_out_fake: 0.0000, g_loss_fake: 1.0459\r\n"
     ]
    },
    {
     "name": "stdout",
     "output_type": "stream",
     "text": [
      "Elapsed [8:53:54.610473], G_step [141140/1000000], D_step[141140/1000000], d_out_real: 0.0000, d_out_fake: 0.0004, g_loss_fake: 1.1380\r\n"
     ]
    },
    {
     "name": "stdout",
     "output_type": "stream",
     "text": [
      "Elapsed [8:54:05.199295], G_step [141150/1000000], D_step[141150/1000000], d_out_real: 0.0643, d_out_fake: 0.0000, g_loss_fake: 1.0152\r\n"
     ]
    },
    {
     "name": "stdout",
     "output_type": "stream",
     "text": [
      "Elapsed [8:54:16.881472], G_step [141160/1000000], D_step[141160/1000000], d_out_real: 0.0641, d_out_fake: 0.0000, g_loss_fake: 1.0528\r\n"
     ]
    },
    {
     "name": "stdout",
     "output_type": "stream",
     "text": [
      "Elapsed [8:54:28.859993], G_step [141170/1000000], D_step[141170/1000000], d_out_real: 0.0652, d_out_fake: 0.0000, g_loss_fake: 1.1127\r\n"
     ]
    },
    {
     "name": "stdout",
     "output_type": "stream",
     "text": [
      "Elapsed [8:54:40.165655], G_step [141180/1000000], D_step[141180/1000000], d_out_real: 0.0379, d_out_fake: 0.0000, g_loss_fake: 1.0776\r\n"
     ]
    },
    {
     "name": "stdout",
     "output_type": "stream",
     "text": [
      "Elapsed [8:54:51.046501], G_step [141190/1000000], D_step[141190/1000000], d_out_real: 0.0930, d_out_fake: 0.0000, g_loss_fake: 0.9818\r\n"
     ]
    },
    {
     "name": "stdout",
     "output_type": "stream",
     "text": [
      "Elapsed [8:55:01.660970], G_step [141200/1000000], D_step[141200/1000000], d_out_real: 0.0639, d_out_fake: 0.0000, g_loss_fake: 1.0402\r\n"
     ]
    },
    {
     "name": "stdout",
     "output_type": "stream",
     "text": [
      "Elapsed [8:55:12.595723], G_step [141210/1000000], D_step[141210/1000000], d_out_real: 0.0678, d_out_fake: 0.0419, g_loss_fake: 1.1492\r\n"
     ]
    },
    {
     "name": "stdout",
     "output_type": "stream",
     "text": [
      "Elapsed [8:55:23.565274], G_step [141220/1000000], D_step[141220/1000000], d_out_real: 0.0663, d_out_fake: 0.0000, g_loss_fake: 1.1008\r\n"
     ]
    },
    {
     "name": "stdout",
     "output_type": "stream",
     "text": [
      "Elapsed [8:55:34.579917], G_step [141230/1000000], D_step[141230/1000000], d_out_real: 0.1399, d_out_fake: 0.0767, g_loss_fake: 1.0521\r\n"
     ]
    },
    {
     "name": "stdout",
     "output_type": "stream",
     "text": [
      "Elapsed [8:55:45.131362], G_step [141240/1000000], D_step[141240/1000000], d_out_real: 0.1274, d_out_fake: 0.0787, g_loss_fake: 1.0581\r\n"
     ]
    },
    {
     "name": "stdout",
     "output_type": "stream",
     "text": [
      "Elapsed [8:55:56.198807], G_step [141250/1000000], D_step[141250/1000000], d_out_real: 0.1615, d_out_fake: 0.0580, g_loss_fake: 1.0827\r\n"
     ]
    },
    {
     "name": "stdout",
     "output_type": "stream",
     "text": [
      "Elapsed [8:56:06.900904], G_step [141260/1000000], D_step[141260/1000000], d_out_real: 0.1306, d_out_fake: 0.0612, g_loss_fake: 0.9971\r\n"
     ]
    },
    {
     "name": "stdout",
     "output_type": "stream",
     "text": [
      "Elapsed [8:56:18.454043], G_step [141270/1000000], D_step[141270/1000000], d_out_real: 0.0635, d_out_fake: 0.0124, g_loss_fake: 1.0818\r\n"
     ]
    },
    {
     "name": "stdout",
     "output_type": "stream",
     "text": [
      "Elapsed [8:56:29.827507], G_step [141280/1000000], D_step[141280/1000000], d_out_real: 0.0636, d_out_fake: 0.0000, g_loss_fake: 1.0399\r\n"
     ]
    },
    {
     "name": "stdout",
     "output_type": "stream",
     "text": [
      "Elapsed [8:56:40.627993], G_step [141290/1000000], D_step[141290/1000000], d_out_real: 0.0698, d_out_fake: 0.0000, g_loss_fake: 1.1399\r\n"
     ]
    },
    {
     "name": "stdout",
     "output_type": "stream",
     "text": [
      "Elapsed [8:56:51.454217], G_step [141300/1000000], D_step[141300/1000000], d_out_real: 0.1270, d_out_fake: 0.0833, g_loss_fake: 1.0873\r\n"
     ]
    },
    {
     "name": "stdout",
     "output_type": "stream",
     "text": [
      "Elapsed [8:57:02.846659], G_step [141310/1000000], D_step[141310/1000000], d_out_real: 0.0000, d_out_fake: 0.0043, g_loss_fake: 1.0915\r\n"
     ]
    },
    {
     "name": "stdout",
     "output_type": "stream",
     "text": [
      "Elapsed [8:57:13.779247], G_step [141320/1000000], D_step[141320/1000000], d_out_real: 0.0640, d_out_fake: 0.0070, g_loss_fake: 1.1318\r\n"
     ]
    },
    {
     "name": "stdout",
     "output_type": "stream",
     "text": [
      "Elapsed [8:57:25.190810], G_step [141330/1000000], D_step[141330/1000000], d_out_real: 0.0649, d_out_fake: 0.0609, g_loss_fake: 1.0801\r\n"
     ]
    },
    {
     "name": "stdout",
     "output_type": "stream",
     "text": [
      "Elapsed [8:57:37.700333], G_step [141340/1000000], D_step[141340/1000000], d_out_real: 0.1245, d_out_fake: 0.0601, g_loss_fake: 1.1114\r\n"
     ]
    },
    {
     "name": "stdout",
     "output_type": "stream",
     "text": [
      "Elapsed [8:57:48.422562], G_step [141350/1000000], D_step[141350/1000000], d_out_real: 0.1529, d_out_fake: 0.0000, g_loss_fake: 1.0759\r\n"
     ]
    },
    {
     "name": "stdout",
     "output_type": "stream",
     "text": [
      "Elapsed [8:57:59.727766], G_step [141360/1000000], D_step[141360/1000000], d_out_real: 0.0000, d_out_fake: 0.0520, g_loss_fake: 1.0984\r\n"
     ]
    },
    {
     "name": "stdout",
     "output_type": "stream",
     "text": [
      "Elapsed [8:58:11.602383], G_step [141370/1000000], D_step[141370/1000000], d_out_real: 0.0533, d_out_fake: 0.0000, g_loss_fake: 0.9993\r\n"
     ]
    },
    {
     "name": "stdout",
     "output_type": "stream",
     "text": [
      "Elapsed [8:58:22.934305], G_step [141380/1000000], D_step[141380/1000000], d_out_real: 0.0000, d_out_fake: 0.0683, g_loss_fake: 0.9976\r\n"
     ]
    },
    {
     "name": "stdout",
     "output_type": "stream",
     "text": [
      "Elapsed [8:58:34.031693], G_step [141390/1000000], D_step[141390/1000000], d_out_real: 0.1310, d_out_fake: 0.0012, g_loss_fake: 1.0439\r\n"
     ]
    },
    {
     "name": "stdout",
     "output_type": "stream",
     "text": [
      "Elapsed [8:58:44.668459], G_step [141400/1000000], D_step[141400/1000000], d_out_real: 0.0851, d_out_fake: 0.0000, g_loss_fake: 1.0924\r\n"
     ]
    },
    {
     "name": "stdout",
     "output_type": "stream",
     "text": [
      "Elapsed [8:58:55.510924], G_step [141410/1000000], D_step[141410/1000000], d_out_real: 0.0000, d_out_fake: 0.0731, g_loss_fake: 1.1125\r\n"
     ]
    },
    {
     "name": "stdout",
     "output_type": "stream",
     "text": [
      "Elapsed [8:59:07.030344], G_step [141420/1000000], D_step[141420/1000000], d_out_real: 0.0970, d_out_fake: 0.0004, g_loss_fake: 1.0126\r\n"
     ]
    },
    {
     "name": "stdout",
     "output_type": "stream",
     "text": [
      "Elapsed [8:59:18.179111], G_step [141430/1000000], D_step[141430/1000000], d_out_real: 0.0000, d_out_fake: 0.0000, g_loss_fake: 1.1308\r\n"
     ]
    },
    {
     "name": "stdout",
     "output_type": "stream",
     "text": [
      "Elapsed [8:59:30.127325], G_step [141440/1000000], D_step[141440/1000000], d_out_real: 0.0000, d_out_fake: 0.0000, g_loss_fake: 1.1093\r\n"
     ]
    },
    {
     "name": "stdout",
     "output_type": "stream",
     "text": [
      "Elapsed [8:59:40.816710], G_step [141450/1000000], D_step[141450/1000000], d_out_real: 0.1054, d_out_fake: 0.0734, g_loss_fake: 1.1992\r\n"
     ]
    },
    {
     "name": "stdout",
     "output_type": "stream",
     "text": [
      "Elapsed [8:59:52.110134], G_step [141460/1000000], D_step[141460/1000000], d_out_real: 0.1264, d_out_fake: 0.0000, g_loss_fake: 1.0867\r\n"
     ]
    },
    {
     "name": "stdout",
     "output_type": "stream",
     "text": [
      "Elapsed [9:00:02.771383], G_step [141470/1000000], D_step[141470/1000000], d_out_real: 0.1923, d_out_fake: 0.0029, g_loss_fake: 1.0433\r\n"
     ]
    },
    {
     "name": "stdout",
     "output_type": "stream",
     "text": [
      "Elapsed [9:00:13.393041], G_step [141480/1000000], D_step[141480/1000000], d_out_real: 0.0000, d_out_fake: 0.0004, g_loss_fake: 1.0680\r\n"
     ]
    },
    {
     "name": "stdout",
     "output_type": "stream",
     "text": [
      "Elapsed [9:00:24.261461], G_step [141490/1000000], D_step[141490/1000000], d_out_real: 0.1222, d_out_fake: 0.3036, g_loss_fake: 1.1925\r\n"
     ]
    },
    {
     "name": "stdout",
     "output_type": "stream",
     "text": [
      "Elapsed [9:00:35.230074], G_step [141500/1000000], D_step[141500/1000000], d_out_real: 0.0720, d_out_fake: 0.0781, g_loss_fake: 0.7473\r\n"
     ]
    },
    {
     "name": "stdout",
     "output_type": "stream",
     "text": [
      "Elapsed [9:00:46.185512], G_step [141510/1000000], D_step[141510/1000000], d_out_real: 0.1295, d_out_fake: 0.0004, g_loss_fake: 1.0443\r\n"
     ]
    },
    {
     "name": "stdout",
     "output_type": "stream",
     "text": [
      "Elapsed [9:00:57.650320], G_step [141520/1000000], D_step[141520/1000000], d_out_real: 0.0642, d_out_fake: 0.0000, g_loss_fake: 1.0371\r\n"
     ]
    },
    {
     "name": "stdout",
     "output_type": "stream",
     "text": [
      "Elapsed [9:01:09.568954], G_step [141530/1000000], D_step[141530/1000000], d_out_real: 0.2005, d_out_fake: 0.0000, g_loss_fake: 1.0826\r\n"
     ]
    },
    {
     "name": "stdout",
     "output_type": "stream",
     "text": [
      "Elapsed [9:01:20.694418], G_step [141540/1000000], D_step[141540/1000000], d_out_real: 0.0669, d_out_fake: 0.0331, g_loss_fake: 1.0628\r\n"
     ]
    },
    {
     "name": "stdout",
     "output_type": "stream",
     "text": [
      "Elapsed [9:01:31.991616], G_step [141550/1000000], D_step[141550/1000000], d_out_real: 0.0000, d_out_fake: 0.0000, g_loss_fake: 1.1250\r\n"
     ]
    },
    {
     "name": "stdout",
     "output_type": "stream",
     "text": [
      "Elapsed [9:01:43.242683], G_step [141560/1000000], D_step[141560/1000000], d_out_real: 0.0600, d_out_fake: 0.2052, g_loss_fake: 1.1043\r\n"
     ]
    },
    {
     "name": "stdout",
     "output_type": "stream",
     "text": [
      "Elapsed [9:01:54.356387], G_step [141570/1000000], D_step[141570/1000000], d_out_real: 0.0618, d_out_fake: 0.0074, g_loss_fake: 1.1708\r\n"
     ]
    },
    {
     "name": "stdout",
     "output_type": "stream",
     "text": [
      "Elapsed [9:02:05.227971], G_step [141580/1000000], D_step[141580/1000000], d_out_real: 0.0609, d_out_fake: 0.0701, g_loss_fake: 0.9942\r\n"
     ]
    },
    {
     "name": "stdout",
     "output_type": "stream",
     "text": [
      "Elapsed [9:02:16.309098], G_step [141590/1000000], D_step[141590/1000000], d_out_real: 0.1204, d_out_fake: 0.0029, g_loss_fake: 1.0965\r\n"
     ]
    },
    {
     "name": "stdout",
     "output_type": "stream",
     "text": [
      "Elapsed [9:02:27.414564], G_step [141600/1000000], D_step[141600/1000000], d_out_real: 0.0673, d_out_fake: 0.0000, g_loss_fake: 1.0949\r\n"
     ]
    },
    {
     "name": "stdout",
     "output_type": "stream",
     "text": [
      "Elapsed [9:02:38.180278], G_step [141610/1000000], D_step[141610/1000000], d_out_real: 0.1296, d_out_fake: 0.0119, g_loss_fake: 1.0962\r\n"
     ]
    },
    {
     "name": "stdout",
     "output_type": "stream",
     "text": [
      "Elapsed [9:02:48.864927], G_step [141620/1000000], D_step[141620/1000000], d_out_real: 0.0580, d_out_fake: 0.0006, g_loss_fake: 1.0529\r\n"
     ]
    },
    {
     "name": "stdout",
     "output_type": "stream",
     "text": [
      "Elapsed [9:02:59.803775], G_step [141630/1000000], D_step[141630/1000000], d_out_real: 0.1815, d_out_fake: 0.1065, g_loss_fake: 1.0649\r\n"
     ]
    },
    {
     "name": "stdout",
     "output_type": "stream",
     "text": [
      "Elapsed [9:03:10.710777], G_step [141640/1000000], D_step[141640/1000000], d_out_real: 0.1317, d_out_fake: 0.0002, g_loss_fake: 1.0620\r\n"
     ]
    },
    {
     "name": "stdout",
     "output_type": "stream",
     "text": [
      "Elapsed [9:03:21.418419], G_step [141650/1000000], D_step[141650/1000000], d_out_real: 0.1994, d_out_fake: 0.0000, g_loss_fake: 1.0526\r\n"
     ]
    },
    {
     "name": "stdout",
     "output_type": "stream",
     "text": [
      "Elapsed [9:03:32.486332], G_step [141660/1000000], D_step[141660/1000000], d_out_real: 0.0000, d_out_fake: 0.0680, g_loss_fake: 1.1108\r\n"
     ]
    },
    {
     "name": "stdout",
     "output_type": "stream",
     "text": [
      "Elapsed [9:03:43.576876], G_step [141670/1000000], D_step[141670/1000000], d_out_real: 0.0486, d_out_fake: 0.1850, g_loss_fake: 0.9271\r\n"
     ]
    },
    {
     "name": "stdout",
     "output_type": "stream",
     "text": [
      "Elapsed [9:03:54.433748], G_step [141680/1000000], D_step[141680/1000000], d_out_real: 0.0019, d_out_fake: 0.1209, g_loss_fake: 1.1756\r\n"
     ]
    },
    {
     "name": "stdout",
     "output_type": "stream",
     "text": [
      "Elapsed [9:04:05.300271], G_step [141690/1000000], D_step[141690/1000000], d_out_real: 0.1107, d_out_fake: 0.0000, g_loss_fake: 1.1205\r\n"
     ]
    },
    {
     "name": "stdout",
     "output_type": "stream",
     "text": [
      "Elapsed [9:04:16.513506], G_step [141700/1000000], D_step[141700/1000000], d_out_real: 0.0643, d_out_fake: 0.0000, g_loss_fake: 1.0268\r\n"
     ]
    },
    {
     "name": "stdout",
     "output_type": "stream",
     "text": [
      "Elapsed [9:04:29.314208], G_step [141710/1000000], D_step[141710/1000000], d_out_real: 0.1299, d_out_fake: 0.0018, g_loss_fake: 1.1111\r\n"
     ]
    },
    {
     "name": "stdout",
     "output_type": "stream",
     "text": [
      "Elapsed [9:04:40.269264], G_step [141720/1000000], D_step[141720/1000000], d_out_real: 0.0633, d_out_fake: 0.1416, g_loss_fake: 1.1121\r\n"
     ]
    },
    {
     "name": "stdout",
     "output_type": "stream",
     "text": [
      "Elapsed [9:04:51.207823], G_step [141730/1000000], D_step[141730/1000000], d_out_real: 0.0774, d_out_fake: 0.0000, g_loss_fake: 1.0848\r\n"
     ]
    },
    {
     "name": "stdout",
     "output_type": "stream",
     "text": [
      "Elapsed [9:05:01.894435], G_step [141740/1000000], D_step[141740/1000000], d_out_real: 0.0876, d_out_fake: 0.0788, g_loss_fake: 1.1310\r\n"
     ]
    },
    {
     "name": "stdout",
     "output_type": "stream",
     "text": [
      "Elapsed [9:05:13.559354], G_step [141750/1000000], D_step[141750/1000000], d_out_real: 0.0850, d_out_fake: 0.0005, g_loss_fake: 0.9461\r\n"
     ]
    },
    {
     "name": "stdout",
     "output_type": "stream",
     "text": [
      "Elapsed [9:05:24.857041], G_step [141760/1000000], D_step[141760/1000000], d_out_real: 0.0686, d_out_fake: 0.0007, g_loss_fake: 1.0615\r\n"
     ]
    },
    {
     "name": "stdout",
     "output_type": "stream",
     "text": [
      "Elapsed [9:05:35.920365], G_step [141770/1000000], D_step[141770/1000000], d_out_real: 0.1764, d_out_fake: 0.0000, g_loss_fake: 0.9943\r\n"
     ]
    },
    {
     "name": "stdout",
     "output_type": "stream",
     "text": [
      "Elapsed [9:05:46.729005], G_step [141780/1000000], D_step[141780/1000000], d_out_real: 0.0781, d_out_fake: 0.0004, g_loss_fake: 1.0689\r\n"
     ]
    },
    {
     "name": "stdout",
     "output_type": "stream",
     "text": [
      "Elapsed [9:05:57.369016], G_step [141790/1000000], D_step[141790/1000000], d_out_real: 0.0626, d_out_fake: 0.0014, g_loss_fake: 1.0408\r\n"
     ]
    },
    {
     "name": "stdout",
     "output_type": "stream",
     "text": [
      "Elapsed [9:06:08.342240], G_step [141800/1000000], D_step[141800/1000000], d_out_real: 0.0659, d_out_fake: 0.0000, g_loss_fake: 1.1543\r\n"
     ]
    },
    {
     "name": "stdout",
     "output_type": "stream",
     "text": [
      "Elapsed [9:06:19.206474], G_step [141810/1000000], D_step[141810/1000000], d_out_real: 0.1959, d_out_fake: 0.0001, g_loss_fake: 1.0714\r\n"
     ]
    },
    {
     "name": "stdout",
     "output_type": "stream",
     "text": [
      "Elapsed [9:06:30.004864], G_step [141820/1000000], D_step[141820/1000000], d_out_real: 0.1142, d_out_fake: 0.0742, g_loss_fake: 1.0444\r\n"
     ]
    },
    {
     "name": "stdout",
     "output_type": "stream",
     "text": [
      "Elapsed [9:06:40.589551], G_step [141830/1000000], D_step[141830/1000000], d_out_real: 0.0000, d_out_fake: 0.0000, g_loss_fake: 0.9683\r\n"
     ]
    },
    {
     "name": "stdout",
     "output_type": "stream",
     "text": [
      "Elapsed [9:06:51.693195], G_step [141840/1000000], D_step[141840/1000000], d_out_real: 0.0855, d_out_fake: 0.0000, g_loss_fake: 0.9603\r\n"
     ]
    },
    {
     "name": "stdout",
     "output_type": "stream",
     "text": [
      "Elapsed [9:07:02.811935], G_step [141850/1000000], D_step[141850/1000000], d_out_real: 0.0651, d_out_fake: 0.0000, g_loss_fake: 1.0960\r\n"
     ]
    },
    {
     "name": "stdout",
     "output_type": "stream",
     "text": [
      "Elapsed [9:07:13.794690], G_step [141860/1000000], D_step[141860/1000000], d_out_real: 0.1899, d_out_fake: 0.0000, g_loss_fake: 1.0460\r\n"
     ]
    },
    {
     "name": "stdout",
     "output_type": "stream",
     "text": [
      "Elapsed [9:07:24.773496], G_step [141870/1000000], D_step[141870/1000000], d_out_real: 0.0641, d_out_fake: 0.0000, g_loss_fake: 0.9876\r\n"
     ]
    },
    {
     "name": "stdout",
     "output_type": "stream",
     "text": [
      "Elapsed [9:07:36.144401], G_step [141880/1000000], D_step[141880/1000000], d_out_real: 0.0045, d_out_fake: 0.0022, g_loss_fake: 1.1292\r\n"
     ]
    },
    {
     "name": "stdout",
     "output_type": "stream",
     "text": [
      "Elapsed [9:07:47.591655], G_step [141890/1000000], D_step[141890/1000000], d_out_real: 0.0000, d_out_fake: 0.1418, g_loss_fake: 1.1748\r\n"
     ]
    },
    {
     "name": "stdout",
     "output_type": "stream",
     "text": [
      "Elapsed [9:07:58.940822], G_step [141900/1000000], D_step[141900/1000000], d_out_real: 0.0497, d_out_fake: 0.0288, g_loss_fake: 1.0952\r\n"
     ]
    },
    {
     "name": "stdout",
     "output_type": "stream",
     "text": [
      "Elapsed [9:08:10.475575], G_step [141910/1000000], D_step[141910/1000000], d_out_real: 0.0000, d_out_fake: 0.0244, g_loss_fake: 1.0921\r\n"
     ]
    },
    {
     "name": "stdout",
     "output_type": "stream",
     "text": [
      "Elapsed [9:08:21.865336], G_step [141920/1000000], D_step[141920/1000000], d_out_real: 0.0000, d_out_fake: 0.0000, g_loss_fake: 1.0212\r\n"
     ]
    },
    {
     "name": "stdout",
     "output_type": "stream",
     "text": [
      "Elapsed [9:08:32.858131], G_step [141930/1000000], D_step[141930/1000000], d_out_real: 0.0077, d_out_fake: 0.1593, g_loss_fake: 0.9042\r\n"
     ]
    },
    {
     "name": "stdout",
     "output_type": "stream",
     "text": [
      "Elapsed [9:08:43.767714], G_step [141940/1000000], D_step[141940/1000000], d_out_real: 0.0652, d_out_fake: 0.0071, g_loss_fake: 1.1280\r\n"
     ]
    },
    {
     "name": "stdout",
     "output_type": "stream",
     "text": [
      "Elapsed [9:08:55.312961], G_step [141950/1000000], D_step[141950/1000000], d_out_real: 0.1191, d_out_fake: 0.0692, g_loss_fake: 1.0017\r\n"
     ]
    },
    {
     "name": "stdout",
     "output_type": "stream",
     "text": [
      "Elapsed [9:09:06.400913], G_step [141960/1000000], D_step[141960/1000000], d_out_real: 0.0293, d_out_fake: 0.0000, g_loss_fake: 1.0628\r\n"
     ]
    },
    {
     "name": "stdout",
     "output_type": "stream",
     "text": [
      "Elapsed [9:09:17.178259], G_step [141970/1000000], D_step[141970/1000000], d_out_real: 0.0635, d_out_fake: 0.1650, g_loss_fake: 1.1573\r\n"
     ]
    },
    {
     "name": "stdout",
     "output_type": "stream",
     "text": [
      "Elapsed [9:09:28.456656], G_step [141980/1000000], D_step[141980/1000000], d_out_real: 0.0617, d_out_fake: 0.0721, g_loss_fake: 1.0893\r\n"
     ]
    },
    {
     "name": "stdout",
     "output_type": "stream",
     "text": [
      "Elapsed [9:09:39.815096], G_step [141990/1000000], D_step[141990/1000000], d_out_real: 0.1907, d_out_fake: 0.0691, g_loss_fake: 1.0700\r\n"
     ]
    },
    {
     "name": "stdout",
     "output_type": "stream",
     "text": [
      "Elapsed [9:09:51.131235], G_step [142000/1000000], D_step[142000/1000000], d_out_real: 0.0013, d_out_fake: 0.0518, g_loss_fake: 1.1748\r\n",
      "Sample images 142000_fake.png\r\n"
     ]
    },
    {
     "name": "stdout",
     "output_type": "stream",
     "text": [
      "Elapsed [9:10:03.405695], G_step [142010/1000000], D_step[142010/1000000], d_out_real: 0.0000, d_out_fake: 0.0491, g_loss_fake: 1.1154\r\n"
     ]
    },
    {
     "name": "stdout",
     "output_type": "stream",
     "text": [
      "Elapsed [9:10:14.164810], G_step [142020/1000000], D_step[142020/1000000], d_out_real: 0.1227, d_out_fake: 0.0003, g_loss_fake: 1.0143\r\n"
     ]
    },
    {
     "name": "stdout",
     "output_type": "stream",
     "text": [
      "Elapsed [9:10:25.023713], G_step [142030/1000000], D_step[142030/1000000], d_out_real: 0.0643, d_out_fake: 0.0000, g_loss_fake: 1.1420\r\n"
     ]
    },
    {
     "name": "stdout",
     "output_type": "stream",
     "text": [
      "Elapsed [9:10:36.199821], G_step [142040/1000000], D_step[142040/1000000], d_out_real: 0.0689, d_out_fake: 0.1057, g_loss_fake: 0.9398\r\n"
     ]
    },
    {
     "name": "stdout",
     "output_type": "stream",
     "text": [
      "Elapsed [9:10:47.214101], G_step [142050/1000000], D_step[142050/1000000], d_out_real: 0.0693, d_out_fake: 0.0000, g_loss_fake: 1.0362\r\n"
     ]
    },
    {
     "name": "stdout",
     "output_type": "stream",
     "text": [
      "Elapsed [9:10:58.019030], G_step [142060/1000000], D_step[142060/1000000], d_out_real: 0.1292, d_out_fake: 0.0000, g_loss_fake: 1.0176\r\n"
     ]
    },
    {
     "name": "stdout",
     "output_type": "stream",
     "text": [
      "Elapsed [9:11:09.749061], G_step [142070/1000000], D_step[142070/1000000], d_out_real: 0.0000, d_out_fake: 0.0000, g_loss_fake: 1.1010\r\n"
     ]
    },
    {
     "name": "stdout",
     "output_type": "stream",
     "text": [
      "Elapsed [9:11:20.555671], G_step [142080/1000000], D_step[142080/1000000], d_out_real: 0.0684, d_out_fake: 0.0419, g_loss_fake: 1.1209\r\n"
     ]
    },
    {
     "name": "stdout",
     "output_type": "stream",
     "text": [
      "Elapsed [9:11:31.823744], G_step [142090/1000000], D_step[142090/1000000], d_out_real: 0.0000, d_out_fake: 0.0000, g_loss_fake: 1.1066\r\n"
     ]
    },
    {
     "name": "stdout",
     "output_type": "stream",
     "text": [
      "Elapsed [9:11:42.391024], G_step [142100/1000000], D_step[142100/1000000], d_out_real: 0.0000, d_out_fake: 0.0077, g_loss_fake: 1.1835\r\n"
     ]
    },
    {
     "name": "stdout",
     "output_type": "stream",
     "text": [
      "Elapsed [9:11:52.998019], G_step [142110/1000000], D_step[142110/1000000], d_out_real: 0.1241, d_out_fake: 0.0707, g_loss_fake: 1.0436\r\n"
     ]
    },
    {
     "name": "stdout",
     "output_type": "stream",
     "text": [
      "Elapsed [9:12:03.993834], G_step [142120/1000000], D_step[142120/1000000], d_out_real: 0.0668, d_out_fake: 0.0589, g_loss_fake: 1.0751\r\n"
     ]
    },
    {
     "name": "stdout",
     "output_type": "stream",
     "text": [
      "Elapsed [9:12:14.768228], G_step [142130/1000000], D_step[142130/1000000], d_out_real: 0.0631, d_out_fake: 0.0000, g_loss_fake: 1.0033\r\n"
     ]
    },
    {
     "name": "stdout",
     "output_type": "stream",
     "text": [
      "Elapsed [9:12:25.583944], G_step [142140/1000000], D_step[142140/1000000], d_out_real: 0.0637, d_out_fake: 0.1376, g_loss_fake: 1.0900\r\n"
     ]
    },
    {
     "name": "stdout",
     "output_type": "stream",
     "text": [
      "save torch\r\n"
     ]
    },
    {
     "name": "stdout",
     "output_type": "stream",
     "text": [
      "Elapsed [9:12:37.024470], G_step [142150/1000000], D_step[142150/1000000], d_out_real: 0.0664, d_out_fake: 0.0000, g_loss_fake: 1.0190\r\n"
     ]
    },
    {
     "name": "stdout",
     "output_type": "stream",
     "text": [
      "Elapsed [9:12:48.259032], G_step [142160/1000000], D_step[142160/1000000], d_out_real: 0.1275, d_out_fake: 0.0881, g_loss_fake: 1.0616\r\n"
     ]
    },
    {
     "name": "stdout",
     "output_type": "stream",
     "text": [
      "Elapsed [9:12:58.899712], G_step [142170/1000000], D_step[142170/1000000], d_out_real: 0.2278, d_out_fake: 0.0122, g_loss_fake: 1.0456\r\n"
     ]
    },
    {
     "name": "stdout",
     "output_type": "stream",
     "text": [
      "Elapsed [9:13:09.929679], G_step [142180/1000000], D_step[142180/1000000], d_out_real: 0.1476, d_out_fake: 0.0817, g_loss_fake: 0.9754\r\n"
     ]
    },
    {
     "name": "stdout",
     "output_type": "stream",
     "text": [
      "Elapsed [9:13:20.800567], G_step [142190/1000000], D_step[142190/1000000], d_out_real: 0.1070, d_out_fake: 0.0039, g_loss_fake: 1.0348\r\n"
     ]
    },
    {
     "name": "stdout",
     "output_type": "stream",
     "text": [
      "Elapsed [9:13:31.443533], G_step [142200/1000000], D_step[142200/1000000], d_out_real: 0.0570, d_out_fake: 0.0246, g_loss_fake: 1.0050\r\n"
     ]
    },
    {
     "name": "stdout",
     "output_type": "stream",
     "text": [
      "Elapsed [9:13:42.346252], G_step [142210/1000000], D_step[142210/1000000], d_out_real: 0.0009, d_out_fake: 0.0530, g_loss_fake: 1.1485\r\n"
     ]
    },
    {
     "name": "stdout",
     "output_type": "stream",
     "text": [
      "Elapsed [9:13:53.182145], G_step [142220/1000000], D_step[142220/1000000], d_out_real: 0.0000, d_out_fake: 0.1201, g_loss_fake: 1.1126\r\n"
     ]
    },
    {
     "name": "stdout",
     "output_type": "stream",
     "text": [
      "Elapsed [9:14:03.809038], G_step [142230/1000000], D_step[142230/1000000], d_out_real: 0.1626, d_out_fake: 0.0000, g_loss_fake: 1.0028\r\n"
     ]
    },
    {
     "name": "stdout",
     "output_type": "stream",
     "text": [
      "Elapsed [9:14:14.891077], G_step [142240/1000000], D_step[142240/1000000], d_out_real: 0.1324, d_out_fake: 0.0024, g_loss_fake: 1.0479\r\n"
     ]
    },
    {
     "name": "stdout",
     "output_type": "stream",
     "text": [
      "Elapsed [9:14:26.030733], G_step [142250/1000000], D_step[142250/1000000], d_out_real: 0.0622, d_out_fake: 0.0392, g_loss_fake: 1.1475\r\n"
     ]
    },
    {
     "name": "stdout",
     "output_type": "stream",
     "text": [
      "Elapsed [9:14:37.328005], G_step [142260/1000000], D_step[142260/1000000], d_out_real: 0.0777, d_out_fake: 0.0522, g_loss_fake: 1.0869\r\n"
     ]
    },
    {
     "name": "stdout",
     "output_type": "stream",
     "text": [
      "Elapsed [9:14:48.530373], G_step [142270/1000000], D_step[142270/1000000], d_out_real: 0.0570, d_out_fake: 0.0064, g_loss_fake: 1.1402\r\n"
     ]
    },
    {
     "name": "stdout",
     "output_type": "stream",
     "text": [
      "Elapsed [9:15:00.457653], G_step [142280/1000000], D_step[142280/1000000], d_out_real: 0.1205, d_out_fake: 0.2309, g_loss_fake: 1.0726\r\n"
     ]
    },
    {
     "name": "stdout",
     "output_type": "stream",
     "text": [
      "Elapsed [9:15:11.390405], G_step [142290/1000000], D_step[142290/1000000], d_out_real: 0.0614, d_out_fake: 0.0000, g_loss_fake: 1.1012\r\n"
     ]
    },
    {
     "name": "stdout",
     "output_type": "stream",
     "text": [
      "Elapsed [9:15:22.470647], G_step [142300/1000000], D_step[142300/1000000], d_out_real: 0.0000, d_out_fake: 0.0490, g_loss_fake: 1.1345\r\n"
     ]
    },
    {
     "name": "stdout",
     "output_type": "stream",
     "text": [
      "Elapsed [9:15:33.647360], G_step [142310/1000000], D_step[142310/1000000], d_out_real: 0.0831, d_out_fake: 0.0000, g_loss_fake: 1.0180\r\n"
     ]
    },
    {
     "name": "stdout",
     "output_type": "stream",
     "text": [
      "Elapsed [9:15:44.564626], G_step [142320/1000000], D_step[142320/1000000], d_out_real: 0.0443, d_out_fake: 0.0744, g_loss_fake: 1.1592\r\n"
     ]
    },
    {
     "name": "stdout",
     "output_type": "stream",
     "text": [
      "Elapsed [9:15:55.547569], G_step [142330/1000000], D_step[142330/1000000], d_out_real: 0.1277, d_out_fake: 0.0144, g_loss_fake: 1.0398\r\n"
     ]
    },
    {
     "name": "stdout",
     "output_type": "stream",
     "text": [
      "Elapsed [9:16:06.589458], G_step [142340/1000000], D_step[142340/1000000], d_out_real: 0.0637, d_out_fake: 0.0000, g_loss_fake: 1.0688\r\n"
     ]
    },
    {
     "name": "stdout",
     "output_type": "stream",
     "text": [
      "Elapsed [9:16:17.711455], G_step [142350/1000000], D_step[142350/1000000], d_out_real: 0.0918, d_out_fake: 0.0000, g_loss_fake: 1.0495\r\n"
     ]
    },
    {
     "name": "stdout",
     "output_type": "stream",
     "text": [
      "Elapsed [9:16:28.842199], G_step [142360/1000000], D_step[142360/1000000], d_out_real: 0.0089, d_out_fake: 0.0136, g_loss_fake: 1.1301\r\n"
     ]
    },
    {
     "name": "stdout",
     "output_type": "stream",
     "text": [
      "Elapsed [9:16:40.144606], G_step [142370/1000000], D_step[142370/1000000], d_out_real: 0.0000, d_out_fake: 0.0083, g_loss_fake: 1.1516\r\n"
     ]
    },
    {
     "name": "stdout",
     "output_type": "stream",
     "text": [
      "Elapsed [9:16:51.003911], G_step [142380/1000000], D_step[142380/1000000], d_out_real: 0.0000, d_out_fake: 0.0000, g_loss_fake: 1.1349\r\n"
     ]
    },
    {
     "name": "stdout",
     "output_type": "stream",
     "text": [
      "Elapsed [9:17:02.239762], G_step [142390/1000000], D_step[142390/1000000], d_out_real: 0.0812, d_out_fake: 0.0115, g_loss_fake: 1.0542\r\n"
     ]
    },
    {
     "name": "stdout",
     "output_type": "stream",
     "text": [
      "Elapsed [9:17:13.009366], G_step [142400/1000000], D_step[142400/1000000], d_out_real: 0.0650, d_out_fake: 0.0000, g_loss_fake: 1.0861\r\n"
     ]
    },
    {
     "name": "stdout",
     "output_type": "stream",
     "text": [
      "Elapsed [9:17:24.059820], G_step [142410/1000000], D_step[142410/1000000], d_out_real: 0.0512, d_out_fake: 0.0016, g_loss_fake: 1.0549\r\n"
     ]
    },
    {
     "name": "stdout",
     "output_type": "stream",
     "text": [
      "Elapsed [9:17:35.010605], G_step [142420/1000000], D_step[142420/1000000], d_out_real: 0.1252, d_out_fake: 0.0000, g_loss_fake: 1.0236\r\n"
     ]
    },
    {
     "name": "stdout",
     "output_type": "stream",
     "text": [
      "Elapsed [9:17:45.855825], G_step [142430/1000000], D_step[142430/1000000], d_out_real: 0.0000, d_out_fake: 0.0000, g_loss_fake: 1.1116\r\n"
     ]
    },
    {
     "name": "stdout",
     "output_type": "stream",
     "text": [
      "Elapsed [9:17:56.993755], G_step [142440/1000000], D_step[142440/1000000], d_out_real: 0.1267, d_out_fake: 0.0037, g_loss_fake: 1.0606\r\n"
     ]
    },
    {
     "name": "stdout",
     "output_type": "stream",
     "text": [
      "Elapsed [9:18:07.833238], G_step [142450/1000000], D_step[142450/1000000], d_out_real: 0.0026, d_out_fake: 0.0000, g_loss_fake: 1.0505\r\n"
     ]
    },
    {
     "name": "stdout",
     "output_type": "stream",
     "text": [
      "Elapsed [9:18:18.549768], G_step [142460/1000000], D_step[142460/1000000], d_out_real: 0.0648, d_out_fake: 0.0018, g_loss_fake: 1.1321\r\n"
     ]
    },
    {
     "name": "stdout",
     "output_type": "stream",
     "text": [
      "Elapsed [9:18:31.167770], G_step [142470/1000000], D_step[142470/1000000], d_out_real: 0.0649, d_out_fake: 0.0000, g_loss_fake: 1.0522\r\n"
     ]
    },
    {
     "name": "stdout",
     "output_type": "stream",
     "text": [
      "Elapsed [9:18:42.086782], G_step [142480/1000000], D_step[142480/1000000], d_out_real: 0.1849, d_out_fake: 0.0569, g_loss_fake: 0.9631\r\n"
     ]
    },
    {
     "name": "stdout",
     "output_type": "stream",
     "text": [
      "Elapsed [9:18:53.858410], G_step [142490/1000000], D_step[142490/1000000], d_out_real: 0.1302, d_out_fake: 0.0000, g_loss_fake: 1.0004\r\n"
     ]
    },
    {
     "name": "stdout",
     "output_type": "stream",
     "text": [
      "Elapsed [9:19:04.593570], G_step [142500/1000000], D_step[142500/1000000], d_out_real: 0.0575, d_out_fake: 0.0653, g_loss_fake: 1.1255\r\n"
     ]
    },
    {
     "name": "stdout",
     "output_type": "stream",
     "text": [
      "Elapsed [9:19:15.589976], G_step [142510/1000000], D_step[142510/1000000], d_out_real: 0.0437, d_out_fake: 0.0932, g_loss_fake: 1.0287\r\n"
     ]
    },
    {
     "name": "stdout",
     "output_type": "stream",
     "text": [
      "Elapsed [9:19:26.147935], G_step [142520/1000000], D_step[142520/1000000], d_out_real: 0.2584, d_out_fake: 0.0000, g_loss_fake: 1.0288\r\n"
     ]
    },
    {
     "name": "stdout",
     "output_type": "stream",
     "text": [
      "Elapsed [9:19:36.863202], G_step [142530/1000000], D_step[142530/1000000], d_out_real: 0.0000, d_out_fake: 0.0067, g_loss_fake: 1.0288\r\n"
     ]
    },
    {
     "name": "stdout",
     "output_type": "stream",
     "text": [
      "Elapsed [9:19:48.122330], G_step [142540/1000000], D_step[142540/1000000], d_out_real: 0.0000, d_out_fake: 0.3176, g_loss_fake: 1.1126\r\n"
     ]
    },
    {
     "name": "stdout",
     "output_type": "stream",
     "text": [
      "Elapsed [9:19:58.750137], G_step [142550/1000000], D_step[142550/1000000], d_out_real: 0.1711, d_out_fake: 0.0037, g_loss_fake: 1.0999\r\n"
     ]
    },
    {
     "name": "stdout",
     "output_type": "stream",
     "text": [
      "Elapsed [9:20:09.571252], G_step [142560/1000000], D_step[142560/1000000], d_out_real: 0.0594, d_out_fake: 0.0000, g_loss_fake: 1.0467\r\n"
     ]
    },
    {
     "name": "stdout",
     "output_type": "stream",
     "text": [
      "Elapsed [9:20:21.334585], G_step [142570/1000000], D_step[142570/1000000], d_out_real: 0.0224, d_out_fake: 0.0008, g_loss_fake: 1.0377\r\n"
     ]
    },
    {
     "name": "stdout",
     "output_type": "stream",
     "text": [
      "Elapsed [9:20:32.842265], G_step [142580/1000000], D_step[142580/1000000], d_out_real: 0.0695, d_out_fake: 0.0003, g_loss_fake: 1.0973\r\n"
     ]
    },
    {
     "name": "stdout",
     "output_type": "stream",
     "text": [
      "Elapsed [9:20:44.021505], G_step [142590/1000000], D_step[142590/1000000], d_out_real: 0.0334, d_out_fake: 0.0000, g_loss_fake: 1.0054\r\n"
     ]
    },
    {
     "name": "stdout",
     "output_type": "stream",
     "text": [
      "Elapsed [9:20:54.924267], G_step [142600/1000000], D_step[142600/1000000], d_out_real: 0.0000, d_out_fake: 0.2029, g_loss_fake: 1.1430\r\n"
     ]
    },
    {
     "name": "stdout",
     "output_type": "stream",
     "text": [
      "Elapsed [9:21:05.633446], G_step [142610/1000000], D_step[142610/1000000], d_out_real: 0.0000, d_out_fake: 0.0000, g_loss_fake: 1.0506\r\n"
     ]
    },
    {
     "name": "stdout",
     "output_type": "stream",
     "text": [
      "Elapsed [9:21:16.350819], G_step [142620/1000000], D_step[142620/1000000], d_out_real: 0.0543, d_out_fake: 0.0000, g_loss_fake: 1.0248\r\n"
     ]
    },
    {
     "name": "stdout",
     "output_type": "stream",
     "text": [
      "Elapsed [9:21:27.270950], G_step [142630/1000000], D_step[142630/1000000], d_out_real: 0.0092, d_out_fake: 0.1433, g_loss_fake: 1.0354\r\n"
     ]
    },
    {
     "name": "stdout",
     "output_type": "stream",
     "text": [
      "Elapsed [9:21:37.966433], G_step [142640/1000000], D_step[142640/1000000], d_out_real: 0.0000, d_out_fake: 0.0882, g_loss_fake: 1.0494\r\n"
     ]
    },
    {
     "name": "stdout",
     "output_type": "stream",
     "text": [
      "Elapsed [9:21:49.835356], G_step [142650/1000000], D_step[142650/1000000], d_out_real: 0.0631, d_out_fake: 0.0000, g_loss_fake: 1.0108\r\n"
     ]
    },
    {
     "name": "stdout",
     "output_type": "stream",
     "text": [
      "Elapsed [9:22:00.769378], G_step [142660/1000000], D_step[142660/1000000], d_out_real: 0.1232, d_out_fake: 0.0013, g_loss_fake: 1.0704\r\n"
     ]
    },
    {
     "name": "stdout",
     "output_type": "stream",
     "text": [
      "Elapsed [9:22:11.616858], G_step [142670/1000000], D_step[142670/1000000], d_out_real: 0.0000, d_out_fake: 0.0002, g_loss_fake: 1.1027\r\n"
     ]
    },
    {
     "name": "stdout",
     "output_type": "stream",
     "text": [
      "Elapsed [9:22:23.163101], G_step [142680/1000000], D_step[142680/1000000], d_out_real: 0.0114, d_out_fake: 0.0380, g_loss_fake: 1.0993\r\n"
     ]
    },
    {
     "name": "stdout",
     "output_type": "stream",
     "text": [
      "Elapsed [9:22:34.295985], G_step [142690/1000000], D_step[142690/1000000], d_out_real: 0.0653, d_out_fake: 0.0016, g_loss_fake: 0.9212\r\n"
     ]
    },
    {
     "name": "stdout",
     "output_type": "stream",
     "text": [
      "Elapsed [9:22:46.082909], G_step [142700/1000000], D_step[142700/1000000], d_out_real: 0.0659, d_out_fake: 0.0633, g_loss_fake: 1.0712\r\n"
     ]
    },
    {
     "name": "stdout",
     "output_type": "stream",
     "text": [
      "Elapsed [9:22:56.751310], G_step [142710/1000000], D_step[142710/1000000], d_out_real: 0.0006, d_out_fake: 0.0048, g_loss_fake: 1.0857\r\n"
     ]
    },
    {
     "name": "stdout",
     "output_type": "stream",
     "text": [
      "Elapsed [9:23:07.777850], G_step [142720/1000000], D_step[142720/1000000], d_out_real: 0.0754, d_out_fake: 0.0000, g_loss_fake: 1.0125\r\n"
     ]
    },
    {
     "name": "stdout",
     "output_type": "stream",
     "text": [
      "Elapsed [9:23:18.908573], G_step [142730/1000000], D_step[142730/1000000], d_out_real: 0.0020, d_out_fake: 0.0000, g_loss_fake: 1.0897\r\n"
     ]
    },
    {
     "name": "stdout",
     "output_type": "stream",
     "text": [
      "Elapsed [9:23:29.806378], G_step [142740/1000000], D_step[142740/1000000], d_out_real: 0.0713, d_out_fake: 0.0478, g_loss_fake: 1.0702\r\n"
     ]
    },
    {
     "name": "stdout",
     "output_type": "stream",
     "text": [
      "Elapsed [9:23:40.621953], G_step [142750/1000000], D_step[142750/1000000], d_out_real: 0.0110, d_out_fake: 0.0293, g_loss_fake: 1.0874\r\n"
     ]
    },
    {
     "name": "stdout",
     "output_type": "stream",
     "text": [
      "Elapsed [9:23:51.802137], G_step [142760/1000000], D_step[142760/1000000], d_out_real: 0.0644, d_out_fake: 0.0000, g_loss_fake: 1.0444\r\n"
     ]
    },
    {
     "name": "stdout",
     "output_type": "stream",
     "text": [
      "Elapsed [9:24:02.784871], G_step [142770/1000000], D_step[142770/1000000], d_out_real: 0.0746, d_out_fake: 0.0000, g_loss_fake: 1.0990\r\n"
     ]
    },
    {
     "name": "stdout",
     "output_type": "stream",
     "text": [
      "Elapsed [9:24:14.263557], G_step [142780/1000000], D_step[142780/1000000], d_out_real: 0.1374, d_out_fake: 0.0296, g_loss_fake: 1.0825\r\n"
     ]
    },
    {
     "name": "stdout",
     "output_type": "stream",
     "text": [
      "Elapsed [9:24:25.178766], G_step [142790/1000000], D_step[142790/1000000], d_out_real: 0.0744, d_out_fake: 0.0000, g_loss_fake: 1.0283\r\n"
     ]
    },
    {
     "name": "stdout",
     "output_type": "stream",
     "text": [
      "Elapsed [9:24:35.712504], G_step [142800/1000000], D_step[142800/1000000], d_out_real: 0.1303, d_out_fake: 0.0000, g_loss_fake: 1.0744\r\n"
     ]
    },
    {
     "name": "stdout",
     "output_type": "stream",
     "text": [
      "Elapsed [9:24:47.534183], G_step [142810/1000000], D_step[142810/1000000], d_out_real: 0.0650, d_out_fake: 0.0000, g_loss_fake: 1.0721\r\n"
     ]
    },
    {
     "name": "stdout",
     "output_type": "stream",
     "text": [
      "Elapsed [9:24:58.680274], G_step [142820/1000000], D_step[142820/1000000], d_out_real: 0.0537, d_out_fake: 0.0000, g_loss_fake: 0.8537\r\n"
     ]
    },
    {
     "name": "stdout",
     "output_type": "stream",
     "text": [
      "Elapsed [9:25:09.699303], G_step [142830/1000000], D_step[142830/1000000], d_out_real: 0.0635, d_out_fake: 0.0359, g_loss_fake: 1.0377\r\n"
     ]
    },
    {
     "name": "stdout",
     "output_type": "stream",
     "text": [
      "Elapsed [9:25:20.580079], G_step [142840/1000000], D_step[142840/1000000], d_out_real: 0.1268, d_out_fake: 0.0000, g_loss_fake: 1.0714\r\n"
     ]
    },
    {
     "name": "stdout",
     "output_type": "stream",
     "text": [
      "Elapsed [9:25:31.738703], G_step [142850/1000000], D_step[142850/1000000], d_out_real: 0.1256, d_out_fake: 0.0031, g_loss_fake: 1.0718\r\n"
     ]
    },
    {
     "name": "stdout",
     "output_type": "stream",
     "text": [
      "Elapsed [9:25:42.321367], G_step [142860/1000000], D_step[142860/1000000], d_out_real: 0.1254, d_out_fake: 0.0616, g_loss_fake: 0.9480\r\n"
     ]
    },
    {
     "name": "stdout",
     "output_type": "stream",
     "text": [
      "Elapsed [9:25:53.359724], G_step [142870/1000000], D_step[142870/1000000], d_out_real: 0.0616, d_out_fake: 0.0734, g_loss_fake: 1.0312\r\n"
     ]
    },
    {
     "name": "stdout",
     "output_type": "stream",
     "text": [
      "Elapsed [9:26:04.706567], G_step [142880/1000000], D_step[142880/1000000], d_out_real: 0.1147, d_out_fake: 0.0661, g_loss_fake: 1.0809\r\n"
     ]
    },
    {
     "name": "stdout",
     "output_type": "stream",
     "text": [
      "Elapsed [9:26:16.483754], G_step [142890/1000000], D_step[142890/1000000], d_out_real: 0.0556, d_out_fake: 0.0071, g_loss_fake: 1.0461\r\n"
     ]
    },
    {
     "name": "stdout",
     "output_type": "stream",
     "text": [
      "Elapsed [9:26:27.571856], G_step [142900/1000000], D_step[142900/1000000], d_out_real: 0.1291, d_out_fake: 0.0000, g_loss_fake: 1.0769\r\n"
     ]
    },
    {
     "name": "stdout",
     "output_type": "stream",
     "text": [
      "Elapsed [9:26:39.350506], G_step [142910/1000000], D_step[142910/1000000], d_out_real: 0.0000, d_out_fake: 0.0854, g_loss_fake: 1.0932\r\n"
     ]
    },
    {
     "name": "stdout",
     "output_type": "stream",
     "text": [
      "Elapsed [9:26:50.316326], G_step [142920/1000000], D_step[142920/1000000], d_out_real: 0.0752, d_out_fake: 0.0003, g_loss_fake: 1.0583\r\n"
     ]
    },
    {
     "name": "stdout",
     "output_type": "stream",
     "text": [
      "Elapsed [9:27:01.508371], G_step [142930/1000000], D_step[142930/1000000], d_out_real: 0.0708, d_out_fake: 0.0713, g_loss_fake: 1.1137\r\n"
     ]
    },
    {
     "name": "stdout",
     "output_type": "stream",
     "text": [
      "Elapsed [9:27:12.173995], G_step [142940/1000000], D_step[142940/1000000], d_out_real: 0.0647, d_out_fake: 0.0629, g_loss_fake: 1.1196\r\n"
     ]
    },
    {
     "name": "stdout",
     "output_type": "stream",
     "text": [
      "Elapsed [9:27:23.082987], G_step [142950/1000000], D_step[142950/1000000], d_out_real: 0.0652, d_out_fake: 0.0042, g_loss_fake: 1.1209\r\n"
     ]
    },
    {
     "name": "stdout",
     "output_type": "stream",
     "text": [
      "Elapsed [9:27:34.394933], G_step [142960/1000000], D_step[142960/1000000], d_out_real: 0.0000, d_out_fake: 0.1089, g_loss_fake: 1.0524\r\n"
     ]
    },
    {
     "name": "stdout",
     "output_type": "stream",
     "text": [
      "Elapsed [9:27:45.300696], G_step [142970/1000000], D_step[142970/1000000], d_out_real: 0.1911, d_out_fake: 0.0027, g_loss_fake: 1.0578\r\n"
     ]
    },
    {
     "name": "stdout",
     "output_type": "stream",
     "text": [
      "Elapsed [9:27:56.190522], G_step [142980/1000000], D_step[142980/1000000], d_out_real: 0.0646, d_out_fake: 0.0019, g_loss_fake: 1.0438\r\n"
     ]
    },
    {
     "name": "stdout",
     "output_type": "stream",
     "text": [
      "Elapsed [9:28:07.483109], G_step [142990/1000000], D_step[142990/1000000], d_out_real: 0.0619, d_out_fake: 0.0188, g_loss_fake: 1.0871\r\n"
     ]
    },
    {
     "name": "stdout",
     "output_type": "stream",
     "text": [
      "Elapsed [9:28:18.372536], G_step [143000/1000000], D_step[143000/1000000], d_out_real: 0.0000, d_out_fake: 0.0000, g_loss_fake: 1.0992\r\n",
      "Sample images 143000_fake.png\r\n"
     ]
    },
    {
     "name": "stdout",
     "output_type": "stream",
     "text": [
      "Elapsed [9:28:29.487041], G_step [143010/1000000], D_step[143010/1000000], d_out_real: 0.1275, d_out_fake: 0.0000, g_loss_fake: 0.9879\r\n"
     ]
    },
    {
     "name": "stdout",
     "output_type": "stream",
     "text": [
      "Elapsed [9:28:41.144549], G_step [143020/1000000], D_step[143020/1000000], d_out_real: 0.0030, d_out_fake: 0.0034, g_loss_fake: 1.0353\r\n"
     ]
    },
    {
     "name": "stdout",
     "output_type": "stream",
     "text": [
      "Elapsed [9:28:52.221568], G_step [143030/1000000], D_step[143030/1000000], d_out_real: 0.0817, d_out_fake: 0.0555, g_loss_fake: 1.0350\r\n"
     ]
    },
    {
     "name": "stdout",
     "output_type": "stream",
     "text": [
      "Elapsed [9:29:03.157589], G_step [143040/1000000], D_step[143040/1000000], d_out_real: 0.0063, d_out_fake: 0.0170, g_loss_fake: 0.9953\r\n"
     ]
    },
    {
     "name": "stdout",
     "output_type": "stream",
     "text": [
      "Elapsed [9:29:14.561440], G_step [143050/1000000], D_step[143050/1000000], d_out_real: 0.0000, d_out_fake: 0.0578, g_loss_fake: 1.1417\r\n"
     ]
    },
    {
     "name": "stdout",
     "output_type": "stream",
     "text": [
      "Elapsed [9:29:25.170011], G_step [143060/1000000], D_step[143060/1000000], d_out_real: 0.0631, d_out_fake: 0.0673, g_loss_fake: 1.0625\r\n"
     ]
    },
    {
     "name": "stdout",
     "output_type": "stream",
     "text": [
      "Elapsed [9:29:37.104884], G_step [143070/1000000], D_step[143070/1000000], d_out_real: 0.0640, d_out_fake: 0.0000, g_loss_fake: 1.0311\r\n"
     ]
    },
    {
     "name": "stdout",
     "output_type": "stream",
     "text": [
      "Elapsed [9:29:47.909323], G_step [143080/1000000], D_step[143080/1000000], d_out_real: 0.0023, d_out_fake: 0.0008, g_loss_fake: 1.1160\r\n"
     ]
    },
    {
     "name": "stdout",
     "output_type": "stream",
     "text": [
      "Elapsed [9:29:58.471492], G_step [143090/1000000], D_step[143090/1000000], d_out_real: 0.0681, d_out_fake: 0.0498, g_loss_fake: 0.9919\r\n"
     ]
    },
    {
     "name": "stdout",
     "output_type": "stream",
     "text": [
      "Elapsed [9:30:09.680433], G_step [143100/1000000], D_step[143100/1000000], d_out_real: 0.0408, d_out_fake: 0.0751, g_loss_fake: 0.9485\r\n"
     ]
    },
    {
     "name": "stdout",
     "output_type": "stream",
     "text": [
      "Elapsed [9:30:20.930574], G_step [143110/1000000], D_step[143110/1000000], d_out_real: 0.0602, d_out_fake: 0.0000, g_loss_fake: 1.1081\r\n"
     ]
    },
    {
     "name": "stdout",
     "output_type": "stream",
     "text": [
      "Elapsed [9:30:31.551864], G_step [143120/1000000], D_step[143120/1000000], d_out_real: 0.0623, d_out_fake: 0.0000, g_loss_fake: 1.0531\r\n"
     ]
    },
    {
     "name": "stdout",
     "output_type": "stream",
     "text": [
      "Elapsed [9:30:42.376334], G_step [143130/1000000], D_step[143130/1000000], d_out_real: 0.1253, d_out_fake: 0.1186, g_loss_fake: 0.9225\r\n"
     ]
    },
    {
     "name": "stdout",
     "output_type": "stream",
     "text": [
      "Elapsed [9:30:53.143221], G_step [143140/1000000], D_step[143140/1000000], d_out_real: 0.1271, d_out_fake: 0.1079, g_loss_fake: 1.0631\r\n"
     ]
    },
    {
     "name": "stdout",
     "output_type": "stream",
     "text": [
      "Elapsed [9:31:03.851964], G_step [143150/1000000], D_step[143150/1000000], d_out_real: 0.0997, d_out_fake: 0.1533, g_loss_fake: 1.0867\r\n"
     ]
    },
    {
     "name": "stdout",
     "output_type": "stream",
     "text": [
      "Elapsed [9:31:15.400885], G_step [143160/1000000], D_step[143160/1000000], d_out_real: 0.0051, d_out_fake: 0.0606, g_loss_fake: 1.0019\r\n"
     ]
    },
    {
     "name": "stdout",
     "output_type": "stream",
     "text": [
      "Elapsed [9:31:26.397835], G_step [143170/1000000], D_step[143170/1000000], d_out_real: 0.0111, d_out_fake: 0.1918, g_loss_fake: 1.1790\r\n"
     ]
    },
    {
     "name": "stdout",
     "output_type": "stream",
     "text": [
      "Elapsed [9:31:37.043305], G_step [143180/1000000], D_step[143180/1000000], d_out_real: 0.0000, d_out_fake: 0.0007, g_loss_fake: 1.1279\r\n"
     ]
    },
    {
     "name": "stdout",
     "output_type": "stream",
     "text": [
      "Elapsed [9:31:48.537802], G_step [143190/1000000], D_step[143190/1000000], d_out_real: 0.0817, d_out_fake: 0.0000, g_loss_fake: 0.9674\r\n"
     ]
    },
    {
     "name": "stdout",
     "output_type": "stream",
     "text": [
      "Elapsed [9:31:59.208752], G_step [143200/1000000], D_step[143200/1000000], d_out_real: 0.0000, d_out_fake: 0.0011, g_loss_fake: 1.0659\r\n"
     ]
    },
    {
     "name": "stdout",
     "output_type": "stream",
     "text": [
      "Elapsed [9:32:10.945040], G_step [143210/1000000], D_step[143210/1000000], d_out_real: 0.0853, d_out_fake: 0.0002, g_loss_fake: 0.9812\r\n"
     ]
    },
    {
     "name": "stdout",
     "output_type": "stream",
     "text": [
      "Elapsed [9:32:21.678152], G_step [143220/1000000], D_step[143220/1000000], d_out_real: 0.0276, d_out_fake: 0.0448, g_loss_fake: 1.1788\r\n"
     ]
    },
    {
     "name": "stdout",
     "output_type": "stream",
     "text": [
      "Elapsed [9:32:32.446579], G_step [143230/1000000], D_step[143230/1000000], d_out_real: 0.0000, d_out_fake: 0.0647, g_loss_fake: 1.0830\r\n"
     ]
    },
    {
     "name": "stdout",
     "output_type": "stream",
     "text": [
      "Elapsed [9:32:43.556151], G_step [143240/1000000], D_step[143240/1000000], d_out_real: 0.0000, d_out_fake: 0.0020, g_loss_fake: 1.1215\r\n"
     ]
    },
    {
     "name": "stdout",
     "output_type": "stream",
     "text": [
      "Elapsed [9:32:54.967644], G_step [143250/1000000], D_step[143250/1000000], d_out_real: 0.1490, d_out_fake: 0.0000, g_loss_fake: 1.1281\r\n"
     ]
    },
    {
     "name": "stdout",
     "output_type": "stream",
     "text": [
      "Elapsed [9:33:05.671056], G_step [143260/1000000], D_step[143260/1000000], d_out_real: 0.0949, d_out_fake: 0.0000, g_loss_fake: 1.0350\r\n"
     ]
    },
    {
     "name": "stdout",
     "output_type": "stream",
     "text": [
      "Elapsed [9:33:16.567595], G_step [143270/1000000], D_step[143270/1000000], d_out_real: 0.0197, d_out_fake: 0.0004, g_loss_fake: 0.9417\r\n"
     ]
    },
    {
     "name": "stdout",
     "output_type": "stream",
     "text": [
      "Elapsed [9:33:27.379673], G_step [143280/1000000], D_step[143280/1000000], d_out_real: 0.0000, d_out_fake: 0.0123, g_loss_fake: 0.9339\r\n"
     ]
    },
    {
     "name": "stdout",
     "output_type": "stream",
     "text": [
      "Elapsed [9:33:38.323109], G_step [143290/1000000], D_step[143290/1000000], d_out_real: 0.0032, d_out_fake: 0.0581, g_loss_fake: 0.8948\r\n"
     ]
    },
    {
     "name": "stdout",
     "output_type": "stream",
     "text": [
      "Elapsed [9:33:49.547924], G_step [143300/1000000], D_step[143300/1000000], d_out_real: 0.0000, d_out_fake: 0.0022, g_loss_fake: 1.1075\r\n"
     ]
    },
    {
     "name": "stdout",
     "output_type": "stream",
     "text": [
      "Elapsed [9:34:00.072711], G_step [143310/1000000], D_step[143310/1000000], d_out_real: 0.0000, d_out_fake: 0.0000, g_loss_fake: 1.1057\r\n"
     ]
    },
    {
     "name": "stdout",
     "output_type": "stream",
     "text": [
      "Elapsed [9:34:11.180548], G_step [143320/1000000], D_step[143320/1000000], d_out_real: 0.1610, d_out_fake: 0.0001, g_loss_fake: 1.0045\r\n"
     ]
    },
    {
     "name": "stdout",
     "output_type": "stream",
     "text": [
      "Elapsed [9:34:22.997212], G_step [143330/1000000], D_step[143330/1000000], d_out_real: 0.0074, d_out_fake: 0.0000, g_loss_fake: 0.9043\r\n"
     ]
    },
    {
     "name": "stdout",
     "output_type": "stream",
     "text": [
      "Elapsed [9:34:33.553277], G_step [143340/1000000], D_step[143340/1000000], d_out_real: 0.0636, d_out_fake: 0.0000, g_loss_fake: 1.1269\r\n"
     ]
    },
    {
     "name": "stdout",
     "output_type": "stream",
     "text": [
      "Elapsed [9:34:44.991551], G_step [143350/1000000], D_step[143350/1000000], d_out_real: 0.1972, d_out_fake: 0.0585, g_loss_fake: 1.0116\r\n"
     ]
    },
    {
     "name": "stdout",
     "output_type": "stream",
     "text": [
      "Elapsed [9:34:57.548710], G_step [143360/1000000], D_step[143360/1000000], d_out_real: 0.0000, d_out_fake: 0.1364, g_loss_fake: 1.1301\r\n"
     ]
    },
    {
     "name": "stdout",
     "output_type": "stream",
     "text": [
      "Elapsed [9:35:08.719294], G_step [143370/1000000], D_step[143370/1000000], d_out_real: 0.0641, d_out_fake: 0.0668, g_loss_fake: 1.1090\r\n"
     ]
    },
    {
     "name": "stdout",
     "output_type": "stream",
     "text": [
      "Elapsed [9:35:19.348947], G_step [143380/1000000], D_step[143380/1000000], d_out_real: 0.2359, d_out_fake: 0.0000, g_loss_fake: 1.0824\r\n"
     ]
    },
    {
     "name": "stdout",
     "output_type": "stream",
     "text": [
      "Elapsed [9:35:30.396911], G_step [143390/1000000], D_step[143390/1000000], d_out_real: 0.0658, d_out_fake: 0.0000, g_loss_fake: 1.2086\r\n"
     ]
    },
    {
     "name": "stdout",
     "output_type": "stream",
     "text": [
      "Elapsed [9:35:41.144580], G_step [143400/1000000], D_step[143400/1000000], d_out_real: 0.1136, d_out_fake: 0.0137, g_loss_fake: 1.1316\r\n"
     ]
    },
    {
     "name": "stdout",
     "output_type": "stream",
     "text": [
      "Elapsed [9:35:52.769902], G_step [143410/1000000], D_step[143410/1000000], d_out_real: 0.0000, d_out_fake: 0.0005, g_loss_fake: 1.1263\r\n"
     ]
    },
    {
     "name": "stdout",
     "output_type": "stream",
     "text": [
      "Elapsed [9:36:03.739570], G_step [143420/1000000], D_step[143420/1000000], d_out_real: 0.0000, d_out_fake: 0.0027, g_loss_fake: 1.1852\r\n"
     ]
    },
    {
     "name": "stdout",
     "output_type": "stream",
     "text": [
      "Elapsed [9:36:14.558541], G_step [143430/1000000], D_step[143430/1000000], d_out_real: 0.0664, d_out_fake: 0.0786, g_loss_fake: 1.0388\r\n"
     ]
    },
    {
     "name": "stdout",
     "output_type": "stream",
     "text": [
      "Elapsed [9:36:25.249470], G_step [143440/1000000], D_step[143440/1000000], d_out_real: 0.0921, d_out_fake: 0.0009, g_loss_fake: 1.0675\r\n"
     ]
    },
    {
     "name": "stdout",
     "output_type": "stream",
     "text": [
      "Elapsed [9:36:36.093849], G_step [143450/1000000], D_step[143450/1000000], d_out_real: 0.0641, d_out_fake: 0.1065, g_loss_fake: 1.1407\r\n"
     ]
    },
    {
     "name": "stdout",
     "output_type": "stream",
     "text": [
      "Elapsed [9:36:47.587219], G_step [143460/1000000], D_step[143460/1000000], d_out_real: 0.0746, d_out_fake: 0.0005, g_loss_fake: 1.0680\r\n"
     ]
    },
    {
     "name": "stdout",
     "output_type": "stream",
     "text": [
      "Elapsed [9:36:58.821079], G_step [143470/1000000], D_step[143470/1000000], d_out_real: 0.0301, d_out_fake: 0.0003, g_loss_fake: 0.9229\r\n"
     ]
    },
    {
     "name": "stdout",
     "output_type": "stream",
     "text": [
      "Elapsed [9:37:09.598324], G_step [143480/1000000], D_step[143480/1000000], d_out_real: 0.1308, d_out_fake: 0.0000, g_loss_fake: 1.0315\r\n"
     ]
    },
    {
     "name": "stdout",
     "output_type": "stream",
     "text": [
      "Elapsed [9:37:20.384804], G_step [143490/1000000], D_step[143490/1000000], d_out_real: 0.0000, d_out_fake: 0.0541, g_loss_fake: 1.1296\r\n"
     ]
    },
    {
     "name": "stdout",
     "output_type": "stream",
     "text": [
      "Elapsed [9:37:30.960478], G_step [143500/1000000], D_step[143500/1000000], d_out_real: 0.0779, d_out_fake: 0.0086, g_loss_fake: 1.0235\r\n"
     ]
    },
    {
     "name": "stdout",
     "output_type": "stream",
     "text": [
      "Elapsed [9:37:42.008770], G_step [143510/1000000], D_step[143510/1000000], d_out_real: 0.0674, d_out_fake: 0.0000, g_loss_fake: 1.1279\r\n"
     ]
    },
    {
     "name": "stdout",
     "output_type": "stream",
     "text": [
      "Elapsed [9:37:53.309712], G_step [143520/1000000], D_step[143520/1000000], d_out_real: 0.0000, d_out_fake: 0.0635, g_loss_fake: 1.0607\r\n"
     ]
    },
    {
     "name": "stdout",
     "output_type": "stream",
     "text": [
      "Elapsed [9:38:06.214706], G_step [143530/1000000], D_step[143530/1000000], d_out_real: 0.0110, d_out_fake: 0.0000, g_loss_fake: 1.1041\r\n"
     ]
    },
    {
     "name": "stdout",
     "output_type": "stream",
     "text": [
      "Elapsed [9:38:17.174302], G_step [143540/1000000], D_step[143540/1000000], d_out_real: 0.2330, d_out_fake: 0.0000, g_loss_fake: 0.9302\r\n"
     ]
    },
    {
     "name": "stdout",
     "output_type": "stream",
     "text": [
      "Elapsed [9:38:27.772376], G_step [143550/1000000], D_step[143550/1000000], d_out_real: 0.0644, d_out_fake: 0.0797, g_loss_fake: 1.0897\r\n"
     ]
    },
    {
     "name": "stdout",
     "output_type": "stream",
     "text": [
      "Elapsed [9:38:38.756520], G_step [143560/1000000], D_step[143560/1000000], d_out_real: 0.1519, d_out_fake: 0.1052, g_loss_fake: 1.0542\r\n"
     ]
    },
    {
     "name": "stdout",
     "output_type": "stream",
     "text": [
      "Elapsed [9:38:49.814481], G_step [143570/1000000], D_step[143570/1000000], d_out_real: 0.1139, d_out_fake: 0.0623, g_loss_fake: 0.9689\r\n"
     ]
    },
    {
     "name": "stdout",
     "output_type": "stream",
     "text": [
      "Elapsed [9:39:00.980552], G_step [143580/1000000], D_step[143580/1000000], d_out_real: 0.1275, d_out_fake: 0.0707, g_loss_fake: 1.0808\r\n"
     ]
    },
    {
     "name": "stdout",
     "output_type": "stream",
     "text": [
      "Elapsed [9:39:12.773537], G_step [143590/1000000], D_step[143590/1000000], d_out_real: 0.0551, d_out_fake: 0.0538, g_loss_fake: 1.1296\r\n"
     ]
    },
    {
     "name": "stdout",
     "output_type": "stream",
     "text": [
      "Elapsed [9:39:24.346226], G_step [143600/1000000], D_step[143600/1000000], d_out_real: 0.0059, d_out_fake: 0.0492, g_loss_fake: 1.1400\r\n"
     ]
    },
    {
     "name": "stdout",
     "output_type": "stream",
     "text": [
      "Elapsed [9:39:35.280198], G_step [143610/1000000], D_step[143610/1000000], d_out_real: 0.0000, d_out_fake: 0.0519, g_loss_fake: 1.1592\r\n"
     ]
    },
    {
     "name": "stdout",
     "output_type": "stream",
     "text": [
      "Elapsed [9:39:46.488092], G_step [143620/1000000], D_step[143620/1000000], d_out_real: 0.0021, d_out_fake: 0.0813, g_loss_fake: 1.0957\r\n"
     ]
    },
    {
     "name": "stdout",
     "output_type": "stream",
     "text": [
      "Elapsed [9:39:57.133011], G_step [143630/1000000], D_step[143630/1000000], d_out_real: 0.0597, d_out_fake: 0.0084, g_loss_fake: 1.0814\r\n"
     ]
    },
    {
     "name": "stdout",
     "output_type": "stream",
     "text": [
      "Elapsed [9:40:07.996482], G_step [143640/1000000], D_step[143640/1000000], d_out_real: 0.1268, d_out_fake: 0.0438, g_loss_fake: 1.0420\r\n"
     ]
    },
    {
     "name": "stdout",
     "output_type": "stream",
     "text": [
      "Elapsed [9:40:18.757750], G_step [143650/1000000], D_step[143650/1000000], d_out_real: 0.0624, d_out_fake: 0.0723, g_loss_fake: 1.0680\r\n"
     ]
    },
    {
     "name": "stdout",
     "output_type": "stream",
     "text": [
      "Elapsed [9:40:30.530034], G_step [143660/1000000], D_step[143660/1000000], d_out_real: 0.1900, d_out_fake: 0.0000, g_loss_fake: 1.0287\r\n"
     ]
    },
    {
     "name": "stdout",
     "output_type": "stream",
     "text": [
      "Elapsed [9:40:42.162940], G_step [143670/1000000], D_step[143670/1000000], d_out_real: 0.1331, d_out_fake: 0.0001, g_loss_fake: 1.0297\r\n"
     ]
    },
    {
     "name": "stdout",
     "output_type": "stream",
     "text": [
      "Elapsed [9:40:52.929843], G_step [143680/1000000], D_step[143680/1000000], d_out_real: 0.1302, d_out_fake: 0.0000, g_loss_fake: 0.9606\r\n"
     ]
    },
    {
     "name": "stdout",
     "output_type": "stream",
     "text": [
      "Elapsed [9:41:04.026369], G_step [143690/1000000], D_step[143690/1000000], d_out_real: 0.0672, d_out_fake: 0.0628, g_loss_fake: 1.0968\r\n"
     ]
    },
    {
     "name": "stdout",
     "output_type": "stream",
     "text": [
      "Elapsed [9:41:15.664414], G_step [143700/1000000], D_step[143700/1000000], d_out_real: 0.0664, d_out_fake: 0.0726, g_loss_fake: 1.0899\r\n"
     ]
    },
    {
     "name": "stdout",
     "output_type": "stream",
     "text": [
      "save torch\r\n"
     ]
    },
    {
     "name": "stdout",
     "output_type": "stream",
     "text": [
      "Elapsed [9:41:27.222487], G_step [143710/1000000], D_step[143710/1000000], d_out_real: 0.0820, d_out_fake: 0.0444, g_loss_fake: 1.0930\r\n"
     ]
    },
    {
     "name": "stdout",
     "output_type": "stream",
     "text": [
      "Elapsed [9:41:38.101731], G_step [143720/1000000], D_step[143720/1000000], d_out_real: 0.0032, d_out_fake: 0.0000, g_loss_fake: 1.0516\r\n"
     ]
    },
    {
     "name": "stdout",
     "output_type": "stream",
     "text": [
      "Elapsed [9:41:49.263431], G_step [143730/1000000], D_step[143730/1000000], d_out_real: 0.1685, d_out_fake: 0.0585, g_loss_fake: 0.6207\r\n"
     ]
    },
    {
     "name": "stdout",
     "output_type": "stream",
     "text": [
      "Elapsed [9:42:00.549806], G_step [143740/1000000], D_step[143740/1000000], d_out_real: 0.0519, d_out_fake: 0.0330, g_loss_fake: 1.1177\r\n"
     ]
    },
    {
     "name": "stdout",
     "output_type": "stream",
     "text": [
      "Elapsed [9:42:11.135804], G_step [143750/1000000], D_step[143750/1000000], d_out_real: 0.0026, d_out_fake: 0.2431, g_loss_fake: 1.1557\r\n"
     ]
    },
    {
     "name": "stdout",
     "output_type": "stream",
     "text": [
      "Elapsed [9:42:21.753717], G_step [143760/1000000], D_step[143760/1000000], d_out_real: 0.0000, d_out_fake: 0.0000, g_loss_fake: 1.0285\r\n"
     ]
    },
    {
     "name": "stdout",
     "output_type": "stream",
     "text": [
      "Elapsed [9:42:33.231742], G_step [143770/1000000], D_step[143770/1000000], d_out_real: 0.1268, d_out_fake: 0.0000, g_loss_fake: 1.0304\r\n"
     ]
    },
    {
     "name": "stdout",
     "output_type": "stream",
     "text": [
      "Elapsed [9:42:43.932399], G_step [143780/1000000], D_step[143780/1000000], d_out_real: 0.1506, d_out_fake: 0.0000, g_loss_fake: 1.1121\r\n"
     ]
    },
    {
     "name": "stdout",
     "output_type": "stream",
     "text": [
      "Elapsed [9:42:54.861968], G_step [143790/1000000], D_step[143790/1000000], d_out_real: 0.0709, d_out_fake: 0.0644, g_loss_fake: 1.0341\r\n"
     ]
    },
    {
     "name": "stdout",
     "output_type": "stream",
     "text": [
      "Elapsed [9:43:05.912684], G_step [143800/1000000], D_step[143800/1000000], d_out_real: 0.0903, d_out_fake: 0.0441, g_loss_fake: 0.9343\r\n"
     ]
    },
    {
     "name": "stdout",
     "output_type": "stream",
     "text": [
      "Elapsed [9:43:16.796386], G_step [143810/1000000], D_step[143810/1000000], d_out_real: 0.0629, d_out_fake: 0.0000, g_loss_fake: 1.0361\r\n"
     ]
    },
    {
     "name": "stdout",
     "output_type": "stream",
     "text": [
      "Elapsed [9:43:27.630437], G_step [143820/1000000], D_step[143820/1000000], d_out_real: 0.0000, d_out_fake: 0.0606, g_loss_fake: 1.1958\r\n"
     ]
    },
    {
     "name": "stdout",
     "output_type": "stream",
     "text": [
      "Elapsed [9:43:38.698745], G_step [143830/1000000], D_step[143830/1000000], d_out_real: 0.0003, d_out_fake: 0.0283, g_loss_fake: 1.1511\r\n"
     ]
    },
    {
     "name": "stdout",
     "output_type": "stream",
     "text": [
      "Elapsed [9:43:49.815624], G_step [143840/1000000], D_step[143840/1000000], d_out_real: 0.1761, d_out_fake: 0.0079, g_loss_fake: 1.0565\r\n"
     ]
    },
    {
     "name": "stdout",
     "output_type": "stream",
     "text": [
      "Elapsed [9:44:00.413584], G_step [143850/1000000], D_step[143850/1000000], d_out_real: 0.0315, d_out_fake: 0.0000, g_loss_fake: 0.8310\r\n"
     ]
    },
    {
     "name": "stdout",
     "output_type": "stream",
     "text": [
      "Elapsed [9:44:11.785907], G_step [143860/1000000], D_step[143860/1000000], d_out_real: 0.0961, d_out_fake: 0.0642, g_loss_fake: 0.9065\r\n"
     ]
    },
    {
     "name": "stdout",
     "output_type": "stream",
     "text": [
      "Elapsed [9:44:23.116861], G_step [143870/1000000], D_step[143870/1000000], d_out_real: 0.0000, d_out_fake: 0.0000, g_loss_fake: 1.1423\r\n"
     ]
    },
    {
     "name": "stdout",
     "output_type": "stream",
     "text": [
      "Elapsed [9:44:34.365834], G_step [143880/1000000], D_step[143880/1000000], d_out_real: 0.0652, d_out_fake: 0.0420, g_loss_fake: 1.0595\r\n"
     ]
    },
    {
     "name": "stdout",
     "output_type": "stream",
     "text": [
      "Elapsed [9:44:46.534581], G_step [143890/1000000], D_step[143890/1000000], d_out_real: 0.0438, d_out_fake: 0.0094, g_loss_fake: 1.0552\r\n"
     ]
    },
    {
     "name": "stdout",
     "output_type": "stream",
     "text": [
      "Elapsed [9:44:57.224341], G_step [143900/1000000], D_step[143900/1000000], d_out_real: 0.0611, d_out_fake: 0.0000, g_loss_fake: 1.0894\r\n"
     ]
    },
    {
     "name": "stdout",
     "output_type": "stream",
     "text": [
      "Elapsed [9:45:07.815018], G_step [143910/1000000], D_step[143910/1000000], d_out_real: 0.0000, d_out_fake: 0.0784, g_loss_fake: 1.0141\r\n"
     ]
    },
    {
     "name": "stdout",
     "output_type": "stream",
     "text": [
      "Elapsed [9:45:19.081105], G_step [143920/1000000], D_step[143920/1000000], d_out_real: 0.1889, d_out_fake: 0.0568, g_loss_fake: 0.9309\r\n"
     ]
    },
    {
     "name": "stdout",
     "output_type": "stream",
     "text": [
      "Elapsed [9:45:30.860583], G_step [143930/1000000], D_step[143930/1000000], d_out_real: 0.0973, d_out_fake: 0.0010, g_loss_fake: 0.9641\r\n"
     ]
    },
    {
     "name": "stdout",
     "output_type": "stream",
     "text": [
      "Elapsed [9:45:42.567778], G_step [143940/1000000], D_step[143940/1000000], d_out_real: 0.0000, d_out_fake: 0.1391, g_loss_fake: 1.0570\r\n"
     ]
    },
    {
     "name": "stdout",
     "output_type": "stream",
     "text": [
      "Elapsed [9:45:53.301960], G_step [143950/1000000], D_step[143950/1000000], d_out_real: 0.0000, d_out_fake: 0.0072, g_loss_fake: 1.1440\r\n"
     ]
    },
    {
     "name": "stdout",
     "output_type": "stream",
     "text": [
      "Elapsed [9:46:04.342443], G_step [143960/1000000], D_step[143960/1000000], d_out_real: 0.0635, d_out_fake: 0.0000, g_loss_fake: 0.9706\r\n"
     ]
    },
    {
     "name": "stdout",
     "output_type": "stream",
     "text": [
      "Elapsed [9:46:15.298265], G_step [143970/1000000], D_step[143970/1000000], d_out_real: 0.0000, d_out_fake: 0.0026, g_loss_fake: 1.1497\r\n"
     ]
    },
    {
     "name": "stdout",
     "output_type": "stream",
     "text": [
      "Elapsed [9:46:26.353291], G_step [143980/1000000], D_step[143980/1000000], d_out_real: 0.0940, d_out_fake: 0.0027, g_loss_fake: 1.0885\r\n"
     ]
    },
    {
     "name": "stdout",
     "output_type": "stream",
     "text": [
      "Elapsed [9:46:37.355742], G_step [143990/1000000], D_step[143990/1000000], d_out_real: 0.0674, d_out_fake: 0.0000, g_loss_fake: 1.0062\r\n"
     ]
    },
    {
     "name": "stdout",
     "output_type": "stream",
     "text": [
      "Elapsed [9:46:48.216137], G_step [144000/1000000], D_step[144000/1000000], d_out_real: 0.1436, d_out_fake: 0.0000, g_loss_fake: 1.0272\r\n",
      "Sample images 144000_fake.png\r\n"
     ]
    },
    {
     "name": "stdout",
     "output_type": "stream",
     "text": [
      "Elapsed [9:46:59.229864], G_step [144010/1000000], D_step[144010/1000000], d_out_real: 0.0210, d_out_fake: 0.0351, g_loss_fake: 1.0655\r\n"
     ]
    },
    {
     "name": "stdout",
     "output_type": "stream",
     "text": [
      "Elapsed [9:47:09.856560], G_step [144020/1000000], D_step[144020/1000000], d_out_real: 0.0456, d_out_fake: 0.1283, g_loss_fake: 0.9429\r\n"
     ]
    },
    {
     "name": "stdout",
     "output_type": "stream",
     "text": [
      "Elapsed [9:47:20.373037], G_step [144030/1000000], D_step[144030/1000000], d_out_real: 0.0000, d_out_fake: 0.1286, g_loss_fake: 1.1101\r\n"
     ]
    },
    {
     "name": "stdout",
     "output_type": "stream",
     "text": [
      "Elapsed [9:47:31.784260], G_step [144040/1000000], D_step[144040/1000000], d_out_real: 0.0000, d_out_fake: 0.0865, g_loss_fake: 1.1105\r\n"
     ]
    },
    {
     "name": "stdout",
     "output_type": "stream",
     "text": [
      "Elapsed [9:47:42.995316], G_step [144050/1000000], D_step[144050/1000000], d_out_real: 0.1314, d_out_fake: 0.0000, g_loss_fake: 1.0880\r\n"
     ]
    },
    {
     "name": "stdout",
     "output_type": "stream",
     "text": [
      "Elapsed [9:47:53.554564], G_step [144060/1000000], D_step[144060/1000000], d_out_real: 0.0000, d_out_fake: 0.0000, g_loss_fake: 1.0842\r\n"
     ]
    },
    {
     "name": "stdout",
     "output_type": "stream",
     "text": [
      "Elapsed [9:48:04.538225], G_step [144070/1000000], D_step[144070/1000000], d_out_real: 0.0624, d_out_fake: 0.0023, g_loss_fake: 1.1169\r\n"
     ]
    },
    {
     "name": "stdout",
     "output_type": "stream",
     "text": [
      "Elapsed [9:48:15.371028], G_step [144080/1000000], D_step[144080/1000000], d_out_real: 0.0624, d_out_fake: 0.0000, g_loss_fake: 1.0851\r\n"
     ]
    },
    {
     "name": "stdout",
     "output_type": "stream",
     "text": [
      "Elapsed [9:48:26.863650], G_step [144090/1000000], D_step[144090/1000000], d_out_real: 0.0000, d_out_fake: 0.1613, g_loss_fake: 1.0994\r\n"
     ]
    },
    {
     "name": "stdout",
     "output_type": "stream",
     "text": [
      "Elapsed [9:48:37.642940], G_step [144100/1000000], D_step[144100/1000000], d_out_real: 0.0954, d_out_fake: 0.0365, g_loss_fake: 0.9164\r\n"
     ]
    },
    {
     "name": "stdout",
     "output_type": "stream",
     "text": [
      "Elapsed [9:48:48.258428], G_step [144110/1000000], D_step[144110/1000000], d_out_real: 0.0767, d_out_fake: 0.0000, g_loss_fake: 1.0714\r\n"
     ]
    },
    {
     "name": "stdout",
     "output_type": "stream",
     "text": [
      "Elapsed [9:48:58.906079], G_step [144120/1000000], D_step[144120/1000000], d_out_real: 0.0010, d_out_fake: 0.0000, g_loss_fake: 1.0378\r\n"
     ]
    },
    {
     "name": "stdout",
     "output_type": "stream",
     "text": [
      "Elapsed [9:49:10.895210], G_step [144130/1000000], D_step[144130/1000000], d_out_real: 0.0079, d_out_fake: 0.0217, g_loss_fake: 1.1037\r\n"
     ]
    },
    {
     "name": "stdout",
     "output_type": "stream",
     "text": [
      "Elapsed [9:49:21.784652], G_step [144140/1000000], D_step[144140/1000000], d_out_real: 0.0702, d_out_fake: 0.0787, g_loss_fake: 1.1467\r\n"
     ]
    },
    {
     "name": "stdout",
     "output_type": "stream",
     "text": [
      "Elapsed [9:49:32.504703], G_step [144150/1000000], D_step[144150/1000000], d_out_real: 0.0641, d_out_fake: 0.0187, g_loss_fake: 1.0327\r\n"
     ]
    },
    {
     "name": "stdout",
     "output_type": "stream",
     "text": [
      "Elapsed [9:49:43.695146], G_step [144160/1000000], D_step[144160/1000000], d_out_real: 0.0074, d_out_fake: 0.0000, g_loss_fake: 1.1120\r\n"
     ]
    },
    {
     "name": "stdout",
     "output_type": "stream",
     "text": [
      "Elapsed [9:49:54.750816], G_step [144170/1000000], D_step[144170/1000000], d_out_real: 0.0000, d_out_fake: 0.0063, g_loss_fake: 1.2214\r\n"
     ]
    },
    {
     "name": "stdout",
     "output_type": "stream",
     "text": [
      "Elapsed [9:50:05.244382], G_step [144180/1000000], D_step[144180/1000000], d_out_real: 0.1270, d_out_fake: 0.0000, g_loss_fake: 1.1097\r\n"
     ]
    },
    {
     "name": "stdout",
     "output_type": "stream",
     "text": [
      "Elapsed [9:50:16.829930], G_step [144190/1000000], D_step[144190/1000000], d_out_real: 0.0000, d_out_fake: 0.0752, g_loss_fake: 1.1306\r\n"
     ]
    },
    {
     "name": "stdout",
     "output_type": "stream",
     "text": [
      "Elapsed [9:50:27.980478], G_step [144200/1000000], D_step[144200/1000000], d_out_real: 0.0509, d_out_fake: 0.0000, g_loss_fake: 1.1125\r\n"
     ]
    },
    {
     "name": "stdout",
     "output_type": "stream",
     "text": [
      "Elapsed [9:50:38.780406], G_step [144210/1000000], D_step[144210/1000000], d_out_real: 0.0013, d_out_fake: 0.0000, g_loss_fake: 1.1239\r\n"
     ]
    },
    {
     "name": "stdout",
     "output_type": "stream",
     "text": [
      "Elapsed [9:50:50.179255], G_step [144220/1000000], D_step[144220/1000000], d_out_real: 0.0000, d_out_fake: 0.0000, g_loss_fake: 1.0978\r\n"
     ]
    },
    {
     "name": "stdout",
     "output_type": "stream",
     "text": [
      "Elapsed [9:51:01.511768], G_step [144230/1000000], D_step[144230/1000000], d_out_real: 0.0706, d_out_fake: 0.0085, g_loss_fake: 0.9859\r\n"
     ]
    },
    {
     "name": "stdout",
     "output_type": "stream",
     "text": [
      "Elapsed [9:51:12.381507], G_step [144240/1000000], D_step[144240/1000000], d_out_real: 0.0635, d_out_fake: 0.3559, g_loss_fake: 1.1194\r\n"
     ]
    },
    {
     "name": "stdout",
     "output_type": "stream",
     "text": [
      "Elapsed [9:51:23.160593], G_step [144250/1000000], D_step[144250/1000000], d_out_real: 0.2192, d_out_fake: 0.0000, g_loss_fake: 1.0911\r\n"
     ]
    },
    {
     "name": "stdout",
     "output_type": "stream",
     "text": [
      "Elapsed [9:51:35.139839], G_step [144260/1000000], D_step[144260/1000000], d_out_real: 0.0178, d_out_fake: 0.0029, g_loss_fake: 0.9808\r\n"
     ]
    },
    {
     "name": "stdout",
     "output_type": "stream",
     "text": [
      "Elapsed [9:51:46.833682], G_step [144270/1000000], D_step[144270/1000000], d_out_real: 0.0033, d_out_fake: 0.0000, g_loss_fake: 1.0586\r\n"
     ]
    },
    {
     "name": "stdout",
     "output_type": "stream",
     "text": [
      "Elapsed [9:51:58.349169], G_step [144280/1000000], D_step[144280/1000000], d_out_real: 0.0571, d_out_fake: 0.0818, g_loss_fake: 1.0145\r\n"
     ]
    },
    {
     "name": "stdout",
     "output_type": "stream",
     "text": [
      "Elapsed [9:52:08.885367], G_step [144290/1000000], D_step[144290/1000000], d_out_real: 0.0564, d_out_fake: 0.0000, g_loss_fake: 1.0152\r\n"
     ]
    },
    {
     "name": "stdout",
     "output_type": "stream",
     "text": [
      "Elapsed [9:52:19.831847], G_step [144300/1000000], D_step[144300/1000000], d_out_real: 0.0760, d_out_fake: 0.0620, g_loss_fake: 1.0870\r\n"
     ]
    },
    {
     "name": "stdout",
     "output_type": "stream",
     "text": [
      "Elapsed [9:52:30.589100], G_step [144310/1000000], D_step[144310/1000000], d_out_real: 0.0322, d_out_fake: 0.0000, g_loss_fake: 1.0337\r\n"
     ]
    },
    {
     "name": "stdout",
     "output_type": "stream",
     "text": [
      "Elapsed [9:52:41.250398], G_step [144320/1000000], D_step[144320/1000000], d_out_real: 0.2620, d_out_fake: 0.0000, g_loss_fake: 0.9717\r\n"
     ]
    },
    {
     "name": "stdout",
     "output_type": "stream",
     "text": [
      "Elapsed [9:52:52.762682], G_step [144330/1000000], D_step[144330/1000000], d_out_real: 0.0000, d_out_fake: 0.0463, g_loss_fake: 1.1269\r\n"
     ]
    },
    {
     "name": "stdout",
     "output_type": "stream",
     "text": [
      "Elapsed [9:53:03.500290], G_step [144340/1000000], D_step[144340/1000000], d_out_real: 0.0611, d_out_fake: 0.0057, g_loss_fake: 1.0594\r\n"
     ]
    },
    {
     "name": "stdout",
     "output_type": "stream",
     "text": [
      "Elapsed [9:53:14.730976], G_step [144350/1000000], D_step[144350/1000000], d_out_real: 0.0070, d_out_fake: 0.0010, g_loss_fake: 1.0802\r\n"
     ]
    },
    {
     "name": "stdout",
     "output_type": "stream",
     "text": [
      "Elapsed [9:53:25.653394], G_step [144360/1000000], D_step[144360/1000000], d_out_real: 0.3027, d_out_fake: 0.1123, g_loss_fake: 1.0646\r\n"
     ]
    },
    {
     "name": "stdout",
     "output_type": "stream",
     "text": [
      "Elapsed [9:53:36.315048], G_step [144370/1000000], D_step[144370/1000000], d_out_real: 0.0652, d_out_fake: 0.0828, g_loss_fake: 1.1717\r\n"
     ]
    },
    {
     "name": "stdout",
     "output_type": "stream",
     "text": [
      "Elapsed [9:53:47.359281], G_step [144380/1000000], D_step[144380/1000000], d_out_real: 0.0426, d_out_fake: 0.0511, g_loss_fake: 1.0353\r\n"
     ]
    },
    {
     "name": "stdout",
     "output_type": "stream",
     "text": [
      "Elapsed [9:53:58.300644], G_step [144390/1000000], D_step[144390/1000000], d_out_real: 0.0261, d_out_fake: 0.0000, g_loss_fake: 1.0965\r\n"
     ]
    },
    {
     "name": "stdout",
     "output_type": "stream",
     "text": [
      "Elapsed [9:54:09.347575], G_step [144400/1000000], D_step[144400/1000000], d_out_real: 0.0000, d_out_fake: 0.0489, g_loss_fake: 1.0872\r\n"
     ]
    },
    {
     "name": "stdout",
     "output_type": "stream",
     "text": [
      "Elapsed [9:54:20.443448], G_step [144410/1000000], D_step[144410/1000000], d_out_real: 0.0000, d_out_fake: 0.0021, g_loss_fake: 1.1496\r\n"
     ]
    },
    {
     "name": "stdout",
     "output_type": "stream",
     "text": [
      "Elapsed [9:54:31.770814], G_step [144420/1000000], D_step[144420/1000000], d_out_real: 0.0032, d_out_fake: 0.0017, g_loss_fake: 1.1281\r\n"
     ]
    },
    {
     "name": "stdout",
     "output_type": "stream",
     "text": [
      "Elapsed [9:54:43.593545], G_step [144430/1000000], D_step[144430/1000000], d_out_real: 0.1381, d_out_fake: 0.0000, g_loss_fake: 1.0461\r\n"
     ]
    },
    {
     "name": "stdout",
     "output_type": "stream",
     "text": [
      "Elapsed [9:54:54.468405], G_step [144440/1000000], D_step[144440/1000000], d_out_real: 0.0654, d_out_fake: 0.0899, g_loss_fake: 1.1274\r\n"
     ]
    },
    {
     "name": "stdout",
     "output_type": "stream",
     "text": [
      "Elapsed [9:55:06.220763], G_step [144450/1000000], D_step[144450/1000000], d_out_real: 0.0000, d_out_fake: 0.0163, g_loss_fake: 1.0510\r\n"
     ]
    },
    {
     "name": "stdout",
     "output_type": "stream",
     "text": [
      "Elapsed [9:55:17.185425], G_step [144460/1000000], D_step[144460/1000000], d_out_real: 0.0823, d_out_fake: 0.0000, g_loss_fake: 1.0886\r\n"
     ]
    },
    {
     "name": "stdout",
     "output_type": "stream",
     "text": [
      "Elapsed [9:55:29.401814], G_step [144470/1000000], D_step[144470/1000000], d_out_real: 0.0000, d_out_fake: 0.0015, g_loss_fake: 1.0713\r\n"
     ]
    },
    {
     "name": "stdout",
     "output_type": "stream",
     "text": [
      "Elapsed [9:55:40.450905], G_step [144480/1000000], D_step[144480/1000000], d_out_real: 0.1308, d_out_fake: 0.0044, g_loss_fake: 1.0361\r\n"
     ]
    },
    {
     "name": "stdout",
     "output_type": "stream",
     "text": [
      "Elapsed [9:55:52.037497], G_step [144490/1000000], D_step[144490/1000000], d_out_real: 0.1744, d_out_fake: 0.0000, g_loss_fake: 1.0135\r\n"
     ]
    },
    {
     "name": "stdout",
     "output_type": "stream",
     "text": [
      "Elapsed [9:56:03.226374], G_step [144500/1000000], D_step[144500/1000000], d_out_real: 0.1346, d_out_fake: 0.0015, g_loss_fake: 0.9625\r\n"
     ]
    },
    {
     "name": "stdout",
     "output_type": "stream",
     "text": [
      "Elapsed [9:56:13.941133], G_step [144510/1000000], D_step[144510/1000000], d_out_real: 0.1443, d_out_fake: 0.0001, g_loss_fake: 1.0516\r\n"
     ]
    },
    {
     "name": "stdout",
     "output_type": "stream",
     "text": [
      "Elapsed [9:56:26.028919], G_step [144520/1000000], D_step[144520/1000000], d_out_real: 0.1640, d_out_fake: 0.0000, g_loss_fake: 1.0477\r\n"
     ]
    },
    {
     "name": "stdout",
     "output_type": "stream",
     "text": [
      "Elapsed [9:56:36.832526], G_step [144530/1000000], D_step[144530/1000000], d_out_real: 0.0223, d_out_fake: 0.0000, g_loss_fake: 1.0911\r\n"
     ]
    },
    {
     "name": "stdout",
     "output_type": "stream",
     "text": [
      "Elapsed [9:56:47.963079], G_step [144540/1000000], D_step[144540/1000000], d_out_real: 0.1844, d_out_fake: 0.0000, g_loss_fake: 1.0226\r\n"
     ]
    },
    {
     "name": "stdout",
     "output_type": "stream",
     "text": [
      "Elapsed [9:56:59.359300], G_step [144550/1000000], D_step[144550/1000000], d_out_real: 0.0650, d_out_fake: 0.0000, g_loss_fake: 1.1339\r\n"
     ]
    },
    {
     "name": "stdout",
     "output_type": "stream",
     "text": [
      "Elapsed [9:57:10.662886], G_step [144560/1000000], D_step[144560/1000000], d_out_real: 0.0000, d_out_fake: 0.0000, g_loss_fake: 1.0676\r\n"
     ]
    },
    {
     "name": "stdout",
     "output_type": "stream",
     "text": [
      "Elapsed [9:57:21.621753], G_step [144570/1000000], D_step[144570/1000000], d_out_real: 0.0057, d_out_fake: 0.0000, g_loss_fake: 1.1049\r\n"
     ]
    },
    {
     "name": "stdout",
     "output_type": "stream",
     "text": [
      "Elapsed [9:57:32.631855], G_step [144580/1000000], D_step[144580/1000000], d_out_real: 0.0031, d_out_fake: 0.0155, g_loss_fake: 1.1788\r\n"
     ]
    },
    {
     "name": "stdout",
     "output_type": "stream",
     "text": [
      "Elapsed [9:57:43.806082], G_step [144590/1000000], D_step[144590/1000000], d_out_real: 0.0376, d_out_fake: 0.0003, g_loss_fake: 0.9385\r\n"
     ]
    },
    {
     "name": "stdout",
     "output_type": "stream",
     "text": [
      "Elapsed [9:57:54.895480], G_step [144600/1000000], D_step[144600/1000000], d_out_real: 0.0582, d_out_fake: 0.0029, g_loss_fake: 1.1724\r\n"
     ]
    },
    {
     "name": "stdout",
     "output_type": "stream",
     "text": [
      "Elapsed [9:58:06.578206], G_step [144610/1000000], D_step[144610/1000000], d_out_real: 0.1314, d_out_fake: 0.0614, g_loss_fake: 1.1156\r\n"
     ]
    },
    {
     "name": "stdout",
     "output_type": "stream",
     "text": [
      "Elapsed [9:58:17.307414], G_step [144620/1000000], D_step[144620/1000000], d_out_real: 0.0038, d_out_fake: 0.1227, g_loss_fake: 1.1660\r\n"
     ]
    },
    {
     "name": "stdout",
     "output_type": "stream",
     "text": [
      "Elapsed [9:58:28.624244], G_step [144630/1000000], D_step[144630/1000000], d_out_real: 0.0000, d_out_fake: 0.0853, g_loss_fake: 1.1123\r\n"
     ]
    },
    {
     "name": "stdout",
     "output_type": "stream",
     "text": [
      "Elapsed [9:58:39.883653], G_step [144640/1000000], D_step[144640/1000000], d_out_real: 0.0538, d_out_fake: 0.0000, g_loss_fake: 1.0019\r\n"
     ]
    },
    {
     "name": "stdout",
     "output_type": "stream",
     "text": [
      "Elapsed [9:58:50.842505], G_step [144650/1000000], D_step[144650/1000000], d_out_real: 0.0636, d_out_fake: 0.0715, g_loss_fake: 1.1210\r\n"
     ]
    },
    {
     "name": "stdout",
     "output_type": "stream",
     "text": [
      "Elapsed [9:59:01.407944], G_step [144660/1000000], D_step[144660/1000000], d_out_real: 0.0627, d_out_fake: 0.1226, g_loss_fake: 1.1219\r\n"
     ]
    },
    {
     "name": "stdout",
     "output_type": "stream",
     "text": [
      "Elapsed [9:59:12.339023], G_step [144670/1000000], D_step[144670/1000000], d_out_real: 0.0606, d_out_fake: 0.0566, g_loss_fake: 1.0642\r\n"
     ]
    },
    {
     "name": "stdout",
     "output_type": "stream",
     "text": [
      "Elapsed [9:59:23.087399], G_step [144680/1000000], D_step[144680/1000000], d_out_real: 0.0645, d_out_fake: 0.0000, g_loss_fake: 1.1129\r\n"
     ]
    },
    {
     "name": "stdout",
     "output_type": "stream",
     "text": [
      "Elapsed [9:59:34.087503], G_step [144690/1000000], D_step[144690/1000000], d_out_real: 0.0305, d_out_fake: 0.1556, g_loss_fake: 0.9518\r\n"
     ]
    },
    {
     "name": "stdout",
     "output_type": "stream",
     "text": [
      "Elapsed [9:59:45.016989], G_step [144700/1000000], D_step[144700/1000000], d_out_real: 0.0459, d_out_fake: 0.0602, g_loss_fake: 1.0978\r\n"
     ]
    },
    {
     "name": "stdout",
     "output_type": "stream",
     "text": [
      "Elapsed [9:59:55.824347], G_step [144710/1000000], D_step[144710/1000000], d_out_real: 0.1301, d_out_fake: 0.0121, g_loss_fake: 1.0302\r\n"
     ]
    },
    {
     "name": "stdout",
     "output_type": "stream",
     "text": [
      "Elapsed [10:00:06.376215], G_step [144720/1000000], D_step[144720/1000000], d_out_real: 0.0957, d_out_fake: 0.1302, g_loss_fake: 1.0840\r\n"
     ]
    },
    {
     "name": "stdout",
     "output_type": "stream",
     "text": [
      "Elapsed [10:00:18.085662], G_step [144730/1000000], D_step[144730/1000000], d_out_real: 0.0622, d_out_fake: 0.0000, g_loss_fake: 1.0704\r\n"
     ]
    },
    {
     "name": "stdout",
     "output_type": "stream",
     "text": [
      "Elapsed [10:00:29.312391], G_step [144740/1000000], D_step[144740/1000000], d_out_real: 0.0000, d_out_fake: 0.0008, g_loss_fake: 1.0654\r\n"
     ]
    },
    {
     "name": "stdout",
     "output_type": "stream",
     "text": [
      "Elapsed [10:00:40.428943], G_step [144750/1000000], D_step[144750/1000000], d_out_real: 0.0644, d_out_fake: 0.0607, g_loss_fake: 1.1418\r\n"
     ]
    },
    {
     "name": "stdout",
     "output_type": "stream",
     "text": [
      "Elapsed [10:00:51.653022], G_step [144760/1000000], D_step[144760/1000000], d_out_real: 0.0628, d_out_fake: 0.0757, g_loss_fake: 1.0958\r\n"
     ]
    },
    {
     "name": "stdout",
     "output_type": "stream",
     "text": [
      "Elapsed [10:01:02.342743], G_step [144770/1000000], D_step[144770/1000000], d_out_real: 0.0635, d_out_fake: 0.0649, g_loss_fake: 1.0743\r\n"
     ]
    },
    {
     "name": "stdout",
     "output_type": "stream",
     "text": [
      "Elapsed [10:01:13.832405], G_step [144780/1000000], D_step[144780/1000000], d_out_real: 0.0646, d_out_fake: 0.0000, g_loss_fake: 1.1142\r\n"
     ]
    },
    {
     "name": "stdout",
     "output_type": "stream",
     "text": [
      "Elapsed [10:01:24.767001], G_step [144790/1000000], D_step[144790/1000000], d_out_real: 0.0594, d_out_fake: 0.0000, g_loss_fake: 0.9389\r\n"
     ]
    },
    {
     "name": "stdout",
     "output_type": "stream",
     "text": [
      "Elapsed [10:01:36.351297], G_step [144800/1000000], D_step[144800/1000000], d_out_real: 0.0000, d_out_fake: 0.0996, g_loss_fake: 1.0991\r\n"
     ]
    },
    {
     "name": "stdout",
     "output_type": "stream",
     "text": [
      "Elapsed [10:01:47.809342], G_step [144810/1000000], D_step[144810/1000000], d_out_real: 0.0975, d_out_fake: 0.0020, g_loss_fake: 1.0748\r\n"
     ]
    },
    {
     "name": "stdout",
     "output_type": "stream",
     "text": [
      "Elapsed [10:01:58.820992], G_step [144820/1000000], D_step[144820/1000000], d_out_real: 0.0000, d_out_fake: 0.0012, g_loss_fake: 1.1532\r\n"
     ]
    },
    {
     "name": "stdout",
     "output_type": "stream",
     "text": [
      "Elapsed [10:02:09.777305], G_step [144830/1000000], D_step[144830/1000000], d_out_real: 0.0647, d_out_fake: 0.0000, g_loss_fake: 1.0773\r\n"
     ]
    },
    {
     "name": "stdout",
     "output_type": "stream",
     "text": [
      "Elapsed [10:02:21.239821], G_step [144840/1000000], D_step[144840/1000000], d_out_real: 0.1026, d_out_fake: 0.1227, g_loss_fake: 1.0761\r\n"
     ]
    },
    {
     "name": "stdout",
     "output_type": "stream",
     "text": [
      "Elapsed [10:02:32.495771], G_step [144850/1000000], D_step[144850/1000000], d_out_real: 0.0629, d_out_fake: 0.0047, g_loss_fake: 1.0666\r\n"
     ]
    },
    {
     "name": "stdout",
     "output_type": "stream",
     "text": [
      "Elapsed [10:02:43.894863], G_step [144860/1000000], D_step[144860/1000000], d_out_real: 0.0000, d_out_fake: 0.0038, g_loss_fake: 1.1238\r\n"
     ]
    },
    {
     "name": "stdout",
     "output_type": "stream",
     "text": [
      "Elapsed [10:02:55.172521], G_step [144870/1000000], D_step[144870/1000000], d_out_real: 0.1285, d_out_fake: 0.0656, g_loss_fake: 1.1036\r\n"
     ]
    },
    {
     "name": "stdout",
     "output_type": "stream",
     "text": [
      "Elapsed [10:03:06.220151], G_step [144880/1000000], D_step[144880/1000000], d_out_real: 0.0687, d_out_fake: 0.0578, g_loss_fake: 1.0667\r\n"
     ]
    },
    {
     "name": "stdout",
     "output_type": "stream",
     "text": [
      "Elapsed [10:03:17.859983], G_step [144890/1000000], D_step[144890/1000000], d_out_real: 0.1046, d_out_fake: 0.0000, g_loss_fake: 0.9478\r\n"
     ]
    },
    {
     "name": "stdout",
     "output_type": "stream",
     "text": [
      "Elapsed [10:03:29.386235], G_step [144900/1000000], D_step[144900/1000000], d_out_real: 0.0012, d_out_fake: 0.0000, g_loss_fake: 1.1018\r\n"
     ]
    },
    {
     "name": "stdout",
     "output_type": "stream",
     "text": [
      "Elapsed [10:03:40.088993], G_step [144910/1000000], D_step[144910/1000000], d_out_real: 0.0633, d_out_fake: 0.0000, g_loss_fake: 0.9609\r\n"
     ]
    },
    {
     "name": "stdout",
     "output_type": "stream",
     "text": [
      "Elapsed [10:03:51.526785], G_step [144920/1000000], D_step[144920/1000000], d_out_real: 0.0000, d_out_fake: 0.0436, g_loss_fake: 0.9769\r\n"
     ]
    },
    {
     "name": "stdout",
     "output_type": "stream",
     "text": [
      "Elapsed [10:04:02.736081], G_step [144930/1000000], D_step[144930/1000000], d_out_real: 0.0011, d_out_fake: 0.0176, g_loss_fake: 1.1291\r\n"
     ]
    },
    {
     "name": "stdout",
     "output_type": "stream",
     "text": [
      "Elapsed [10:04:13.996090], G_step [144940/1000000], D_step[144940/1000000], d_out_real: 0.1270, d_out_fake: 0.0000, g_loss_fake: 0.8448\r\n"
     ]
    },
    {
     "name": "stdout",
     "output_type": "stream",
     "text": [
      "Elapsed [10:04:25.322042], G_step [144950/1000000], D_step[144950/1000000], d_out_real: 0.0000, d_out_fake: 0.0430, g_loss_fake: 1.1312\r\n"
     ]
    },
    {
     "name": "stdout",
     "output_type": "stream",
     "text": [
      "Elapsed [10:04:38.297561], G_step [144960/1000000], D_step[144960/1000000], d_out_real: 0.0000, d_out_fake: 0.0670, g_loss_fake: 1.1508\r\n"
     ]
    },
    {
     "name": "stdout",
     "output_type": "stream",
     "text": [
      "Elapsed [10:04:49.033588], G_step [144970/1000000], D_step[144970/1000000], d_out_real: 0.1291, d_out_fake: 0.0648, g_loss_fake: 1.0927\r\n"
     ]
    },
    {
     "name": "stdout",
     "output_type": "stream",
     "text": [
      "Elapsed [10:05:00.404312], G_step [144980/1000000], D_step[144980/1000000], d_out_real: 0.0000, d_out_fake: 0.0000, g_loss_fake: 1.0724\r\n"
     ]
    },
    {
     "name": "stdout",
     "output_type": "stream",
     "text": [
      "Elapsed [10:05:11.083313], G_step [144990/1000000], D_step[144990/1000000], d_out_real: 0.0971, d_out_fake: 0.0000, g_loss_fake: 1.0184\r\n"
     ]
    },
    {
     "name": "stdout",
     "output_type": "stream",
     "text": [
      "Elapsed [10:05:21.886639], G_step [145000/1000000], D_step[145000/1000000], d_out_real: 0.0000, d_out_fake: 0.0247, g_loss_fake: 1.0239\r\n",
      "Sample images 145000_fake.png\r\n"
     ]
    },
    {
     "name": "stdout",
     "output_type": "stream",
     "text": [
      "Elapsed [10:05:33.423856], G_step [145010/1000000], D_step[145010/1000000], d_out_real: 0.0208, d_out_fake: 0.0000, g_loss_fake: 1.1210\r\n"
     ]
    },
    {
     "name": "stdout",
     "output_type": "stream",
     "text": [
      "Elapsed [10:05:43.994375], G_step [145020/1000000], D_step[145020/1000000], d_out_real: 0.1266, d_out_fake: 0.1056, g_loss_fake: 1.0990\r\n"
     ]
    },
    {
     "name": "stdout",
     "output_type": "stream",
     "text": [
      "Elapsed [10:05:55.180054], G_step [145030/1000000], D_step[145030/1000000], d_out_real: 0.0606, d_out_fake: 0.1746, g_loss_fake: 1.0859\r\n"
     ]
    },
    {
     "name": "stdout",
     "output_type": "stream",
     "text": [
      "Elapsed [10:06:06.543257], G_step [145040/1000000], D_step[145040/1000000], d_out_real: 0.0867, d_out_fake: 0.0000, g_loss_fake: 1.0275\r\n"
     ]
    },
    {
     "name": "stdout",
     "output_type": "stream",
     "text": [
      "Elapsed [10:06:17.455104], G_step [145050/1000000], D_step[145050/1000000], d_out_real: 0.0987, d_out_fake: 0.0393, g_loss_fake: 1.0290\r\n"
     ]
    },
    {
     "name": "stdout",
     "output_type": "stream",
     "text": [
      "Elapsed [10:06:28.266206], G_step [145060/1000000], D_step[145060/1000000], d_out_real: 0.0000, d_out_fake: 0.0674, g_loss_fake: 0.9764\r\n"
     ]
    },
    {
     "name": "stdout",
     "output_type": "stream",
     "text": [
      "Elapsed [10:06:39.657718], G_step [145070/1000000], D_step[145070/1000000], d_out_real: 0.0634, d_out_fake: 0.0656, g_loss_fake: 1.1087\r\n"
     ]
    },
    {
     "name": "stdout",
     "output_type": "stream",
     "text": [
      "Elapsed [10:06:50.231519], G_step [145080/1000000], D_step[145080/1000000], d_out_real: 0.0691, d_out_fake: 0.0000, g_loss_fake: 1.1110\r\n"
     ]
    },
    {
     "name": "stdout",
     "output_type": "stream",
     "text": [
      "Elapsed [10:07:01.321308], G_step [145090/1000000], D_step[145090/1000000], d_out_real: 0.0705, d_out_fake: 0.0603, g_loss_fake: 1.1244\r\n"
     ]
    },
    {
     "name": "stdout",
     "output_type": "stream",
     "text": [
      "Elapsed [10:07:12.155634], G_step [145100/1000000], D_step[145100/1000000], d_out_real: 0.0010, d_out_fake: 0.1198, g_loss_fake: 1.1207\r\n"
     ]
    },
    {
     "name": "stdout",
     "output_type": "stream",
     "text": [
      "Elapsed [10:07:23.118043], G_step [145110/1000000], D_step[145110/1000000], d_out_real: 0.1020, d_out_fake: 0.0000, g_loss_fake: 0.9792\r\n"
     ]
    },
    {
     "name": "stdout",
     "output_type": "stream",
     "text": [
      "Elapsed [10:07:34.360453], G_step [145120/1000000], D_step[145120/1000000], d_out_real: 0.1245, d_out_fake: 0.0627, g_loss_fake: 0.9744\r\n"
     ]
    },
    {
     "name": "stdout",
     "output_type": "stream",
     "text": [
      "Elapsed [10:07:45.146968], G_step [145130/1000000], D_step[145130/1000000], d_out_real: 0.0101, d_out_fake: 0.0517, g_loss_fake: 1.1293\r\n"
     ]
    },
    {
     "name": "stdout",
     "output_type": "stream",
     "text": [
      "Elapsed [10:07:56.396128], G_step [145140/1000000], D_step[145140/1000000], d_out_real: 0.0521, d_out_fake: 0.0000, g_loss_fake: 1.1186\r\n"
     ]
    },
    {
     "name": "stdout",
     "output_type": "stream",
     "text": [
      "Elapsed [10:08:07.367007], G_step [145150/1000000], D_step[145150/1000000], d_out_real: 0.0648, d_out_fake: 0.0001, g_loss_fake: 1.0705\r\n"
     ]
    },
    {
     "name": "stdout",
     "output_type": "stream",
     "text": [
      "Elapsed [10:08:18.233494], G_step [145160/1000000], D_step[145160/1000000], d_out_real: 0.0000, d_out_fake: 0.0951, g_loss_fake: 1.1320\r\n"
     ]
    },
    {
     "name": "stdout",
     "output_type": "stream",
     "text": [
      "Elapsed [10:08:29.213009], G_step [145170/1000000], D_step[145170/1000000], d_out_real: 0.0712, d_out_fake: 0.2527, g_loss_fake: 1.1044\r\n"
     ]
    },
    {
     "name": "stdout",
     "output_type": "stream",
     "text": [
      "Elapsed [10:08:40.207911], G_step [145180/1000000], D_step[145180/1000000], d_out_real: 0.0050, d_out_fake: 0.0372, g_loss_fake: 1.0788\r\n"
     ]
    },
    {
     "name": "stdout",
     "output_type": "stream",
     "text": [
      "Elapsed [10:08:51.501662], G_step [145190/1000000], D_step[145190/1000000], d_out_real: 0.0048, d_out_fake: 0.0000, g_loss_fake: 0.9861\r\n"
     ]
    },
    {
     "name": "stdout",
     "output_type": "stream",
     "text": [
      "Elapsed [10:09:02.268803], G_step [145200/1000000], D_step[145200/1000000], d_out_real: 0.1613, d_out_fake: 0.0160, g_loss_fake: 1.1032\r\n"
     ]
    },
    {
     "name": "stdout",
     "output_type": "stream",
     "text": [
      "Elapsed [10:09:12.986435], G_step [145210/1000000], D_step[145210/1000000], d_out_real: 0.1307, d_out_fake: 0.0000, g_loss_fake: 1.0456\r\n"
     ]
    },
    {
     "name": "stdout",
     "output_type": "stream",
     "text": [
      "Elapsed [10:09:23.750233], G_step [145220/1000000], D_step[145220/1000000], d_out_real: 0.1712, d_out_fake: 0.0000, g_loss_fake: 1.0398\r\n"
     ]
    },
    {
     "name": "stdout",
     "output_type": "stream",
     "text": [
      "Elapsed [10:09:34.703348], G_step [145230/1000000], D_step[145230/1000000], d_out_real: 0.0000, d_out_fake: 0.0006, g_loss_fake: 1.0284\r\n"
     ]
    },
    {
     "name": "stdout",
     "output_type": "stream",
     "text": [
      "Elapsed [10:09:45.468087], G_step [145240/1000000], D_step[145240/1000000], d_out_real: 0.0171, d_out_fake: 0.0000, g_loss_fake: 0.9963\r\n"
     ]
    },
    {
     "name": "stdout",
     "output_type": "stream",
     "text": [
      "Elapsed [10:09:56.630175], G_step [145250/1000000], D_step[145250/1000000], d_out_real: 0.0599, d_out_fake: 0.0532, g_loss_fake: 1.1019\r\n"
     ]
    },
    {
     "name": "stdout",
     "output_type": "stream",
     "text": [
      "Elapsed [10:10:07.346835], G_step [145260/1000000], D_step[145260/1000000], d_out_real: 0.0643, d_out_fake: 0.0000, g_loss_fake: 1.1430\r\n"
     ]
    },
    {
     "name": "stdout",
     "output_type": "stream",
     "text": [
      "save torch\r\n"
     ]
    },
    {
     "name": "stdout",
     "output_type": "stream",
     "text": [
      "Elapsed [10:10:18.957831], G_step [145270/1000000], D_step[145270/1000000], d_out_real: 0.1405, d_out_fake: 0.0286, g_loss_fake: 1.0006\r\n"
     ]
    },
    {
     "name": "stdout",
     "output_type": "stream",
     "text": [
      "Elapsed [10:10:29.959974], G_step [145280/1000000], D_step[145280/1000000], d_out_real: 0.1188, d_out_fake: 0.0000, g_loss_fake: 1.0380\r\n"
     ]
    },
    {
     "name": "stdout",
     "output_type": "stream",
     "text": [
      "Elapsed [10:10:41.568223], G_step [145290/1000000], D_step[145290/1000000], d_out_real: 0.0646, d_out_fake: 0.0000, g_loss_fake: 1.0600\r\n"
     ]
    },
    {
     "name": "stdout",
     "output_type": "stream",
     "text": [
      "Elapsed [10:10:52.685993], G_step [145300/1000000], D_step[145300/1000000], d_out_real: 0.0288, d_out_fake: 0.0000, g_loss_fake: 1.0525\r\n"
     ]
    },
    {
     "name": "stdout",
     "output_type": "stream",
     "text": [
      "Elapsed [10:11:03.569106], G_step [145310/1000000], D_step[145310/1000000], d_out_real: 0.0010, d_out_fake: 0.0000, g_loss_fake: 1.0838\r\n"
     ]
    },
    {
     "name": "stdout",
     "output_type": "stream",
     "text": [
      "Elapsed [10:11:14.407203], G_step [145320/1000000], D_step[145320/1000000], d_out_real: 0.1149, d_out_fake: 0.0000, g_loss_fake: 0.9555\r\n"
     ]
    },
    {
     "name": "stdout",
     "output_type": "stream",
     "text": [
      "Elapsed [10:11:25.034619], G_step [145330/1000000], D_step[145330/1000000], d_out_real: 0.0632, d_out_fake: 0.0083, g_loss_fake: 1.0627\r\n"
     ]
    },
    {
     "name": "stdout",
     "output_type": "stream",
     "text": [
      "Elapsed [10:11:35.626082], G_step [145340/1000000], D_step[145340/1000000], d_out_real: 0.1390, d_out_fake: 0.0000, g_loss_fake: 0.9782\r\n"
     ]
    },
    {
     "name": "stdout",
     "output_type": "stream",
     "text": [
      "Elapsed [10:11:46.780375], G_step [145350/1000000], D_step[145350/1000000], d_out_real: 0.0655, d_out_fake: 0.0758, g_loss_fake: 1.1086\r\n"
     ]
    },
    {
     "name": "stdout",
     "output_type": "stream",
     "text": [
      "Elapsed [10:11:58.370226], G_step [145360/1000000], D_step[145360/1000000], d_out_real: 0.0436, d_out_fake: 0.0000, g_loss_fake: 1.1286\r\n"
     ]
    },
    {
     "name": "stdout",
     "output_type": "stream",
     "text": [
      "Elapsed [10:12:08.961098], G_step [145370/1000000], D_step[145370/1000000], d_out_real: 0.1155, d_out_fake: 0.0000, g_loss_fake: 1.0346\r\n"
     ]
    },
    {
     "name": "stdout",
     "output_type": "stream",
     "text": [
      "Elapsed [10:12:19.812795], G_step [145380/1000000], D_step[145380/1000000], d_out_real: 0.0901, d_out_fake: 0.1474, g_loss_fake: 1.0783\r\n"
     ]
    },
    {
     "name": "stdout",
     "output_type": "stream",
     "text": [
      "Elapsed [10:12:31.909702], G_step [145390/1000000], D_step[145390/1000000], d_out_real: 0.1212, d_out_fake: 0.0000, g_loss_fake: 0.9603\r\n"
     ]
    },
    {
     "name": "stdout",
     "output_type": "stream",
     "text": [
      "Elapsed [10:12:42.789174], G_step [145400/1000000], D_step[145400/1000000], d_out_real: 0.1852, d_out_fake: 0.0000, g_loss_fake: 1.0831\r\n"
     ]
    },
    {
     "name": "stdout",
     "output_type": "stream",
     "text": [
      "Elapsed [10:12:53.787942], G_step [145410/1000000], D_step[145410/1000000], d_out_real: 0.0650, d_out_fake: 0.0713, g_loss_fake: 1.0783\r\n"
     ]
    },
    {
     "name": "stdout",
     "output_type": "stream",
     "text": [
      "Elapsed [10:13:04.781718], G_step [145420/1000000], D_step[145420/1000000], d_out_real: 0.0000, d_out_fake: 0.0252, g_loss_fake: 1.0673\r\n"
     ]
    },
    {
     "name": "stdout",
     "output_type": "stream",
     "text": [
      "Elapsed [10:13:15.713474], G_step [145430/1000000], D_step[145430/1000000], d_out_real: 0.1074, d_out_fake: 0.0236, g_loss_fake: 1.0350\r\n"
     ]
    },
    {
     "name": "stdout",
     "output_type": "stream",
     "text": [
      "Elapsed [10:13:27.311518], G_step [145440/1000000], D_step[145440/1000000], d_out_real: 0.0660, d_out_fake: 0.0000, g_loss_fake: 1.1341\r\n"
     ]
    },
    {
     "name": "stdout",
     "output_type": "stream",
     "text": [
      "Elapsed [10:13:38.037610], G_step [145450/1000000], D_step[145450/1000000], d_out_real: 0.1848, d_out_fake: 0.0000, g_loss_fake: 1.0111\r\n"
     ]
    },
    {
     "name": "stdout",
     "output_type": "stream",
     "text": [
      "Elapsed [10:13:48.625774], G_step [145460/1000000], D_step[145460/1000000], d_out_real: 0.1278, d_out_fake: 0.0000, g_loss_fake: 1.0010\r\n"
     ]
    },
    {
     "name": "stdout",
     "output_type": "stream",
     "text": [
      "Elapsed [10:13:59.861283], G_step [145470/1000000], D_step[145470/1000000], d_out_real: 0.0000, d_out_fake: 0.0097, g_loss_fake: 1.0792\r\n"
     ]
    },
    {
     "name": "stdout",
     "output_type": "stream",
     "text": [
      "Elapsed [10:14:10.692875], G_step [145480/1000000], D_step[145480/1000000], d_out_real: 0.1879, d_out_fake: 0.0000, g_loss_fake: 0.9156\r\n"
     ]
    },
    {
     "name": "stdout",
     "output_type": "stream",
     "text": [
      "Elapsed [10:14:21.663502], G_step [145490/1000000], D_step[145490/1000000], d_out_real: 0.0000, d_out_fake: 0.0101, g_loss_fake: 1.0443\r\n"
     ]
    },
    {
     "name": "stdout",
     "output_type": "stream",
     "text": [
      "Elapsed [10:14:32.855082], G_step [145500/1000000], D_step[145500/1000000], d_out_real: 0.1893, d_out_fake: 0.0000, g_loss_fake: 1.0185\r\n"
     ]
    },
    {
     "name": "stdout",
     "output_type": "stream",
     "text": [
      "Elapsed [10:14:43.541994], G_step [145510/1000000], D_step[145510/1000000], d_out_real: 0.0090, d_out_fake: 0.0000, g_loss_fake: 1.0642\r\n"
     ]
    },
    {
     "name": "stdout",
     "output_type": "stream",
     "text": [
      "Elapsed [10:14:54.958197], G_step [145520/1000000], D_step[145520/1000000], d_out_real: 0.0000, d_out_fake: 0.0045, g_loss_fake: 1.1183\r\n"
     ]
    },
    {
     "name": "stdout",
     "output_type": "stream",
     "text": [
      "Elapsed [10:15:06.095152], G_step [145530/1000000], D_step[145530/1000000], d_out_real: 0.0127, d_out_fake: 0.0031, g_loss_fake: 1.0921\r\n"
     ]
    },
    {
     "name": "stdout",
     "output_type": "stream",
     "text": [
      "Elapsed [10:15:16.845379], G_step [145540/1000000], D_step[145540/1000000], d_out_real: 0.0611, d_out_fake: 0.0012, g_loss_fake: 0.9782\r\n"
     ]
    },
    {
     "name": "stdout",
     "output_type": "stream",
     "text": [
      "Elapsed [10:15:28.160901], G_step [145550/1000000], D_step[145550/1000000], d_out_real: 0.0008, d_out_fake: 0.0207, g_loss_fake: 1.0722\r\n"
     ]
    },
    {
     "name": "stdout",
     "output_type": "stream",
     "text": [
      "Elapsed [10:15:39.011166], G_step [145560/1000000], D_step[145560/1000000], d_out_real: 0.0000, d_out_fake: 0.0225, g_loss_fake: 1.0455\r\n"
     ]
    },
    {
     "name": "stdout",
     "output_type": "stream",
     "text": [
      "Elapsed [10:15:49.883861], G_step [145570/1000000], D_step[145570/1000000], d_out_real: 0.0093, d_out_fake: 0.0000, g_loss_fake: 1.0396\r\n"
     ]
    },
    {
     "name": "stdout",
     "output_type": "stream",
     "text": [
      "Elapsed [10:16:01.507577], G_step [145580/1000000], D_step[145580/1000000], d_out_real: 0.0853, d_out_fake: 0.1047, g_loss_fake: 1.0927\r\n"
     ]
    },
    {
     "name": "stdout",
     "output_type": "stream",
     "text": [
      "Elapsed [10:16:12.122236], G_step [145590/1000000], D_step[145590/1000000], d_out_real: 0.0000, d_out_fake: 0.0975, g_loss_fake: 1.1128\r\n"
     ]
    },
    {
     "name": "stdout",
     "output_type": "stream",
     "text": [
      "Elapsed [10:16:23.193091], G_step [145600/1000000], D_step[145600/1000000], d_out_real: 0.1642, d_out_fake: 0.0017, g_loss_fake: 0.8406\r\n"
     ]
    },
    {
     "name": "stdout",
     "output_type": "stream",
     "text": [
      "Elapsed [10:16:34.318600], G_step [145610/1000000], D_step[145610/1000000], d_out_real: 0.0853, d_out_fake: 0.0013, g_loss_fake: 1.0825\r\n"
     ]
    },
    {
     "name": "stdout",
     "output_type": "stream",
     "text": [
      "Elapsed [10:16:45.912414], G_step [145620/1000000], D_step[145620/1000000], d_out_real: 0.0000, d_out_fake: 0.0174, g_loss_fake: 1.0932\r\n"
     ]
    },
    {
     "name": "stdout",
     "output_type": "stream",
     "text": [
      "Elapsed [10:16:58.182669], G_step [145630/1000000], D_step[145630/1000000], d_out_real: 0.0629, d_out_fake: 0.0037, g_loss_fake: 1.0169\r\n"
     ]
    },
    {
     "name": "stdout",
     "output_type": "stream",
     "text": [
      "Elapsed [10:17:09.564458], G_step [145640/1000000], D_step[145640/1000000], d_out_real: 0.0312, d_out_fake: 0.0348, g_loss_fake: 1.0406\r\n"
     ]
    },
    {
     "name": "stdout",
     "output_type": "stream",
     "text": [
      "Elapsed [10:17:20.643240], G_step [145650/1000000], D_step[145650/1000000], d_out_real: 0.0049, d_out_fake: 0.0153, g_loss_fake: 0.9876\r\n"
     ]
    },
    {
     "name": "stdout",
     "output_type": "stream",
     "text": [
      "Elapsed [10:17:31.768106], G_step [145660/1000000], D_step[145660/1000000], d_out_real: 0.0756, d_out_fake: 0.0000, g_loss_fake: 1.0322\r\n"
     ]
    },
    {
     "name": "stdout",
     "output_type": "stream",
     "text": [
      "Elapsed [10:17:42.654644], G_step [145670/1000000], D_step[145670/1000000], d_out_real: 0.0000, d_out_fake: 0.0028, g_loss_fake: 1.1145\r\n"
     ]
    },
    {
     "name": "stdout",
     "output_type": "stream",
     "text": [
      "Elapsed [10:17:53.360542], G_step [145680/1000000], D_step[145680/1000000], d_out_real: 0.2655, d_out_fake: 0.0340, g_loss_fake: 0.9873\r\n"
     ]
    },
    {
     "name": "stdout",
     "output_type": "stream",
     "text": [
      "Elapsed [10:18:05.043292], G_step [145690/1000000], D_step[145690/1000000], d_out_real: 0.1029, d_out_fake: 0.0518, g_loss_fake: 1.0990\r\n"
     ]
    },
    {
     "name": "stdout",
     "output_type": "stream",
     "text": [
      "Elapsed [10:18:15.738807], G_step [145700/1000000], D_step[145700/1000000], d_out_real: 0.1272, d_out_fake: 0.0000, g_loss_fake: 1.0810\r\n"
     ]
    },
    {
     "name": "stdout",
     "output_type": "stream",
     "text": [
      "Elapsed [10:18:26.657446], G_step [145710/1000000], D_step[145710/1000000], d_out_real: 0.0462, d_out_fake: 0.2221, g_loss_fake: 1.1093\r\n"
     ]
    },
    {
     "name": "stdout",
     "output_type": "stream",
     "text": [
      "Elapsed [10:18:37.909022], G_step [145720/1000000], D_step[145720/1000000], d_out_real: 0.1523, d_out_fake: 0.0518, g_loss_fake: 0.9567\r\n"
     ]
    },
    {
     "name": "stdout",
     "output_type": "stream",
     "text": [
      "Elapsed [10:18:48.656552], G_step [145730/1000000], D_step[145730/1000000], d_out_real: 0.0700, d_out_fake: 0.0000, g_loss_fake: 1.0522\r\n"
     ]
    },
    {
     "name": "stdout",
     "output_type": "stream",
     "text": [
      "Elapsed [10:18:59.680301], G_step [145740/1000000], D_step[145740/1000000], d_out_real: 0.0603, d_out_fake: 0.1336, g_loss_fake: 1.0687\r\n"
     ]
    },
    {
     "name": "stdout",
     "output_type": "stream",
     "text": [
      "Elapsed [10:19:11.548743], G_step [145750/1000000], D_step[145750/1000000], d_out_real: 0.0033, d_out_fake: 0.0097, g_loss_fake: 1.0758\r\n"
     ]
    },
    {
     "name": "stdout",
     "output_type": "stream",
     "text": [
      "Elapsed [10:19:22.591769], G_step [145760/1000000], D_step[145760/1000000], d_out_real: 0.0000, d_out_fake: 0.0007, g_loss_fake: 1.1309\r\n"
     ]
    },
    {
     "name": "stdout",
     "output_type": "stream",
     "text": [
      "Elapsed [10:19:33.783738], G_step [145770/1000000], D_step[145770/1000000], d_out_real: 0.0000, d_out_fake: 0.2018, g_loss_fake: 1.1703\r\n"
     ]
    },
    {
     "name": "stdout",
     "output_type": "stream",
     "text": [
      "Elapsed [10:19:45.191498], G_step [145780/1000000], D_step[145780/1000000], d_out_real: 0.0000, d_out_fake: 0.1022, g_loss_fake: 1.1316\r\n"
     ]
    },
    {
     "name": "stdout",
     "output_type": "stream",
     "text": [
      "Elapsed [10:19:56.220228], G_step [145790/1000000], D_step[145790/1000000], d_out_real: 0.1819, d_out_fake: 0.0003, g_loss_fake: 1.0340\r\n"
     ]
    },
    {
     "name": "stdout",
     "output_type": "stream",
     "text": [
      "Elapsed [10:20:06.901458], G_step [145800/1000000], D_step[145800/1000000], d_out_real: 0.1249, d_out_fake: 0.0198, g_loss_fake: 1.0583\r\n"
     ]
    },
    {
     "name": "stdout",
     "output_type": "stream",
     "text": [
      "Elapsed [10:20:18.016372], G_step [145810/1000000], D_step[145810/1000000], d_out_real: 0.0150, d_out_fake: 0.0011, g_loss_fake: 1.0825\r\n"
     ]
    },
    {
     "name": "stdout",
     "output_type": "stream",
     "text": [
      "Elapsed [10:20:29.186938], G_step [145820/1000000], D_step[145820/1000000], d_out_real: 0.0000, d_out_fake: 0.1110, g_loss_fake: 1.0796\r\n"
     ]
    },
    {
     "name": "stdout",
     "output_type": "stream",
     "text": [
      "Elapsed [10:20:40.753837], G_step [145830/1000000], D_step[145830/1000000], d_out_real: 0.0644, d_out_fake: 0.0000, g_loss_fake: 1.0980\r\n"
     ]
    },
    {
     "name": "stdout",
     "output_type": "stream",
     "text": [
      "Elapsed [10:20:52.353242], G_step [145840/1000000], D_step[145840/1000000], d_out_real: 0.0625, d_out_fake: 0.0100, g_loss_fake: 1.0539\r\n"
     ]
    },
    {
     "name": "stdout",
     "output_type": "stream",
     "text": [
      "Elapsed [10:21:02.954270], G_step [145850/1000000], D_step[145850/1000000], d_out_real: 0.0874, d_out_fake: 0.0000, g_loss_fake: 1.1070\r\n"
     ]
    },
    {
     "name": "stdout",
     "output_type": "stream",
     "text": [
      "Elapsed [10:21:14.030340], G_step [145860/1000000], D_step[145860/1000000], d_out_real: 0.0673, d_out_fake: 0.1375, g_loss_fake: 1.1313\r\n"
     ]
    },
    {
     "name": "stdout",
     "output_type": "stream",
     "text": [
      "Elapsed [10:21:25.113271], G_step [145870/1000000], D_step[145870/1000000], d_out_real: 0.0018, d_out_fake: 0.0000, g_loss_fake: 1.0777\r\n"
     ]
    },
    {
     "name": "stdout",
     "output_type": "stream",
     "text": [
      "Elapsed [10:21:35.880644], G_step [145880/1000000], D_step[145880/1000000], d_out_real: 0.1963, d_out_fake: 0.1607, g_loss_fake: 0.9287\r\n"
     ]
    },
    {
     "name": "stdout",
     "output_type": "stream",
     "text": [
      "Elapsed [10:21:47.075764], G_step [145890/1000000], D_step[145890/1000000], d_out_real: 0.0663, d_out_fake: 0.0654, g_loss_fake: 1.0843\r\n"
     ]
    },
    {
     "name": "stdout",
     "output_type": "stream",
     "text": [
      "Elapsed [10:21:58.503749], G_step [145900/1000000], D_step[145900/1000000], d_out_real: 0.1395, d_out_fake: 0.1263, g_loss_fake: 0.9899\r\n"
     ]
    },
    {
     "name": "stdout",
     "output_type": "stream",
     "text": [
      "Elapsed [10:22:09.379592], G_step [145910/1000000], D_step[145910/1000000], d_out_real: 0.0637, d_out_fake: 0.0090, g_loss_fake: 1.0554\r\n"
     ]
    },
    {
     "name": "stdout",
     "output_type": "stream",
     "text": [
      "Elapsed [10:22:20.256656], G_step [145920/1000000], D_step[145920/1000000], d_out_real: 0.0686, d_out_fake: 0.0209, g_loss_fake: 1.0462\r\n"
     ]
    },
    {
     "name": "stdout",
     "output_type": "stream",
     "text": [
      "Elapsed [10:22:31.106837], G_step [145930/1000000], D_step[145930/1000000], d_out_real: 0.0000, d_out_fake: 0.1616, g_loss_fake: 1.1082\r\n"
     ]
    },
    {
     "name": "stdout",
     "output_type": "stream",
     "text": [
      "Elapsed [10:22:42.642284], G_step [145940/1000000], D_step[145940/1000000], d_out_real: 0.0000, d_out_fake: 0.2156, g_loss_fake: 1.0681\r\n"
     ]
    },
    {
     "name": "stdout",
     "output_type": "stream",
     "text": [
      "Elapsed [10:22:54.161018], G_step [145950/1000000], D_step[145950/1000000], d_out_real: 0.1963, d_out_fake: 0.1014, g_loss_fake: 0.9931\r\n"
     ]
    },
    {
     "name": "stdout",
     "output_type": "stream",
     "text": [
      "Elapsed [10:23:05.379595], G_step [145960/1000000], D_step[145960/1000000], d_out_real: 0.0090, d_out_fake: 0.0803, g_loss_fake: 1.1382\r\n"
     ]
    },
    {
     "name": "stdout",
     "output_type": "stream",
     "text": [
      "Elapsed [10:23:16.327108], G_step [145970/1000000], D_step[145970/1000000], d_out_real: 0.0578, d_out_fake: 0.0133, g_loss_fake: 1.1097\r\n"
     ]
    },
    {
     "name": "stdout",
     "output_type": "stream",
     "text": [
      "Elapsed [10:23:27.318188], G_step [145980/1000000], D_step[145980/1000000], d_out_real: 0.0795, d_out_fake: 0.1263, g_loss_fake: 1.0771\r\n"
     ]
    },
    {
     "name": "stdout",
     "output_type": "stream",
     "text": [
      "Elapsed [10:23:38.481060], G_step [145990/1000000], D_step[145990/1000000], d_out_real: 0.0997, d_out_fake: 0.0000, g_loss_fake: 0.9315\r\n"
     ]
    },
    {
     "name": "stdout",
     "output_type": "stream",
     "text": [
      "Elapsed [10:23:49.228771], G_step [146000/1000000], D_step[146000/1000000], d_out_real: 0.1855, d_out_fake: 0.0652, g_loss_fake: 0.9801\r\n",
      "Sample images 146000_fake.png\r\n"
     ]
    },
    {
     "name": "stdout",
     "output_type": "stream",
     "text": [
      "Elapsed [10:24:01.027840], G_step [146010/1000000], D_step[146010/1000000], d_out_real: 0.0228, d_out_fake: 0.0658, g_loss_fake: 0.9892\r\n"
     ]
    },
    {
     "name": "stdout",
     "output_type": "stream",
     "text": [
      "Elapsed [10:24:11.848520], G_step [146020/1000000], D_step[146020/1000000], d_out_real: 0.0746, d_out_fake: 0.0123, g_loss_fake: 1.0853\r\n"
     ]
    },
    {
     "name": "stdout",
     "output_type": "stream",
     "text": [
      "Elapsed [10:24:22.452630], G_step [146030/1000000], D_step[146030/1000000], d_out_real: 0.1327, d_out_fake: 0.0000, g_loss_fake: 1.0837\r\n"
     ]
    },
    {
     "name": "stdout",
     "output_type": "stream",
     "text": [
      "Elapsed [10:24:33.200439], G_step [146040/1000000], D_step[146040/1000000], d_out_real: 0.0912, d_out_fake: 0.0000, g_loss_fake: 1.0427\r\n"
     ]
    },
    {
     "name": "stdout",
     "output_type": "stream",
     "text": [
      "Elapsed [10:24:43.865713], G_step [146050/1000000], D_step[146050/1000000], d_out_real: 0.0000, d_out_fake: 0.0773, g_loss_fake: 1.1183\r\n"
     ]
    },
    {
     "name": "stdout",
     "output_type": "stream",
     "text": [
      "Elapsed [10:24:54.485661], G_step [146060/1000000], D_step[146060/1000000], d_out_real: 0.1214, d_out_fake: 0.0681, g_loss_fake: 0.9807\r\n"
     ]
    },
    {
     "name": "stdout",
     "output_type": "stream",
     "text": [
      "Elapsed [10:25:05.207117], G_step [146070/1000000], D_step[146070/1000000], d_out_real: 0.0000, d_out_fake: 0.0005, g_loss_fake: 1.0007\r\n"
     ]
    },
    {
     "name": "stdout",
     "output_type": "stream",
     "text": [
      "Elapsed [10:25:16.334119], G_step [146080/1000000], D_step[146080/1000000], d_out_real: 0.0000, d_out_fake: 0.0006, g_loss_fake: 1.1264\r\n"
     ]
    },
    {
     "name": "stdout",
     "output_type": "stream",
     "text": [
      "Elapsed [10:25:27.309014], G_step [146090/1000000], D_step[146090/1000000], d_out_real: 0.0000, d_out_fake: 0.0000, g_loss_fake: 1.0973\r\n"
     ]
    },
    {
     "name": "stdout",
     "output_type": "stream",
     "text": [
      "Elapsed [10:25:37.894459], G_step [146100/1000000], D_step[146100/1000000], d_out_real: 0.0166, d_out_fake: 0.0445, g_loss_fake: 1.0683\r\n"
     ]
    },
    {
     "name": "stdout",
     "output_type": "stream",
     "text": [
      "Elapsed [10:25:50.353598], G_step [146110/1000000], D_step[146110/1000000], d_out_real: 0.0886, d_out_fake: 0.1044, g_loss_fake: 1.0355\r\n"
     ]
    },
    {
     "name": "stdout",
     "output_type": "stream",
     "text": [
      "Elapsed [10:26:01.155837], G_step [146120/1000000], D_step[146120/1000000], d_out_real: 0.0968, d_out_fake: 0.0005, g_loss_fake: 1.0108\r\n"
     ]
    },
    {
     "name": "stdout",
     "output_type": "stream",
     "text": [
      "Elapsed [10:26:12.418155], G_step [146130/1000000], D_step[146130/1000000], d_out_real: 0.0000, d_out_fake: 0.0039, g_loss_fake: 1.0268\r\n"
     ]
    },
    {
     "name": "stdout",
     "output_type": "stream",
     "text": [
      "Elapsed [10:26:23.682455], G_step [146140/1000000], D_step[146140/1000000], d_out_real: 0.1292, d_out_fake: 0.0000, g_loss_fake: 1.0910\r\n"
     ]
    },
    {
     "name": "stdout",
     "output_type": "stream",
     "text": [
      "Elapsed [10:26:34.360655], G_step [146150/1000000], D_step[146150/1000000], d_out_real: 0.0239, d_out_fake: 0.0000, g_loss_fake: 1.0798\r\n"
     ]
    },
    {
     "name": "stdout",
     "output_type": "stream",
     "text": [
      "Elapsed [10:26:44.983186], G_step [146160/1000000], D_step[146160/1000000], d_out_real: 0.0719, d_out_fake: 0.1037, g_loss_fake: 1.0409\r\n"
     ]
    },
    {
     "name": "stdout",
     "output_type": "stream",
     "text": [
      "Elapsed [10:26:56.937077], G_step [146170/1000000], D_step[146170/1000000], d_out_real: 0.0000, d_out_fake: 0.0639, g_loss_fake: 1.1705\r\n"
     ]
    },
    {
     "name": "stdout",
     "output_type": "stream",
     "text": [
      "Elapsed [10:27:08.176249], G_step [146180/1000000], D_step[146180/1000000], d_out_real: 0.1577, d_out_fake: 0.0637, g_loss_fake: 1.0390\r\n"
     ]
    },
    {
     "name": "stdout",
     "output_type": "stream",
     "text": [
      "Elapsed [10:27:19.755923], G_step [146190/1000000], D_step[146190/1000000], d_out_real: 0.0000, d_out_fake: 0.0000, g_loss_fake: 0.9575\r\n"
     ]
    },
    {
     "name": "stdout",
     "output_type": "stream",
     "text": [
      "Elapsed [10:27:31.000880], G_step [146200/1000000], D_step[146200/1000000], d_out_real: 0.0000, d_out_fake: 0.0000, g_loss_fake: 1.1416\r\n"
     ]
    },
    {
     "name": "stdout",
     "output_type": "stream",
     "text": [
      "Elapsed [10:27:42.170787], G_step [146210/1000000], D_step[146210/1000000], d_out_real: 0.0000, d_out_fake: 0.1296, g_loss_fake: 1.1111\r\n"
     ]
    },
    {
     "name": "stdout",
     "output_type": "stream",
     "text": [
      "Elapsed [10:27:52.792712], G_step [146220/1000000], D_step[146220/1000000], d_out_real: 0.1893, d_out_fake: 0.0000, g_loss_fake: 1.0313\r\n"
     ]
    },
    {
     "name": "stdout",
     "output_type": "stream",
     "text": [
      "Elapsed [10:28:03.580528], G_step [146230/1000000], D_step[146230/1000000], d_out_real: 0.0000, d_out_fake: 0.0000, g_loss_fake: 1.0734\r\n"
     ]
    },
    {
     "name": "stdout",
     "output_type": "stream",
     "text": [
      "Elapsed [10:28:14.213919], G_step [146240/1000000], D_step[146240/1000000], d_out_real: 0.0000, d_out_fake: 0.0353, g_loss_fake: 1.1241\r\n"
     ]
    },
    {
     "name": "stdout",
     "output_type": "stream",
     "text": [
      "Elapsed [10:28:25.091438], G_step [146250/1000000], D_step[146250/1000000], d_out_real: 0.0000, d_out_fake: 0.0003, g_loss_fake: 1.0514\r\n"
     ]
    },
    {
     "name": "stdout",
     "output_type": "stream",
     "text": [
      "Elapsed [10:28:35.946071], G_step [146260/1000000], D_step[146260/1000000], d_out_real: 0.1289, d_out_fake: 0.0065, g_loss_fake: 1.0461\r\n"
     ]
    },
    {
     "name": "stdout",
     "output_type": "stream",
     "text": [
      "Elapsed [10:28:47.290157], G_step [146270/1000000], D_step[146270/1000000], d_out_real: 0.1046, d_out_fake: 0.0590, g_loss_fake: 1.0600\r\n"
     ]
    },
    {
     "name": "stdout",
     "output_type": "stream",
     "text": [
      "Elapsed [10:28:58.167497], G_step [146280/1000000], D_step[146280/1000000], d_out_real: 0.0621, d_out_fake: 0.0816, g_loss_fake: 1.1020\r\n"
     ]
    },
    {
     "name": "stdout",
     "output_type": "stream",
     "text": [
      "Elapsed [10:29:09.838415], G_step [146290/1000000], D_step[146290/1000000], d_out_real: 0.1101, d_out_fake: 0.0328, g_loss_fake: 1.0467\r\n"
     ]
    },
    {
     "name": "stdout",
     "output_type": "stream",
     "text": [
      "Elapsed [10:29:20.596212], G_step [146300/1000000], D_step[146300/1000000], d_out_real: 0.0839, d_out_fake: 0.0006, g_loss_fake: 0.8798\r\n"
     ]
    },
    {
     "name": "stdout",
     "output_type": "stream",
     "text": [
      "Elapsed [10:29:31.414527], G_step [146310/1000000], D_step[146310/1000000], d_out_real: 0.0649, d_out_fake: 0.0000, g_loss_fake: 1.0430\r\n"
     ]
    },
    {
     "name": "stdout",
     "output_type": "stream",
     "text": [
      "Elapsed [10:29:43.570333], G_step [146320/1000000], D_step[146320/1000000], d_out_real: 0.1631, d_out_fake: 0.0000, g_loss_fake: 0.9276\r\n"
     ]
    },
    {
     "name": "stdout",
     "output_type": "stream",
     "text": [
      "Elapsed [10:29:54.979144], G_step [146330/1000000], D_step[146330/1000000], d_out_real: 0.0023, d_out_fake: 0.0165, g_loss_fake: 1.1026\r\n"
     ]
    },
    {
     "name": "stdout",
     "output_type": "stream",
     "text": [
      "Elapsed [10:30:06.391380], G_step [146340/1000000], D_step[146340/1000000], d_out_real: 0.1693, d_out_fake: 0.0044, g_loss_fake: 1.0562\r\n"
     ]
    },
    {
     "name": "stdout",
     "output_type": "stream",
     "text": [
      "Elapsed [10:30:17.569724], G_step [146350/1000000], D_step[146350/1000000], d_out_real: 0.2673, d_out_fake: 0.0000, g_loss_fake: 1.0402\r\n"
     ]
    },
    {
     "name": "stdout",
     "output_type": "stream",
     "text": [
      "Elapsed [10:30:28.668745], G_step [146360/1000000], D_step[146360/1000000], d_out_real: 0.0000, d_out_fake: 0.0000, g_loss_fake: 1.0993\r\n"
     ]
    },
    {
     "name": "stdout",
     "output_type": "stream",
     "text": [
      "Elapsed [10:30:39.679009], G_step [146370/1000000], D_step[146370/1000000], d_out_real: 0.0000, d_out_fake: 0.0000, g_loss_fake: 1.0206\r\n"
     ]
    },
    {
     "name": "stdout",
     "output_type": "stream",
     "text": [
      "Elapsed [10:30:50.688802], G_step [146380/1000000], D_step[146380/1000000], d_out_real: 0.0000, d_out_fake: 0.0000, g_loss_fake: 1.0970\r\n"
     ]
    },
    {
     "name": "stdout",
     "output_type": "stream",
     "text": [
      "Elapsed [10:31:01.558999], G_step [146390/1000000], D_step[146390/1000000], d_out_real: 0.1624, d_out_fake: 0.0508, g_loss_fake: 0.7620\r\n"
     ]
    },
    {
     "name": "stdout",
     "output_type": "stream",
     "text": [
      "Elapsed [10:31:12.215950], G_step [146400/1000000], D_step[146400/1000000], d_out_real: 0.0617, d_out_fake: 0.0457, g_loss_fake: 1.0060\r\n"
     ]
    },
    {
     "name": "stdout",
     "output_type": "stream",
     "text": [
      "Elapsed [10:31:23.583781], G_step [146410/1000000], D_step[146410/1000000], d_out_real: 0.0500, d_out_fake: 0.0680, g_loss_fake: 1.0637\r\n"
     ]
    },
    {
     "name": "stdout",
     "output_type": "stream",
     "text": [
      "Elapsed [10:31:34.094463], G_step [146420/1000000], D_step[146420/1000000], d_out_real: 0.0939, d_out_fake: 0.0521, g_loss_fake: 1.0639\r\n"
     ]
    },
    {
     "name": "stdout",
     "output_type": "stream",
     "text": [
      "Elapsed [10:31:45.598397], G_step [146430/1000000], D_step[146430/1000000], d_out_real: 0.0638, d_out_fake: 0.0064, g_loss_fake: 1.0922\r\n"
     ]
    },
    {
     "name": "stdout",
     "output_type": "stream",
     "text": [
      "Elapsed [10:31:57.595486], G_step [146440/1000000], D_step[146440/1000000], d_out_real: 0.1324, d_out_fake: 0.0329, g_loss_fake: 1.0788\r\n"
     ]
    },
    {
     "name": "stdout",
     "output_type": "stream",
     "text": [
      "Elapsed [10:32:09.792026], G_step [146450/1000000], D_step[146450/1000000], d_out_real: 0.0000, d_out_fake: 0.1652, g_loss_fake: 1.1331\r\n"
     ]
    },
    {
     "name": "stdout",
     "output_type": "stream",
     "text": [
      "Elapsed [10:32:21.047227], G_step [146460/1000000], D_step[146460/1000000], d_out_real: 0.1295, d_out_fake: 0.0592, g_loss_fake: 0.9715\r\n"
     ]
    },
    {
     "name": "stdout",
     "output_type": "stream",
     "text": [
      "Elapsed [10:32:31.940611], G_step [146470/1000000], D_step[146470/1000000], d_out_real: 0.1383, d_out_fake: 0.0002, g_loss_fake: 0.8540\r\n"
     ]
    },
    {
     "name": "stdout",
     "output_type": "stream",
     "text": [
      "Elapsed [10:32:42.485927], G_step [146480/1000000], D_step[146480/1000000], d_out_real: 0.2519, d_out_fake: 0.0234, g_loss_fake: 1.0383\r\n"
     ]
    },
    {
     "name": "stdout",
     "output_type": "stream",
     "text": [
      "Elapsed [10:32:53.715322], G_step [146490/1000000], D_step[146490/1000000], d_out_real: 0.0629, d_out_fake: 0.0409, g_loss_fake: 0.9991\r\n"
     ]
    },
    {
     "name": "stdout",
     "output_type": "stream",
     "text": [
      "Elapsed [10:33:04.463980], G_step [146500/1000000], D_step[146500/1000000], d_out_real: 0.1271, d_out_fake: 0.0034, g_loss_fake: 1.0648\r\n"
     ]
    },
    {
     "name": "stdout",
     "output_type": "stream",
     "text": [
      "Elapsed [10:33:15.171669], G_step [146510/1000000], D_step[146510/1000000], d_out_real: 0.0878, d_out_fake: 0.0009, g_loss_fake: 1.0210\r\n"
     ]
    },
    {
     "name": "stdout",
     "output_type": "stream",
     "text": [
      "Elapsed [10:33:26.569414], G_step [146520/1000000], D_step[146520/1000000], d_out_real: 0.0675, d_out_fake: 0.0485, g_loss_fake: 1.0115\r\n"
     ]
    },
    {
     "name": "stdout",
     "output_type": "stream",
     "text": [
      "Elapsed [10:33:37.313977], G_step [146530/1000000], D_step[146530/1000000], d_out_real: 0.0004, d_out_fake: 0.0000, g_loss_fake: 0.9401\r\n"
     ]
    },
    {
     "name": "stdout",
     "output_type": "stream",
     "text": [
      "Elapsed [10:33:48.470858], G_step [146540/1000000], D_step[146540/1000000], d_out_real: 0.1244, d_out_fake: 0.0108, g_loss_fake: 1.0765\r\n"
     ]
    },
    {
     "name": "stdout",
     "output_type": "stream",
     "text": [
      "Elapsed [10:34:00.188923], G_step [146550/1000000], D_step[146550/1000000], d_out_real: 0.0642, d_out_fake: 0.0000, g_loss_fake: 1.0335\r\n"
     ]
    },
    {
     "name": "stdout",
     "output_type": "stream",
     "text": [
      "Elapsed [10:34:10.939536], G_step [146560/1000000], D_step[146560/1000000], d_out_real: 0.0009, d_out_fake: 0.0065, g_loss_fake: 1.1352\r\n"
     ]
    },
    {
     "name": "stdout",
     "output_type": "stream",
     "text": [
      "Elapsed [10:34:21.984880], G_step [146570/1000000], D_step[146570/1000000], d_out_real: 0.1111, d_out_fake: 0.0037, g_loss_fake: 0.7948\r\n"
     ]
    },
    {
     "name": "stdout",
     "output_type": "stream",
     "text": [
      "Elapsed [10:34:34.236167], G_step [146580/1000000], D_step[146580/1000000], d_out_real: 0.0594, d_out_fake: 0.0000, g_loss_fake: 0.9716\r\n"
     ]
    },
    {
     "name": "stdout",
     "output_type": "stream",
     "text": [
      "Elapsed [10:34:44.959713], G_step [146590/1000000], D_step[146590/1000000], d_out_real: 0.1942, d_out_fake: 0.0000, g_loss_fake: 1.0535\r\n"
     ]
    },
    {
     "name": "stdout",
     "output_type": "stream",
     "text": [
      "Elapsed [10:34:56.207317], G_step [146600/1000000], D_step[146600/1000000], d_out_real: 0.2746, d_out_fake: 0.0000, g_loss_fake: 0.9129\r\n"
     ]
    },
    {
     "name": "stdout",
     "output_type": "stream",
     "text": [
      "Elapsed [10:35:07.071359], G_step [146610/1000000], D_step[146610/1000000], d_out_real: 0.0615, d_out_fake: 0.0017, g_loss_fake: 1.0565\r\n"
     ]
    },
    {
     "name": "stdout",
     "output_type": "stream",
     "text": [
      "Elapsed [10:35:18.593359], G_step [146620/1000000], D_step[146620/1000000], d_out_real: 0.0240, d_out_fake: 0.0900, g_loss_fake: 1.0170\r\n"
     ]
    },
    {
     "name": "stdout",
     "output_type": "stream",
     "text": [
      "Elapsed [10:35:29.734313], G_step [146630/1000000], D_step[146630/1000000], d_out_real: 0.0657, d_out_fake: 0.0005, g_loss_fake: 0.9585\r\n"
     ]
    },
    {
     "name": "stdout",
     "output_type": "stream",
     "text": [
      "Elapsed [10:35:40.437044], G_step [146640/1000000], D_step[146640/1000000], d_out_real: 0.0341, d_out_fake: 0.0000, g_loss_fake: 0.9086\r\n"
     ]
    },
    {
     "name": "stdout",
     "output_type": "stream",
     "text": [
      "Elapsed [10:35:51.839267], G_step [146650/1000000], D_step[146650/1000000], d_out_real: 0.0260, d_out_fake: 0.1412, g_loss_fake: 1.0885\r\n"
     ]
    },
    {
     "name": "stdout",
     "output_type": "stream",
     "text": [
      "Elapsed [10:36:02.818560], G_step [146660/1000000], D_step[146660/1000000], d_out_real: 0.0638, d_out_fake: 0.0629, g_loss_fake: 1.0960\r\n"
     ]
    },
    {
     "name": "stdout",
     "output_type": "stream",
     "text": [
      "Elapsed [10:36:13.544070], G_step [146670/1000000], D_step[146670/1000000], d_out_real: 0.0000, d_out_fake: 0.0109, g_loss_fake: 1.1514\r\n"
     ]
    },
    {
     "name": "stdout",
     "output_type": "stream",
     "text": [
      "Elapsed [10:36:24.257812], G_step [146680/1000000], D_step[146680/1000000], d_out_real: 0.0047, d_out_fake: 0.0419, g_loss_fake: 1.1417\r\n"
     ]
    },
    {
     "name": "stdout",
     "output_type": "stream",
     "text": [
      "Elapsed [10:36:36.753848], G_step [146690/1000000], D_step[146690/1000000], d_out_real: 0.1997, d_out_fake: 0.0024, g_loss_fake: 1.1022\r\n"
     ]
    },
    {
     "name": "stdout",
     "output_type": "stream",
     "text": [
      "Elapsed [10:36:47.258169], G_step [146700/1000000], D_step[146700/1000000], d_out_real: 0.0638, d_out_fake: 0.0000, g_loss_fake: 1.1343\r\n"
     ]
    },
    {
     "name": "stdout",
     "output_type": "stream",
     "text": [
      "Elapsed [10:36:57.826513], G_step [146710/1000000], D_step[146710/1000000], d_out_real: 0.0050, d_out_fake: 0.0000, g_loss_fake: 1.0679\r\n"
     ]
    },
    {
     "name": "stdout",
     "output_type": "stream",
     "text": [
      "Elapsed [10:37:09.257971], G_step [146720/1000000], D_step[146720/1000000], d_out_real: 0.0064, d_out_fake: 0.0000, g_loss_fake: 1.1008\r\n"
     ]
    },
    {
     "name": "stdout",
     "output_type": "stream",
     "text": [
      "Elapsed [10:37:20.628766], G_step [146730/1000000], D_step[146730/1000000], d_out_real: 0.0000, d_out_fake: 0.1585, g_loss_fake: 1.1607\r\n"
     ]
    },
    {
     "name": "stdout",
     "output_type": "stream",
     "text": [
      "Elapsed [10:37:31.719168], G_step [146740/1000000], D_step[146740/1000000], d_out_real: 0.0159, d_out_fake: 0.1620, g_loss_fake: 1.0431\r\n"
     ]
    },
    {
     "name": "stdout",
     "output_type": "stream",
     "text": [
      "Elapsed [10:37:43.120921], G_step [146750/1000000], D_step[146750/1000000], d_out_real: 0.1417, d_out_fake: 0.0000, g_loss_fake: 1.0581\r\n"
     ]
    },
    {
     "name": "stdout",
     "output_type": "stream",
     "text": [
      "Elapsed [10:37:53.752574], G_step [146760/1000000], D_step[146760/1000000], d_out_real: 0.2083, d_out_fake: 0.0294, g_loss_fake: 0.9895\r\n"
     ]
    },
    {
     "name": "stdout",
     "output_type": "stream",
     "text": [
      "Elapsed [10:38:04.747930], G_step [146770/1000000], D_step[146770/1000000], d_out_real: 0.0631, d_out_fake: 0.1328, g_loss_fake: 1.1073\r\n"
     ]
    },
    {
     "name": "stdout",
     "output_type": "stream",
     "text": [
      "Elapsed [10:38:15.861920], G_step [146780/1000000], D_step[146780/1000000], d_out_real: 0.0867, d_out_fake: 0.0000, g_loss_fake: 0.7482\r\n"
     ]
    },
    {
     "name": "stdout",
     "output_type": "stream",
     "text": [
      "Elapsed [10:38:26.792486], G_step [146790/1000000], D_step[146790/1000000], d_out_real: 0.0709, d_out_fake: 0.0202, g_loss_fake: 1.1212\r\n"
     ]
    },
    {
     "name": "stdout",
     "output_type": "stream",
     "text": [
      "Elapsed [10:38:38.670476], G_step [146800/1000000], D_step[146800/1000000], d_out_real: 0.0788, d_out_fake: 0.0345, g_loss_fake: 1.0567\r\n"
     ]
    },
    {
     "name": "stdout",
     "output_type": "stream",
     "text": [
      "Elapsed [10:38:49.477510], G_step [146810/1000000], D_step[146810/1000000], d_out_real: 0.0654, d_out_fake: 0.0000, g_loss_fake: 1.1303\r\n"
     ]
    },
    {
     "name": "stdout",
     "output_type": "stream",
     "text": [
      "Elapsed [10:39:00.734237], G_step [146820/1000000], D_step[146820/1000000], d_out_real: 0.0647, d_out_fake: 0.1122, g_loss_fake: 1.1952\r\n"
     ]
    },
    {
     "name": "stdout",
     "output_type": "stream",
     "text": [
      "save torch\r\n"
     ]
    },
    {
     "name": "stdout",
     "output_type": "stream",
     "text": [
      "Elapsed [10:39:12.273937], G_step [146830/1000000], D_step[146830/1000000], d_out_real: 0.0087, d_out_fake: 0.0127, g_loss_fake: 1.0777\r\n"
     ]
    },
    {
     "name": "stdout",
     "output_type": "stream",
     "text": [
      "Elapsed [10:39:23.051572], G_step [146840/1000000], D_step[146840/1000000], d_out_real: 0.0607, d_out_fake: 0.1065, g_loss_fake: 1.1192\r\n"
     ]
    },
    {
     "name": "stdout",
     "output_type": "stream",
     "text": [
      "Elapsed [10:39:33.922483], G_step [146850/1000000], D_step[146850/1000000], d_out_real: 0.0937, d_out_fake: 0.1051, g_loss_fake: 1.1331\r\n"
     ]
    },
    {
     "name": "stdout",
     "output_type": "stream",
     "text": [
      "Elapsed [10:39:44.916184], G_step [146860/1000000], D_step[146860/1000000], d_out_real: 0.1280, d_out_fake: 0.0576, g_loss_fake: 1.0662\r\n"
     ]
    },
    {
     "name": "stdout",
     "output_type": "stream",
     "text": [
      "Elapsed [10:39:55.450203], G_step [146870/1000000], D_step[146870/1000000], d_out_real: 0.0602, d_out_fake: 0.0638, g_loss_fake: 1.0017\r\n"
     ]
    },
    {
     "name": "stdout",
     "output_type": "stream",
     "text": [
      "Elapsed [10:40:06.899035], G_step [146880/1000000], D_step[146880/1000000], d_out_real: 0.1122, d_out_fake: 0.0258, g_loss_fake: 1.0901\r\n"
     ]
    },
    {
     "name": "stdout",
     "output_type": "stream",
     "text": [
      "Elapsed [10:40:17.858933], G_step [146890/1000000], D_step[146890/1000000], d_out_real: 0.0120, d_out_fake: 0.1323, g_loss_fake: 1.1157\r\n"
     ]
    },
    {
     "name": "stdout",
     "output_type": "stream",
     "text": [
      "Elapsed [10:40:29.374448], G_step [146900/1000000], D_step[146900/1000000], d_out_real: 0.0000, d_out_fake: 0.1152, g_loss_fake: 1.1466\r\n"
     ]
    },
    {
     "name": "stdout",
     "output_type": "stream",
     "text": [
      "Elapsed [10:40:40.679202], G_step [146910/1000000], D_step[146910/1000000], d_out_real: 0.2491, d_out_fake: 0.0000, g_loss_fake: 0.9388\r\n"
     ]
    },
    {
     "name": "stdout",
     "output_type": "stream",
     "text": [
      "Elapsed [10:40:52.233976], G_step [146920/1000000], D_step[146920/1000000], d_out_real: 0.3100, d_out_fake: 0.0000, g_loss_fake: 1.0254\r\n"
     ]
    },
    {
     "name": "stdout",
     "output_type": "stream",
     "text": [
      "Elapsed [10:41:03.066666], G_step [146930/1000000], D_step[146930/1000000], d_out_real: 0.0899, d_out_fake: 0.0578, g_loss_fake: 1.0718\r\n"
     ]
    },
    {
     "name": "stdout",
     "output_type": "stream",
     "text": [
      "Elapsed [10:41:13.713674], G_step [146940/1000000], D_step[146940/1000000], d_out_real: 0.0000, d_out_fake: 0.0308, g_loss_fake: 1.0873\r\n"
     ]
    },
    {
     "name": "stdout",
     "output_type": "stream",
     "text": [
      "Elapsed [10:41:24.839075], G_step [146950/1000000], D_step[146950/1000000], d_out_real: 0.0031, d_out_fake: 0.0000, g_loss_fake: 1.0934\r\n"
     ]
    },
    {
     "name": "stdout",
     "output_type": "stream",
     "text": [
      "Elapsed [10:41:35.387292], G_step [146960/1000000], D_step[146960/1000000], d_out_real: 0.1265, d_out_fake: 0.0603, g_loss_fake: 1.0419\r\n"
     ]
    },
    {
     "name": "stdout",
     "output_type": "stream",
     "text": [
      "Elapsed [10:41:46.367374], G_step [146970/1000000], D_step[146970/1000000], d_out_real: 0.0846, d_out_fake: 0.0416, g_loss_fake: 1.1056\r\n"
     ]
    },
    {
     "name": "stdout",
     "output_type": "stream",
     "text": [
      "Elapsed [10:41:57.634748], G_step [146980/1000000], D_step[146980/1000000], d_out_real: 0.0000, d_out_fake: 0.0946, g_loss_fake: 1.1099\r\n"
     ]
    },
    {
     "name": "stdout",
     "output_type": "stream",
     "text": [
      "Elapsed [10:42:08.397142], G_step [146990/1000000], D_step[146990/1000000], d_out_real: 0.1675, d_out_fake: 0.0224, g_loss_fake: 0.9879\r\n"
     ]
    },
    {
     "name": "stdout",
     "output_type": "stream",
     "text": [
      "Elapsed [10:42:19.073229], G_step [147000/1000000], D_step[147000/1000000], d_out_real: 0.0872, d_out_fake: 0.0503, g_loss_fake: 1.0407\r\n",
      "Sample images 147000_fake.png\r\n"
     ]
    },
    {
     "name": "stdout",
     "output_type": "stream",
     "text": [
      "Elapsed [10:42:30.350563], G_step [147010/1000000], D_step[147010/1000000], d_out_real: 0.1515, d_out_fake: 0.0638, g_loss_fake: 1.1066\r\n"
     ]
    },
    {
     "name": "stdout",
     "output_type": "stream",
     "text": [
      "Elapsed [10:42:41.124145], G_step [147020/1000000], D_step[147020/1000000], d_out_real: 0.1447, d_out_fake: 0.0001, g_loss_fake: 0.9565\r\n"
     ]
    },
    {
     "name": "stdout",
     "output_type": "stream",
     "text": [
      "Elapsed [10:42:52.292818], G_step [147030/1000000], D_step[147030/1000000], d_out_real: 0.1289, d_out_fake: 0.0087, g_loss_fake: 1.0874\r\n"
     ]
    },
    {
     "name": "stdout",
     "output_type": "stream",
     "text": [
      "Elapsed [10:43:03.638342], G_step [147040/1000000], D_step[147040/1000000], d_out_real: 0.0000, d_out_fake: 0.0014, g_loss_fake: 1.0998\r\n"
     ]
    },
    {
     "name": "stdout",
     "output_type": "stream",
     "text": [
      "Elapsed [10:43:14.287014], G_step [147050/1000000], D_step[147050/1000000], d_out_real: 0.1244, d_out_fake: 0.0005, g_loss_fake: 1.1110\r\n"
     ]
    },
    {
     "name": "stdout",
     "output_type": "stream",
     "text": [
      "Elapsed [10:43:25.103461], G_step [147060/1000000], D_step[147060/1000000], d_out_real: 0.0654, d_out_fake: 0.0000, g_loss_fake: 1.0921\r\n"
     ]
    },
    {
     "name": "stdout",
     "output_type": "stream",
     "text": [
      "Elapsed [10:43:36.544559], G_step [147070/1000000], D_step[147070/1000000], d_out_real: 0.0630, d_out_fake: 0.0000, g_loss_fake: 1.0404\r\n"
     ]
    },
    {
     "name": "stdout",
     "output_type": "stream",
     "text": [
      "Elapsed [10:43:47.511741], G_step [147080/1000000], D_step[147080/1000000], d_out_real: 0.0412, d_out_fake: 0.0871, g_loss_fake: 1.1330\r\n"
     ]
    },
    {
     "name": "stdout",
     "output_type": "stream",
     "text": [
      "Elapsed [10:43:58.239517], G_step [147090/1000000], D_step[147090/1000000], d_out_real: 0.0654, d_out_fake: 0.0733, g_loss_fake: 1.1026\r\n"
     ]
    },
    {
     "name": "stdout",
     "output_type": "stream",
     "text": [
      "Elapsed [10:44:10.187302], G_step [147100/1000000], D_step[147100/1000000], d_out_real: 0.0987, d_out_fake: 0.0000, g_loss_fake: 1.1374\r\n"
     ]
    },
    {
     "name": "stdout",
     "output_type": "stream",
     "text": [
      "Elapsed [10:44:21.104530], G_step [147110/1000000], D_step[147110/1000000], d_out_real: 0.1282, d_out_fake: 0.0174, g_loss_fake: 1.0675\r\n"
     ]
    },
    {
     "name": "stdout",
     "output_type": "stream",
     "text": [
      "Elapsed [10:44:32.267713], G_step [147120/1000000], D_step[147120/1000000], d_out_real: 0.0000, d_out_fake: 0.0651, g_loss_fake: 1.1405\r\n"
     ]
    },
    {
     "name": "stdout",
     "output_type": "stream",
     "text": [
      "Elapsed [10:44:42.968403], G_step [147130/1000000], D_step[147130/1000000], d_out_real: 0.0636, d_out_fake: 0.0000, g_loss_fake: 0.9921\r\n"
     ]
    },
    {
     "name": "stdout",
     "output_type": "stream",
     "text": [
      "Elapsed [10:44:54.068655], G_step [147140/1000000], D_step[147140/1000000], d_out_real: 0.0555, d_out_fake: 0.0997, g_loss_fake: 1.1569\r\n"
     ]
    },
    {
     "name": "stdout",
     "output_type": "stream",
     "text": [
      "Elapsed [10:45:04.879438], G_step [147150/1000000], D_step[147150/1000000], d_out_real: 0.2398, d_out_fake: 0.0046, g_loss_fake: 1.1031\r\n"
     ]
    },
    {
     "name": "stdout",
     "output_type": "stream",
     "text": [
      "Elapsed [10:45:15.927879], G_step [147160/1000000], D_step[147160/1000000], d_out_real: 0.0586, d_out_fake: 0.0654, g_loss_fake: 1.0078\r\n"
     ]
    },
    {
     "name": "stdout",
     "output_type": "stream",
     "text": [
      "Elapsed [10:45:26.673392], G_step [147170/1000000], D_step[147170/1000000], d_out_real: 0.1133, d_out_fake: 0.0187, g_loss_fake: 1.0166\r\n"
     ]
    },
    {
     "name": "stdout",
     "output_type": "stream",
     "text": [
      "Elapsed [10:45:37.619521], G_step [147180/1000000], D_step[147180/1000000], d_out_real: 0.1195, d_out_fake: 0.0004, g_loss_fake: 1.0303\r\n"
     ]
    },
    {
     "name": "stdout",
     "output_type": "stream",
     "text": [
      "Elapsed [10:45:49.997072], G_step [147190/1000000], D_step[147190/1000000], d_out_real: 0.0021, d_out_fake: 0.1504, g_loss_fake: 1.0596\r\n"
     ]
    },
    {
     "name": "stdout",
     "output_type": "stream",
     "text": [
      "Elapsed [10:46:00.749439], G_step [147200/1000000], D_step[147200/1000000], d_out_real: 0.0711, d_out_fake: 0.0000, g_loss_fake: 1.0105\r\n"
     ]
    },
    {
     "name": "stdout",
     "output_type": "stream",
     "text": [
      "Elapsed [10:46:11.254733], G_step [147210/1000000], D_step[147210/1000000], d_out_real: 0.1165, d_out_fake: 0.0397, g_loss_fake: 1.1467\r\n"
     ]
    },
    {
     "name": "stdout",
     "output_type": "stream",
     "text": [
      "Elapsed [10:46:21.984194], G_step [147220/1000000], D_step[147220/1000000], d_out_real: 0.0000, d_out_fake: 0.0834, g_loss_fake: 1.1072\r\n"
     ]
    },
    {
     "name": "stdout",
     "output_type": "stream",
     "text": [
      "Elapsed [10:46:32.686581], G_step [147230/1000000], D_step[147230/1000000], d_out_real: 0.0000, d_out_fake: 0.0058, g_loss_fake: 1.1458\r\n"
     ]
    },
    {
     "name": "stdout",
     "output_type": "stream",
     "text": [
      "Elapsed [10:46:44.983235], G_step [147240/1000000], D_step[147240/1000000], d_out_real: 0.2356, d_out_fake: 0.0000, g_loss_fake: 1.0105\r\n"
     ]
    },
    {
     "name": "stdout",
     "output_type": "stream",
     "text": [
      "Elapsed [10:46:55.729603], G_step [147250/1000000], D_step[147250/1000000], d_out_real: 0.0000, d_out_fake: 0.0248, g_loss_fake: 1.1055\r\n"
     ]
    },
    {
     "name": "stdout",
     "output_type": "stream",
     "text": [
      "Elapsed [10:47:07.191607], G_step [147260/1000000], D_step[147260/1000000], d_out_real: 0.0000, d_out_fake: 0.3082, g_loss_fake: 1.0217\r\n"
     ]
    },
    {
     "name": "stdout",
     "output_type": "stream",
     "text": [
      "Elapsed [10:47:19.100556], G_step [147270/1000000], D_step[147270/1000000], d_out_real: 0.2574, d_out_fake: 0.0011, g_loss_fake: 1.0920\r\n"
     ]
    },
    {
     "name": "stdout",
     "output_type": "stream",
     "text": [
      "Elapsed [10:47:29.759864], G_step [147280/1000000], D_step[147280/1000000], d_out_real: 0.2778, d_out_fake: 0.0000, g_loss_fake: 0.9983\r\n"
     ]
    },
    {
     "name": "stdout",
     "output_type": "stream",
     "text": [
      "Elapsed [10:47:41.799935], G_step [147290/1000000], D_step[147290/1000000], d_out_real: 0.0836, d_out_fake: 0.0919, g_loss_fake: 1.1443\r\n"
     ]
    },
    {
     "name": "stdout",
     "output_type": "stream",
     "text": [
      "Elapsed [10:47:52.785881], G_step [147300/1000000], D_step[147300/1000000], d_out_real: 0.0000, d_out_fake: 0.2761, g_loss_fake: 1.1089\r\n"
     ]
    },
    {
     "name": "stdout",
     "output_type": "stream",
     "text": [
      "Elapsed [10:48:03.657560], G_step [147310/1000000], D_step[147310/1000000], d_out_real: 0.0865, d_out_fake: 0.0104, g_loss_fake: 0.9331\r\n"
     ]
    },
    {
     "name": "stdout",
     "output_type": "stream",
     "text": [
      "Elapsed [10:48:14.571047], G_step [147320/1000000], D_step[147320/1000000], d_out_real: 0.0647, d_out_fake: 0.2292, g_loss_fake: 1.0395\r\n"
     ]
    },
    {
     "name": "stdout",
     "output_type": "stream",
     "text": [
      "Elapsed [10:48:26.391447], G_step [147330/1000000], D_step[147330/1000000], d_out_real: 0.1940, d_out_fake: 0.1293, g_loss_fake: 1.0059\r\n"
     ]
    },
    {
     "name": "stdout",
     "output_type": "stream",
     "text": [
      "Elapsed [10:48:37.242984], G_step [147340/1000000], D_step[147340/1000000], d_out_real: 0.0050, d_out_fake: 0.0000, g_loss_fake: 1.0801\r\n"
     ]
    },
    {
     "name": "stdout",
     "output_type": "stream",
     "text": [
      "Elapsed [10:48:48.383636], G_step [147350/1000000], D_step[147350/1000000], d_out_real: 0.0000, d_out_fake: 0.0278, g_loss_fake: 1.1477\r\n"
     ]
    },
    {
     "name": "stdout",
     "output_type": "stream",
     "text": [
      "Elapsed [10:48:59.251399], G_step [147360/1000000], D_step[147360/1000000], d_out_real: 0.3068, d_out_fake: 0.0452, g_loss_fake: 1.0589\r\n"
     ]
    },
    {
     "name": "stdout",
     "output_type": "stream",
     "text": [
      "Elapsed [10:49:11.019841], G_step [147370/1000000], D_step[147370/1000000], d_out_real: 0.0527, d_out_fake: 0.0042, g_loss_fake: 0.9736\r\n"
     ]
    },
    {
     "name": "stdout",
     "output_type": "stream",
     "text": [
      "Elapsed [10:49:22.010086], G_step [147380/1000000], D_step[147380/1000000], d_out_real: 0.0765, d_out_fake: 0.0256, g_loss_fake: 1.0662\r\n"
     ]
    },
    {
     "name": "stdout",
     "output_type": "stream",
     "text": [
      "Elapsed [10:49:32.955812], G_step [147390/1000000], D_step[147390/1000000], d_out_real: 0.1655, d_out_fake: 0.0000, g_loss_fake: 0.9560\r\n"
     ]
    },
    {
     "name": "stdout",
     "output_type": "stream",
     "text": [
      "Elapsed [10:49:44.544050], G_step [147400/1000000], D_step[147400/1000000], d_out_real: 0.0028, d_out_fake: 0.0052, g_loss_fake: 1.1308\r\n"
     ]
    },
    {
     "name": "stdout",
     "output_type": "stream",
     "text": [
      "Elapsed [10:49:55.816412], G_step [147410/1000000], D_step[147410/1000000], d_out_real: 0.2109, d_out_fake: 0.0000, g_loss_fake: 1.0097\r\n"
     ]
    },
    {
     "name": "stdout",
     "output_type": "stream",
     "text": [
      "Elapsed [10:50:06.497158], G_step [147420/1000000], D_step[147420/1000000], d_out_real: 0.0000, d_out_fake: 0.0000, g_loss_fake: 1.0651\r\n"
     ]
    },
    {
     "name": "stdout",
     "output_type": "stream",
     "text": [
      "Elapsed [10:50:17.748436], G_step [147430/1000000], D_step[147430/1000000], d_out_real: 0.1253, d_out_fake: 0.0000, g_loss_fake: 1.0765\r\n"
     ]
    },
    {
     "name": "stdout",
     "output_type": "stream",
     "text": [
      "Elapsed [10:50:29.050874], G_step [147440/1000000], D_step[147440/1000000], d_out_real: 0.1304, d_out_fake: 0.0000, g_loss_fake: 1.0448\r\n"
     ]
    },
    {
     "name": "stdout",
     "output_type": "stream",
     "text": [
      "Elapsed [10:50:40.232220], G_step [147450/1000000], D_step[147450/1000000], d_out_real: 0.1604, d_out_fake: 0.0640, g_loss_fake: 1.0376\r\n"
     ]
    },
    {
     "name": "stdout",
     "output_type": "stream",
     "text": [
      "Elapsed [10:50:53.522407], G_step [147460/1000000], D_step[147460/1000000], d_out_real: 0.0586, d_out_fake: 0.0000, g_loss_fake: 1.0657\r\n"
     ]
    },
    {
     "name": "stdout",
     "output_type": "stream",
     "text": [
      "Elapsed [10:51:05.296994], G_step [147470/1000000], D_step[147470/1000000], d_out_real: 0.0000, d_out_fake: 0.1014, g_loss_fake: 0.9784\r\n"
     ]
    },
    {
     "name": "stdout",
     "output_type": "stream",
     "text": [
      "Elapsed [10:51:16.188604], G_step [147480/1000000], D_step[147480/1000000], d_out_real: 0.1067, d_out_fake: 0.0000, g_loss_fake: 1.0539\r\n"
     ]
    },
    {
     "name": "stdout",
     "output_type": "stream",
     "text": [
      "Elapsed [10:51:27.562102], G_step [147490/1000000], D_step[147490/1000000], d_out_real: 0.2783, d_out_fake: 0.0000, g_loss_fake: 1.0097\r\n"
     ]
    },
    {
     "name": "stdout",
     "output_type": "stream",
     "text": [
      "Elapsed [10:51:38.145315], G_step [147500/1000000], D_step[147500/1000000], d_out_real: 0.0637, d_out_fake: 0.0000, g_loss_fake: 1.0985\r\n"
     ]
    },
    {
     "name": "stdout",
     "output_type": "stream",
     "text": [
      "Elapsed [10:51:49.163197], G_step [147510/1000000], D_step[147510/1000000], d_out_real: 0.0000, d_out_fake: 0.0009, g_loss_fake: 1.0817\r\n"
     ]
    },
    {
     "name": "stdout",
     "output_type": "stream",
     "text": [
      "Elapsed [10:52:00.119512], G_step [147520/1000000], D_step[147520/1000000], d_out_real: 0.0614, d_out_fake: 0.1135, g_loss_fake: 1.1159\r\n"
     ]
    },
    {
     "name": "stdout",
     "output_type": "stream",
     "text": [
      "Elapsed [10:52:10.879302], G_step [147530/1000000], D_step[147530/1000000], d_out_real: 0.0000, d_out_fake: 0.0000, g_loss_fake: 1.1409\r\n"
     ]
    },
    {
     "name": "stdout",
     "output_type": "stream",
     "text": [
      "Elapsed [10:52:22.863168], G_step [147540/1000000], D_step[147540/1000000], d_out_real: 0.0000, d_out_fake: 0.0000, g_loss_fake: 0.9778\r\n"
     ]
    },
    {
     "name": "stdout",
     "output_type": "stream",
     "text": [
      "Elapsed [10:52:34.072928], G_step [147550/1000000], D_step[147550/1000000], d_out_real: 0.1166, d_out_fake: 0.1144, g_loss_fake: 1.1619\r\n"
     ]
    },
    {
     "name": "stdout",
     "output_type": "stream",
     "text": [
      "Elapsed [10:52:44.701320], G_step [147560/1000000], D_step[147560/1000000], d_out_real: 0.2253, d_out_fake: 0.0031, g_loss_fake: 0.9951\r\n"
     ]
    },
    {
     "name": "stdout",
     "output_type": "stream",
     "text": [
      "Elapsed [10:52:55.441059], G_step [147570/1000000], D_step[147570/1000000], d_out_real: 0.0000, d_out_fake: 0.0800, g_loss_fake: 1.2034\r\n"
     ]
    },
    {
     "name": "stdout",
     "output_type": "stream",
     "text": [
      "Elapsed [10:53:06.571187], G_step [147580/1000000], D_step[147580/1000000], d_out_real: 0.1980, d_out_fake: 0.0000, g_loss_fake: 1.1162\r\n"
     ]
    },
    {
     "name": "stdout",
     "output_type": "stream",
     "text": [
      "Elapsed [10:53:17.243168], G_step [147590/1000000], D_step[147590/1000000], d_out_real: 0.1305, d_out_fake: 0.1261, g_loss_fake: 1.0775\r\n"
     ]
    },
    {
     "name": "stdout",
     "output_type": "stream",
     "text": [
      "Elapsed [10:53:28.313402], G_step [147600/1000000], D_step[147600/1000000], d_out_real: 0.1197, d_out_fake: 0.0026, g_loss_fake: 1.1968\r\n"
     ]
    },
    {
     "name": "stdout",
     "output_type": "stream",
     "text": [
      "Elapsed [10:53:38.887357], G_step [147610/1000000], D_step[147610/1000000], d_out_real: 0.0698, d_out_fake: 0.1323, g_loss_fake: 1.1271\r\n"
     ]
    },
    {
     "name": "stdout",
     "output_type": "stream",
     "text": [
      "Elapsed [10:53:49.550413], G_step [147620/1000000], D_step[147620/1000000], d_out_real: 0.2106, d_out_fake: 0.0124, g_loss_fake: 1.0970\r\n"
     ]
    },
    {
     "name": "stdout",
     "output_type": "stream",
     "text": [
      "Elapsed [10:54:01.295863], G_step [147630/1000000], D_step[147630/1000000], d_out_real: 0.1215, d_out_fake: 0.0561, g_loss_fake: 1.0824\r\n"
     ]
    },
    {
     "name": "stdout",
     "output_type": "stream",
     "text": [
      "Elapsed [10:54:12.175124], G_step [147640/1000000], D_step[147640/1000000], d_out_real: 0.1178, d_out_fake: 0.0000, g_loss_fake: 0.9751\r\n"
     ]
    },
    {
     "name": "stdout",
     "output_type": "stream",
     "text": [
      "Elapsed [10:54:23.043807], G_step [147650/1000000], D_step[147650/1000000], d_out_real: 0.2106, d_out_fake: 0.0660, g_loss_fake: 0.9646\r\n"
     ]
    },
    {
     "name": "stdout",
     "output_type": "stream",
     "text": [
      "Elapsed [10:54:34.636915], G_step [147660/1000000], D_step[147660/1000000], d_out_real: 0.0919, d_out_fake: 0.0000, g_loss_fake: 1.0543\r\n"
     ]
    },
    {
     "name": "stdout",
     "output_type": "stream",
     "text": [
      "Elapsed [10:54:45.298594], G_step [147670/1000000], D_step[147670/1000000], d_out_real: 0.0086, d_out_fake: 0.0592, g_loss_fake: 1.0642\r\n"
     ]
    },
    {
     "name": "stdout",
     "output_type": "stream",
     "text": [
      "Elapsed [10:54:56.274851], G_step [147680/1000000], D_step[147680/1000000], d_out_real: 0.0618, d_out_fake: 0.0427, g_loss_fake: 1.1596\r\n"
     ]
    },
    {
     "name": "stdout",
     "output_type": "stream",
     "text": [
      "Elapsed [10:55:07.432926], G_step [147690/1000000], D_step[147690/1000000], d_out_real: 0.1315, d_out_fake: 0.0676, g_loss_fake: 0.7412\r\n"
     ]
    },
    {
     "name": "stdout",
     "output_type": "stream",
     "text": [
      "Elapsed [10:55:18.389546], G_step [147700/1000000], D_step[147700/1000000], d_out_real: 0.0000, d_out_fake: 0.0645, g_loss_fake: 0.9668\r\n"
     ]
    },
    {
     "name": "stdout",
     "output_type": "stream",
     "text": [
      "Elapsed [10:55:29.391221], G_step [147710/1000000], D_step[147710/1000000], d_out_real: 0.0000, d_out_fake: 0.0027, g_loss_fake: 1.0783\r\n"
     ]
    },
    {
     "name": "stdout",
     "output_type": "stream",
     "text": [
      "Elapsed [10:55:40.642920], G_step [147720/1000000], D_step[147720/1000000], d_out_real: 0.1379, d_out_fake: 0.1333, g_loss_fake: 0.7937\r\n"
     ]
    },
    {
     "name": "stdout",
     "output_type": "stream",
     "text": [
      "Elapsed [10:55:52.132129], G_step [147730/1000000], D_step[147730/1000000], d_out_real: 0.0722, d_out_fake: 0.0007, g_loss_fake: 1.0833\r\n"
     ]
    },
    {
     "name": "stdout",
     "output_type": "stream",
     "text": [
      "Elapsed [10:56:03.024121], G_step [147740/1000000], D_step[147740/1000000], d_out_real: 0.0036, d_out_fake: 0.0615, g_loss_fake: 1.1840\r\n"
     ]
    },
    {
     "name": "stdout",
     "output_type": "stream",
     "text": [
      "Elapsed [10:56:14.768515], G_step [147750/1000000], D_step[147750/1000000], d_out_real: 0.0658, d_out_fake: 0.0000, g_loss_fake: 1.0389\r\n"
     ]
    },
    {
     "name": "stdout",
     "output_type": "stream",
     "text": [
      "Elapsed [10:56:25.590722], G_step [147760/1000000], D_step[147760/1000000], d_out_real: 0.0648, d_out_fake: 0.0000, g_loss_fake: 0.9986\r\n"
     ]
    },
    {
     "name": "stdout",
     "output_type": "stream",
     "text": [
      "Elapsed [10:56:37.514321], G_step [147770/1000000], D_step[147770/1000000], d_out_real: 0.0802, d_out_fake: 0.0030, g_loss_fake: 0.9614\r\n"
     ]
    },
    {
     "name": "stdout",
     "output_type": "stream",
     "text": [
      "Elapsed [10:56:48.644223], G_step [147780/1000000], D_step[147780/1000000], d_out_real: 0.0000, d_out_fake: 0.2049, g_loss_fake: 1.0975\r\n"
     ]
    },
    {
     "name": "stdout",
     "output_type": "stream",
     "text": [
      "Elapsed [10:56:59.697247], G_step [147790/1000000], D_step[147790/1000000], d_out_real: 0.1166, d_out_fake: 0.0107, g_loss_fake: 1.0502\r\n"
     ]
    },
    {
     "name": "stdout",
     "output_type": "stream",
     "text": [
      "Elapsed [10:57:11.045185], G_step [147800/1000000], D_step[147800/1000000], d_out_real: 0.0069, d_out_fake: 0.0558, g_loss_fake: 1.0446\r\n"
     ]
    },
    {
     "name": "stdout",
     "output_type": "stream",
     "text": [
      "Elapsed [10:57:21.673287], G_step [147810/1000000], D_step[147810/1000000], d_out_real: 0.0094, d_out_fake: 0.0000, g_loss_fake: 1.0770\r\n"
     ]
    },
    {
     "name": "stdout",
     "output_type": "stream",
     "text": [
      "Elapsed [10:57:32.799439], G_step [147820/1000000], D_step[147820/1000000], d_out_real: 0.1958, d_out_fake: 0.0627, g_loss_fake: 0.9976\r\n"
     ]
    },
    {
     "name": "stdout",
     "output_type": "stream",
     "text": [
      "Elapsed [10:57:43.702472], G_step [147830/1000000], D_step[147830/1000000], d_out_real: 0.1720, d_out_fake: 0.0000, g_loss_fake: 1.0264\r\n"
     ]
    },
    {
     "name": "stdout",
     "output_type": "stream",
     "text": [
      "Elapsed [10:57:54.288558], G_step [147840/1000000], D_step[147840/1000000], d_out_real: 0.0389, d_out_fake: 0.1072, g_loss_fake: 1.0976\r\n"
     ]
    },
    {
     "name": "stdout",
     "output_type": "stream",
     "text": [
      "Elapsed [10:58:06.973867], G_step [147850/1000000], D_step[147850/1000000], d_out_real: 0.0214, d_out_fake: 0.0980, g_loss_fake: 1.0712\r\n"
     ]
    },
    {
     "name": "stdout",
     "output_type": "stream",
     "text": [
      "Elapsed [10:58:18.183259], G_step [147860/1000000], D_step[147860/1000000], d_out_real: 0.0606, d_out_fake: 0.0000, g_loss_fake: 0.9878\r\n"
     ]
    },
    {
     "name": "stdout",
     "output_type": "stream",
     "text": [
      "Elapsed [10:58:29.226945], G_step [147870/1000000], D_step[147870/1000000], d_out_real: 0.0000, d_out_fake: 0.0704, g_loss_fake: 0.9298\r\n"
     ]
    },
    {
     "name": "stdout",
     "output_type": "stream",
     "text": [
      "Elapsed [10:58:41.061594], G_step [147880/1000000], D_step[147880/1000000], d_out_real: 0.2762, d_out_fake: 0.0028, g_loss_fake: 0.9891\r\n"
     ]
    },
    {
     "name": "stdout",
     "output_type": "stream",
     "text": [
      "Elapsed [10:58:52.216555], G_step [147890/1000000], D_step[147890/1000000], d_out_real: 0.1262, d_out_fake: 0.0351, g_loss_fake: 0.9799\r\n"
     ]
    },
    {
     "name": "stdout",
     "output_type": "stream",
     "text": [
      "Elapsed [10:59:03.585458], G_step [147900/1000000], D_step[147900/1000000], d_out_real: 0.0291, d_out_fake: 0.0026, g_loss_fake: 1.0367\r\n"
     ]
    },
    {
     "name": "stdout",
     "output_type": "stream",
     "text": [
      "Elapsed [10:59:14.725487], G_step [147910/1000000], D_step[147910/1000000], d_out_real: 0.0644, d_out_fake: 0.0554, g_loss_fake: 1.0688\r\n"
     ]
    },
    {
     "name": "stdout",
     "output_type": "stream",
     "text": [
      "Elapsed [10:59:25.663576], G_step [147920/1000000], D_step[147920/1000000], d_out_real: 0.1752, d_out_fake: 0.0569, g_loss_fake: 1.0756\r\n"
     ]
    },
    {
     "name": "stdout",
     "output_type": "stream",
     "text": [
      "Elapsed [10:59:36.303093], G_step [147930/1000000], D_step[147930/1000000], d_out_real: 0.0721, d_out_fake: 0.0282, g_loss_fake: 1.0876\r\n"
     ]
    },
    {
     "name": "stdout",
     "output_type": "stream",
     "text": [
      "Elapsed [10:59:47.644840], G_step [147940/1000000], D_step[147940/1000000], d_out_real: 0.0628, d_out_fake: 0.0000, g_loss_fake: 1.0826\r\n"
     ]
    },
    {
     "name": "stdout",
     "output_type": "stream",
     "text": [
      "Elapsed [10:59:59.228537], G_step [147950/1000000], D_step[147950/1000000], d_out_real: 0.0374, d_out_fake: 0.0757, g_loss_fake: 1.0538\r\n"
     ]
    },
    {
     "name": "stdout",
     "output_type": "stream",
     "text": [
      "Elapsed [11:00:09.806947], G_step [147960/1000000], D_step[147960/1000000], d_out_real: 0.0639, d_out_fake: 0.0712, g_loss_fake: 1.0326\r\n"
     ]
    },
    {
     "name": "stdout",
     "output_type": "stream",
     "text": [
      "Elapsed [11:00:21.615980], G_step [147970/1000000], D_step[147970/1000000], d_out_real: 0.1814, d_out_fake: 0.0849, g_loss_fake: 1.0009\r\n"
     ]
    },
    {
     "name": "stdout",
     "output_type": "stream",
     "text": [
      "Elapsed [11:00:32.279185], G_step [147980/1000000], D_step[147980/1000000], d_out_real: 0.0770, d_out_fake: 0.0002, g_loss_fake: 1.0420\r\n"
     ]
    },
    {
     "name": "stdout",
     "output_type": "stream",
     "text": [
      "Elapsed [11:00:42.869427], G_step [147990/1000000], D_step[147990/1000000], d_out_real: 0.0033, d_out_fake: 0.0243, g_loss_fake: 1.1916\r\n"
     ]
    },
    {
     "name": "stdout",
     "output_type": "stream",
     "text": [
      "Elapsed [11:00:54.172528], G_step [148000/1000000], D_step[148000/1000000], d_out_real: 0.0000, d_out_fake: 0.0260, g_loss_fake: 1.1930\r\n",
      "Sample images 148000_fake.png\r\n"
     ]
    },
    {
     "name": "stdout",
     "output_type": "stream",
     "text": [
      "Elapsed [11:01:05.529171], G_step [148010/1000000], D_step[148010/1000000], d_out_real: 0.0007, d_out_fake: 0.0242, g_loss_fake: 1.0309\r\n"
     ]
    },
    {
     "name": "stdout",
     "output_type": "stream",
     "text": [
      "Elapsed [11:01:16.259647], G_step [148020/1000000], D_step[148020/1000000], d_out_real: 0.0690, d_out_fake: 0.0000, g_loss_fake: 0.9944\r\n"
     ]
    },
    {
     "name": "stdout",
     "output_type": "stream",
     "text": [
      "Elapsed [11:01:27.478009], G_step [148030/1000000], D_step[148030/1000000], d_out_real: 0.2488, d_out_fake: 0.0392, g_loss_fake: 1.0391\r\n"
     ]
    },
    {
     "name": "stdout",
     "output_type": "stream",
     "text": [
      "Elapsed [11:01:38.015754], G_step [148040/1000000], D_step[148040/1000000], d_out_real: 0.1203, d_out_fake: 0.0468, g_loss_fake: 1.1021\r\n"
     ]
    },
    {
     "name": "stdout",
     "output_type": "stream",
     "text": [
      "Elapsed [11:01:48.813023], G_step [148050/1000000], D_step[148050/1000000], d_out_real: 0.2963, d_out_fake: 0.0680, g_loss_fake: 1.0698\r\n"
     ]
    },
    {
     "name": "stdout",
     "output_type": "stream",
     "text": [
      "Elapsed [11:01:59.636392], G_step [148060/1000000], D_step[148060/1000000], d_out_real: 0.0726, d_out_fake: 0.0664, g_loss_fake: 1.1304\r\n"
     ]
    },
    {
     "name": "stdout",
     "output_type": "stream",
     "text": [
      "Elapsed [11:02:10.998136], G_step [148070/1000000], D_step[148070/1000000], d_out_real: 0.1009, d_out_fake: 0.1623, g_loss_fake: 0.9899\r\n"
     ]
    },
    {
     "name": "stdout",
     "output_type": "stream",
     "text": [
      "Elapsed [11:02:22.391019], G_step [148080/1000000], D_step[148080/1000000], d_out_real: 0.0375, d_out_fake: 0.0000, g_loss_fake: 1.1023\r\n"
     ]
    },
    {
     "name": "stdout",
     "output_type": "stream",
     "text": [
      "Elapsed [11:02:34.157216], G_step [148090/1000000], D_step[148090/1000000], d_out_real: 0.0000, d_out_fake: 0.0000, g_loss_fake: 1.1225\r\n"
     ]
    },
    {
     "name": "stdout",
     "output_type": "stream",
     "text": [
      "Elapsed [11:02:44.781748], G_step [148100/1000000], D_step[148100/1000000], d_out_real: 0.0648, d_out_fake: 0.0065, g_loss_fake: 1.1291\r\n"
     ]
    },
    {
     "name": "stdout",
     "output_type": "stream",
     "text": [
      "Elapsed [11:02:55.623882], G_step [148110/1000000], D_step[148110/1000000], d_out_real: 0.1984, d_out_fake: 0.0000, g_loss_fake: 1.0558\r\n"
     ]
    },
    {
     "name": "stdout",
     "output_type": "stream",
     "text": [
      "Elapsed [11:03:07.433251], G_step [148120/1000000], D_step[148120/1000000], d_out_real: 0.1278, d_out_fake: 0.0568, g_loss_fake: 1.0672\r\n"
     ]
    },
    {
     "name": "stdout",
     "output_type": "stream",
     "text": [
      "Elapsed [11:03:18.232055], G_step [148130/1000000], D_step[148130/1000000], d_out_real: 0.1406, d_out_fake: 0.0080, g_loss_fake: 0.9936\r\n"
     ]
    },
    {
     "name": "stdout",
     "output_type": "stream",
     "text": [
      "Elapsed [11:03:29.537448], G_step [148140/1000000], D_step[148140/1000000], d_out_real: 0.0218, d_out_fake: 0.0441, g_loss_fake: 1.0882\r\n"
     ]
    },
    {
     "name": "stdout",
     "output_type": "stream",
     "text": [
      "Elapsed [11:03:40.631660], G_step [148150/1000000], D_step[148150/1000000], d_out_real: 0.0744, d_out_fake: 0.0000, g_loss_fake: 0.9058\r\n"
     ]
    },
    {
     "name": "stdout",
     "output_type": "stream",
     "text": [
      "Elapsed [11:03:51.352166], G_step [148160/1000000], D_step[148160/1000000], d_out_real: 0.0397, d_out_fake: 0.0124, g_loss_fake: 0.9746\r\n"
     ]
    },
    {
     "name": "stdout",
     "output_type": "stream",
     "text": [
      "Elapsed [11:04:02.937409], G_step [148170/1000000], D_step[148170/1000000], d_out_real: 0.0000, d_out_fake: 0.0000, g_loss_fake: 1.0924\r\n"
     ]
    },
    {
     "name": "stdout",
     "output_type": "stream",
     "text": [
      "Elapsed [11:04:13.725939], G_step [148180/1000000], D_step[148180/1000000], d_out_real: 0.1270, d_out_fake: 0.1244, g_loss_fake: 1.0872\r\n"
     ]
    },
    {
     "name": "stdout",
     "output_type": "stream",
     "text": [
      "Elapsed [11:04:24.571950], G_step [148190/1000000], D_step[148190/1000000], d_out_real: 0.1043, d_out_fake: 0.0000, g_loss_fake: 1.0042\r\n"
     ]
    },
    {
     "name": "stdout",
     "output_type": "stream",
     "text": [
      "Elapsed [11:04:35.660061], G_step [148200/1000000], D_step[148200/1000000], d_out_real: 0.1617, d_out_fake: 0.0000, g_loss_fake: 1.0626\r\n"
     ]
    },
    {
     "name": "stdout",
     "output_type": "stream",
     "text": [
      "Elapsed [11:04:46.427997], G_step [148210/1000000], D_step[148210/1000000], d_out_real: 0.1024, d_out_fake: 0.0000, g_loss_fake: 1.0809\r\n"
     ]
    },
    {
     "name": "stdout",
     "output_type": "stream",
     "text": [
      "Elapsed [11:04:57.243493], G_step [148220/1000000], D_step[148220/1000000], d_out_real: 0.0895, d_out_fake: 0.0001, g_loss_fake: 1.0487\r\n"
     ]
    },
    {
     "name": "stdout",
     "output_type": "stream",
     "text": [
      "Elapsed [11:05:07.926648], G_step [148230/1000000], D_step[148230/1000000], d_out_real: 0.0320, d_out_fake: 0.0130, g_loss_fake: 1.0883\r\n"
     ]
    },
    {
     "name": "stdout",
     "output_type": "stream",
     "text": [
      "Elapsed [11:05:18.646520], G_step [148240/1000000], D_step[148240/1000000], d_out_real: 0.1756, d_out_fake: 0.0024, g_loss_fake: 1.1374\r\n"
     ]
    },
    {
     "name": "stdout",
     "output_type": "stream",
     "text": [
      "Elapsed [11:05:29.786738], G_step [148250/1000000], D_step[148250/1000000], d_out_real: 0.0605, d_out_fake: 0.0000, g_loss_fake: 1.0040\r\n"
     ]
    },
    {
     "name": "stdout",
     "output_type": "stream",
     "text": [
      "Elapsed [11:05:40.529374], G_step [148260/1000000], D_step[148260/1000000], d_out_real: 0.0659, d_out_fake: 0.0000, g_loss_fake: 1.0536\r\n"
     ]
    },
    {
     "name": "stdout",
     "output_type": "stream",
     "text": [
      "Elapsed [11:05:51.806879], G_step [148270/1000000], D_step[148270/1000000], d_out_real: 0.0000, d_out_fake: 0.1177, g_loss_fake: 1.0252\r\n"
     ]
    },
    {
     "name": "stdout",
     "output_type": "stream",
     "text": [
      "Elapsed [11:06:02.489849], G_step [148280/1000000], D_step[148280/1000000], d_out_real: 0.0635, d_out_fake: 0.1646, g_loss_fake: 1.0688\r\n"
     ]
    },
    {
     "name": "stdout",
     "output_type": "stream",
     "text": [
      "Elapsed [11:06:13.804682], G_step [148290/1000000], D_step[148290/1000000], d_out_real: 0.0000, d_out_fake: 0.0233, g_loss_fake: 1.0132\r\n"
     ]
    },
    {
     "name": "stdout",
     "output_type": "stream",
     "text": [
      "Elapsed [11:06:24.938661], G_step [148300/1000000], D_step[148300/1000000], d_out_real: 0.0000, d_out_fake: 0.0209, g_loss_fake: 1.0610\r\n"
     ]
    },
    {
     "name": "stdout",
     "output_type": "stream",
     "text": [
      "Elapsed [11:06:36.122764], G_step [148310/1000000], D_step[148310/1000000], d_out_real: 0.0657, d_out_fake: 0.1392, g_loss_fake: 1.1625\r\n"
     ]
    },
    {
     "name": "stdout",
     "output_type": "stream",
     "text": [
      "Elapsed [11:06:47.398411], G_step [148320/1000000], D_step[148320/1000000], d_out_real: 0.0000, d_out_fake: 0.0495, g_loss_fake: 1.1301\r\n"
     ]
    },
    {
     "name": "stdout",
     "output_type": "stream",
     "text": [
      "Elapsed [11:06:58.154424], G_step [148330/1000000], D_step[148330/1000000], d_out_real: 0.0659, d_out_fake: 0.0109, g_loss_fake: 1.1450\r\n"
     ]
    },
    {
     "name": "stdout",
     "output_type": "stream",
     "text": [
      "Elapsed [11:07:09.365103], G_step [148340/1000000], D_step[148340/1000000], d_out_real: 0.0000, d_out_fake: 0.1324, g_loss_fake: 1.0721\r\n"
     ]
    },
    {
     "name": "stdout",
     "output_type": "stream",
     "text": [
      "Elapsed [11:07:20.068542], G_step [148350/1000000], D_step[148350/1000000], d_out_real: 0.1298, d_out_fake: 0.0000, g_loss_fake: 1.0946\r\n"
     ]
    },
    {
     "name": "stdout",
     "output_type": "stream",
     "text": [
      "Elapsed [11:07:31.058101], G_step [148360/1000000], D_step[148360/1000000], d_out_real: 0.1309, d_out_fake: 0.0732, g_loss_fake: 1.0618\r\n"
     ]
    },
    {
     "name": "stdout",
     "output_type": "stream",
     "text": [
      "Elapsed [11:07:42.244182], G_step [148370/1000000], D_step[148370/1000000], d_out_real: 0.0415, d_out_fake: 0.0000, g_loss_fake: 1.0322\r\n"
     ]
    },
    {
     "name": "stdout",
     "output_type": "stream",
     "text": [
      "Elapsed [11:07:53.130147], G_step [148380/1000000], D_step[148380/1000000], d_out_real: 0.1009, d_out_fake: 0.1633, g_loss_fake: 1.0347\r\n"
     ]
    },
    {
     "name": "stdout",
     "output_type": "stream",
     "text": [
      "Elapsed [11:08:04.534026], G_step [148390/1000000], D_step[148390/1000000], d_out_real: 0.1128, d_out_fake: 0.0000, g_loss_fake: 1.0189\r\n",
      "save torch\r\n"
     ]
    },
    {
     "name": "stdout",
     "output_type": "stream",
     "text": [
      "Elapsed [11:08:16.607971], G_step [148400/1000000], D_step[148400/1000000], d_out_real: 0.1250, d_out_fake: 0.0721, g_loss_fake: 1.0873\r\n"
     ]
    },
    {
     "name": "stdout",
     "output_type": "stream",
     "text": [
      "Elapsed [11:08:27.344302], G_step [148410/1000000], D_step[148410/1000000], d_out_real: 0.0552, d_out_fake: 0.0013, g_loss_fake: 1.0384\r\n"
     ]
    },
    {
     "name": "stdout",
     "output_type": "stream",
     "text": [
      "Elapsed [11:08:38.127135], G_step [148420/1000000], D_step[148420/1000000], d_out_real: 0.0019, d_out_fake: 0.0000, g_loss_fake: 1.0968\r\n"
     ]
    },
    {
     "name": "stdout",
     "output_type": "stream",
     "text": [
      "Elapsed [11:08:49.038463], G_step [148430/1000000], D_step[148430/1000000], d_out_real: 0.0638, d_out_fake: 0.0095, g_loss_fake: 0.9776\r\n"
     ]
    },
    {
     "name": "stdout",
     "output_type": "stream",
     "text": [
      "Elapsed [11:09:00.737252], G_step [148440/1000000], D_step[148440/1000000], d_out_real: 0.0639, d_out_fake: 0.0512, g_loss_fake: 1.1005\r\n"
     ]
    },
    {
     "name": "stdout",
     "output_type": "stream",
     "text": [
      "Elapsed [11:09:11.429557], G_step [148450/1000000], D_step[148450/1000000], d_out_real: 0.0026, d_out_fake: 0.0000, g_loss_fake: 1.1740\r\n"
     ]
    },
    {
     "name": "stdout",
     "output_type": "stream",
     "text": [
      "Elapsed [11:09:22.113303], G_step [148460/1000000], D_step[148460/1000000], d_out_real: 0.0627, d_out_fake: 0.0000, g_loss_fake: 1.0935\r\n"
     ]
    },
    {
     "name": "stdout",
     "output_type": "stream",
     "text": [
      "Elapsed [11:09:32.753493], G_step [148470/1000000], D_step[148470/1000000], d_out_real: 0.0634, d_out_fake: 0.0314, g_loss_fake: 1.0465\r\n"
     ]
    },
    {
     "name": "stdout",
     "output_type": "stream",
     "text": [
      "Elapsed [11:09:43.469256], G_step [148480/1000000], D_step[148480/1000000], d_out_real: 0.0320, d_out_fake: 0.0155, g_loss_fake: 1.0838\r\n"
     ]
    },
    {
     "name": "stdout",
     "output_type": "stream",
     "text": [
      "Elapsed [11:09:54.652853], G_step [148490/1000000], D_step[148490/1000000], d_out_real: 0.1325, d_out_fake: 0.0526, g_loss_fake: 1.1104\r\n"
     ]
    },
    {
     "name": "stdout",
     "output_type": "stream",
     "text": [
      "Elapsed [11:10:05.411120], G_step [148500/1000000], D_step[148500/1000000], d_out_real: 0.0101, d_out_fake: 0.0000, g_loss_fake: 1.1144\r\n"
     ]
    },
    {
     "name": "stdout",
     "output_type": "stream",
     "text": [
      "Elapsed [11:10:16.744879], G_step [148510/1000000], D_step[148510/1000000], d_out_real: 0.0669, d_out_fake: 0.0057, g_loss_fake: 1.1417\r\n"
     ]
    },
    {
     "name": "stdout",
     "output_type": "stream",
     "text": [
      "Elapsed [11:10:27.453409], G_step [148520/1000000], D_step[148520/1000000], d_out_real: 0.0889, d_out_fake: 0.0287, g_loss_fake: 0.9721\r\n"
     ]
    },
    {
     "name": "stdout",
     "output_type": "stream",
     "text": [
      "Elapsed [11:10:38.472247], G_step [148530/1000000], D_step[148530/1000000], d_out_real: 0.0999, d_out_fake: 0.0243, g_loss_fake: 1.1243\r\n"
     ]
    },
    {
     "name": "stdout",
     "output_type": "stream",
     "text": [
      "Elapsed [11:10:50.123583], G_step [148540/1000000], D_step[148540/1000000], d_out_real: 0.1214, d_out_fake: 0.0225, g_loss_fake: 1.0869\r\n"
     ]
    },
    {
     "name": "stdout",
     "output_type": "stream",
     "text": [
      "Elapsed [11:11:01.244520], G_step [148550/1000000], D_step[148550/1000000], d_out_real: 0.2519, d_out_fake: 0.0046, g_loss_fake: 1.0193\r\n"
     ]
    },
    {
     "name": "stdout",
     "output_type": "stream",
     "text": [
      "Elapsed [11:11:12.152874], G_step [148560/1000000], D_step[148560/1000000], d_out_real: 0.1286, d_out_fake: 0.0344, g_loss_fake: 1.0771\r\n"
     ]
    },
    {
     "name": "stdout",
     "output_type": "stream",
     "text": [
      "Elapsed [11:11:23.124467], G_step [148570/1000000], D_step[148570/1000000], d_out_real: 0.1790, d_out_fake: 0.0000, g_loss_fake: 0.9401\r\n"
     ]
    },
    {
     "name": "stdout",
     "output_type": "stream",
     "text": [
      "Elapsed [11:11:34.232074], G_step [148580/1000000], D_step[148580/1000000], d_out_real: 0.0628, d_out_fake: 0.0894, g_loss_fake: 1.1221\r\n"
     ]
    },
    {
     "name": "stdout",
     "output_type": "stream",
     "text": [
      "Elapsed [11:11:44.888206], G_step [148590/1000000], D_step[148590/1000000], d_out_real: 0.0000, d_out_fake: 0.0000, g_loss_fake: 1.1135\r\n"
     ]
    },
    {
     "name": "stdout",
     "output_type": "stream",
     "text": [
      "Elapsed [11:11:56.195959], G_step [148600/1000000], D_step[148600/1000000], d_out_real: 0.1223, d_out_fake: 0.0006, g_loss_fake: 0.8568\r\n"
     ]
    },
    {
     "name": "stdout",
     "output_type": "stream",
     "text": [
      "Elapsed [11:12:07.510310], G_step [148610/1000000], D_step[148610/1000000], d_out_real: 0.1865, d_out_fake: 0.0902, g_loss_fake: 1.1565\r\n"
     ]
    },
    {
     "name": "stdout",
     "output_type": "stream",
     "text": [
      "Elapsed [11:12:18.085441], G_step [148620/1000000], D_step[148620/1000000], d_out_real: 0.0000, d_out_fake: 0.2033, g_loss_fake: 1.1181\r\n"
     ]
    },
    {
     "name": "stdout",
     "output_type": "stream",
     "text": [
      "Elapsed [11:12:29.274765], G_step [148630/1000000], D_step[148630/1000000], d_out_real: 0.0384, d_out_fake: 0.0000, g_loss_fake: 1.0331\r\n"
     ]
    },
    {
     "name": "stdout",
     "output_type": "stream",
     "text": [
      "Elapsed [11:12:40.581021], G_step [148640/1000000], D_step[148640/1000000], d_out_real: 0.0432, d_out_fake: 0.0036, g_loss_fake: 1.1163\r\n"
     ]
    },
    {
     "name": "stdout",
     "output_type": "stream",
     "text": [
      "Elapsed [11:12:51.205699], G_step [148650/1000000], D_step[148650/1000000], d_out_real: 0.0649, d_out_fake: 0.0014, g_loss_fake: 0.9859\r\n"
     ]
    },
    {
     "name": "stdout",
     "output_type": "stream",
     "text": [
      "Elapsed [11:13:02.298649], G_step [148660/1000000], D_step[148660/1000000], d_out_real: 0.1232, d_out_fake: 0.1707, g_loss_fake: 1.0934\r\n"
     ]
    },
    {
     "name": "stdout",
     "output_type": "stream",
     "text": [
      "Elapsed [11:13:12.904295], G_step [148670/1000000], D_step[148670/1000000], d_out_real: 0.0627, d_out_fake: 0.0602, g_loss_fake: 1.1110\r\n"
     ]
    },
    {
     "name": "stdout",
     "output_type": "stream",
     "text": [
      "Elapsed [11:13:23.595101], G_step [148680/1000000], D_step[148680/1000000], d_out_real: 0.0644, d_out_fake: 0.0483, g_loss_fake: 1.0954\r\n"
     ]
    },
    {
     "name": "stdout",
     "output_type": "stream",
     "text": [
      "Elapsed [11:13:36.594333], G_step [148690/1000000], D_step[148690/1000000], d_out_real: 0.0038, d_out_fake: 0.0000, g_loss_fake: 0.9948\r\n"
     ]
    },
    {
     "name": "stdout",
     "output_type": "stream",
     "text": [
      "Elapsed [11:13:47.291270], G_step [148700/1000000], D_step[148700/1000000], d_out_real: 0.0676, d_out_fake: 0.0000, g_loss_fake: 0.9225\r\n"
     ]
    },
    {
     "name": "stdout",
     "output_type": "stream",
     "text": [
      "Elapsed [11:13:58.501358], G_step [148710/1000000], D_step[148710/1000000], d_out_real: 0.0138, d_out_fake: 0.0000, g_loss_fake: 1.0221\r\n"
     ]
    },
    {
     "name": "stdout",
     "output_type": "stream",
     "text": [
      "Elapsed [11:14:09.990214], G_step [148720/1000000], D_step[148720/1000000], d_out_real: 0.1320, d_out_fake: 0.0600, g_loss_fake: 1.0427\r\n"
     ]
    },
    {
     "name": "stdout",
     "output_type": "stream",
     "text": [
      "Elapsed [11:14:20.696700], G_step [148730/1000000], D_step[148730/1000000], d_out_real: 0.2190, d_out_fake: 0.0000, g_loss_fake: 1.0285\r\n"
     ]
    },
    {
     "name": "stdout",
     "output_type": "stream",
     "text": [
      "Elapsed [11:14:32.442561], G_step [148740/1000000], D_step[148740/1000000], d_out_real: 0.1219, d_out_fake: 0.0000, g_loss_fake: 1.0652\r\n"
     ]
    },
    {
     "name": "stdout",
     "output_type": "stream",
     "text": [
      "Elapsed [11:14:43.806791], G_step [148750/1000000], D_step[148750/1000000], d_out_real: 0.2798, d_out_fake: 0.0008, g_loss_fake: 0.9413\r\n"
     ]
    },
    {
     "name": "stdout",
     "output_type": "stream",
     "text": [
      "Elapsed [11:14:54.661830], G_step [148760/1000000], D_step[148760/1000000], d_out_real: 0.0606, d_out_fake: 0.0678, g_loss_fake: 1.0184\r\n"
     ]
    },
    {
     "name": "stdout",
     "output_type": "stream",
     "text": [
      "Elapsed [11:15:06.256462], G_step [148770/1000000], D_step[148770/1000000], d_out_real: 0.1539, d_out_fake: 0.0076, g_loss_fake: 1.0476\r\n"
     ]
    },
    {
     "name": "stdout",
     "output_type": "stream",
     "text": [
      "Elapsed [11:15:17.968582], G_step [148780/1000000], D_step[148780/1000000], d_out_real: 0.0625, d_out_fake: 0.0728, g_loss_fake: 1.0834\r\n"
     ]
    },
    {
     "name": "stdout",
     "output_type": "stream",
     "text": [
      "Elapsed [11:15:29.160664], G_step [148790/1000000], D_step[148790/1000000], d_out_real: 0.0000, d_out_fake: 0.0000, g_loss_fake: 1.0576\r\n"
     ]
    },
    {
     "name": "stdout",
     "output_type": "stream",
     "text": [
      "Elapsed [11:15:40.501592], G_step [148800/1000000], D_step[148800/1000000], d_out_real: 0.0943, d_out_fake: 0.0005, g_loss_fake: 1.0728\r\n"
     ]
    },
    {
     "name": "stdout",
     "output_type": "stream",
     "text": [
      "Elapsed [11:15:51.562677], G_step [148810/1000000], D_step[148810/1000000], d_out_real: 0.0616, d_out_fake: 0.0000, g_loss_fake: 1.0987\r\n"
     ]
    },
    {
     "name": "stdout",
     "output_type": "stream",
     "text": [
      "Elapsed [11:16:02.248924], G_step [148820/1000000], D_step[148820/1000000], d_out_real: 0.0639, d_out_fake: 0.1086, g_loss_fake: 1.0539\r\n"
     ]
    },
    {
     "name": "stdout",
     "output_type": "stream",
     "text": [
      "Elapsed [11:16:12.935772], G_step [148830/1000000], D_step[148830/1000000], d_out_real: 0.0647, d_out_fake: 0.0605, g_loss_fake: 1.1140\r\n"
     ]
    },
    {
     "name": "stdout",
     "output_type": "stream",
     "text": [
      "Elapsed [11:16:23.789237], G_step [148840/1000000], D_step[148840/1000000], d_out_real: 0.0638, d_out_fake: 0.0004, g_loss_fake: 1.0665\r\n"
     ]
    },
    {
     "name": "stdout",
     "output_type": "stream",
     "text": [
      "Elapsed [11:16:35.658348], G_step [148850/1000000], D_step[148850/1000000], d_out_real: 0.0000, d_out_fake: 0.0062, g_loss_fake: 0.9841\r\n"
     ]
    },
    {
     "name": "stdout",
     "output_type": "stream",
     "text": [
      "Elapsed [11:16:46.217969], G_step [148860/1000000], D_step[148860/1000000], d_out_real: 0.0634, d_out_fake: 0.0533, g_loss_fake: 1.1138\r\n"
     ]
    },
    {
     "name": "stdout",
     "output_type": "stream",
     "text": [
      "Elapsed [11:16:57.842732], G_step [148870/1000000], D_step[148870/1000000], d_out_real: 0.0475, d_out_fake: 0.0637, g_loss_fake: 1.0585\r\n"
     ]
    },
    {
     "name": "stdout",
     "output_type": "stream",
     "text": [
      "Elapsed [11:17:08.874469], G_step [148880/1000000], D_step[148880/1000000], d_out_real: 0.1498, d_out_fake: 0.0256, g_loss_fake: 0.9260\r\n"
     ]
    },
    {
     "name": "stdout",
     "output_type": "stream",
     "text": [
      "Elapsed [11:17:19.652535], G_step [148890/1000000], D_step[148890/1000000], d_out_real: 0.0673, d_out_fake: 0.0000, g_loss_fake: 1.0087\r\n"
     ]
    },
    {
     "name": "stdout",
     "output_type": "stream",
     "text": [
      "Elapsed [11:17:30.458843], G_step [148900/1000000], D_step[148900/1000000], d_out_real: 0.0809, d_out_fake: 0.2550, g_loss_fake: 0.9473\r\n"
     ]
    },
    {
     "name": "stdout",
     "output_type": "stream",
     "text": [
      "Elapsed [11:17:41.295688], G_step [148910/1000000], D_step[148910/1000000], d_out_real: 0.0648, d_out_fake: 0.0644, g_loss_fake: 1.0237\r\n"
     ]
    },
    {
     "name": "stdout",
     "output_type": "stream",
     "text": [
      "Elapsed [11:17:52.515771], G_step [148920/1000000], D_step[148920/1000000], d_out_real: 0.0574, d_out_fake: 0.1325, g_loss_fake: 1.1144\r\n"
     ]
    },
    {
     "name": "stdout",
     "output_type": "stream",
     "text": [
      "Elapsed [11:18:03.991603], G_step [148930/1000000], D_step[148930/1000000], d_out_real: 0.0000, d_out_fake: 0.0013, g_loss_fake: 1.0597\r\n"
     ]
    },
    {
     "name": "stdout",
     "output_type": "stream",
     "text": [
      "Elapsed [11:18:14.844323], G_step [148940/1000000], D_step[148940/1000000], d_out_real: 0.1184, d_out_fake: 0.0000, g_loss_fake: 1.1302\r\n"
     ]
    },
    {
     "name": "stdout",
     "output_type": "stream",
     "text": [
      "Elapsed [11:18:26.374546], G_step [148950/1000000], D_step[148950/1000000], d_out_real: 0.0649, d_out_fake: 0.1224, g_loss_fake: 1.1029\r\n"
     ]
    },
    {
     "name": "stdout",
     "output_type": "stream",
     "text": [
      "Elapsed [11:18:37.146486], G_step [148960/1000000], D_step[148960/1000000], d_out_real: 0.1813, d_out_fake: 0.0148, g_loss_fake: 0.9935\r\n"
     ]
    },
    {
     "name": "stdout",
     "output_type": "stream",
     "text": [
      "Elapsed [11:18:48.247423], G_step [148970/1000000], D_step[148970/1000000], d_out_real: 0.0000, d_out_fake: 0.0000, g_loss_fake: 0.9361\r\n"
     ]
    },
    {
     "name": "stdout",
     "output_type": "stream",
     "text": [
      "Elapsed [11:18:59.312009], G_step [148980/1000000], D_step[148980/1000000], d_out_real: 0.1280, d_out_fake: 0.0009, g_loss_fake: 1.0508\r\n"
     ]
    },
    {
     "name": "stdout",
     "output_type": "stream",
     "text": [
      "Elapsed [11:19:10.903525], G_step [148990/1000000], D_step[148990/1000000], d_out_real: 0.4210, d_out_fake: 0.0310, g_loss_fake: 0.9695\r\n"
     ]
    },
    {
     "name": "stdout",
     "output_type": "stream",
     "text": [
      "Elapsed [11:19:21.905461], G_step [149000/1000000], D_step[149000/1000000], d_out_real: 0.1954, d_out_fake: 0.0000, g_loss_fake: 1.0233\r\n",
      "Sample images 149000_fake.png\r\n"
     ]
    },
    {
     "name": "stdout",
     "output_type": "stream",
     "text": [
      "Elapsed [11:19:33.776018], G_step [149010/1000000], D_step[149010/1000000], d_out_real: 0.0872, d_out_fake: 0.0398, g_loss_fake: 1.1533\r\n"
     ]
    },
    {
     "name": "stdout",
     "output_type": "stream",
     "text": [
      "Elapsed [11:19:45.088745], G_step [149020/1000000], D_step[149020/1000000], d_out_real: 0.0762, d_out_fake: 0.1113, g_loss_fake: 1.1148\r\n"
     ]
    },
    {
     "name": "stdout",
     "output_type": "stream",
     "text": [
      "Elapsed [11:19:55.700719], G_step [149030/1000000], D_step[149030/1000000], d_out_real: 0.0005, d_out_fake: 0.0000, g_loss_fake: 1.1070\r\n"
     ]
    },
    {
     "name": "stdout",
     "output_type": "stream",
     "text": [
      "Elapsed [11:20:06.282323], G_step [149040/1000000], D_step[149040/1000000], d_out_real: 0.0661, d_out_fake: 0.0787, g_loss_fake: 1.1301\r\n"
     ]
    },
    {
     "name": "stdout",
     "output_type": "stream",
     "text": [
      "Elapsed [11:20:17.885476], G_step [149050/1000000], D_step[149050/1000000], d_out_real: 0.0000, d_out_fake: 0.4932, g_loss_fake: 1.1611\r\n"
     ]
    },
    {
     "name": "stdout",
     "output_type": "stream",
     "text": [
      "Elapsed [11:20:28.475136], G_step [149060/1000000], D_step[149060/1000000], d_out_real: 0.0991, d_out_fake: 0.0000, g_loss_fake: 1.1123\r\n"
     ]
    },
    {
     "name": "stdout",
     "output_type": "stream",
     "text": [
      "Elapsed [11:20:39.550787], G_step [149070/1000000], D_step[149070/1000000], d_out_real: 0.0149, d_out_fake: 0.0000, g_loss_fake: 1.0252\r\n"
     ]
    },
    {
     "name": "stdout",
     "output_type": "stream",
     "text": [
      "Elapsed [11:20:50.522598], G_step [149080/1000000], D_step[149080/1000000], d_out_real: 0.0018, d_out_fake: 0.0834, g_loss_fake: 1.1575\r\n"
     ]
    },
    {
     "name": "stdout",
     "output_type": "stream",
     "text": [
      "Elapsed [11:21:01.625343], G_step [149090/1000000], D_step[149090/1000000], d_out_real: 0.0000, d_out_fake: 0.0949, g_loss_fake: 1.1351\r\n"
     ]
    },
    {
     "name": "stdout",
     "output_type": "stream",
     "text": [
      "Elapsed [11:21:13.276142], G_step [149100/1000000], D_step[149100/1000000], d_out_real: 0.1279, d_out_fake: 0.1558, g_loss_fake: 0.9550\r\n"
     ]
    },
    {
     "name": "stdout",
     "output_type": "stream",
     "text": [
      "Elapsed [11:21:24.648692], G_step [149110/1000000], D_step[149110/1000000], d_out_real: 0.0636, d_out_fake: 0.0000, g_loss_fake: 1.0568\r\n"
     ]
    },
    {
     "name": "stdout",
     "output_type": "stream",
     "text": [
      "Elapsed [11:21:35.659216], G_step [149120/1000000], D_step[149120/1000000], d_out_real: 0.0634, d_out_fake: 0.0001, g_loss_fake: 1.0231\r\n"
     ]
    },
    {
     "name": "stdout",
     "output_type": "stream",
     "text": [
      "Elapsed [11:21:46.437171], G_step [149130/1000000], D_step[149130/1000000], d_out_real: 0.0632, d_out_fake: 0.2724, g_loss_fake: 1.1335\r\n"
     ]
    },
    {
     "name": "stdout",
     "output_type": "stream",
     "text": [
      "Elapsed [11:21:57.759189], G_step [149140/1000000], D_step[149140/1000000], d_out_real: 0.1819, d_out_fake: 0.0394, g_loss_fake: 1.0729\r\n"
     ]
    },
    {
     "name": "stdout",
     "output_type": "stream",
     "text": [
      "Elapsed [11:22:08.589789], G_step [149150/1000000], D_step[149150/1000000], d_out_real: 0.1900, d_out_fake: 0.0000, g_loss_fake: 1.1194\r\n"
     ]
    },
    {
     "name": "stdout",
     "output_type": "stream",
     "text": [
      "Elapsed [11:22:19.136855], G_step [149160/1000000], D_step[149160/1000000], d_out_real: 0.1855, d_out_fake: 0.0000, g_loss_fake: 1.0918\r\n"
     ]
    },
    {
     "name": "stdout",
     "output_type": "stream",
     "text": [
      "Elapsed [11:22:29.970212], G_step [149170/1000000], D_step[149170/1000000], d_out_real: 0.1225, d_out_fake: 0.0686, g_loss_fake: 1.0608\r\n"
     ]
    },
    {
     "name": "stdout",
     "output_type": "stream",
     "text": [
      "Elapsed [11:22:41.471702], G_step [149180/1000000], D_step[149180/1000000], d_out_real: 0.1117, d_out_fake: 0.0009, g_loss_fake: 1.0644\r\n"
     ]
    },
    {
     "name": "stdout",
     "output_type": "stream",
     "text": [
      "Elapsed [11:22:52.368351], G_step [149190/1000000], D_step[149190/1000000], d_out_real: 0.0666, d_out_fake: 0.0000, g_loss_fake: 1.0068\r\n"
     ]
    },
    {
     "name": "stdout",
     "output_type": "stream",
     "text": [
      "Elapsed [11:23:03.272947], G_step [149200/1000000], D_step[149200/1000000], d_out_real: 0.0004, d_out_fake: 0.0001, g_loss_fake: 1.1035\r\n"
     ]
    },
    {
     "name": "stdout",
     "output_type": "stream",
     "text": [
      "Elapsed [11:23:14.520450], G_step [149210/1000000], D_step[149210/1000000], d_out_real: 0.0668, d_out_fake: 0.0000, g_loss_fake: 1.0532\r\n"
     ]
    },
    {
     "name": "stdout",
     "output_type": "stream",
     "text": [
      "Elapsed [11:23:25.912510], G_step [149220/1000000], D_step[149220/1000000], d_out_real: 0.0000, d_out_fake: 0.0113, g_loss_fake: 1.1175\r\n"
     ]
    },
    {
     "name": "stdout",
     "output_type": "stream",
     "text": [
      "Elapsed [11:23:36.727397], G_step [149230/1000000], D_step[149230/1000000], d_out_real: 0.0030, d_out_fake: 0.2161, g_loss_fake: 1.1064\r\n"
     ]
    },
    {
     "name": "stdout",
     "output_type": "stream",
     "text": [
      "Elapsed [11:23:47.576467], G_step [149240/1000000], D_step[149240/1000000], d_out_real: 0.0651, d_out_fake: 0.0669, g_loss_fake: 1.0892\r\n"
     ]
    },
    {
     "name": "stdout",
     "output_type": "stream",
     "text": [
      "Elapsed [11:23:58.284943], G_step [149250/1000000], D_step[149250/1000000], d_out_real: 0.0000, d_out_fake: 0.0159, g_loss_fake: 1.1382\r\n"
     ]
    },
    {
     "name": "stdout",
     "output_type": "stream",
     "text": [
      "Elapsed [11:24:10.093169], G_step [149260/1000000], D_step[149260/1000000], d_out_real: 0.0544, d_out_fake: 0.0197, g_loss_fake: 1.0009\r\n"
     ]
    },
    {
     "name": "stdout",
     "output_type": "stream",
     "text": [
      "Elapsed [11:24:20.749313], G_step [149270/1000000], D_step[149270/1000000], d_out_real: 0.3222, d_out_fake: 0.0031, g_loss_fake: 1.0562\r\n"
     ]
    },
    {
     "name": "stdout",
     "output_type": "stream",
     "text": [
      "Elapsed [11:24:32.080556], G_step [149280/1000000], D_step[149280/1000000], d_out_real: 0.3349, d_out_fake: 0.0062, g_loss_fake: 1.1212\r\n"
     ]
    },
    {
     "name": "stdout",
     "output_type": "stream",
     "text": [
      "Elapsed [11:24:43.211470], G_step [149290/1000000], D_step[149290/1000000], d_out_real: 0.1145, d_out_fake: 0.0602, g_loss_fake: 1.0770\r\n"
     ]
    },
    {
     "name": "stdout",
     "output_type": "stream",
     "text": [
      "Elapsed [11:24:53.935951], G_step [149300/1000000], D_step[149300/1000000], d_out_real: 0.1489, d_out_fake: 0.0000, g_loss_fake: 0.7835\r\n"
     ]
    },
    {
     "name": "stdout",
     "output_type": "stream",
     "text": [
      "Elapsed [11:25:04.847881], G_step [149310/1000000], D_step[149310/1000000], d_out_real: 0.2297, d_out_fake: 0.0001, g_loss_fake: 1.0046\r\n"
     ]
    },
    {
     "name": "stdout",
     "output_type": "stream",
     "text": [
      "Elapsed [11:25:15.581585], G_step [149320/1000000], D_step[149320/1000000], d_out_real: 0.1111, d_out_fake: 0.1368, g_loss_fake: 1.0816\r\n"
     ]
    },
    {
     "name": "stdout",
     "output_type": "stream",
     "text": [
      "Elapsed [11:25:26.468010], G_step [149330/1000000], D_step[149330/1000000], d_out_real: 0.0000, d_out_fake: 0.0000, g_loss_fake: 1.0519\r\n"
     ]
    },
    {
     "name": "stdout",
     "output_type": "stream",
     "text": [
      "Elapsed [11:25:37.362521], G_step [149340/1000000], D_step[149340/1000000], d_out_real: 0.1350, d_out_fake: 0.0021, g_loss_fake: 1.0968\r\n"
     ]
    },
    {
     "name": "stdout",
     "output_type": "stream",
     "text": [
      "Elapsed [11:25:47.980858], G_step [149350/1000000], D_step[149350/1000000], d_out_real: 0.0634, d_out_fake: 0.0000, g_loss_fake: 1.0800\r\n"
     ]
    },
    {
     "name": "stdout",
     "output_type": "stream",
     "text": [
      "Elapsed [11:25:58.622317], G_step [149360/1000000], D_step[149360/1000000], d_out_real: 0.0298, d_out_fake: 0.0000, g_loss_fake: 1.0926\r\n"
     ]
    },
    {
     "name": "stdout",
     "output_type": "stream",
     "text": [
      "Elapsed [11:26:09.757277], G_step [149370/1000000], D_step[149370/1000000], d_out_real: 0.0878, d_out_fake: 0.0322, g_loss_fake: 1.0729\r\n"
     ]
    },
    {
     "name": "stdout",
     "output_type": "stream",
     "text": [
      "Elapsed [11:26:21.291251], G_step [149380/1000000], D_step[149380/1000000], d_out_real: 0.0618, d_out_fake: 0.0090, g_loss_fake: 1.0605\r\n"
     ]
    },
    {
     "name": "stdout",
     "output_type": "stream",
     "text": [
      "Elapsed [11:26:32.103226], G_step [149390/1000000], D_step[149390/1000000], d_out_real: 0.0638, d_out_fake: 0.0000, g_loss_fake: 0.9979\r\n"
     ]
    },
    {
     "name": "stdout",
     "output_type": "stream",
     "text": [
      "Elapsed [11:26:43.107148], G_step [149400/1000000], D_step[149400/1000000], d_out_real: 0.0010, d_out_fake: 0.0083, g_loss_fake: 1.1399\r\n"
     ]
    },
    {
     "name": "stdout",
     "output_type": "stream",
     "text": [
      "Elapsed [11:26:53.786520], G_step [149410/1000000], D_step[149410/1000000], d_out_real: 0.1552, d_out_fake: 0.0007, g_loss_fake: 0.9308\r\n"
     ]
    },
    {
     "name": "stdout",
     "output_type": "stream",
     "text": [
      "Elapsed [11:27:04.695088], G_step [149420/1000000], D_step[149420/1000000], d_out_real: 0.1335, d_out_fake: 0.0000, g_loss_fake: 1.0104\r\n"
     ]
    },
    {
     "name": "stdout",
     "output_type": "stream",
     "text": [
      "Elapsed [11:27:15.680002], G_step [149430/1000000], D_step[149430/1000000], d_out_real: 0.1245, d_out_fake: 0.0000, g_loss_fake: 1.0459\r\n"
     ]
    },
    {
     "name": "stdout",
     "output_type": "stream",
     "text": [
      "Elapsed [11:27:27.169332], G_step [149440/1000000], D_step[149440/1000000], d_out_real: 0.0007, d_out_fake: 0.0015, g_loss_fake: 1.1323\r\n"
     ]
    },
    {
     "name": "stdout",
     "output_type": "stream",
     "text": [
      "Elapsed [11:27:37.864843], G_step [149450/1000000], D_step[149450/1000000], d_out_real: 0.0652, d_out_fake: 0.0032, g_loss_fake: 1.1556\r\n"
     ]
    },
    {
     "name": "stdout",
     "output_type": "stream",
     "text": [
      "Elapsed [11:27:48.893835], G_step [149460/1000000], D_step[149460/1000000], d_out_real: 0.0548, d_out_fake: 0.0692, g_loss_fake: 1.1198\r\n"
     ]
    },
    {
     "name": "stdout",
     "output_type": "stream",
     "text": [
      "Elapsed [11:28:00.098972], G_step [149470/1000000], D_step[149470/1000000], d_out_real: 0.0695, d_out_fake: 0.0000, g_loss_fake: 1.0735\r\n"
     ]
    },
    {
     "name": "stdout",
     "output_type": "stream",
     "text": [
      "Elapsed [11:28:11.276030], G_step [149480/1000000], D_step[149480/1000000], d_out_real: 0.0000, d_out_fake: 0.0000, g_loss_fake: 1.0574\r\n"
     ]
    },
    {
     "name": "stdout",
     "output_type": "stream",
     "text": [
      "Elapsed [11:28:22.193993], G_step [149490/1000000], D_step[149490/1000000], d_out_real: 0.0638, d_out_fake: 0.0006, g_loss_fake: 1.0821\r\n"
     ]
    },
    {
     "name": "stdout",
     "output_type": "stream",
     "text": [
      "Elapsed [11:28:33.589113], G_step [149500/1000000], D_step[149500/1000000], d_out_real: 0.0000, d_out_fake: 0.0000, g_loss_fake: 1.1182\r\n"
     ]
    },
    {
     "name": "stdout",
     "output_type": "stream",
     "text": [
      "Elapsed [11:28:44.467169], G_step [149510/1000000], D_step[149510/1000000], d_out_real: 0.0000, d_out_fake: 0.0776, g_loss_fake: 1.1574\r\n"
     ]
    },
    {
     "name": "stdout",
     "output_type": "stream",
     "text": [
      "Elapsed [11:28:54.959580], G_step [149520/1000000], D_step[149520/1000000], d_out_real: 0.0782, d_out_fake: 0.0015, g_loss_fake: 0.9667\r\n"
     ]
    },
    {
     "name": "stdout",
     "output_type": "stream",
     "text": [
      "Elapsed [11:29:06.514919], G_step [149530/1000000], D_step[149530/1000000], d_out_real: 0.1757, d_out_fake: 0.0026, g_loss_fake: 1.0659\r\n"
     ]
    },
    {
     "name": "stdout",
     "output_type": "stream",
     "text": [
      "Elapsed [11:29:17.741861], G_step [149540/1000000], D_step[149540/1000000], d_out_real: 0.0919, d_out_fake: 0.0000, g_loss_fake: 1.0245\r\n"
     ]
    },
    {
     "name": "stdout",
     "output_type": "stream",
     "text": [
      "Elapsed [11:29:29.565817], G_step [149550/1000000], D_step[149550/1000000], d_out_real: 0.0000, d_out_fake: 0.0025, g_loss_fake: 1.0289\r\n"
     ]
    },
    {
     "name": "stdout",
     "output_type": "stream",
     "text": [
      "Elapsed [11:29:40.539041], G_step [149560/1000000], D_step[149560/1000000], d_out_real: 0.0000, d_out_fake: 0.0000, g_loss_fake: 1.0853\r\n"
     ]
    },
    {
     "name": "stdout",
     "output_type": "stream",
     "text": [
      "Elapsed [11:29:52.310522], G_step [149570/1000000], D_step[149570/1000000], d_out_real: 0.1344, d_out_fake: 0.0582, g_loss_fake: 1.1326\r\n"
     ]
    },
    {
     "name": "stdout",
     "output_type": "stream",
     "text": [
      "Elapsed [11:30:03.002097], G_step [149580/1000000], D_step[149580/1000000], d_out_real: 0.1942, d_out_fake: 0.0175, g_loss_fake: 1.0306\r\n"
     ]
    },
    {
     "name": "stdout",
     "output_type": "stream",
     "text": [
      "Elapsed [11:30:14.000479], G_step [149590/1000000], D_step[149590/1000000], d_out_real: 0.0027, d_out_fake: 0.0003, g_loss_fake: 1.0716\r\n"
     ]
    },
    {
     "name": "stdout",
     "output_type": "stream",
     "text": [
      "Elapsed [11:30:25.177021], G_step [149600/1000000], D_step[149600/1000000], d_out_real: 0.1184, d_out_fake: 0.0000, g_loss_fake: 1.0731\r\n"
     ]
    },
    {
     "name": "stdout",
     "output_type": "stream",
     "text": [
      "Elapsed [11:30:35.958583], G_step [149610/1000000], D_step[149610/1000000], d_out_real: 0.1259, d_out_fake: 0.0004, g_loss_fake: 0.9083\r\n"
     ]
    },
    {
     "name": "stdout",
     "output_type": "stream",
     "text": [
      "Elapsed [11:30:46.971187], G_step [149620/1000000], D_step[149620/1000000], d_out_real: 0.0639, d_out_fake: 0.1400, g_loss_fake: 1.1556\r\n"
     ]
    },
    {
     "name": "stdout",
     "output_type": "stream",
     "text": [
      "Elapsed [11:30:57.915827], G_step [149630/1000000], D_step[149630/1000000], d_out_real: 0.0000, d_out_fake: 0.0340, g_loss_fake: 1.0642\r\n"
     ]
    },
    {
     "name": "stdout",
     "output_type": "stream",
     "text": [
      "Elapsed [11:31:08.984727], G_step [149640/1000000], D_step[149640/1000000], d_out_real: 0.1770, d_out_fake: 0.0000, g_loss_fake: 1.0346\r\n"
     ]
    },
    {
     "name": "stdout",
     "output_type": "stream",
     "text": [
      "Elapsed [11:31:20.090116], G_step [149650/1000000], D_step[149650/1000000], d_out_real: 0.0154, d_out_fake: 0.0103, g_loss_fake: 1.1003\r\n"
     ]
    },
    {
     "name": "stdout",
     "output_type": "stream",
     "text": [
      "Elapsed [11:31:30.965340], G_step [149660/1000000], D_step[149660/1000000], d_out_real: 0.1003, d_out_fake: 0.0048, g_loss_fake: 1.0302\r\n"
     ]
    },
    {
     "name": "stdout",
     "output_type": "stream",
     "text": [
      "Elapsed [11:31:41.641806], G_step [149670/1000000], D_step[149670/1000000], d_out_real: 0.0036, d_out_fake: 0.0000, g_loss_fake: 1.1123\r\n"
     ]
    },
    {
     "name": "stdout",
     "output_type": "stream",
     "text": [
      "Elapsed [11:31:52.825468], G_step [149680/1000000], D_step[149680/1000000], d_out_real: 0.0039, d_out_fake: 0.0000, g_loss_fake: 1.1424\r\n"
     ]
    },
    {
     "name": "stdout",
     "output_type": "stream",
     "text": [
      "Elapsed [11:32:04.258615], G_step [149690/1000000], D_step[149690/1000000], d_out_real: 0.0524, d_out_fake: 0.0007, g_loss_fake: 0.9901\r\n"
     ]
    },
    {
     "name": "stdout",
     "output_type": "stream",
     "text": [
      "Elapsed [11:32:15.477335], G_step [149700/1000000], D_step[149700/1000000], d_out_real: 0.0000, d_out_fake: 0.0235, g_loss_fake: 1.1868\r\n"
     ]
    },
    {
     "name": "stdout",
     "output_type": "stream",
     "text": [
      "Elapsed [11:32:28.339860], G_step [149710/1000000], D_step[149710/1000000], d_out_real: 0.1023, d_out_fake: 0.0000, g_loss_fake: 1.1381\r\n"
     ]
    },
    {
     "name": "stdout",
     "output_type": "stream",
     "text": [
      "Elapsed [11:32:39.801938], G_step [149720/1000000], D_step[149720/1000000], d_out_real: 0.1246, d_out_fake: 0.0986, g_loss_fake: 1.0512\r\n"
     ]
    },
    {
     "name": "stdout",
     "output_type": "stream",
     "text": [
      "Elapsed [11:32:50.917630], G_step [149730/1000000], D_step[149730/1000000], d_out_real: 0.0919, d_out_fake: 0.0888, g_loss_fake: 1.0746\r\n"
     ]
    },
    {
     "name": "stdout",
     "output_type": "stream",
     "text": [
      "Elapsed [11:33:02.227735], G_step [149740/1000000], D_step[149740/1000000], d_out_real: 0.1905, d_out_fake: 0.0000, g_loss_fake: 1.0136\r\n"
     ]
    },
    {
     "name": "stdout",
     "output_type": "stream",
     "text": [
      "Elapsed [11:33:12.991902], G_step [149750/1000000], D_step[149750/1000000], d_out_real: 0.0035, d_out_fake: 0.0083, g_loss_fake: 1.0784\r\n"
     ]
    },
    {
     "name": "stdout",
     "output_type": "stream",
     "text": [
      "Elapsed [11:33:23.821585], G_step [149760/1000000], D_step[149760/1000000], d_out_real: 0.0631, d_out_fake: 0.0021, g_loss_fake: 0.9557\r\n"
     ]
    },
    {
     "name": "stdout",
     "output_type": "stream",
     "text": [
      "Elapsed [11:33:34.741606], G_step [149770/1000000], D_step[149770/1000000], d_out_real: 0.0658, d_out_fake: 0.0000, g_loss_fake: 1.1277\r\n"
     ]
    },
    {
     "name": "stdout",
     "output_type": "stream",
     "text": [
      "Elapsed [11:33:45.560794], G_step [149780/1000000], D_step[149780/1000000], d_out_real: 0.0629, d_out_fake: 0.0188, g_loss_fake: 1.1033\r\n"
     ]
    },
    {
     "name": "stdout",
     "output_type": "stream",
     "text": [
      "Elapsed [11:33:56.451708], G_step [149790/1000000], D_step[149790/1000000], d_out_real: 0.0000, d_out_fake: 0.0014, g_loss_fake: 1.0518\r\n"
     ]
    },
    {
     "name": "stdout",
     "output_type": "stream",
     "text": [
      "Elapsed [11:34:07.557017], G_step [149800/1000000], D_step[149800/1000000], d_out_real: 0.0634, d_out_fake: 0.0000, g_loss_fake: 1.0141\r\n"
     ]
    },
    {
     "name": "stdout",
     "output_type": "stream",
     "text": [
      "Elapsed [11:34:18.282060], G_step [149810/1000000], D_step[149810/1000000], d_out_real: 0.0635, d_out_fake: 0.0000, g_loss_fake: 0.9828\r\n"
     ]
    },
    {
     "name": "stdout",
     "output_type": "stream",
     "text": [
      "Elapsed [11:34:29.072682], G_step [149820/1000000], D_step[149820/1000000], d_out_real: 0.0012, d_out_fake: 0.0000, g_loss_fake: 1.0508\r\n"
     ]
    },
    {
     "name": "stdout",
     "output_type": "stream",
     "text": [
      "Elapsed [11:34:39.972709], G_step [149830/1000000], D_step[149830/1000000], d_out_real: 0.0659, d_out_fake: 0.0000, g_loss_fake: 1.0616\r\n"
     ]
    },
    {
     "name": "stdout",
     "output_type": "stream",
     "text": [
      "Elapsed [11:34:50.899677], G_step [149840/1000000], D_step[149840/1000000], d_out_real: 0.0609, d_out_fake: 0.1687, g_loss_fake: 1.0851\r\n"
     ]
    },
    {
     "name": "stdout",
     "output_type": "stream",
     "text": [
      "Elapsed [11:35:02.231869], G_step [149850/1000000], D_step[149850/1000000], d_out_real: 0.0000, d_out_fake: 0.0084, g_loss_fake: 1.0750\r\n"
     ]
    },
    {
     "name": "stdout",
     "output_type": "stream",
     "text": [
      "Elapsed [11:35:13.009164], G_step [149860/1000000], D_step[149860/1000000], d_out_real: 0.1452, d_out_fake: 0.0011, g_loss_fake: 0.9279\r\n"
     ]
    },
    {
     "name": "stdout",
     "output_type": "stream",
     "text": [
      "Elapsed [11:35:23.663467], G_step [149870/1000000], D_step[149870/1000000], d_out_real: 0.0000, d_out_fake: 0.1038, g_loss_fake: 1.0576\r\n"
     ]
    },
    {
     "name": "stdout",
     "output_type": "stream",
     "text": [
      "Elapsed [11:35:34.928732], G_step [149880/1000000], D_step[149880/1000000], d_out_real: 0.0000, d_out_fake: 0.0716, g_loss_fake: 0.9629\r\n"
     ]
    },
    {
     "name": "stdout",
     "output_type": "stream",
     "text": [
      "Elapsed [11:35:45.560945], G_step [149890/1000000], D_step[149890/1000000], d_out_real: 0.0219, d_out_fake: 0.0084, g_loss_fake: 1.1500\r\n"
     ]
    },
    {
     "name": "stdout",
     "output_type": "stream",
     "text": [
      "Elapsed [11:35:58.036256], G_step [149900/1000000], D_step[149900/1000000], d_out_real: 0.0688, d_out_fake: 0.0096, g_loss_fake: 1.0785\r\n"
     ]
    },
    {
     "name": "stdout",
     "output_type": "stream",
     "text": [
      "Elapsed [11:36:08.663769], G_step [149910/1000000], D_step[149910/1000000], d_out_real: 0.2085, d_out_fake: 0.0000, g_loss_fake: 1.1105\r\n"
     ]
    },
    {
     "name": "stdout",
     "output_type": "stream",
     "text": [
      "Elapsed [11:36:19.693025], G_step [149920/1000000], D_step[149920/1000000], d_out_real: 0.0648, d_out_fake: 0.0631, g_loss_fake: 1.1164\r\n"
     ]
    },
    {
     "name": "stdout",
     "output_type": "stream",
     "text": [
      "Elapsed [11:36:30.448961], G_step [149930/1000000], D_step[149930/1000000], d_out_real: 0.0357, d_out_fake: 0.0604, g_loss_fake: 0.8967\r\n"
     ]
    },
    {
     "name": "stdout",
     "output_type": "stream",
     "text": [
      "Elapsed [11:36:41.377158], G_step [149940/1000000], D_step[149940/1000000], d_out_real: 0.0406, d_out_fake: 0.0000, g_loss_fake: 1.0282\r\n"
     ]
    },
    {
     "name": "stdout",
     "output_type": "stream",
     "text": [
      "Elapsed [11:36:53.589048], G_step [149950/1000000], D_step[149950/1000000], d_out_real: 0.0131, d_out_fake: 0.0000, g_loss_fake: 1.0278\r\n"
     ]
    },
    {
     "name": "stdout",
     "output_type": "stream",
     "text": [
      "save torch\r\n"
     ]
    },
    {
     "name": "stdout",
     "output_type": "stream",
     "text": [
      "Elapsed [11:37:05.035027], G_step [149960/1000000], D_step[149960/1000000], d_out_real: 0.0843, d_out_fake: 0.0010, g_loss_fake: 1.0710\r\n"
     ]
    },
    {
     "name": "stdout",
     "output_type": "stream",
     "text": [
      "Elapsed [11:37:16.366937], G_step [149970/1000000], D_step[149970/1000000], d_out_real: 0.0087, d_out_fake: 0.0294, g_loss_fake: 1.1169\r\n"
     ]
    },
    {
     "name": "stdout",
     "output_type": "stream",
     "text": [
      "Elapsed [11:37:27.559208], G_step [149980/1000000], D_step[149980/1000000], d_out_real: 0.0422, d_out_fake: 0.0702, g_loss_fake: 1.0267\r\n"
     ]
    },
    {
     "name": "stdout",
     "output_type": "stream",
     "text": [
      "Elapsed [11:37:38.199178], G_step [149990/1000000], D_step[149990/1000000], d_out_real: 0.0000, d_out_fake: 0.0000, g_loss_fake: 1.1227\r\n"
     ]
    },
    {
     "name": "stdout",
     "output_type": "stream",
     "text": [
      "Elapsed [11:37:49.324403], G_step [150000/1000000], D_step[150000/1000000], d_out_real: 0.0000, d_out_fake: 0.0541, g_loss_fake: 1.1098\r\n",
      "Sample images 150000_fake.png\r\n"
     ]
    },
    {
     "name": "stdout",
     "output_type": "stream",
     "text": [
      "Elapsed [11:38:00.583829], G_step [150010/1000000], D_step[150010/1000000], d_out_real: 0.0000, d_out_fake: 0.0769, g_loss_fake: 1.1099\r\n"
     ]
    },
    {
     "name": "stdout",
     "output_type": "stream",
     "text": [
      "Elapsed [11:38:11.839509], G_step [150020/1000000], D_step[150020/1000000], d_out_real: 0.0000, d_out_fake: 0.1334, g_loss_fake: 1.1562\r\n"
     ]
    },
    {
     "name": "stdout",
     "output_type": "stream",
     "text": [
      "Elapsed [11:38:22.888583], G_step [150030/1000000], D_step[150030/1000000], d_out_real: 0.0048, d_out_fake: 0.0000, g_loss_fake: 1.1221\r\n"
     ]
    },
    {
     "name": "stdout",
     "output_type": "stream",
     "text": [
      "Elapsed [11:38:33.873725], G_step [150040/1000000], D_step[150040/1000000], d_out_real: 0.0643, d_out_fake: 0.0615, g_loss_fake: 1.1307\r\n"
     ]
    },
    {
     "name": "stdout",
     "output_type": "stream",
     "text": [
      "Elapsed [11:38:45.217293], G_step [150050/1000000], D_step[150050/1000000], d_out_real: 0.1249, d_out_fake: 0.0251, g_loss_fake: 1.1046\r\n"
     ]
    },
    {
     "name": "stdout",
     "output_type": "stream",
     "text": [
      "Elapsed [11:38:56.853682], G_step [150060/1000000], D_step[150060/1000000], d_out_real: 0.0000, d_out_fake: 0.0014, g_loss_fake: 1.0037\r\n"
     ]
    },
    {
     "name": "stdout",
     "output_type": "stream",
     "text": [
      "Elapsed [11:39:07.578865], G_step [150070/1000000], D_step[150070/1000000], d_out_real: 0.1291, d_out_fake: 0.0000, g_loss_fake: 1.0742\r\n"
     ]
    },
    {
     "name": "stdout",
     "output_type": "stream",
     "text": [
      "Elapsed [11:39:19.137622], G_step [150080/1000000], D_step[150080/1000000], d_out_real: 0.0688, d_out_fake: 0.0000, g_loss_fake: 1.0228\r\n"
     ]
    },
    {
     "name": "stdout",
     "output_type": "stream",
     "text": [
      "Elapsed [11:39:29.950344], G_step [150090/1000000], D_step[150090/1000000], d_out_real: 0.0000, d_out_fake: 0.0776, g_loss_fake: 1.1662\r\n"
     ]
    },
    {
     "name": "stdout",
     "output_type": "stream",
     "text": [
      "Elapsed [11:39:41.400176], G_step [150100/1000000], D_step[150100/1000000], d_out_real: 0.0000, d_out_fake: 0.0620, g_loss_fake: 1.0644\r\n"
     ]
    },
    {
     "name": "stdout",
     "output_type": "stream",
     "text": [
      "Elapsed [11:39:52.181509], G_step [150110/1000000], D_step[150110/1000000], d_out_real: 0.1270, d_out_fake: 0.0000, g_loss_fake: 1.0628\r\n"
     ]
    },
    {
     "name": "stdout",
     "output_type": "stream",
     "text": [
      "Elapsed [11:40:03.101171], G_step [150120/1000000], D_step[150120/1000000], d_out_real: 0.0643, d_out_fake: 0.0728, g_loss_fake: 1.0873\r\n"
     ]
    },
    {
     "name": "stdout",
     "output_type": "stream",
     "text": [
      "Elapsed [11:40:14.400279], G_step [150130/1000000], D_step[150130/1000000], d_out_real: 0.0000, d_out_fake: 0.0015, g_loss_fake: 1.0545\r\n"
     ]
    },
    {
     "name": "stdout",
     "output_type": "stream",
     "text": [
      "Elapsed [11:40:25.636913], G_step [150140/1000000], D_step[150140/1000000], d_out_real: 0.0000, d_out_fake: 0.2010, g_loss_fake: 1.0691\r\n"
     ]
    },
    {
     "name": "stdout",
     "output_type": "stream",
     "text": [
      "Elapsed [11:40:36.285453], G_step [150150/1000000], D_step[150150/1000000], d_out_real: 0.0656, d_out_fake: 0.0946, g_loss_fake: 1.1355\r\n"
     ]
    },
    {
     "name": "stdout",
     "output_type": "stream",
     "text": [
      "Elapsed [11:40:47.449088], G_step [150160/1000000], D_step[150160/1000000], d_out_real: 0.0467, d_out_fake: 0.0612, g_loss_fake: 1.0409\r\n"
     ]
    },
    {
     "name": "stdout",
     "output_type": "stream",
     "text": [
      "Elapsed [11:40:58.342041], G_step [150170/1000000], D_step[150170/1000000], d_out_real: 0.1508, d_out_fake: 0.0582, g_loss_fake: 1.0143\r\n"
     ]
    },
    {
     "name": "stdout",
     "output_type": "stream",
     "text": [
      "Elapsed [11:41:09.266423], G_step [150180/1000000], D_step[150180/1000000], d_out_real: 0.0000, d_out_fake: 0.0622, g_loss_fake: 0.9324\r\n"
     ]
    },
    {
     "name": "stdout",
     "output_type": "stream",
     "text": [
      "Elapsed [11:41:20.101038], G_step [150190/1000000], D_step[150190/1000000], d_out_real: 0.0008, d_out_fake: 0.1415, g_loss_fake: 1.1075\r\n"
     ]
    },
    {
     "name": "stdout",
     "output_type": "stream",
     "text": [
      "Elapsed [11:41:30.880543], G_step [150200/1000000], D_step[150200/1000000], d_out_real: 0.0013, d_out_fake: 0.0042, g_loss_fake: 1.0727\r\n"
     ]
    },
    {
     "name": "stdout",
     "output_type": "stream",
     "text": [
      "Elapsed [11:41:41.590680], G_step [150210/1000000], D_step[150210/1000000], d_out_real: 0.1145, d_out_fake: 0.0717, g_loss_fake: 1.0033\r\n"
     ]
    },
    {
     "name": "stdout",
     "output_type": "stream",
     "text": [
      "Elapsed [11:41:52.459222], G_step [150220/1000000], D_step[150220/1000000], d_out_real: 0.0000, d_out_fake: 0.0050, g_loss_fake: 1.0717\r\n"
     ]
    },
    {
     "name": "stdout",
     "output_type": "stream",
     "text": [
      "Elapsed [11:42:04.348350], G_step [150230/1000000], D_step[150230/1000000], d_out_real: 0.0000, d_out_fake: 0.0004, g_loss_fake: 1.0378\r\n"
     ]
    },
    {
     "name": "stdout",
     "output_type": "stream",
     "text": [
      "Elapsed [11:42:14.957855], G_step [150240/1000000], D_step[150240/1000000], d_out_real: 0.1124, d_out_fake: 0.0047, g_loss_fake: 1.0294\r\n"
     ]
    },
    {
     "name": "stdout",
     "output_type": "stream",
     "text": [
      "Elapsed [11:42:26.221215], G_step [150250/1000000], D_step[150250/1000000], d_out_real: 0.1338, d_out_fake: 0.0000, g_loss_fake: 1.0811\r\n"
     ]
    },
    {
     "name": "stdout",
     "output_type": "stream",
     "text": [
      "Elapsed [11:42:36.855946], G_step [150260/1000000], D_step[150260/1000000], d_out_real: 0.0646, d_out_fake: 0.0000, g_loss_fake: 1.0719\r\n"
     ]
    },
    {
     "name": "stdout",
     "output_type": "stream",
     "text": [
      "Elapsed [11:42:47.592687], G_step [150270/1000000], D_step[150270/1000000], d_out_real: 0.1055, d_out_fake: 0.0000, g_loss_fake: 1.0215\r\n"
     ]
    },
    {
     "name": "stdout",
     "output_type": "stream",
     "text": [
      "Elapsed [11:42:59.091654], G_step [150280/1000000], D_step[150280/1000000], d_out_real: 0.1545, d_out_fake: 0.0000, g_loss_fake: 1.0785\r\n"
     ]
    },
    {
     "name": "stdout",
     "output_type": "stream",
     "text": [
      "Elapsed [11:43:10.378906], G_step [150290/1000000], D_step[150290/1000000], d_out_real: 0.2023, d_out_fake: 0.0025, g_loss_fake: 0.8895\r\n"
     ]
    },
    {
     "name": "stdout",
     "output_type": "stream",
     "text": [
      "Elapsed [11:43:21.839094], G_step [150300/1000000], D_step[150300/1000000], d_out_real: 0.0589, d_out_fake: 0.0000, g_loss_fake: 1.0325\r\n"
     ]
    },
    {
     "name": "stdout",
     "output_type": "stream",
     "text": [
      "Elapsed [11:43:34.159201], G_step [150310/1000000], D_step[150310/1000000], d_out_real: 0.0028, d_out_fake: 0.0008, g_loss_fake: 1.0729\r\n"
     ]
    },
    {
     "name": "stdout",
     "output_type": "stream",
     "text": [
      "Elapsed [11:43:45.295014], G_step [150320/1000000], D_step[150320/1000000], d_out_real: 0.0000, d_out_fake: 0.0000, g_loss_fake: 1.0708\r\n"
     ]
    },
    {
     "name": "stdout",
     "output_type": "stream",
     "text": [
      "Elapsed [11:43:55.746079], G_step [150330/1000000], D_step[150330/1000000], d_out_real: 0.1752, d_out_fake: 0.0000, g_loss_fake: 1.0095\r\n"
     ]
    },
    {
     "name": "stdout",
     "output_type": "stream",
     "text": [
      "Elapsed [11:44:07.029728], G_step [150340/1000000], D_step[150340/1000000], d_out_real: 0.0062, d_out_fake: 0.0329, g_loss_fake: 1.1170\r\n"
     ]
    },
    {
     "name": "stdout",
     "output_type": "stream",
     "text": [
      "Elapsed [11:44:17.647639], G_step [150350/1000000], D_step[150350/1000000], d_out_real: 0.0017, d_out_fake: 0.0000, g_loss_fake: 1.1224\r\n"
     ]
    },
    {
     "name": "stdout",
     "output_type": "stream",
     "text": [
      "Elapsed [11:44:28.222711], G_step [150360/1000000], D_step[150360/1000000], d_out_real: 0.1714, d_out_fake: 0.0044, g_loss_fake: 0.9843\r\n"
     ]
    },
    {
     "name": "stdout",
     "output_type": "stream",
     "text": [
      "Elapsed [11:44:38.893141], G_step [150370/1000000], D_step[150370/1000000], d_out_real: 0.1293, d_out_fake: 0.0523, g_loss_fake: 1.1447\r\n"
     ]
    },
    {
     "name": "stdout",
     "output_type": "stream",
     "text": [
      "Elapsed [11:44:49.791693], G_step [150380/1000000], D_step[150380/1000000], d_out_real: 0.1137, d_out_fake: 0.0571, g_loss_fake: 1.0664\r\n"
     ]
    },
    {
     "name": "stdout",
     "output_type": "stream",
     "text": [
      "Elapsed [11:45:01.240952], G_step [150390/1000000], D_step[150390/1000000], d_out_real: 0.0238, d_out_fake: 0.1459, g_loss_fake: 1.0864\r\n"
     ]
    },
    {
     "name": "stdout",
     "output_type": "stream",
     "text": [
      "Elapsed [11:45:12.135736], G_step [150400/1000000], D_step[150400/1000000], d_out_real: 0.0856, d_out_fake: 0.0000, g_loss_fake: 1.0472\r\n"
     ]
    },
    {
     "name": "stdout",
     "output_type": "stream",
     "text": [
      "Elapsed [11:45:23.116228], G_step [150410/1000000], D_step[150410/1000000], d_out_real: 0.0592, d_out_fake: 0.0001, g_loss_fake: 1.0725\r\n"
     ]
    },
    {
     "name": "stdout",
     "output_type": "stream",
     "text": [
      "Elapsed [11:45:33.833085], G_step [150420/1000000], D_step[150420/1000000], d_out_real: 0.2551, d_out_fake: 0.0005, g_loss_fake: 0.9484\r\n"
     ]
    },
    {
     "name": "stdout",
     "output_type": "stream",
     "text": [
      "Elapsed [11:45:45.408747], G_step [150430/1000000], D_step[150430/1000000], d_out_real: 0.1244, d_out_fake: 0.1129, g_loss_fake: 1.1012\r\n"
     ]
    },
    {
     "name": "stdout",
     "output_type": "stream",
     "text": [
      "Elapsed [11:45:56.350405], G_step [150440/1000000], D_step[150440/1000000], d_out_real: 0.0627, d_out_fake: 0.0000, g_loss_fake: 1.0332\r\n"
     ]
    },
    {
     "name": "stdout",
     "output_type": "stream",
     "text": [
      "Elapsed [11:46:08.415313], G_step [150450/1000000], D_step[150450/1000000], d_out_real: 0.0638, d_out_fake: 0.0004, g_loss_fake: 1.0757\r\n"
     ]
    },
    {
     "name": "stdout",
     "output_type": "stream",
     "text": [
      "Elapsed [11:46:20.390213], G_step [150460/1000000], D_step[150460/1000000], d_out_real: 0.1908, d_out_fake: 0.0000, g_loss_fake: 1.0516\r\n"
     ]
    },
    {
     "name": "stdout",
     "output_type": "stream",
     "text": [
      "Elapsed [11:46:31.061245], G_step [150470/1000000], D_step[150470/1000000], d_out_real: 0.0000, d_out_fake: 0.0230, g_loss_fake: 0.9471\r\n"
     ]
    },
    {
     "name": "stdout",
     "output_type": "stream",
     "text": [
      "Elapsed [11:46:42.367618], G_step [150480/1000000], D_step[150480/1000000], d_out_real: 0.0000, d_out_fake: 0.0530, g_loss_fake: 1.1069\r\n"
     ]
    },
    {
     "name": "stdout",
     "output_type": "stream",
     "text": [
      "Elapsed [11:46:53.369463], G_step [150490/1000000], D_step[150490/1000000], d_out_real: 0.0644, d_out_fake: 0.0010, g_loss_fake: 1.0733\r\n"
     ]
    },
    {
     "name": "stdout",
     "output_type": "stream",
     "text": [
      "Elapsed [11:47:04.403047], G_step [150500/1000000], D_step[150500/1000000], d_out_real: 0.1335, d_out_fake: 0.0000, g_loss_fake: 1.1138\r\n"
     ]
    },
    {
     "name": "stdout",
     "output_type": "stream",
     "text": [
      "Elapsed [11:47:16.396470], G_step [150510/1000000], D_step[150510/1000000], d_out_real: 0.0635, d_out_fake: 0.0000, g_loss_fake: 1.0658\r\n"
     ]
    },
    {
     "name": "stdout",
     "output_type": "stream",
     "text": [
      "Elapsed [11:47:27.703083], G_step [150520/1000000], D_step[150520/1000000], d_out_real: 0.1217, d_out_fake: 0.0000, g_loss_fake: 1.0952\r\n"
     ]
    },
    {
     "name": "stdout",
     "output_type": "stream",
     "text": [
      "Elapsed [11:47:38.304594], G_step [150530/1000000], D_step[150530/1000000], d_out_real: 0.0005, d_out_fake: 0.0026, g_loss_fake: 1.0766\r\n"
     ]
    },
    {
     "name": "stdout",
     "output_type": "stream",
     "text": [
      "Elapsed [11:47:49.833688], G_step [150540/1000000], D_step[150540/1000000], d_out_real: 0.0095, d_out_fake: 0.0000, g_loss_fake: 1.1235\r\n"
     ]
    },
    {
     "name": "stdout",
     "output_type": "stream",
     "text": [
      "Elapsed [11:48:00.534826], G_step [150550/1000000], D_step[150550/1000000], d_out_real: 0.0632, d_out_fake: 0.0493, g_loss_fake: 1.0561\r\n"
     ]
    },
    {
     "name": "stdout",
     "output_type": "stream",
     "text": [
      "Elapsed [11:48:11.194218], G_step [150560/1000000], D_step[150560/1000000], d_out_real: 0.0405, d_out_fake: 0.0000, g_loss_fake: 1.1289\r\n"
     ]
    },
    {
     "name": "stdout",
     "output_type": "stream",
     "text": [
      "Elapsed [11:48:21.996526], G_step [150570/1000000], D_step[150570/1000000], d_out_real: 0.0000, d_out_fake: 0.0466, g_loss_fake: 1.0837\r\n"
     ]
    },
    {
     "name": "stdout",
     "output_type": "stream",
     "text": [
      "Elapsed [11:48:33.030584], G_step [150580/1000000], D_step[150580/1000000], d_out_real: 0.0000, d_out_fake: 0.0019, g_loss_fake: 1.0358\r\n"
     ]
    },
    {
     "name": "stdout",
     "output_type": "stream",
     "text": [
      "Elapsed [11:48:43.700959], G_step [150590/1000000], D_step[150590/1000000], d_out_real: 0.0000, d_out_fake: 0.0505, g_loss_fake: 1.1085\r\n"
     ]
    },
    {
     "name": "stdout",
     "output_type": "stream",
     "text": [
      "Elapsed [11:48:56.397177], G_step [150600/1000000], D_step[150600/1000000], d_out_real: 0.0017, d_out_fake: 0.0000, g_loss_fake: 1.0988\r\n"
     ]
    },
    {
     "name": "stdout",
     "output_type": "stream",
     "text": [
      "Elapsed [11:49:07.879772], G_step [150610/1000000], D_step[150610/1000000], d_out_real: 0.0221, d_out_fake: 0.0846, g_loss_fake: 1.0830\r\n"
     ]
    },
    {
     "name": "stdout",
     "output_type": "stream",
     "text": [
      "Elapsed [11:49:18.703426], G_step [150620/1000000], D_step[150620/1000000], d_out_real: 0.1887, d_out_fake: 0.0030, g_loss_fake: 1.0544\r\n"
     ]
    },
    {
     "name": "stdout",
     "output_type": "stream",
     "text": [
      "Elapsed [11:49:29.245095], G_step [150630/1000000], D_step[150630/1000000], d_out_real: 0.0494, d_out_fake: 0.0072, g_loss_fake: 1.0712\r\n"
     ]
    },
    {
     "name": "stdout",
     "output_type": "stream",
     "text": [
      "Elapsed [11:49:39.904231], G_step [150640/1000000], D_step[150640/1000000], d_out_real: 0.0000, d_out_fake: 0.0000, g_loss_fake: 1.0861\r\n"
     ]
    },
    {
     "name": "stdout",
     "output_type": "stream",
     "text": [
      "Elapsed [11:49:51.382707], G_step [150650/1000000], D_step[150650/1000000], d_out_real: 0.0948, d_out_fake: 0.0000, g_loss_fake: 1.0191\r\n"
     ]
    },
    {
     "name": "stdout",
     "output_type": "stream",
     "text": [
      "Elapsed [11:50:01.977003], G_step [150660/1000000], D_step[150660/1000000], d_out_real: 0.0626, d_out_fake: 0.0023, g_loss_fake: 0.9879\r\n"
     ]
    },
    {
     "name": "stdout",
     "output_type": "stream",
     "text": [
      "Elapsed [11:50:12.861137], G_step [150670/1000000], D_step[150670/1000000], d_out_real: 0.0497, d_out_fake: 0.0000, g_loss_fake: 1.0404\r\n"
     ]
    },
    {
     "name": "stdout",
     "output_type": "stream",
     "text": [
      "Elapsed [11:50:23.415492], G_step [150680/1000000], D_step[150680/1000000], d_out_real: 0.0905, d_out_fake: 0.0000, g_loss_fake: 1.0404\r\n"
     ]
    },
    {
     "name": "stdout",
     "output_type": "stream",
     "text": [
      "Elapsed [11:50:34.295433], G_step [150690/1000000], D_step[150690/1000000], d_out_real: 0.1227, d_out_fake: 0.0074, g_loss_fake: 1.1204\r\n"
     ]
    },
    {
     "name": "stdout",
     "output_type": "stream",
     "text": [
      "Elapsed [11:50:45.389525], G_step [150700/1000000], D_step[150700/1000000], d_out_real: 0.1277, d_out_fake: 0.2320, g_loss_fake: 0.8733\r\n"
     ]
    },
    {
     "name": "stdout",
     "output_type": "stream",
     "text": [
      "Elapsed [11:50:56.680217], G_step [150710/1000000], D_step[150710/1000000], d_out_real: 0.1399, d_out_fake: 0.0345, g_loss_fake: 1.0490\r\n"
     ]
    },
    {
     "name": "stdout",
     "output_type": "stream",
     "text": [
      "Elapsed [11:51:07.308159], G_step [150720/1000000], D_step[150720/1000000], d_out_real: 0.1901, d_out_fake: 0.0000, g_loss_fake: 1.0018\r\n"
     ]
    },
    {
     "name": "stdout",
     "output_type": "stream",
     "text": [
      "Elapsed [11:51:18.661098], G_step [150730/1000000], D_step[150730/1000000], d_out_real: 0.1026, d_out_fake: 0.0707, g_loss_fake: 1.0403\r\n"
     ]
    },
    {
     "name": "stdout",
     "output_type": "stream",
     "text": [
      "Elapsed [11:51:29.460075], G_step [150740/1000000], D_step[150740/1000000], d_out_real: 0.0641, d_out_fake: 0.0000, g_loss_fake: 1.0549\r\n"
     ]
    },
    {
     "name": "stdout",
     "output_type": "stream",
     "text": [
      "Elapsed [11:51:39.984473], G_step [150750/1000000], D_step[150750/1000000], d_out_real: 0.0967, d_out_fake: 0.1211, g_loss_fake: 1.0120\r\n"
     ]
    },
    {
     "name": "stdout",
     "output_type": "stream",
     "text": [
      "Elapsed [11:51:51.391004], G_step [150760/1000000], D_step[150760/1000000], d_out_real: 0.0828, d_out_fake: 0.0011, g_loss_fake: 1.0248\r\n"
     ]
    },
    {
     "name": "stdout",
     "output_type": "stream",
     "text": [
      "Elapsed [11:52:03.067772], G_step [150770/1000000], D_step[150770/1000000], d_out_real: 0.0585, d_out_fake: 0.0000, g_loss_fake: 1.0536\r\n"
     ]
    },
    {
     "name": "stdout",
     "output_type": "stream",
     "text": [
      "Elapsed [11:52:13.862021], G_step [150780/1000000], D_step[150780/1000000], d_out_real: 0.0000, d_out_fake: 0.0542, g_loss_fake: 1.0990\r\n"
     ]
    },
    {
     "name": "stdout",
     "output_type": "stream",
     "text": [
      "Elapsed [11:52:24.763558], G_step [150790/1000000], D_step[150790/1000000], d_out_real: 0.1230, d_out_fake: 0.0000, g_loss_fake: 1.0366\r\n"
     ]
    },
    {
     "name": "stdout",
     "output_type": "stream",
     "text": [
      "Elapsed [11:52:35.706981], G_step [150800/1000000], D_step[150800/1000000], d_out_real: 0.0000, d_out_fake: 0.0000, g_loss_fake: 1.1119\r\n"
     ]
    },
    {
     "name": "stdout",
     "output_type": "stream",
     "text": [
      "Elapsed [11:52:47.006563], G_step [150810/1000000], D_step[150810/1000000], d_out_real: 0.0154, d_out_fake: 0.0150, g_loss_fake: 1.1185\r\n"
     ]
    },
    {
     "name": "stdout",
     "output_type": "stream",
     "text": [
      "Elapsed [11:52:57.909187], G_step [150820/1000000], D_step[150820/1000000], d_out_real: 0.1332, d_out_fake: 0.0000, g_loss_fake: 1.0316\r\n"
     ]
    },
    {
     "name": "stdout",
     "output_type": "stream",
     "text": [
      "Elapsed [11:53:08.461627], G_step [150830/1000000], D_step[150830/1000000], d_out_real: 0.0909, d_out_fake: 0.0122, g_loss_fake: 0.9645\r\n"
     ]
    },
    {
     "name": "stdout",
     "output_type": "stream",
     "text": [
      "Elapsed [11:53:19.331095], G_step [150840/1000000], D_step[150840/1000000], d_out_real: 0.1043, d_out_fake: 0.0177, g_loss_fake: 1.0183\r\n"
     ]
    },
    {
     "name": "stdout",
     "output_type": "stream",
     "text": [
      "Elapsed [11:53:30.152457], G_step [150850/1000000], D_step[150850/1000000], d_out_real: 0.0000, d_out_fake: 0.1055, g_loss_fake: 1.1031\r\n"
     ]
    },
    {
     "name": "stdout",
     "output_type": "stream",
     "text": [
      "Elapsed [11:53:41.174536], G_step [150860/1000000], D_step[150860/1000000], d_out_real: 0.0517, d_out_fake: 0.0820, g_loss_fake: 1.1551\r\n"
     ]
    },
    {
     "name": "stdout",
     "output_type": "stream",
     "text": [
      "Elapsed [11:53:52.769380], G_step [150870/1000000], D_step[150870/1000000], d_out_real: 0.0000, d_out_fake: 0.0388, g_loss_fake: 1.1661\r\n"
     ]
    },
    {
     "name": "stdout",
     "output_type": "stream",
     "text": [
      "Elapsed [11:54:03.870409], G_step [150880/1000000], D_step[150880/1000000], d_out_real: 0.0432, d_out_fake: 0.0124, g_loss_fake: 1.1231\r\n"
     ]
    },
    {
     "name": "stdout",
     "output_type": "stream",
     "text": [
      "Elapsed [11:54:15.148999], G_step [150890/1000000], D_step[150890/1000000], d_out_real: 0.0000, d_out_fake: 0.0000, g_loss_fake: 1.0498\r\n"
     ]
    },
    {
     "name": "stdout",
     "output_type": "stream",
     "text": [
      "Elapsed [11:54:25.813665], G_step [150900/1000000], D_step[150900/1000000], d_out_real: 0.0042, d_out_fake: 0.1288, g_loss_fake: 1.0716\r\n"
     ]
    },
    {
     "name": "stdout",
     "output_type": "stream",
     "text": [
      "Elapsed [11:54:36.668461], G_step [150910/1000000], D_step[150910/1000000], d_out_real: 0.0626, d_out_fake: 0.0734, g_loss_fake: 1.0346\r\n"
     ]
    },
    {
     "name": "stdout",
     "output_type": "stream",
     "text": [
      "Elapsed [11:54:47.494734], G_step [150920/1000000], D_step[150920/1000000], d_out_real: 0.0000, d_out_fake: 0.0000, g_loss_fake: 1.1332\r\n"
     ]
    },
    {
     "name": "stdout",
     "output_type": "stream",
     "text": [
      "Elapsed [11:54:58.906806], G_step [150930/1000000], D_step[150930/1000000], d_out_real: 0.0000, d_out_fake: 0.0778, g_loss_fake: 1.1079\r\n"
     ]
    },
    {
     "name": "stdout",
     "output_type": "stream",
     "text": [
      "Elapsed [11:55:10.233494], G_step [150940/1000000], D_step[150940/1000000], d_out_real: 0.0551, d_out_fake: 0.0000, g_loss_fake: 1.0054\r\n"
     ]
    },
    {
     "name": "stdout",
     "output_type": "stream",
     "text": [
      "Elapsed [11:55:20.981994], G_step [150950/1000000], D_step[150950/1000000], d_out_real: 0.1338, d_out_fake: 0.0691, g_loss_fake: 1.0258\r\n"
     ]
    },
    {
     "name": "stdout",
     "output_type": "stream",
     "text": [
      "Elapsed [11:55:31.761664], G_step [150960/1000000], D_step[150960/1000000], d_out_real: 0.0000, d_out_fake: 0.0003, g_loss_fake: 1.0108\r\n"
     ]
    },
    {
     "name": "stdout",
     "output_type": "stream",
     "text": [
      "Elapsed [11:55:43.523246], G_step [150970/1000000], D_step[150970/1000000], d_out_real: 0.1305, d_out_fake: 0.0027, g_loss_fake: 1.0642\r\n"
     ]
    },
    {
     "name": "stdout",
     "output_type": "stream",
     "text": [
      "Elapsed [11:55:54.349025], G_step [150980/1000000], D_step[150980/1000000], d_out_real: 0.1171, d_out_fake: 0.0736, g_loss_fake: 1.0470\r\n"
     ]
    },
    {
     "name": "stdout",
     "output_type": "stream",
     "text": [
      "Elapsed [11:56:05.479418], G_step [150990/1000000], D_step[150990/1000000], d_out_real: 0.0280, d_out_fake: 0.0018, g_loss_fake: 1.0718\r\n"
     ]
    },
    {
     "name": "stdout",
     "output_type": "stream",
     "text": [
      "Elapsed [11:56:16.823826], G_step [151000/1000000], D_step[151000/1000000], d_out_real: 0.0014, d_out_fake: 0.0005, g_loss_fake: 0.9895\r\n",
      "Sample images 151000_fake.png\r\n"
     ]
    },
    {
     "name": "stdout",
     "output_type": "stream",
     "text": [
      "Elapsed [11:56:27.908552], G_step [151010/1000000], D_step[151010/1000000], d_out_real: 0.0667, d_out_fake: 0.0376, g_loss_fake: 1.1365\r\n"
     ]
    },
    {
     "name": "stdout",
     "output_type": "stream",
     "text": [
      "Elapsed [11:56:39.250540], G_step [151020/1000000], D_step[151020/1000000], d_out_real: 0.0654, d_out_fake: 0.0000, g_loss_fake: 1.0973\r\n"
     ]
    },
    {
     "name": "stdout",
     "output_type": "stream",
     "text": [
      "Elapsed [11:56:49.868863], G_step [151030/1000000], D_step[151030/1000000], d_out_real: 0.0000, d_out_fake: 0.0004, g_loss_fake: 0.9626\r\n"
     ]
    },
    {
     "name": "stdout",
     "output_type": "stream",
     "text": [
      "Elapsed [11:57:01.520584], G_step [151040/1000000], D_step[151040/1000000], d_out_real: 0.0643, d_out_fake: 0.0000, g_loss_fake: 1.0424\r\n"
     ]
    },
    {
     "name": "stdout",
     "output_type": "stream",
     "text": [
      "Elapsed [11:57:12.727535], G_step [151050/1000000], D_step[151050/1000000], d_out_real: 0.0509, d_out_fake: 0.0347, g_loss_fake: 1.0450\r\n"
     ]
    },
    {
     "name": "stdout",
     "output_type": "stream",
     "text": [
      "Elapsed [11:57:23.664428], G_step [151060/1000000], D_step[151060/1000000], d_out_real: 0.1508, d_out_fake: 0.0000, g_loss_fake: 0.7359\r\n"
     ]
    },
    {
     "name": "stdout",
     "output_type": "stream",
     "text": [
      "Elapsed [11:57:34.582733], G_step [151070/1000000], D_step[151070/1000000], d_out_real: 0.1440, d_out_fake: 0.0001, g_loss_fake: 0.9973\r\n"
     ]
    },
    {
     "name": "stdout",
     "output_type": "stream",
     "text": [
      "Elapsed [11:57:45.232937], G_step [151080/1000000], D_step[151080/1000000], d_out_real: 0.0128, d_out_fake: 0.0736, g_loss_fake: 1.0839\r\n"
     ]
    },
    {
     "name": "stdout",
     "output_type": "stream",
     "text": [
      "Elapsed [11:57:56.321574], G_step [151090/1000000], D_step[151090/1000000], d_out_real: 0.1018, d_out_fake: 0.0291, g_loss_fake: 1.0947\r\n"
     ]
    },
    {
     "name": "stdout",
     "output_type": "stream",
     "text": [
      "Elapsed [11:58:07.442878], G_step [151100/1000000], D_step[151100/1000000], d_out_real: 0.0646, d_out_fake: 0.0000, g_loss_fake: 1.1087\r\n"
     ]
    },
    {
     "name": "stdout",
     "output_type": "stream",
     "text": [
      "Elapsed [11:58:18.902104], G_step [151110/1000000], D_step[151110/1000000], d_out_real: 0.0642, d_out_fake: 0.0000, g_loss_fake: 1.0688\r\n"
     ]
    },
    {
     "name": "stdout",
     "output_type": "stream",
     "text": [
      "Elapsed [11:58:30.230906], G_step [151120/1000000], D_step[151120/1000000], d_out_real: 0.0645, d_out_fake: 0.0110, g_loss_fake: 1.1263\r\n"
     ]
    },
    {
     "name": "stdout",
     "output_type": "stream",
     "text": [
      "Elapsed [11:58:41.101365], G_step [151130/1000000], D_step[151130/1000000], d_out_real: 0.1640, d_out_fake: 0.1449, g_loss_fake: 1.0433\r\n"
     ]
    },
    {
     "name": "stdout",
     "output_type": "stream",
     "text": [
      "Elapsed [11:58:52.279024], G_step [151140/1000000], D_step[151140/1000000], d_out_real: 0.0649, d_out_fake: 0.0562, g_loss_fake: 1.0390\r\n"
     ]
    }
   ],
   "source": [
    "!python /kaggle/input/big-gan/code/main.py --version abstract3 --adv_loss hinge --batch_size 32 --pretrained_model 112464 --train True --parallel True --gpus \"0, 1\" --image_path /kaggle/input/abstract-37k/Abstract-jpg/Train --model_save_step 2 "
   ]
  }
 ],
 "metadata": {
  "kernelspec": {
   "display_name": "Python 3",
   "language": "python",
   "name": "python3"
  },
  "language_info": {
   "codemirror_mode": {
    "name": "ipython",
    "version": 3
   },
   "file_extension": ".py",
   "mimetype": "text/x-python",
   "name": "python",
   "nbconvert_exporter": "python",
   "pygments_lexer": "ipython3",
   "version": "3.6.4"
  },
  "papermill": {
   "default_parameters": {},
   "duration": null,
   "end_time": null,
   "environment_variables": {},
   "exception": null,
   "input_path": "__notebook__.ipynb",
   "output_path": "__notebook__.ipynb",
   "parameters": {},
   "start_time": "2023-05-15T07:08:12.246710",
   "version": "2.4.0"
  }
 },
 "nbformat": 4,
 "nbformat_minor": 5
}